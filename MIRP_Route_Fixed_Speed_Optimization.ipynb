{
 "cells": [
  {
   "cell_type": "code",
   "execution_count": 1,
   "metadata": {},
   "outputs": [],
   "source": [
    "import pandas as pd\n",
    "import numpy as np\n",
    "import gurobipy as gp\n",
    "from gurobipy import GRB\n",
    "import networkx as nx\n",
    "import matplotlib.pyplot as plt\n",
    "import math\n"
   ]
  },
  {
   "cell_type": "markdown",
   "metadata": {},
   "source": [
    "### INSTANCE"
   ]
  },
  {
   "cell_type": "code",
   "execution_count": 2,
   "metadata": {},
   "outputs": [],
   "source": [
    "# INSTANCE = 'LR1_1_DR1_3_VC1_V7a'\n",
    "INSTANCE = 'LR1_1_DR1_4_VC3_V8a'\n",
    "# INSTANCE = 'LR1_1_DR1_4_VC3_V9a'\n",
    "# INSTANCE = 'LR1_1_DR1_4_VC3_V11a'\n",
    "# INSTANCE = 'LR1_1_DR1_4_VC3_V12a'\n",
    "# INSTANCE = 'LR1_2_DR1_3_VC2_V6a'\n",
    "\n",
    "# INSTANCE = 'LR1_1_DR1_4_VC3_V12b'\n",
    "# INSTANCE = 'LR1_2_DR1_3_VC3_V8a'\n",
    "# INSTANCE = 'LR2_11_DR2_22_VC3_V6a'\n",
    "# INSTANCE = 'LR2_11_DR2_33_VC4_V11a'\n",
    "\n",
    "INSTANCE_PATH = INSTANCE+'/'+INSTANCE+'.txt'\n",
    "VESSELINFO_PATH = INSTANCE+'/vessel_data.txt'"
   ]
  },
  {
   "cell_type": "markdown",
   "metadata": {},
   "source": [
    "### LOGGING"
   ]
  },
  {
   "cell_type": "code",
   "execution_count": 3,
   "metadata": {},
   "outputs": [],
   "source": [
    "LOG = True\n",
    "\n",
    "FA = True\n",
    "# FA = False\n",
    "\n",
    "if FA:\n",
    "    FILEPATH = f'new_official_solutions/{INSTANCE}/MIRP_RF_SPEED_OPTI_results_{INSTANCE}_45_FA.txt'\n",
    "else:\n",
    "    FILEPATH = f'new_official_solutions/{INSTANCE}/MIRP_RF_SPEED_OPTI_results_{INSTANCE}_45_NA.txt'\n",
    "\n",
    "# FILEPATH = 'solutions/MIRP_RF_SPEED_OPTI_GARBAGE.txt'"
   ]
  },
  {
   "cell_type": "markdown",
   "metadata": {},
   "source": [
    "### MIRP-Solution"
   ]
  },
  {
   "cell_type": "code",
   "execution_count": 4,
   "metadata": {},
   "outputs": [],
   "source": [
    "MIRP_SOL = f'new_official_solutions/{INSTANCE}/MIRP_operating_speed_results_{INSTANCE}_45_noGR.txt'\n",
    "# MIRP_SOL = 'solutions/MIRP_operating_speed_GARBAGE.txt'\n",
    "\n",
    "# MIRP_operating_speed_results_LR1_1_DR1_3_VC1_V7a_45_noGR\n",
    "# new_official_solutions/LR1_1_DR1_3_VC1_V7a/MIRP_operating_speed_results_LR1_1_DR1_3_VC1_V7a_45_noGR.txt"
   ]
  },
  {
   "cell_type": "code",
   "execution_count": 5,
   "metadata": {},
   "outputs": [
    {
     "name": "stdout",
     "output_type": "stream",
     "text": [
      "Set parameter Username\n",
      "Academic license - for non-commercial use only - expires 2024-01-18\n"
     ]
    }
   ],
   "source": [
    "m = gp.Model('MIRP Route Fixed with Speed Optimization')"
   ]
  },
  {
   "cell_type": "markdown",
   "metadata": {},
   "source": [
    "# Creating classes in order organize the code"
   ]
  },
  {
   "cell_type": "code",
   "execution_count": 6,
   "metadata": {},
   "outputs": [],
   "source": [
    "class Port:\n",
    "    def __init__(self, capacity, inventory, rate, price, berth_limit, port_fee, max_amount, min_amount, number, isLoadingPort):\n",
    "        self.capacity = capacity\n",
    "        self.inventory = inventory\n",
    "        self.rate = rate\n",
    "        self.price = price \n",
    "        self.berth_limit = berth_limit \n",
    "        self.port_fee = port_fee\n",
    "        self.max_amount = max_amount\n",
    "        self.min_amount = min_amount\n",
    "        self.number = number\n",
    "        self.isLoadingPort = isLoadingPort\n",
    "        \n",
    "    def __repr__(self):\n",
    "        return f'Port {self.number}'\n",
    "    \n",
    "    def __repr2__(self):\n",
    "        return f'Port {self.number}: Capacity = {self.capacity}, Inventory = {self.inventory}, Rate = {self.rate}, Price = {self.price}, Berth Limit = {self.berth_limit}, Port Fee = {self.port_fee}, Max Amount = {self.max_amount}, Min Amount = {self.min_amount}, is Loading Port = {self.isLoadingPort}'\n",
    "        \n",
    "    \n",
    "\n",
    "class Node:\n",
    "    def __init__(self, port, time):\n",
    "        self.port = port\n",
    "        self.time = time\n",
    "        self.tuple = (port.number if port else None, time)\n",
    "        self.incoming_arcs = set()\n",
    "        self.outgoing_arcs = set()\n",
    "        self.berths = port.berth_limit if port else None\n",
    "    \n",
    "    def __repr__(self):\n",
    "        return str(self.tuple)\n",
    "\n",
    "\n",
    "class Arc:\n",
    "    def __init__(self, origin_node, destination_node, distance, cost, travel_time, speed, is_waiting_arc):\n",
    "        self.origin_node = origin_node\n",
    "        self.destination_node = destination_node\n",
    "        self.tuple = (origin_node, destination_node)\n",
    "        self.distance = distance\n",
    "        self.cost = cost\n",
    "        self.travel_time = travel_time\n",
    "        self.speed = speed\n",
    "        self.is_waiting_arc = is_waiting_arc\n",
    "            \n",
    "    def __repr__(self):\n",
    "        return f'{self.origin_node} -> {self.destination_node} --- Cost: {self.cost} --- Speed: {self.speed}'\n",
    "\n",
    "class Vessel:\n",
    "    def __init__(self, max_inventory, initial_inventory, max_operating_quantity, number):\n",
    "        self.max_inventory = int(max_inventory)\n",
    "        self.inventory = initial_inventory\n",
    "        self.max_operating_quantity = max_operating_quantity\n",
    "        self.number = number\n",
    "        self.arcs = set()\n",
    "        self.all_arcs_v = set()\n",
    "        \n",
    "    def __repr__(self):\n",
    "        return f'Vessel {self.number}'\n",
    "\n",
    "    def __repr2__(self):\n",
    "        return f'Vessel {self.number}: Max Inventory = {self.max_inventory}, Inventory = {self.inventory}, Max Operating Quantity = {self.max_operating_quantity}'\n",
    "        "
   ]
  },
  {
   "cell_type": "markdown",
   "metadata": {},
   "source": [
    "### Read in file"
   ]
  },
  {
   "cell_type": "code",
   "execution_count": 7,
   "metadata": {},
   "outputs": [],
   "source": [
    "# Read the content of the provided file\n",
    "with open(INSTANCE_PATH, 'r') as file:\n",
    "    content = file.read()"
   ]
  },
  {
   "cell_type": "markdown",
   "metadata": {},
   "source": [
    "## Read in metadata"
   ]
  },
  {
   "cell_type": "code",
   "execution_count": 8,
   "metadata": {},
   "outputs": [],
   "source": [
    "def parse_metadata(content):\n",
    "    metadata = {}\n",
    "    start_index = content.index(\"----- MetaData -----\") + len(\"----- MetaData -----\")\n",
    "    end_index = content.find(\"\\n\\n\", start_index) if \"\\n\\n\" in content[start_index:] else len(content)\n",
    "    metadata_section = content[start_index:end_index].strip().split(\"\\n\")\n",
    "    \n",
    "    for line in metadata_section:\n",
    "        if \":\" in line:\n",
    "            key, value = line.split(\":\", 1)\n",
    "            metadata[key.strip()] = value.strip()\n",
    "    \n",
    "    return metadata\n",
    "\n",
    "def safe_convert(value, data_type):\n",
    "    try:\n",
    "        if data_type == 'int':\n",
    "            return int(value)\n",
    "        elif data_type == 'float':\n",
    "            return float(value)\n",
    "        elif data_type == 'list':\n",
    "            # Handle different list formats\n",
    "            if value.startswith('[') and value.endswith(']'):\n",
    "                # Remove brackets, split by comma and strip spaces\n",
    "                return [int(x.strip()) for x in value[1:-1].split(',')]\n",
    "            else:\n",
    "                # Split by space or other delimiters if necessary\n",
    "                return [int(x.strip()) for x in value.split()]\n",
    "    except (ValueError, TypeError):\n",
    "        return None\n",
    "\n",
    "\n",
    "def read_and_assign_metadata_from_content(content):\n",
    "    metadata = parse_metadata(content)\n",
    "    \n",
    "    numPeriods = safe_convert(metadata.get('numPeriods', '').split()[-1], 'int')\n",
    "    numCommodities = safe_convert(metadata.get('numCommodities'), 'int')\n",
    "    numLoadingRegions = safe_convert(metadata.get('numLoadingRegions'), 'int')\n",
    "    numDischargingRegions = safe_convert(metadata.get('numDischargingRegions'), 'int')\n",
    "    numLoadingPortsInRegion = safe_convert(metadata.get('numLoadingPortsInRegion', '[]'), 'list')\n",
    "    numDischargingPortsInRegion = safe_convert(metadata.get('numDischargingPortsInRegion', '[]'), 'list')\n",
    "    numVesselClasses = safe_convert(metadata.get('numVesselClasses'), 'int')\n",
    "    numTermVesselsInClass = safe_convert(metadata.get('numTermVesselsInClass', '[]'), 'list')\n",
    "    hoursPerPeriod = safe_convert(metadata.get('hoursPerPeriod'), 'int')\n",
    "    spotMarketPricePerUnit = safe_convert(metadata.get('spotMarketPricePerUnit'), 'float')\n",
    "    spotMarketDiscountFactor = safe_convert(metadata.get('spotMarketDiscountFactor'), 'float')\n",
    "    perPeriodRewardForFinishingEarly = safe_convert(metadata.get('perPeriodRewardForFinishingEarly', '0'), 'float')\n",
    "    attemptCost = safe_convert(metadata.get('attemptCost', '0'), 'float')\n",
    "    constantForSinglePeriodAlphaSlack = safe_convert(metadata.get('constantForSinglePeriodAlphaSlack', '0'), 'float')\n",
    "    constantForCumulativeAlphaSlack = safe_convert(metadata.get('constantForCumulativeAlphaSlack', '0'), 'float')\n",
    "    \n",
    "    return {\n",
    "        'numPeriods': numPeriods,\n",
    "        'numCommodities': numCommodities,\n",
    "        'numLoadingRegions': numLoadingRegions,\n",
    "        'numDischargingRegions': numDischargingRegions,\n",
    "        'numLoadingPortsInRegion': numLoadingPortsInRegion,\n",
    "        'numDischargingPortsInRegion': numDischargingPortsInRegion,\n",
    "        'numVesselClasses': numVesselClasses,\n",
    "        'numTermVesselsInClass': numTermVesselsInClass,\n",
    "        'hoursPerPeriod': hoursPerPeriod,\n",
    "        'spotMarketPricePerUnit': spotMarketPricePerUnit,\n",
    "        'spotMarketDiscountFactor': spotMarketDiscountFactor,\n",
    "        'perPeriodRewardForFinishingEarly': perPeriodRewardForFinishingEarly,\n",
    "        'attemptCost': attemptCost,\n",
    "        'constantForSinglePeriodAlphaSlack': constantForSinglePeriodAlphaSlack,\n",
    "        'constantForCumulativeAlphaSlack': constantForCumulativeAlphaSlack\n",
    "    }\n",
    "\n",
    "# Using the refactored function with the already-read content\n",
    "metadata_from_content = read_and_assign_metadata_from_content(content)\n"
   ]
  },
  {
   "cell_type": "markdown",
   "metadata": {},
   "source": [
    "### Manual adjustments for the metadata"
   ]
  },
  {
   "cell_type": "code",
   "execution_count": 9,
   "metadata": {},
   "outputs": [],
   "source": [
    "'''We only handle one vesseltype for now'''\n",
    "metadata_from_content['numVesselClasses'] = 1\n",
    "# Therefore we set all of the vessels to be of the same type. Type 1\n",
    "vessels_in_classes = metadata_from_content['numTermVesselsInClass']\n",
    "metadata_from_content['numTermVesselsInClass'] = [sum(vessels_in_classes)]"
   ]
  },
  {
   "cell_type": "code",
   "execution_count": 10,
   "metadata": {},
   "outputs": [],
   "source": [
    "\n",
    "# Change the numPeriods manually.\n",
    "ORIGINAL_NUM_TIME_PERIODS = metadata_from_content['numPeriods']"
   ]
  },
  {
   "cell_type": "markdown",
   "metadata": {},
   "source": [
    "### Vessel info"
   ]
  },
  {
   "cell_type": "code",
   "execution_count": 11,
   "metadata": {},
   "outputs": [],
   "source": [
    "with open(VESSELINFO_PATH, 'r') as file:\n",
    "    file_content = file.read()"
   ]
  },
  {
   "cell_type": "code",
   "execution_count": 12,
   "metadata": {},
   "outputs": [
    {
     "data": {
      "text/plain": [
       "{'Vessel_0': {'Initial Inventory': 300,\n",
       "  'Initial Port': 'DischargeRegion_0_Port_2',\n",
       "  'First Time Available': 6},\n",
       " 'Vessel_1': {'Initial Inventory': 0,\n",
       "  'Initial Port': 'LoadingRegion_0_Port_0',\n",
       "  'First Time Available': 7},\n",
       " 'Vessel_2': {'Initial Inventory': 0,\n",
       "  'Initial Port': 'LoadingRegion_0_Port_0',\n",
       "  'First Time Available': 0},\n",
       " 'Vessel_3': {'Initial Inventory': 0,\n",
       "  'Initial Port': 'LoadingRegion_0_Port_0',\n",
       "  'First Time Available': 5},\n",
       " 'Vessel_4': {'Initial Inventory': 0,\n",
       "  'Initial Port': 'LoadingRegion_0_Port_0',\n",
       "  'First Time Available': 2},\n",
       " 'Vessel_5': {'Initial Inventory': 300,\n",
       "  'Initial Port': 'DischargeRegion_0_Port_0',\n",
       "  'First Time Available': 1},\n",
       " 'Vessel_6': {'Initial Inventory': 300,\n",
       "  'Initial Port': 'DischargeRegion_0_Port_1',\n",
       "  'First Time Available': 4}}"
      ]
     },
     "execution_count": 12,
     "metadata": {},
     "output_type": "execute_result"
    }
   ],
   "source": [
    "import re\n",
    "\n",
    "# Regular expression to extract vessel information including first time available\n",
    "pattern = r\"name\\s+Vessel_(\\d+)\\s+.*?initialInventory\\s+(\\d+)\\s+initialPort\\s+([\\w_]+)\\s+firstTimeAvailable\\s+(\\d+)\"\n",
    "\n",
    "# Finding all matches\n",
    "vessel_info = re.findall(pattern, file_content, re.DOTALL)\n",
    "\n",
    "# Creating a dictionary to store the information\n",
    "vessel_data = {}\n",
    "for vessel in vessel_info:\n",
    "    vessel_index = int(vessel[0])\n",
    "    initial_inventory = int(vessel[1])\n",
    "    initial_port = vessel[2]\n",
    "    first_time_available = int(vessel[3])\n",
    "\n",
    "    # Storing in dictionary\n",
    "    vessel_data[f\"Vessel_{vessel_index}\"] = {\n",
    "        \"Initial Inventory\": initial_inventory,\n",
    "        \"Initial Port\": initial_port,\n",
    "        \"First Time Available\": first_time_available\n",
    "    }\n",
    "\n",
    "vessel_data  # Displaying the dictionary\n"
   ]
  },
  {
   "cell_type": "markdown",
   "metadata": {},
   "source": [
    "### Read in port data"
   ]
  },
  {
   "cell_type": "code",
   "execution_count": 13,
   "metadata": {},
   "outputs": [],
   "source": [
    "def parse_region_table(content):\n",
    "    # Extract the region table section\n",
    "    start_index = content.index(\"----- Region Table ----\") + len(\"----- Region Table ----\")\n",
    "    end_index = content.find(\"-----\", start_index)  # Find the next section separator\n",
    "    region_section = content[start_index:end_index].strip().split(\"\\n\")[1:]  # Exclude the header line\n",
    "    regions = {}\n",
    "    for line in region_section:\n",
    "        if \"Note:\" not in line:  # Exclude the note lines\n",
    "            attribute, *values = line.split()\n",
    "            regions[attribute] = values\n",
    "    return regions\n",
    "\n",
    "\n",
    "def parse_port_table_for_region(content, region_index):\n",
    "    # Extract the port table section for the specified region\n",
    "    search_str = f\"----- Port Table For Region {region_index} ----\"\n",
    "    start_index = content.index(search_str) + len(search_str)\n",
    "    end_index = content.find(\"-----\", start_index)  # Find the next section separator\n",
    "    port_section = content[start_index:end_index].strip().split(\"\\n\")[1:]  # Exclude the header line\n",
    "    ports = {}\n",
    "    for line in port_section:\n",
    "        attribute, *values = line.split()\n",
    "        ports[attribute] = values\n",
    "    return ports\n"
   ]
  },
  {
   "cell_type": "code",
   "execution_count": 14,
   "metadata": {},
   "outputs": [
    {
     "data": {
      "text/plain": [
       "{'Region 0': {'Capacity': ['594'],\n",
       "  'Inventory': ['297'],\n",
       "  'Rate': ['99'],\n",
       "  'Price': [],\n",
       "  'BerthLimit': ['1'],\n",
       "  'PortFee': ['38'],\n",
       "  'maxAmt': ['300'],\n",
       "  'minAmt': ['35'],\n",
       "  'C2R': ['ratio', '6']},\n",
       " 'Region 1': {'Capacity': ['351', '510', '312'],\n",
       "  'Inventory': ['168', '255', '156'],\n",
       "  'Rate': ['-39', '-34', '-26'],\n",
       "  'Price': ['5', '5', '5'],\n",
       "  'BerthLimit': ['1', '1', '1'],\n",
       "  'PortFee': ['57', '58', '66'],\n",
       "  'maxAmt': ['300', '300', '259'],\n",
       "  'minAmt': ['50', '35', '20'],\n",
       "  'C2R': ['ratio', '9', '15', '12']}}"
      ]
     },
     "execution_count": 14,
     "metadata": {},
     "output_type": "execute_result"
    }
   ],
   "source": [
    "# Extract region and port information\n",
    "regions_info = parse_region_table(content)\n",
    "ports_info = {f\"Region {i}\": parse_port_table_for_region(content, i) for i in range(len(regions_info['NumPorts']))}\n",
    "ports_info"
   ]
  },
  {
   "cell_type": "markdown",
   "metadata": {},
   "source": [
    "### Create the ports"
   ]
  },
  {
   "cell_type": "code",
   "execution_count": 15,
   "metadata": {},
   "outputs": [],
   "source": [
    "def create_ports_from_info_with_loading(ports_info):\n",
    "    all_ports = {}\n",
    "    loading_regions = {}\n",
    "    discharging_regions = {}\n",
    "\n",
    "    tot_num = 1\n",
    "    \n",
    "    for region, port_attributes in ports_info.items():\n",
    "        region_ports = []\n",
    "        is_loading_region = all(int(rate) > 0 for rate in port_attributes['Rate'])\n",
    "        is_discharging_region = all(int(rate) < 0 for rate in port_attributes['Rate'])\n",
    "\n",
    "        for i in range(len(port_attributes['Capacity'])):  # Assuming 'Capacity' is always present\n",
    "            rate = int(port_attributes['Rate'][i]) if 'Rate' in port_attributes else 0\n",
    "            isLoading = 1 if rate > 0 else -1  # Loading port if rate is positive\n",
    "\n",
    "            port = Port(\n",
    "                capacity=int(port_attributes['Capacity'][i]),\n",
    "                inventory=int(port_attributes['Inventory'][i]) if 'Inventory' in port_attributes else None,\n",
    "                rate=abs(rate),\n",
    "                price=int(port_attributes['Price'][i]) if 'Price' in port_attributes and port_attributes['Price'] else None,\n",
    "                berth_limit=int(port_attributes['BerthLimit'][i]) if 'BerthLimit' in port_attributes else None,\n",
    "                port_fee=int(port_attributes['PortFee'][i]) if 'PortFee' in port_attributes else None,\n",
    "                max_amount=int(port_attributes['maxAmt'][i]) if 'maxAmt' in port_attributes else None,\n",
    "                min_amount=int(port_attributes['minAmt'][i]) if 'minAmt' in port_attributes else None,\n",
    "                number=tot_num,  # Using 1 to numports+1 as the port number\n",
    "                isLoadingPort=isLoading)  # Determine loading port based on Rate value\n",
    "            region_ports.append(port)\n",
    "            tot_num += 1\n",
    "\n",
    "        all_ports[region] = region_ports\n",
    "\n",
    "        # Assign region to correct dictionary\n",
    "        if is_loading_region:\n",
    "            loading_regions[region] = region_ports\n",
    "        elif is_discharging_region:\n",
    "            discharging_regions[region] = region_ports\n",
    "\n",
    "    return all_ports, loading_regions, discharging_regions"
   ]
  },
  {
   "cell_type": "code",
   "execution_count": 16,
   "metadata": {},
   "outputs": [],
   "source": [
    "all_ports, loading_regions, discharging_regions = create_ports_from_info_with_loading(ports_info)"
   ]
  },
  {
   "cell_type": "code",
   "execution_count": 17,
   "metadata": {},
   "outputs": [
    {
     "data": {
      "text/plain": [
       "[Port 1, Port 2, Port 3, Port 4]"
      ]
     },
     "execution_count": 17,
     "metadata": {},
     "output_type": "execute_result"
    }
   ],
   "source": [
    "# Create a list of all ports\n",
    "ports = []\n",
    "for region, region_ports in all_ports.items():\n",
    "    ports.extend(region_ports)\n",
    "ports"
   ]
  },
  {
   "cell_type": "code",
   "execution_count": 18,
   "metadata": {},
   "outputs": [
    {
     "name": "stdout",
     "output_type": "stream",
     "text": [
      "Port 1: Capacity = 594, Inventory = 297, Rate = 99, Price = None, Berth Limit = 1, Port Fee = 38, Max Amount = 300, Min Amount = 35, is Loading Port = 1\n",
      "Port 2: Capacity = 351, Inventory = 168, Rate = 39, Price = 5, Berth Limit = 1, Port Fee = 57, Max Amount = 300, Min Amount = 50, is Loading Port = -1\n",
      "Port 3: Capacity = 510, Inventory = 255, Rate = 34, Price = 5, Berth Limit = 1, Port Fee = 58, Max Amount = 300, Min Amount = 35, is Loading Port = -1\n",
      "Port 4: Capacity = 312, Inventory = 156, Rate = 26, Price = 5, Berth Limit = 1, Port Fee = 66, Max Amount = 259, Min Amount = 20, is Loading Port = -1\n"
     ]
    }
   ],
   "source": [
    "for port in ports:\n",
    "    print(port.__repr2__())"
   ]
  },
  {
   "cell_type": "markdown",
   "metadata": {},
   "source": [
    "# INITIAL PARAMETERS\n",
    "\n",
    "All parameters should be set below"
   ]
  },
  {
   "cell_type": "code",
   "execution_count": 19,
   "metadata": {},
   "outputs": [],
   "source": [
    "# Time periods\n",
    "NUM_TIME_PERIODS = 45\n",
    "metadata_from_content['numPeriods'] = NUM_TIME_PERIODS\n",
    "TIME_PERIOD_RANGE = list(range(1, NUM_TIME_PERIODS+1))\n",
    "\n",
    "# Number of vessels\n",
    "ORIGINAL_NUM_VESSELS = metadata_from_content['numTermVesselsInClass'][0]\n",
    "NUM_VESSELS = ORIGINAL_NUM_VESSELS\n",
    "\n",
    "# Speed interval\n",
    "MAX_SPEED = 15\n",
    "MIN_SPEED = 8\n",
    "OPERATING_SPEED = 14\n",
    "\n",
    "# Operating cost\n",
    "OPERATING_COST = 200\n",
    "\n",
    "# Waiting cost\n",
    "WAITING_COST = 50\n",
    "\n",
    "# Fuel price in USD per ton\n",
    "FUEL_PRICE = 500\n",
    "\n",
    "#Numper of ports\n",
    "NUM_PORTS = len(ports)\n",
    "\n",
    "EBS = 0.01\n"
   ]
  },
  {
   "cell_type": "code",
   "execution_count": 20,
   "metadata": {},
   "outputs": [],
   "source": [
    "def parse_vessel_table(content):\n",
    "    # Extract the vessel table section\n",
    "    start_index = content.index(\"----- Vessel Table ----\") + len(\"----- Vessel Table ----\")\n",
    "    end_index = content.find(\"-----\", start_index)  # Find the next section separator\n",
    "    vessel_section = content[start_index:end_index].strip().split(\"\\n\")[1:]  # Exclude the header line\n",
    "\n",
    "    vessels = {}\n",
    "    class_0_capacity = None\n",
    "\n",
    "    # Extract vessel attributes\n",
    "    for line in vessel_section:\n",
    "        if \"Note:\" not in line:  # Exclude the note lines\n",
    "            attribute, *values = line.split()\n",
    "            vessels[attribute] = values\n",
    "\n",
    "    # Find indices of Class 0 vessels\n",
    "    class_0_indices = [i for i, v in enumerate(vessels.get(\"Class\", [])) if v == \"0\"]\n",
    "\n",
    "    # Extract the capacity for Class 0 vessels\n",
    "    if class_0_indices:\n",
    "        class_0_capacity_index = class_0_indices[0]\n",
    "        class_0_capacity = int(vessels.get(\"Capacity\", [])[class_0_capacity_index])\n",
    "\n",
    "    return vessels, class_0_capacity"
   ]
  },
  {
   "cell_type": "code",
   "execution_count": 21,
   "metadata": {},
   "outputs": [
    {
     "data": {
      "text/plain": [
       "({'Type': ['Term', 'Term', 'Term', 'Term', 'Term', 'Term', 'Term'],\n",
       "  'Class': ['0', '0', '0', '0', '0', '0', '0'],\n",
       "  'Capacity': ['300', '300', '300', '300', '300', '300', '300']},\n",
       " 300)"
      ]
     },
     "execution_count": 21,
     "metadata": {},
     "output_type": "execute_result"
    }
   ],
   "source": [
    "# Extracting the vessel dictionary and the capacity for Class 0 vessels\n",
    "vessels_info, VESSEL_CAP = parse_vessel_table(content)\n",
    "(vessels_info, VESSEL_CAP)\n"
   ]
  },
  {
   "cell_type": "code",
   "execution_count": 22,
   "metadata": {},
   "outputs": [],
   "source": [
    "# Create a dictionary with key = vessel class and value = vessel object\n",
    "vessels = {}\n",
    "tot = 1\n",
    "for vessel_class in range(metadata_from_content['numVesselClasses']):\n",
    "    vessel_list = []\n",
    "    vessels_in_class = metadata_from_content['numTermVesselsInClass'][vessel_class]\n",
    "    for i in range(vessels_in_class):\n",
    "        if int(vessel_data['Vessel_'+str(i)]['Initial Inventory'])>0:\n",
    "            init_inventory = VESSEL_CAP\n",
    "        else:\n",
    "            init_inventory = 0\n",
    "            \n",
    "        vessel_list.append(Vessel(\n",
    "            max_inventory= VESSEL_CAP,\n",
    "            initial_inventory= init_inventory,\n",
    "            max_operating_quantity=VESSEL_CAP,\n",
    "            number=tot\n",
    "        ))\n",
    "        tot += 1\n",
    "    vessels[vessel_class] = vessel_list\n",
    "\n",
    "# We only have one vessel class. Convert the dictionary to a list\n",
    "vessels = vessels[0]\n"
   ]
  },
  {
   "cell_type": "code",
   "execution_count": 23,
   "metadata": {},
   "outputs": [
    {
     "data": {
      "text/plain": [
       "[Vessel 1, Vessel 2, Vessel 3, Vessel 4, Vessel 5, Vessel 6, Vessel 7]"
      ]
     },
     "execution_count": 23,
     "metadata": {},
     "output_type": "execute_result"
    }
   ],
   "source": [
    "# Manually set the number of vessels\n",
    "vessels = vessels[:NUM_VESSELS]\n",
    "vessels"
   ]
  },
  {
   "cell_type": "code",
   "execution_count": 24,
   "metadata": {},
   "outputs": [
    {
     "name": "stdout",
     "output_type": "stream",
     "text": [
      "Vessel 1: Max Inventory = 300, Inventory = 300, Max Operating Quantity = 300\n",
      "Vessel 2: Max Inventory = 300, Inventory = 0, Max Operating Quantity = 300\n",
      "Vessel 3: Max Inventory = 300, Inventory = 0, Max Operating Quantity = 300\n",
      "Vessel 4: Max Inventory = 300, Inventory = 0, Max Operating Quantity = 300\n",
      "Vessel 5: Max Inventory = 300, Inventory = 0, Max Operating Quantity = 300\n",
      "Vessel 6: Max Inventory = 300, Inventory = 300, Max Operating Quantity = 300\n",
      "Vessel 7: Max Inventory = 300, Inventory = 300, Max Operating Quantity = 300\n"
     ]
    }
   ],
   "source": [
    "for v in vessels:\n",
    "    print(v.__repr2__())"
   ]
  },
  {
   "cell_type": "markdown",
   "metadata": {},
   "source": [
    "## FIXING THE ROUTES"
   ]
  },
  {
   "cell_type": "markdown",
   "metadata": {},
   "source": [
    "### Read in the file from MIRP"
   ]
  },
  {
   "cell_type": "code",
   "execution_count": 25,
   "metadata": {},
   "outputs": [],
   "source": [
    "def read_vessel_routes(file_path):\n",
    "    with open(file_path, 'r') as file:\n",
    "        content = file.read()\n",
    "        \n",
    "        # Find the start of the Vessel Routes section\n",
    "        start = content.find(\"Vessel Routes:\")\n",
    "        if start == -1:\n",
    "            return \"Vessel Routes section not found in the file.\"\n",
    "\n",
    "        # Extract the Vessel Routes section\n",
    "        vessel_routes_section = content[start:].split(\"\\n\", 1)[1]\n",
    "        vessel_routes_section = vessel_routes_section.split(\"\\n\\n\", 1)[0]  # Assumes there's a blank line after the section\n",
    "\n",
    "        # Process the section to create the dictionary\n",
    "        VESSEL_ROUTES = {}\n",
    "        for line in vessel_routes_section.strip().split('\\n'):\n",
    "            vessel_number, route = line.split(': ')\n",
    "            vessel_number = int(vessel_number.split(' ')[1])\n",
    "            route = eval(route)\n",
    "            VESSEL_ROUTES[vessels[vessel_number - 1]] = route\n",
    "\n",
    "        return VESSEL_ROUTES\n"
   ]
  },
  {
   "cell_type": "code",
   "execution_count": 26,
   "metadata": {},
   "outputs": [
    {
     "name": "stdout",
     "output_type": "stream",
     "text": [
      "{Vessel 3: [1, 2, 1, 2], Vessel 4: [1, 3, 1, 2], Vessel 5: [1, 3, 2, 1, 3], Vessel 6: [2, 1, 2, 1], Vessel 7: [3, 1, 3, 1]}\n"
     ]
    }
   ],
   "source": [
    "VESSEL_ROUTES = read_vessel_routes(MIRP_SOL)\n",
    "print(VESSEL_ROUTES)"
   ]
  },
  {
   "cell_type": "code",
   "execution_count": 27,
   "metadata": {},
   "outputs": [
    {
     "data": {
      "text/plain": [
       "[Vessel 1, Vessel 2]"
      ]
     },
     "execution_count": 27,
     "metadata": {},
     "output_type": "execute_result"
    }
   ],
   "source": [
    "# Find all vessels that are not in the solution\n",
    "vessels_to_remove = [v for v in vessels if v not in VESSEL_ROUTES]\n",
    "vessels_to_remove"
   ]
  },
  {
   "cell_type": "code",
   "execution_count": 28,
   "metadata": {},
   "outputs": [],
   "source": [
    "# # Remove the vessels that are not in the solution\n",
    "# vessels = list(VESSEL_ROUTES.keys())\n",
    "# vessels"
   ]
  },
  {
   "cell_type": "markdown",
   "metadata": {},
   "source": [
    "### Creating the nodes"
   ]
  },
  {
   "cell_type": "code",
   "execution_count": 29,
   "metadata": {},
   "outputs": [],
   "source": [
    "# Create the regular nodes\n",
    "regularNodes = []\n",
    "for t in range(1, NUM_TIME_PERIODS+1):\n",
    "    for port in ports:\n",
    "        node = Node(port=port, time=t)\n",
    "        regularNodes.append(node)\n",
    "    \n",
    "# Create fictional source and sink port\n",
    "sourcePort = Port(capacity=None, inventory=None, rate=None, price=None, berth_limit=len(vessels), port_fee=0, max_amount=None, min_amount=None, number=0, isLoadingPort=True)\n",
    "sinkPort = Port(capacity=None, inventory=None, rate=None, price=None, berth_limit=len(vessels), port_fee=0, max_amount=None, min_amount=None, number=len(ports)+1, isLoadingPort=False)\n",
    "\n",
    "# Create source and sink node\n",
    "sourceNode = Node(port=sourcePort, time=0)\n",
    "sinkNode = Node(port=sinkPort, time=NUM_TIME_PERIODS+1)\n",
    "\n",
    "NODES = [sourceNode] + regularNodes + [sinkNode]\n",
    "\n",
    "# Create a node dictionary with key = (port, time) tuple and value = node object\n",
    "NODE_DICT = {}\n",
    "for node in NODES:\n",
    "    NODE_DICT[node.tuple] = node"
   ]
  },
  {
   "cell_type": "markdown",
   "metadata": {},
   "source": [
    "### Read in arc data"
   ]
  },
  {
   "cell_type": "code",
   "execution_count": 30,
   "metadata": {},
   "outputs": [
    {
     "data": {
      "text/plain": [
       "[[0.0, 5792.83, 5730.94, 5663.71],\n",
       " [5792.83, 0.0, 326.1, 338.92],\n",
       " [5730.94, 326.1, 0.0, 67.42],\n",
       " [5663.71, 338.92, 67.42, 0.0]]"
      ]
     },
     "execution_count": 30,
     "metadata": {},
     "output_type": "execute_result"
    }
   ],
   "source": [
    "def parse_full_distance_matrix(content):\n",
    "    # Extract the full distance matrix section\n",
    "    start_str = \"----- FullDistanceMatrix ----\"\n",
    "    start_index = content.index(start_str) + len(start_str)\n",
    "    end_index = content.find(\"-----\", start_index)  # Find the next section separator\n",
    "    matrix_section = content[start_index:end_index].strip().split(\"\\n\")[2:]  # Exclude the header lines\n",
    "    \n",
    "    # Convert the matrix section to a 2D list of distances\n",
    "    distances = []\n",
    "    for line in matrix_section:\n",
    "        try:\n",
    "            distance_row = list(map(float, line.split()[1:]))  # Excluding the leading port number\n",
    "            distances.append(distance_row)\n",
    "        except ValueError:\n",
    "            continue\n",
    "    \n",
    "    return distances\n",
    "\n",
    "# Extracting the full distance matrix from the file content\n",
    "full_distance_matrix = parse_full_distance_matrix(content)\n",
    "full_distance_matrix\n"
   ]
  },
  {
   "cell_type": "code",
   "execution_count": 31,
   "metadata": {},
   "outputs": [],
   "source": [
    "FULL_DISTANCE_MATRIX = full_distance_matrix"
   ]
  },
  {
   "cell_type": "code",
   "execution_count": 32,
   "metadata": {},
   "outputs": [],
   "source": [
    "# Convert full_distance_matrix from km to nautical miles\n",
    "# 1 nautical mile = 1.852 km\n",
    "def km_to_nautical_miles(km):\n",
    "    return km / 1.852"
   ]
  },
  {
   "cell_type": "code",
   "execution_count": 33,
   "metadata": {},
   "outputs": [],
   "source": [
    "def convert_matrix_to_nautical_miles(matrix):\n",
    "    return [[km_to_nautical_miles(distance) for distance in row] for row in matrix]"
   ]
  },
  {
   "cell_type": "code",
   "execution_count": 34,
   "metadata": {},
   "outputs": [
    {
     "data": {
      "text/plain": [
       "[[0.0, 3127.8779697624186, 3094.460043196544, 3058.158747300216],\n",
       " [3127.8779697624186, 0.0, 176.07991360691145, 183.00215982721383],\n",
       " [3094.460043196544, 176.07991360691145, 0.0, 36.40388768898488],\n",
       " [3058.158747300216, 183.00215982721383, 36.40388768898488, 0.0]]"
      ]
     },
     "execution_count": 34,
     "metadata": {},
     "output_type": "execute_result"
    }
   ],
   "source": [
    "full_distance_matrix_nm = convert_matrix_to_nautical_miles(FULL_DISTANCE_MATRIX)\n",
    "full_distance_matrix_nm"
   ]
  },
  {
   "cell_type": "code",
   "execution_count": 35,
   "metadata": {},
   "outputs": [],
   "source": [
    "def fuel_consumption_speed_nm(speed, nautical_miles):\n",
    "    \"\"\"\n",
    "    Calculate the fuel consumption based on speed and nautical miles.\n",
    "\n",
    "    Args:\n",
    "    - speed (float): Speed of the vessel in knots.\n",
    "    - nautical miles (float): .\n",
    "\n",
    "    Returns:\n",
    "    - float: Fuel consumption in tons.\n",
    "    \"\"\"\n",
    "    return  (0.15*14 * (speed / 14) ** 3) * nautical_miles/speed\n",
    "    \n",
    "\n",
    "def calc_cost(fuel_consumption):\n",
    "    \"\"\"\n",
    "    Calculate the cost based on fuel consumption.\n",
    "\n",
    "    Args:\n",
    "    - fuel_consumption (float): Fuel consumption in tons.\n",
    "\n",
    "    Returns:\n",
    "    - float: Cost in USD.\n",
    "    \"\"\"\n",
    "    return fuel_consumption * FUEL_PRICE\n",
    "\n",
    "# Function to calculate discrete max speed based on distance and global max speed\n",
    "def calculate_minimum_timesteps_and_speed(distance_nm):\n",
    "    \"\"\"\n",
    "    Determine the minimum timesteps and speed based on distance and max speed.\n",
    "\n",
    "    Args:\n",
    "    - distance_nm (float): Distance in nautical miles.\n",
    "    - MAX_SPEED (float): Maximum speed in knots.\n",
    "    - MIN_SPEED (float): Minimum speed in knots.\n",
    "\n",
    "    Returns:\n",
    "    - tuple: Minimum timesteps and speed.\n",
    "    \"\"\"\n",
    "    hours = distance_nm / MAX_SPEED\n",
    "    minimum_timesteps = math.ceil(hours / 24)\n",
    "    speed = distance_nm / (minimum_timesteps * 24)\n",
    "    return minimum_timesteps, max(speed, MIN_SPEED)\n",
    "\n",
    "# Function to calculate discrete max speed based on distance and global max speed\n",
    "def calculate_minimum_timesteps_with_fixed_speed(distance_nm):\n",
    "    \"\"\"\n",
    "    Determine the minimum timesteps and speed based on distance and operating speed.\n",
    "\n",
    "    Args:\n",
    "    - distance_nm (float): Distance in nautical miles.\n",
    "    - operating_speed (float): Operating speed in knots.\n",
    "\n",
    "    Returns:\n",
    "    - tuple: Minimum timesteps and operating speed.\n",
    "    \"\"\"\n",
    "    hours = distance_nm / OPERATING_SPEED\n",
    "    minimum_timesteps = math.ceil(hours / 24)\n",
    "    # The speed will be operating speed no matter what, but we will round up the timesteps\n",
    "    return minimum_timesteps, OPERATING_SPEED\n",
    "    \n",
    "# Based on rounded_hours and speed calculate the next speeds\n",
    "# Creates a list with all the information needed to create the arc.\n",
    "def create_arc_info(speed, minimum_timesteps, departure, origin_port, destination_port, lowest_speed, distance_to_port, vessel, is_waiting_arc):\n",
    "    # Create a list of tuples with the speed and the time period\n",
    "    '''arc_info: (speed in knots, timesteps for sailing, time period of departure, time period of arrival, origin port, destination port, fuel_consumption)'''\n",
    "    \n",
    "    arrival_time = departure + minimum_timesteps\n",
    "    if arrival_time > NUM_TIME_PERIODS:\n",
    "        return None\n",
    "    if is_waiting_arc:\n",
    "        fuel_consumption = 0\n",
    "        arc_info = [(speed, 1, departure, departure + minimum_timesteps, origin_port, destination_port, fuel_consumption, distance_to_port, vessel, is_waiting_arc)]\n",
    "    else:\n",
    "        fuel_consumption = fuel_consumption_speed_nm(speed=speed, nautical_miles=distance_to_port)\n",
    "        arc_info = [(speed, minimum_timesteps, departure, departure + minimum_timesteps, origin_port, destination_port, fuel_consumption, distance_to_port, vessel, is_waiting_arc)]\n",
    "    \n",
    "        timesteps = minimum_timesteps+1\n",
    "        while True:\n",
    "            \n",
    "            # Calculate the next speed\n",
    "            speed = distance_to_port / ((timesteps)*24)\n",
    "            # If the speed is lower than the lowest speed, break the loop\n",
    "            if speed < lowest_speed:\n",
    "                break\n",
    "            fuel_consumption = fuel_consumption_speed_nm(speed=speed, nautical_miles=distance_to_port)\n",
    "            arrival_time = departure + timesteps\n",
    "            # Otherwise, add the speed to the list\n",
    "            arc_info.append((speed, timesteps, departure, arrival_time, origin_port, destination_port, fuel_consumption, distance_to_port, vessel, is_waiting_arc))\n",
    "            # Increment the time period\n",
    "            timesteps += 1\n",
    "            arrival_time = departure + timesteps\n",
    "            if arrival_time > NUM_TIME_PERIODS:\n",
    "                break\n",
    "       \n",
    "    return arc_info\n",
    "\n",
    "\n",
    "# Based on rounded_hours and speed calculate the next speeds\n",
    "# Creates a list with all the information needed to create the arc.\n",
    "def create_arc_info_fixed_speed(speed, minimum_timesteps, departure, arrival_time, origin_port, destination_port, distance_to_port, vessel, is_waiting_arc):\n",
    "    # Create a list of tuples with the speed and the time period\n",
    "    '''arc_info: (speed in knots, timesteps for sailing, time period of departure, time period of arrival, origin port, destination port, fuel_consumption)'''\n",
    "    \n",
    "    if arrival_time > NUM_TIME_PERIODS:\n",
    "        return None\n",
    "    if is_waiting_arc:\n",
    "        fuel_consumption = 0\n",
    "        arc_info = [(speed, 1, departure, departure + minimum_timesteps, origin_port, destination_port, fuel_consumption, distance_to_port, vessel, is_waiting_arc)]\n",
    "    else:\n",
    "        fuel_consumption = fuel_consumption_speed_nm(speed=speed, nautical_miles=distance_to_port)\n",
    "        arc_info = [(speed, minimum_timesteps, departure, arrival_time, origin_port, destination_port, fuel_consumption, distance_to_port, vessel, is_waiting_arc)]\n",
    "       \n",
    "    return arc_info\n",
    "        "
   ]
  },
  {
   "cell_type": "markdown",
   "metadata": {},
   "source": [
    "### Need to have starting positions for each vessel. \n",
    "### That way we can find the earliest time a vessel can be at each port.\n",
    "\n",
    "For now we just randomly generate distances to each of the ports, without thinking about whether it is practically possible to have these distances. "
   ]
  },
  {
   "cell_type": "markdown",
   "metadata": {},
   "source": [
    "# Generate the arcs"
   ]
  },
  {
   "cell_type": "markdown",
   "metadata": {},
   "source": [
    "### Generate the information for the arcs from the source node to the ports."
   ]
  },
  {
   "cell_type": "code",
   "execution_count": 36,
   "metadata": {},
   "outputs": [
    {
     "data": {
      "text/plain": [
       "{0: [Port 1]}"
      ]
     },
     "execution_count": 36,
     "metadata": {},
     "output_type": "execute_result"
    }
   ],
   "source": [
    "## Use vessel data to find starting positions for each vessel\n",
    "# Generate the arcs\n",
    "# For the keys in discharging_regions, change the key to index of the region starting with 0\n",
    "loading_regions_reidx = {}\n",
    "\n",
    "# Reassign keys\n",
    "for i, key in enumerate(loading_regions.keys()):\n",
    "    loading_regions_reidx[i] = loading_regions[key]\n",
    "    \n",
    "loading_regions_reidx"
   ]
  },
  {
   "cell_type": "code",
   "execution_count": 37,
   "metadata": {},
   "outputs": [
    {
     "data": {
      "text/plain": [
       "{0: [Port 2, Port 3, Port 4]}"
      ]
     },
     "execution_count": 37,
     "metadata": {},
     "output_type": "execute_result"
    }
   ],
   "source": [
    "# For the keys in discharging_regions, change the key to index of the region starting with 0\n",
    "discharging_regions_reidx = {}\n",
    "\n",
    "# Reassign keys\n",
    "for i, key in enumerate(discharging_regions.keys()):\n",
    "    discharging_regions_reidx[i] = discharging_regions[key]\n",
    "    \n",
    "discharging_regions_reidx"
   ]
  },
  {
   "cell_type": "markdown",
   "metadata": {},
   "source": [
    "### Generate the information for the arcs from the source node to the ports.\n",
    "- We only get one arc for each vessel"
   ]
  },
  {
   "cell_type": "code",
   "execution_count": 38,
   "metadata": {},
   "outputs": [],
   "source": [
    "start_info={}\n",
    "\n",
    "def generate_source_arc_info(sourceNode):\n",
    "    \n",
    "    source_arcs_info = []\n",
    "        \n",
    "    \n",
    "    for vessel in vessels:\n",
    "        \n",
    "        initial_port_str = vessel_data['Vessel_'+str(vessel.number-1)]['Initial Port']\n",
    "        region_index, port_index = int(initial_port_str.split('_')[1]), int(initial_port_str.split('_')[3])\n",
    "        \n",
    "        # Check whether the initial port is a loading port or a discharging port based on initial_port_str\n",
    "        if initial_port_str.startswith('Loading'):\n",
    "            region_ports = loading_regions_reidx[region_index]\n",
    "            initial_port = region_ports[int(port_index)]\n",
    "        \n",
    "        else:\n",
    "            region_ports = discharging_regions_reidx[region_index]\n",
    "            initial_port = region_ports[int(port_index)]\n",
    "                \n",
    "        first_time_available = int(vessel_data['Vessel_'+str(vessel.number-1)]['First Time Available']+1)\n",
    "        \n",
    "        start_info[vessel] = NODE_DICT[(initial_port.number, first_time_available)]\n",
    "\n",
    "        \n",
    "        # Only create one arc from the source to the corresponding port and time pair\n",
    "        source_arcs_info_for_vessel = []\n",
    "        \n",
    "        speed = 0\n",
    "        \n",
    "        arc_info = [(speed, first_time_available, 0, first_time_available, sourceNode.port.number, initial_port.number, 0, 0, vessel, False)]\n",
    "        \n",
    "        source_arcs_info_for_vessel.append(arc_info)\n",
    "        \n",
    "        source_arcs_info.append(source_arcs_info_for_vessel)\n",
    "                \n",
    "    return source_arcs_info"
   ]
  },
  {
   "cell_type": "code",
   "execution_count": 39,
   "metadata": {},
   "outputs": [],
   "source": [
    "start_times = {vessel: vessel_data['Vessel_'+str(vessel.number-1)]['First Time Available']+1 for vessel in vessels}\n"
   ]
  },
  {
   "cell_type": "code",
   "execution_count": 40,
   "metadata": {},
   "outputs": [],
   "source": [
    "def create_arcs_for_node(node, vessels, all_port_numbers, source_times, full_distance_matrix_nm):\n",
    "    node_arcs = []\n",
    "    \n",
    "    for vessel in vessels:\n",
    "        if node.port.number in [0, len(ports) + 1]:\n",
    "            continue\n",
    "\n",
    "        start_time = source_times[vessel]\n",
    "        if node.time < start_time:\n",
    "            continue\n",
    "\n",
    "        for destination_port_number in all_port_numbers:\n",
    "            if destination_port_number == node.port.number:\n",
    "                arc_info_matrix = create_arc_info(speed=0, minimum_timesteps=1, departure=node.time, origin_port=node.port.number, destination_port=destination_port_number, lowest_speed=0, distance_to_port=0, vessel=vessel, is_waiting_arc=True)\n",
    "                node_arcs.append(arc_info_matrix)\n",
    "            else:\n",
    "                distance_nm = full_distance_matrix_nm[node.port.number - 1][destination_port_number - 1]\n",
    "                minimum_timesteps, speed = calculate_minimum_timesteps_and_speed(distance_nm=distance_nm)\n",
    "                arrival_time = node.time + minimum_timesteps\n",
    "                \n",
    "                if arrival_time < source_times[vessel] or arrival_time > NUM_TIME_PERIODS:\n",
    "                    continue\n",
    "\n",
    "                arc_info_matrix = create_arc_info(speed=speed, minimum_timesteps=minimum_timesteps, departure=node.time, origin_port=node.port.number, destination_port=destination_port_number, lowest_speed=MIN_SPEED, distance_to_port=distance_nm, vessel=vessel, is_waiting_arc=False)\n",
    "                node_arcs.append(arc_info_matrix)\n",
    "\n",
    "    return node_arcs"
   ]
  },
  {
   "cell_type": "code",
   "execution_count": 41,
   "metadata": {},
   "outputs": [],
   "source": [
    "def add_arcs_to_nodes(all_info):\n",
    "    arc_dict = {}\n",
    "    vessel_arcs = {}\n",
    "    waiting_arcs = {}\n",
    "\n",
    "    for sublist in all_info:\n",
    "        for subsublist in sublist:\n",
    "            if not subsublist:\n",
    "                continue\n",
    "                \n",
    "            for tuple_data in subsublist:\n",
    "                speed, timesteps, departure, arrival, origin_port_number, destination_port_number, fuel_consumption, distance_nm, vessel, is_waiting_arc = tuple_data\n",
    "                cost = calc_cost(fuel_consumption)\n",
    "                origin_node_obj = NODE_DICT.get((origin_port_number, departure))\n",
    "                destination_node_obj = NODE_DICT.get((destination_port_number, arrival))\n",
    "\n",
    "                if origin_node_obj and destination_node_obj and arrival <= NUM_TIME_PERIODS:\n",
    "                    arc = Arc(origin_node=origin_node_obj, destination_node=destination_node_obj, distance=distance_nm, cost=cost + WAITING_COST, travel_time=timesteps, speed=speed, is_waiting_arc=is_waiting_arc)\n",
    "                    origin_node_obj.outgoing_arcs.add(arc)\n",
    "                    destination_node_obj.incoming_arcs.add(arc)\n",
    "                    arc_dict[(origin_node_obj.tuple, destination_node_obj.tuple, vessel)] = arc\n",
    "                    \n",
    "                    if is_waiting_arc:\n",
    "                        waiting_arcs.setdefault(vessel, []).append(arc)\n",
    "                    vessel_arcs.setdefault(vessel, []).append(arc)\n",
    "\n",
    "    return arc_dict, vessel_arcs, waiting_arcs"
   ]
  },
  {
   "cell_type": "code",
   "execution_count": 42,
   "metadata": {},
   "outputs": [],
   "source": [
    "# # Generate the information for the source arcs\n",
    "# source_arcs_info = [generate_source_arc_info(vessel, [port.number for port in ports], source_distances, sourceNode) for vessel in vessels]\n",
    "\n",
    "# Generate the information for the source arcs\n",
    "source_arcs_info = generate_source_arc_info(sourceNode)\n",
    "\n",
    "# Initialize the all_info list with the source arcs info\n",
    "all_info = source_arcs_info.copy()\n",
    "\n",
    "# Append the all_info list with the arcs for each node\n",
    "for vessel in vessels:\n",
    "    # For each node, create the outgoing arcs\n",
    "    arcs_for_current_vessel = [create_arcs_for_node(node, [vessel], [port.number for port in ports], start_times, full_distance_matrix_nm) for node in NODE_DICT.values()]\n",
    "    all_info.extend(arcs_for_current_vessel)\n",
    "    \n",
    "arc_dict, vessel_arcs, waiting_arcs = add_arcs_to_nodes(all_info)"
   ]
  },
  {
   "cell_type": "code",
   "execution_count": 43,
   "metadata": {},
   "outputs": [],
   "source": [
    "def add_arc_to_dict(origin, destination, vessel, arc_dict, vessel_arcs):\n",
    "    \"\"\"Helper function to add arc to dictionaries and nodes.\"\"\"\n",
    "    arc = Arc(origin_node=origin, destination_node=destination, distance=0, cost=0, travel_time=0, speed=0, is_waiting_arc=False)\n",
    "    origin.outgoing_arcs.add(arc)\n",
    "    destination.incoming_arcs.add(arc)\n",
    "    arc_dict[(origin.tuple, destination.tuple, vessel)] = arc\n",
    "    vessel_arcs.setdefault(vessel, []).append(arc)\n",
    "    return arc_dict, vessel_arcs"
   ]
  },
  {
   "cell_type": "code",
   "execution_count": 44,
   "metadata": {},
   "outputs": [],
   "source": [
    "def create_sink_arcs(vessels, sinkNode, source_times, arc_dict, vessel_arcs):\n",
    "    for vessel in vessels:\n",
    "        # Arc from source node to sink node\n",
    "        arc_dict, vessel_arcs = add_arc_to_dict(sourceNode, sinkNode, vessel, arc_dict, vessel_arcs)\n",
    "        \n",
    "        # Arcs from other nodes to sink node\n",
    "        for node in NODE_DICT.values():\n",
    "            if node.port.number not in [0, len(ports) + 1] and node.time >= source_times[vessel]:\n",
    "                arc_dict, vessel_arcs = add_arc_to_dict(node, sinkNode, vessel, arc_dict, vessel_arcs)\n",
    "    \n",
    "    return arc_dict, vessel_arcs"
   ]
  },
  {
   "cell_type": "code",
   "execution_count": 45,
   "metadata": {},
   "outputs": [],
   "source": [
    "# After calling add_arcs_to_nodes:\n",
    "arc_dict, vessel_arcs, waiting_arcs = add_arcs_to_nodes(all_info)\n",
    "\n",
    "# Then call create_sink_arcs with the returned arc_dict and vessel_arcs:\n",
    "arc_dict, vessel_arcs = create_sink_arcs(vessels, sinkNode, start_times, arc_dict, vessel_arcs)"
   ]
  },
  {
   "cell_type": "markdown",
   "metadata": {},
   "source": [
    "### FIXATE NUMBER OF VESSELS AND PORTS"
   ]
  },
  {
   "cell_type": "code",
   "execution_count": 46,
   "metadata": {},
   "outputs": [],
   "source": [
    "import re\n",
    "\n",
    "# Read in the solution file and Find all port numbers\n",
    "with open(MIRP_SOL, 'r') as file:\n",
    "    content = file.read()\n",
    "    \n",
    "    # Regex pattern to find port numbers\n",
    "    pattern = r'Port (\\d+):'\n",
    "    ports_in_MIRP_SOL = re.findall(pattern, content)\n",
    "\n",
    "    # Converting port numbers to integers\n",
    "    port_numbers = [int(port) for port in ports_in_MIRP_SOL]\n",
    "    port_numbers\n",
    "    "
   ]
  },
  {
   "cell_type": "code",
   "execution_count": 47,
   "metadata": {},
   "outputs": [
    {
     "data": {
      "text/plain": [
       "[1, 2, 3]"
      ]
     },
     "execution_count": 47,
     "metadata": {},
     "output_type": "execute_result"
    }
   ],
   "source": [
    "port_numbers"
   ]
  },
  {
   "cell_type": "code",
   "execution_count": 48,
   "metadata": {},
   "outputs": [
    {
     "data": {
      "text/plain": [
       "[Port 1, Port 2, Port 3, Port 4]"
      ]
     },
     "execution_count": 48,
     "metadata": {},
     "output_type": "execute_result"
    }
   ],
   "source": [
    "ports"
   ]
  },
  {
   "cell_type": "code",
   "execution_count": 49,
   "metadata": {},
   "outputs": [
    {
     "data": {
      "text/plain": [
       "[Port 4]"
      ]
     },
     "execution_count": 49,
     "metadata": {},
     "output_type": "execute_result"
    }
   ],
   "source": [
    "# Create a list of all ports that are not in the solution but in ports\n",
    "ports_to_be_removed = [port for port in ports if port.number not in port_numbers]\n",
    "ports_to_be_removed"
   ]
  },
  {
   "cell_type": "markdown",
   "metadata": {},
   "source": [
    "### Adjust the arcs accordingly"
   ]
  },
  {
   "cell_type": "code",
   "execution_count": 50,
   "metadata": {},
   "outputs": [],
   "source": [
    "\n",
    "# Remove all arcs from vessel_arcs that have destination port or origin port as the port to be removed\n",
    "for vessel in vessels:\n",
    "    for arc in vessel_arcs[vessel]:\n",
    "        if arc.origin_node.port in ports_to_be_removed or arc.destination_node.port in ports_to_be_removed:\n",
    "            arc.origin_node.outgoing_arcs.remove(arc)\n",
    "            arc.destination_node.incoming_arcs.remove(arc)\n",
    "            del arc_dict[(arc.origin_node.tuple, arc.destination_node.tuple, vessel)]\n",
    "    vessel_arcs[vessel] = [arc for arc in vessel_arcs[vessel] if arc.origin_node.port not in ports_to_be_removed and arc.destination_node.port not in ports_to_be_removed]\n",
    "    \n",
    "    \n",
    "# Remove all arcs that have the vessel that we want to remove\n",
    "for vessel in vessels_to_remove:\n",
    "    for arc in vessel_arcs[vessel]:\n",
    "        arc.origin_node.outgoing_arcs.remove(arc)\n",
    "        arc.destination_node.incoming_arcs.remove(arc)\n",
    "        del arc_dict[(arc.origin_node.tuple, arc.destination_node.tuple, vessel)]\n",
    "    del vessel_arcs[vessel]\n"
   ]
  },
  {
   "cell_type": "code",
   "execution_count": 51,
   "metadata": {},
   "outputs": [],
   "source": [
    "vessels = [vessel for vessel in vessels if vessel not in vessels_to_remove]"
   ]
  },
  {
   "cell_type": "code",
   "execution_count": 52,
   "metadata": {},
   "outputs": [
    {
     "data": {
      "text/plain": [
       "[Vessel 3, Vessel 4, Vessel 5, Vessel 6, Vessel 7]"
      ]
     },
     "execution_count": 52,
     "metadata": {},
     "output_type": "execute_result"
    }
   ],
   "source": [
    "vessels"
   ]
  },
  {
   "cell_type": "markdown",
   "metadata": {},
   "source": [
    "### Adjust the ports"
   ]
  },
  {
   "cell_type": "code",
   "execution_count": 53,
   "metadata": {},
   "outputs": [],
   "source": [
    "# Create a list of all loading ports\n",
    "loading_ports = [port for port in ports if port.isLoadingPort==1]\n",
    "discharging_ports = [port for port in ports if port.isLoadingPort==-1]"
   ]
  },
  {
   "cell_type": "code",
   "execution_count": 54,
   "metadata": {},
   "outputs": [],
   "source": [
    "# Remove ports_to_be_removed from ports\n",
    "ports = [port for port in ports if port not in ports_to_be_removed]\n",
    "\n",
    "# Sum the rate for the ports that are removed\n",
    "lost_consumption = sum([port.rate for port in ports_to_be_removed])\n",
    "\n",
    "\n",
    "# Substract the lost consumption from the loading ports\n",
    "for port in loading_ports:\n",
    "    port.rate -= lost_consumption/len(loading_ports)\n",
    "    \n"
   ]
  },
  {
   "cell_type": "markdown",
   "metadata": {},
   "source": [
    "### Adjust the nodes"
   ]
  },
  {
   "cell_type": "code",
   "execution_count": 55,
   "metadata": {},
   "outputs": [],
   "source": [
    "# Remove all the nodes for the port to be removed\n",
    "nodes_to_remove = []\n",
    "\n",
    "for node in NODES:\n",
    "    if node.port in ports_to_be_removed:\n",
    "        del NODE_DICT[node.tuple]\n",
    "        nodes_to_remove.append(node)\n",
    "        \n",
    "NODES = [node for node in NODES if node not in nodes_to_remove]\n",
    "regularNodes = [node for node in regularNodes if node not in nodes_to_remove]\n"
   ]
  },
  {
   "cell_type": "markdown",
   "metadata": {},
   "source": [
    "## Visualize the network for a given vessel"
   ]
  },
  {
   "cell_type": "code",
   "execution_count": 56,
   "metadata": {},
   "outputs": [],
   "source": [
    "def visualize_network_for_vessel(vessel, vessel_arcs, drop_sink_arcs):\n",
    "    # Create a directed graph\n",
    "    G = nx.DiGraph()\n",
    "\n",
    "    # Add nodes to the graph\n",
    "    for node in NODES:\n",
    "        G.add_node(str(node.tuple))\n",
    "\n",
    "    # Add edges (arcs) to the graph\n",
    "    for arc in vessel_arcs[vessel]:\n",
    "        # If the arc goes to the sink node, skip it\n",
    "        if drop_sink_arcs and arc.destination_node == sinkNode:\n",
    "            continue\n",
    "        G.add_edge(str(arc.origin_node.tuple), str(arc.destination_node.tuple))\n",
    "\n",
    "    # Determine NODES with incoming and outgoing arcs\n",
    "    nodes_with_incoming_arcs = [node for node, degree in G.in_degree() if degree > 0]\n",
    "    nodes_with_outgoing_arcs = [node for node, degree in G.out_degree() if degree > 0]\n",
    "\n",
    "    # Create a list to hold node colors\n",
    "    node_colors = []\n",
    "    for node in G.nodes():\n",
    "        if node in nodes_with_incoming_arcs or node in nodes_with_outgoing_arcs:\n",
    "            node_colors.append('green')  # Color for nodes with arcs\n",
    "        else:\n",
    "            node_colors.append('skyblue')  # Default color\n",
    "\n",
    "    # Resetting the y_offset and y_spacing\n",
    "    y_offset = 10\n",
    "    y_spacing = -30  # Increase vertical spacing for better clarity\n",
    "\n",
    "    # Manually specify the positions for each node\n",
    "    pos = {}\n",
    "\n",
    "    # Manually set the position for the source and sink nodes\n",
    "    # pos[\"(0, 0)\"] = (0, 0)  # Positioning source node at leftmost, middle height\n",
    "    # pos[\"(5, 5)\"] = (5 * 10, 0)  # Positioning sink node at rightmost, middle height\n",
    "\n",
    "    for node in NODES:\n",
    "        # Skip setting position for source and sink nodes\n",
    "        # if str(node.tuple) in [\"(0, 0)\", \"(5, 5)\"]:\n",
    "        #     continue\n",
    "        port_index = node.port.number  # Get port number to determine y-coordinate\n",
    "        # The x-coordinate is based on time, the y-coordinate is fixed for nodes with the same port\n",
    "        pos[str(node.tuple)] = (node.time * 10, port_index * y_spacing)  # Multiplying time by 10 for better horizontal spacing\n",
    "\n",
    "    # Drawing the graph using the adjusted positions\n",
    "    plt.figure(figsize=(15, 10))\n",
    "    nx.draw(G, pos, with_labels=True, node_size=2000, node_color=node_colors, font_size=10)\n",
    "    labels = nx.get_edge_attributes(G, 'weight')\n",
    "    nx.draw_networkx_edge_labels(G, pos, edge_labels=labels)\n",
    "    plt.title(\"Nodes and Arcs Graph\")\n",
    "    plt.show()"
   ]
  },
  {
   "cell_type": "code",
   "execution_count": 57,
   "metadata": {},
   "outputs": [],
   "source": [
    "# for vessel in vessels:\n",
    "#     visualize_network_for_vessel(vessel, vessel_arcs, drop_sink_arcs=True)"
   ]
  },
  {
   "cell_type": "code",
   "execution_count": 58,
   "metadata": {},
   "outputs": [],
   "source": [
    "from collections import defaultdict\n",
    "\n",
    "def filter_arcs_for_equal_speed_spread(arcs):\n",
    "    if len(arcs) <= 4:\n",
    "        return arcs\n",
    "\n",
    "    # Sort arcs by speed\n",
    "    sorted_arcs = sorted(arcs, key=lambda arc: arc.speed)\n",
    "\n",
    "    slowest_arc = sorted_arcs[0]\n",
    "    fastest_arc = sorted_arcs[-1]\n",
    "\n",
    "    # To equally spread the speeds, we'll try to minimize the variance of the differences in speeds\n",
    "    # between consecutive selected arcs.\n",
    "    min_variance = float('inf')\n",
    "    selected_arcs = [slowest_arc, fastest_arc]\n",
    "\n",
    "    for i in range(1, len(sorted_arcs) - 2):\n",
    "        for j in range(i + 1, len(sorted_arcs) - 1):\n",
    "            speeds = [slowest_arc.speed, sorted_arcs[i].speed, sorted_arcs[j].speed, fastest_arc.speed]\n",
    "            intervals = [speeds[k + 1] - speeds[k] for k in range(len(speeds) - 1)]\n",
    "            variance = sum((x - sum(intervals) / len(intervals)) ** 2 for x in intervals) / len(intervals)\n",
    "\n",
    "            if variance < min_variance:\n",
    "                min_variance = variance\n",
    "                selected_arcs = [slowest_arc, sorted_arcs[i], sorted_arcs[j], fastest_arc]\n",
    "\n",
    "    return selected_arcs"
   ]
  },
  {
   "cell_type": "code",
   "execution_count": 59,
   "metadata": {},
   "outputs": [],
   "source": [
    "if FA:\n",
    "    filtered_arcs = {}\n",
    "    for vessel in vessels:\n",
    "        arcs = vessel_arcs[vessel]\n",
    "\n",
    "        # Group arcs by (origin node, destination port)\n",
    "        grouped_arcs = defaultdict(list)\n",
    "        for arc in arcs:\n",
    "            origin_node = arc.origin_node\n",
    "            destination_port = arc.destination_node.port\n",
    "            grouped_arcs[(origin_node, destination_port)].append(arc)\n",
    "\n",
    "        # Filter arcs in each group\n",
    "        filtered_arcs_for_v = []\n",
    "\n",
    "        # print(grouped_arcs[NODE_DICT[(3, 5)], ports[0]])\n",
    "        for group in grouped_arcs:\n",
    "            filtered_arcs_for_v.extend(filter_arcs_for_equal_speed_spread(grouped_arcs[group]))\n",
    "        \n",
    "        filtered_arcs[vessel] = filtered_arcs_for_v\n",
    "        \n"
   ]
  },
  {
   "cell_type": "code",
   "execution_count": 60,
   "metadata": {},
   "outputs": [],
   "source": [
    "def find_earliest_visits_from_start(filtered_arcs, start_node):\n",
    "    # Dictionary to store the earliest visit time for each port\n",
    "    earliest_visits = {}\n",
    "\n",
    "    # Filter arcs to include only those originating from the start node\n",
    "    outgoing_arcs = [arc for arc in filtered_arcs if arc.origin_node == start_node]\n",
    "\n",
    "    # Iterate through the outgoing arcs\n",
    "    for arc in outgoing_arcs:\n",
    "        dest_port = arc.destination_node.port\n",
    "        dest_time = arc.destination_node.time\n",
    "\n",
    "        # Update the earliest visit time for each destination port\n",
    "        if dest_port not in earliest_visits or dest_time < earliest_visits[dest_port]:\n",
    "            earliest_visits[dest_port] = dest_time\n",
    "\n",
    "    return earliest_visits"
   ]
  },
  {
   "cell_type": "code",
   "execution_count": 61,
   "metadata": {},
   "outputs": [],
   "source": [
    "earliest_visits = {}\n",
    "for vessel in vessels:\n",
    "    if FA:\n",
    "        earliest_visits[vessel] = find_earliest_visits_from_start(filtered_arcs[vessel], start_info[vessel])\n",
    "    else:\n",
    "        earliest_visits[vessel] = find_earliest_visits_from_start(vessel_arcs[vessel], start_info[vessel])\n",
    "        "
   ]
  },
  {
   "cell_type": "code",
   "execution_count": 62,
   "metadata": {},
   "outputs": [
    {
     "data": {
      "text/plain": [
       "{Vessel 3: {Port 1: 2, Port 2: 10, Port 3: 10, Port 5: 46},\n",
       " Vessel 4: {Port 1: 7, Port 2: 15, Port 3: 15, Port 5: 46},\n",
       " Vessel 5: {Port 1: 4, Port 2: 12, Port 3: 12, Port 5: 46},\n",
       " Vessel 6: {Port 1: 11, Port 2: 3, Port 3: 3, Port 5: 46},\n",
       " Vessel 7: {Port 1: 14, Port 2: 6, Port 3: 6, Port 5: 46}}"
      ]
     },
     "execution_count": 62,
     "metadata": {},
     "output_type": "execute_result"
    }
   ],
   "source": [
    "earliest_visits"
   ]
  },
  {
   "cell_type": "code",
   "execution_count": 63,
   "metadata": {},
   "outputs": [],
   "source": [
    "if FA:\n",
    "    filtered = filtered_arcs.copy()\n",
    "else:\n",
    "    filtered = vessel_arcs.copy()\n",
    "\n",
    "for v in vessels:\n",
    "    # Create a new list for storing filtered arcs\n",
    "    new_filtered_arcs = []\n",
    "\n",
    "    for arc in filtered[v]:\n",
    "        # Skip the source and sink nodes\n",
    "        # if arc.origin_node == sourceNode or arc.destination_node == sinkNode:\n",
    "        if arc.origin_node == sourceNode:\n",
    "            new_filtered_arcs.append(arc)\n",
    "            continue\n",
    "        \n",
    "        if arc.origin_node == start_info[v]:\n",
    "            new_filtered_arcs.append(arc)\n",
    "            continue\n",
    "\n",
    "        # Check the earliest visit time constraints\n",
    "        if arc.origin_node.time >= earliest_visits[v][arc.origin_node.port] \\\n",
    "           and arc.destination_node.time >= earliest_visits[v][arc.destination_node.port]:\n",
    "            new_filtered_arcs.append(arc)\n",
    "    filtered[v] = new_filtered_arcs"
   ]
  },
  {
   "cell_type": "code",
   "execution_count": 64,
   "metadata": {},
   "outputs": [
    {
     "name": "stdout",
     "output_type": "stream",
     "text": [
      "Total number of arcs before filtering: 6505\n",
      "Total number of arcs after filtering: 3685\n"
     ]
    }
   ],
   "source": [
    "total_vessel_arcs = sum(len(vessel_arcs[v]) for v in vessels)\n",
    "total_filtered_arcs = sum(len(filtered[v]) for v in vessels)\n",
    "\n",
    "# Print the total number of arcs for each vessel before and after filtering\n",
    "print(f\"Total number of arcs before filtering: {total_vessel_arcs}\")\n",
    "print(f\"Total number of arcs after filtering: {total_filtered_arcs}\")"
   ]
  },
  {
   "cell_type": "code",
   "execution_count": 65,
   "metadata": {},
   "outputs": [],
   "source": [
    "vessel_arcs = filtered.copy()"
   ]
  },
  {
   "cell_type": "markdown",
   "metadata": {},
   "source": [
    "# NEW"
   ]
  },
  {
   "cell_type": "code",
   "execution_count": 66,
   "metadata": {},
   "outputs": [],
   "source": [
    "# Initialize the count of visits for each port for each vessel\n",
    "visit_count = {v: {p.number: 0 for p in ports} for v in vessels}\n",
    "\n",
    "# Update the visit count according to the vessel routes\n",
    "for v, route in VESSEL_ROUTES.items():\n",
    "    for p in route:\n",
    "        visit_count[v][p] += 1\n",
    "        \n",
    "all_o_indices = []\n",
    "for v in vessels:\n",
    "    for p in ports:\n",
    "        for t in TIME_PERIOD_RANGE:\n",
    "            for visit in range(1, visit_count[v][p.number] + 1):\n",
    "                index = (p.number, t, v, visit)\n",
    "                all_o_indices.append(index)"
   ]
  },
  {
   "cell_type": "code",
   "execution_count": 67,
   "metadata": {},
   "outputs": [],
   "source": [
    "# For each o_index in all_o_indices, find the corresponding index for the q_index\n",
    "all_q_indices = []\n",
    "for o_index in all_o_indices:\n",
    "    p, t, v, _ = o_index\n",
    "    q_index = (p, t, v)\n",
    "    all_q_indices.append(q_index)"
   ]
  },
  {
   "cell_type": "code",
   "execution_count": 68,
   "metadata": {},
   "outputs": [
    {
     "data": {
      "text/plain": [
       "dict_values([{1: 2, 2: 2, 3: 0}, {1: 2, 2: 1, 3: 1}, {1: 2, 2: 1, 3: 2}, {1: 2, 2: 2, 3: 0}, {1: 2, 2: 0, 3: 2}])"
      ]
     },
     "execution_count": 68,
     "metadata": {},
     "output_type": "execute_result"
    }
   ],
   "source": [
    "visit_count.values()"
   ]
  },
  {
   "cell_type": "code",
   "execution_count": 69,
   "metadata": {},
   "outputs": [],
   "source": [
    "# Look at visit count for each vessel and remove all arcs going to and from ports with visit count=0\n",
    "for vessel in vessels:\n",
    "    for port in ports:\n",
    "        nm = port.number\n",
    "        visits = visit_count[vessel][nm]\n",
    "        if visits == 0:\n",
    "            for arc in vessel_arcs[vessel]:\n",
    "                if arc.origin_node.port.number == nm or arc.destination_node.port.number == nm:\n",
    "                    del arc_dict[(arc.origin_node.tuple, arc.destination_node.tuple, vessel)]\n",
    "            vessel_arcs[vessel] = [arc for arc in vessel_arcs[vessel] if arc.origin_node.port.number != nm and arc.destination_node.port.number != nm]"
   ]
  },
  {
   "cell_type": "code",
   "execution_count": 70,
   "metadata": {},
   "outputs": [],
   "source": [
    "# for v in vessels:\n",
    "#     visualize_network_for_vessel(v, vessel_arcs, drop_sink_arcs=True)"
   ]
  },
  {
   "cell_type": "markdown",
   "metadata": {},
   "source": [
    "# Starting with Gurobi"
   ]
  },
  {
   "cell_type": "code",
   "execution_count": 71,
   "metadata": {},
   "outputs": [],
   "source": [
    "'''Creating the variables'''\n",
    "'''Binary first'''\n",
    "# x is the binary variable that indicates whether a vessel travels on arc a, where and arc is a route frome one node to another node.\n",
    "x = m.addVars(((arc.tuple, vessel) for vessel in vessels for arc in vessel_arcs[vessel]) , vtype=gp.GRB.BINARY, name=\"x\")\n",
    "\n",
    "# Create o variables only for the number of visits that actually occur for each port for each vessel\n",
    "o = m.addVars((index for index in all_o_indices), vtype=gp.GRB.BINARY, name=\"o\") \n",
    "\n",
    "'''Continuous varibles'''\n",
    "# q is the amount of product loaded or unloaded at port i by vessel v at time t\n",
    "q_bounds = {(node.port.number, node.time, vessel): min(vessel.max_inventory, node.port.capacity) for node in regularNodes for vessel in vessels}\n",
    "q = m.addVars(q_bounds.keys(), lb=0, ub=q_bounds, vtype=gp.GRB.CONTINUOUS, name=\"q\")\n",
    "\n",
    "# s is the amount of product at port i at the end of period t\n",
    "s_bounds = {(node.port.number, node.time): node.port.capacity for node in regularNodes}\n",
    "s = m.addVars(s_bounds.keys(), lb=0, ub=s_bounds, vtype=gp.GRB.CONTINUOUS, name=\"s\")\n",
    "\n",
    "# Create s vars for each port in time period 0\n",
    "s_bounds_source = {(port.number, 0): port.capacity for port in ports}\n",
    "s_source = m.addVars(s_bounds_source.keys(), lb=0, ub=s_bounds, vtype=gp.GRB.CONTINUOUS, name=\"s\")\n",
    "s.update(s_source)\n",
    "\n",
    "# w is the amount of product on board of vessel v at the end of time period t\n",
    "w_bounds = {(t, vessel): vessel.max_inventory for vessel in vessels for t in TIME_PERIOD_RANGE}\n",
    "w = m.addVars(w_bounds.keys(), lb=0, ub=w_bounds, vtype=gp.GRB.CONTINUOUS, name=\"w\")\n",
    "w_bounds_source = {(0, vessel): vessel.max_inventory for vessel in vessels}\n",
    "w_source = m.addVars(w_bounds_source.keys(), lb=0, ub=w_bounds, vtype=gp.GRB.CONTINUOUS, name=\"w\")\n",
    "w.update(w_source)\n",
    "\n",
    "m.update()"
   ]
  },
  {
   "cell_type": "code",
   "execution_count": 72,
   "metadata": {},
   "outputs": [
    {
     "data": {
      "text/plain": [
       "(2544, 945, 675, 138, 230)"
      ]
     },
     "execution_count": 72,
     "metadata": {},
     "output_type": "execute_result"
    }
   ],
   "source": [
    "len(x), len(o), len(q), len(s), len(w)"
   ]
  },
  {
   "cell_type": "code",
   "execution_count": 73,
   "metadata": {},
   "outputs": [],
   "source": [
    "# Create a dict where the arc.tuple is the key and arc.cost is the value\n",
    "\n",
    "costs = {(arc.tuple, vessel): arc.cost for vessel in vessels for arc in vessel_arcs[vessel] }\n",
    "m.update()"
   ]
  },
  {
   "cell_type": "markdown",
   "metadata": {},
   "source": [
    "### Objective Function"
   ]
  },
  {
   "cell_type": "code",
   "execution_count": 74,
   "metadata": {},
   "outputs": [],
   "source": [
    "# obj = gp.quicksum(costs[key]*x[key] for key in costs) + gp.quicksum(o[node.port.number, node.time, vessel] * 50 for node in regularNodes for vessel in vessels)\n",
    "\n",
    "obj = gp.quicksum(costs[key] * x[key] for key in costs) + gp.quicksum(o[index] * OPERATING_COST for index in all_o_indices)\n",
    "\n",
    "\n",
    "#Minimize the costs\n",
    "m.setObjective(obj, GRB.MINIMIZE)\n",
    "\n",
    "m.update()"
   ]
  },
  {
   "cell_type": "markdown",
   "metadata": {},
   "source": [
    "### Constraints"
   ]
  },
  {
   "cell_type": "code",
   "execution_count": 75,
   "metadata": {},
   "outputs": [],
   "source": [
    "# Constraint (2)\n",
    "for v in vessels:\n",
    "    outgoing_from_source = [arc for arc in vessel_arcs[v] if arc.origin_node == sourceNode]\n",
    "    m.addConstr(gp.quicksum((x[arc.tuple, v]) for arc in outgoing_from_source) == 1, name = 'SourceFlow')\n",
    "m.update()"
   ]
  },
  {
   "cell_type": "code",
   "execution_count": 76,
   "metadata": {},
   "outputs": [],
   "source": [
    "# Constraint (3)\n",
    "for v in vessels:\n",
    "    incoming_to_sink = [arc for arc in vessel_arcs[v] if arc.destination_node == sinkNode]\n",
    "    m.addConstr(gp.quicksum((x[arc.tuple, v]) for arc in incoming_to_sink) == 1, name = 'SinkFlow')\n",
    "m.update()"
   ]
  },
  {
   "cell_type": "code",
   "execution_count": 77,
   "metadata": {},
   "outputs": [],
   "source": [
    "# Constraint (4)\n",
    "# Creating a flow balance constraint for each node\n",
    "\n",
    "for v in vessels:\n",
    "    for node in regularNodes:\n",
    "        outgoing_from_node = [arc for arc in vessel_arcs[v] if arc.origin_node == node]\n",
    "        incoming_to_node = [arc for arc in vessel_arcs[v] if arc.destination_node == node]\n",
    "        m.addConstr(gp.quicksum((x[in_arc.tuple, v]) for in_arc in incoming_to_node) - gp.quicksum((x[out_arc.tuple, v]) for out_arc in outgoing_from_node) == 0, name = \"FlowBalance\")"
   ]
  },
  {
   "cell_type": "code",
   "execution_count": 78,
   "metadata": {},
   "outputs": [],
   "source": [
    "# Constraint (5)\n",
    "for port in ports:\n",
    "    m.addConstr(s_source[port.number, 0] == port.inventory, name = 'InitialInventoryPort')"
   ]
  },
  {
   "cell_type": "code",
   "execution_count": 79,
   "metadata": {},
   "outputs": [],
   "source": [
    "# Constraint (6)\n",
    "'''Rate is static for now'''\n",
    "# Inventory balance for ports at the end of each time period t\n",
    "for port in ports:\n",
    "    for t in TIME_PERIOD_RANGE:\n",
    "        m.addConstr(s[port.number, t] == (s[port.number, t-1] + (port.isLoadingPort * port.rate) - gp.quicksum(port.isLoadingPort * q[port.number, t, v] for v in vessels)) , name = 'InventoryBalance')\n",
    "m.update()"
   ]
  },
  {
   "cell_type": "code",
   "execution_count": 80,
   "metadata": {},
   "outputs": [],
   "source": [
    "# Constraint (7)\n",
    "\n",
    "for v in vessels:\n",
    "    m.addConstr(w_source[0, v] == v.inventory, name = 'InitialInventoryVessel')"
   ]
  },
  {
   "cell_type": "code",
   "execution_count": 81,
   "metadata": {},
   "outputs": [],
   "source": [
    "# Constraint (8)\n",
    "\n",
    "# for each vessel, the inventory at the end of the time period is equal to the inventory at the beginning of the time period + the amount of product loaded/unloaded at the ports\n",
    "for t in TIME_PERIOD_RANGE:\n",
    "    for v in vessels:\n",
    "        m.addConstr(w[t, v] == gp.quicksum(port.isLoadingPort * q[port.number, t, v] for port in ports) + w[t-1,v], name = 'VesselBalance')\n",
    "m.update()"
   ]
  },
  {
   "cell_type": "code",
   "execution_count": 82,
   "metadata": {},
   "outputs": [
    {
     "data": {
      "text/plain": [
       "'ER IKKE DENNE FEIL? BØR VEL SUMMERE OVER ALLE VESSELS?'"
      ]
     },
     "execution_count": 82,
     "metadata": {},
     "output_type": "execute_result"
    }
   ],
   "source": [
    "# Constraint (9): Berth limit at each port in each time period\n",
    "for node in regularNodes:\n",
    "    for v in vessels:\n",
    "        # Find indices for o variables for the current vessel and port\n",
    "        o_indices = [index for index in all_o_indices if index[0] == node.port.number and index[1] == node.time and index[2] == v]\n",
    "        m.addConstr((gp.quicksum(o[index] \n",
    "                                for index in o_indices ) \n",
    "                    <= node.port.berth_limit), \n",
    "                    name = f'Berth_limit_port_{node.port.number}_time_{node.time}')\n",
    "m.update()\n",
    "\n",
    "'''ER IKKE DENNE FEIL? BØR VEL SUMMERE OVER ALLE VESSELS?'''\n"
   ]
  },
  {
   "cell_type": "markdown",
   "metadata": {},
   "source": [
    "#NEW"
   ]
  },
  {
   "cell_type": "code",
   "execution_count": 83,
   "metadata": {},
   "outputs": [],
   "source": [
    "# # Contraint (13)\n",
    "# '''Must operate in every port we visit.'''\n",
    "# # O_itv <= o_i(t+1)v + sum of x_ijv for all j except waiting arc\n",
    "# for v in vessels:\n",
    "#     for node in regularNodes:\n",
    "#         outgoing_from_node = [arc for arc in vessel_arcs[v] if arc.origin_node == node]\n",
    "#         # Remove the waiting arc from the list\n",
    "#         for a in outgoing_from_node:\n",
    "#             if a.is_waiting_arc:\n",
    "#                 outgoing_from_node.remove(a)\n",
    "#         o_indices = [index for index in all_o_indices if index[0] == node.port.number and index[2] == node.time and index[3] == v]\n",
    "        \n",
    "#         m.addConstr(gp.quicksum(o[index] for index in o_indices) >= gp.quicksum((x[out_arc.tuple, v]) for out_arc in outgoing_from_node), name = 'Must_operate_in_every_port')\n",
    "# m.update()"
   ]
  },
  {
   "cell_type": "code",
   "execution_count": 84,
   "metadata": {},
   "outputs": [],
   "source": [
    "# #Constraint (10)\n",
    "\n",
    "for index in all_o_indices:\n",
    "    port_number, time, vessel, visit = index\n",
    "    node = NODE_DICT[(port_number, time)]\n",
    "    incoming_to_node = [arc for arc in vessel_arcs[vessel] if arc.destination_node == node]\n",
    "    m.addConstr(o[index] <= gp.quicksum((x[in_arc.tuple, vessel]) for in_arc in incoming_to_node), name = f'Operate_vessel_{vessel}_node_{node.port.number}_time_{node.time}_visit_{visit}')\n",
    "    \n",
    "m.update()\n"
   ]
  },
  {
   "cell_type": "code",
   "execution_count": 85,
   "metadata": {},
   "outputs": [],
   "source": [
    "# Create a dict with all waiting arcs with key = (arc.tuple, v)\n",
    "# (node.port.number, node.time), (node.port.number, node.time + 1)\n",
    "all_waiting_arcs = {}\n",
    "for v in vessels:\n",
    "    for arc in waiting_arcs[v]:\n",
    "        origin_node = arc.origin_node\n",
    "        destination_node = arc.destination_node\n",
    "        all_waiting_arcs[((origin_node.port.number, origin_node.time),(destination_node.port.number, destination_node.time) , v)] = arc"
   ]
  },
  {
   "cell_type": "code",
   "execution_count": 86,
   "metadata": {},
   "outputs": [],
   "source": [
    "# Constraint (11)\n",
    "                \n",
    "for index in all_o_indices:\n",
    "    port_number, time, vessel, visit = index\n",
    "    node = NODE_DICT[(port_number, time)]\n",
    "    if (node.port.number, node.time + 1, vessel, visit + 1) in o.keys():  # check if o for the next period and next visit exists\n",
    "        waiting_arc_key = ((node.port.number, node.time), (node.port.number, node.time + 1), vessel)\n",
    "        if waiting_arc_key in all_waiting_arcs.keys():\n",
    "            waiting_arc = all_waiting_arcs[waiting_arc_key]\n",
    "        else:\n",
    "            continue\n",
    "        \n",
    "        actual_key = (waiting_arc.tuple, vessel)\n",
    "        \n",
    "        if actual_key in x.keys():  # check if the waiting arc exists\n",
    "            m.addConstr(o[index] <= \n",
    "                        o[(node.port.number, node.time + 1, vessel, visit + 1)] + \n",
    "                        (1 - x[actual_key]),\n",
    "                        name=f\"Operate_or_Move_{node.port.number}_{node.time}_{vessel}_visit_{visit}\")\n",
    "\n",
    "m.update()"
   ]
  },
  {
   "cell_type": "code",
   "execution_count": 87,
   "metadata": {},
   "outputs": [],
   "source": [
    "\n",
    "# Constraint (12): The quantity of product loaded or unloaded must not exceed the maximum operating quantity for each operation\n",
    "for v in vessels:\n",
    "    for node in regularNodes:\n",
    "        # Find o-indices for the current node and vessel\n",
    "        o_indices = [index for index in all_o_indices if index[0] == node.port.number and index[1] == node.time and index[2] == v]\n",
    "        m.addConstr(q[node.port.number, node.time, v] <= gp.quicksum(o[index] for index in o_indices) * v.max_operating_quantity,\n",
    "                    name=f'Max_operating_quantity_vessel_{v}_port_{node.port.number}_time_{node.time}')\n",
    "m.update()\n"
   ]
  },
  {
   "cell_type": "code",
   "execution_count": 88,
   "metadata": {},
   "outputs": [],
   "source": [
    "# # Constraint 13\n",
    "        \n",
    "# Constraint 14: Each vessel can perform at most one operation per time period across all ports and visits\n",
    "for v in vessels:\n",
    "    for t in TIME_PERIOD_RANGE:\n",
    "        # Find the set of all o-indices for the current vessel and node\n",
    "        o_indices = [index for index in all_o_indices if index[1] == t and index[2] == v]\n",
    "        m.addConstr(gp.quicksum(o[index] for index in o_indices) <= 1,\n",
    "                    name=f'Only_one_operation_per_time_period_vessel_{v}_time_{t}')\n",
    "m.update()\n"
   ]
  },
  {
   "cell_type": "code",
   "execution_count": 89,
   "metadata": {},
   "outputs": [],
   "source": [
    "        \n",
    "# Constraint 14: Each vessel must complete its sequence by performing an operation at the last port in its sequence\n",
    "for v in vessels:\n",
    "    if VESSEL_ROUTES[v]:\n",
    "        last_port_in_sequence = VESSEL_ROUTES[v][-1]\n",
    "        last_visit_count = VESSEL_ROUTES[v].count(last_port_in_sequence)\n",
    "        m.addConstr(gp.quicksum(o[last_port_in_sequence, t, v, last_visit_count] for t in TIME_PERIOD_RANGE) >= 1,\n",
    "                    name=f'Sequence_completion_constraint_vessel_{v}')\n",
    "m.update()\n"
   ]
  },
  {
   "cell_type": "code",
   "execution_count": 90,
   "metadata": {},
   "outputs": [
    {
     "name": "stdout",
     "output_type": "stream",
     "text": [
      "Zero allowed visits\n",
      "Zero allowed visits\n",
      "Zero allowed visits\n"
     ]
    }
   ],
   "source": [
    "# Constraint 15: Limit the number of operations at each port for each vessel as per visit_count\n",
    "for v in vessels:\n",
    "    for p in ports:\n",
    "        # visit_count[v][p.number] gives the allowed number of visits to port p for vessel v\n",
    "        allowed_visits = visit_count[v][p.number]\n",
    "        if allowed_visits == 0:\n",
    "            print(\"Zero allowed visits\")\n",
    "            \n",
    "        o_indices = [index for index in all_o_indices if index[0] == p.number and index[2] == v]\n",
    "            \n",
    "        # # Sum over all time periods and all visits (up to allowed_visits) should not exceed allowed_visits\n",
    "        # m.addConstr(\n",
    "        #     gp.quicksum(o[p.number, t, v, visit] for t in TIME_PERIOD_RANGE for visit in range(1, allowed_visits + 1)) <= allowed_visits,\n",
    "        #     name=f'Operation_limit_vessel_{v}_port_{p.number}'\n",
    "        # )\n",
    "        \n",
    "        # Sum over all time periods and all visits (up to allowed_visits) should not exceed allowed_visits\n",
    "        m.addConstr(\n",
    "            gp.quicksum(o[index] for index in o_indices) <= allowed_visits,\n",
    "            name=f'Operation_limit_vessel_{v}_port_{p.number}'\n",
    "        )\n",
    "m.update()\n"
   ]
  },
  {
   "cell_type": "code",
   "execution_count": 91,
   "metadata": {},
   "outputs": [
    {
     "data": {
      "text/plain": [
       "{Vessel 3: {1: 2, 2: 2, 3: 0},\n",
       " Vessel 4: {1: 2, 2: 1, 3: 1},\n",
       " Vessel 5: {1: 2, 2: 1, 3: 2},\n",
       " Vessel 6: {1: 2, 2: 2, 3: 0},\n",
       " Vessel 7: {1: 2, 2: 0, 3: 2}}"
      ]
     },
     "execution_count": 91,
     "metadata": {},
     "output_type": "execute_result"
    }
   ],
   "source": [
    "visit_count"
   ]
  },
  {
   "cell_type": "code",
   "execution_count": 92,
   "metadata": {},
   "outputs": [],
   "source": [
    "\n",
    "# Enforcing the correct sequence of operations\n",
    "for v in vessels:\n",
    "    sequence = VESSEL_ROUTES[v]\n",
    "    visit_counts = {port: 0 for port in sequence}\n",
    "    \n",
    "    for i in range(1, len(sequence)):\n",
    "        this_port = sequence[i-1]\n",
    "        next_port = sequence[i]\n",
    "        visit_counts[this_port] += 1\n",
    "        this_visit = visit_counts[this_port]\n",
    "        next_visit = visit_counts[next_port] + 1\n",
    "        \n",
    "        # For each time period, ensure the operation at next_port follows the operation at this_port\n",
    "        for t in TIME_PERIOD_RANGE:\n",
    "            # Sum of operations at this_port for all time periods up to t-1 must be greater than or equal to\n",
    "            # the sum of operations at next_port for all time periods up to t\n",
    "            m.addConstr(\n",
    "                gp.quicksum(o[this_port, t_prime, v, this_visit] for t_prime in TIME_PERIOD_RANGE if t_prime < t) >=\n",
    "                gp.quicksum(o[next_port, t_prime, v, next_visit] for t_prime in TIME_PERIOD_RANGE if t_prime <= t),\n",
    "                name=f'Sequence_{v}_this_{this_port}_{this_visit}_next_{next_port}_{next_visit}_time_{t}'\n",
    "            )\n",
    "m.update()\n",
    "\n"
   ]
  },
  {
   "cell_type": "markdown",
   "metadata": {},
   "source": [
    "# NEW"
   ]
  },
  {
   "cell_type": "code",
   "execution_count": 93,
   "metadata": {},
   "outputs": [
    {
     "name": "stdout",
     "output_type": "stream",
     "text": [
      "Vessel 3\n",
      "[(0, 0) -> (1, 1) --- Cost: 50 --- Speed: 0, (2, 10) -> (1, 26) --- Cost: 79463.09953449942 --- Speed: 8.145515546256298, (2, 10) -> (1, 23) --- Cost: 120344.39929486297 --- Speed: 10.025249903084674, (2, 10) -> (1, 21) --- Cost: 168064.4915771227 --- Speed: 11.848022612736434, (2, 10) -> (1, 19) --- Cost: 251034.6108744672 --- Speed: 14.480916526677865, (2, 11) -> (1, 27) --- Cost: 79463.09953449942 --- Speed: 8.145515546256298, (2, 11) -> (1, 24) --- Cost: 120344.39929486297 --- Speed: 10.025249903084674, (2, 11) -> (1, 22) --- Cost: 168064.4915771227 --- Speed: 11.848022612736434, (2, 11) -> (1, 20) --- Cost: 251034.6108744672 --- Speed: 14.480916526677865, (2, 12) -> (1, 28) --- Cost: 79463.09953449942 --- Speed: 8.145515546256298, (2, 12) -> (1, 25) --- Cost: 120344.39929486297 --- Speed: 10.025249903084674, (2, 12) -> (1, 23) --- Cost: 168064.4915771227 --- Speed: 11.848022612736434, (2, 12) -> (1, 21) --- Cost: 251034.6108744672 --- Speed: 14.480916526677865, (2, 13) -> (1, 29) --- Cost: 79463.09953449942 --- Speed: 8.145515546256298, (2, 13) -> (1, 26) --- Cost: 120344.39929486297 --- Speed: 10.025249903084674, (2, 13) -> (1, 24) --- Cost: 168064.4915771227 --- Speed: 11.848022612736434, (2, 13) -> (1, 22) --- Cost: 251034.6108744672 --- Speed: 14.480916526677865, (2, 14) -> (1, 30) --- Cost: 79463.09953449942 --- Speed: 8.145515546256298, (2, 14) -> (1, 27) --- Cost: 120344.39929486297 --- Speed: 10.025249903084674, (2, 14) -> (1, 25) --- Cost: 168064.4915771227 --- Speed: 11.848022612736434, (2, 14) -> (1, 23) --- Cost: 251034.6108744672 --- Speed: 14.480916526677865, (2, 15) -> (1, 31) --- Cost: 79463.09953449942 --- Speed: 8.145515546256298, (2, 15) -> (1, 28) --- Cost: 120344.39929486297 --- Speed: 10.025249903084674, (2, 15) -> (1, 26) --- Cost: 168064.4915771227 --- Speed: 11.848022612736434, (2, 15) -> (1, 24) --- Cost: 251034.6108744672 --- Speed: 14.480916526677865, (2, 16) -> (1, 32) --- Cost: 79463.09953449942 --- Speed: 8.145515546256298, (2, 16) -> (1, 29) --- Cost: 120344.39929486297 --- Speed: 10.025249903084674, (2, 16) -> (1, 27) --- Cost: 168064.4915771227 --- Speed: 11.848022612736434, (2, 16) -> (1, 25) --- Cost: 251034.6108744672 --- Speed: 14.480916526677865, (2, 17) -> (1, 33) --- Cost: 79463.09953449942 --- Speed: 8.145515546256298, (2, 17) -> (1, 30) --- Cost: 120344.39929486297 --- Speed: 10.025249903084674, (2, 17) -> (1, 28) --- Cost: 168064.4915771227 --- Speed: 11.848022612736434, (2, 17) -> (1, 26) --- Cost: 251034.6108744672 --- Speed: 14.480916526677865, (2, 18) -> (1, 34) --- Cost: 79463.09953449942 --- Speed: 8.145515546256298, (2, 18) -> (1, 31) --- Cost: 120344.39929486297 --- Speed: 10.025249903084674, (2, 18) -> (1, 29) --- Cost: 168064.4915771227 --- Speed: 11.848022612736434, (2, 18) -> (1, 27) --- Cost: 251034.6108744672 --- Speed: 14.480916526677865, (2, 19) -> (1, 35) --- Cost: 79463.09953449942 --- Speed: 8.145515546256298, (2, 19) -> (1, 32) --- Cost: 120344.39929486297 --- Speed: 10.025249903084674, (2, 19) -> (1, 30) --- Cost: 168064.4915771227 --- Speed: 11.848022612736434, (2, 19) -> (1, 28) --- Cost: 251034.6108744672 --- Speed: 14.480916526677865, (2, 20) -> (1, 36) --- Cost: 79463.09953449942 --- Speed: 8.145515546256298, (2, 20) -> (1, 33) --- Cost: 120344.39929486297 --- Speed: 10.025249903084674, (2, 20) -> (1, 31) --- Cost: 168064.4915771227 --- Speed: 11.848022612736434, (2, 20) -> (1, 29) --- Cost: 251034.6108744672 --- Speed: 14.480916526677865, (2, 21) -> (1, 37) --- Cost: 79463.09953449942 --- Speed: 8.145515546256298, (2, 21) -> (1, 34) --- Cost: 120344.39929486297 --- Speed: 10.025249903084674, (2, 21) -> (1, 32) --- Cost: 168064.4915771227 --- Speed: 11.848022612736434, (2, 21) -> (1, 30) --- Cost: 251034.6108744672 --- Speed: 14.480916526677865, (2, 22) -> (1, 38) --- Cost: 79463.09953449942 --- Speed: 8.145515546256298, (2, 22) -> (1, 35) --- Cost: 120344.39929486297 --- Speed: 10.025249903084674, (2, 22) -> (1, 33) --- Cost: 168064.4915771227 --- Speed: 11.848022612736434, (2, 22) -> (1, 31) --- Cost: 251034.6108744672 --- Speed: 14.480916526677865, (2, 23) -> (1, 39) --- Cost: 79463.09953449942 --- Speed: 8.145515546256298, (2, 23) -> (1, 36) --- Cost: 120344.39929486297 --- Speed: 10.025249903084674, (2, 23) -> (1, 34) --- Cost: 168064.4915771227 --- Speed: 11.848022612736434, (2, 23) -> (1, 32) --- Cost: 251034.6108744672 --- Speed: 14.480916526677865, (2, 24) -> (1, 40) --- Cost: 79463.09953449942 --- Speed: 8.145515546256298, (2, 24) -> (1, 37) --- Cost: 120344.39929486297 --- Speed: 10.025249903084674, (2, 24) -> (1, 35) --- Cost: 168064.4915771227 --- Speed: 11.848022612736434, (2, 24) -> (1, 33) --- Cost: 251034.6108744672 --- Speed: 14.480916526677865, (2, 25) -> (1, 41) --- Cost: 79463.09953449942 --- Speed: 8.145515546256298, (2, 25) -> (1, 38) --- Cost: 120344.39929486297 --- Speed: 10.025249903084674, (2, 25) -> (1, 36) --- Cost: 168064.4915771227 --- Speed: 11.848022612736434, (2, 25) -> (1, 34) --- Cost: 251034.6108744672 --- Speed: 14.480916526677865, (2, 26) -> (1, 42) --- Cost: 79463.09953449942 --- Speed: 8.145515546256298, (2, 26) -> (1, 39) --- Cost: 120344.39929486297 --- Speed: 10.025249903084674, (2, 26) -> (1, 37) --- Cost: 168064.4915771227 --- Speed: 11.848022612736434, (2, 26) -> (1, 35) --- Cost: 251034.6108744672 --- Speed: 14.480916526677865, (2, 27) -> (1, 43) --- Cost: 79463.09953449942 --- Speed: 8.145515546256298, (2, 27) -> (1, 40) --- Cost: 120344.39929486297 --- Speed: 10.025249903084674, (2, 27) -> (1, 38) --- Cost: 168064.4915771227 --- Speed: 11.848022612736434, (2, 27) -> (1, 36) --- Cost: 251034.6108744672 --- Speed: 14.480916526677865, (2, 28) -> (1, 44) --- Cost: 79463.09953449942 --- Speed: 8.145515546256298, (2, 28) -> (1, 41) --- Cost: 120344.39929486297 --- Speed: 10.025249903084674, (2, 28) -> (1, 39) --- Cost: 168064.4915771227 --- Speed: 11.848022612736434, (2, 28) -> (1, 37) --- Cost: 251034.6108744672 --- Speed: 14.480916526677865, (2, 29) -> (1, 45) --- Cost: 79463.09953449942 --- Speed: 8.145515546256298, (2, 29) -> (1, 42) --- Cost: 120344.39929486297 --- Speed: 10.025249903084674, (2, 29) -> (1, 40) --- Cost: 168064.4915771227 --- Speed: 11.848022612736434, (2, 29) -> (1, 38) --- Cost: 251034.6108744672 --- Speed: 14.480916526677865, (2, 30) -> (1, 45) --- Cost: 90404.45991480819 --- Speed: 8.688549916006718, (2, 30) -> (1, 42) --- Cost: 141228.8436168878 --- Speed: 10.860687395008398, (2, 30) -> (1, 40) --- Cost: 203347.53480831845 --- Speed: 13.032824874010078, (2, 30) -> (1, 39) --- Cost: 251034.6108744672 --- Speed: 14.480916526677865, (2, 31) -> (1, 45) --- Cost: 103773.23204506045 --- Speed: 9.309160624292913, (2, 31) -> (1, 43) --- Cost: 141228.8436168878 --- Speed: 10.860687395008398, (2, 31) -> (1, 41) --- Cost: 203347.53480831845 --- Speed: 13.032824874010078, (2, 31) -> (1, 40) --- Cost: 251034.6108744672 --- Speed: 14.480916526677865, (2, 32) -> (1, 45) --- Cost: 120344.39929486297 --- Speed: 10.025249903084674, (2, 32) -> (1, 43) --- Cost: 168064.4915771227 --- Speed: 11.848022612736434, (2, 32) -> (1, 42) --- Cost: 203347.53480831845 --- Speed: 13.032824874010078, (2, 32) -> (1, 41) --- Cost: 251034.6108744672 --- Speed: 14.480916526677865, (2, 33) -> (1, 42) --- Cost: 251034.6108744672 --- Speed: 14.480916526677865, (2, 33) -> (1, 43) --- Cost: 203347.53480831845 --- Speed: 13.032824874010078, (2, 33) -> (1, 44) --- Cost: 168064.4915771227 --- Speed: 11.848022612736434, (2, 33) -> (1, 45) --- Cost: 141228.8436168878 --- Speed: 10.860687395008398, (2, 34) -> (1, 43) --- Cost: 251034.6108744672 --- Speed: 14.480916526677865, (2, 34) -> (1, 44) --- Cost: 203347.53480831845 --- Speed: 13.032824874010078, (2, 34) -> (1, 45) --- Cost: 168064.4915771227 --- Speed: 11.848022612736434, (2, 35) -> (1, 44) --- Cost: 251034.6108744672 --- Speed: 14.480916526677865, (2, 35) -> (1, 45) --- Cost: 203347.53480831845 --- Speed: 13.032824874010078, (2, 36) -> (1, 45) --- Cost: 251034.6108744672 --- Speed: 14.480916526677865]\n",
      "[(1, 1) -> (2, 17) --- Cost: 79463.09953449942 --- Speed: 8.145515546256298, (1, 1) -> (2, 14) --- Cost: 120344.39929486297 --- Speed: 10.025249903084674, (1, 1) -> (2, 12) --- Cost: 168064.4915771227 --- Speed: 11.848022612736434, (1, 1) -> (2, 10) --- Cost: 251034.6108744672 --- Speed: 14.480916526677865, (1, 2) -> (2, 18) --- Cost: 79463.09953449942 --- Speed: 8.145515546256298, (1, 2) -> (2, 15) --- Cost: 120344.39929486297 --- Speed: 10.025249903084674, (1, 2) -> (2, 13) --- Cost: 168064.4915771227 --- Speed: 11.848022612736434, (1, 2) -> (2, 11) --- Cost: 251034.6108744672 --- Speed: 14.480916526677865, (1, 3) -> (2, 19) --- Cost: 79463.09953449942 --- Speed: 8.145515546256298, (1, 3) -> (2, 16) --- Cost: 120344.39929486297 --- Speed: 10.025249903084674, (1, 3) -> (2, 14) --- Cost: 168064.4915771227 --- Speed: 11.848022612736434, (1, 3) -> (2, 12) --- Cost: 251034.6108744672 --- Speed: 14.480916526677865, (1, 4) -> (2, 20) --- Cost: 79463.09953449942 --- Speed: 8.145515546256298, (1, 4) -> (2, 17) --- Cost: 120344.39929486297 --- Speed: 10.025249903084674, (1, 4) -> (2, 15) --- Cost: 168064.4915771227 --- Speed: 11.848022612736434, (1, 4) -> (2, 13) --- Cost: 251034.6108744672 --- Speed: 14.480916526677865, (1, 5) -> (2, 21) --- Cost: 79463.09953449942 --- Speed: 8.145515546256298, (1, 5) -> (2, 18) --- Cost: 120344.39929486297 --- Speed: 10.025249903084674, (1, 5) -> (2, 16) --- Cost: 168064.4915771227 --- Speed: 11.848022612736434, (1, 5) -> (2, 14) --- Cost: 251034.6108744672 --- Speed: 14.480916526677865, (1, 6) -> (2, 22) --- Cost: 79463.09953449942 --- Speed: 8.145515546256298, (1, 6) -> (2, 19) --- Cost: 120344.39929486297 --- Speed: 10.025249903084674, (1, 6) -> (2, 17) --- Cost: 168064.4915771227 --- Speed: 11.848022612736434, (1, 6) -> (2, 15) --- Cost: 251034.6108744672 --- Speed: 14.480916526677865, (1, 7) -> (2, 23) --- Cost: 79463.09953449942 --- Speed: 8.145515546256298, (1, 7) -> (2, 20) --- Cost: 120344.39929486297 --- Speed: 10.025249903084674, (1, 7) -> (2, 18) --- Cost: 168064.4915771227 --- Speed: 11.848022612736434, (1, 7) -> (2, 16) --- Cost: 251034.6108744672 --- Speed: 14.480916526677865, (1, 8) -> (2, 24) --- Cost: 79463.09953449942 --- Speed: 8.145515546256298, (1, 8) -> (2, 21) --- Cost: 120344.39929486297 --- Speed: 10.025249903084674, (1, 8) -> (2, 19) --- Cost: 168064.4915771227 --- Speed: 11.848022612736434, (1, 8) -> (2, 17) --- Cost: 251034.6108744672 --- Speed: 14.480916526677865, (1, 9) -> (2, 25) --- Cost: 79463.09953449942 --- Speed: 8.145515546256298, (1, 9) -> (2, 22) --- Cost: 120344.39929486297 --- Speed: 10.025249903084674, (1, 9) -> (2, 20) --- Cost: 168064.4915771227 --- Speed: 11.848022612736434, (1, 9) -> (2, 18) --- Cost: 251034.6108744672 --- Speed: 14.480916526677865, (1, 10) -> (2, 26) --- Cost: 79463.09953449942 --- Speed: 8.145515546256298, (1, 10) -> (2, 23) --- Cost: 120344.39929486297 --- Speed: 10.025249903084674, (1, 10) -> (2, 21) --- Cost: 168064.4915771227 --- Speed: 11.848022612736434, (1, 10) -> (2, 19) --- Cost: 251034.6108744672 --- Speed: 14.480916526677865, (1, 11) -> (2, 27) --- Cost: 79463.09953449942 --- Speed: 8.145515546256298, (1, 11) -> (2, 24) --- Cost: 120344.39929486297 --- Speed: 10.025249903084674, (1, 11) -> (2, 22) --- Cost: 168064.4915771227 --- Speed: 11.848022612736434, (1, 11) -> (2, 20) --- Cost: 251034.6108744672 --- Speed: 14.480916526677865, (1, 12) -> (2, 28) --- Cost: 79463.09953449942 --- Speed: 8.145515546256298, (1, 12) -> (2, 25) --- Cost: 120344.39929486297 --- Speed: 10.025249903084674, (1, 12) -> (2, 23) --- Cost: 168064.4915771227 --- Speed: 11.848022612736434, (1, 12) -> (2, 21) --- Cost: 251034.6108744672 --- Speed: 14.480916526677865, (1, 13) -> (2, 29) --- Cost: 79463.09953449942 --- Speed: 8.145515546256298, (1, 13) -> (2, 26) --- Cost: 120344.39929486297 --- Speed: 10.025249903084674, (1, 13) -> (2, 24) --- Cost: 168064.4915771227 --- Speed: 11.848022612736434, (1, 13) -> (2, 22) --- Cost: 251034.6108744672 --- Speed: 14.480916526677865, (1, 14) -> (2, 30) --- Cost: 79463.09953449942 --- Speed: 8.145515546256298, (1, 14) -> (2, 27) --- Cost: 120344.39929486297 --- Speed: 10.025249903084674, (1, 14) -> (2, 25) --- Cost: 168064.4915771227 --- Speed: 11.848022612736434, (1, 14) -> (2, 23) --- Cost: 251034.6108744672 --- Speed: 14.480916526677865, (1, 15) -> (2, 31) --- Cost: 79463.09953449942 --- Speed: 8.145515546256298, (1, 15) -> (2, 28) --- Cost: 120344.39929486297 --- Speed: 10.025249903084674, (1, 15) -> (2, 26) --- Cost: 168064.4915771227 --- Speed: 11.848022612736434, (1, 15) -> (2, 24) --- Cost: 251034.6108744672 --- Speed: 14.480916526677865, (1, 16) -> (2, 32) --- Cost: 79463.09953449942 --- Speed: 8.145515546256298, (1, 16) -> (2, 29) --- Cost: 120344.39929486297 --- Speed: 10.025249903084674, (1, 16) -> (2, 27) --- Cost: 168064.4915771227 --- Speed: 11.848022612736434, (1, 16) -> (2, 25) --- Cost: 251034.6108744672 --- Speed: 14.480916526677865, (1, 17) -> (2, 33) --- Cost: 79463.09953449942 --- Speed: 8.145515546256298, (1, 17) -> (2, 30) --- Cost: 120344.39929486297 --- Speed: 10.025249903084674, (1, 17) -> (2, 28) --- Cost: 168064.4915771227 --- Speed: 11.848022612736434, (1, 17) -> (2, 26) --- Cost: 251034.6108744672 --- Speed: 14.480916526677865, (1, 18) -> (2, 34) --- Cost: 79463.09953449942 --- Speed: 8.145515546256298, (1, 18) -> (2, 31) --- Cost: 120344.39929486297 --- Speed: 10.025249903084674, (1, 18) -> (2, 29) --- Cost: 168064.4915771227 --- Speed: 11.848022612736434, (1, 18) -> (2, 27) --- Cost: 251034.6108744672 --- Speed: 14.480916526677865, (1, 19) -> (2, 35) --- Cost: 79463.09953449942 --- Speed: 8.145515546256298, (1, 19) -> (2, 32) --- Cost: 120344.39929486297 --- Speed: 10.025249903084674, (1, 19) -> (2, 30) --- Cost: 168064.4915771227 --- Speed: 11.848022612736434, (1, 19) -> (2, 28) --- Cost: 251034.6108744672 --- Speed: 14.480916526677865, (1, 20) -> (2, 36) --- Cost: 79463.09953449942 --- Speed: 8.145515546256298, (1, 20) -> (2, 33) --- Cost: 120344.39929486297 --- Speed: 10.025249903084674, (1, 20) -> (2, 31) --- Cost: 168064.4915771227 --- Speed: 11.848022612736434, (1, 20) -> (2, 29) --- Cost: 251034.6108744672 --- Speed: 14.480916526677865, (1, 21) -> (2, 37) --- Cost: 79463.09953449942 --- Speed: 8.145515546256298, (1, 21) -> (2, 34) --- Cost: 120344.39929486297 --- Speed: 10.025249903084674, (1, 21) -> (2, 32) --- Cost: 168064.4915771227 --- Speed: 11.848022612736434, (1, 21) -> (2, 30) --- Cost: 251034.6108744672 --- Speed: 14.480916526677865, (1, 22) -> (2, 38) --- Cost: 79463.09953449942 --- Speed: 8.145515546256298, (1, 22) -> (2, 35) --- Cost: 120344.39929486297 --- Speed: 10.025249903084674, (1, 22) -> (2, 33) --- Cost: 168064.4915771227 --- Speed: 11.848022612736434, (1, 22) -> (2, 31) --- Cost: 251034.6108744672 --- Speed: 14.480916526677865, (1, 23) -> (2, 39) --- Cost: 79463.09953449942 --- Speed: 8.145515546256298, (1, 23) -> (2, 36) --- Cost: 120344.39929486297 --- Speed: 10.025249903084674, (1, 23) -> (2, 34) --- Cost: 168064.4915771227 --- Speed: 11.848022612736434, (1, 23) -> (2, 32) --- Cost: 251034.6108744672 --- Speed: 14.480916526677865, (1, 24) -> (2, 40) --- Cost: 79463.09953449942 --- Speed: 8.145515546256298, (1, 24) -> (2, 37) --- Cost: 120344.39929486297 --- Speed: 10.025249903084674, (1, 24) -> (2, 35) --- Cost: 168064.4915771227 --- Speed: 11.848022612736434, (1, 24) -> (2, 33) --- Cost: 251034.6108744672 --- Speed: 14.480916526677865, (1, 25) -> (2, 41) --- Cost: 79463.09953449942 --- Speed: 8.145515546256298, (1, 25) -> (2, 38) --- Cost: 120344.39929486297 --- Speed: 10.025249903084674, (1, 25) -> (2, 36) --- Cost: 168064.4915771227 --- Speed: 11.848022612736434, (1, 25) -> (2, 34) --- Cost: 251034.6108744672 --- Speed: 14.480916526677865, (1, 26) -> (2, 42) --- Cost: 79463.09953449942 --- Speed: 8.145515546256298, (1, 26) -> (2, 39) --- Cost: 120344.39929486297 --- Speed: 10.025249903084674, (1, 26) -> (2, 37) --- Cost: 168064.4915771227 --- Speed: 11.848022612736434, (1, 26) -> (2, 35) --- Cost: 251034.6108744672 --- Speed: 14.480916526677865, (1, 27) -> (2, 43) --- Cost: 79463.09953449942 --- Speed: 8.145515546256298, (1, 27) -> (2, 40) --- Cost: 120344.39929486297 --- Speed: 10.025249903084674, (1, 27) -> (2, 38) --- Cost: 168064.4915771227 --- Speed: 11.848022612736434, (1, 27) -> (2, 36) --- Cost: 251034.6108744672 --- Speed: 14.480916526677865, (1, 28) -> (2, 44) --- Cost: 79463.09953449942 --- Speed: 8.145515546256298, (1, 28) -> (2, 41) --- Cost: 120344.39929486297 --- Speed: 10.025249903084674, (1, 28) -> (2, 39) --- Cost: 168064.4915771227 --- Speed: 11.848022612736434, (1, 28) -> (2, 37) --- Cost: 251034.6108744672 --- Speed: 14.480916526677865, (1, 29) -> (2, 45) --- Cost: 79463.09953449942 --- Speed: 8.145515546256298, (1, 29) -> (2, 42) --- Cost: 120344.39929486297 --- Speed: 10.025249903084674, (1, 29) -> (2, 40) --- Cost: 168064.4915771227 --- Speed: 11.848022612736434, (1, 29) -> (2, 38) --- Cost: 251034.6108744672 --- Speed: 14.480916526677865, (1, 30) -> (2, 45) --- Cost: 90404.45991480819 --- Speed: 8.688549916006718, (1, 30) -> (2, 42) --- Cost: 141228.8436168878 --- Speed: 10.860687395008398, (1, 30) -> (2, 40) --- Cost: 203347.53480831845 --- Speed: 13.032824874010078, (1, 30) -> (2, 39) --- Cost: 251034.6108744672 --- Speed: 14.480916526677865, (1, 31) -> (2, 45) --- Cost: 103773.23204506045 --- Speed: 9.309160624292913, (1, 31) -> (2, 43) --- Cost: 141228.8436168878 --- Speed: 10.860687395008398, (1, 31) -> (2, 41) --- Cost: 203347.53480831845 --- Speed: 13.032824874010078, (1, 31) -> (2, 40) --- Cost: 251034.6108744672 --- Speed: 14.480916526677865, (1, 32) -> (2, 45) --- Cost: 120344.39929486297 --- Speed: 10.025249903084674, (1, 32) -> (2, 43) --- Cost: 168064.4915771227 --- Speed: 11.848022612736434, (1, 32) -> (2, 42) --- Cost: 203347.53480831845 --- Speed: 13.032824874010078, (1, 32) -> (2, 41) --- Cost: 251034.6108744672 --- Speed: 14.480916526677865, (1, 33) -> (2, 42) --- Cost: 251034.6108744672 --- Speed: 14.480916526677865, (1, 33) -> (2, 43) --- Cost: 203347.53480831845 --- Speed: 13.032824874010078, (1, 33) -> (2, 44) --- Cost: 168064.4915771227 --- Speed: 11.848022612736434, (1, 33) -> (2, 45) --- Cost: 141228.8436168878 --- Speed: 10.860687395008398, (1, 34) -> (2, 43) --- Cost: 251034.6108744672 --- Speed: 14.480916526677865, (1, 34) -> (2, 44) --- Cost: 203347.53480831845 --- Speed: 13.032824874010078, (1, 34) -> (2, 45) --- Cost: 168064.4915771227 --- Speed: 11.848022612736434, (1, 35) -> (2, 44) --- Cost: 251034.6108744672 --- Speed: 14.480916526677865, (1, 35) -> (2, 45) --- Cost: 203347.53480831845 --- Speed: 13.032824874010078, (1, 36) -> (2, 45) --- Cost: 251034.6108744672 --- Speed: 14.480916526677865]\n",
      "Vessel 4\n",
      "[(0, 0) -> (1, 6) --- Cost: 50 --- Speed: 0, (2, 15) -> (1, 31) --- Cost: 79463.09953449942 --- Speed: 8.145515546256298, (2, 15) -> (1, 28) --- Cost: 120344.39929486297 --- Speed: 10.025249903084674, (2, 15) -> (1, 26) --- Cost: 168064.4915771227 --- Speed: 11.848022612736434, (2, 15) -> (1, 24) --- Cost: 251034.6108744672 --- Speed: 14.480916526677865, (3, 15) -> (1, 31) --- Cost: 76944.87250388463 --- Speed: 8.058489695824333, (3, 15) -> (1, 28) --- Cost: 116529.80686978974 --- Speed: 9.918141164091487, (3, 15) -> (1, 26) --- Cost: 162736.67240491294 --- Speed: 11.721439557562666, (3, 15) -> (1, 24) --- Cost: 243075.76988882056 --- Speed: 14.326203903687704, (2, 16) -> (1, 32) --- Cost: 79463.09953449942 --- Speed: 8.145515546256298, (2, 16) -> (1, 29) --- Cost: 120344.39929486297 --- Speed: 10.025249903084674, (2, 16) -> (1, 27) --- Cost: 168064.4915771227 --- Speed: 11.848022612736434, (2, 16) -> (1, 25) --- Cost: 251034.6108744672 --- Speed: 14.480916526677865, (3, 16) -> (1, 32) --- Cost: 76944.87250388463 --- Speed: 8.058489695824333, (3, 16) -> (1, 29) --- Cost: 116529.80686978974 --- Speed: 9.918141164091487, (3, 16) -> (1, 27) --- Cost: 162736.67240491294 --- Speed: 11.721439557562666, (3, 16) -> (1, 25) --- Cost: 243075.76988882056 --- Speed: 14.326203903687704, (2, 17) -> (1, 33) --- Cost: 79463.09953449942 --- Speed: 8.145515546256298, (2, 17) -> (1, 30) --- Cost: 120344.39929486297 --- Speed: 10.025249903084674, (2, 17) -> (1, 28) --- Cost: 168064.4915771227 --- Speed: 11.848022612736434, (2, 17) -> (1, 26) --- Cost: 251034.6108744672 --- Speed: 14.480916526677865, (3, 17) -> (1, 33) --- Cost: 76944.87250388463 --- Speed: 8.058489695824333, (3, 17) -> (1, 30) --- Cost: 116529.80686978974 --- Speed: 9.918141164091487, (3, 17) -> (1, 28) --- Cost: 162736.67240491294 --- Speed: 11.721439557562666, (3, 17) -> (1, 26) --- Cost: 243075.76988882056 --- Speed: 14.326203903687704, (2, 18) -> (1, 34) --- Cost: 79463.09953449942 --- Speed: 8.145515546256298, (2, 18) -> (1, 31) --- Cost: 120344.39929486297 --- Speed: 10.025249903084674, (2, 18) -> (1, 29) --- Cost: 168064.4915771227 --- Speed: 11.848022612736434, (2, 18) -> (1, 27) --- Cost: 251034.6108744672 --- Speed: 14.480916526677865, (3, 18) -> (1, 34) --- Cost: 76944.87250388463 --- Speed: 8.058489695824333, (3, 18) -> (1, 31) --- Cost: 116529.80686978974 --- Speed: 9.918141164091487, (3, 18) -> (1, 29) --- Cost: 162736.67240491294 --- Speed: 11.721439557562666, (3, 18) -> (1, 27) --- Cost: 243075.76988882056 --- Speed: 14.326203903687704, (2, 19) -> (1, 35) --- Cost: 79463.09953449942 --- Speed: 8.145515546256298, (2, 19) -> (1, 32) --- Cost: 120344.39929486297 --- Speed: 10.025249903084674, (2, 19) -> (1, 30) --- Cost: 168064.4915771227 --- Speed: 11.848022612736434, (2, 19) -> (1, 28) --- Cost: 251034.6108744672 --- Speed: 14.480916526677865, (3, 19) -> (1, 35) --- Cost: 76944.87250388463 --- Speed: 8.058489695824333, (3, 19) -> (1, 32) --- Cost: 116529.80686978974 --- Speed: 9.918141164091487, (3, 19) -> (1, 30) --- Cost: 162736.67240491294 --- Speed: 11.721439557562666, (3, 19) -> (1, 28) --- Cost: 243075.76988882056 --- Speed: 14.326203903687704, (2, 20) -> (1, 36) --- Cost: 79463.09953449942 --- Speed: 8.145515546256298, (2, 20) -> (1, 33) --- Cost: 120344.39929486297 --- Speed: 10.025249903084674, (2, 20) -> (1, 31) --- Cost: 168064.4915771227 --- Speed: 11.848022612736434, (2, 20) -> (1, 29) --- Cost: 251034.6108744672 --- Speed: 14.480916526677865, (3, 20) -> (1, 36) --- Cost: 76944.87250388463 --- Speed: 8.058489695824333, (3, 20) -> (1, 33) --- Cost: 116529.80686978974 --- Speed: 9.918141164091487, (3, 20) -> (1, 31) --- Cost: 162736.67240491294 --- Speed: 11.721439557562666, (3, 20) -> (1, 29) --- Cost: 243075.76988882056 --- Speed: 14.326203903687704, (2, 21) -> (1, 37) --- Cost: 79463.09953449942 --- Speed: 8.145515546256298, (2, 21) -> (1, 34) --- Cost: 120344.39929486297 --- Speed: 10.025249903084674, (2, 21) -> (1, 32) --- Cost: 168064.4915771227 --- Speed: 11.848022612736434, (2, 21) -> (1, 30) --- Cost: 251034.6108744672 --- Speed: 14.480916526677865, (3, 21) -> (1, 37) --- Cost: 76944.87250388463 --- Speed: 8.058489695824333, (3, 21) -> (1, 34) --- Cost: 116529.80686978974 --- Speed: 9.918141164091487, (3, 21) -> (1, 32) --- Cost: 162736.67240491294 --- Speed: 11.721439557562666, (3, 21) -> (1, 30) --- Cost: 243075.76988882056 --- Speed: 14.326203903687704, (2, 22) -> (1, 38) --- Cost: 79463.09953449942 --- Speed: 8.145515546256298, (2, 22) -> (1, 35) --- Cost: 120344.39929486297 --- Speed: 10.025249903084674, (2, 22) -> (1, 33) --- Cost: 168064.4915771227 --- Speed: 11.848022612736434, (2, 22) -> (1, 31) --- Cost: 251034.6108744672 --- Speed: 14.480916526677865, (3, 22) -> (1, 38) --- Cost: 76944.87250388463 --- Speed: 8.058489695824333, (3, 22) -> (1, 35) --- Cost: 116529.80686978974 --- Speed: 9.918141164091487, (3, 22) -> (1, 33) --- Cost: 162736.67240491294 --- Speed: 11.721439557562666, (3, 22) -> (1, 31) --- Cost: 243075.76988882056 --- Speed: 14.326203903687704, (2, 23) -> (1, 39) --- Cost: 79463.09953449942 --- Speed: 8.145515546256298, (2, 23) -> (1, 36) --- Cost: 120344.39929486297 --- Speed: 10.025249903084674, (2, 23) -> (1, 34) --- Cost: 168064.4915771227 --- Speed: 11.848022612736434, (2, 23) -> (1, 32) --- Cost: 251034.6108744672 --- Speed: 14.480916526677865, (3, 23) -> (1, 39) --- Cost: 76944.87250388463 --- Speed: 8.058489695824333, (3, 23) -> (1, 36) --- Cost: 116529.80686978974 --- Speed: 9.918141164091487, (3, 23) -> (1, 34) --- Cost: 162736.67240491294 --- Speed: 11.721439557562666, (3, 23) -> (1, 32) --- Cost: 243075.76988882056 --- Speed: 14.326203903687704, (2, 24) -> (1, 40) --- Cost: 79463.09953449942 --- Speed: 8.145515546256298, (2, 24) -> (1, 37) --- Cost: 120344.39929486297 --- Speed: 10.025249903084674, (2, 24) -> (1, 35) --- Cost: 168064.4915771227 --- Speed: 11.848022612736434, (2, 24) -> (1, 33) --- Cost: 251034.6108744672 --- Speed: 14.480916526677865, (3, 24) -> (1, 40) --- Cost: 76944.87250388463 --- Speed: 8.058489695824333, (3, 24) -> (1, 37) --- Cost: 116529.80686978974 --- Speed: 9.918141164091487, (3, 24) -> (1, 35) --- Cost: 162736.67240491294 --- Speed: 11.721439557562666, (3, 24) -> (1, 33) --- Cost: 243075.76988882056 --- Speed: 14.326203903687704, (2, 25) -> (1, 41) --- Cost: 79463.09953449942 --- Speed: 8.145515546256298, (2, 25) -> (1, 38) --- Cost: 120344.39929486297 --- Speed: 10.025249903084674, (2, 25) -> (1, 36) --- Cost: 168064.4915771227 --- Speed: 11.848022612736434, (2, 25) -> (1, 34) --- Cost: 251034.6108744672 --- Speed: 14.480916526677865, (3, 25) -> (1, 41) --- Cost: 76944.87250388463 --- Speed: 8.058489695824333, (3, 25) -> (1, 38) --- Cost: 116529.80686978974 --- Speed: 9.918141164091487, (3, 25) -> (1, 36) --- Cost: 162736.67240491294 --- Speed: 11.721439557562666, (3, 25) -> (1, 34) --- Cost: 243075.76988882056 --- Speed: 14.326203903687704, (2, 26) -> (1, 42) --- Cost: 79463.09953449942 --- Speed: 8.145515546256298, (2, 26) -> (1, 39) --- Cost: 120344.39929486297 --- Speed: 10.025249903084674, (2, 26) -> (1, 37) --- Cost: 168064.4915771227 --- Speed: 11.848022612736434, (2, 26) -> (1, 35) --- Cost: 251034.6108744672 --- Speed: 14.480916526677865, (3, 26) -> (1, 42) --- Cost: 76944.87250388463 --- Speed: 8.058489695824333, (3, 26) -> (1, 39) --- Cost: 116529.80686978974 --- Speed: 9.918141164091487, (3, 26) -> (1, 37) --- Cost: 162736.67240491294 --- Speed: 11.721439557562666, (3, 26) -> (1, 35) --- Cost: 243075.76988882056 --- Speed: 14.326203903687704, (2, 27) -> (1, 43) --- Cost: 79463.09953449942 --- Speed: 8.145515546256298, (2, 27) -> (1, 40) --- Cost: 120344.39929486297 --- Speed: 10.025249903084674, (2, 27) -> (1, 38) --- Cost: 168064.4915771227 --- Speed: 11.848022612736434, (2, 27) -> (1, 36) --- Cost: 251034.6108744672 --- Speed: 14.480916526677865, (3, 27) -> (1, 43) --- Cost: 76944.87250388463 --- Speed: 8.058489695824333, (3, 27) -> (1, 40) --- Cost: 116529.80686978974 --- Speed: 9.918141164091487, (3, 27) -> (1, 38) --- Cost: 162736.67240491294 --- Speed: 11.721439557562666, (3, 27) -> (1, 36) --- Cost: 243075.76988882056 --- Speed: 14.326203903687704, (2, 28) -> (1, 44) --- Cost: 79463.09953449942 --- Speed: 8.145515546256298, (2, 28) -> (1, 41) --- Cost: 120344.39929486297 --- Speed: 10.025249903084674, (2, 28) -> (1, 39) --- Cost: 168064.4915771227 --- Speed: 11.848022612736434, (2, 28) -> (1, 37) --- Cost: 251034.6108744672 --- Speed: 14.480916526677865, (3, 28) -> (1, 44) --- Cost: 76944.87250388463 --- Speed: 8.058489695824333, (3, 28) -> (1, 41) --- Cost: 116529.80686978974 --- Speed: 9.918141164091487, (3, 28) -> (1, 39) --- Cost: 162736.67240491294 --- Speed: 11.721439557562666, (3, 28) -> (1, 37) --- Cost: 243075.76988882056 --- Speed: 14.326203903687704, (2, 29) -> (1, 45) --- Cost: 79463.09953449942 --- Speed: 8.145515546256298, (2, 29) -> (1, 42) --- Cost: 120344.39929486297 --- Speed: 10.025249903084674, (2, 29) -> (1, 40) --- Cost: 168064.4915771227 --- Speed: 11.848022612736434, (2, 29) -> (1, 38) --- Cost: 251034.6108744672 --- Speed: 14.480916526677865, (3, 29) -> (1, 45) --- Cost: 76944.87250388463 --- Speed: 8.058489695824333, (3, 29) -> (1, 42) --- Cost: 116529.80686978974 --- Speed: 9.918141164091487, (3, 29) -> (1, 40) --- Cost: 162736.67240491294 --- Speed: 11.721439557562666, (3, 29) -> (1, 38) --- Cost: 243075.76988882056 --- Speed: 14.326203903687704, (2, 30) -> (1, 45) --- Cost: 90404.45991480819 --- Speed: 8.688549916006718, (2, 30) -> (1, 42) --- Cost: 141228.8436168878 --- Speed: 10.860687395008398, (2, 30) -> (1, 40) --- Cost: 203347.53480831845 --- Speed: 13.032824874010078, (2, 30) -> (1, 39) --- Cost: 251034.6108744672 --- Speed: 14.480916526677865, (3, 30) -> (1, 45) --- Cost: 87539.27715997543 --- Speed: 8.595722342212623, (3, 30) -> (1, 42) --- Cost: 136751.9955624616 --- Speed: 10.744652927765777, (3, 30) -> (1, 40) --- Cost: 196900.8736099447 --- Speed: 12.893583513318934, (3, 30) -> (1, 39) --- Cost: 243075.76988882056 --- Speed: 14.326203903687704, (2, 31) -> (1, 45) --- Cost: 103773.23204506045 --- Speed: 9.309160624292913, (2, 31) -> (1, 43) --- Cost: 141228.8436168878 --- Speed: 10.860687395008398, (2, 31) -> (1, 41) --- Cost: 203347.53480831845 --- Speed: 13.032824874010078, (2, 31) -> (1, 40) --- Cost: 251034.6108744672 --- Speed: 14.480916526677865, (3, 31) -> (1, 45) --- Cost: 100484.11918874731 --- Speed: 9.209702509513525, (3, 31) -> (1, 43) --- Cost: 136751.9955624616 --- Speed: 10.744652927765777, (3, 31) -> (1, 41) --- Cost: 196900.8736099447 --- Speed: 12.893583513318934, (3, 31) -> (1, 40) --- Cost: 243075.76988882056 --- Speed: 14.326203903687704, (2, 32) -> (1, 45) --- Cost: 120344.39929486297 --- Speed: 10.025249903084674, (2, 32) -> (1, 43) --- Cost: 168064.4915771227 --- Speed: 11.848022612736434, (2, 32) -> (1, 42) --- Cost: 203347.53480831845 --- Speed: 13.032824874010078, (2, 32) -> (1, 41) --- Cost: 251034.6108744672 --- Speed: 14.480916526677865, (3, 32) -> (1, 45) --- Cost: 116529.80686978974 --- Speed: 9.918141164091487, (3, 32) -> (1, 43) --- Cost: 162736.67240491294 --- Speed: 11.721439557562666, (3, 32) -> (1, 42) --- Cost: 196900.8736099447 --- Speed: 12.893583513318934, (3, 32) -> (1, 41) --- Cost: 243075.76988882056 --- Speed: 14.326203903687704, (2, 33) -> (1, 42) --- Cost: 251034.6108744672 --- Speed: 14.480916526677865, (2, 33) -> (1, 43) --- Cost: 203347.53480831845 --- Speed: 13.032824874010078, (2, 33) -> (1, 44) --- Cost: 168064.4915771227 --- Speed: 11.848022612736434, (2, 33) -> (1, 45) --- Cost: 141228.8436168878 --- Speed: 10.860687395008398, (3, 33) -> (1, 42) --- Cost: 243075.76988882056 --- Speed: 14.326203903687704, (3, 33) -> (1, 43) --- Cost: 196900.8736099447 --- Speed: 12.893583513318934, (3, 33) -> (1, 44) --- Cost: 162736.67240491294 --- Speed: 11.721439557562666, (3, 33) -> (1, 45) --- Cost: 136751.9955624616 --- Speed: 10.744652927765777, (2, 34) -> (1, 43) --- Cost: 251034.6108744672 --- Speed: 14.480916526677865, (2, 34) -> (1, 44) --- Cost: 203347.53480831845 --- Speed: 13.032824874010078, (2, 34) -> (1, 45) --- Cost: 168064.4915771227 --- Speed: 11.848022612736434, (3, 34) -> (1, 43) --- Cost: 243075.76988882056 --- Speed: 14.326203903687704, (3, 34) -> (1, 44) --- Cost: 196900.8736099447 --- Speed: 12.893583513318934, (3, 34) -> (1, 45) --- Cost: 162736.67240491294 --- Speed: 11.721439557562666, (2, 35) -> (1, 44) --- Cost: 251034.6108744672 --- Speed: 14.480916526677865, (2, 35) -> (1, 45) --- Cost: 203347.53480831845 --- Speed: 13.032824874010078, (3, 35) -> (1, 44) --- Cost: 243075.76988882056 --- Speed: 14.326203903687704, (3, 35) -> (1, 45) --- Cost: 196900.8736099447 --- Speed: 12.893583513318934, (2, 36) -> (1, 45) --- Cost: 251034.6108744672 --- Speed: 14.480916526677865, (3, 36) -> (1, 45) --- Cost: 243075.76988882056 --- Speed: 14.326203903687704]\n",
      "[(1, 6) -> (2, 22) --- Cost: 79463.09953449942 --- Speed: 8.145515546256298, (1, 6) -> (2, 19) --- Cost: 120344.39929486297 --- Speed: 10.025249903084674, (1, 6) -> (2, 17) --- Cost: 168064.4915771227 --- Speed: 11.848022612736434, (1, 6) -> (2, 15) --- Cost: 251034.6108744672 --- Speed: 14.480916526677865, (1, 7) -> (2, 23) --- Cost: 79463.09953449942 --- Speed: 8.145515546256298, (1, 7) -> (2, 20) --- Cost: 120344.39929486297 --- Speed: 10.025249903084674, (1, 7) -> (2, 18) --- Cost: 168064.4915771227 --- Speed: 11.848022612736434, (1, 7) -> (2, 16) --- Cost: 251034.6108744672 --- Speed: 14.480916526677865, (1, 8) -> (2, 24) --- Cost: 79463.09953449942 --- Speed: 8.145515546256298, (1, 8) -> (2, 21) --- Cost: 120344.39929486297 --- Speed: 10.025249903084674, (1, 8) -> (2, 19) --- Cost: 168064.4915771227 --- Speed: 11.848022612736434, (1, 8) -> (2, 17) --- Cost: 251034.6108744672 --- Speed: 14.480916526677865, (1, 9) -> (2, 25) --- Cost: 79463.09953449942 --- Speed: 8.145515546256298, (1, 9) -> (2, 22) --- Cost: 120344.39929486297 --- Speed: 10.025249903084674, (1, 9) -> (2, 20) --- Cost: 168064.4915771227 --- Speed: 11.848022612736434, (1, 9) -> (2, 18) --- Cost: 251034.6108744672 --- Speed: 14.480916526677865, (1, 10) -> (2, 26) --- Cost: 79463.09953449942 --- Speed: 8.145515546256298, (1, 10) -> (2, 23) --- Cost: 120344.39929486297 --- Speed: 10.025249903084674, (1, 10) -> (2, 21) --- Cost: 168064.4915771227 --- Speed: 11.848022612736434, (1, 10) -> (2, 19) --- Cost: 251034.6108744672 --- Speed: 14.480916526677865, (1, 11) -> (2, 27) --- Cost: 79463.09953449942 --- Speed: 8.145515546256298, (1, 11) -> (2, 24) --- Cost: 120344.39929486297 --- Speed: 10.025249903084674, (1, 11) -> (2, 22) --- Cost: 168064.4915771227 --- Speed: 11.848022612736434, (1, 11) -> (2, 20) --- Cost: 251034.6108744672 --- Speed: 14.480916526677865, (1, 12) -> (2, 28) --- Cost: 79463.09953449942 --- Speed: 8.145515546256298, (1, 12) -> (2, 25) --- Cost: 120344.39929486297 --- Speed: 10.025249903084674, (1, 12) -> (2, 23) --- Cost: 168064.4915771227 --- Speed: 11.848022612736434, (1, 12) -> (2, 21) --- Cost: 251034.6108744672 --- Speed: 14.480916526677865, (1, 13) -> (2, 29) --- Cost: 79463.09953449942 --- Speed: 8.145515546256298, (1, 13) -> (2, 26) --- Cost: 120344.39929486297 --- Speed: 10.025249903084674, (1, 13) -> (2, 24) --- Cost: 168064.4915771227 --- Speed: 11.848022612736434, (1, 13) -> (2, 22) --- Cost: 251034.6108744672 --- Speed: 14.480916526677865, (1, 14) -> (2, 30) --- Cost: 79463.09953449942 --- Speed: 8.145515546256298, (1, 14) -> (2, 27) --- Cost: 120344.39929486297 --- Speed: 10.025249903084674, (1, 14) -> (2, 25) --- Cost: 168064.4915771227 --- Speed: 11.848022612736434, (1, 14) -> (2, 23) --- Cost: 251034.6108744672 --- Speed: 14.480916526677865, (1, 15) -> (2, 31) --- Cost: 79463.09953449942 --- Speed: 8.145515546256298, (1, 15) -> (2, 28) --- Cost: 120344.39929486297 --- Speed: 10.025249903084674, (1, 15) -> (2, 26) --- Cost: 168064.4915771227 --- Speed: 11.848022612736434, (1, 15) -> (2, 24) --- Cost: 251034.6108744672 --- Speed: 14.480916526677865, (3, 15) -> (2, 16) --- Cost: 4362.161149557014 --- Speed: 8, (1, 16) -> (2, 32) --- Cost: 79463.09953449942 --- Speed: 8.145515546256298, (1, 16) -> (2, 29) --- Cost: 120344.39929486297 --- Speed: 10.025249903084674, (1, 16) -> (2, 27) --- Cost: 168064.4915771227 --- Speed: 11.848022612736434, (1, 16) -> (2, 25) --- Cost: 251034.6108744672 --- Speed: 14.480916526677865, (3, 16) -> (2, 17) --- Cost: 4362.161149557014 --- Speed: 8, (1, 17) -> (2, 33) --- Cost: 79463.09953449942 --- Speed: 8.145515546256298, (1, 17) -> (2, 30) --- Cost: 120344.39929486297 --- Speed: 10.025249903084674, (1, 17) -> (2, 28) --- Cost: 168064.4915771227 --- Speed: 11.848022612736434, (1, 17) -> (2, 26) --- Cost: 251034.6108744672 --- Speed: 14.480916526677865, (3, 17) -> (2, 18) --- Cost: 4362.161149557014 --- Speed: 8, (1, 18) -> (2, 34) --- Cost: 79463.09953449942 --- Speed: 8.145515546256298, (1, 18) -> (2, 31) --- Cost: 120344.39929486297 --- Speed: 10.025249903084674, (1, 18) -> (2, 29) --- Cost: 168064.4915771227 --- Speed: 11.848022612736434, (1, 18) -> (2, 27) --- Cost: 251034.6108744672 --- Speed: 14.480916526677865, (3, 18) -> (2, 19) --- Cost: 4362.161149557014 --- Speed: 8, (1, 19) -> (2, 35) --- Cost: 79463.09953449942 --- Speed: 8.145515546256298, (1, 19) -> (2, 32) --- Cost: 120344.39929486297 --- Speed: 10.025249903084674, (1, 19) -> (2, 30) --- Cost: 168064.4915771227 --- Speed: 11.848022612736434, (1, 19) -> (2, 28) --- Cost: 251034.6108744672 --- Speed: 14.480916526677865, (3, 19) -> (2, 20) --- Cost: 4362.161149557014 --- Speed: 8, (1, 20) -> (2, 36) --- Cost: 79463.09953449942 --- Speed: 8.145515546256298, (1, 20) -> (2, 33) --- Cost: 120344.39929486297 --- Speed: 10.025249903084674, (1, 20) -> (2, 31) --- Cost: 168064.4915771227 --- Speed: 11.848022612736434, (1, 20) -> (2, 29) --- Cost: 251034.6108744672 --- Speed: 14.480916526677865, (3, 20) -> (2, 21) --- Cost: 4362.161149557014 --- Speed: 8, (1, 21) -> (2, 37) --- Cost: 79463.09953449942 --- Speed: 8.145515546256298, (1, 21) -> (2, 34) --- Cost: 120344.39929486297 --- Speed: 10.025249903084674, (1, 21) -> (2, 32) --- Cost: 168064.4915771227 --- Speed: 11.848022612736434, (1, 21) -> (2, 30) --- Cost: 251034.6108744672 --- Speed: 14.480916526677865, (3, 21) -> (2, 22) --- Cost: 4362.161149557014 --- Speed: 8, (1, 22) -> (2, 38) --- Cost: 79463.09953449942 --- Speed: 8.145515546256298, (1, 22) -> (2, 35) --- Cost: 120344.39929486297 --- Speed: 10.025249903084674, (1, 22) -> (2, 33) --- Cost: 168064.4915771227 --- Speed: 11.848022612736434, (1, 22) -> (2, 31) --- Cost: 251034.6108744672 --- Speed: 14.480916526677865, (3, 22) -> (2, 23) --- Cost: 4362.161149557014 --- Speed: 8, (1, 23) -> (2, 39) --- Cost: 79463.09953449942 --- Speed: 8.145515546256298, (1, 23) -> (2, 36) --- Cost: 120344.39929486297 --- Speed: 10.025249903084674, (1, 23) -> (2, 34) --- Cost: 168064.4915771227 --- Speed: 11.848022612736434, (1, 23) -> (2, 32) --- Cost: 251034.6108744672 --- Speed: 14.480916526677865, (3, 23) -> (2, 24) --- Cost: 4362.161149557014 --- Speed: 8, (1, 24) -> (2, 40) --- Cost: 79463.09953449942 --- Speed: 8.145515546256298, (1, 24) -> (2, 37) --- Cost: 120344.39929486297 --- Speed: 10.025249903084674, (1, 24) -> (2, 35) --- Cost: 168064.4915771227 --- Speed: 11.848022612736434, (1, 24) -> (2, 33) --- Cost: 251034.6108744672 --- Speed: 14.480916526677865, (3, 24) -> (2, 25) --- Cost: 4362.161149557014 --- Speed: 8, (1, 25) -> (2, 41) --- Cost: 79463.09953449942 --- Speed: 8.145515546256298, (1, 25) -> (2, 38) --- Cost: 120344.39929486297 --- Speed: 10.025249903084674, (1, 25) -> (2, 36) --- Cost: 168064.4915771227 --- Speed: 11.848022612736434, (1, 25) -> (2, 34) --- Cost: 251034.6108744672 --- Speed: 14.480916526677865, (3, 25) -> (2, 26) --- Cost: 4362.161149557014 --- Speed: 8, (1, 26) -> (2, 42) --- Cost: 79463.09953449942 --- Speed: 8.145515546256298, (1, 26) -> (2, 39) --- Cost: 120344.39929486297 --- Speed: 10.025249903084674, (1, 26) -> (2, 37) --- Cost: 168064.4915771227 --- Speed: 11.848022612736434, (1, 26) -> (2, 35) --- Cost: 251034.6108744672 --- Speed: 14.480916526677865, (3, 26) -> (2, 27) --- Cost: 4362.161149557014 --- Speed: 8, (1, 27) -> (2, 43) --- Cost: 79463.09953449942 --- Speed: 8.145515546256298, (1, 27) -> (2, 40) --- Cost: 120344.39929486297 --- Speed: 10.025249903084674, (1, 27) -> (2, 38) --- Cost: 168064.4915771227 --- Speed: 11.848022612736434, (1, 27) -> (2, 36) --- Cost: 251034.6108744672 --- Speed: 14.480916526677865, (3, 27) -> (2, 28) --- Cost: 4362.161149557014 --- Speed: 8, (1, 28) -> (2, 44) --- Cost: 79463.09953449942 --- Speed: 8.145515546256298, (1, 28) -> (2, 41) --- Cost: 120344.39929486297 --- Speed: 10.025249903084674, (1, 28) -> (2, 39) --- Cost: 168064.4915771227 --- Speed: 11.848022612736434, (1, 28) -> (2, 37) --- Cost: 251034.6108744672 --- Speed: 14.480916526677865, (3, 28) -> (2, 29) --- Cost: 4362.161149557014 --- Speed: 8, (1, 29) -> (2, 45) --- Cost: 79463.09953449942 --- Speed: 8.145515546256298, (1, 29) -> (2, 42) --- Cost: 120344.39929486297 --- Speed: 10.025249903084674, (1, 29) -> (2, 40) --- Cost: 168064.4915771227 --- Speed: 11.848022612736434, (1, 29) -> (2, 38) --- Cost: 251034.6108744672 --- Speed: 14.480916526677865, (3, 29) -> (2, 30) --- Cost: 4362.161149557014 --- Speed: 8, (1, 30) -> (2, 45) --- Cost: 90404.45991480819 --- Speed: 8.688549916006718, (1, 30) -> (2, 42) --- Cost: 141228.8436168878 --- Speed: 10.860687395008398, (1, 30) -> (2, 40) --- Cost: 203347.53480831845 --- Speed: 13.032824874010078, (1, 30) -> (2, 39) --- Cost: 251034.6108744672 --- Speed: 14.480916526677865, (3, 30) -> (2, 31) --- Cost: 4362.161149557014 --- Speed: 8, (1, 31) -> (2, 45) --- Cost: 103773.23204506045 --- Speed: 9.309160624292913, (1, 31) -> (2, 43) --- Cost: 141228.8436168878 --- Speed: 10.860687395008398, (1, 31) -> (2, 41) --- Cost: 203347.53480831845 --- Speed: 13.032824874010078, (1, 31) -> (2, 40) --- Cost: 251034.6108744672 --- Speed: 14.480916526677865, (3, 31) -> (2, 32) --- Cost: 4362.161149557014 --- Speed: 8, (1, 32) -> (2, 45) --- Cost: 120344.39929486297 --- Speed: 10.025249903084674, (1, 32) -> (2, 43) --- Cost: 168064.4915771227 --- Speed: 11.848022612736434, (1, 32) -> (2, 42) --- Cost: 203347.53480831845 --- Speed: 13.032824874010078, (1, 32) -> (2, 41) --- Cost: 251034.6108744672 --- Speed: 14.480916526677865, (3, 32) -> (2, 33) --- Cost: 4362.161149557014 --- Speed: 8, (1, 33) -> (2, 42) --- Cost: 251034.6108744672 --- Speed: 14.480916526677865, (1, 33) -> (2, 43) --- Cost: 203347.53480831845 --- Speed: 13.032824874010078, (1, 33) -> (2, 44) --- Cost: 168064.4915771227 --- Speed: 11.848022612736434, (1, 33) -> (2, 45) --- Cost: 141228.8436168878 --- Speed: 10.860687395008398, (3, 33) -> (2, 34) --- Cost: 4362.161149557014 --- Speed: 8, (1, 34) -> (2, 43) --- Cost: 251034.6108744672 --- Speed: 14.480916526677865, (1, 34) -> (2, 44) --- Cost: 203347.53480831845 --- Speed: 13.032824874010078, (1, 34) -> (2, 45) --- Cost: 168064.4915771227 --- Speed: 11.848022612736434, (3, 34) -> (2, 35) --- Cost: 4362.161149557014 --- Speed: 8, (1, 35) -> (2, 44) --- Cost: 251034.6108744672 --- Speed: 14.480916526677865, (1, 35) -> (2, 45) --- Cost: 203347.53480831845 --- Speed: 13.032824874010078, (3, 35) -> (2, 36) --- Cost: 4362.161149557014 --- Speed: 8, (1, 36) -> (2, 45) --- Cost: 251034.6108744672 --- Speed: 14.480916526677865, (3, 36) -> (2, 37) --- Cost: 4362.161149557014 --- Speed: 8, (3, 37) -> (2, 38) --- Cost: 4362.161149557014 --- Speed: 8, (3, 38) -> (2, 39) --- Cost: 4362.161149557014 --- Speed: 8, (3, 39) -> (2, 40) --- Cost: 4362.161149557014 --- Speed: 8, (3, 40) -> (2, 41) --- Cost: 4362.161149557014 --- Speed: 8, (3, 41) -> (2, 42) --- Cost: 4362.161149557014 --- Speed: 8, (3, 42) -> (2, 43) --- Cost: 4362.161149557014 --- Speed: 8, (3, 43) -> (2, 44) --- Cost: 4362.161149557014 --- Speed: 8, (3, 44) -> (2, 45) --- Cost: 4362.161149557014 --- Speed: 8]\n",
      "[(1, 6) -> (3, 22) --- Cost: 76944.87250388463 --- Speed: 8.058489695824333, (1, 6) -> (3, 19) --- Cost: 116529.80686978974 --- Speed: 9.918141164091487, (1, 6) -> (3, 17) --- Cost: 162736.67240491294 --- Speed: 11.721439557562666, (1, 6) -> (3, 15) --- Cost: 243075.76988882056 --- Speed: 14.326203903687704, (1, 7) -> (3, 23) --- Cost: 76944.87250388463 --- Speed: 8.058489695824333, (1, 7) -> (3, 20) --- Cost: 116529.80686978974 --- Speed: 9.918141164091487, (1, 7) -> (3, 18) --- Cost: 162736.67240491294 --- Speed: 11.721439557562666, (1, 7) -> (3, 16) --- Cost: 243075.76988882056 --- Speed: 14.326203903687704, (1, 8) -> (3, 24) --- Cost: 76944.87250388463 --- Speed: 8.058489695824333, (1, 8) -> (3, 21) --- Cost: 116529.80686978974 --- Speed: 9.918141164091487, (1, 8) -> (3, 19) --- Cost: 162736.67240491294 --- Speed: 11.721439557562666, (1, 8) -> (3, 17) --- Cost: 243075.76988882056 --- Speed: 14.326203903687704, (1, 9) -> (3, 25) --- Cost: 76944.87250388463 --- Speed: 8.058489695824333, (1, 9) -> (3, 22) --- Cost: 116529.80686978974 --- Speed: 9.918141164091487, (1, 9) -> (3, 20) --- Cost: 162736.67240491294 --- Speed: 11.721439557562666, (1, 9) -> (3, 18) --- Cost: 243075.76988882056 --- Speed: 14.326203903687704, (1, 10) -> (3, 26) --- Cost: 76944.87250388463 --- Speed: 8.058489695824333, (1, 10) -> (3, 23) --- Cost: 116529.80686978974 --- Speed: 9.918141164091487, (1, 10) -> (3, 21) --- Cost: 162736.67240491294 --- Speed: 11.721439557562666, (1, 10) -> (3, 19) --- Cost: 243075.76988882056 --- Speed: 14.326203903687704, (1, 11) -> (3, 27) --- Cost: 76944.87250388463 --- Speed: 8.058489695824333, (1, 11) -> (3, 24) --- Cost: 116529.80686978974 --- Speed: 9.918141164091487, (1, 11) -> (3, 22) --- Cost: 162736.67240491294 --- Speed: 11.721439557562666, (1, 11) -> (3, 20) --- Cost: 243075.76988882056 --- Speed: 14.326203903687704, (1, 12) -> (3, 28) --- Cost: 76944.87250388463 --- Speed: 8.058489695824333, (1, 12) -> (3, 25) --- Cost: 116529.80686978974 --- Speed: 9.918141164091487, (1, 12) -> (3, 23) --- Cost: 162736.67240491294 --- Speed: 11.721439557562666, (1, 12) -> (3, 21) --- Cost: 243075.76988882056 --- Speed: 14.326203903687704, (1, 13) -> (3, 29) --- Cost: 76944.87250388463 --- Speed: 8.058489695824333, (1, 13) -> (3, 26) --- Cost: 116529.80686978974 --- Speed: 9.918141164091487, (1, 13) -> (3, 24) --- Cost: 162736.67240491294 --- Speed: 11.721439557562666, (1, 13) -> (3, 22) --- Cost: 243075.76988882056 --- Speed: 14.326203903687704, (1, 14) -> (3, 30) --- Cost: 76944.87250388463 --- Speed: 8.058489695824333, (1, 14) -> (3, 27) --- Cost: 116529.80686978974 --- Speed: 9.918141164091487, (1, 14) -> (3, 25) --- Cost: 162736.67240491294 --- Speed: 11.721439557562666, (1, 14) -> (3, 23) --- Cost: 243075.76988882056 --- Speed: 14.326203903687704, (1, 15) -> (3, 31) --- Cost: 76944.87250388463 --- Speed: 8.058489695824333, (1, 15) -> (3, 28) --- Cost: 116529.80686978974 --- Speed: 9.918141164091487, (1, 15) -> (3, 26) --- Cost: 162736.67240491294 --- Speed: 11.721439557562666, (1, 15) -> (3, 24) --- Cost: 243075.76988882056 --- Speed: 14.326203903687704, (2, 15) -> (3, 16) --- Cost: 4362.161149557014 --- Speed: 8, (1, 16) -> (3, 32) --- Cost: 76944.87250388463 --- Speed: 8.058489695824333, (1, 16) -> (3, 29) --- Cost: 116529.80686978974 --- Speed: 9.918141164091487, (1, 16) -> (3, 27) --- Cost: 162736.67240491294 --- Speed: 11.721439557562666, (1, 16) -> (3, 25) --- Cost: 243075.76988882056 --- Speed: 14.326203903687704, (2, 16) -> (3, 17) --- Cost: 4362.161149557014 --- Speed: 8, (1, 17) -> (3, 33) --- Cost: 76944.87250388463 --- Speed: 8.058489695824333, (1, 17) -> (3, 30) --- Cost: 116529.80686978974 --- Speed: 9.918141164091487, (1, 17) -> (3, 28) --- Cost: 162736.67240491294 --- Speed: 11.721439557562666, (1, 17) -> (3, 26) --- Cost: 243075.76988882056 --- Speed: 14.326203903687704, (2, 17) -> (3, 18) --- Cost: 4362.161149557014 --- Speed: 8, (1, 18) -> (3, 34) --- Cost: 76944.87250388463 --- Speed: 8.058489695824333, (1, 18) -> (3, 31) --- Cost: 116529.80686978974 --- Speed: 9.918141164091487, (1, 18) -> (3, 29) --- Cost: 162736.67240491294 --- Speed: 11.721439557562666, (1, 18) -> (3, 27) --- Cost: 243075.76988882056 --- Speed: 14.326203903687704, (2, 18) -> (3, 19) --- Cost: 4362.161149557014 --- Speed: 8, (1, 19) -> (3, 35) --- Cost: 76944.87250388463 --- Speed: 8.058489695824333, (1, 19) -> (3, 32) --- Cost: 116529.80686978974 --- Speed: 9.918141164091487, (1, 19) -> (3, 30) --- Cost: 162736.67240491294 --- Speed: 11.721439557562666, (1, 19) -> (3, 28) --- Cost: 243075.76988882056 --- Speed: 14.326203903687704, (2, 19) -> (3, 20) --- Cost: 4362.161149557014 --- Speed: 8, (1, 20) -> (3, 36) --- Cost: 76944.87250388463 --- Speed: 8.058489695824333, (1, 20) -> (3, 33) --- Cost: 116529.80686978974 --- Speed: 9.918141164091487, (1, 20) -> (3, 31) --- Cost: 162736.67240491294 --- Speed: 11.721439557562666, (1, 20) -> (3, 29) --- Cost: 243075.76988882056 --- Speed: 14.326203903687704, (2, 20) -> (3, 21) --- Cost: 4362.161149557014 --- Speed: 8, (1, 21) -> (3, 37) --- Cost: 76944.87250388463 --- Speed: 8.058489695824333, (1, 21) -> (3, 34) --- Cost: 116529.80686978974 --- Speed: 9.918141164091487, (1, 21) -> (3, 32) --- Cost: 162736.67240491294 --- Speed: 11.721439557562666, (1, 21) -> (3, 30) --- Cost: 243075.76988882056 --- Speed: 14.326203903687704, (2, 21) -> (3, 22) --- Cost: 4362.161149557014 --- Speed: 8, (1, 22) -> (3, 38) --- Cost: 76944.87250388463 --- Speed: 8.058489695824333, (1, 22) -> (3, 35) --- Cost: 116529.80686978974 --- Speed: 9.918141164091487, (1, 22) -> (3, 33) --- Cost: 162736.67240491294 --- Speed: 11.721439557562666, (1, 22) -> (3, 31) --- Cost: 243075.76988882056 --- Speed: 14.326203903687704, (2, 22) -> (3, 23) --- Cost: 4362.161149557014 --- Speed: 8, (1, 23) -> (3, 39) --- Cost: 76944.87250388463 --- Speed: 8.058489695824333, (1, 23) -> (3, 36) --- Cost: 116529.80686978974 --- Speed: 9.918141164091487, (1, 23) -> (3, 34) --- Cost: 162736.67240491294 --- Speed: 11.721439557562666, (1, 23) -> (3, 32) --- Cost: 243075.76988882056 --- Speed: 14.326203903687704, (2, 23) -> (3, 24) --- Cost: 4362.161149557014 --- Speed: 8, (1, 24) -> (3, 40) --- Cost: 76944.87250388463 --- Speed: 8.058489695824333, (1, 24) -> (3, 37) --- Cost: 116529.80686978974 --- Speed: 9.918141164091487, (1, 24) -> (3, 35) --- Cost: 162736.67240491294 --- Speed: 11.721439557562666, (1, 24) -> (3, 33) --- Cost: 243075.76988882056 --- Speed: 14.326203903687704, (2, 24) -> (3, 25) --- Cost: 4362.161149557014 --- Speed: 8, (1, 25) -> (3, 41) --- Cost: 76944.87250388463 --- Speed: 8.058489695824333, (1, 25) -> (3, 38) --- Cost: 116529.80686978974 --- Speed: 9.918141164091487, (1, 25) -> (3, 36) --- Cost: 162736.67240491294 --- Speed: 11.721439557562666, (1, 25) -> (3, 34) --- Cost: 243075.76988882056 --- Speed: 14.326203903687704, (2, 25) -> (3, 26) --- Cost: 4362.161149557014 --- Speed: 8, (1, 26) -> (3, 42) --- Cost: 76944.87250388463 --- Speed: 8.058489695824333, (1, 26) -> (3, 39) --- Cost: 116529.80686978974 --- Speed: 9.918141164091487, (1, 26) -> (3, 37) --- Cost: 162736.67240491294 --- Speed: 11.721439557562666, (1, 26) -> (3, 35) --- Cost: 243075.76988882056 --- Speed: 14.326203903687704, (2, 26) -> (3, 27) --- Cost: 4362.161149557014 --- Speed: 8, (1, 27) -> (3, 43) --- Cost: 76944.87250388463 --- Speed: 8.058489695824333, (1, 27) -> (3, 40) --- Cost: 116529.80686978974 --- Speed: 9.918141164091487, (1, 27) -> (3, 38) --- Cost: 162736.67240491294 --- Speed: 11.721439557562666, (1, 27) -> (3, 36) --- Cost: 243075.76988882056 --- Speed: 14.326203903687704, (2, 27) -> (3, 28) --- Cost: 4362.161149557014 --- Speed: 8, (1, 28) -> (3, 44) --- Cost: 76944.87250388463 --- Speed: 8.058489695824333, (1, 28) -> (3, 41) --- Cost: 116529.80686978974 --- Speed: 9.918141164091487, (1, 28) -> (3, 39) --- Cost: 162736.67240491294 --- Speed: 11.721439557562666, (1, 28) -> (3, 37) --- Cost: 243075.76988882056 --- Speed: 14.326203903687704, (2, 28) -> (3, 29) --- Cost: 4362.161149557014 --- Speed: 8, (1, 29) -> (3, 45) --- Cost: 76944.87250388463 --- Speed: 8.058489695824333, (1, 29) -> (3, 42) --- Cost: 116529.80686978974 --- Speed: 9.918141164091487, (1, 29) -> (3, 40) --- Cost: 162736.67240491294 --- Speed: 11.721439557562666, (1, 29) -> (3, 38) --- Cost: 243075.76988882056 --- Speed: 14.326203903687704, (2, 29) -> (3, 30) --- Cost: 4362.161149557014 --- Speed: 8, (1, 30) -> (3, 45) --- Cost: 87539.27715997543 --- Speed: 8.595722342212623, (1, 30) -> (3, 42) --- Cost: 136751.9955624616 --- Speed: 10.744652927765777, (1, 30) -> (3, 40) --- Cost: 196900.8736099447 --- Speed: 12.893583513318934, (1, 30) -> (3, 39) --- Cost: 243075.76988882056 --- Speed: 14.326203903687704, (2, 30) -> (3, 31) --- Cost: 4362.161149557014 --- Speed: 8, (1, 31) -> (3, 45) --- Cost: 100484.11918874731 --- Speed: 9.209702509513525, (1, 31) -> (3, 43) --- Cost: 136751.9955624616 --- Speed: 10.744652927765777, (1, 31) -> (3, 41) --- Cost: 196900.8736099447 --- Speed: 12.893583513318934, (1, 31) -> (3, 40) --- Cost: 243075.76988882056 --- Speed: 14.326203903687704, (2, 31) -> (3, 32) --- Cost: 4362.161149557014 --- Speed: 8, (1, 32) -> (3, 45) --- Cost: 116529.80686978974 --- Speed: 9.918141164091487, (1, 32) -> (3, 43) --- Cost: 162736.67240491294 --- Speed: 11.721439557562666, (1, 32) -> (3, 42) --- Cost: 196900.8736099447 --- Speed: 12.893583513318934, (1, 32) -> (3, 41) --- Cost: 243075.76988882056 --- Speed: 14.326203903687704, (2, 32) -> (3, 33) --- Cost: 4362.161149557014 --- Speed: 8, (1, 33) -> (3, 42) --- Cost: 243075.76988882056 --- Speed: 14.326203903687704, (1, 33) -> (3, 43) --- Cost: 196900.8736099447 --- Speed: 12.893583513318934, (1, 33) -> (3, 44) --- Cost: 162736.67240491294 --- Speed: 11.721439557562666, (1, 33) -> (3, 45) --- Cost: 136751.9955624616 --- Speed: 10.744652927765777, (2, 33) -> (3, 34) --- Cost: 4362.161149557014 --- Speed: 8, (1, 34) -> (3, 43) --- Cost: 243075.76988882056 --- Speed: 14.326203903687704, (1, 34) -> (3, 44) --- Cost: 196900.8736099447 --- Speed: 12.893583513318934, (1, 34) -> (3, 45) --- Cost: 162736.67240491294 --- Speed: 11.721439557562666, (2, 34) -> (3, 35) --- Cost: 4362.161149557014 --- Speed: 8, (1, 35) -> (3, 44) --- Cost: 243075.76988882056 --- Speed: 14.326203903687704, (1, 35) -> (3, 45) --- Cost: 196900.8736099447 --- Speed: 12.893583513318934, (2, 35) -> (3, 36) --- Cost: 4362.161149557014 --- Speed: 8, (1, 36) -> (3, 45) --- Cost: 243075.76988882056 --- Speed: 14.326203903687704, (2, 36) -> (3, 37) --- Cost: 4362.161149557014 --- Speed: 8, (2, 37) -> (3, 38) --- Cost: 4362.161149557014 --- Speed: 8, (2, 38) -> (3, 39) --- Cost: 4362.161149557014 --- Speed: 8, (2, 39) -> (3, 40) --- Cost: 4362.161149557014 --- Speed: 8, (2, 40) -> (3, 41) --- Cost: 4362.161149557014 --- Speed: 8, (2, 41) -> (3, 42) --- Cost: 4362.161149557014 --- Speed: 8, (2, 42) -> (3, 43) --- Cost: 4362.161149557014 --- Speed: 8, (2, 43) -> (3, 44) --- Cost: 4362.161149557014 --- Speed: 8, (2, 44) -> (3, 45) --- Cost: 4362.161149557014 --- Speed: 8]\n",
      "Vessel 5\n",
      "[(0, 0) -> (1, 3) --- Cost: 50 --- Speed: 0, (2, 12) -> (1, 28) --- Cost: 79463.09953449942 --- Speed: 8.145515546256298, (2, 12) -> (1, 25) --- Cost: 120344.39929486297 --- Speed: 10.025249903084674, (2, 12) -> (1, 23) --- Cost: 168064.4915771227 --- Speed: 11.848022612736434, (2, 12) -> (1, 21) --- Cost: 251034.6108744672 --- Speed: 14.480916526677865, (3, 12) -> (1, 28) --- Cost: 76944.87250388463 --- Speed: 8.058489695824333, (3, 12) -> (1, 25) --- Cost: 116529.80686978974 --- Speed: 9.918141164091487, (3, 12) -> (1, 23) --- Cost: 162736.67240491294 --- Speed: 11.721439557562666, (3, 12) -> (1, 21) --- Cost: 243075.76988882056 --- Speed: 14.326203903687704, (2, 13) -> (1, 29) --- Cost: 79463.09953449942 --- Speed: 8.145515546256298, (2, 13) -> (1, 26) --- Cost: 120344.39929486297 --- Speed: 10.025249903084674, (2, 13) -> (1, 24) --- Cost: 168064.4915771227 --- Speed: 11.848022612736434, (2, 13) -> (1, 22) --- Cost: 251034.6108744672 --- Speed: 14.480916526677865, (3, 13) -> (1, 29) --- Cost: 76944.87250388463 --- Speed: 8.058489695824333, (3, 13) -> (1, 26) --- Cost: 116529.80686978974 --- Speed: 9.918141164091487, (3, 13) -> (1, 24) --- Cost: 162736.67240491294 --- Speed: 11.721439557562666, (3, 13) -> (1, 22) --- Cost: 243075.76988882056 --- Speed: 14.326203903687704, (2, 14) -> (1, 30) --- Cost: 79463.09953449942 --- Speed: 8.145515546256298, (2, 14) -> (1, 27) --- Cost: 120344.39929486297 --- Speed: 10.025249903084674, (2, 14) -> (1, 25) --- Cost: 168064.4915771227 --- Speed: 11.848022612736434, (2, 14) -> (1, 23) --- Cost: 251034.6108744672 --- Speed: 14.480916526677865, (3, 14) -> (1, 30) --- Cost: 76944.87250388463 --- Speed: 8.058489695824333, (3, 14) -> (1, 27) --- Cost: 116529.80686978974 --- Speed: 9.918141164091487, (3, 14) -> (1, 25) --- Cost: 162736.67240491294 --- Speed: 11.721439557562666, (3, 14) -> (1, 23) --- Cost: 243075.76988882056 --- Speed: 14.326203903687704, (2, 15) -> (1, 31) --- Cost: 79463.09953449942 --- Speed: 8.145515546256298, (2, 15) -> (1, 28) --- Cost: 120344.39929486297 --- Speed: 10.025249903084674, (2, 15) -> (1, 26) --- Cost: 168064.4915771227 --- Speed: 11.848022612736434, (2, 15) -> (1, 24) --- Cost: 251034.6108744672 --- Speed: 14.480916526677865, (3, 15) -> (1, 31) --- Cost: 76944.87250388463 --- Speed: 8.058489695824333, (3, 15) -> (1, 28) --- Cost: 116529.80686978974 --- Speed: 9.918141164091487, (3, 15) -> (1, 26) --- Cost: 162736.67240491294 --- Speed: 11.721439557562666, (3, 15) -> (1, 24) --- Cost: 243075.76988882056 --- Speed: 14.326203903687704, (2, 16) -> (1, 32) --- Cost: 79463.09953449942 --- Speed: 8.145515546256298, (2, 16) -> (1, 29) --- Cost: 120344.39929486297 --- Speed: 10.025249903084674, (2, 16) -> (1, 27) --- Cost: 168064.4915771227 --- Speed: 11.848022612736434, (2, 16) -> (1, 25) --- Cost: 251034.6108744672 --- Speed: 14.480916526677865, (3, 16) -> (1, 32) --- Cost: 76944.87250388463 --- Speed: 8.058489695824333, (3, 16) -> (1, 29) --- Cost: 116529.80686978974 --- Speed: 9.918141164091487, (3, 16) -> (1, 27) --- Cost: 162736.67240491294 --- Speed: 11.721439557562666, (3, 16) -> (1, 25) --- Cost: 243075.76988882056 --- Speed: 14.326203903687704, (2, 17) -> (1, 33) --- Cost: 79463.09953449942 --- Speed: 8.145515546256298, (2, 17) -> (1, 30) --- Cost: 120344.39929486297 --- Speed: 10.025249903084674, (2, 17) -> (1, 28) --- Cost: 168064.4915771227 --- Speed: 11.848022612736434, (2, 17) -> (1, 26) --- Cost: 251034.6108744672 --- Speed: 14.480916526677865, (3, 17) -> (1, 33) --- Cost: 76944.87250388463 --- Speed: 8.058489695824333, (3, 17) -> (1, 30) --- Cost: 116529.80686978974 --- Speed: 9.918141164091487, (3, 17) -> (1, 28) --- Cost: 162736.67240491294 --- Speed: 11.721439557562666, (3, 17) -> (1, 26) --- Cost: 243075.76988882056 --- Speed: 14.326203903687704, (2, 18) -> (1, 34) --- Cost: 79463.09953449942 --- Speed: 8.145515546256298, (2, 18) -> (1, 31) --- Cost: 120344.39929486297 --- Speed: 10.025249903084674, (2, 18) -> (1, 29) --- Cost: 168064.4915771227 --- Speed: 11.848022612736434, (2, 18) -> (1, 27) --- Cost: 251034.6108744672 --- Speed: 14.480916526677865, (3, 18) -> (1, 34) --- Cost: 76944.87250388463 --- Speed: 8.058489695824333, (3, 18) -> (1, 31) --- Cost: 116529.80686978974 --- Speed: 9.918141164091487, (3, 18) -> (1, 29) --- Cost: 162736.67240491294 --- Speed: 11.721439557562666, (3, 18) -> (1, 27) --- Cost: 243075.76988882056 --- Speed: 14.326203903687704, (2, 19) -> (1, 35) --- Cost: 79463.09953449942 --- Speed: 8.145515546256298, (2, 19) -> (1, 32) --- Cost: 120344.39929486297 --- Speed: 10.025249903084674, (2, 19) -> (1, 30) --- Cost: 168064.4915771227 --- Speed: 11.848022612736434, (2, 19) -> (1, 28) --- Cost: 251034.6108744672 --- Speed: 14.480916526677865, (3, 19) -> (1, 35) --- Cost: 76944.87250388463 --- Speed: 8.058489695824333, (3, 19) -> (1, 32) --- Cost: 116529.80686978974 --- Speed: 9.918141164091487, (3, 19) -> (1, 30) --- Cost: 162736.67240491294 --- Speed: 11.721439557562666, (3, 19) -> (1, 28) --- Cost: 243075.76988882056 --- Speed: 14.326203903687704, (2, 20) -> (1, 36) --- Cost: 79463.09953449942 --- Speed: 8.145515546256298, (2, 20) -> (1, 33) --- Cost: 120344.39929486297 --- Speed: 10.025249903084674, (2, 20) -> (1, 31) --- Cost: 168064.4915771227 --- Speed: 11.848022612736434, (2, 20) -> (1, 29) --- Cost: 251034.6108744672 --- Speed: 14.480916526677865, (3, 20) -> (1, 36) --- Cost: 76944.87250388463 --- Speed: 8.058489695824333, (3, 20) -> (1, 33) --- Cost: 116529.80686978974 --- Speed: 9.918141164091487, (3, 20) -> (1, 31) --- Cost: 162736.67240491294 --- Speed: 11.721439557562666, (3, 20) -> (1, 29) --- Cost: 243075.76988882056 --- Speed: 14.326203903687704, (2, 21) -> (1, 37) --- Cost: 79463.09953449942 --- Speed: 8.145515546256298, (2, 21) -> (1, 34) --- Cost: 120344.39929486297 --- Speed: 10.025249903084674, (2, 21) -> (1, 32) --- Cost: 168064.4915771227 --- Speed: 11.848022612736434, (2, 21) -> (1, 30) --- Cost: 251034.6108744672 --- Speed: 14.480916526677865, (3, 21) -> (1, 37) --- Cost: 76944.87250388463 --- Speed: 8.058489695824333, (3, 21) -> (1, 34) --- Cost: 116529.80686978974 --- Speed: 9.918141164091487, (3, 21) -> (1, 32) --- Cost: 162736.67240491294 --- Speed: 11.721439557562666, (3, 21) -> (1, 30) --- Cost: 243075.76988882056 --- Speed: 14.326203903687704, (2, 22) -> (1, 38) --- Cost: 79463.09953449942 --- Speed: 8.145515546256298, (2, 22) -> (1, 35) --- Cost: 120344.39929486297 --- Speed: 10.025249903084674, (2, 22) -> (1, 33) --- Cost: 168064.4915771227 --- Speed: 11.848022612736434, (2, 22) -> (1, 31) --- Cost: 251034.6108744672 --- Speed: 14.480916526677865, (3, 22) -> (1, 38) --- Cost: 76944.87250388463 --- Speed: 8.058489695824333, (3, 22) -> (1, 35) --- Cost: 116529.80686978974 --- Speed: 9.918141164091487, (3, 22) -> (1, 33) --- Cost: 162736.67240491294 --- Speed: 11.721439557562666, (3, 22) -> (1, 31) --- Cost: 243075.76988882056 --- Speed: 14.326203903687704, (2, 23) -> (1, 39) --- Cost: 79463.09953449942 --- Speed: 8.145515546256298, (2, 23) -> (1, 36) --- Cost: 120344.39929486297 --- Speed: 10.025249903084674, (2, 23) -> (1, 34) --- Cost: 168064.4915771227 --- Speed: 11.848022612736434, (2, 23) -> (1, 32) --- Cost: 251034.6108744672 --- Speed: 14.480916526677865, (3, 23) -> (1, 39) --- Cost: 76944.87250388463 --- Speed: 8.058489695824333, (3, 23) -> (1, 36) --- Cost: 116529.80686978974 --- Speed: 9.918141164091487, (3, 23) -> (1, 34) --- Cost: 162736.67240491294 --- Speed: 11.721439557562666, (3, 23) -> (1, 32) --- Cost: 243075.76988882056 --- Speed: 14.326203903687704, (2, 24) -> (1, 40) --- Cost: 79463.09953449942 --- Speed: 8.145515546256298, (2, 24) -> (1, 37) --- Cost: 120344.39929486297 --- Speed: 10.025249903084674, (2, 24) -> (1, 35) --- Cost: 168064.4915771227 --- Speed: 11.848022612736434, (2, 24) -> (1, 33) --- Cost: 251034.6108744672 --- Speed: 14.480916526677865, (3, 24) -> (1, 40) --- Cost: 76944.87250388463 --- Speed: 8.058489695824333, (3, 24) -> (1, 37) --- Cost: 116529.80686978974 --- Speed: 9.918141164091487, (3, 24) -> (1, 35) --- Cost: 162736.67240491294 --- Speed: 11.721439557562666, (3, 24) -> (1, 33) --- Cost: 243075.76988882056 --- Speed: 14.326203903687704, (2, 25) -> (1, 41) --- Cost: 79463.09953449942 --- Speed: 8.145515546256298, (2, 25) -> (1, 38) --- Cost: 120344.39929486297 --- Speed: 10.025249903084674, (2, 25) -> (1, 36) --- Cost: 168064.4915771227 --- Speed: 11.848022612736434, (2, 25) -> (1, 34) --- Cost: 251034.6108744672 --- Speed: 14.480916526677865, (3, 25) -> (1, 41) --- Cost: 76944.87250388463 --- Speed: 8.058489695824333, (3, 25) -> (1, 38) --- Cost: 116529.80686978974 --- Speed: 9.918141164091487, (3, 25) -> (1, 36) --- Cost: 162736.67240491294 --- Speed: 11.721439557562666, (3, 25) -> (1, 34) --- Cost: 243075.76988882056 --- Speed: 14.326203903687704, (2, 26) -> (1, 42) --- Cost: 79463.09953449942 --- Speed: 8.145515546256298, (2, 26) -> (1, 39) --- Cost: 120344.39929486297 --- Speed: 10.025249903084674, (2, 26) -> (1, 37) --- Cost: 168064.4915771227 --- Speed: 11.848022612736434, (2, 26) -> (1, 35) --- Cost: 251034.6108744672 --- Speed: 14.480916526677865, (3, 26) -> (1, 42) --- Cost: 76944.87250388463 --- Speed: 8.058489695824333, (3, 26) -> (1, 39) --- Cost: 116529.80686978974 --- Speed: 9.918141164091487, (3, 26) -> (1, 37) --- Cost: 162736.67240491294 --- Speed: 11.721439557562666, (3, 26) -> (1, 35) --- Cost: 243075.76988882056 --- Speed: 14.326203903687704, (2, 27) -> (1, 43) --- Cost: 79463.09953449942 --- Speed: 8.145515546256298, (2, 27) -> (1, 40) --- Cost: 120344.39929486297 --- Speed: 10.025249903084674, (2, 27) -> (1, 38) --- Cost: 168064.4915771227 --- Speed: 11.848022612736434, (2, 27) -> (1, 36) --- Cost: 251034.6108744672 --- Speed: 14.480916526677865, (3, 27) -> (1, 43) --- Cost: 76944.87250388463 --- Speed: 8.058489695824333, (3, 27) -> (1, 40) --- Cost: 116529.80686978974 --- Speed: 9.918141164091487, (3, 27) -> (1, 38) --- Cost: 162736.67240491294 --- Speed: 11.721439557562666, (3, 27) -> (1, 36) --- Cost: 243075.76988882056 --- Speed: 14.326203903687704, (2, 28) -> (1, 44) --- Cost: 79463.09953449942 --- Speed: 8.145515546256298, (2, 28) -> (1, 41) --- Cost: 120344.39929486297 --- Speed: 10.025249903084674, (2, 28) -> (1, 39) --- Cost: 168064.4915771227 --- Speed: 11.848022612736434, (2, 28) -> (1, 37) --- Cost: 251034.6108744672 --- Speed: 14.480916526677865, (3, 28) -> (1, 44) --- Cost: 76944.87250388463 --- Speed: 8.058489695824333, (3, 28) -> (1, 41) --- Cost: 116529.80686978974 --- Speed: 9.918141164091487, (3, 28) -> (1, 39) --- Cost: 162736.67240491294 --- Speed: 11.721439557562666, (3, 28) -> (1, 37) --- Cost: 243075.76988882056 --- Speed: 14.326203903687704, (2, 29) -> (1, 45) --- Cost: 79463.09953449942 --- Speed: 8.145515546256298, (2, 29) -> (1, 42) --- Cost: 120344.39929486297 --- Speed: 10.025249903084674, (2, 29) -> (1, 40) --- Cost: 168064.4915771227 --- Speed: 11.848022612736434, (2, 29) -> (1, 38) --- Cost: 251034.6108744672 --- Speed: 14.480916526677865, (3, 29) -> (1, 45) --- Cost: 76944.87250388463 --- Speed: 8.058489695824333, (3, 29) -> (1, 42) --- Cost: 116529.80686978974 --- Speed: 9.918141164091487, (3, 29) -> (1, 40) --- Cost: 162736.67240491294 --- Speed: 11.721439557562666, (3, 29) -> (1, 38) --- Cost: 243075.76988882056 --- Speed: 14.326203903687704, (2, 30) -> (1, 45) --- Cost: 90404.45991480819 --- Speed: 8.688549916006718, (2, 30) -> (1, 42) --- Cost: 141228.8436168878 --- Speed: 10.860687395008398, (2, 30) -> (1, 40) --- Cost: 203347.53480831845 --- Speed: 13.032824874010078, (2, 30) -> (1, 39) --- Cost: 251034.6108744672 --- Speed: 14.480916526677865, (3, 30) -> (1, 45) --- Cost: 87539.27715997543 --- Speed: 8.595722342212623, (3, 30) -> (1, 42) --- Cost: 136751.9955624616 --- Speed: 10.744652927765777, (3, 30) -> (1, 40) --- Cost: 196900.8736099447 --- Speed: 12.893583513318934, (3, 30) -> (1, 39) --- Cost: 243075.76988882056 --- Speed: 14.326203903687704, (2, 31) -> (1, 45) --- Cost: 103773.23204506045 --- Speed: 9.309160624292913, (2, 31) -> (1, 43) --- Cost: 141228.8436168878 --- Speed: 10.860687395008398, (2, 31) -> (1, 41) --- Cost: 203347.53480831845 --- Speed: 13.032824874010078, (2, 31) -> (1, 40) --- Cost: 251034.6108744672 --- Speed: 14.480916526677865, (3, 31) -> (1, 45) --- Cost: 100484.11918874731 --- Speed: 9.209702509513525, (3, 31) -> (1, 43) --- Cost: 136751.9955624616 --- Speed: 10.744652927765777, (3, 31) -> (1, 41) --- Cost: 196900.8736099447 --- Speed: 12.893583513318934, (3, 31) -> (1, 40) --- Cost: 243075.76988882056 --- Speed: 14.326203903687704, (2, 32) -> (1, 45) --- Cost: 120344.39929486297 --- Speed: 10.025249903084674, (2, 32) -> (1, 43) --- Cost: 168064.4915771227 --- Speed: 11.848022612736434, (2, 32) -> (1, 42) --- Cost: 203347.53480831845 --- Speed: 13.032824874010078, (2, 32) -> (1, 41) --- Cost: 251034.6108744672 --- Speed: 14.480916526677865, (3, 32) -> (1, 45) --- Cost: 116529.80686978974 --- Speed: 9.918141164091487, (3, 32) -> (1, 43) --- Cost: 162736.67240491294 --- Speed: 11.721439557562666, (3, 32) -> (1, 42) --- Cost: 196900.8736099447 --- Speed: 12.893583513318934, (3, 32) -> (1, 41) --- Cost: 243075.76988882056 --- Speed: 14.326203903687704, (2, 33) -> (1, 42) --- Cost: 251034.6108744672 --- Speed: 14.480916526677865, (2, 33) -> (1, 43) --- Cost: 203347.53480831845 --- Speed: 13.032824874010078, (2, 33) -> (1, 44) --- Cost: 168064.4915771227 --- Speed: 11.848022612736434, (2, 33) -> (1, 45) --- Cost: 141228.8436168878 --- Speed: 10.860687395008398, (3, 33) -> (1, 42) --- Cost: 243075.76988882056 --- Speed: 14.326203903687704, (3, 33) -> (1, 43) --- Cost: 196900.8736099447 --- Speed: 12.893583513318934, (3, 33) -> (1, 44) --- Cost: 162736.67240491294 --- Speed: 11.721439557562666, (3, 33) -> (1, 45) --- Cost: 136751.9955624616 --- Speed: 10.744652927765777, (2, 34) -> (1, 43) --- Cost: 251034.6108744672 --- Speed: 14.480916526677865, (2, 34) -> (1, 44) --- Cost: 203347.53480831845 --- Speed: 13.032824874010078, (2, 34) -> (1, 45) --- Cost: 168064.4915771227 --- Speed: 11.848022612736434, (3, 34) -> (1, 43) --- Cost: 243075.76988882056 --- Speed: 14.326203903687704, (3, 34) -> (1, 44) --- Cost: 196900.8736099447 --- Speed: 12.893583513318934, (3, 34) -> (1, 45) --- Cost: 162736.67240491294 --- Speed: 11.721439557562666, (2, 35) -> (1, 44) --- Cost: 251034.6108744672 --- Speed: 14.480916526677865, (2, 35) -> (1, 45) --- Cost: 203347.53480831845 --- Speed: 13.032824874010078, (3, 35) -> (1, 44) --- Cost: 243075.76988882056 --- Speed: 14.326203903687704, (3, 35) -> (1, 45) --- Cost: 196900.8736099447 --- Speed: 12.893583513318934, (2, 36) -> (1, 45) --- Cost: 251034.6108744672 --- Speed: 14.480916526677865, (3, 36) -> (1, 45) --- Cost: 243075.76988882056 --- Speed: 14.326203903687704]\n",
      "[(1, 3) -> (2, 19) --- Cost: 79463.09953449942 --- Speed: 8.145515546256298, (1, 3) -> (2, 16) --- Cost: 120344.39929486297 --- Speed: 10.025249903084674, (1, 3) -> (2, 14) --- Cost: 168064.4915771227 --- Speed: 11.848022612736434, (1, 3) -> (2, 12) --- Cost: 251034.6108744672 --- Speed: 14.480916526677865, (1, 4) -> (2, 20) --- Cost: 79463.09953449942 --- Speed: 8.145515546256298, (1, 4) -> (2, 17) --- Cost: 120344.39929486297 --- Speed: 10.025249903084674, (1, 4) -> (2, 15) --- Cost: 168064.4915771227 --- Speed: 11.848022612736434, (1, 4) -> (2, 13) --- Cost: 251034.6108744672 --- Speed: 14.480916526677865, (1, 5) -> (2, 21) --- Cost: 79463.09953449942 --- Speed: 8.145515546256298, (1, 5) -> (2, 18) --- Cost: 120344.39929486297 --- Speed: 10.025249903084674, (1, 5) -> (2, 16) --- Cost: 168064.4915771227 --- Speed: 11.848022612736434, (1, 5) -> (2, 14) --- Cost: 251034.6108744672 --- Speed: 14.480916526677865, (1, 6) -> (2, 22) --- Cost: 79463.09953449942 --- Speed: 8.145515546256298, (1, 6) -> (2, 19) --- Cost: 120344.39929486297 --- Speed: 10.025249903084674, (1, 6) -> (2, 17) --- Cost: 168064.4915771227 --- Speed: 11.848022612736434, (1, 6) -> (2, 15) --- Cost: 251034.6108744672 --- Speed: 14.480916526677865, (1, 7) -> (2, 23) --- Cost: 79463.09953449942 --- Speed: 8.145515546256298, (1, 7) -> (2, 20) --- Cost: 120344.39929486297 --- Speed: 10.025249903084674, (1, 7) -> (2, 18) --- Cost: 168064.4915771227 --- Speed: 11.848022612736434, (1, 7) -> (2, 16) --- Cost: 251034.6108744672 --- Speed: 14.480916526677865, (1, 8) -> (2, 24) --- Cost: 79463.09953449942 --- Speed: 8.145515546256298, (1, 8) -> (2, 21) --- Cost: 120344.39929486297 --- Speed: 10.025249903084674, (1, 8) -> (2, 19) --- Cost: 168064.4915771227 --- Speed: 11.848022612736434, (1, 8) -> (2, 17) --- Cost: 251034.6108744672 --- Speed: 14.480916526677865, (1, 9) -> (2, 25) --- Cost: 79463.09953449942 --- Speed: 8.145515546256298, (1, 9) -> (2, 22) --- Cost: 120344.39929486297 --- Speed: 10.025249903084674, (1, 9) -> (2, 20) --- Cost: 168064.4915771227 --- Speed: 11.848022612736434, (1, 9) -> (2, 18) --- Cost: 251034.6108744672 --- Speed: 14.480916526677865, (1, 10) -> (2, 26) --- Cost: 79463.09953449942 --- Speed: 8.145515546256298, (1, 10) -> (2, 23) --- Cost: 120344.39929486297 --- Speed: 10.025249903084674, (1, 10) -> (2, 21) --- Cost: 168064.4915771227 --- Speed: 11.848022612736434, (1, 10) -> (2, 19) --- Cost: 251034.6108744672 --- Speed: 14.480916526677865, (1, 11) -> (2, 27) --- Cost: 79463.09953449942 --- Speed: 8.145515546256298, (1, 11) -> (2, 24) --- Cost: 120344.39929486297 --- Speed: 10.025249903084674, (1, 11) -> (2, 22) --- Cost: 168064.4915771227 --- Speed: 11.848022612736434, (1, 11) -> (2, 20) --- Cost: 251034.6108744672 --- Speed: 14.480916526677865, (1, 12) -> (2, 28) --- Cost: 79463.09953449942 --- Speed: 8.145515546256298, (1, 12) -> (2, 25) --- Cost: 120344.39929486297 --- Speed: 10.025249903084674, (1, 12) -> (2, 23) --- Cost: 168064.4915771227 --- Speed: 11.848022612736434, (1, 12) -> (2, 21) --- Cost: 251034.6108744672 --- Speed: 14.480916526677865, (3, 12) -> (2, 13) --- Cost: 4362.161149557014 --- Speed: 8, (1, 13) -> (2, 29) --- Cost: 79463.09953449942 --- Speed: 8.145515546256298, (1, 13) -> (2, 26) --- Cost: 120344.39929486297 --- Speed: 10.025249903084674, (1, 13) -> (2, 24) --- Cost: 168064.4915771227 --- Speed: 11.848022612736434, (1, 13) -> (2, 22) --- Cost: 251034.6108744672 --- Speed: 14.480916526677865, (3, 13) -> (2, 14) --- Cost: 4362.161149557014 --- Speed: 8, (1, 14) -> (2, 30) --- Cost: 79463.09953449942 --- Speed: 8.145515546256298, (1, 14) -> (2, 27) --- Cost: 120344.39929486297 --- Speed: 10.025249903084674, (1, 14) -> (2, 25) --- Cost: 168064.4915771227 --- Speed: 11.848022612736434, (1, 14) -> (2, 23) --- Cost: 251034.6108744672 --- Speed: 14.480916526677865, (3, 14) -> (2, 15) --- Cost: 4362.161149557014 --- Speed: 8, (1, 15) -> (2, 31) --- Cost: 79463.09953449942 --- Speed: 8.145515546256298, (1, 15) -> (2, 28) --- Cost: 120344.39929486297 --- Speed: 10.025249903084674, (1, 15) -> (2, 26) --- Cost: 168064.4915771227 --- Speed: 11.848022612736434, (1, 15) -> (2, 24) --- Cost: 251034.6108744672 --- Speed: 14.480916526677865, (3, 15) -> (2, 16) --- Cost: 4362.161149557014 --- Speed: 8, (1, 16) -> (2, 32) --- Cost: 79463.09953449942 --- Speed: 8.145515546256298, (1, 16) -> (2, 29) --- Cost: 120344.39929486297 --- Speed: 10.025249903084674, (1, 16) -> (2, 27) --- Cost: 168064.4915771227 --- Speed: 11.848022612736434, (1, 16) -> (2, 25) --- Cost: 251034.6108744672 --- Speed: 14.480916526677865, (3, 16) -> (2, 17) --- Cost: 4362.161149557014 --- Speed: 8, (1, 17) -> (2, 33) --- Cost: 79463.09953449942 --- Speed: 8.145515546256298, (1, 17) -> (2, 30) --- Cost: 120344.39929486297 --- Speed: 10.025249903084674, (1, 17) -> (2, 28) --- Cost: 168064.4915771227 --- Speed: 11.848022612736434, (1, 17) -> (2, 26) --- Cost: 251034.6108744672 --- Speed: 14.480916526677865, (3, 17) -> (2, 18) --- Cost: 4362.161149557014 --- Speed: 8, (1, 18) -> (2, 34) --- Cost: 79463.09953449942 --- Speed: 8.145515546256298, (1, 18) -> (2, 31) --- Cost: 120344.39929486297 --- Speed: 10.025249903084674, (1, 18) -> (2, 29) --- Cost: 168064.4915771227 --- Speed: 11.848022612736434, (1, 18) -> (2, 27) --- Cost: 251034.6108744672 --- Speed: 14.480916526677865, (3, 18) -> (2, 19) --- Cost: 4362.161149557014 --- Speed: 8, (1, 19) -> (2, 35) --- Cost: 79463.09953449942 --- Speed: 8.145515546256298, (1, 19) -> (2, 32) --- Cost: 120344.39929486297 --- Speed: 10.025249903084674, (1, 19) -> (2, 30) --- Cost: 168064.4915771227 --- Speed: 11.848022612736434, (1, 19) -> (2, 28) --- Cost: 251034.6108744672 --- Speed: 14.480916526677865, (3, 19) -> (2, 20) --- Cost: 4362.161149557014 --- Speed: 8, (1, 20) -> (2, 36) --- Cost: 79463.09953449942 --- Speed: 8.145515546256298, (1, 20) -> (2, 33) --- Cost: 120344.39929486297 --- Speed: 10.025249903084674, (1, 20) -> (2, 31) --- Cost: 168064.4915771227 --- Speed: 11.848022612736434, (1, 20) -> (2, 29) --- Cost: 251034.6108744672 --- Speed: 14.480916526677865, (3, 20) -> (2, 21) --- Cost: 4362.161149557014 --- Speed: 8, (1, 21) -> (2, 37) --- Cost: 79463.09953449942 --- Speed: 8.145515546256298, (1, 21) -> (2, 34) --- Cost: 120344.39929486297 --- Speed: 10.025249903084674, (1, 21) -> (2, 32) --- Cost: 168064.4915771227 --- Speed: 11.848022612736434, (1, 21) -> (2, 30) --- Cost: 251034.6108744672 --- Speed: 14.480916526677865, (3, 21) -> (2, 22) --- Cost: 4362.161149557014 --- Speed: 8, (1, 22) -> (2, 38) --- Cost: 79463.09953449942 --- Speed: 8.145515546256298, (1, 22) -> (2, 35) --- Cost: 120344.39929486297 --- Speed: 10.025249903084674, (1, 22) -> (2, 33) --- Cost: 168064.4915771227 --- Speed: 11.848022612736434, (1, 22) -> (2, 31) --- Cost: 251034.6108744672 --- Speed: 14.480916526677865, (3, 22) -> (2, 23) --- Cost: 4362.161149557014 --- Speed: 8, (1, 23) -> (2, 39) --- Cost: 79463.09953449942 --- Speed: 8.145515546256298, (1, 23) -> (2, 36) --- Cost: 120344.39929486297 --- Speed: 10.025249903084674, (1, 23) -> (2, 34) --- Cost: 168064.4915771227 --- Speed: 11.848022612736434, (1, 23) -> (2, 32) --- Cost: 251034.6108744672 --- Speed: 14.480916526677865, (3, 23) -> (2, 24) --- Cost: 4362.161149557014 --- Speed: 8, (1, 24) -> (2, 40) --- Cost: 79463.09953449942 --- Speed: 8.145515546256298, (1, 24) -> (2, 37) --- Cost: 120344.39929486297 --- Speed: 10.025249903084674, (1, 24) -> (2, 35) --- Cost: 168064.4915771227 --- Speed: 11.848022612736434, (1, 24) -> (2, 33) --- Cost: 251034.6108744672 --- Speed: 14.480916526677865, (3, 24) -> (2, 25) --- Cost: 4362.161149557014 --- Speed: 8, (1, 25) -> (2, 41) --- Cost: 79463.09953449942 --- Speed: 8.145515546256298, (1, 25) -> (2, 38) --- Cost: 120344.39929486297 --- Speed: 10.025249903084674, (1, 25) -> (2, 36) --- Cost: 168064.4915771227 --- Speed: 11.848022612736434, (1, 25) -> (2, 34) --- Cost: 251034.6108744672 --- Speed: 14.480916526677865, (3, 25) -> (2, 26) --- Cost: 4362.161149557014 --- Speed: 8, (1, 26) -> (2, 42) --- Cost: 79463.09953449942 --- Speed: 8.145515546256298, (1, 26) -> (2, 39) --- Cost: 120344.39929486297 --- Speed: 10.025249903084674, (1, 26) -> (2, 37) --- Cost: 168064.4915771227 --- Speed: 11.848022612736434, (1, 26) -> (2, 35) --- Cost: 251034.6108744672 --- Speed: 14.480916526677865, (3, 26) -> (2, 27) --- Cost: 4362.161149557014 --- Speed: 8, (1, 27) -> (2, 43) --- Cost: 79463.09953449942 --- Speed: 8.145515546256298, (1, 27) -> (2, 40) --- Cost: 120344.39929486297 --- Speed: 10.025249903084674, (1, 27) -> (2, 38) --- Cost: 168064.4915771227 --- Speed: 11.848022612736434, (1, 27) -> (2, 36) --- Cost: 251034.6108744672 --- Speed: 14.480916526677865, (3, 27) -> (2, 28) --- Cost: 4362.161149557014 --- Speed: 8, (1, 28) -> (2, 44) --- Cost: 79463.09953449942 --- Speed: 8.145515546256298, (1, 28) -> (2, 41) --- Cost: 120344.39929486297 --- Speed: 10.025249903084674, (1, 28) -> (2, 39) --- Cost: 168064.4915771227 --- Speed: 11.848022612736434, (1, 28) -> (2, 37) --- Cost: 251034.6108744672 --- Speed: 14.480916526677865, (3, 28) -> (2, 29) --- Cost: 4362.161149557014 --- Speed: 8, (1, 29) -> (2, 45) --- Cost: 79463.09953449942 --- Speed: 8.145515546256298, (1, 29) -> (2, 42) --- Cost: 120344.39929486297 --- Speed: 10.025249903084674, (1, 29) -> (2, 40) --- Cost: 168064.4915771227 --- Speed: 11.848022612736434, (1, 29) -> (2, 38) --- Cost: 251034.6108744672 --- Speed: 14.480916526677865, (3, 29) -> (2, 30) --- Cost: 4362.161149557014 --- Speed: 8, (1, 30) -> (2, 45) --- Cost: 90404.45991480819 --- Speed: 8.688549916006718, (1, 30) -> (2, 42) --- Cost: 141228.8436168878 --- Speed: 10.860687395008398, (1, 30) -> (2, 40) --- Cost: 203347.53480831845 --- Speed: 13.032824874010078, (1, 30) -> (2, 39) --- Cost: 251034.6108744672 --- Speed: 14.480916526677865, (3, 30) -> (2, 31) --- Cost: 4362.161149557014 --- Speed: 8, (1, 31) -> (2, 45) --- Cost: 103773.23204506045 --- Speed: 9.309160624292913, (1, 31) -> (2, 43) --- Cost: 141228.8436168878 --- Speed: 10.860687395008398, (1, 31) -> (2, 41) --- Cost: 203347.53480831845 --- Speed: 13.032824874010078, (1, 31) -> (2, 40) --- Cost: 251034.6108744672 --- Speed: 14.480916526677865, (3, 31) -> (2, 32) --- Cost: 4362.161149557014 --- Speed: 8, (1, 32) -> (2, 45) --- Cost: 120344.39929486297 --- Speed: 10.025249903084674, (1, 32) -> (2, 43) --- Cost: 168064.4915771227 --- Speed: 11.848022612736434, (1, 32) -> (2, 42) --- Cost: 203347.53480831845 --- Speed: 13.032824874010078, (1, 32) -> (2, 41) --- Cost: 251034.6108744672 --- Speed: 14.480916526677865, (3, 32) -> (2, 33) --- Cost: 4362.161149557014 --- Speed: 8, (1, 33) -> (2, 42) --- Cost: 251034.6108744672 --- Speed: 14.480916526677865, (1, 33) -> (2, 43) --- Cost: 203347.53480831845 --- Speed: 13.032824874010078, (1, 33) -> (2, 44) --- Cost: 168064.4915771227 --- Speed: 11.848022612736434, (1, 33) -> (2, 45) --- Cost: 141228.8436168878 --- Speed: 10.860687395008398, (3, 33) -> (2, 34) --- Cost: 4362.161149557014 --- Speed: 8, (1, 34) -> (2, 43) --- Cost: 251034.6108744672 --- Speed: 14.480916526677865, (1, 34) -> (2, 44) --- Cost: 203347.53480831845 --- Speed: 13.032824874010078, (1, 34) -> (2, 45) --- Cost: 168064.4915771227 --- Speed: 11.848022612736434, (3, 34) -> (2, 35) --- Cost: 4362.161149557014 --- Speed: 8, (1, 35) -> (2, 44) --- Cost: 251034.6108744672 --- Speed: 14.480916526677865, (1, 35) -> (2, 45) --- Cost: 203347.53480831845 --- Speed: 13.032824874010078, (3, 35) -> (2, 36) --- Cost: 4362.161149557014 --- Speed: 8, (1, 36) -> (2, 45) --- Cost: 251034.6108744672 --- Speed: 14.480916526677865, (3, 36) -> (2, 37) --- Cost: 4362.161149557014 --- Speed: 8, (3, 37) -> (2, 38) --- Cost: 4362.161149557014 --- Speed: 8, (3, 38) -> (2, 39) --- Cost: 4362.161149557014 --- Speed: 8, (3, 39) -> (2, 40) --- Cost: 4362.161149557014 --- Speed: 8, (3, 40) -> (2, 41) --- Cost: 4362.161149557014 --- Speed: 8, (3, 41) -> (2, 42) --- Cost: 4362.161149557014 --- Speed: 8, (3, 42) -> (2, 43) --- Cost: 4362.161149557014 --- Speed: 8, (3, 43) -> (2, 44) --- Cost: 4362.161149557014 --- Speed: 8, (3, 44) -> (2, 45) --- Cost: 4362.161149557014 --- Speed: 8]\n",
      "[(1, 3) -> (3, 19) --- Cost: 76944.87250388463 --- Speed: 8.058489695824333, (1, 3) -> (3, 16) --- Cost: 116529.80686978974 --- Speed: 9.918141164091487, (1, 3) -> (3, 14) --- Cost: 162736.67240491294 --- Speed: 11.721439557562666, (1, 3) -> (3, 12) --- Cost: 243075.76988882056 --- Speed: 14.326203903687704, (1, 4) -> (3, 20) --- Cost: 76944.87250388463 --- Speed: 8.058489695824333, (1, 4) -> (3, 17) --- Cost: 116529.80686978974 --- Speed: 9.918141164091487, (1, 4) -> (3, 15) --- Cost: 162736.67240491294 --- Speed: 11.721439557562666, (1, 4) -> (3, 13) --- Cost: 243075.76988882056 --- Speed: 14.326203903687704, (1, 5) -> (3, 21) --- Cost: 76944.87250388463 --- Speed: 8.058489695824333, (1, 5) -> (3, 18) --- Cost: 116529.80686978974 --- Speed: 9.918141164091487, (1, 5) -> (3, 16) --- Cost: 162736.67240491294 --- Speed: 11.721439557562666, (1, 5) -> (3, 14) --- Cost: 243075.76988882056 --- Speed: 14.326203903687704, (1, 6) -> (3, 22) --- Cost: 76944.87250388463 --- Speed: 8.058489695824333, (1, 6) -> (3, 19) --- Cost: 116529.80686978974 --- Speed: 9.918141164091487, (1, 6) -> (3, 17) --- Cost: 162736.67240491294 --- Speed: 11.721439557562666, (1, 6) -> (3, 15) --- Cost: 243075.76988882056 --- Speed: 14.326203903687704, (1, 7) -> (3, 23) --- Cost: 76944.87250388463 --- Speed: 8.058489695824333, (1, 7) -> (3, 20) --- Cost: 116529.80686978974 --- Speed: 9.918141164091487, (1, 7) -> (3, 18) --- Cost: 162736.67240491294 --- Speed: 11.721439557562666, (1, 7) -> (3, 16) --- Cost: 243075.76988882056 --- Speed: 14.326203903687704, (1, 8) -> (3, 24) --- Cost: 76944.87250388463 --- Speed: 8.058489695824333, (1, 8) -> (3, 21) --- Cost: 116529.80686978974 --- Speed: 9.918141164091487, (1, 8) -> (3, 19) --- Cost: 162736.67240491294 --- Speed: 11.721439557562666, (1, 8) -> (3, 17) --- Cost: 243075.76988882056 --- Speed: 14.326203903687704, (1, 9) -> (3, 25) --- Cost: 76944.87250388463 --- Speed: 8.058489695824333, (1, 9) -> (3, 22) --- Cost: 116529.80686978974 --- Speed: 9.918141164091487, (1, 9) -> (3, 20) --- Cost: 162736.67240491294 --- Speed: 11.721439557562666, (1, 9) -> (3, 18) --- Cost: 243075.76988882056 --- Speed: 14.326203903687704, (1, 10) -> (3, 26) --- Cost: 76944.87250388463 --- Speed: 8.058489695824333, (1, 10) -> (3, 23) --- Cost: 116529.80686978974 --- Speed: 9.918141164091487, (1, 10) -> (3, 21) --- Cost: 162736.67240491294 --- Speed: 11.721439557562666, (1, 10) -> (3, 19) --- Cost: 243075.76988882056 --- Speed: 14.326203903687704, (1, 11) -> (3, 27) --- Cost: 76944.87250388463 --- Speed: 8.058489695824333, (1, 11) -> (3, 24) --- Cost: 116529.80686978974 --- Speed: 9.918141164091487, (1, 11) -> (3, 22) --- Cost: 162736.67240491294 --- Speed: 11.721439557562666, (1, 11) -> (3, 20) --- Cost: 243075.76988882056 --- Speed: 14.326203903687704, (1, 12) -> (3, 28) --- Cost: 76944.87250388463 --- Speed: 8.058489695824333, (1, 12) -> (3, 25) --- Cost: 116529.80686978974 --- Speed: 9.918141164091487, (1, 12) -> (3, 23) --- Cost: 162736.67240491294 --- Speed: 11.721439557562666, (1, 12) -> (3, 21) --- Cost: 243075.76988882056 --- Speed: 14.326203903687704, (2, 12) -> (3, 13) --- Cost: 4362.161149557014 --- Speed: 8, (1, 13) -> (3, 29) --- Cost: 76944.87250388463 --- Speed: 8.058489695824333, (1, 13) -> (3, 26) --- Cost: 116529.80686978974 --- Speed: 9.918141164091487, (1, 13) -> (3, 24) --- Cost: 162736.67240491294 --- Speed: 11.721439557562666, (1, 13) -> (3, 22) --- Cost: 243075.76988882056 --- Speed: 14.326203903687704, (2, 13) -> (3, 14) --- Cost: 4362.161149557014 --- Speed: 8, (1, 14) -> (3, 30) --- Cost: 76944.87250388463 --- Speed: 8.058489695824333, (1, 14) -> (3, 27) --- Cost: 116529.80686978974 --- Speed: 9.918141164091487, (1, 14) -> (3, 25) --- Cost: 162736.67240491294 --- Speed: 11.721439557562666, (1, 14) -> (3, 23) --- Cost: 243075.76988882056 --- Speed: 14.326203903687704, (2, 14) -> (3, 15) --- Cost: 4362.161149557014 --- Speed: 8, (1, 15) -> (3, 31) --- Cost: 76944.87250388463 --- Speed: 8.058489695824333, (1, 15) -> (3, 28) --- Cost: 116529.80686978974 --- Speed: 9.918141164091487, (1, 15) -> (3, 26) --- Cost: 162736.67240491294 --- Speed: 11.721439557562666, (1, 15) -> (3, 24) --- Cost: 243075.76988882056 --- Speed: 14.326203903687704, (2, 15) -> (3, 16) --- Cost: 4362.161149557014 --- Speed: 8, (1, 16) -> (3, 32) --- Cost: 76944.87250388463 --- Speed: 8.058489695824333, (1, 16) -> (3, 29) --- Cost: 116529.80686978974 --- Speed: 9.918141164091487, (1, 16) -> (3, 27) --- Cost: 162736.67240491294 --- Speed: 11.721439557562666, (1, 16) -> (3, 25) --- Cost: 243075.76988882056 --- Speed: 14.326203903687704, (2, 16) -> (3, 17) --- Cost: 4362.161149557014 --- Speed: 8, (1, 17) -> (3, 33) --- Cost: 76944.87250388463 --- Speed: 8.058489695824333, (1, 17) -> (3, 30) --- Cost: 116529.80686978974 --- Speed: 9.918141164091487, (1, 17) -> (3, 28) --- Cost: 162736.67240491294 --- Speed: 11.721439557562666, (1, 17) -> (3, 26) --- Cost: 243075.76988882056 --- Speed: 14.326203903687704, (2, 17) -> (3, 18) --- Cost: 4362.161149557014 --- Speed: 8, (1, 18) -> (3, 34) --- Cost: 76944.87250388463 --- Speed: 8.058489695824333, (1, 18) -> (3, 31) --- Cost: 116529.80686978974 --- Speed: 9.918141164091487, (1, 18) -> (3, 29) --- Cost: 162736.67240491294 --- Speed: 11.721439557562666, (1, 18) -> (3, 27) --- Cost: 243075.76988882056 --- Speed: 14.326203903687704, (2, 18) -> (3, 19) --- Cost: 4362.161149557014 --- Speed: 8, (1, 19) -> (3, 35) --- Cost: 76944.87250388463 --- Speed: 8.058489695824333, (1, 19) -> (3, 32) --- Cost: 116529.80686978974 --- Speed: 9.918141164091487, (1, 19) -> (3, 30) --- Cost: 162736.67240491294 --- Speed: 11.721439557562666, (1, 19) -> (3, 28) --- Cost: 243075.76988882056 --- Speed: 14.326203903687704, (2, 19) -> (3, 20) --- Cost: 4362.161149557014 --- Speed: 8, (1, 20) -> (3, 36) --- Cost: 76944.87250388463 --- Speed: 8.058489695824333, (1, 20) -> (3, 33) --- Cost: 116529.80686978974 --- Speed: 9.918141164091487, (1, 20) -> (3, 31) --- Cost: 162736.67240491294 --- Speed: 11.721439557562666, (1, 20) -> (3, 29) --- Cost: 243075.76988882056 --- Speed: 14.326203903687704, (2, 20) -> (3, 21) --- Cost: 4362.161149557014 --- Speed: 8, (1, 21) -> (3, 37) --- Cost: 76944.87250388463 --- Speed: 8.058489695824333, (1, 21) -> (3, 34) --- Cost: 116529.80686978974 --- Speed: 9.918141164091487, (1, 21) -> (3, 32) --- Cost: 162736.67240491294 --- Speed: 11.721439557562666, (1, 21) -> (3, 30) --- Cost: 243075.76988882056 --- Speed: 14.326203903687704, (2, 21) -> (3, 22) --- Cost: 4362.161149557014 --- Speed: 8, (1, 22) -> (3, 38) --- Cost: 76944.87250388463 --- Speed: 8.058489695824333, (1, 22) -> (3, 35) --- Cost: 116529.80686978974 --- Speed: 9.918141164091487, (1, 22) -> (3, 33) --- Cost: 162736.67240491294 --- Speed: 11.721439557562666, (1, 22) -> (3, 31) --- Cost: 243075.76988882056 --- Speed: 14.326203903687704, (2, 22) -> (3, 23) --- Cost: 4362.161149557014 --- Speed: 8, (1, 23) -> (3, 39) --- Cost: 76944.87250388463 --- Speed: 8.058489695824333, (1, 23) -> (3, 36) --- Cost: 116529.80686978974 --- Speed: 9.918141164091487, (1, 23) -> (3, 34) --- Cost: 162736.67240491294 --- Speed: 11.721439557562666, (1, 23) -> (3, 32) --- Cost: 243075.76988882056 --- Speed: 14.326203903687704, (2, 23) -> (3, 24) --- Cost: 4362.161149557014 --- Speed: 8, (1, 24) -> (3, 40) --- Cost: 76944.87250388463 --- Speed: 8.058489695824333, (1, 24) -> (3, 37) --- Cost: 116529.80686978974 --- Speed: 9.918141164091487, (1, 24) -> (3, 35) --- Cost: 162736.67240491294 --- Speed: 11.721439557562666, (1, 24) -> (3, 33) --- Cost: 243075.76988882056 --- Speed: 14.326203903687704, (2, 24) -> (3, 25) --- Cost: 4362.161149557014 --- Speed: 8, (1, 25) -> (3, 41) --- Cost: 76944.87250388463 --- Speed: 8.058489695824333, (1, 25) -> (3, 38) --- Cost: 116529.80686978974 --- Speed: 9.918141164091487, (1, 25) -> (3, 36) --- Cost: 162736.67240491294 --- Speed: 11.721439557562666, (1, 25) -> (3, 34) --- Cost: 243075.76988882056 --- Speed: 14.326203903687704, (2, 25) -> (3, 26) --- Cost: 4362.161149557014 --- Speed: 8, (1, 26) -> (3, 42) --- Cost: 76944.87250388463 --- Speed: 8.058489695824333, (1, 26) -> (3, 39) --- Cost: 116529.80686978974 --- Speed: 9.918141164091487, (1, 26) -> (3, 37) --- Cost: 162736.67240491294 --- Speed: 11.721439557562666, (1, 26) -> (3, 35) --- Cost: 243075.76988882056 --- Speed: 14.326203903687704, (2, 26) -> (3, 27) --- Cost: 4362.161149557014 --- Speed: 8, (1, 27) -> (3, 43) --- Cost: 76944.87250388463 --- Speed: 8.058489695824333, (1, 27) -> (3, 40) --- Cost: 116529.80686978974 --- Speed: 9.918141164091487, (1, 27) -> (3, 38) --- Cost: 162736.67240491294 --- Speed: 11.721439557562666, (1, 27) -> (3, 36) --- Cost: 243075.76988882056 --- Speed: 14.326203903687704, (2, 27) -> (3, 28) --- Cost: 4362.161149557014 --- Speed: 8, (1, 28) -> (3, 44) --- Cost: 76944.87250388463 --- Speed: 8.058489695824333, (1, 28) -> (3, 41) --- Cost: 116529.80686978974 --- Speed: 9.918141164091487, (1, 28) -> (3, 39) --- Cost: 162736.67240491294 --- Speed: 11.721439557562666, (1, 28) -> (3, 37) --- Cost: 243075.76988882056 --- Speed: 14.326203903687704, (2, 28) -> (3, 29) --- Cost: 4362.161149557014 --- Speed: 8, (1, 29) -> (3, 45) --- Cost: 76944.87250388463 --- Speed: 8.058489695824333, (1, 29) -> (3, 42) --- Cost: 116529.80686978974 --- Speed: 9.918141164091487, (1, 29) -> (3, 40) --- Cost: 162736.67240491294 --- Speed: 11.721439557562666, (1, 29) -> (3, 38) --- Cost: 243075.76988882056 --- Speed: 14.326203903687704, (2, 29) -> (3, 30) --- Cost: 4362.161149557014 --- Speed: 8, (1, 30) -> (3, 45) --- Cost: 87539.27715997543 --- Speed: 8.595722342212623, (1, 30) -> (3, 42) --- Cost: 136751.9955624616 --- Speed: 10.744652927765777, (1, 30) -> (3, 40) --- Cost: 196900.8736099447 --- Speed: 12.893583513318934, (1, 30) -> (3, 39) --- Cost: 243075.76988882056 --- Speed: 14.326203903687704, (2, 30) -> (3, 31) --- Cost: 4362.161149557014 --- Speed: 8, (1, 31) -> (3, 45) --- Cost: 100484.11918874731 --- Speed: 9.209702509513525, (1, 31) -> (3, 43) --- Cost: 136751.9955624616 --- Speed: 10.744652927765777, (1, 31) -> (3, 41) --- Cost: 196900.8736099447 --- Speed: 12.893583513318934, (1, 31) -> (3, 40) --- Cost: 243075.76988882056 --- Speed: 14.326203903687704, (2, 31) -> (3, 32) --- Cost: 4362.161149557014 --- Speed: 8, (1, 32) -> (3, 45) --- Cost: 116529.80686978974 --- Speed: 9.918141164091487, (1, 32) -> (3, 43) --- Cost: 162736.67240491294 --- Speed: 11.721439557562666, (1, 32) -> (3, 42) --- Cost: 196900.8736099447 --- Speed: 12.893583513318934, (1, 32) -> (3, 41) --- Cost: 243075.76988882056 --- Speed: 14.326203903687704, (2, 32) -> (3, 33) --- Cost: 4362.161149557014 --- Speed: 8, (1, 33) -> (3, 42) --- Cost: 243075.76988882056 --- Speed: 14.326203903687704, (1, 33) -> (3, 43) --- Cost: 196900.8736099447 --- Speed: 12.893583513318934, (1, 33) -> (3, 44) --- Cost: 162736.67240491294 --- Speed: 11.721439557562666, (1, 33) -> (3, 45) --- Cost: 136751.9955624616 --- Speed: 10.744652927765777, (2, 33) -> (3, 34) --- Cost: 4362.161149557014 --- Speed: 8, (1, 34) -> (3, 43) --- Cost: 243075.76988882056 --- Speed: 14.326203903687704, (1, 34) -> (3, 44) --- Cost: 196900.8736099447 --- Speed: 12.893583513318934, (1, 34) -> (3, 45) --- Cost: 162736.67240491294 --- Speed: 11.721439557562666, (2, 34) -> (3, 35) --- Cost: 4362.161149557014 --- Speed: 8, (1, 35) -> (3, 44) --- Cost: 243075.76988882056 --- Speed: 14.326203903687704, (1, 35) -> (3, 45) --- Cost: 196900.8736099447 --- Speed: 12.893583513318934, (2, 35) -> (3, 36) --- Cost: 4362.161149557014 --- Speed: 8, (1, 36) -> (3, 45) --- Cost: 243075.76988882056 --- Speed: 14.326203903687704, (2, 36) -> (3, 37) --- Cost: 4362.161149557014 --- Speed: 8, (2, 37) -> (3, 38) --- Cost: 4362.161149557014 --- Speed: 8, (2, 38) -> (3, 39) --- Cost: 4362.161149557014 --- Speed: 8, (2, 39) -> (3, 40) --- Cost: 4362.161149557014 --- Speed: 8, (2, 40) -> (3, 41) --- Cost: 4362.161149557014 --- Speed: 8, (2, 41) -> (3, 42) --- Cost: 4362.161149557014 --- Speed: 8, (2, 42) -> (3, 43) --- Cost: 4362.161149557014 --- Speed: 8, (2, 43) -> (3, 44) --- Cost: 4362.161149557014 --- Speed: 8, (2, 44) -> (3, 45) --- Cost: 4362.161149557014 --- Speed: 8]\n",
      "Vessel 6\n",
      "[(2, 2) -> (1, 18) --- Cost: 79463.09953449942 --- Speed: 8.145515546256298, (2, 2) -> (1, 15) --- Cost: 120344.39929486297 --- Speed: 10.025249903084674, (2, 2) -> (1, 13) --- Cost: 168064.4915771227 --- Speed: 11.848022612736434, (2, 2) -> (1, 11) --- Cost: 251034.6108744672 --- Speed: 14.480916526677865, (2, 3) -> (1, 19) --- Cost: 79463.09953449942 --- Speed: 8.145515546256298, (2, 3) -> (1, 16) --- Cost: 120344.39929486297 --- Speed: 10.025249903084674, (2, 3) -> (1, 14) --- Cost: 168064.4915771227 --- Speed: 11.848022612736434, (2, 3) -> (1, 12) --- Cost: 251034.6108744672 --- Speed: 14.480916526677865, (2, 4) -> (1, 20) --- Cost: 79463.09953449942 --- Speed: 8.145515546256298, (2, 4) -> (1, 17) --- Cost: 120344.39929486297 --- Speed: 10.025249903084674, (2, 4) -> (1, 15) --- Cost: 168064.4915771227 --- Speed: 11.848022612736434, (2, 4) -> (1, 13) --- Cost: 251034.6108744672 --- Speed: 14.480916526677865, (2, 5) -> (1, 21) --- Cost: 79463.09953449942 --- Speed: 8.145515546256298, (2, 5) -> (1, 18) --- Cost: 120344.39929486297 --- Speed: 10.025249903084674, (2, 5) -> (1, 16) --- Cost: 168064.4915771227 --- Speed: 11.848022612736434, (2, 5) -> (1, 14) --- Cost: 251034.6108744672 --- Speed: 14.480916526677865, (2, 6) -> (1, 22) --- Cost: 79463.09953449942 --- Speed: 8.145515546256298, (2, 6) -> (1, 19) --- Cost: 120344.39929486297 --- Speed: 10.025249903084674, (2, 6) -> (1, 17) --- Cost: 168064.4915771227 --- Speed: 11.848022612736434, (2, 6) -> (1, 15) --- Cost: 251034.6108744672 --- Speed: 14.480916526677865, (2, 7) -> (1, 23) --- Cost: 79463.09953449942 --- Speed: 8.145515546256298, (2, 7) -> (1, 20) --- Cost: 120344.39929486297 --- Speed: 10.025249903084674, (2, 7) -> (1, 18) --- Cost: 168064.4915771227 --- Speed: 11.848022612736434, (2, 7) -> (1, 16) --- Cost: 251034.6108744672 --- Speed: 14.480916526677865, (2, 8) -> (1, 24) --- Cost: 79463.09953449942 --- Speed: 8.145515546256298, (2, 8) -> (1, 21) --- Cost: 120344.39929486297 --- Speed: 10.025249903084674, (2, 8) -> (1, 19) --- Cost: 168064.4915771227 --- Speed: 11.848022612736434, (2, 8) -> (1, 17) --- Cost: 251034.6108744672 --- Speed: 14.480916526677865, (2, 9) -> (1, 25) --- Cost: 79463.09953449942 --- Speed: 8.145515546256298, (2, 9) -> (1, 22) --- Cost: 120344.39929486297 --- Speed: 10.025249903084674, (2, 9) -> (1, 20) --- Cost: 168064.4915771227 --- Speed: 11.848022612736434, (2, 9) -> (1, 18) --- Cost: 251034.6108744672 --- Speed: 14.480916526677865, (2, 10) -> (1, 26) --- Cost: 79463.09953449942 --- Speed: 8.145515546256298, (2, 10) -> (1, 23) --- Cost: 120344.39929486297 --- Speed: 10.025249903084674, (2, 10) -> (1, 21) --- Cost: 168064.4915771227 --- Speed: 11.848022612736434, (2, 10) -> (1, 19) --- Cost: 251034.6108744672 --- Speed: 14.480916526677865, (2, 11) -> (1, 27) --- Cost: 79463.09953449942 --- Speed: 8.145515546256298, (2, 11) -> (1, 24) --- Cost: 120344.39929486297 --- Speed: 10.025249903084674, (2, 11) -> (1, 22) --- Cost: 168064.4915771227 --- Speed: 11.848022612736434, (2, 11) -> (1, 20) --- Cost: 251034.6108744672 --- Speed: 14.480916526677865, (2, 12) -> (1, 28) --- Cost: 79463.09953449942 --- Speed: 8.145515546256298, (2, 12) -> (1, 25) --- Cost: 120344.39929486297 --- Speed: 10.025249903084674, (2, 12) -> (1, 23) --- Cost: 168064.4915771227 --- Speed: 11.848022612736434, (2, 12) -> (1, 21) --- Cost: 251034.6108744672 --- Speed: 14.480916526677865, (2, 13) -> (1, 29) --- Cost: 79463.09953449942 --- Speed: 8.145515546256298, (2, 13) -> (1, 26) --- Cost: 120344.39929486297 --- Speed: 10.025249903084674, (2, 13) -> (1, 24) --- Cost: 168064.4915771227 --- Speed: 11.848022612736434, (2, 13) -> (1, 22) --- Cost: 251034.6108744672 --- Speed: 14.480916526677865, (2, 14) -> (1, 30) --- Cost: 79463.09953449942 --- Speed: 8.145515546256298, (2, 14) -> (1, 27) --- Cost: 120344.39929486297 --- Speed: 10.025249903084674, (2, 14) -> (1, 25) --- Cost: 168064.4915771227 --- Speed: 11.848022612736434, (2, 14) -> (1, 23) --- Cost: 251034.6108744672 --- Speed: 14.480916526677865, (2, 15) -> (1, 31) --- Cost: 79463.09953449942 --- Speed: 8.145515546256298, (2, 15) -> (1, 28) --- Cost: 120344.39929486297 --- Speed: 10.025249903084674, (2, 15) -> (1, 26) --- Cost: 168064.4915771227 --- Speed: 11.848022612736434, (2, 15) -> (1, 24) --- Cost: 251034.6108744672 --- Speed: 14.480916526677865, (2, 16) -> (1, 32) --- Cost: 79463.09953449942 --- Speed: 8.145515546256298, (2, 16) -> (1, 29) --- Cost: 120344.39929486297 --- Speed: 10.025249903084674, (2, 16) -> (1, 27) --- Cost: 168064.4915771227 --- Speed: 11.848022612736434, (2, 16) -> (1, 25) --- Cost: 251034.6108744672 --- Speed: 14.480916526677865, (2, 17) -> (1, 33) --- Cost: 79463.09953449942 --- Speed: 8.145515546256298, (2, 17) -> (1, 30) --- Cost: 120344.39929486297 --- Speed: 10.025249903084674, (2, 17) -> (1, 28) --- Cost: 168064.4915771227 --- Speed: 11.848022612736434, (2, 17) -> (1, 26) --- Cost: 251034.6108744672 --- Speed: 14.480916526677865, (2, 18) -> (1, 34) --- Cost: 79463.09953449942 --- Speed: 8.145515546256298, (2, 18) -> (1, 31) --- Cost: 120344.39929486297 --- Speed: 10.025249903084674, (2, 18) -> (1, 29) --- Cost: 168064.4915771227 --- Speed: 11.848022612736434, (2, 18) -> (1, 27) --- Cost: 251034.6108744672 --- Speed: 14.480916526677865, (2, 19) -> (1, 35) --- Cost: 79463.09953449942 --- Speed: 8.145515546256298, (2, 19) -> (1, 32) --- Cost: 120344.39929486297 --- Speed: 10.025249903084674, (2, 19) -> (1, 30) --- Cost: 168064.4915771227 --- Speed: 11.848022612736434, (2, 19) -> (1, 28) --- Cost: 251034.6108744672 --- Speed: 14.480916526677865, (2, 20) -> (1, 36) --- Cost: 79463.09953449942 --- Speed: 8.145515546256298, (2, 20) -> (1, 33) --- Cost: 120344.39929486297 --- Speed: 10.025249903084674, (2, 20) -> (1, 31) --- Cost: 168064.4915771227 --- Speed: 11.848022612736434, (2, 20) -> (1, 29) --- Cost: 251034.6108744672 --- Speed: 14.480916526677865, (2, 21) -> (1, 37) --- Cost: 79463.09953449942 --- Speed: 8.145515546256298, (2, 21) -> (1, 34) --- Cost: 120344.39929486297 --- Speed: 10.025249903084674, (2, 21) -> (1, 32) --- Cost: 168064.4915771227 --- Speed: 11.848022612736434, (2, 21) -> (1, 30) --- Cost: 251034.6108744672 --- Speed: 14.480916526677865, (2, 22) -> (1, 38) --- Cost: 79463.09953449942 --- Speed: 8.145515546256298, (2, 22) -> (1, 35) --- Cost: 120344.39929486297 --- Speed: 10.025249903084674, (2, 22) -> (1, 33) --- Cost: 168064.4915771227 --- Speed: 11.848022612736434, (2, 22) -> (1, 31) --- Cost: 251034.6108744672 --- Speed: 14.480916526677865, (2, 23) -> (1, 39) --- Cost: 79463.09953449942 --- Speed: 8.145515546256298, (2, 23) -> (1, 36) --- Cost: 120344.39929486297 --- Speed: 10.025249903084674, (2, 23) -> (1, 34) --- Cost: 168064.4915771227 --- Speed: 11.848022612736434, (2, 23) -> (1, 32) --- Cost: 251034.6108744672 --- Speed: 14.480916526677865, (2, 24) -> (1, 40) --- Cost: 79463.09953449942 --- Speed: 8.145515546256298, (2, 24) -> (1, 37) --- Cost: 120344.39929486297 --- Speed: 10.025249903084674, (2, 24) -> (1, 35) --- Cost: 168064.4915771227 --- Speed: 11.848022612736434, (2, 24) -> (1, 33) --- Cost: 251034.6108744672 --- Speed: 14.480916526677865, (2, 25) -> (1, 41) --- Cost: 79463.09953449942 --- Speed: 8.145515546256298, (2, 25) -> (1, 38) --- Cost: 120344.39929486297 --- Speed: 10.025249903084674, (2, 25) -> (1, 36) --- Cost: 168064.4915771227 --- Speed: 11.848022612736434, (2, 25) -> (1, 34) --- Cost: 251034.6108744672 --- Speed: 14.480916526677865, (2, 26) -> (1, 42) --- Cost: 79463.09953449942 --- Speed: 8.145515546256298, (2, 26) -> (1, 39) --- Cost: 120344.39929486297 --- Speed: 10.025249903084674, (2, 26) -> (1, 37) --- Cost: 168064.4915771227 --- Speed: 11.848022612736434, (2, 26) -> (1, 35) --- Cost: 251034.6108744672 --- Speed: 14.480916526677865, (2, 27) -> (1, 43) --- Cost: 79463.09953449942 --- Speed: 8.145515546256298, (2, 27) -> (1, 40) --- Cost: 120344.39929486297 --- Speed: 10.025249903084674, (2, 27) -> (1, 38) --- Cost: 168064.4915771227 --- Speed: 11.848022612736434, (2, 27) -> (1, 36) --- Cost: 251034.6108744672 --- Speed: 14.480916526677865, (2, 28) -> (1, 44) --- Cost: 79463.09953449942 --- Speed: 8.145515546256298, (2, 28) -> (1, 41) --- Cost: 120344.39929486297 --- Speed: 10.025249903084674, (2, 28) -> (1, 39) --- Cost: 168064.4915771227 --- Speed: 11.848022612736434, (2, 28) -> (1, 37) --- Cost: 251034.6108744672 --- Speed: 14.480916526677865, (2, 29) -> (1, 45) --- Cost: 79463.09953449942 --- Speed: 8.145515546256298, (2, 29) -> (1, 42) --- Cost: 120344.39929486297 --- Speed: 10.025249903084674, (2, 29) -> (1, 40) --- Cost: 168064.4915771227 --- Speed: 11.848022612736434, (2, 29) -> (1, 38) --- Cost: 251034.6108744672 --- Speed: 14.480916526677865, (2, 30) -> (1, 45) --- Cost: 90404.45991480819 --- Speed: 8.688549916006718, (2, 30) -> (1, 42) --- Cost: 141228.8436168878 --- Speed: 10.860687395008398, (2, 30) -> (1, 40) --- Cost: 203347.53480831845 --- Speed: 13.032824874010078, (2, 30) -> (1, 39) --- Cost: 251034.6108744672 --- Speed: 14.480916526677865, (2, 31) -> (1, 45) --- Cost: 103773.23204506045 --- Speed: 9.309160624292913, (2, 31) -> (1, 43) --- Cost: 141228.8436168878 --- Speed: 10.860687395008398, (2, 31) -> (1, 41) --- Cost: 203347.53480831845 --- Speed: 13.032824874010078, (2, 31) -> (1, 40) --- Cost: 251034.6108744672 --- Speed: 14.480916526677865, (2, 32) -> (1, 45) --- Cost: 120344.39929486297 --- Speed: 10.025249903084674, (2, 32) -> (1, 43) --- Cost: 168064.4915771227 --- Speed: 11.848022612736434, (2, 32) -> (1, 42) --- Cost: 203347.53480831845 --- Speed: 13.032824874010078, (2, 32) -> (1, 41) --- Cost: 251034.6108744672 --- Speed: 14.480916526677865, (2, 33) -> (1, 42) --- Cost: 251034.6108744672 --- Speed: 14.480916526677865, (2, 33) -> (1, 43) --- Cost: 203347.53480831845 --- Speed: 13.032824874010078, (2, 33) -> (1, 44) --- Cost: 168064.4915771227 --- Speed: 11.848022612736434, (2, 33) -> (1, 45) --- Cost: 141228.8436168878 --- Speed: 10.860687395008398, (2, 34) -> (1, 43) --- Cost: 251034.6108744672 --- Speed: 14.480916526677865, (2, 34) -> (1, 44) --- Cost: 203347.53480831845 --- Speed: 13.032824874010078, (2, 34) -> (1, 45) --- Cost: 168064.4915771227 --- Speed: 11.848022612736434, (2, 35) -> (1, 44) --- Cost: 251034.6108744672 --- Speed: 14.480916526677865, (2, 35) -> (1, 45) --- Cost: 203347.53480831845 --- Speed: 13.032824874010078, (2, 36) -> (1, 45) --- Cost: 251034.6108744672 --- Speed: 14.480916526677865]\n",
      "[(0, 0) -> (2, 2) --- Cost: 50 --- Speed: 0, (1, 11) -> (2, 27) --- Cost: 79463.09953449942 --- Speed: 8.145515546256298, (1, 11) -> (2, 24) --- Cost: 120344.39929486297 --- Speed: 10.025249903084674, (1, 11) -> (2, 22) --- Cost: 168064.4915771227 --- Speed: 11.848022612736434, (1, 11) -> (2, 20) --- Cost: 251034.6108744672 --- Speed: 14.480916526677865, (1, 12) -> (2, 28) --- Cost: 79463.09953449942 --- Speed: 8.145515546256298, (1, 12) -> (2, 25) --- Cost: 120344.39929486297 --- Speed: 10.025249903084674, (1, 12) -> (2, 23) --- Cost: 168064.4915771227 --- Speed: 11.848022612736434, (1, 12) -> (2, 21) --- Cost: 251034.6108744672 --- Speed: 14.480916526677865, (1, 13) -> (2, 29) --- Cost: 79463.09953449942 --- Speed: 8.145515546256298, (1, 13) -> (2, 26) --- Cost: 120344.39929486297 --- Speed: 10.025249903084674, (1, 13) -> (2, 24) --- Cost: 168064.4915771227 --- Speed: 11.848022612736434, (1, 13) -> (2, 22) --- Cost: 251034.6108744672 --- Speed: 14.480916526677865, (1, 14) -> (2, 30) --- Cost: 79463.09953449942 --- Speed: 8.145515546256298, (1, 14) -> (2, 27) --- Cost: 120344.39929486297 --- Speed: 10.025249903084674, (1, 14) -> (2, 25) --- Cost: 168064.4915771227 --- Speed: 11.848022612736434, (1, 14) -> (2, 23) --- Cost: 251034.6108744672 --- Speed: 14.480916526677865, (1, 15) -> (2, 31) --- Cost: 79463.09953449942 --- Speed: 8.145515546256298, (1, 15) -> (2, 28) --- Cost: 120344.39929486297 --- Speed: 10.025249903084674, (1, 15) -> (2, 26) --- Cost: 168064.4915771227 --- Speed: 11.848022612736434, (1, 15) -> (2, 24) --- Cost: 251034.6108744672 --- Speed: 14.480916526677865, (1, 16) -> (2, 32) --- Cost: 79463.09953449942 --- Speed: 8.145515546256298, (1, 16) -> (2, 29) --- Cost: 120344.39929486297 --- Speed: 10.025249903084674, (1, 16) -> (2, 27) --- Cost: 168064.4915771227 --- Speed: 11.848022612736434, (1, 16) -> (2, 25) --- Cost: 251034.6108744672 --- Speed: 14.480916526677865, (1, 17) -> (2, 33) --- Cost: 79463.09953449942 --- Speed: 8.145515546256298, (1, 17) -> (2, 30) --- Cost: 120344.39929486297 --- Speed: 10.025249903084674, (1, 17) -> (2, 28) --- Cost: 168064.4915771227 --- Speed: 11.848022612736434, (1, 17) -> (2, 26) --- Cost: 251034.6108744672 --- Speed: 14.480916526677865, (1, 18) -> (2, 34) --- Cost: 79463.09953449942 --- Speed: 8.145515546256298, (1, 18) -> (2, 31) --- Cost: 120344.39929486297 --- Speed: 10.025249903084674, (1, 18) -> (2, 29) --- Cost: 168064.4915771227 --- Speed: 11.848022612736434, (1, 18) -> (2, 27) --- Cost: 251034.6108744672 --- Speed: 14.480916526677865, (1, 19) -> (2, 35) --- Cost: 79463.09953449942 --- Speed: 8.145515546256298, (1, 19) -> (2, 32) --- Cost: 120344.39929486297 --- Speed: 10.025249903084674, (1, 19) -> (2, 30) --- Cost: 168064.4915771227 --- Speed: 11.848022612736434, (1, 19) -> (2, 28) --- Cost: 251034.6108744672 --- Speed: 14.480916526677865, (1, 20) -> (2, 36) --- Cost: 79463.09953449942 --- Speed: 8.145515546256298, (1, 20) -> (2, 33) --- Cost: 120344.39929486297 --- Speed: 10.025249903084674, (1, 20) -> (2, 31) --- Cost: 168064.4915771227 --- Speed: 11.848022612736434, (1, 20) -> (2, 29) --- Cost: 251034.6108744672 --- Speed: 14.480916526677865, (1, 21) -> (2, 37) --- Cost: 79463.09953449942 --- Speed: 8.145515546256298, (1, 21) -> (2, 34) --- Cost: 120344.39929486297 --- Speed: 10.025249903084674, (1, 21) -> (2, 32) --- Cost: 168064.4915771227 --- Speed: 11.848022612736434, (1, 21) -> (2, 30) --- Cost: 251034.6108744672 --- Speed: 14.480916526677865, (1, 22) -> (2, 38) --- Cost: 79463.09953449942 --- Speed: 8.145515546256298, (1, 22) -> (2, 35) --- Cost: 120344.39929486297 --- Speed: 10.025249903084674, (1, 22) -> (2, 33) --- Cost: 168064.4915771227 --- Speed: 11.848022612736434, (1, 22) -> (2, 31) --- Cost: 251034.6108744672 --- Speed: 14.480916526677865, (1, 23) -> (2, 39) --- Cost: 79463.09953449942 --- Speed: 8.145515546256298, (1, 23) -> (2, 36) --- Cost: 120344.39929486297 --- Speed: 10.025249903084674, (1, 23) -> (2, 34) --- Cost: 168064.4915771227 --- Speed: 11.848022612736434, (1, 23) -> (2, 32) --- Cost: 251034.6108744672 --- Speed: 14.480916526677865, (1, 24) -> (2, 40) --- Cost: 79463.09953449942 --- Speed: 8.145515546256298, (1, 24) -> (2, 37) --- Cost: 120344.39929486297 --- Speed: 10.025249903084674, (1, 24) -> (2, 35) --- Cost: 168064.4915771227 --- Speed: 11.848022612736434, (1, 24) -> (2, 33) --- Cost: 251034.6108744672 --- Speed: 14.480916526677865, (1, 25) -> (2, 41) --- Cost: 79463.09953449942 --- Speed: 8.145515546256298, (1, 25) -> (2, 38) --- Cost: 120344.39929486297 --- Speed: 10.025249903084674, (1, 25) -> (2, 36) --- Cost: 168064.4915771227 --- Speed: 11.848022612736434, (1, 25) -> (2, 34) --- Cost: 251034.6108744672 --- Speed: 14.480916526677865, (1, 26) -> (2, 42) --- Cost: 79463.09953449942 --- Speed: 8.145515546256298, (1, 26) -> (2, 39) --- Cost: 120344.39929486297 --- Speed: 10.025249903084674, (1, 26) -> (2, 37) --- Cost: 168064.4915771227 --- Speed: 11.848022612736434, (1, 26) -> (2, 35) --- Cost: 251034.6108744672 --- Speed: 14.480916526677865, (1, 27) -> (2, 43) --- Cost: 79463.09953449942 --- Speed: 8.145515546256298, (1, 27) -> (2, 40) --- Cost: 120344.39929486297 --- Speed: 10.025249903084674, (1, 27) -> (2, 38) --- Cost: 168064.4915771227 --- Speed: 11.848022612736434, (1, 27) -> (2, 36) --- Cost: 251034.6108744672 --- Speed: 14.480916526677865, (1, 28) -> (2, 44) --- Cost: 79463.09953449942 --- Speed: 8.145515546256298, (1, 28) -> (2, 41) --- Cost: 120344.39929486297 --- Speed: 10.025249903084674, (1, 28) -> (2, 39) --- Cost: 168064.4915771227 --- Speed: 11.848022612736434, (1, 28) -> (2, 37) --- Cost: 251034.6108744672 --- Speed: 14.480916526677865, (1, 29) -> (2, 45) --- Cost: 79463.09953449942 --- Speed: 8.145515546256298, (1, 29) -> (2, 42) --- Cost: 120344.39929486297 --- Speed: 10.025249903084674, (1, 29) -> (2, 40) --- Cost: 168064.4915771227 --- Speed: 11.848022612736434, (1, 29) -> (2, 38) --- Cost: 251034.6108744672 --- Speed: 14.480916526677865, (1, 30) -> (2, 45) --- Cost: 90404.45991480819 --- Speed: 8.688549916006718, (1, 30) -> (2, 42) --- Cost: 141228.8436168878 --- Speed: 10.860687395008398, (1, 30) -> (2, 40) --- Cost: 203347.53480831845 --- Speed: 13.032824874010078, (1, 30) -> (2, 39) --- Cost: 251034.6108744672 --- Speed: 14.480916526677865, (1, 31) -> (2, 45) --- Cost: 103773.23204506045 --- Speed: 9.309160624292913, (1, 31) -> (2, 43) --- Cost: 141228.8436168878 --- Speed: 10.860687395008398, (1, 31) -> (2, 41) --- Cost: 203347.53480831845 --- Speed: 13.032824874010078, (1, 31) -> (2, 40) --- Cost: 251034.6108744672 --- Speed: 14.480916526677865, (1, 32) -> (2, 45) --- Cost: 120344.39929486297 --- Speed: 10.025249903084674, (1, 32) -> (2, 43) --- Cost: 168064.4915771227 --- Speed: 11.848022612736434, (1, 32) -> (2, 42) --- Cost: 203347.53480831845 --- Speed: 13.032824874010078, (1, 32) -> (2, 41) --- Cost: 251034.6108744672 --- Speed: 14.480916526677865, (1, 33) -> (2, 42) --- Cost: 251034.6108744672 --- Speed: 14.480916526677865, (1, 33) -> (2, 43) --- Cost: 203347.53480831845 --- Speed: 13.032824874010078, (1, 33) -> (2, 44) --- Cost: 168064.4915771227 --- Speed: 11.848022612736434, (1, 33) -> (2, 45) --- Cost: 141228.8436168878 --- Speed: 10.860687395008398, (1, 34) -> (2, 43) --- Cost: 251034.6108744672 --- Speed: 14.480916526677865, (1, 34) -> (2, 44) --- Cost: 203347.53480831845 --- Speed: 13.032824874010078, (1, 34) -> (2, 45) --- Cost: 168064.4915771227 --- Speed: 11.848022612736434, (1, 35) -> (2, 44) --- Cost: 251034.6108744672 --- Speed: 14.480916526677865, (1, 35) -> (2, 45) --- Cost: 203347.53480831845 --- Speed: 13.032824874010078, (1, 36) -> (2, 45) --- Cost: 251034.6108744672 --- Speed: 14.480916526677865]\n",
      "Vessel 7\n",
      "[(3, 5) -> (1, 21) --- Cost: 76944.87250388463 --- Speed: 8.058489695824333, (3, 5) -> (1, 18) --- Cost: 116529.80686978974 --- Speed: 9.918141164091487, (3, 5) -> (1, 16) --- Cost: 162736.67240491294 --- Speed: 11.721439557562666, (3, 5) -> (1, 14) --- Cost: 243075.76988882056 --- Speed: 14.326203903687704, (3, 6) -> (1, 22) --- Cost: 76944.87250388463 --- Speed: 8.058489695824333, (3, 6) -> (1, 19) --- Cost: 116529.80686978974 --- Speed: 9.918141164091487, (3, 6) -> (1, 17) --- Cost: 162736.67240491294 --- Speed: 11.721439557562666, (3, 6) -> (1, 15) --- Cost: 243075.76988882056 --- Speed: 14.326203903687704, (3, 7) -> (1, 23) --- Cost: 76944.87250388463 --- Speed: 8.058489695824333, (3, 7) -> (1, 20) --- Cost: 116529.80686978974 --- Speed: 9.918141164091487, (3, 7) -> (1, 18) --- Cost: 162736.67240491294 --- Speed: 11.721439557562666, (3, 7) -> (1, 16) --- Cost: 243075.76988882056 --- Speed: 14.326203903687704, (3, 8) -> (1, 24) --- Cost: 76944.87250388463 --- Speed: 8.058489695824333, (3, 8) -> (1, 21) --- Cost: 116529.80686978974 --- Speed: 9.918141164091487, (3, 8) -> (1, 19) --- Cost: 162736.67240491294 --- Speed: 11.721439557562666, (3, 8) -> (1, 17) --- Cost: 243075.76988882056 --- Speed: 14.326203903687704, (3, 9) -> (1, 25) --- Cost: 76944.87250388463 --- Speed: 8.058489695824333, (3, 9) -> (1, 22) --- Cost: 116529.80686978974 --- Speed: 9.918141164091487, (3, 9) -> (1, 20) --- Cost: 162736.67240491294 --- Speed: 11.721439557562666, (3, 9) -> (1, 18) --- Cost: 243075.76988882056 --- Speed: 14.326203903687704, (3, 10) -> (1, 26) --- Cost: 76944.87250388463 --- Speed: 8.058489695824333, (3, 10) -> (1, 23) --- Cost: 116529.80686978974 --- Speed: 9.918141164091487, (3, 10) -> (1, 21) --- Cost: 162736.67240491294 --- Speed: 11.721439557562666, (3, 10) -> (1, 19) --- Cost: 243075.76988882056 --- Speed: 14.326203903687704, (3, 11) -> (1, 27) --- Cost: 76944.87250388463 --- Speed: 8.058489695824333, (3, 11) -> (1, 24) --- Cost: 116529.80686978974 --- Speed: 9.918141164091487, (3, 11) -> (1, 22) --- Cost: 162736.67240491294 --- Speed: 11.721439557562666, (3, 11) -> (1, 20) --- Cost: 243075.76988882056 --- Speed: 14.326203903687704, (3, 12) -> (1, 28) --- Cost: 76944.87250388463 --- Speed: 8.058489695824333, (3, 12) -> (1, 25) --- Cost: 116529.80686978974 --- Speed: 9.918141164091487, (3, 12) -> (1, 23) --- Cost: 162736.67240491294 --- Speed: 11.721439557562666, (3, 12) -> (1, 21) --- Cost: 243075.76988882056 --- Speed: 14.326203903687704, (3, 13) -> (1, 29) --- Cost: 76944.87250388463 --- Speed: 8.058489695824333, (3, 13) -> (1, 26) --- Cost: 116529.80686978974 --- Speed: 9.918141164091487, (3, 13) -> (1, 24) --- Cost: 162736.67240491294 --- Speed: 11.721439557562666, (3, 13) -> (1, 22) --- Cost: 243075.76988882056 --- Speed: 14.326203903687704, (3, 14) -> (1, 30) --- Cost: 76944.87250388463 --- Speed: 8.058489695824333, (3, 14) -> (1, 27) --- Cost: 116529.80686978974 --- Speed: 9.918141164091487, (3, 14) -> (1, 25) --- Cost: 162736.67240491294 --- Speed: 11.721439557562666, (3, 14) -> (1, 23) --- Cost: 243075.76988882056 --- Speed: 14.326203903687704, (3, 15) -> (1, 31) --- Cost: 76944.87250388463 --- Speed: 8.058489695824333, (3, 15) -> (1, 28) --- Cost: 116529.80686978974 --- Speed: 9.918141164091487, (3, 15) -> (1, 26) --- Cost: 162736.67240491294 --- Speed: 11.721439557562666, (3, 15) -> (1, 24) --- Cost: 243075.76988882056 --- Speed: 14.326203903687704, (3, 16) -> (1, 32) --- Cost: 76944.87250388463 --- Speed: 8.058489695824333, (3, 16) -> (1, 29) --- Cost: 116529.80686978974 --- Speed: 9.918141164091487, (3, 16) -> (1, 27) --- Cost: 162736.67240491294 --- Speed: 11.721439557562666, (3, 16) -> (1, 25) --- Cost: 243075.76988882056 --- Speed: 14.326203903687704, (3, 17) -> (1, 33) --- Cost: 76944.87250388463 --- Speed: 8.058489695824333, (3, 17) -> (1, 30) --- Cost: 116529.80686978974 --- Speed: 9.918141164091487, (3, 17) -> (1, 28) --- Cost: 162736.67240491294 --- Speed: 11.721439557562666, (3, 17) -> (1, 26) --- Cost: 243075.76988882056 --- Speed: 14.326203903687704, (3, 18) -> (1, 34) --- Cost: 76944.87250388463 --- Speed: 8.058489695824333, (3, 18) -> (1, 31) --- Cost: 116529.80686978974 --- Speed: 9.918141164091487, (3, 18) -> (1, 29) --- Cost: 162736.67240491294 --- Speed: 11.721439557562666, (3, 18) -> (1, 27) --- Cost: 243075.76988882056 --- Speed: 14.326203903687704, (3, 19) -> (1, 35) --- Cost: 76944.87250388463 --- Speed: 8.058489695824333, (3, 19) -> (1, 32) --- Cost: 116529.80686978974 --- Speed: 9.918141164091487, (3, 19) -> (1, 30) --- Cost: 162736.67240491294 --- Speed: 11.721439557562666, (3, 19) -> (1, 28) --- Cost: 243075.76988882056 --- Speed: 14.326203903687704, (3, 20) -> (1, 36) --- Cost: 76944.87250388463 --- Speed: 8.058489695824333, (3, 20) -> (1, 33) --- Cost: 116529.80686978974 --- Speed: 9.918141164091487, (3, 20) -> (1, 31) --- Cost: 162736.67240491294 --- Speed: 11.721439557562666, (3, 20) -> (1, 29) --- Cost: 243075.76988882056 --- Speed: 14.326203903687704, (3, 21) -> (1, 37) --- Cost: 76944.87250388463 --- Speed: 8.058489695824333, (3, 21) -> (1, 34) --- Cost: 116529.80686978974 --- Speed: 9.918141164091487, (3, 21) -> (1, 32) --- Cost: 162736.67240491294 --- Speed: 11.721439557562666, (3, 21) -> (1, 30) --- Cost: 243075.76988882056 --- Speed: 14.326203903687704, (3, 22) -> (1, 38) --- Cost: 76944.87250388463 --- Speed: 8.058489695824333, (3, 22) -> (1, 35) --- Cost: 116529.80686978974 --- Speed: 9.918141164091487, (3, 22) -> (1, 33) --- Cost: 162736.67240491294 --- Speed: 11.721439557562666, (3, 22) -> (1, 31) --- Cost: 243075.76988882056 --- Speed: 14.326203903687704, (3, 23) -> (1, 39) --- Cost: 76944.87250388463 --- Speed: 8.058489695824333, (3, 23) -> (1, 36) --- Cost: 116529.80686978974 --- Speed: 9.918141164091487, (3, 23) -> (1, 34) --- Cost: 162736.67240491294 --- Speed: 11.721439557562666, (3, 23) -> (1, 32) --- Cost: 243075.76988882056 --- Speed: 14.326203903687704, (3, 24) -> (1, 40) --- Cost: 76944.87250388463 --- Speed: 8.058489695824333, (3, 24) -> (1, 37) --- Cost: 116529.80686978974 --- Speed: 9.918141164091487, (3, 24) -> (1, 35) --- Cost: 162736.67240491294 --- Speed: 11.721439557562666, (3, 24) -> (1, 33) --- Cost: 243075.76988882056 --- Speed: 14.326203903687704, (3, 25) -> (1, 41) --- Cost: 76944.87250388463 --- Speed: 8.058489695824333, (3, 25) -> (1, 38) --- Cost: 116529.80686978974 --- Speed: 9.918141164091487, (3, 25) -> (1, 36) --- Cost: 162736.67240491294 --- Speed: 11.721439557562666, (3, 25) -> (1, 34) --- Cost: 243075.76988882056 --- Speed: 14.326203903687704, (3, 26) -> (1, 42) --- Cost: 76944.87250388463 --- Speed: 8.058489695824333, (3, 26) -> (1, 39) --- Cost: 116529.80686978974 --- Speed: 9.918141164091487, (3, 26) -> (1, 37) --- Cost: 162736.67240491294 --- Speed: 11.721439557562666, (3, 26) -> (1, 35) --- Cost: 243075.76988882056 --- Speed: 14.326203903687704, (3, 27) -> (1, 43) --- Cost: 76944.87250388463 --- Speed: 8.058489695824333, (3, 27) -> (1, 40) --- Cost: 116529.80686978974 --- Speed: 9.918141164091487, (3, 27) -> (1, 38) --- Cost: 162736.67240491294 --- Speed: 11.721439557562666, (3, 27) -> (1, 36) --- Cost: 243075.76988882056 --- Speed: 14.326203903687704, (3, 28) -> (1, 44) --- Cost: 76944.87250388463 --- Speed: 8.058489695824333, (3, 28) -> (1, 41) --- Cost: 116529.80686978974 --- Speed: 9.918141164091487, (3, 28) -> (1, 39) --- Cost: 162736.67240491294 --- Speed: 11.721439557562666, (3, 28) -> (1, 37) --- Cost: 243075.76988882056 --- Speed: 14.326203903687704, (3, 29) -> (1, 45) --- Cost: 76944.87250388463 --- Speed: 8.058489695824333, (3, 29) -> (1, 42) --- Cost: 116529.80686978974 --- Speed: 9.918141164091487, (3, 29) -> (1, 40) --- Cost: 162736.67240491294 --- Speed: 11.721439557562666, (3, 29) -> (1, 38) --- Cost: 243075.76988882056 --- Speed: 14.326203903687704, (3, 30) -> (1, 45) --- Cost: 87539.27715997543 --- Speed: 8.595722342212623, (3, 30) -> (1, 42) --- Cost: 136751.9955624616 --- Speed: 10.744652927765777, (3, 30) -> (1, 40) --- Cost: 196900.8736099447 --- Speed: 12.893583513318934, (3, 30) -> (1, 39) --- Cost: 243075.76988882056 --- Speed: 14.326203903687704, (3, 31) -> (1, 45) --- Cost: 100484.11918874731 --- Speed: 9.209702509513525, (3, 31) -> (1, 43) --- Cost: 136751.9955624616 --- Speed: 10.744652927765777, (3, 31) -> (1, 41) --- Cost: 196900.8736099447 --- Speed: 12.893583513318934, (3, 31) -> (1, 40) --- Cost: 243075.76988882056 --- Speed: 14.326203903687704, (3, 32) -> (1, 45) --- Cost: 116529.80686978974 --- Speed: 9.918141164091487, (3, 32) -> (1, 43) --- Cost: 162736.67240491294 --- Speed: 11.721439557562666, (3, 32) -> (1, 42) --- Cost: 196900.8736099447 --- Speed: 12.893583513318934, (3, 32) -> (1, 41) --- Cost: 243075.76988882056 --- Speed: 14.326203903687704, (3, 33) -> (1, 42) --- Cost: 243075.76988882056 --- Speed: 14.326203903687704, (3, 33) -> (1, 43) --- Cost: 196900.8736099447 --- Speed: 12.893583513318934, (3, 33) -> (1, 44) --- Cost: 162736.67240491294 --- Speed: 11.721439557562666, (3, 33) -> (1, 45) --- Cost: 136751.9955624616 --- Speed: 10.744652927765777, (3, 34) -> (1, 43) --- Cost: 243075.76988882056 --- Speed: 14.326203903687704, (3, 34) -> (1, 44) --- Cost: 196900.8736099447 --- Speed: 12.893583513318934, (3, 34) -> (1, 45) --- Cost: 162736.67240491294 --- Speed: 11.721439557562666, (3, 35) -> (1, 44) --- Cost: 243075.76988882056 --- Speed: 14.326203903687704, (3, 35) -> (1, 45) --- Cost: 196900.8736099447 --- Speed: 12.893583513318934, (3, 36) -> (1, 45) --- Cost: 243075.76988882056 --- Speed: 14.326203903687704]\n",
      "[(0, 0) -> (3, 5) --- Cost: 50 --- Speed: 0, (1, 14) -> (3, 30) --- Cost: 76944.87250388463 --- Speed: 8.058489695824333, (1, 14) -> (3, 27) --- Cost: 116529.80686978974 --- Speed: 9.918141164091487, (1, 14) -> (3, 25) --- Cost: 162736.67240491294 --- Speed: 11.721439557562666, (1, 14) -> (3, 23) --- Cost: 243075.76988882056 --- Speed: 14.326203903687704, (1, 15) -> (3, 31) --- Cost: 76944.87250388463 --- Speed: 8.058489695824333, (1, 15) -> (3, 28) --- Cost: 116529.80686978974 --- Speed: 9.918141164091487, (1, 15) -> (3, 26) --- Cost: 162736.67240491294 --- Speed: 11.721439557562666, (1, 15) -> (3, 24) --- Cost: 243075.76988882056 --- Speed: 14.326203903687704, (1, 16) -> (3, 32) --- Cost: 76944.87250388463 --- Speed: 8.058489695824333, (1, 16) -> (3, 29) --- Cost: 116529.80686978974 --- Speed: 9.918141164091487, (1, 16) -> (3, 27) --- Cost: 162736.67240491294 --- Speed: 11.721439557562666, (1, 16) -> (3, 25) --- Cost: 243075.76988882056 --- Speed: 14.326203903687704, (1, 17) -> (3, 33) --- Cost: 76944.87250388463 --- Speed: 8.058489695824333, (1, 17) -> (3, 30) --- Cost: 116529.80686978974 --- Speed: 9.918141164091487, (1, 17) -> (3, 28) --- Cost: 162736.67240491294 --- Speed: 11.721439557562666, (1, 17) -> (3, 26) --- Cost: 243075.76988882056 --- Speed: 14.326203903687704, (1, 18) -> (3, 34) --- Cost: 76944.87250388463 --- Speed: 8.058489695824333, (1, 18) -> (3, 31) --- Cost: 116529.80686978974 --- Speed: 9.918141164091487, (1, 18) -> (3, 29) --- Cost: 162736.67240491294 --- Speed: 11.721439557562666, (1, 18) -> (3, 27) --- Cost: 243075.76988882056 --- Speed: 14.326203903687704, (1, 19) -> (3, 35) --- Cost: 76944.87250388463 --- Speed: 8.058489695824333, (1, 19) -> (3, 32) --- Cost: 116529.80686978974 --- Speed: 9.918141164091487, (1, 19) -> (3, 30) --- Cost: 162736.67240491294 --- Speed: 11.721439557562666, (1, 19) -> (3, 28) --- Cost: 243075.76988882056 --- Speed: 14.326203903687704, (1, 20) -> (3, 36) --- Cost: 76944.87250388463 --- Speed: 8.058489695824333, (1, 20) -> (3, 33) --- Cost: 116529.80686978974 --- Speed: 9.918141164091487, (1, 20) -> (3, 31) --- Cost: 162736.67240491294 --- Speed: 11.721439557562666, (1, 20) -> (3, 29) --- Cost: 243075.76988882056 --- Speed: 14.326203903687704, (1, 21) -> (3, 37) --- Cost: 76944.87250388463 --- Speed: 8.058489695824333, (1, 21) -> (3, 34) --- Cost: 116529.80686978974 --- Speed: 9.918141164091487, (1, 21) -> (3, 32) --- Cost: 162736.67240491294 --- Speed: 11.721439557562666, (1, 21) -> (3, 30) --- Cost: 243075.76988882056 --- Speed: 14.326203903687704, (1, 22) -> (3, 38) --- Cost: 76944.87250388463 --- Speed: 8.058489695824333, (1, 22) -> (3, 35) --- Cost: 116529.80686978974 --- Speed: 9.918141164091487, (1, 22) -> (3, 33) --- Cost: 162736.67240491294 --- Speed: 11.721439557562666, (1, 22) -> (3, 31) --- Cost: 243075.76988882056 --- Speed: 14.326203903687704, (1, 23) -> (3, 39) --- Cost: 76944.87250388463 --- Speed: 8.058489695824333, (1, 23) -> (3, 36) --- Cost: 116529.80686978974 --- Speed: 9.918141164091487, (1, 23) -> (3, 34) --- Cost: 162736.67240491294 --- Speed: 11.721439557562666, (1, 23) -> (3, 32) --- Cost: 243075.76988882056 --- Speed: 14.326203903687704, (1, 24) -> (3, 40) --- Cost: 76944.87250388463 --- Speed: 8.058489695824333, (1, 24) -> (3, 37) --- Cost: 116529.80686978974 --- Speed: 9.918141164091487, (1, 24) -> (3, 35) --- Cost: 162736.67240491294 --- Speed: 11.721439557562666, (1, 24) -> (3, 33) --- Cost: 243075.76988882056 --- Speed: 14.326203903687704, (1, 25) -> (3, 41) --- Cost: 76944.87250388463 --- Speed: 8.058489695824333, (1, 25) -> (3, 38) --- Cost: 116529.80686978974 --- Speed: 9.918141164091487, (1, 25) -> (3, 36) --- Cost: 162736.67240491294 --- Speed: 11.721439557562666, (1, 25) -> (3, 34) --- Cost: 243075.76988882056 --- Speed: 14.326203903687704, (1, 26) -> (3, 42) --- Cost: 76944.87250388463 --- Speed: 8.058489695824333, (1, 26) -> (3, 39) --- Cost: 116529.80686978974 --- Speed: 9.918141164091487, (1, 26) -> (3, 37) --- Cost: 162736.67240491294 --- Speed: 11.721439557562666, (1, 26) -> (3, 35) --- Cost: 243075.76988882056 --- Speed: 14.326203903687704, (1, 27) -> (3, 43) --- Cost: 76944.87250388463 --- Speed: 8.058489695824333, (1, 27) -> (3, 40) --- Cost: 116529.80686978974 --- Speed: 9.918141164091487, (1, 27) -> (3, 38) --- Cost: 162736.67240491294 --- Speed: 11.721439557562666, (1, 27) -> (3, 36) --- Cost: 243075.76988882056 --- Speed: 14.326203903687704, (1, 28) -> (3, 44) --- Cost: 76944.87250388463 --- Speed: 8.058489695824333, (1, 28) -> (3, 41) --- Cost: 116529.80686978974 --- Speed: 9.918141164091487, (1, 28) -> (3, 39) --- Cost: 162736.67240491294 --- Speed: 11.721439557562666, (1, 28) -> (3, 37) --- Cost: 243075.76988882056 --- Speed: 14.326203903687704, (1, 29) -> (3, 45) --- Cost: 76944.87250388463 --- Speed: 8.058489695824333, (1, 29) -> (3, 42) --- Cost: 116529.80686978974 --- Speed: 9.918141164091487, (1, 29) -> (3, 40) --- Cost: 162736.67240491294 --- Speed: 11.721439557562666, (1, 29) -> (3, 38) --- Cost: 243075.76988882056 --- Speed: 14.326203903687704, (1, 30) -> (3, 45) --- Cost: 87539.27715997543 --- Speed: 8.595722342212623, (1, 30) -> (3, 42) --- Cost: 136751.9955624616 --- Speed: 10.744652927765777, (1, 30) -> (3, 40) --- Cost: 196900.8736099447 --- Speed: 12.893583513318934, (1, 30) -> (3, 39) --- Cost: 243075.76988882056 --- Speed: 14.326203903687704, (1, 31) -> (3, 45) --- Cost: 100484.11918874731 --- Speed: 9.209702509513525, (1, 31) -> (3, 43) --- Cost: 136751.9955624616 --- Speed: 10.744652927765777, (1, 31) -> (3, 41) --- Cost: 196900.8736099447 --- Speed: 12.893583513318934, (1, 31) -> (3, 40) --- Cost: 243075.76988882056 --- Speed: 14.326203903687704, (1, 32) -> (3, 45) --- Cost: 116529.80686978974 --- Speed: 9.918141164091487, (1, 32) -> (3, 43) --- Cost: 162736.67240491294 --- Speed: 11.721439557562666, (1, 32) -> (3, 42) --- Cost: 196900.8736099447 --- Speed: 12.893583513318934, (1, 32) -> (3, 41) --- Cost: 243075.76988882056 --- Speed: 14.326203903687704, (1, 33) -> (3, 42) --- Cost: 243075.76988882056 --- Speed: 14.326203903687704, (1, 33) -> (3, 43) --- Cost: 196900.8736099447 --- Speed: 12.893583513318934, (1, 33) -> (3, 44) --- Cost: 162736.67240491294 --- Speed: 11.721439557562666, (1, 33) -> (3, 45) --- Cost: 136751.9955624616 --- Speed: 10.744652927765777, (1, 34) -> (3, 43) --- Cost: 243075.76988882056 --- Speed: 14.326203903687704, (1, 34) -> (3, 44) --- Cost: 196900.8736099447 --- Speed: 12.893583513318934, (1, 34) -> (3, 45) --- Cost: 162736.67240491294 --- Speed: 11.721439557562666, (1, 35) -> (3, 44) --- Cost: 243075.76988882056 --- Speed: 14.326203903687704, (1, 35) -> (3, 45) --- Cost: 196900.8736099447 --- Speed: 12.893583513318934, (1, 36) -> (3, 45) --- Cost: 243075.76988882056 --- Speed: 14.326203903687704]\n"
     ]
    }
   ],
   "source": [
    "for v in vessels:\n",
    "    print(v)\n",
    "    for port in ports:\n",
    "        # Sum of all arcs except waiting arcs that go to port must be less than or equal to the number of visits to port\n",
    "        incoming_to_port = [arc for arc in vessel_arcs[v] if arc.destination_node.port == port]\n",
    "        \n",
    "        if (len(incoming_to_port) == 0):\n",
    "            continue\n",
    "        arcs_to_remove_from_incoming_to_port = []\n",
    "        for arc in incoming_to_port:\n",
    "            if arc.origin_node.port.number == arc.destination_node.port.number:\n",
    "                # Remove the arc from incoming to port\n",
    "                arcs_to_remove_from_incoming_to_port.append(arc)\n",
    "        \n",
    "        # Remove the arcs from incoming_to_port\n",
    "        for arc in arcs_to_remove_from_incoming_to_port:\n",
    "            incoming_to_port.remove(arc)\n",
    "            \n",
    "        print(incoming_to_port)\n",
    "        \n",
    "        m.addConstr(gp.quicksum((x[arc.tuple, v]) for arc in incoming_to_port) <= visit_count[v][port.number],\n",
    "                    name=f'Visit_count_vessel_{v}_port_{port.number}')\n",
    "m.update()\n",
    "        "
   ]
  },
  {
   "cell_type": "code",
   "execution_count": 94,
   "metadata": {},
   "outputs": [],
   "source": [
    "# Constraint (17) modification\n",
    "# Ensure that q is at least 1/4 of the vessel's capacity if o is 1\n",
    "\n",
    "for v in vessels:\n",
    "    for node in regularNodes:\n",
    "        o_indices = [index for index in all_o_indices if index[0] == node.port.number and index[1] == node.time and index[2] == v]\n",
    "        for index in o_indices:\n",
    "            m.addConstr(q[node.port.number, node.time, v] >= 1/4 * v.max_inventory * o[index], name=f'q_{node.port.number}_{node.time}_{v}_visit_{visit}')"
   ]
  },
  {
   "cell_type": "code",
   "execution_count": null,
   "metadata": {},
   "outputs": [],
   "source": []
  },
  {
   "cell_type": "code",
   "execution_count": 95,
   "metadata": {},
   "outputs": [],
   "source": [
    "# # Constraint 18\n",
    "# # Ensure that the sum of o variables for each vessel is equal to the length of the vessel's route\n",
    "# for v in vessels:\n",
    "#     m.addConstr(gp.quicksum(o[index] for index in all_o_indices if index[2] == v) == len(VESSEL_ROUTES[v]), name=f'Route_length_vessel_{v}')\n",
    "# m.update()"
   ]
  },
  {
   "cell_type": "markdown",
   "metadata": {},
   "source": [
    "# RUN MODEL"
   ]
  },
  {
   "cell_type": "code",
   "execution_count": 96,
   "metadata": {},
   "outputs": [
    {
     "name": "stdout",
     "output_type": "stream",
     "text": [
      "Gurobi Optimizer version 10.0.3 build v10.0.3rc0 (mac64[x86])\n",
      "\n",
      "CPU model: Intel(R) Core(TM) i5-8257U CPU @ 1.40GHz\n",
      "Thread count: 4 physical cores, 8 logical processors, using up to 8 threads\n",
      "\n",
      "Optimize a model with 5611 rows, 4532 columns and 53397 nonzeros\n",
      "Model fingerprint: 0x1736bcc2\n",
      "Variable types: 1043 continuous, 3489 integer (3489 binary)\n",
      "Coefficient statistics:\n",
      "  Matrix range     [1e+00, 3e+02]\n",
      "  Objective range  [5e+01, 3e+05]\n",
      "  Bounds range     [1e+00, 6e+02]\n",
      "  RHS range        [1e+00, 3e+02]\n",
      "Presolve removed 2897 rows and 1757 columns\n",
      "Presolve time: 0.45s\n",
      "Presolved: 2714 rows, 2775 columns, 34635 nonzeros\n",
      "Variable types: 621 continuous, 2154 integer (2153 binary)\n",
      "\n",
      "Root relaxation: objective 6.582340e+05, 2780 iterations, 0.15 seconds (0.16 work units)\n",
      "\n",
      "    Nodes    |    Current Node    |     Objective Bounds      |     Work\n",
      " Expl Unexpl |  Obj  Depth IntInf | Incumbent    BestBd   Gap | It/Node Time\n",
      "\n",
      "     0     0 658234.047    0  417          - 658234.047      -     -    0s\n",
      "     0     0 666001.161    0  340          - 666001.161      -     -    0s\n",
      "     0     0 857790.577    0  444          - 857790.577      -     -    1s\n",
      "     0     0 857790.577    0  444          - 857790.577      -     -    1s\n",
      "     0     0 857946.566    0  460          - 857946.566      -     -    1s\n",
      "     0     0 857963.583    0  435          - 857963.583      -     -    1s\n",
      "     0     0 1036649.83    0  512          - 1036649.83      -     -    2s\n",
      "     0     0 1039088.75    0  510          - 1039088.75      -     -    2s\n",
      "     0     0 1039110.99    0  505          - 1039110.99      -     -    2s\n",
      "     0     0 1042917.97    0  485          - 1042917.97      -     -    2s\n",
      "     0     0 1043273.45    0  480          - 1043273.45      -     -    2s\n",
      "     0     0 1043309.07    0  484          - 1043309.07      -     -    2s\n",
      "     0     0 1140181.47    0  450          - 1140181.47      -     -    2s\n",
      "     0     0 1166523.53    0  420          - 1166523.53      -     -    2s\n",
      "     0     0 1167246.53    0  464          - 1167246.53      -     -    2s\n",
      "     0     0 1167250.68    0  476          - 1167250.68      -     -    2s\n",
      "     0     0 1204007.39    0  450          - 1204007.39      -     -    3s\n",
      "     0     0 1204033.74    0  443          - 1204033.74      -     -    3s\n",
      "     0     0 1204059.74    0  443          - 1204059.74      -     -    3s\n",
      "     0     0 1206983.22    0  446          - 1206983.22      -     -    3s\n",
      "     0     0 1207073.45    0  439          - 1207073.45      -     -    3s\n",
      "     0     0 1208827.44    0  463          - 1208827.44      -     -    3s\n",
      "     0     0 1208827.44    0  454          - 1208827.44      -     -    3s\n",
      "     0     0 1208890.86    0  454          - 1208890.86      -     -    3s\n",
      "     0     0 1213926.50    0  464          - 1213926.50      -     -    3s\n",
      "     0     0 1213926.78    0  463          - 1213926.78      -     -    3s\n",
      "     0     0 1213955.61    0  458          - 1213955.61      -     -    3s\n",
      "     0     0 1214272.25    0  466          - 1214272.25      -     -    3s\n",
      "     0     0 1214300.28    0  482          - 1214300.28      -     -    3s\n",
      "     0     0 1216567.51    0  521          - 1216567.51      -     -    3s\n",
      "     0     0 1216587.87    0  520          - 1216587.87      -     -    3s\n",
      "     0     0 1217038.23    0  504          - 1217038.23      -     -    3s\n",
      "     0     0 1217354.79    0  531          - 1217354.79      -     -    4s\n",
      "     0     0 1217377.22    0  535          - 1217377.22      -     -    4s\n",
      "     0     0 1218133.60    0  500          - 1218133.60      -     -    4s\n",
      "     0     0 1218133.60    0  500          - 1218133.60      -     -    4s\n",
      "     0     2 1218138.89    0  497          - 1218138.89      -     -    5s\n",
      "   697   663 1659925.83   14  260          - 1255162.54      -   179   10s\n",
      "  1124   944 2231616.39  103  335          - 2231616.39      -   157   15s\n",
      "H 1131   901                    2958272.5847 2268347.65  23.3%   156   15s\n",
      "H 1131   855                    2958222.5847 2268347.65  23.3%   156   15s\n",
      "H 1132   812                    2794958.5353 2317053.51  17.1%   156   15s\n",
      "H 1132   771                    2794908.5353 2317053.51  17.1%   156   15s\n",
      "H 1138   735                    2751314.6608 2338897.14  15.0%   155   16s\n",
      "H 1139   699                    2748733.6390 2352360.60  14.4%   155   16s\n",
      "H 1145   667                    2714752.4540 2374766.74  12.5%   154   17s\n",
      "H 1148   635                    2598980.3133 2390273.20  8.03%   154   17s\n",
      "  1170   651 2424449.78   55  203 2598980.31 2424449.78  6.72%   161   20s\n",
      "H 1258   624                    2598930.3133 2480716.13  4.55%   158   22s\n",
      "H 1340   577                    2596432.3077 2480716.13  4.46%   151   22s\n",
      "* 1374   539              51    2596382.3077 2480716.13  4.45%   148   22s\n",
      "\n",
      "Cutting planes:\n",
      "  Gomory: 8\n",
      "  Cover: 7\n",
      "  Implied bound: 8\n",
      "  Projected implied bound: 1\n",
      "  Clique: 11\n",
      "  MIR: 16\n",
      "  Flow cover: 46\n",
      "  Flow path: 5\n",
      "  Inf proof: 13\n",
      "  Zero half: 10\n",
      "  Mod-K: 3\n",
      "  RLT: 14\n",
      "  Relax-and-lift: 26\n",
      "\n",
      "Explored 1966 nodes (239380 simplex iterations) in 23.58 seconds (22.12 work units)\n",
      "Thread count was 8 (of 8 available processors)\n",
      "\n",
      "Solution count 10: 2.59638e+06 2.59643e+06 2.59893e+06 ... 2.95822e+06\n",
      "\n",
      "Optimal solution found (tolerance 1.00e-04)\n",
      "Best objective 2.596382307730e+06, best bound 2.596382307730e+06, gap 0.0000%\n",
      "Optimal solution found!\n"
     ]
    }
   ],
   "source": [
    "#optimize the model\n",
    "# Assuming you have a Gurobi model object named 'model' and a variable named 'arc_vars' representing the arcs\n",
    "\n",
    "# Possibility of setting a time limit\n",
    "# m.setParam(gp.GRB.Param.TimeLimit, 30)\n",
    "\n",
    "# Optimize the model\n",
    "m.optimize()\n",
    "\n",
    "# Check the status of the optimization\n",
    "if m.status == gp.GRB.OPTIMAL:\n",
    "    print(\"Optimal solution found!\")\n",
    "    \n",
    "# If the model is infeasible, compute the IIS\n",
    "if m.status == gp.GRB.INFEASIBLE:\n",
    "    print('Model is infeasible')\n",
    "    m.computeIIS()\n",
    "    # Write the IIS to a .ilp file\n",
    "    m.write(\"model.ilp\")\n",
    "    print('The infeasibility is written to the file \"model.ilp\"')\n",
    "\n",
    "        "
   ]
  },
  {
   "cell_type": "code",
   "execution_count": 97,
   "metadata": {},
   "outputs": [
    {
     "name": "stdout",
     "output_type": "stream",
     "text": [
      "Objective value: 2596382.307729694\n"
     ]
    }
   ],
   "source": [
    "print(f'Objective value: {m.objVal}')"
   ]
  },
  {
   "cell_type": "code",
   "execution_count": 98,
   "metadata": {},
   "outputs": [],
   "source": [
    "# For each vessel, save the route\n",
    "vessel_routes_incl_wa = {}\n",
    "for vessel in vessels:\n",
    "    vessel_routes_incl_wa[vessel] = []\n",
    "    for arc in vessel_arcs[vessel]:\n",
    "        if x[arc.tuple, vessel].x > 0 + 0.1:\n",
    "            vessel_routes_incl_wa[vessel].append(arc)\n"
   ]
  },
  {
   "cell_type": "code",
   "execution_count": 99,
   "metadata": {},
   "outputs": [],
   "source": [
    "# Sort the arcs in each route by time\n",
    "for vessel in vessels:\n",
    "    vessel_routes_incl_wa[vessel] = sorted(vessel_routes_incl_wa[vessel], key=lambda x: x.origin_node.time)\n"
   ]
  },
  {
   "cell_type": "code",
   "execution_count": 100,
   "metadata": {},
   "outputs": [
    {
     "data": {
      "text/plain": [
       "{Vessel 3: [1, 2, 1, 2],\n",
       " Vessel 4: [1, 3, 1, 2],\n",
       " Vessel 5: [1, 3, 2, 1, 3],\n",
       " Vessel 6: [2, 1, 2, 1],\n",
       " Vessel 7: [3, 1, 3, 1]}"
      ]
     },
     "execution_count": 100,
     "metadata": {},
     "output_type": "execute_result"
    }
   ],
   "source": [
    "VESSEL_ROUTES"
   ]
  },
  {
   "cell_type": "code",
   "execution_count": 101,
   "metadata": {},
   "outputs": [
    {
     "data": {
      "text/plain": [
       "{Vessel 3: [(0, 0) -> (1, 1) --- Cost: 50 --- Speed: 0,\n",
       "  (1, 1) -> (2, 12) --- Cost: 168064.4915771227 --- Speed: 11.848022612736434,\n",
       "  (2, 12) -> (1, 23) --- Cost: 168064.4915771227 --- Speed: 11.848022612736434,\n",
       "  (1, 23) -> (2, 34) --- Cost: 168064.4915771227 --- Speed: 11.848022612736434,\n",
       "  (2, 34) -> (5, 46) --- Cost: 0 --- Speed: 0],\n",
       " Vessel 4: [(0, 0) -> (1, 6) --- Cost: 50 --- Speed: 0,\n",
       "  (1, 6) -> (1, 7) --- Cost: 50 --- Speed: 0,\n",
       "  (1, 7) -> (1, 8) --- Cost: 50 --- Speed: 0,\n",
       "  (1, 8) -> (1, 9) --- Cost: 50 --- Speed: 0,\n",
       "  (1, 9) -> (3, 18) --- Cost: 243075.76988882056 --- Speed: 14.326203903687704,\n",
       "  (3, 18) -> (1, 31) --- Cost: 116529.80686978974 --- Speed: 9.918141164091487,\n",
       "  (1, 31) -> (2, 41) --- Cost: 203347.53480831845 --- Speed: 13.032824874010078,\n",
       "  (2, 41) -> (5, 46) --- Cost: 0 --- Speed: 0],\n",
       " Vessel 5: [(0, 0) -> (1, 3) --- Cost: 50 --- Speed: 0,\n",
       "  (1, 3) -> (1, 4) --- Cost: 50 --- Speed: 0,\n",
       "  (1, 4) -> (1, 5) --- Cost: 50 --- Speed: 0,\n",
       "  (1, 5) -> (3, 16) --- Cost: 162736.67240491294 --- Speed: 11.721439557562666,\n",
       "  (3, 16) -> (2, 17) --- Cost: 4362.161149557014 --- Speed: 8,\n",
       "  (2, 17) -> (1, 28) --- Cost: 168064.4915771227 --- Speed: 11.848022612736434,\n",
       "  (1, 28) -> (3, 37) --- Cost: 243075.76988882056 --- Speed: 14.326203903687704,\n",
       "  (3, 37) -> (5, 46) --- Cost: 0 --- Speed: 0],\n",
       " Vessel 6: [(0, 0) -> (2, 2) --- Cost: 50 --- Speed: 0,\n",
       "  (2, 2) -> (2, 3) --- Cost: 50 --- Speed: 0,\n",
       "  (2, 3) -> (1, 14) --- Cost: 168064.4915771227 --- Speed: 11.848022612736434,\n",
       "  (1, 14) -> (2, 25) --- Cost: 168064.4915771227 --- Speed: 11.848022612736434,\n",
       "  (2, 25) -> (1, 36) --- Cost: 168064.4915771227 --- Speed: 11.848022612736434,\n",
       "  (1, 36) -> (5, 46) --- Cost: 0 --- Speed: 0],\n",
       " Vessel 7: [(0, 0) -> (3, 5) --- Cost: 50 --- Speed: 0,\n",
       "  (3, 5) -> (1, 16) --- Cost: 162736.67240491294 --- Speed: 11.721439557562666,\n",
       "  (1, 16) -> (1, 17) --- Cost: 50 --- Speed: 0,\n",
       "  (1, 17) -> (3, 28) --- Cost: 162736.67240491294 --- Speed: 11.721439557562666,\n",
       "  (3, 28) -> (1, 41) --- Cost: 116529.80686978974 --- Speed: 9.918141164091487,\n",
       "  (1, 41) -> (5, 46) --- Cost: 0 --- Speed: 0]}"
      ]
     },
     "execution_count": 101,
     "metadata": {},
     "output_type": "execute_result"
    }
   ],
   "source": [
    "    \n",
    "vessel_routes_incl_wa\n"
   ]
  },
  {
   "cell_type": "code",
   "execution_count": 102,
   "metadata": {},
   "outputs": [
    {
     "data": {
      "text/plain": [
       "{Vessel 3: [1, 2, 1, 2, 5],\n",
       " Vessel 4: [1, 3, 1, 2, 5],\n",
       " Vessel 5: [1, 3, 2, 1, 3, 5],\n",
       " Vessel 6: [2, 1, 2, 1, 5],\n",
       " Vessel 7: [3, 1, 3, 1, 5]}"
      ]
     },
     "execution_count": 102,
     "metadata": {},
     "output_type": "execute_result"
    }
   ],
   "source": [
    "# For each vessel, save the route, but only the port-sequence\n",
    "vessel_routes_seq = {}\n",
    "for vessel in vessels:\n",
    "    vessel_routes_seq[vessel] = []\n",
    "    for arc in vessel_arcs[vessel]:\n",
    "        if arc in waiting_arcs[vessel]:\n",
    "            continue\n",
    "        if x[arc.tuple, vessel].x > 0 + 0.1:\n",
    "            vessel_routes_seq[vessel].append(arc.destination_node.port.number)\n",
    "vessel_routes_seq"
   ]
  },
  {
   "cell_type": "code",
   "execution_count": 103,
   "metadata": {},
   "outputs": [],
   "source": [
    "def visualize_solution_for_vessel(vessel, vessel_arcs):\n",
    "    # Create a directed graph\n",
    "    G = nx.DiGraph()\n",
    "\n",
    "    # Add nodes to the graph\n",
    "    for node in NODES:\n",
    "        G.add_node(str(node.tuple))\n",
    "\n",
    "    # Add edges (arcs) to the graph\n",
    "    for arc in vessel_arcs[vessel]:\n",
    "        G.add_edge(str(arc.origin_node.tuple), str(arc.destination_node.tuple))\n",
    "\n",
    "    # Determine nodes with incoming and outgoing arcs\n",
    "    nodes_with_incoming_arcs = [node for node, degree in G.in_degree() if degree > 0]\n",
    "    nodes_with_outgoing_arcs = [node for node, degree in G.out_degree() if degree > 0]\n",
    "\n",
    "   # Create a list to hold node colors\n",
    "    node_colors = []\n",
    "    for node_str in G.nodes():\n",
    "        port_number, time = eval(node_str)  # Extract port number and time from the node label\n",
    "        q_value = q.get((port_number, time, vessel))  # Use .get() to safely access the dictionary\n",
    "        if q_value and q_value.x > 0 + EBS:\n",
    "            node_colors.append('brown')  # Color for nodes with non-zero q values\n",
    "        elif node_str in nodes_with_incoming_arcs or node_str in nodes_with_outgoing_arcs:\n",
    "            node_colors.append('green')  # Color for nodes with arcs\n",
    "        \n",
    "        else:\n",
    "            node_colors.append('skyblue')  # Default color for nodes without arcs or q values\n",
    "\n",
    "\n",
    "    # Resetting the y_offset and y_spacing\n",
    "    y_offset = 10\n",
    "    y_spacing = -30  # Increase vertical spacing for better clarity\n",
    "\n",
    "    # Manually specify the positions for each node\n",
    "    pos = {}\n",
    "    for node_str in G.nodes():\n",
    "        port_number, time = eval(node_str)  # Extract port number and time from the node label\n",
    "        # The x-coordinate is based on time, the y-coordinate is fixed for nodes with the same port\n",
    "        pos[node_str] = (time * 10, port_number * y_spacing)  # Multiplying time by 10 for better horizontal spacing\n",
    "\n",
    "    # Drawing the graph using the adjusted positions\n",
    "    plt.figure(figsize=(15, 10))\n",
    "    nx.draw(G, pos, with_labels=True, node_size=2000, node_color=node_colors, font_size=10)\n",
    "    labels = nx.get_edge_attributes(G, 'weight')\n",
    "    nx.draw_networkx_edge_labels(G, pos, edge_labels=labels)\n",
    "    plt.title(f\"Nodes and Arcs Graph for {vessel}\")\n",
    "    plt.show()"
   ]
  },
  {
   "cell_type": "code",
   "execution_count": 104,
   "metadata": {},
   "outputs": [
    {
     "name": "stdout",
     "output_type": "stream",
     "text": [
      "o[1,1,Vessel 3,1] 1.0\n",
      "o[1,23,Vessel 3,2] 1.0\n",
      "o[2,12,Vessel 3,1] 1.0\n",
      "o[2,34,Vessel 3,2] 1.0\n",
      "o[1,9,Vessel 4,1] 1.0\n",
      "o[1,31,Vessel 4,2] 1.0\n",
      "o[2,41,Vessel 4,1] 1.0\n",
      "o[3,18,Vessel 4,1] 1.0\n",
      "o[1,5,Vessel 5,1] 1.0\n",
      "o[1,28,Vessel 5,2] 1.0\n",
      "o[2,17,Vessel 5,1] 1.0\n",
      "o[3,16,Vessel 5,1] 1.0\n",
      "o[3,37,Vessel 5,2] 1.0\n",
      "o[1,14,Vessel 6,1] 1.0\n",
      "o[1,36,Vessel 6,2] 1.0\n",
      "o[2,3,Vessel 6,1] 1.0\n",
      "o[2,25,Vessel 6,2] 1.0\n",
      "o[1,17,Vessel 7,1] 1.0\n",
      "o[1,41,Vessel 7,2] 1.0\n",
      "o[3,5,Vessel 7,1] 1.0\n",
      "o[3,28,Vessel 7,2] 1.0\n"
     ]
    }
   ],
   "source": [
    "# Print the o vars\n",
    "for index in all_o_indices:\n",
    "    if o[index].x > 0:\n",
    "        print(o[index].varName, o[index].x)\n",
    "# for v in vessels:\n",
    "#     for node in regularNodes:\n",
    "#         for numvisits in range(1, MAX_VISITS[v] + 1):\n",
    "#             if o[node.port.number, node.time, v, numvisits].x > 0:\n",
    "#                 print(o[node.port.number, node.time, v, numvisits].varName, o[node.port.number, node.time, v, numvisits].x)\n",
    "  "
   ]
  },
  {
   "cell_type": "code",
   "execution_count": 105,
   "metadata": {},
   "outputs": [
    {
     "data": {
      "text/plain": [
       "{(1, 1, Vessel 3, 1): <gurobi.Var o[1,1,Vessel 3,1] (value 1.0)>,\n",
       " (1, 1, Vessel 3, 2): <gurobi.Var o[1,1,Vessel 3,2] (value 0.0)>,\n",
       " (1, 2, Vessel 3, 1): <gurobi.Var o[1,2,Vessel 3,1] (value 0.0)>,\n",
       " (1, 2, Vessel 3, 2): <gurobi.Var o[1,2,Vessel 3,2] (value 0.0)>,\n",
       " (1, 3, Vessel 3, 1): <gurobi.Var o[1,3,Vessel 3,1] (value 0.0)>,\n",
       " (1, 3, Vessel 3, 2): <gurobi.Var o[1,3,Vessel 3,2] (value 0.0)>,\n",
       " (1, 4, Vessel 3, 1): <gurobi.Var o[1,4,Vessel 3,1] (value 0.0)>,\n",
       " (1, 4, Vessel 3, 2): <gurobi.Var o[1,4,Vessel 3,2] (value 0.0)>,\n",
       " (1, 5, Vessel 3, 1): <gurobi.Var o[1,5,Vessel 3,1] (value -0.0)>,\n",
       " (1, 5, Vessel 3, 2): <gurobi.Var o[1,5,Vessel 3,2] (value 0.0)>,\n",
       " (1, 6, Vessel 3, 1): <gurobi.Var o[1,6,Vessel 3,1] (value 0.0)>,\n",
       " (1, 6, Vessel 3, 2): <gurobi.Var o[1,6,Vessel 3,2] (value 0.0)>,\n",
       " (1, 7, Vessel 3, 1): <gurobi.Var o[1,7,Vessel 3,1] (value 0.0)>,\n",
       " (1, 7, Vessel 3, 2): <gurobi.Var o[1,7,Vessel 3,2] (value 0.0)>,\n",
       " (1, 8, Vessel 3, 1): <gurobi.Var o[1,8,Vessel 3,1] (value -0.0)>,\n",
       " (1, 8, Vessel 3, 2): <gurobi.Var o[1,8,Vessel 3,2] (value 0.0)>,\n",
       " (1, 9, Vessel 3, 1): <gurobi.Var o[1,9,Vessel 3,1] (value 0.0)>,\n",
       " (1, 9, Vessel 3, 2): <gurobi.Var o[1,9,Vessel 3,2] (value 0.0)>,\n",
       " (1, 10, Vessel 3, 1): <gurobi.Var o[1,10,Vessel 3,1] (value 0.0)>,\n",
       " (1, 10, Vessel 3, 2): <gurobi.Var o[1,10,Vessel 3,2] (value 0.0)>,\n",
       " (1, 11, Vessel 3, 1): <gurobi.Var o[1,11,Vessel 3,1] (value 0.0)>,\n",
       " (1, 11, Vessel 3, 2): <gurobi.Var o[1,11,Vessel 3,2] (value 0.0)>,\n",
       " (1, 12, Vessel 3, 1): <gurobi.Var o[1,12,Vessel 3,1] (value 0.0)>,\n",
       " (1, 12, Vessel 3, 2): <gurobi.Var o[1,12,Vessel 3,2] (value 0.0)>,\n",
       " (1, 13, Vessel 3, 1): <gurobi.Var o[1,13,Vessel 3,1] (value 0.0)>,\n",
       " (1, 13, Vessel 3, 2): <gurobi.Var o[1,13,Vessel 3,2] (value 0.0)>,\n",
       " (1, 14, Vessel 3, 1): <gurobi.Var o[1,14,Vessel 3,1] (value 0.0)>,\n",
       " (1, 14, Vessel 3, 2): <gurobi.Var o[1,14,Vessel 3,2] (value 0.0)>,\n",
       " (1, 15, Vessel 3, 1): <gurobi.Var o[1,15,Vessel 3,1] (value 0.0)>,\n",
       " (1, 15, Vessel 3, 2): <gurobi.Var o[1,15,Vessel 3,2] (value 0.0)>,\n",
       " (1, 16, Vessel 3, 1): <gurobi.Var o[1,16,Vessel 3,1] (value 0.0)>,\n",
       " (1, 16, Vessel 3, 2): <gurobi.Var o[1,16,Vessel 3,2] (value 0.0)>,\n",
       " (1, 17, Vessel 3, 1): <gurobi.Var o[1,17,Vessel 3,1] (value 0.0)>,\n",
       " (1, 17, Vessel 3, 2): <gurobi.Var o[1,17,Vessel 3,2] (value 0.0)>,\n",
       " (1, 18, Vessel 3, 1): <gurobi.Var o[1,18,Vessel 3,1] (value 0.0)>,\n",
       " (1, 18, Vessel 3, 2): <gurobi.Var o[1,18,Vessel 3,2] (value 0.0)>,\n",
       " (1, 19, Vessel 3, 1): <gurobi.Var o[1,19,Vessel 3,1] (value 0.0)>,\n",
       " (1, 19, Vessel 3, 2): <gurobi.Var o[1,19,Vessel 3,2] (value -0.0)>,\n",
       " (1, 20, Vessel 3, 1): <gurobi.Var o[1,20,Vessel 3,1] (value 0.0)>,\n",
       " (1, 20, Vessel 3, 2): <gurobi.Var o[1,20,Vessel 3,2] (value -0.0)>,\n",
       " (1, 21, Vessel 3, 1): <gurobi.Var o[1,21,Vessel 3,1] (value 0.0)>,\n",
       " (1, 21, Vessel 3, 2): <gurobi.Var o[1,21,Vessel 3,2] (value -0.0)>,\n",
       " (1, 22, Vessel 3, 1): <gurobi.Var o[1,22,Vessel 3,1] (value 0.0)>,\n",
       " (1, 22, Vessel 3, 2): <gurobi.Var o[1,22,Vessel 3,2] (value -0.0)>,\n",
       " (1, 23, Vessel 3, 1): <gurobi.Var o[1,23,Vessel 3,1] (value 0.0)>,\n",
       " (1, 23, Vessel 3, 2): <gurobi.Var o[1,23,Vessel 3,2] (value 1.0)>,\n",
       " (1, 24, Vessel 3, 1): <gurobi.Var o[1,24,Vessel 3,1] (value 0.0)>,\n",
       " (1, 24, Vessel 3, 2): <gurobi.Var o[1,24,Vessel 3,2] (value -0.0)>,\n",
       " (1, 25, Vessel 3, 1): <gurobi.Var o[1,25,Vessel 3,1] (value 0.0)>,\n",
       " (1, 25, Vessel 3, 2): <gurobi.Var o[1,25,Vessel 3,2] (value 0.0)>,\n",
       " (1, 26, Vessel 3, 1): <gurobi.Var o[1,26,Vessel 3,1] (value 0.0)>,\n",
       " (1, 26, Vessel 3, 2): <gurobi.Var o[1,26,Vessel 3,2] (value 0.0)>,\n",
       " (1, 27, Vessel 3, 1): <gurobi.Var o[1,27,Vessel 3,1] (value 0.0)>,\n",
       " (1, 27, Vessel 3, 2): <gurobi.Var o[1,27,Vessel 3,2] (value 0.0)>,\n",
       " (1, 28, Vessel 3, 1): <gurobi.Var o[1,28,Vessel 3,1] (value 0.0)>,\n",
       " (1, 28, Vessel 3, 2): <gurobi.Var o[1,28,Vessel 3,2] (value 0.0)>,\n",
       " (1, 29, Vessel 3, 1): <gurobi.Var o[1,29,Vessel 3,1] (value 0.0)>,\n",
       " (1, 29, Vessel 3, 2): <gurobi.Var o[1,29,Vessel 3,2] (value -0.0)>,\n",
       " (1, 30, Vessel 3, 1): <gurobi.Var o[1,30,Vessel 3,1] (value 0.0)>,\n",
       " (1, 30, Vessel 3, 2): <gurobi.Var o[1,30,Vessel 3,2] (value -0.0)>,\n",
       " (1, 31, Vessel 3, 1): <gurobi.Var o[1,31,Vessel 3,1] (value 0.0)>,\n",
       " (1, 31, Vessel 3, 2): <gurobi.Var o[1,31,Vessel 3,2] (value -0.0)>,\n",
       " (1, 32, Vessel 3, 1): <gurobi.Var o[1,32,Vessel 3,1] (value 0.0)>,\n",
       " (1, 32, Vessel 3, 2): <gurobi.Var o[1,32,Vessel 3,2] (value -0.0)>,\n",
       " (1, 33, Vessel 3, 1): <gurobi.Var o[1,33,Vessel 3,1] (value 0.0)>,\n",
       " (1, 33, Vessel 3, 2): <gurobi.Var o[1,33,Vessel 3,2] (value -0.0)>,\n",
       " (1, 34, Vessel 3, 1): <gurobi.Var o[1,34,Vessel 3,1] (value 0.0)>,\n",
       " (1, 34, Vessel 3, 2): <gurobi.Var o[1,34,Vessel 3,2] (value -0.0)>,\n",
       " (1, 35, Vessel 3, 1): <gurobi.Var o[1,35,Vessel 3,1] (value 0.0)>,\n",
       " (1, 35, Vessel 3, 2): <gurobi.Var o[1,35,Vessel 3,2] (value -0.0)>,\n",
       " (1, 36, Vessel 3, 1): <gurobi.Var o[1,36,Vessel 3,1] (value 0.0)>,\n",
       " (1, 36, Vessel 3, 2): <gurobi.Var o[1,36,Vessel 3,2] (value 0.0)>,\n",
       " (1, 37, Vessel 3, 1): <gurobi.Var o[1,37,Vessel 3,1] (value 0.0)>,\n",
       " (1, 37, Vessel 3, 2): <gurobi.Var o[1,37,Vessel 3,2] (value 0.0)>,\n",
       " (1, 38, Vessel 3, 1): <gurobi.Var o[1,38,Vessel 3,1] (value 0.0)>,\n",
       " (1, 38, Vessel 3, 2): <gurobi.Var o[1,38,Vessel 3,2] (value 0.0)>,\n",
       " (1, 39, Vessel 3, 1): <gurobi.Var o[1,39,Vessel 3,1] (value 0.0)>,\n",
       " (1, 39, Vessel 3, 2): <gurobi.Var o[1,39,Vessel 3,2] (value 0.0)>,\n",
       " (1, 40, Vessel 3, 1): <gurobi.Var o[1,40,Vessel 3,1] (value 0.0)>,\n",
       " (1, 40, Vessel 3, 2): <gurobi.Var o[1,40,Vessel 3,2] (value 0.0)>,\n",
       " (1, 41, Vessel 3, 1): <gurobi.Var o[1,41,Vessel 3,1] (value 0.0)>,\n",
       " (1, 41, Vessel 3, 2): <gurobi.Var o[1,41,Vessel 3,2] (value 0.0)>,\n",
       " (1, 42, Vessel 3, 1): <gurobi.Var o[1,42,Vessel 3,1] (value 0.0)>,\n",
       " (1, 42, Vessel 3, 2): <gurobi.Var o[1,42,Vessel 3,2] (value 0.0)>,\n",
       " (1, 43, Vessel 3, 1): <gurobi.Var o[1,43,Vessel 3,1] (value 0.0)>,\n",
       " (1, 43, Vessel 3, 2): <gurobi.Var o[1,43,Vessel 3,2] (value 0.0)>,\n",
       " (1, 44, Vessel 3, 1): <gurobi.Var o[1,44,Vessel 3,1] (value 0.0)>,\n",
       " (1, 44, Vessel 3, 2): <gurobi.Var o[1,44,Vessel 3,2] (value 0.0)>,\n",
       " (1, 45, Vessel 3, 1): <gurobi.Var o[1,45,Vessel 3,1] (value 0.0)>,\n",
       " (1, 45, Vessel 3, 2): <gurobi.Var o[1,45,Vessel 3,2] (value 0.0)>,\n",
       " (2, 1, Vessel 3, 1): <gurobi.Var o[2,1,Vessel 3,1] (value 0.0)>,\n",
       " (2, 1, Vessel 3, 2): <gurobi.Var o[2,1,Vessel 3,2] (value 0.0)>,\n",
       " (2, 2, Vessel 3, 1): <gurobi.Var o[2,2,Vessel 3,1] (value 0.0)>,\n",
       " (2, 2, Vessel 3, 2): <gurobi.Var o[2,2,Vessel 3,2] (value 0.0)>,\n",
       " (2, 3, Vessel 3, 1): <gurobi.Var o[2,3,Vessel 3,1] (value 0.0)>,\n",
       " (2, 3, Vessel 3, 2): <gurobi.Var o[2,3,Vessel 3,2] (value 0.0)>,\n",
       " (2, 4, Vessel 3, 1): <gurobi.Var o[2,4,Vessel 3,1] (value 0.0)>,\n",
       " (2, 4, Vessel 3, 2): <gurobi.Var o[2,4,Vessel 3,2] (value 0.0)>,\n",
       " (2, 5, Vessel 3, 1): <gurobi.Var o[2,5,Vessel 3,1] (value 0.0)>,\n",
       " (2, 5, Vessel 3, 2): <gurobi.Var o[2,5,Vessel 3,2] (value 0.0)>,\n",
       " (2, 6, Vessel 3, 1): <gurobi.Var o[2,6,Vessel 3,1] (value 0.0)>,\n",
       " (2, 6, Vessel 3, 2): <gurobi.Var o[2,6,Vessel 3,2] (value 0.0)>,\n",
       " (2, 7, Vessel 3, 1): <gurobi.Var o[2,7,Vessel 3,1] (value 0.0)>,\n",
       " (2, 7, Vessel 3, 2): <gurobi.Var o[2,7,Vessel 3,2] (value 0.0)>,\n",
       " (2, 8, Vessel 3, 1): <gurobi.Var o[2,8,Vessel 3,1] (value 0.0)>,\n",
       " (2, 8, Vessel 3, 2): <gurobi.Var o[2,8,Vessel 3,2] (value 0.0)>,\n",
       " (2, 9, Vessel 3, 1): <gurobi.Var o[2,9,Vessel 3,1] (value 0.0)>,\n",
       " (2, 9, Vessel 3, 2): <gurobi.Var o[2,9,Vessel 3,2] (value 0.0)>,\n",
       " (2, 10, Vessel 3, 1): <gurobi.Var o[2,10,Vessel 3,1] (value -0.0)>,\n",
       " (2, 10, Vessel 3, 2): <gurobi.Var o[2,10,Vessel 3,2] (value 0.0)>,\n",
       " (2, 11, Vessel 3, 1): <gurobi.Var o[2,11,Vessel 3,1] (value 0.0)>,\n",
       " (2, 11, Vessel 3, 2): <gurobi.Var o[2,11,Vessel 3,2] (value 0.0)>,\n",
       " (2, 12, Vessel 3, 1): <gurobi.Var o[2,12,Vessel 3,1] (value 1.0)>,\n",
       " (2, 12, Vessel 3, 2): <gurobi.Var o[2,12,Vessel 3,2] (value 0.0)>,\n",
       " (2, 13, Vessel 3, 1): <gurobi.Var o[2,13,Vessel 3,1] (value -0.0)>,\n",
       " (2, 13, Vessel 3, 2): <gurobi.Var o[2,13,Vessel 3,2] (value 0.0)>,\n",
       " (2, 14, Vessel 3, 1): <gurobi.Var o[2,14,Vessel 3,1] (value -0.0)>,\n",
       " (2, 14, Vessel 3, 2): <gurobi.Var o[2,14,Vessel 3,2] (value 0.0)>,\n",
       " (2, 15, Vessel 3, 1): <gurobi.Var o[2,15,Vessel 3,1] (value -0.0)>,\n",
       " (2, 15, Vessel 3, 2): <gurobi.Var o[2,15,Vessel 3,2] (value 0.0)>,\n",
       " (2, 16, Vessel 3, 1): <gurobi.Var o[2,16,Vessel 3,1] (value -0.0)>,\n",
       " (2, 16, Vessel 3, 2): <gurobi.Var o[2,16,Vessel 3,2] (value 0.0)>,\n",
       " (2, 17, Vessel 3, 1): <gurobi.Var o[2,17,Vessel 3,1] (value -0.0)>,\n",
       " (2, 17, Vessel 3, 2): <gurobi.Var o[2,17,Vessel 3,2] (value 0.0)>,\n",
       " (2, 18, Vessel 3, 1): <gurobi.Var o[2,18,Vessel 3,1] (value -0.0)>,\n",
       " (2, 18, Vessel 3, 2): <gurobi.Var o[2,18,Vessel 3,2] (value 0.0)>,\n",
       " (2, 19, Vessel 3, 1): <gurobi.Var o[2,19,Vessel 3,1] (value 0.0)>,\n",
       " (2, 19, Vessel 3, 2): <gurobi.Var o[2,19,Vessel 3,2] (value 0.0)>,\n",
       " (2, 20, Vessel 3, 1): <gurobi.Var o[2,20,Vessel 3,1] (value 0.0)>,\n",
       " (2, 20, Vessel 3, 2): <gurobi.Var o[2,20,Vessel 3,2] (value 0.0)>,\n",
       " (2, 21, Vessel 3, 1): <gurobi.Var o[2,21,Vessel 3,1] (value 0.0)>,\n",
       " (2, 21, Vessel 3, 2): <gurobi.Var o[2,21,Vessel 3,2] (value 0.0)>,\n",
       " (2, 22, Vessel 3, 1): <gurobi.Var o[2,22,Vessel 3,1] (value 0.0)>,\n",
       " (2, 22, Vessel 3, 2): <gurobi.Var o[2,22,Vessel 3,2] (value 0.0)>,\n",
       " (2, 23, Vessel 3, 1): <gurobi.Var o[2,23,Vessel 3,1] (value 0.0)>,\n",
       " (2, 23, Vessel 3, 2): <gurobi.Var o[2,23,Vessel 3,2] (value 0.0)>,\n",
       " (2, 24, Vessel 3, 1): <gurobi.Var o[2,24,Vessel 3,1] (value 0.0)>,\n",
       " (2, 24, Vessel 3, 2): <gurobi.Var o[2,24,Vessel 3,2] (value 0.0)>,\n",
       " (2, 25, Vessel 3, 1): <gurobi.Var o[2,25,Vessel 3,1] (value 0.0)>,\n",
       " (2, 25, Vessel 3, 2): <gurobi.Var o[2,25,Vessel 3,2] (value 0.0)>,\n",
       " (2, 26, Vessel 3, 1): <gurobi.Var o[2,26,Vessel 3,1] (value 0.0)>,\n",
       " (2, 26, Vessel 3, 2): <gurobi.Var o[2,26,Vessel 3,2] (value 0.0)>,\n",
       " (2, 27, Vessel 3, 1): <gurobi.Var o[2,27,Vessel 3,1] (value 0.0)>,\n",
       " (2, 27, Vessel 3, 2): <gurobi.Var o[2,27,Vessel 3,2] (value 0.0)>,\n",
       " (2, 28, Vessel 3, 1): <gurobi.Var o[2,28,Vessel 3,1] (value 0.0)>,\n",
       " (2, 28, Vessel 3, 2): <gurobi.Var o[2,28,Vessel 3,2] (value -0.0)>,\n",
       " (2, 29, Vessel 3, 1): <gurobi.Var o[2,29,Vessel 3,1] (value 0.0)>,\n",
       " (2, 29, Vessel 3, 2): <gurobi.Var o[2,29,Vessel 3,2] (value -0.0)>,\n",
       " (2, 30, Vessel 3, 1): <gurobi.Var o[2,30,Vessel 3,1] (value 0.0)>,\n",
       " (2, 30, Vessel 3, 2): <gurobi.Var o[2,30,Vessel 3,2] (value -0.0)>,\n",
       " (2, 31, Vessel 3, 1): <gurobi.Var o[2,31,Vessel 3,1] (value 0.0)>,\n",
       " (2, 31, Vessel 3, 2): <gurobi.Var o[2,31,Vessel 3,2] (value -0.0)>,\n",
       " (2, 32, Vessel 3, 1): <gurobi.Var o[2,32,Vessel 3,1] (value 0.0)>,\n",
       " (2, 32, Vessel 3, 2): <gurobi.Var o[2,32,Vessel 3,2] (value -0.0)>,\n",
       " (2, 33, Vessel 3, 1): <gurobi.Var o[2,33,Vessel 3,1] (value 0.0)>,\n",
       " (2, 33, Vessel 3, 2): <gurobi.Var o[2,33,Vessel 3,2] (value -0.0)>,\n",
       " (2, 34, Vessel 3, 1): <gurobi.Var o[2,34,Vessel 3,1] (value 0.0)>,\n",
       " (2, 34, Vessel 3, 2): <gurobi.Var o[2,34,Vessel 3,2] (value 1.0)>,\n",
       " (2, 35, Vessel 3, 1): <gurobi.Var o[2,35,Vessel 3,1] (value 0.0)>,\n",
       " (2, 35, Vessel 3, 2): <gurobi.Var o[2,35,Vessel 3,2] (value -0.0)>,\n",
       " (2, 36, Vessel 3, 1): <gurobi.Var o[2,36,Vessel 3,1] (value 0.0)>,\n",
       " (2, 36, Vessel 3, 2): <gurobi.Var o[2,36,Vessel 3,2] (value -0.0)>,\n",
       " (2, 37, Vessel 3, 1): <gurobi.Var o[2,37,Vessel 3,1] (value 0.0)>,\n",
       " (2, 37, Vessel 3, 2): <gurobi.Var o[2,37,Vessel 3,2] (value -0.0)>,\n",
       " (2, 38, Vessel 3, 1): <gurobi.Var o[2,38,Vessel 3,1] (value 0.0)>,\n",
       " (2, 38, Vessel 3, 2): <gurobi.Var o[2,38,Vessel 3,2] (value -0.0)>,\n",
       " (2, 39, Vessel 3, 1): <gurobi.Var o[2,39,Vessel 3,1] (value 0.0)>,\n",
       " (2, 39, Vessel 3, 2): <gurobi.Var o[2,39,Vessel 3,2] (value -0.0)>,\n",
       " (2, 40, Vessel 3, 1): <gurobi.Var o[2,40,Vessel 3,1] (value 0.0)>,\n",
       " (2, 40, Vessel 3, 2): <gurobi.Var o[2,40,Vessel 3,2] (value -0.0)>,\n",
       " (2, 41, Vessel 3, 1): <gurobi.Var o[2,41,Vessel 3,1] (value 0.0)>,\n",
       " (2, 41, Vessel 3, 2): <gurobi.Var o[2,41,Vessel 3,2] (value -0.0)>,\n",
       " (2, 42, Vessel 3, 1): <gurobi.Var o[2,42,Vessel 3,1] (value 0.0)>,\n",
       " (2, 42, Vessel 3, 2): <gurobi.Var o[2,42,Vessel 3,2] (value -0.0)>,\n",
       " (2, 43, Vessel 3, 1): <gurobi.Var o[2,43,Vessel 3,1] (value 0.0)>,\n",
       " (2, 43, Vessel 3, 2): <gurobi.Var o[2,43,Vessel 3,2] (value -0.0)>,\n",
       " (2, 44, Vessel 3, 1): <gurobi.Var o[2,44,Vessel 3,1] (value 0.0)>,\n",
       " (2, 44, Vessel 3, 2): <gurobi.Var o[2,44,Vessel 3,2] (value -0.0)>,\n",
       " (2, 45, Vessel 3, 1): <gurobi.Var o[2,45,Vessel 3,1] (value 0.0)>,\n",
       " (2, 45, Vessel 3, 2): <gurobi.Var o[2,45,Vessel 3,2] (value 0.0)>,\n",
       " (1, 1, Vessel 4, 1): <gurobi.Var o[1,1,Vessel 4,1] (value 0.0)>,\n",
       " (1, 1, Vessel 4, 2): <gurobi.Var o[1,1,Vessel 4,2] (value 0.0)>,\n",
       " (1, 2, Vessel 4, 1): <gurobi.Var o[1,2,Vessel 4,1] (value 0.0)>,\n",
       " (1, 2, Vessel 4, 2): <gurobi.Var o[1,2,Vessel 4,2] (value 0.0)>,\n",
       " (1, 3, Vessel 4, 1): <gurobi.Var o[1,3,Vessel 4,1] (value 0.0)>,\n",
       " (1, 3, Vessel 4, 2): <gurobi.Var o[1,3,Vessel 4,2] (value 0.0)>,\n",
       " (1, 4, Vessel 4, 1): <gurobi.Var o[1,4,Vessel 4,1] (value 0.0)>,\n",
       " (1, 4, Vessel 4, 2): <gurobi.Var o[1,4,Vessel 4,2] (value 0.0)>,\n",
       " (1, 5, Vessel 4, 1): <gurobi.Var o[1,5,Vessel 4,1] (value 0.0)>,\n",
       " (1, 5, Vessel 4, 2): <gurobi.Var o[1,5,Vessel 4,2] (value 0.0)>,\n",
       " (1, 6, Vessel 4, 1): <gurobi.Var o[1,6,Vessel 4,1] (value 0.0)>,\n",
       " (1, 6, Vessel 4, 2): <gurobi.Var o[1,6,Vessel 4,2] (value 0.0)>,\n",
       " (1, 7, Vessel 4, 1): <gurobi.Var o[1,7,Vessel 4,1] (value -0.0)>,\n",
       " (1, 7, Vessel 4, 2): <gurobi.Var o[1,7,Vessel 4,2] (value 0.0)>,\n",
       " (1, 8, Vessel 4, 1): <gurobi.Var o[1,8,Vessel 4,1] (value 0.0)>,\n",
       " (1, 8, Vessel 4, 2): <gurobi.Var o[1,8,Vessel 4,2] (value 0.0)>,\n",
       " (1, 9, Vessel 4, 1): <gurobi.Var o[1,9,Vessel 4,1] (value 1.0)>,\n",
       " (1, 9, Vessel 4, 2): <gurobi.Var o[1,9,Vessel 4,2] (value 0.0)>,\n",
       " (1, 10, Vessel 4, 1): <gurobi.Var o[1,10,Vessel 4,1] (value 0.0)>,\n",
       " (1, 10, Vessel 4, 2): <gurobi.Var o[1,10,Vessel 4,2] (value 0.0)>,\n",
       " (1, 11, Vessel 4, 1): <gurobi.Var o[1,11,Vessel 4,1] (value 0.0)>,\n",
       " (1, 11, Vessel 4, 2): <gurobi.Var o[1,11,Vessel 4,2] (value 0.0)>,\n",
       " (1, 12, Vessel 4, 1): <gurobi.Var o[1,12,Vessel 4,1] (value 0.0)>,\n",
       " (1, 12, Vessel 4, 2): <gurobi.Var o[1,12,Vessel 4,2] (value 0.0)>,\n",
       " (1, 13, Vessel 4, 1): <gurobi.Var o[1,13,Vessel 4,1] (value 0.0)>,\n",
       " (1, 13, Vessel 4, 2): <gurobi.Var o[1,13,Vessel 4,2] (value 0.0)>,\n",
       " (1, 14, Vessel 4, 1): <gurobi.Var o[1,14,Vessel 4,1] (value 0.0)>,\n",
       " (1, 14, Vessel 4, 2): <gurobi.Var o[1,14,Vessel 4,2] (value 0.0)>,\n",
       " (1, 15, Vessel 4, 1): <gurobi.Var o[1,15,Vessel 4,1] (value 0.0)>,\n",
       " (1, 15, Vessel 4, 2): <gurobi.Var o[1,15,Vessel 4,2] (value 0.0)>,\n",
       " (1, 16, Vessel 4, 1): <gurobi.Var o[1,16,Vessel 4,1] (value 0.0)>,\n",
       " (1, 16, Vessel 4, 2): <gurobi.Var o[1,16,Vessel 4,2] (value 0.0)>,\n",
       " (1, 17, Vessel 4, 1): <gurobi.Var o[1,17,Vessel 4,1] (value 0.0)>,\n",
       " (1, 17, Vessel 4, 2): <gurobi.Var o[1,17,Vessel 4,2] (value 0.0)>,\n",
       " (1, 18, Vessel 4, 1): <gurobi.Var o[1,18,Vessel 4,1] (value 0.0)>,\n",
       " (1, 18, Vessel 4, 2): <gurobi.Var o[1,18,Vessel 4,2] (value 0.0)>,\n",
       " (1, 19, Vessel 4, 1): <gurobi.Var o[1,19,Vessel 4,1] (value 0.0)>,\n",
       " (1, 19, Vessel 4, 2): <gurobi.Var o[1,19,Vessel 4,2] (value 0.0)>,\n",
       " (1, 20, Vessel 4, 1): <gurobi.Var o[1,20,Vessel 4,1] (value 0.0)>,\n",
       " (1, 20, Vessel 4, 2): <gurobi.Var o[1,20,Vessel 4,2] (value 0.0)>,\n",
       " (1, 21, Vessel 4, 1): <gurobi.Var o[1,21,Vessel 4,1] (value 0.0)>,\n",
       " (1, 21, Vessel 4, 2): <gurobi.Var o[1,21,Vessel 4,2] (value 0.0)>,\n",
       " (1, 22, Vessel 4, 1): <gurobi.Var o[1,22,Vessel 4,1] (value 0.0)>,\n",
       " (1, 22, Vessel 4, 2): <gurobi.Var o[1,22,Vessel 4,2] (value 0.0)>,\n",
       " (1, 23, Vessel 4, 1): <gurobi.Var o[1,23,Vessel 4,1] (value 0.0)>,\n",
       " (1, 23, Vessel 4, 2): <gurobi.Var o[1,23,Vessel 4,2] (value 0.0)>,\n",
       " (1, 24, Vessel 4, 1): <gurobi.Var o[1,24,Vessel 4,1] (value 0.0)>,\n",
       " (1, 24, Vessel 4, 2): <gurobi.Var o[1,24,Vessel 4,2] (value -0.0)>,\n",
       " (1, 25, Vessel 4, 1): <gurobi.Var o[1,25,Vessel 4,1] (value 0.0)>,\n",
       " (1, 25, Vessel 4, 2): <gurobi.Var o[1,25,Vessel 4,2] (value 0.0)>,\n",
       " (1, 26, Vessel 4, 1): <gurobi.Var o[1,26,Vessel 4,1] (value 0.0)>,\n",
       " (1, 26, Vessel 4, 2): <gurobi.Var o[1,26,Vessel 4,2] (value 0.0)>,\n",
       " (1, 27, Vessel 4, 1): <gurobi.Var o[1,27,Vessel 4,1] (value 0.0)>,\n",
       " (1, 27, Vessel 4, 2): <gurobi.Var o[1,27,Vessel 4,2] (value -0.0)>,\n",
       " (1, 28, Vessel 4, 1): <gurobi.Var o[1,28,Vessel 4,1] (value 0.0)>,\n",
       " (1, 28, Vessel 4, 2): <gurobi.Var o[1,28,Vessel 4,2] (value -0.0)>,\n",
       " (1, 29, Vessel 4, 1): <gurobi.Var o[1,29,Vessel 4,1] (value 0.0)>,\n",
       " (1, 29, Vessel 4, 2): <gurobi.Var o[1,29,Vessel 4,2] (value -0.0)>,\n",
       " (1, 30, Vessel 4, 1): <gurobi.Var o[1,30,Vessel 4,1] (value 0.0)>,\n",
       " (1, 30, Vessel 4, 2): <gurobi.Var o[1,30,Vessel 4,2] (value -0.0)>,\n",
       " (1, 31, Vessel 4, 1): <gurobi.Var o[1,31,Vessel 4,1] (value 0.0)>,\n",
       " (1, 31, Vessel 4, 2): <gurobi.Var o[1,31,Vessel 4,2] (value 1.0)>,\n",
       " (1, 32, Vessel 4, 1): <gurobi.Var o[1,32,Vessel 4,1] (value 0.0)>,\n",
       " (1, 32, Vessel 4, 2): <gurobi.Var o[1,32,Vessel 4,2] (value -0.0)>,\n",
       " (1, 33, Vessel 4, 1): <gurobi.Var o[1,33,Vessel 4,1] (value 0.0)>,\n",
       " (1, 33, Vessel 4, 2): <gurobi.Var o[1,33,Vessel 4,2] (value 0.0)>,\n",
       " (1, 34, Vessel 4, 1): <gurobi.Var o[1,34,Vessel 4,1] (value 0.0)>,\n",
       " (1, 34, Vessel 4, 2): <gurobi.Var o[1,34,Vessel 4,2] (value 0.0)>,\n",
       " (1, 35, Vessel 4, 1): <gurobi.Var o[1,35,Vessel 4,1] (value 0.0)>,\n",
       " (1, 35, Vessel 4, 2): <gurobi.Var o[1,35,Vessel 4,2] (value 0.0)>,\n",
       " (1, 36, Vessel 4, 1): <gurobi.Var o[1,36,Vessel 4,1] (value 0.0)>,\n",
       " (1, 36, Vessel 4, 2): <gurobi.Var o[1,36,Vessel 4,2] (value 0.0)>,\n",
       " (1, 37, Vessel 4, 1): <gurobi.Var o[1,37,Vessel 4,1] (value 0.0)>,\n",
       " (1, 37, Vessel 4, 2): <gurobi.Var o[1,37,Vessel 4,2] (value 0.0)>,\n",
       " (1, 38, Vessel 4, 1): <gurobi.Var o[1,38,Vessel 4,1] (value 0.0)>,\n",
       " (1, 38, Vessel 4, 2): <gurobi.Var o[1,38,Vessel 4,2] (value 0.0)>,\n",
       " (1, 39, Vessel 4, 1): <gurobi.Var o[1,39,Vessel 4,1] (value 0.0)>,\n",
       " (1, 39, Vessel 4, 2): <gurobi.Var o[1,39,Vessel 4,2] (value 0.0)>,\n",
       " (1, 40, Vessel 4, 1): <gurobi.Var o[1,40,Vessel 4,1] (value 0.0)>,\n",
       " (1, 40, Vessel 4, 2): <gurobi.Var o[1,40,Vessel 4,2] (value 0.0)>,\n",
       " (1, 41, Vessel 4, 1): <gurobi.Var o[1,41,Vessel 4,1] (value 0.0)>,\n",
       " (1, 41, Vessel 4, 2): <gurobi.Var o[1,41,Vessel 4,2] (value 0.0)>,\n",
       " (1, 42, Vessel 4, 1): <gurobi.Var o[1,42,Vessel 4,1] (value 0.0)>,\n",
       " (1, 42, Vessel 4, 2): <gurobi.Var o[1,42,Vessel 4,2] (value 0.0)>,\n",
       " (1, 43, Vessel 4, 1): <gurobi.Var o[1,43,Vessel 4,1] (value 0.0)>,\n",
       " (1, 43, Vessel 4, 2): <gurobi.Var o[1,43,Vessel 4,2] (value 0.0)>,\n",
       " (1, 44, Vessel 4, 1): <gurobi.Var o[1,44,Vessel 4,1] (value 0.0)>,\n",
       " (1, 44, Vessel 4, 2): <gurobi.Var o[1,44,Vessel 4,2] (value 0.0)>,\n",
       " (1, 45, Vessel 4, 1): <gurobi.Var o[1,45,Vessel 4,1] (value 0.0)>,\n",
       " (1, 45, Vessel 4, 2): <gurobi.Var o[1,45,Vessel 4,2] (value 0.0)>,\n",
       " (2, 1, Vessel 4, 1): <gurobi.Var o[2,1,Vessel 4,1] (value 0.0)>,\n",
       " (2, 2, Vessel 4, 1): <gurobi.Var o[2,2,Vessel 4,1] (value 0.0)>,\n",
       " (2, 3, Vessel 4, 1): <gurobi.Var o[2,3,Vessel 4,1] (value 0.0)>,\n",
       " (2, 4, Vessel 4, 1): <gurobi.Var o[2,4,Vessel 4,1] (value 0.0)>,\n",
       " (2, 5, Vessel 4, 1): <gurobi.Var o[2,5,Vessel 4,1] (value 0.0)>,\n",
       " (2, 6, Vessel 4, 1): <gurobi.Var o[2,6,Vessel 4,1] (value 0.0)>,\n",
       " (2, 7, Vessel 4, 1): <gurobi.Var o[2,7,Vessel 4,1] (value 0.0)>,\n",
       " (2, 8, Vessel 4, 1): <gurobi.Var o[2,8,Vessel 4,1] (value 0.0)>,\n",
       " (2, 9, Vessel 4, 1): <gurobi.Var o[2,9,Vessel 4,1] (value 0.0)>,\n",
       " (2, 10, Vessel 4, 1): <gurobi.Var o[2,10,Vessel 4,1] (value 0.0)>,\n",
       " (2, 11, Vessel 4, 1): <gurobi.Var o[2,11,Vessel 4,1] (value 0.0)>,\n",
       " (2, 12, Vessel 4, 1): <gurobi.Var o[2,12,Vessel 4,1] (value 0.0)>,\n",
       " (2, 13, Vessel 4, 1): <gurobi.Var o[2,13,Vessel 4,1] (value 0.0)>,\n",
       " (2, 14, Vessel 4, 1): <gurobi.Var o[2,14,Vessel 4,1] (value 0.0)>,\n",
       " (2, 15, Vessel 4, 1): <gurobi.Var o[2,15,Vessel 4,1] (value 0.0)>,\n",
       " (2, 16, Vessel 4, 1): <gurobi.Var o[2,16,Vessel 4,1] (value 0.0)>,\n",
       " (2, 17, Vessel 4, 1): <gurobi.Var o[2,17,Vessel 4,1] (value 0.0)>,\n",
       " (2, 18, Vessel 4, 1): <gurobi.Var o[2,18,Vessel 4,1] (value 0.0)>,\n",
       " (2, 19, Vessel 4, 1): <gurobi.Var o[2,19,Vessel 4,1] (value 0.0)>,\n",
       " (2, 20, Vessel 4, 1): <gurobi.Var o[2,20,Vessel 4,1] (value 0.0)>,\n",
       " (2, 21, Vessel 4, 1): <gurobi.Var o[2,21,Vessel 4,1] (value 0.0)>,\n",
       " (2, 22, Vessel 4, 1): <gurobi.Var o[2,22,Vessel 4,1] (value 0.0)>,\n",
       " (2, 23, Vessel 4, 1): <gurobi.Var o[2,23,Vessel 4,1] (value 0.0)>,\n",
       " (2, 24, Vessel 4, 1): <gurobi.Var o[2,24,Vessel 4,1] (value 0.0)>,\n",
       " (2, 25, Vessel 4, 1): <gurobi.Var o[2,25,Vessel 4,1] (value 0.0)>,\n",
       " (2, 26, Vessel 4, 1): <gurobi.Var o[2,26,Vessel 4,1] (value 0.0)>,\n",
       " (2, 27, Vessel 4, 1): <gurobi.Var o[2,27,Vessel 4,1] (value 0.0)>,\n",
       " (2, 28, Vessel 4, 1): <gurobi.Var o[2,28,Vessel 4,1] (value 0.0)>,\n",
       " (2, 29, Vessel 4, 1): <gurobi.Var o[2,29,Vessel 4,1] (value 0.0)>,\n",
       " (2, 30, Vessel 4, 1): <gurobi.Var o[2,30,Vessel 4,1] (value 0.0)>,\n",
       " (2, 31, Vessel 4, 1): <gurobi.Var o[2,31,Vessel 4,1] (value 0.0)>,\n",
       " (2, 32, Vessel 4, 1): <gurobi.Var o[2,32,Vessel 4,1] (value 0.0)>,\n",
       " (2, 33, Vessel 4, 1): <gurobi.Var o[2,33,Vessel 4,1] (value -0.0)>,\n",
       " (2, 34, Vessel 4, 1): <gurobi.Var o[2,34,Vessel 4,1] (value -0.0)>,\n",
       " (2, 35, Vessel 4, 1): <gurobi.Var o[2,35,Vessel 4,1] (value -0.0)>,\n",
       " (2, 36, Vessel 4, 1): <gurobi.Var o[2,36,Vessel 4,1] (value -0.0)>,\n",
       " (2, 37, Vessel 4, 1): <gurobi.Var o[2,37,Vessel 4,1] (value -0.0)>,\n",
       " (2, 38, Vessel 4, 1): <gurobi.Var o[2,38,Vessel 4,1] (value -0.0)>,\n",
       " (2, 39, Vessel 4, 1): <gurobi.Var o[2,39,Vessel 4,1] (value -0.0)>,\n",
       " (2, 40, Vessel 4, 1): <gurobi.Var o[2,40,Vessel 4,1] (value -0.0)>,\n",
       " (2, 41, Vessel 4, 1): <gurobi.Var o[2,41,Vessel 4,1] (value 1.0)>,\n",
       " (2, 42, Vessel 4, 1): <gurobi.Var o[2,42,Vessel 4,1] (value 0.0)>,\n",
       " (2, 43, Vessel 4, 1): <gurobi.Var o[2,43,Vessel 4,1] (value 0.0)>,\n",
       " (2, 44, Vessel 4, 1): <gurobi.Var o[2,44,Vessel 4,1] (value -0.0)>,\n",
       " (2, 45, Vessel 4, 1): <gurobi.Var o[2,45,Vessel 4,1] (value 0.0)>,\n",
       " (3, 1, Vessel 4, 1): <gurobi.Var o[3,1,Vessel 4,1] (value 0.0)>,\n",
       " (3, 2, Vessel 4, 1): <gurobi.Var o[3,2,Vessel 4,1] (value 0.0)>,\n",
       " (3, 3, Vessel 4, 1): <gurobi.Var o[3,3,Vessel 4,1] (value 0.0)>,\n",
       " (3, 4, Vessel 4, 1): <gurobi.Var o[3,4,Vessel 4,1] (value 0.0)>,\n",
       " (3, 5, Vessel 4, 1): <gurobi.Var o[3,5,Vessel 4,1] (value 0.0)>,\n",
       " (3, 6, Vessel 4, 1): <gurobi.Var o[3,6,Vessel 4,1] (value 0.0)>,\n",
       " (3, 7, Vessel 4, 1): <gurobi.Var o[3,7,Vessel 4,1] (value 0.0)>,\n",
       " (3, 8, Vessel 4, 1): <gurobi.Var o[3,8,Vessel 4,1] (value 0.0)>,\n",
       " (3, 9, Vessel 4, 1): <gurobi.Var o[3,9,Vessel 4,1] (value 0.0)>,\n",
       " (3, 10, Vessel 4, 1): <gurobi.Var o[3,10,Vessel 4,1] (value 0.0)>,\n",
       " (3, 11, Vessel 4, 1): <gurobi.Var o[3,11,Vessel 4,1] (value 0.0)>,\n",
       " (3, 12, Vessel 4, 1): <gurobi.Var o[3,12,Vessel 4,1] (value 0.0)>,\n",
       " (3, 13, Vessel 4, 1): <gurobi.Var o[3,13,Vessel 4,1] (value 0.0)>,\n",
       " (3, 14, Vessel 4, 1): <gurobi.Var o[3,14,Vessel 4,1] (value 0.0)>,\n",
       " (3, 15, Vessel 4, 1): <gurobi.Var o[3,15,Vessel 4,1] (value -0.0)>,\n",
       " (3, 16, Vessel 4, 1): <gurobi.Var o[3,16,Vessel 4,1] (value -0.0)>,\n",
       " (3, 17, Vessel 4, 1): <gurobi.Var o[3,17,Vessel 4,1] (value -0.0)>,\n",
       " (3, 18, Vessel 4, 1): <gurobi.Var o[3,18,Vessel 4,1] (value 1.0)>,\n",
       " (3, 19, Vessel 4, 1): <gurobi.Var o[3,19,Vessel 4,1] (value -0.0)>,\n",
       " (3, 20, Vessel 4, 1): <gurobi.Var o[3,20,Vessel 4,1] (value -0.0)>,\n",
       " (3, 21, Vessel 4, 1): <gurobi.Var o[3,21,Vessel 4,1] (value -0.0)>,\n",
       " (3, 22, Vessel 4, 1): <gurobi.Var o[3,22,Vessel 4,1] (value -0.0)>,\n",
       " (3, 23, Vessel 4, 1): <gurobi.Var o[3,23,Vessel 4,1] (value -0.0)>,\n",
       " (3, 24, Vessel 4, 1): <gurobi.Var o[3,24,Vessel 4,1] (value -0.0)>,\n",
       " (3, 25, Vessel 4, 1): <gurobi.Var o[3,25,Vessel 4,1] (value 0.0)>,\n",
       " (3, 26, Vessel 4, 1): <gurobi.Var o[3,26,Vessel 4,1] (value -0.0)>,\n",
       " (3, 27, Vessel 4, 1): <gurobi.Var o[3,27,Vessel 4,1] (value 0.0)>,\n",
       " (3, 28, Vessel 4, 1): <gurobi.Var o[3,28,Vessel 4,1] (value 0.0)>,\n",
       " (3, 29, Vessel 4, 1): <gurobi.Var o[3,29,Vessel 4,1] (value 0.0)>,\n",
       " (3, 30, Vessel 4, 1): <gurobi.Var o[3,30,Vessel 4,1] (value 0.0)>,\n",
       " (3, 31, Vessel 4, 1): <gurobi.Var o[3,31,Vessel 4,1] (value 0.0)>,\n",
       " (3, 32, Vessel 4, 1): <gurobi.Var o[3,32,Vessel 4,1] (value 0.0)>,\n",
       " (3, 33, Vessel 4, 1): <gurobi.Var o[3,33,Vessel 4,1] (value 0.0)>,\n",
       " (3, 34, Vessel 4, 1): <gurobi.Var o[3,34,Vessel 4,1] (value 0.0)>,\n",
       " (3, 35, Vessel 4, 1): <gurobi.Var o[3,35,Vessel 4,1] (value 0.0)>,\n",
       " (3, 36, Vessel 4, 1): <gurobi.Var o[3,36,Vessel 4,1] (value 0.0)>,\n",
       " (3, 37, Vessel 4, 1): <gurobi.Var o[3,37,Vessel 4,1] (value 0.0)>,\n",
       " (3, 38, Vessel 4, 1): <gurobi.Var o[3,38,Vessel 4,1] (value 0.0)>,\n",
       " (3, 39, Vessel 4, 1): <gurobi.Var o[3,39,Vessel 4,1] (value 0.0)>,\n",
       " (3, 40, Vessel 4, 1): <gurobi.Var o[3,40,Vessel 4,1] (value 0.0)>,\n",
       " (3, 41, Vessel 4, 1): <gurobi.Var o[3,41,Vessel 4,1] (value 0.0)>,\n",
       " (3, 42, Vessel 4, 1): <gurobi.Var o[3,42,Vessel 4,1] (value 0.0)>,\n",
       " (3, 43, Vessel 4, 1): <gurobi.Var o[3,43,Vessel 4,1] (value 0.0)>,\n",
       " (3, 44, Vessel 4, 1): <gurobi.Var o[3,44,Vessel 4,1] (value 0.0)>,\n",
       " (3, 45, Vessel 4, 1): <gurobi.Var o[3,45,Vessel 4,1] (value 0.0)>,\n",
       " (1, 1, Vessel 5, 1): <gurobi.Var o[1,1,Vessel 5,1] (value 0.0)>,\n",
       " (1, 1, Vessel 5, 2): <gurobi.Var o[1,1,Vessel 5,2] (value 0.0)>,\n",
       " (1, 2, Vessel 5, 1): <gurobi.Var o[1,2,Vessel 5,1] (value 0.0)>,\n",
       " (1, 2, Vessel 5, 2): <gurobi.Var o[1,2,Vessel 5,2] (value 0.0)>,\n",
       " (1, 3, Vessel 5, 1): <gurobi.Var o[1,3,Vessel 5,1] (value 0.0)>,\n",
       " (1, 3, Vessel 5, 2): <gurobi.Var o[1,3,Vessel 5,2] (value 0.0)>,\n",
       " (1, 4, Vessel 5, 1): <gurobi.Var o[1,4,Vessel 5,1] (value -0.0)>,\n",
       " (1, 4, Vessel 5, 2): <gurobi.Var o[1,4,Vessel 5,2] (value 0.0)>,\n",
       " (1, 5, Vessel 5, 1): <gurobi.Var o[1,5,Vessel 5,1] (value 1.0)>,\n",
       " (1, 5, Vessel 5, 2): <gurobi.Var o[1,5,Vessel 5,2] (value 0.0)>,\n",
       " (1, 6, Vessel 5, 1): <gurobi.Var o[1,6,Vessel 5,1] (value 0.0)>,\n",
       " (1, 6, Vessel 5, 2): <gurobi.Var o[1,6,Vessel 5,2] (value 0.0)>,\n",
       " (1, 7, Vessel 5, 1): <gurobi.Var o[1,7,Vessel 5,1] (value -0.0)>,\n",
       " (1, 7, Vessel 5, 2): <gurobi.Var o[1,7,Vessel 5,2] (value 0.0)>,\n",
       " (1, 8, Vessel 5, 1): <gurobi.Var o[1,8,Vessel 5,1] (value 0.0)>,\n",
       " (1, 8, Vessel 5, 2): <gurobi.Var o[1,8,Vessel 5,2] (value 0.0)>,\n",
       " (1, 9, Vessel 5, 1): <gurobi.Var o[1,9,Vessel 5,1] (value 0.0)>,\n",
       " (1, 9, Vessel 5, 2): <gurobi.Var o[1,9,Vessel 5,2] (value 0.0)>,\n",
       " (1, 10, Vessel 5, 1): <gurobi.Var o[1,10,Vessel 5,1] (value 0.0)>,\n",
       " (1, 10, Vessel 5, 2): <gurobi.Var o[1,10,Vessel 5,2] (value 0.0)>,\n",
       " (1, 11, Vessel 5, 1): <gurobi.Var o[1,11,Vessel 5,1] (value 0.0)>,\n",
       " (1, 11, Vessel 5, 2): <gurobi.Var o[1,11,Vessel 5,2] (value 0.0)>,\n",
       " (1, 12, Vessel 5, 1): <gurobi.Var o[1,12,Vessel 5,1] (value 0.0)>,\n",
       " (1, 12, Vessel 5, 2): <gurobi.Var o[1,12,Vessel 5,2] (value 0.0)>,\n",
       " (1, 13, Vessel 5, 1): <gurobi.Var o[1,13,Vessel 5,1] (value 0.0)>,\n",
       " (1, 13, Vessel 5, 2): <gurobi.Var o[1,13,Vessel 5,2] (value 0.0)>,\n",
       " (1, 14, Vessel 5, 1): <gurobi.Var o[1,14,Vessel 5,1] (value 0.0)>,\n",
       " (1, 14, Vessel 5, 2): <gurobi.Var o[1,14,Vessel 5,2] (value 0.0)>,\n",
       " (1, 15, Vessel 5, 1): <gurobi.Var o[1,15,Vessel 5,1] (value 0.0)>,\n",
       " (1, 15, Vessel 5, 2): <gurobi.Var o[1,15,Vessel 5,2] (value 0.0)>,\n",
       " (1, 16, Vessel 5, 1): <gurobi.Var o[1,16,Vessel 5,1] (value 0.0)>,\n",
       " (1, 16, Vessel 5, 2): <gurobi.Var o[1,16,Vessel 5,2] (value 0.0)>,\n",
       " (1, 17, Vessel 5, 1): <gurobi.Var o[1,17,Vessel 5,1] (value 0.0)>,\n",
       " (1, 17, Vessel 5, 2): <gurobi.Var o[1,17,Vessel 5,2] (value 0.0)>,\n",
       " (1, 18, Vessel 5, 1): <gurobi.Var o[1,18,Vessel 5,1] (value 0.0)>,\n",
       " (1, 18, Vessel 5, 2): <gurobi.Var o[1,18,Vessel 5,2] (value 0.0)>,\n",
       " (1, 19, Vessel 5, 1): <gurobi.Var o[1,19,Vessel 5,1] (value 0.0)>,\n",
       " (1, 19, Vessel 5, 2): <gurobi.Var o[1,19,Vessel 5,2] (value 0.0)>,\n",
       " (1, 20, Vessel 5, 1): <gurobi.Var o[1,20,Vessel 5,1] (value 0.0)>,\n",
       " (1, 20, Vessel 5, 2): <gurobi.Var o[1,20,Vessel 5,2] (value 0.0)>,\n",
       " (1, 21, Vessel 5, 1): <gurobi.Var o[1,21,Vessel 5,1] (value 0.0)>,\n",
       " (1, 21, Vessel 5, 2): <gurobi.Var o[1,21,Vessel 5,2] (value 0.0)>,\n",
       " (1, 22, Vessel 5, 1): <gurobi.Var o[1,22,Vessel 5,1] (value 0.0)>,\n",
       " (1, 22, Vessel 5, 2): <gurobi.Var o[1,22,Vessel 5,2] (value -0.0)>,\n",
       " (1, 23, Vessel 5, 1): <gurobi.Var o[1,23,Vessel 5,1] (value 0.0)>,\n",
       " (1, 23, Vessel 5, 2): <gurobi.Var o[1,23,Vessel 5,2] (value -0.0)>,\n",
       " (1, 24, Vessel 5, 1): <gurobi.Var o[1,24,Vessel 5,1] (value 0.0)>,\n",
       " (1, 24, Vessel 5, 2): <gurobi.Var o[1,24,Vessel 5,2] (value 0.0)>,\n",
       " (1, 25, Vessel 5, 1): <gurobi.Var o[1,25,Vessel 5,1] (value 0.0)>,\n",
       " (1, 25, Vessel 5, 2): <gurobi.Var o[1,25,Vessel 5,2] (value -0.0)>,\n",
       " (1, 26, Vessel 5, 1): <gurobi.Var o[1,26,Vessel 5,1] (value 0.0)>,\n",
       " (1, 26, Vessel 5, 2): <gurobi.Var o[1,26,Vessel 5,2] (value -0.0)>,\n",
       " (1, 27, Vessel 5, 1): <gurobi.Var o[1,27,Vessel 5,1] (value 0.0)>,\n",
       " (1, 27, Vessel 5, 2): <gurobi.Var o[1,27,Vessel 5,2] (value 0.0)>,\n",
       " (1, 28, Vessel 5, 1): <gurobi.Var o[1,28,Vessel 5,1] (value 0.0)>,\n",
       " (1, 28, Vessel 5, 2): <gurobi.Var o[1,28,Vessel 5,2] (value 1.0)>,\n",
       " (1, 29, Vessel 5, 1): <gurobi.Var o[1,29,Vessel 5,1] (value 0.0)>,\n",
       " (1, 29, Vessel 5, 2): <gurobi.Var o[1,29,Vessel 5,2] (value 0.0)>,\n",
       " (1, 30, Vessel 5, 1): <gurobi.Var o[1,30,Vessel 5,1] (value 0.0)>,\n",
       " (1, 30, Vessel 5, 2): <gurobi.Var o[1,30,Vessel 5,2] (value 0.0)>,\n",
       " (1, 31, Vessel 5, 1): <gurobi.Var o[1,31,Vessel 5,1] (value 0.0)>,\n",
       " (1, 31, Vessel 5, 2): <gurobi.Var o[1,31,Vessel 5,2] (value 0.0)>,\n",
       " (1, 32, Vessel 5, 1): <gurobi.Var o[1,32,Vessel 5,1] (value 0.0)>,\n",
       " (1, 32, Vessel 5, 2): <gurobi.Var o[1,32,Vessel 5,2] (value 0.0)>,\n",
       " (1, 33, Vessel 5, 1): <gurobi.Var o[1,33,Vessel 5,1] (value 0.0)>,\n",
       " (1, 33, Vessel 5, 2): <gurobi.Var o[1,33,Vessel 5,2] (value 0.0)>,\n",
       " (1, 34, Vessel 5, 1): <gurobi.Var o[1,34,Vessel 5,1] (value 0.0)>,\n",
       " (1, 34, Vessel 5, 2): <gurobi.Var o[1,34,Vessel 5,2] (value 0.0)>,\n",
       " (1, 35, Vessel 5, 1): <gurobi.Var o[1,35,Vessel 5,1] (value 0.0)>,\n",
       " (1, 35, Vessel 5, 2): <gurobi.Var o[1,35,Vessel 5,2] (value 0.0)>,\n",
       " (1, 36, Vessel 5, 1): <gurobi.Var o[1,36,Vessel 5,1] (value 0.0)>,\n",
       " (1, 36, Vessel 5, 2): <gurobi.Var o[1,36,Vessel 5,2] (value 0.0)>,\n",
       " (1, 37, Vessel 5, 1): <gurobi.Var o[1,37,Vessel 5,1] (value 0.0)>,\n",
       " (1, 37, Vessel 5, 2): <gurobi.Var o[1,37,Vessel 5,2] (value 0.0)>,\n",
       " (1, 38, Vessel 5, 1): <gurobi.Var o[1,38,Vessel 5,1] (value 0.0)>,\n",
       " (1, 38, Vessel 5, 2): <gurobi.Var o[1,38,Vessel 5,2] (value 0.0)>,\n",
       " (1, 39, Vessel 5, 1): <gurobi.Var o[1,39,Vessel 5,1] (value 0.0)>,\n",
       " (1, 39, Vessel 5, 2): <gurobi.Var o[1,39,Vessel 5,2] (value 0.0)>,\n",
       " (1, 40, Vessel 5, 1): <gurobi.Var o[1,40,Vessel 5,1] (value 0.0)>,\n",
       " (1, 40, Vessel 5, 2): <gurobi.Var o[1,40,Vessel 5,2] (value 0.0)>,\n",
       " (1, 41, Vessel 5, 1): <gurobi.Var o[1,41,Vessel 5,1] (value 0.0)>,\n",
       " (1, 41, Vessel 5, 2): <gurobi.Var o[1,41,Vessel 5,2] (value 0.0)>,\n",
       " (1, 42, Vessel 5, 1): <gurobi.Var o[1,42,Vessel 5,1] (value 0.0)>,\n",
       " (1, 42, Vessel 5, 2): <gurobi.Var o[1,42,Vessel 5,2] (value 0.0)>,\n",
       " (1, 43, Vessel 5, 1): <gurobi.Var o[1,43,Vessel 5,1] (value 0.0)>,\n",
       " (1, 43, Vessel 5, 2): <gurobi.Var o[1,43,Vessel 5,2] (value 0.0)>,\n",
       " (1, 44, Vessel 5, 1): <gurobi.Var o[1,44,Vessel 5,1] (value 0.0)>,\n",
       " (1, 44, Vessel 5, 2): <gurobi.Var o[1,44,Vessel 5,2] (value 0.0)>,\n",
       " (1, 45, Vessel 5, 1): <gurobi.Var o[1,45,Vessel 5,1] (value 0.0)>,\n",
       " (1, 45, Vessel 5, 2): <gurobi.Var o[1,45,Vessel 5,2] (value 0.0)>,\n",
       " (2, 1, Vessel 5, 1): <gurobi.Var o[2,1,Vessel 5,1] (value 0.0)>,\n",
       " (2, 2, Vessel 5, 1): <gurobi.Var o[2,2,Vessel 5,1] (value 0.0)>,\n",
       " (2, 3, Vessel 5, 1): <gurobi.Var o[2,3,Vessel 5,1] (value 0.0)>,\n",
       " (2, 4, Vessel 5, 1): <gurobi.Var o[2,4,Vessel 5,1] (value 0.0)>,\n",
       " (2, 5, Vessel 5, 1): <gurobi.Var o[2,5,Vessel 5,1] (value 0.0)>,\n",
       " (2, 6, Vessel 5, 1): <gurobi.Var o[2,6,Vessel 5,1] (value 0.0)>,\n",
       " (2, 7, Vessel 5, 1): <gurobi.Var o[2,7,Vessel 5,1] (value 0.0)>,\n",
       " (2, 8, Vessel 5, 1): <gurobi.Var o[2,8,Vessel 5,1] (value 0.0)>,\n",
       " (2, 9, Vessel 5, 1): <gurobi.Var o[2,9,Vessel 5,1] (value 0.0)>,\n",
       " (2, 10, Vessel 5, 1): <gurobi.Var o[2,10,Vessel 5,1] (value 0.0)>,\n",
       " (2, 11, Vessel 5, 1): <gurobi.Var o[2,11,Vessel 5,1] (value 0.0)>,\n",
       " (2, 12, Vessel 5, 1): <gurobi.Var o[2,12,Vessel 5,1] (value 0.0)>,\n",
       " (2, 13, Vessel 5, 1): <gurobi.Var o[2,13,Vessel 5,1] (value 0.0)>,\n",
       " (2, 14, Vessel 5, 1): <gurobi.Var o[2,14,Vessel 5,1] (value 0.0)>,\n",
       " (2, 15, Vessel 5, 1): <gurobi.Var o[2,15,Vessel 5,1] (value -0.0)>,\n",
       " (2, 16, Vessel 5, 1): <gurobi.Var o[2,16,Vessel 5,1] (value -0.0)>,\n",
       " (2, 17, Vessel 5, 1): <gurobi.Var o[2,17,Vessel 5,1] (value 1.0)>,\n",
       " (2, 18, Vessel 5, 1): <gurobi.Var o[2,18,Vessel 5,1] (value 0.0)>,\n",
       " (2, 19, Vessel 5, 1): <gurobi.Var o[2,19,Vessel 5,1] (value -0.0)>,\n",
       " (2, 20, Vessel 5, 1): <gurobi.Var o[2,20,Vessel 5,1] (value -0.0)>,\n",
       " (2, 21, Vessel 5, 1): <gurobi.Var o[2,21,Vessel 5,1] (value 0.0)>,\n",
       " (2, 22, Vessel 5, 1): <gurobi.Var o[2,22,Vessel 5,1] (value 0.0)>,\n",
       " (2, 23, Vessel 5, 1): <gurobi.Var o[2,23,Vessel 5,1] (value 0.0)>,\n",
       " (2, 24, Vessel 5, 1): <gurobi.Var o[2,24,Vessel 5,1] (value 0.0)>,\n",
       " (2, 25, Vessel 5, 1): <gurobi.Var o[2,25,Vessel 5,1] (value 0.0)>,\n",
       " (2, 26, Vessel 5, 1): <gurobi.Var o[2,26,Vessel 5,1] (value 0.0)>,\n",
       " (2, 27, Vessel 5, 1): <gurobi.Var o[2,27,Vessel 5,1] (value 0.0)>,\n",
       " (2, 28, Vessel 5, 1): <gurobi.Var o[2,28,Vessel 5,1] (value 0.0)>,\n",
       " (2, 29, Vessel 5, 1): <gurobi.Var o[2,29,Vessel 5,1] (value 0.0)>,\n",
       " (2, 30, Vessel 5, 1): <gurobi.Var o[2,30,Vessel 5,1] (value 0.0)>,\n",
       " (2, 31, Vessel 5, 1): <gurobi.Var o[2,31,Vessel 5,1] (value 0.0)>,\n",
       " (2, 32, Vessel 5, 1): <gurobi.Var o[2,32,Vessel 5,1] (value 0.0)>,\n",
       " (2, 33, Vessel 5, 1): <gurobi.Var o[2,33,Vessel 5,1] (value 0.0)>,\n",
       " (2, 34, Vessel 5, 1): <gurobi.Var o[2,34,Vessel 5,1] (value 0.0)>,\n",
       " (2, 35, Vessel 5, 1): <gurobi.Var o[2,35,Vessel 5,1] (value 0.0)>,\n",
       " (2, 36, Vessel 5, 1): <gurobi.Var o[2,36,Vessel 5,1] (value 0.0)>,\n",
       " (2, 37, Vessel 5, 1): <gurobi.Var o[2,37,Vessel 5,1] (value 0.0)>,\n",
       " (2, 38, Vessel 5, 1): <gurobi.Var o[2,38,Vessel 5,1] (value 0.0)>,\n",
       " (2, 39, Vessel 5, 1): <gurobi.Var o[2,39,Vessel 5,1] (value 0.0)>,\n",
       " (2, 40, Vessel 5, 1): <gurobi.Var o[2,40,Vessel 5,1] (value 0.0)>,\n",
       " (2, 41, Vessel 5, 1): <gurobi.Var o[2,41,Vessel 5,1] (value 0.0)>,\n",
       " (2, 42, Vessel 5, 1): <gurobi.Var o[2,42,Vessel 5,1] (value 0.0)>,\n",
       " (2, 43, Vessel 5, 1): <gurobi.Var o[2,43,Vessel 5,1] (value 0.0)>,\n",
       " (2, 44, Vessel 5, 1): <gurobi.Var o[2,44,Vessel 5,1] (value 0.0)>,\n",
       " (2, 45, Vessel 5, 1): <gurobi.Var o[2,45,Vessel 5,1] (value 0.0)>,\n",
       " (3, 1, Vessel 5, 1): <gurobi.Var o[3,1,Vessel 5,1] (value 0.0)>,\n",
       " (3, 1, Vessel 5, 2): <gurobi.Var o[3,1,Vessel 5,2] (value 0.0)>,\n",
       " (3, 2, Vessel 5, 1): <gurobi.Var o[3,2,Vessel 5,1] (value 0.0)>,\n",
       " (3, 2, Vessel 5, 2): <gurobi.Var o[3,2,Vessel 5,2] (value 0.0)>,\n",
       " (3, 3, Vessel 5, 1): <gurobi.Var o[3,3,Vessel 5,1] (value 0.0)>,\n",
       " (3, 3, Vessel 5, 2): <gurobi.Var o[3,3,Vessel 5,2] (value 0.0)>,\n",
       " (3, 4, Vessel 5, 1): <gurobi.Var o[3,4,Vessel 5,1] (value 0.0)>,\n",
       " (3, 4, Vessel 5, 2): <gurobi.Var o[3,4,Vessel 5,2] (value 0.0)>,\n",
       " (3, 5, Vessel 5, 1): <gurobi.Var o[3,5,Vessel 5,1] (value 0.0)>,\n",
       " (3, 5, Vessel 5, 2): <gurobi.Var o[3,5,Vessel 5,2] (value 0.0)>,\n",
       " (3, 6, Vessel 5, 1): <gurobi.Var o[3,6,Vessel 5,1] (value 0.0)>,\n",
       " (3, 6, Vessel 5, 2): <gurobi.Var o[3,6,Vessel 5,2] (value 0.0)>,\n",
       " (3, 7, Vessel 5, 1): <gurobi.Var o[3,7,Vessel 5,1] (value 0.0)>,\n",
       " (3, 7, Vessel 5, 2): <gurobi.Var o[3,7,Vessel 5,2] (value 0.0)>,\n",
       " (3, 8, Vessel 5, 1): <gurobi.Var o[3,8,Vessel 5,1] (value 0.0)>,\n",
       " (3, 8, Vessel 5, 2): <gurobi.Var o[3,8,Vessel 5,2] (value 0.0)>,\n",
       " (3, 9, Vessel 5, 1): <gurobi.Var o[3,9,Vessel 5,1] (value 0.0)>,\n",
       " (3, 9, Vessel 5, 2): <gurobi.Var o[3,9,Vessel 5,2] (value 0.0)>,\n",
       " (3, 10, Vessel 5, 1): <gurobi.Var o[3,10,Vessel 5,1] (value 0.0)>,\n",
       " (3, 10, Vessel 5, 2): <gurobi.Var o[3,10,Vessel 5,2] (value 0.0)>,\n",
       " (3, 11, Vessel 5, 1): <gurobi.Var o[3,11,Vessel 5,1] (value 0.0)>,\n",
       " (3, 11, Vessel 5, 2): <gurobi.Var o[3,11,Vessel 5,2] (value 0.0)>,\n",
       " (3, 12, Vessel 5, 1): <gurobi.Var o[3,12,Vessel 5,1] (value -0.0)>,\n",
       " (3, 12, Vessel 5, 2): <gurobi.Var o[3,12,Vessel 5,2] (value 0.0)>,\n",
       " (3, 13, Vessel 5, 1): <gurobi.Var o[3,13,Vessel 5,1] (value -0.0)>,\n",
       " (3, 13, Vessel 5, 2): <gurobi.Var o[3,13,Vessel 5,2] (value 0.0)>,\n",
       " (3, 14, Vessel 5, 1): <gurobi.Var o[3,14,Vessel 5,1] (value 0.0)>,\n",
       " (3, 14, Vessel 5, 2): <gurobi.Var o[3,14,Vessel 5,2] (value 0.0)>,\n",
       " (3, 15, Vessel 5, 1): <gurobi.Var o[3,15,Vessel 5,1] (value -0.0)>,\n",
       " (3, 15, Vessel 5, 2): <gurobi.Var o[3,15,Vessel 5,2] (value 0.0)>,\n",
       " (3, 16, Vessel 5, 1): <gurobi.Var o[3,16,Vessel 5,1] (value 1.0)>,\n",
       " (3, 16, Vessel 5, 2): <gurobi.Var o[3,16,Vessel 5,2] (value 0.0)>,\n",
       " (3, 17, Vessel 5, 1): <gurobi.Var o[3,17,Vessel 5,1] (value 0.0)>,\n",
       " (3, 17, Vessel 5, 2): <gurobi.Var o[3,17,Vessel 5,2] (value 0.0)>,\n",
       " (3, 18, Vessel 5, 1): <gurobi.Var o[3,18,Vessel 5,1] (value -0.0)>,\n",
       " (3, 18, Vessel 5, 2): <gurobi.Var o[3,18,Vessel 5,2] (value 0.0)>,\n",
       " (3, 19, Vessel 5, 1): <gurobi.Var o[3,19,Vessel 5,1] (value -0.0)>,\n",
       " (3, 19, Vessel 5, 2): <gurobi.Var o[3,19,Vessel 5,2] (value 0.0)>,\n",
       " (3, 20, Vessel 5, 1): <gurobi.Var o[3,20,Vessel 5,1] (value 0.0)>,\n",
       " (3, 20, Vessel 5, 2): <gurobi.Var o[3,20,Vessel 5,2] (value 0.0)>,\n",
       " (3, 21, Vessel 5, 1): <gurobi.Var o[3,21,Vessel 5,1] (value 0.0)>,\n",
       " (3, 21, Vessel 5, 2): <gurobi.Var o[3,21,Vessel 5,2] (value 0.0)>,\n",
       " (3, 22, Vessel 5, 1): <gurobi.Var o[3,22,Vessel 5,1] (value 0.0)>,\n",
       " (3, 22, Vessel 5, 2): <gurobi.Var o[3,22,Vessel 5,2] (value 0.0)>,\n",
       " (3, 23, Vessel 5, 1): <gurobi.Var o[3,23,Vessel 5,1] (value 0.0)>,\n",
       " (3, 23, Vessel 5, 2): <gurobi.Var o[3,23,Vessel 5,2] (value 0.0)>,\n",
       " (3, 24, Vessel 5, 1): <gurobi.Var o[3,24,Vessel 5,1] (value 0.0)>,\n",
       " (3, 24, Vessel 5, 2): <gurobi.Var o[3,24,Vessel 5,2] (value -0.0)>,\n",
       " (3, 25, Vessel 5, 1): <gurobi.Var o[3,25,Vessel 5,1] (value 0.0)>,\n",
       " (3, 25, Vessel 5, 2): <gurobi.Var o[3,25,Vessel 5,2] (value -0.0)>,\n",
       " (3, 26, Vessel 5, 1): <gurobi.Var o[3,26,Vessel 5,1] (value 0.0)>,\n",
       " (3, 26, Vessel 5, 2): <gurobi.Var o[3,26,Vessel 5,2] (value 0.0)>,\n",
       " (3, 27, Vessel 5, 1): <gurobi.Var o[3,27,Vessel 5,1] (value 0.0)>,\n",
       " (3, 27, Vessel 5, 2): <gurobi.Var o[3,27,Vessel 5,2] (value 0.0)>,\n",
       " (3, 28, Vessel 5, 1): <gurobi.Var o[3,28,Vessel 5,1] (value 0.0)>,\n",
       " (3, 28, Vessel 5, 2): <gurobi.Var o[3,28,Vessel 5,2] (value 0.0)>,\n",
       " (3, 29, Vessel 5, 1): <gurobi.Var o[3,29,Vessel 5,1] (value 0.0)>,\n",
       " (3, 29, Vessel 5, 2): <gurobi.Var o[3,29,Vessel 5,2] (value 0.0)>,\n",
       " (3, 30, Vessel 5, 1): <gurobi.Var o[3,30,Vessel 5,1] (value 0.0)>,\n",
       " (3, 30, Vessel 5, 2): <gurobi.Var o[3,30,Vessel 5,2] (value 0.0)>,\n",
       " (3, 31, Vessel 5, 1): <gurobi.Var o[3,31,Vessel 5,1] (value 0.0)>,\n",
       " (3, 31, Vessel 5, 2): <gurobi.Var o[3,31,Vessel 5,2] (value -0.0)>,\n",
       " (3, 32, Vessel 5, 1): <gurobi.Var o[3,32,Vessel 5,1] (value 0.0)>,\n",
       " (3, 32, Vessel 5, 2): <gurobi.Var o[3,32,Vessel 5,2] (value -0.0)>,\n",
       " (3, 33, Vessel 5, 1): <gurobi.Var o[3,33,Vessel 5,1] (value 0.0)>,\n",
       " (3, 33, Vessel 5, 2): <gurobi.Var o[3,33,Vessel 5,2] (value -0.0)>,\n",
       " (3, 34, Vessel 5, 1): <gurobi.Var o[3,34,Vessel 5,1] (value 0.0)>,\n",
       " (3, 34, Vessel 5, 2): <gurobi.Var o[3,34,Vessel 5,2] (value 0.0)>,\n",
       " (3, 35, Vessel 5, 1): <gurobi.Var o[3,35,Vessel 5,1] (value 0.0)>,\n",
       " (3, 35, Vessel 5, 2): <gurobi.Var o[3,35,Vessel 5,2] (value 0.0)>,\n",
       " (3, 36, Vessel 5, 1): <gurobi.Var o[3,36,Vessel 5,1] (value 0.0)>,\n",
       " (3, 36, Vessel 5, 2): <gurobi.Var o[3,36,Vessel 5,2] (value -0.0)>,\n",
       " (3, 37, Vessel 5, 1): <gurobi.Var o[3,37,Vessel 5,1] (value 0.0)>,\n",
       " (3, 37, Vessel 5, 2): <gurobi.Var o[3,37,Vessel 5,2] (value 1.0)>,\n",
       " (3, 38, Vessel 5, 1): <gurobi.Var o[3,38,Vessel 5,1] (value 0.0)>,\n",
       " (3, 38, Vessel 5, 2): <gurobi.Var o[3,38,Vessel 5,2] (value -0.0)>,\n",
       " (3, 39, Vessel 5, 1): <gurobi.Var o[3,39,Vessel 5,1] (value 0.0)>,\n",
       " (3, 39, Vessel 5, 2): <gurobi.Var o[3,39,Vessel 5,2] (value -0.0)>,\n",
       " (3, 40, Vessel 5, 1): <gurobi.Var o[3,40,Vessel 5,1] (value 0.0)>,\n",
       " (3, 40, Vessel 5, 2): <gurobi.Var o[3,40,Vessel 5,2] (value -0.0)>,\n",
       " (3, 41, Vessel 5, 1): <gurobi.Var o[3,41,Vessel 5,1] (value 0.0)>,\n",
       " (3, 41, Vessel 5, 2): <gurobi.Var o[3,41,Vessel 5,2] (value -0.0)>,\n",
       " (3, 42, Vessel 5, 1): <gurobi.Var o[3,42,Vessel 5,1] (value 0.0)>,\n",
       " (3, 42, Vessel 5, 2): <gurobi.Var o[3,42,Vessel 5,2] (value -0.0)>,\n",
       " (3, 43, Vessel 5, 1): <gurobi.Var o[3,43,Vessel 5,1] (value 0.0)>,\n",
       " (3, 43, Vessel 5, 2): <gurobi.Var o[3,43,Vessel 5,2] (value -0.0)>,\n",
       " (3, 44, Vessel 5, 1): <gurobi.Var o[3,44,Vessel 5,1] (value 0.0)>,\n",
       " (3, 44, Vessel 5, 2): <gurobi.Var o[3,44,Vessel 5,2] (value -0.0)>,\n",
       " (3, 45, Vessel 5, 1): <gurobi.Var o[3,45,Vessel 5,1] (value 0.0)>,\n",
       " (3, 45, Vessel 5, 2): <gurobi.Var o[3,45,Vessel 5,2] (value 0.0)>,\n",
       " (1, 1, Vessel 6, 1): <gurobi.Var o[1,1,Vessel 6,1] (value 0.0)>,\n",
       " (1, 1, Vessel 6, 2): <gurobi.Var o[1,1,Vessel 6,2] (value 0.0)>,\n",
       " (1, 2, Vessel 6, 1): <gurobi.Var o[1,2,Vessel 6,1] (value 0.0)>,\n",
       " (1, 2, Vessel 6, 2): <gurobi.Var o[1,2,Vessel 6,2] (value 0.0)>,\n",
       " (1, 3, Vessel 6, 1): <gurobi.Var o[1,3,Vessel 6,1] (value 0.0)>,\n",
       " (1, 3, Vessel 6, 2): <gurobi.Var o[1,3,Vessel 6,2] (value 0.0)>,\n",
       " (1, 4, Vessel 6, 1): <gurobi.Var o[1,4,Vessel 6,1] (value 0.0)>,\n",
       " (1, 4, Vessel 6, 2): <gurobi.Var o[1,4,Vessel 6,2] (value 0.0)>,\n",
       " (1, 5, Vessel 6, 1): <gurobi.Var o[1,5,Vessel 6,1] (value 0.0)>,\n",
       " (1, 5, Vessel 6, 2): <gurobi.Var o[1,5,Vessel 6,2] (value 0.0)>,\n",
       " (1, 6, Vessel 6, 1): <gurobi.Var o[1,6,Vessel 6,1] (value 0.0)>,\n",
       " (1, 6, Vessel 6, 2): <gurobi.Var o[1,6,Vessel 6,2] (value 0.0)>,\n",
       " (1, 7, Vessel 6, 1): <gurobi.Var o[1,7,Vessel 6,1] (value 0.0)>,\n",
       " (1, 7, Vessel 6, 2): <gurobi.Var o[1,7,Vessel 6,2] (value 0.0)>,\n",
       " (1, 8, Vessel 6, 1): <gurobi.Var o[1,8,Vessel 6,1] (value 0.0)>,\n",
       " (1, 8, Vessel 6, 2): <gurobi.Var o[1,8,Vessel 6,2] (value 0.0)>,\n",
       " (1, 9, Vessel 6, 1): <gurobi.Var o[1,9,Vessel 6,1] (value 0.0)>,\n",
       " (1, 9, Vessel 6, 2): <gurobi.Var o[1,9,Vessel 6,2] (value 0.0)>,\n",
       " (1, 10, Vessel 6, 1): <gurobi.Var o[1,10,Vessel 6,1] (value 0.0)>,\n",
       " (1, 10, Vessel 6, 2): <gurobi.Var o[1,10,Vessel 6,2] (value 0.0)>,\n",
       " (1, 11, Vessel 6, 1): <gurobi.Var o[1,11,Vessel 6,1] (value 0.0)>,\n",
       " (1, 11, Vessel 6, 2): <gurobi.Var o[1,11,Vessel 6,2] (value 0.0)>,\n",
       " (1, 12, Vessel 6, 1): <gurobi.Var o[1,12,Vessel 6,1] (value -0.0)>,\n",
       " (1, 12, Vessel 6, 2): <gurobi.Var o[1,12,Vessel 6,2] (value 0.0)>,\n",
       " (1, 13, Vessel 6, 1): <gurobi.Var o[1,13,Vessel 6,1] (value -0.0)>,\n",
       " (1, 13, Vessel 6, 2): <gurobi.Var o[1,13,Vessel 6,2] (value 0.0)>,\n",
       " (1, 14, Vessel 6, 1): <gurobi.Var o[1,14,Vessel 6,1] (value 1.0)>,\n",
       " (1, 14, Vessel 6, 2): <gurobi.Var o[1,14,Vessel 6,2] (value 0.0)>,\n",
       " (1, 15, Vessel 6, 1): <gurobi.Var o[1,15,Vessel 6,1] (value -0.0)>,\n",
       " (1, 15, Vessel 6, 2): <gurobi.Var o[1,15,Vessel 6,2] (value 0.0)>,\n",
       " (1, 16, Vessel 6, 1): <gurobi.Var o[1,16,Vessel 6,1] (value -0.0)>,\n",
       " (1, 16, Vessel 6, 2): <gurobi.Var o[1,16,Vessel 6,2] (value 0.0)>,\n",
       " (1, 17, Vessel 6, 1): <gurobi.Var o[1,17,Vessel 6,1] (value -0.0)>,\n",
       " (1, 17, Vessel 6, 2): <gurobi.Var o[1,17,Vessel 6,2] (value 0.0)>,\n",
       " (1, 18, Vessel 6, 1): <gurobi.Var o[1,18,Vessel 6,1] (value -0.0)>,\n",
       " (1, 18, Vessel 6, 2): <gurobi.Var o[1,18,Vessel 6,2] (value 0.0)>,\n",
       " (1, 19, Vessel 6, 1): <gurobi.Var o[1,19,Vessel 6,1] (value 0.0)>,\n",
       " (1, 19, Vessel 6, 2): <gurobi.Var o[1,19,Vessel 6,2] (value 0.0)>,\n",
       " (1, 20, Vessel 6, 1): <gurobi.Var o[1,20,Vessel 6,1] (value 0.0)>,\n",
       " (1, 20, Vessel 6, 2): <gurobi.Var o[1,20,Vessel 6,2] (value 0.0)>,\n",
       " (1, 21, Vessel 6, 1): <gurobi.Var o[1,21,Vessel 6,1] (value 0.0)>,\n",
       " (1, 21, Vessel 6, 2): <gurobi.Var o[1,21,Vessel 6,2] (value 0.0)>,\n",
       " (1, 22, Vessel 6, 1): <gurobi.Var o[1,22,Vessel 6,1] (value 0.0)>,\n",
       " (1, 22, Vessel 6, 2): <gurobi.Var o[1,22,Vessel 6,2] (value 0.0)>,\n",
       " (1, 23, Vessel 6, 1): <gurobi.Var o[1,23,Vessel 6,1] (value 0.0)>,\n",
       " (1, 23, Vessel 6, 2): <gurobi.Var o[1,23,Vessel 6,2] (value 0.0)>,\n",
       " (1, 24, Vessel 6, 1): <gurobi.Var o[1,24,Vessel 6,1] (value 0.0)>,\n",
       " (1, 24, Vessel 6, 2): <gurobi.Var o[1,24,Vessel 6,2] (value 0.0)>,\n",
       " (1, 25, Vessel 6, 1): <gurobi.Var o[1,25,Vessel 6,1] (value 0.0)>,\n",
       " (1, 25, Vessel 6, 2): <gurobi.Var o[1,25,Vessel 6,2] (value 0.0)>,\n",
       " (1, 26, Vessel 6, 1): <gurobi.Var o[1,26,Vessel 6,1] (value 0.0)>,\n",
       " (1, 26, Vessel 6, 2): <gurobi.Var o[1,26,Vessel 6,2] (value 0.0)>,\n",
       " (1, 27, Vessel 6, 1): <gurobi.Var o[1,27,Vessel 6,1] (value 0.0)>,\n",
       " (1, 27, Vessel 6, 2): <gurobi.Var o[1,27,Vessel 6,2] (value 0.0)>,\n",
       " (1, 28, Vessel 6, 1): <gurobi.Var o[1,28,Vessel 6,1] (value 0.0)>,\n",
       " (1, 28, Vessel 6, 2): <gurobi.Var o[1,28,Vessel 6,2] (value 0.0)>,\n",
       " (1, 29, Vessel 6, 1): <gurobi.Var o[1,29,Vessel 6,1] (value 0.0)>,\n",
       " (1, 29, Vessel 6, 2): <gurobi.Var o[1,29,Vessel 6,2] (value 0.0)>,\n",
       " (1, 30, Vessel 6, 1): <gurobi.Var o[1,30,Vessel 6,1] (value 0.0)>,\n",
       " (1, 30, Vessel 6, 2): <gurobi.Var o[1,30,Vessel 6,2] (value 0.0)>,\n",
       " (1, 31, Vessel 6, 1): <gurobi.Var o[1,31,Vessel 6,1] (value 0.0)>,\n",
       " (1, 31, Vessel 6, 2): <gurobi.Var o[1,31,Vessel 6,2] (value 0.0)>,\n",
       " (1, 32, Vessel 6, 1): <gurobi.Var o[1,32,Vessel 6,1] (value 0.0)>,\n",
       " (1, 32, Vessel 6, 2): <gurobi.Var o[1,32,Vessel 6,2] (value -0.0)>,\n",
       " (1, 33, Vessel 6, 1): <gurobi.Var o[1,33,Vessel 6,1] (value 0.0)>,\n",
       " (1, 33, Vessel 6, 2): <gurobi.Var o[1,33,Vessel 6,2] (value -0.0)>,\n",
       " (1, 34, Vessel 6, 1): <gurobi.Var o[1,34,Vessel 6,1] (value 0.0)>,\n",
       " (1, 34, Vessel 6, 2): <gurobi.Var o[1,34,Vessel 6,2] (value 0.0)>,\n",
       " (1, 35, Vessel 6, 1): <gurobi.Var o[1,35,Vessel 6,1] (value 0.0)>,\n",
       " (1, 35, Vessel 6, 2): <gurobi.Var o[1,35,Vessel 6,2] (value -0.0)>,\n",
       " (1, 36, Vessel 6, 1): <gurobi.Var o[1,36,Vessel 6,1] (value 0.0)>,\n",
       " (1, 36, Vessel 6, 2): <gurobi.Var o[1,36,Vessel 6,2] (value 1.0)>,\n",
       " (1, 37, Vessel 6, 1): <gurobi.Var o[1,37,Vessel 6,1] (value 0.0)>,\n",
       " (1, 37, Vessel 6, 2): <gurobi.Var o[1,37,Vessel 6,2] (value 0.0)>,\n",
       " (1, 38, Vessel 6, 1): <gurobi.Var o[1,38,Vessel 6,1] (value 0.0)>,\n",
       " (1, 38, Vessel 6, 2): <gurobi.Var o[1,38,Vessel 6,2] (value -0.0)>,\n",
       " (1, 39, Vessel 6, 1): <gurobi.Var o[1,39,Vessel 6,1] (value 0.0)>,\n",
       " (1, 39, Vessel 6, 2): <gurobi.Var o[1,39,Vessel 6,2] (value -0.0)>,\n",
       " (1, 40, Vessel 6, 1): <gurobi.Var o[1,40,Vessel 6,1] (value 0.0)>,\n",
       " (1, 40, Vessel 6, 2): <gurobi.Var o[1,40,Vessel 6,2] (value -0.0)>,\n",
       " (1, 41, Vessel 6, 1): <gurobi.Var o[1,41,Vessel 6,1] (value 0.0)>,\n",
       " (1, 41, Vessel 6, 2): <gurobi.Var o[1,41,Vessel 6,2] (value 0.0)>,\n",
       " (1, 42, Vessel 6, 1): <gurobi.Var o[1,42,Vessel 6,1] (value 0.0)>,\n",
       " (1, 42, Vessel 6, 2): <gurobi.Var o[1,42,Vessel 6,2] (value -0.0)>,\n",
       " (1, 43, Vessel 6, 1): <gurobi.Var o[1,43,Vessel 6,1] (value 0.0)>,\n",
       " (1, 43, Vessel 6, 2): <gurobi.Var o[1,43,Vessel 6,2] (value -0.0)>,\n",
       " (1, 44, Vessel 6, 1): <gurobi.Var o[1,44,Vessel 6,1] (value 0.0)>,\n",
       " (1, 44, Vessel 6, 2): <gurobi.Var o[1,44,Vessel 6,2] (value -0.0)>,\n",
       " (1, 45, Vessel 6, 1): <gurobi.Var o[1,45,Vessel 6,1] (value 0.0)>,\n",
       " (1, 45, Vessel 6, 2): <gurobi.Var o[1,45,Vessel 6,2] (value -0.0)>,\n",
       " (2, 1, Vessel 6, 1): <gurobi.Var o[2,1,Vessel 6,1] (value 0.0)>,\n",
       " (2, 1, Vessel 6, 2): <gurobi.Var o[2,1,Vessel 6,2] (value 0.0)>,\n",
       " (2, 2, Vessel 6, 1): <gurobi.Var o[2,2,Vessel 6,1] (value 0.0)>,\n",
       " (2, 2, Vessel 6, 2): <gurobi.Var o[2,2,Vessel 6,2] (value 0.0)>,\n",
       " (2, 3, Vessel 6, 1): <gurobi.Var o[2,3,Vessel 6,1] (value 1.0)>,\n",
       " (2, 3, Vessel 6, 2): <gurobi.Var o[2,3,Vessel 6,2] (value 0.0)>,\n",
       " (2, 4, Vessel 6, 1): <gurobi.Var o[2,4,Vessel 6,1] (value 0.0)>,\n",
       " (2, 4, Vessel 6, 2): <gurobi.Var o[2,4,Vessel 6,2] (value 0.0)>,\n",
       " (2, 5, Vessel 6, 1): <gurobi.Var o[2,5,Vessel 6,1] (value 0.0)>,\n",
       " (2, 5, Vessel 6, 2): <gurobi.Var o[2,5,Vessel 6,2] (value 0.0)>,\n",
       " (2, 6, Vessel 6, 1): <gurobi.Var o[2,6,Vessel 6,1] (value 0.0)>,\n",
       " (2, 6, Vessel 6, 2): <gurobi.Var o[2,6,Vessel 6,2] (value 0.0)>,\n",
       " (2, 7, Vessel 6, 1): <gurobi.Var o[2,7,Vessel 6,1] (value 0.0)>,\n",
       " (2, 7, Vessel 6, 2): <gurobi.Var o[2,7,Vessel 6,2] (value 0.0)>,\n",
       " (2, 8, Vessel 6, 1): <gurobi.Var o[2,8,Vessel 6,1] (value 0.0)>,\n",
       " (2, 8, Vessel 6, 2): <gurobi.Var o[2,8,Vessel 6,2] (value 0.0)>,\n",
       " (2, 9, Vessel 6, 1): <gurobi.Var o[2,9,Vessel 6,1] (value 0.0)>,\n",
       " (2, 9, Vessel 6, 2): <gurobi.Var o[2,9,Vessel 6,2] (value 0.0)>,\n",
       " (2, 10, Vessel 6, 1): <gurobi.Var o[2,10,Vessel 6,1] (value 0.0)>,\n",
       " (2, 10, Vessel 6, 2): <gurobi.Var o[2,10,Vessel 6,2] (value 0.0)>,\n",
       " (2, 11, Vessel 6, 1): <gurobi.Var o[2,11,Vessel 6,1] (value 0.0)>,\n",
       " (2, 11, Vessel 6, 2): <gurobi.Var o[2,11,Vessel 6,2] (value 0.0)>,\n",
       " (2, 12, Vessel 6, 1): <gurobi.Var o[2,12,Vessel 6,1] (value 0.0)>,\n",
       " (2, 12, Vessel 6, 2): <gurobi.Var o[2,12,Vessel 6,2] (value 0.0)>,\n",
       " (2, 13, Vessel 6, 1): <gurobi.Var o[2,13,Vessel 6,1] (value 0.0)>,\n",
       " (2, 13, Vessel 6, 2): <gurobi.Var o[2,13,Vessel 6,2] (value 0.0)>,\n",
       " (2, 14, Vessel 6, 1): <gurobi.Var o[2,14,Vessel 6,1] (value 0.0)>,\n",
       " (2, 14, Vessel 6, 2): <gurobi.Var o[2,14,Vessel 6,2] (value 0.0)>,\n",
       " (2, 15, Vessel 6, 1): <gurobi.Var o[2,15,Vessel 6,1] (value 0.0)>,\n",
       " (2, 15, Vessel 6, 2): <gurobi.Var o[2,15,Vessel 6,2] (value 0.0)>,\n",
       " (2, 16, Vessel 6, 1): <gurobi.Var o[2,16,Vessel 6,1] (value 0.0)>,\n",
       " (2, 16, Vessel 6, 2): <gurobi.Var o[2,16,Vessel 6,2] (value 0.0)>,\n",
       " (2, 17, Vessel 6, 1): <gurobi.Var o[2,17,Vessel 6,1] (value 0.0)>,\n",
       " (2, 17, Vessel 6, 2): <gurobi.Var o[2,17,Vessel 6,2] (value 0.0)>,\n",
       " (2, 18, Vessel 6, 1): <gurobi.Var o[2,18,Vessel 6,1] (value 0.0)>,\n",
       " (2, 18, Vessel 6, 2): <gurobi.Var o[2,18,Vessel 6,2] (value 0.0)>,\n",
       " (2, 19, Vessel 6, 1): <gurobi.Var o[2,19,Vessel 6,1] (value 0.0)>,\n",
       " (2, 19, Vessel 6, 2): <gurobi.Var o[2,19,Vessel 6,2] (value 0.0)>,\n",
       " (2, 20, Vessel 6, 1): <gurobi.Var o[2,20,Vessel 6,1] (value 0.0)>,\n",
       " (2, 20, Vessel 6, 2): <gurobi.Var o[2,20,Vessel 6,2] (value 0.0)>,\n",
       " (2, 21, Vessel 6, 1): <gurobi.Var o[2,21,Vessel 6,1] (value 0.0)>,\n",
       " (2, 21, Vessel 6, 2): <gurobi.Var o[2,21,Vessel 6,2] (value -0.0)>,\n",
       " (2, 22, Vessel 6, 1): <gurobi.Var o[2,22,Vessel 6,1] (value 0.0)>,\n",
       " (2, 22, Vessel 6, 2): <gurobi.Var o[2,22,Vessel 6,2] (value -0.0)>,\n",
       " (2, 23, Vessel 6, 1): <gurobi.Var o[2,23,Vessel 6,1] (value 0.0)>,\n",
       " (2, 23, Vessel 6, 2): <gurobi.Var o[2,23,Vessel 6,2] (value -0.0)>,\n",
       " (2, 24, Vessel 6, 1): <gurobi.Var o[2,24,Vessel 6,1] (value 0.0)>,\n",
       " (2, 24, Vessel 6, 2): <gurobi.Var o[2,24,Vessel 6,2] (value -0.0)>,\n",
       " (2, 25, Vessel 6, 1): <gurobi.Var o[2,25,Vessel 6,1] (value 0.0)>,\n",
       " (2, 25, Vessel 6, 2): <gurobi.Var o[2,25,Vessel 6,2] (value 1.0)>,\n",
       " (2, 26, Vessel 6, 1): <gurobi.Var o[2,26,Vessel 6,1] (value 0.0)>,\n",
       " (2, 26, Vessel 6, 2): <gurobi.Var o[2,26,Vessel 6,2] (value 0.0)>,\n",
       " (2, 27, Vessel 6, 1): <gurobi.Var o[2,27,Vessel 6,1] (value 0.0)>,\n",
       " (2, 27, Vessel 6, 2): <gurobi.Var o[2,27,Vessel 6,2] (value -0.0)>,\n",
       " (2, 28, Vessel 6, 1): <gurobi.Var o[2,28,Vessel 6,1] (value 0.0)>,\n",
       " (2, 28, Vessel 6, 2): <gurobi.Var o[2,28,Vessel 6,2] (value 0.0)>,\n",
       " (2, 29, Vessel 6, 1): <gurobi.Var o[2,29,Vessel 6,1] (value 0.0)>,\n",
       " (2, 29, Vessel 6, 2): <gurobi.Var o[2,29,Vessel 6,2] (value 0.0)>,\n",
       " (2, 30, Vessel 6, 1): <gurobi.Var o[2,30,Vessel 6,1] (value 0.0)>,\n",
       " (2, 30, Vessel 6, 2): <gurobi.Var o[2,30,Vessel 6,2] (value 0.0)>,\n",
       " (2, 31, Vessel 6, 1): <gurobi.Var o[2,31,Vessel 6,1] (value 0.0)>,\n",
       " (2, 31, Vessel 6, 2): <gurobi.Var o[2,31,Vessel 6,2] (value 0.0)>,\n",
       " (2, 32, Vessel 6, 1): <gurobi.Var o[2,32,Vessel 6,1] (value 0.0)>,\n",
       " (2, 32, Vessel 6, 2): <gurobi.Var o[2,32,Vessel 6,2] (value 0.0)>,\n",
       " (2, 33, Vessel 6, 1): <gurobi.Var o[2,33,Vessel 6,1] (value 0.0)>,\n",
       " (2, 33, Vessel 6, 2): <gurobi.Var o[2,33,Vessel 6,2] (value 0.0)>,\n",
       " (2, 34, Vessel 6, 1): <gurobi.Var o[2,34,Vessel 6,1] (value 0.0)>,\n",
       " (2, 34, Vessel 6, 2): <gurobi.Var o[2,34,Vessel 6,2] (value 0.0)>,\n",
       " (2, 35, Vessel 6, 1): <gurobi.Var o[2,35,Vessel 6,1] (value 0.0)>,\n",
       " (2, 35, Vessel 6, 2): <gurobi.Var o[2,35,Vessel 6,2] (value 0.0)>,\n",
       " (2, 36, Vessel 6, 1): <gurobi.Var o[2,36,Vessel 6,1] (value 0.0)>,\n",
       " (2, 36, Vessel 6, 2): <gurobi.Var o[2,36,Vessel 6,2] (value 0.0)>,\n",
       " (2, 37, Vessel 6, 1): <gurobi.Var o[2,37,Vessel 6,1] (value 0.0)>,\n",
       " (2, 37, Vessel 6, 2): <gurobi.Var o[2,37,Vessel 6,2] (value 0.0)>,\n",
       " (2, 38, Vessel 6, 1): <gurobi.Var o[2,38,Vessel 6,1] (value 0.0)>,\n",
       " (2, 38, Vessel 6, 2): <gurobi.Var o[2,38,Vessel 6,2] (value 0.0)>,\n",
       " (2, 39, Vessel 6, 1): <gurobi.Var o[2,39,Vessel 6,1] (value 0.0)>,\n",
       " (2, 39, Vessel 6, 2): <gurobi.Var o[2,39,Vessel 6,2] (value 0.0)>,\n",
       " (2, 40, Vessel 6, 1): <gurobi.Var o[2,40,Vessel 6,1] (value 0.0)>,\n",
       " (2, 40, Vessel 6, 2): <gurobi.Var o[2,40,Vessel 6,2] (value 0.0)>,\n",
       " (2, 41, Vessel 6, 1): <gurobi.Var o[2,41,Vessel 6,1] (value 0.0)>,\n",
       " (2, 41, Vessel 6, 2): <gurobi.Var o[2,41,Vessel 6,2] (value 0.0)>,\n",
       " (2, 42, Vessel 6, 1): <gurobi.Var o[2,42,Vessel 6,1] (value 0.0)>,\n",
       " (2, 42, Vessel 6, 2): <gurobi.Var o[2,42,Vessel 6,2] (value 0.0)>,\n",
       " (2, 43, Vessel 6, 1): <gurobi.Var o[2,43,Vessel 6,1] (value 0.0)>,\n",
       " (2, 43, Vessel 6, 2): <gurobi.Var o[2,43,Vessel 6,2] (value 0.0)>,\n",
       " (2, 44, Vessel 6, 1): <gurobi.Var o[2,44,Vessel 6,1] (value 0.0)>,\n",
       " (2, 44, Vessel 6, 2): <gurobi.Var o[2,44,Vessel 6,2] (value 0.0)>,\n",
       " (2, 45, Vessel 6, 1): <gurobi.Var o[2,45,Vessel 6,1] (value 0.0)>,\n",
       " (2, 45, Vessel 6, 2): <gurobi.Var o[2,45,Vessel 6,2] (value 0.0)>,\n",
       " (1, 1, Vessel 7, 1): <gurobi.Var o[1,1,Vessel 7,1] (value 0.0)>,\n",
       " (1, 1, Vessel 7, 2): <gurobi.Var o[1,1,Vessel 7,2] (value 0.0)>,\n",
       " (1, 2, Vessel 7, 1): <gurobi.Var o[1,2,Vessel 7,1] (value 0.0)>,\n",
       " (1, 2, Vessel 7, 2): <gurobi.Var o[1,2,Vessel 7,2] (value 0.0)>,\n",
       " (1, 3, Vessel 7, 1): <gurobi.Var o[1,3,Vessel 7,1] (value 0.0)>,\n",
       " (1, 3, Vessel 7, 2): <gurobi.Var o[1,3,Vessel 7,2] (value 0.0)>,\n",
       " (1, 4, Vessel 7, 1): <gurobi.Var o[1,4,Vessel 7,1] (value 0.0)>,\n",
       " (1, 4, Vessel 7, 2): <gurobi.Var o[1,4,Vessel 7,2] (value 0.0)>,\n",
       " (1, 5, Vessel 7, 1): <gurobi.Var o[1,5,Vessel 7,1] (value 0.0)>,\n",
       " (1, 5, Vessel 7, 2): <gurobi.Var o[1,5,Vessel 7,2] (value 0.0)>,\n",
       " (1, 6, Vessel 7, 1): <gurobi.Var o[1,6,Vessel 7,1] (value 0.0)>,\n",
       " (1, 6, Vessel 7, 2): <gurobi.Var o[1,6,Vessel 7,2] (value 0.0)>,\n",
       " (1, 7, Vessel 7, 1): <gurobi.Var o[1,7,Vessel 7,1] (value 0.0)>,\n",
       " (1, 7, Vessel 7, 2): <gurobi.Var o[1,7,Vessel 7,2] (value 0.0)>,\n",
       " (1, 8, Vessel 7, 1): <gurobi.Var o[1,8,Vessel 7,1] (value 0.0)>,\n",
       " (1, 8, Vessel 7, 2): <gurobi.Var o[1,8,Vessel 7,2] (value 0.0)>,\n",
       " (1, 9, Vessel 7, 1): <gurobi.Var o[1,9,Vessel 7,1] (value 0.0)>,\n",
       " (1, 9, Vessel 7, 2): <gurobi.Var o[1,9,Vessel 7,2] (value 0.0)>,\n",
       " (1, 10, Vessel 7, 1): <gurobi.Var o[1,10,Vessel 7,1] (value 0.0)>,\n",
       " (1, 10, Vessel 7, 2): <gurobi.Var o[1,10,Vessel 7,2] (value 0.0)>,\n",
       " (1, 11, Vessel 7, 1): <gurobi.Var o[1,11,Vessel 7,1] (value 0.0)>,\n",
       " (1, 11, Vessel 7, 2): <gurobi.Var o[1,11,Vessel 7,2] (value 0.0)>,\n",
       " (1, 12, Vessel 7, 1): <gurobi.Var o[1,12,Vessel 7,1] (value 0.0)>,\n",
       " (1, 12, Vessel 7, 2): <gurobi.Var o[1,12,Vessel 7,2] (value 0.0)>,\n",
       " (1, 13, Vessel 7, 1): <gurobi.Var o[1,13,Vessel 7,1] (value 0.0)>,\n",
       " (1, 13, Vessel 7, 2): <gurobi.Var o[1,13,Vessel 7,2] (value 0.0)>,\n",
       " (1, 14, Vessel 7, 1): <gurobi.Var o[1,14,Vessel 7,1] (value -0.0)>,\n",
       " (1, 14, Vessel 7, 2): <gurobi.Var o[1,14,Vessel 7,2] (value 0.0)>,\n",
       " (1, 15, Vessel 7, 1): <gurobi.Var o[1,15,Vessel 7,1] (value -0.0)>,\n",
       " (1, 15, Vessel 7, 2): <gurobi.Var o[1,15,Vessel 7,2] (value 0.0)>,\n",
       " (1, 16, Vessel 7, 1): <gurobi.Var o[1,16,Vessel 7,1] (value -0.0)>,\n",
       " (1, 16, Vessel 7, 2): <gurobi.Var o[1,16,Vessel 7,2] (value 0.0)>,\n",
       " (1, 17, Vessel 7, 1): <gurobi.Var o[1,17,Vessel 7,1] (value 1.0)>,\n",
       " (1, 17, Vessel 7, 2): <gurobi.Var o[1,17,Vessel 7,2] (value 0.0)>,\n",
       " (1, 18, Vessel 7, 1): <gurobi.Var o[1,18,Vessel 7,1] (value -0.0)>,\n",
       " (1, 18, Vessel 7, 2): <gurobi.Var o[1,18,Vessel 7,2] (value 0.0)>,\n",
       " (1, 19, Vessel 7, 1): <gurobi.Var o[1,19,Vessel 7,1] (value -0.0)>,\n",
       " (1, 19, Vessel 7, 2): <gurobi.Var o[1,19,Vessel 7,2] (value 0.0)>,\n",
       " (1, 20, Vessel 7, 1): <gurobi.Var o[1,20,Vessel 7,1] (value 0.0)>,\n",
       " (1, 20, Vessel 7, 2): <gurobi.Var o[1,20,Vessel 7,2] (value 0.0)>,\n",
       " (1, 21, Vessel 7, 1): <gurobi.Var o[1,21,Vessel 7,1] (value 0.0)>,\n",
       " (1, 21, Vessel 7, 2): <gurobi.Var o[1,21,Vessel 7,2] (value 0.0)>,\n",
       " (1, 22, Vessel 7, 1): <gurobi.Var o[1,22,Vessel 7,1] (value 0.0)>,\n",
       " (1, 22, Vessel 7, 2): <gurobi.Var o[1,22,Vessel 7,2] (value 0.0)>,\n",
       " (1, 23, Vessel 7, 1): <gurobi.Var o[1,23,Vessel 7,1] (value 0.0)>,\n",
       " (1, 23, Vessel 7, 2): <gurobi.Var o[1,23,Vessel 7,2] (value 0.0)>,\n",
       " (1, 24, Vessel 7, 1): <gurobi.Var o[1,24,Vessel 7,1] (value 0.0)>,\n",
       " (1, 24, Vessel 7, 2): <gurobi.Var o[1,24,Vessel 7,2] (value 0.0)>,\n",
       " (1, 25, Vessel 7, 1): <gurobi.Var o[1,25,Vessel 7,1] (value -0.0)>,\n",
       " (1, 25, Vessel 7, 2): <gurobi.Var o[1,25,Vessel 7,2] (value 0.0)>,\n",
       " (1, 26, Vessel 7, 1): <gurobi.Var o[1,26,Vessel 7,1] (value -0.0)>,\n",
       " (1, 26, Vessel 7, 2): <gurobi.Var o[1,26,Vessel 7,2] (value 0.0)>,\n",
       " (1, 27, Vessel 7, 1): <gurobi.Var o[1,27,Vessel 7,1] (value 0.0)>,\n",
       " (1, 27, Vessel 7, 2): <gurobi.Var o[1,27,Vessel 7,2] (value 0.0)>,\n",
       " (1, 28, Vessel 7, 1): <gurobi.Var o[1,28,Vessel 7,1] (value 0.0)>,\n",
       " (1, 28, Vessel 7, 2): <gurobi.Var o[1,28,Vessel 7,2] (value 0.0)>,\n",
       " (1, 29, Vessel 7, 1): <gurobi.Var o[1,29,Vessel 7,1] (value 0.0)>,\n",
       " (1, 29, Vessel 7, 2): <gurobi.Var o[1,29,Vessel 7,2] (value 0.0)>,\n",
       " (1, 30, Vessel 7, 1): <gurobi.Var o[1,30,Vessel 7,1] (value 0.0)>,\n",
       " (1, 30, Vessel 7, 2): <gurobi.Var o[1,30,Vessel 7,2] (value 0.0)>,\n",
       " (1, 31, Vessel 7, 1): <gurobi.Var o[1,31,Vessel 7,1] (value 0.0)>,\n",
       " (1, 31, Vessel 7, 2): <gurobi.Var o[1,31,Vessel 7,2] (value 0.0)>,\n",
       " (1, 32, Vessel 7, 1): <gurobi.Var o[1,32,Vessel 7,1] (value 0.0)>,\n",
       " (1, 32, Vessel 7, 2): <gurobi.Var o[1,32,Vessel 7,2] (value -0.0)>,\n",
       " (1, 33, Vessel 7, 1): <gurobi.Var o[1,33,Vessel 7,1] (value 0.0)>,\n",
       " (1, 33, Vessel 7, 2): <gurobi.Var o[1,33,Vessel 7,2] (value -0.0)>,\n",
       " (1, 34, Vessel 7, 1): <gurobi.Var o[1,34,Vessel 7,1] (value 0.0)>,\n",
       " (1, 34, Vessel 7, 2): <gurobi.Var o[1,34,Vessel 7,2] (value 0.0)>,\n",
       " (1, 35, Vessel 7, 1): <gurobi.Var o[1,35,Vessel 7,1] (value 0.0)>,\n",
       " (1, 35, Vessel 7, 2): <gurobi.Var o[1,35,Vessel 7,2] (value -0.0)>,\n",
       " (1, 36, Vessel 7, 1): <gurobi.Var o[1,36,Vessel 7,1] (value 0.0)>,\n",
       " (1, 36, Vessel 7, 2): <gurobi.Var o[1,36,Vessel 7,2] (value 0.0)>,\n",
       " (1, 37, Vessel 7, 1): <gurobi.Var o[1,37,Vessel 7,1] (value 0.0)>,\n",
       " (1, 37, Vessel 7, 2): <gurobi.Var o[1,37,Vessel 7,2] (value -0.0)>,\n",
       " (1, 38, Vessel 7, 1): <gurobi.Var o[1,38,Vessel 7,1] (value 0.0)>,\n",
       " (1, 38, Vessel 7, 2): <gurobi.Var o[1,38,Vessel 7,2] (value -0.0)>,\n",
       " (1, 39, Vessel 7, 1): <gurobi.Var o[1,39,Vessel 7,1] (value 0.0)>,\n",
       " (1, 39, Vessel 7, 2): <gurobi.Var o[1,39,Vessel 7,2] (value 0.0)>,\n",
       " (1, 40, Vessel 7, 1): <gurobi.Var o[1,40,Vessel 7,1] (value 0.0)>,\n",
       " (1, 40, Vessel 7, 2): <gurobi.Var o[1,40,Vessel 7,2] (value 0.0)>,\n",
       " (1, 41, Vessel 7, 1): <gurobi.Var o[1,41,Vessel 7,1] (value 0.0)>,\n",
       " (1, 41, Vessel 7, 2): <gurobi.Var o[1,41,Vessel 7,2] (value 1.0)>,\n",
       " (1, 42, Vessel 7, 1): <gurobi.Var o[1,42,Vessel 7,1] (value 0.0)>,\n",
       " (1, 42, Vessel 7, 2): <gurobi.Var o[1,42,Vessel 7,2] (value -0.0)>,\n",
       " (1, 43, Vessel 7, 1): <gurobi.Var o[1,43,Vessel 7,1] (value 0.0)>,\n",
       " (1, 43, Vessel 7, 2): <gurobi.Var o[1,43,Vessel 7,2] (value -0.0)>,\n",
       " (1, 44, Vessel 7, 1): <gurobi.Var o[1,44,Vessel 7,1] (value 0.0)>,\n",
       " (1, 44, Vessel 7, 2): <gurobi.Var o[1,44,Vessel 7,2] (value -0.0)>,\n",
       " (1, 45, Vessel 7, 1): <gurobi.Var o[1,45,Vessel 7,1] (value 0.0)>,\n",
       " (1, 45, Vessel 7, 2): <gurobi.Var o[1,45,Vessel 7,2] (value 0.0)>,\n",
       " (3, 1, Vessel 7, 1): <gurobi.Var o[3,1,Vessel 7,1] (value 0.0)>,\n",
       " (3, 1, Vessel 7, 2): <gurobi.Var o[3,1,Vessel 7,2] (value 0.0)>,\n",
       " (3, 2, Vessel 7, 1): <gurobi.Var o[3,2,Vessel 7,1] (value 0.0)>,\n",
       " (3, 2, Vessel 7, 2): <gurobi.Var o[3,2,Vessel 7,2] (value 0.0)>,\n",
       " (3, 3, Vessel 7, 1): <gurobi.Var o[3,3,Vessel 7,1] (value 0.0)>,\n",
       " (3, 3, Vessel 7, 2): <gurobi.Var o[3,3,Vessel 7,2] (value 0.0)>,\n",
       " (3, 4, Vessel 7, 1): <gurobi.Var o[3,4,Vessel 7,1] (value 0.0)>,\n",
       " (3, 4, Vessel 7, 2): <gurobi.Var o[3,4,Vessel 7,2] (value 0.0)>,\n",
       " (3, 5, Vessel 7, 1): <gurobi.Var o[3,5,Vessel 7,1] (value 1.0)>,\n",
       " (3, 5, Vessel 7, 2): <gurobi.Var o[3,5,Vessel 7,2] (value 0.0)>,\n",
       " (3, 6, Vessel 7, 1): <gurobi.Var o[3,6,Vessel 7,1] (value 0.0)>,\n",
       " (3, 6, Vessel 7, 2): <gurobi.Var o[3,6,Vessel 7,2] (value 0.0)>,\n",
       " (3, 7, Vessel 7, 1): <gurobi.Var o[3,7,Vessel 7,1] (value 0.0)>,\n",
       " (3, 7, Vessel 7, 2): <gurobi.Var o[3,7,Vessel 7,2] (value 0.0)>,\n",
       " (3, 8, Vessel 7, 1): <gurobi.Var o[3,8,Vessel 7,1] (value 0.0)>,\n",
       " (3, 8, Vessel 7, 2): <gurobi.Var o[3,8,Vessel 7,2] (value 0.0)>,\n",
       " (3, 9, Vessel 7, 1): <gurobi.Var o[3,9,Vessel 7,1] (value 0.0)>,\n",
       " (3, 9, Vessel 7, 2): <gurobi.Var o[3,9,Vessel 7,2] (value 0.0)>,\n",
       " (3, 10, Vessel 7, 1): <gurobi.Var o[3,10,Vessel 7,1] (value 0.0)>,\n",
       " (3, 10, Vessel 7, 2): <gurobi.Var o[3,10,Vessel 7,2] (value 0.0)>,\n",
       " (3, 11, Vessel 7, 1): <gurobi.Var o[3,11,Vessel 7,1] (value 0.0)>,\n",
       " (3, 11, Vessel 7, 2): <gurobi.Var o[3,11,Vessel 7,2] (value 0.0)>,\n",
       " (3, 12, Vessel 7, 1): <gurobi.Var o[3,12,Vessel 7,1] (value 0.0)>,\n",
       " (3, 12, Vessel 7, 2): <gurobi.Var o[3,12,Vessel 7,2] (value 0.0)>,\n",
       " (3, 13, Vessel 7, 1): <gurobi.Var o[3,13,Vessel 7,1] (value 0.0)>,\n",
       " (3, 13, Vessel 7, 2): <gurobi.Var o[3,13,Vessel 7,2] (value 0.0)>,\n",
       " (3, 14, Vessel 7, 1): <gurobi.Var o[3,14,Vessel 7,1] (value 0.0)>,\n",
       " (3, 14, Vessel 7, 2): <gurobi.Var o[3,14,Vessel 7,2] (value 0.0)>,\n",
       " (3, 15, Vessel 7, 1): <gurobi.Var o[3,15,Vessel 7,1] (value 0.0)>,\n",
       " (3, 15, Vessel 7, 2): <gurobi.Var o[3,15,Vessel 7,2] (value 0.0)>,\n",
       " (3, 16, Vessel 7, 1): <gurobi.Var o[3,16,Vessel 7,1] (value 0.0)>,\n",
       " (3, 16, Vessel 7, 2): <gurobi.Var o[3,16,Vessel 7,2] (value 0.0)>,\n",
       " (3, 17, Vessel 7, 1): <gurobi.Var o[3,17,Vessel 7,1] (value 0.0)>,\n",
       " (3, 17, Vessel 7, 2): <gurobi.Var o[3,17,Vessel 7,2] (value 0.0)>,\n",
       " (3, 18, Vessel 7, 1): <gurobi.Var o[3,18,Vessel 7,1] (value 0.0)>,\n",
       " (3, 18, Vessel 7, 2): <gurobi.Var o[3,18,Vessel 7,2] (value 0.0)>,\n",
       " (3, 19, Vessel 7, 1): <gurobi.Var o[3,19,Vessel 7,1] (value 0.0)>,\n",
       " (3, 19, Vessel 7, 2): <gurobi.Var o[3,19,Vessel 7,2] (value 0.0)>,\n",
       " (3, 20, Vessel 7, 1): <gurobi.Var o[3,20,Vessel 7,1] (value 0.0)>,\n",
       " (3, 20, Vessel 7, 2): <gurobi.Var o[3,20,Vessel 7,2] (value 0.0)>,\n",
       " (3, 21, Vessel 7, 1): <gurobi.Var o[3,21,Vessel 7,1] (value 0.0)>,\n",
       " (3, 21, Vessel 7, 2): <gurobi.Var o[3,21,Vessel 7,2] (value 0.0)>,\n",
       " (3, 22, Vessel 7, 1): <gurobi.Var o[3,22,Vessel 7,1] (value 0.0)>,\n",
       " (3, 22, Vessel 7, 2): <gurobi.Var o[3,22,Vessel 7,2] (value 0.0)>,\n",
       " (3, 23, Vessel 7, 1): <gurobi.Var o[3,23,Vessel 7,1] (value 0.0)>,\n",
       " (3, 23, Vessel 7, 2): <gurobi.Var o[3,23,Vessel 7,2] (value -0.0)>,\n",
       " (3, 24, Vessel 7, 1): <gurobi.Var o[3,24,Vessel 7,1] (value 0.0)>,\n",
       " (3, 24, Vessel 7, 2): <gurobi.Var o[3,24,Vessel 7,2] (value -0.0)>,\n",
       " (3, 25, Vessel 7, 1): <gurobi.Var o[3,25,Vessel 7,1] (value 0.0)>,\n",
       " (3, 25, Vessel 7, 2): <gurobi.Var o[3,25,Vessel 7,2] (value -0.0)>,\n",
       " (3, 26, Vessel 7, 1): <gurobi.Var o[3,26,Vessel 7,1] (value 0.0)>,\n",
       " (3, 26, Vessel 7, 2): <gurobi.Var o[3,26,Vessel 7,2] (value -0.0)>,\n",
       " (3, 27, Vessel 7, 1): <gurobi.Var o[3,27,Vessel 7,1] (value 0.0)>,\n",
       " (3, 27, Vessel 7, 2): <gurobi.Var o[3,27,Vessel 7,2] (value -0.0)>,\n",
       " (3, 28, Vessel 7, 1): <gurobi.Var o[3,28,Vessel 7,1] (value 0.0)>,\n",
       " (3, 28, Vessel 7, 2): <gurobi.Var o[3,28,Vessel 7,2] (value 1.0)>,\n",
       " (3, 29, Vessel 7, 1): <gurobi.Var o[3,29,Vessel 7,1] (value 0.0)>,\n",
       " (3, 29, Vessel 7, 2): <gurobi.Var o[3,29,Vessel 7,2] (value -0.0)>,\n",
       " (3, 30, Vessel 7, 1): <gurobi.Var o[3,30,Vessel 7,1] (value 0.0)>,\n",
       " (3, 30, Vessel 7, 2): <gurobi.Var o[3,30,Vessel 7,2] (value -0.0)>,\n",
       " (3, 31, Vessel 7, 1): <gurobi.Var o[3,31,Vessel 7,1] (value 0.0)>,\n",
       " (3, 31, Vessel 7, 2): <gurobi.Var o[3,31,Vessel 7,2] (value -0.0)>,\n",
       " (3, 32, Vessel 7, 1): <gurobi.Var o[3,32,Vessel 7,1] (value 0.0)>,\n",
       " (3, 32, Vessel 7, 2): <gurobi.Var o[3,32,Vessel 7,2] (value -0.0)>,\n",
       " (3, 33, Vessel 7, 1): <gurobi.Var o[3,33,Vessel 7,1] (value 0.0)>,\n",
       " (3, 33, Vessel 7, 2): <gurobi.Var o[3,33,Vessel 7,2] (value 0.0)>,\n",
       " (3, 34, Vessel 7, 1): <gurobi.Var o[3,34,Vessel 7,1] (value 0.0)>,\n",
       " (3, 34, Vessel 7, 2): <gurobi.Var o[3,34,Vessel 7,2] (value -0.0)>,\n",
       " (3, 35, Vessel 7, 1): <gurobi.Var o[3,35,Vessel 7,1] (value 0.0)>,\n",
       " (3, 35, Vessel 7, 2): <gurobi.Var o[3,35,Vessel 7,2] (value -0.0)>,\n",
       " (3, 36, Vessel 7, 1): <gurobi.Var o[3,36,Vessel 7,1] (value 0.0)>,\n",
       " (3, 36, Vessel 7, 2): <gurobi.Var o[3,36,Vessel 7,2] (value 0.0)>,\n",
       " (3, 37, Vessel 7, 1): <gurobi.Var o[3,37,Vessel 7,1] (value 0.0)>,\n",
       " (3, 37, Vessel 7, 2): <gurobi.Var o[3,37,Vessel 7,2] (value 0.0)>,\n",
       " (3, 38, Vessel 7, 1): <gurobi.Var o[3,38,Vessel 7,1] (value 0.0)>,\n",
       " (3, 38, Vessel 7, 2): <gurobi.Var o[3,38,Vessel 7,2] (value 0.0)>,\n",
       " (3, 39, Vessel 7, 1): <gurobi.Var o[3,39,Vessel 7,1] (value 0.0)>,\n",
       " (3, 39, Vessel 7, 2): <gurobi.Var o[3,39,Vessel 7,2] (value 0.0)>,\n",
       " (3, 40, Vessel 7, 1): <gurobi.Var o[3,40,Vessel 7,1] (value 0.0)>,\n",
       " (3, 40, Vessel 7, 2): <gurobi.Var o[3,40,Vessel 7,2] (value 0.0)>,\n",
       " (3, 41, Vessel 7, 1): <gurobi.Var o[3,41,Vessel 7,1] (value 0.0)>,\n",
       " (3, 41, Vessel 7, 2): <gurobi.Var o[3,41,Vessel 7,2] (value 0.0)>,\n",
       " (3, 42, Vessel 7, 1): <gurobi.Var o[3,42,Vessel 7,1] (value 0.0)>,\n",
       " (3, 42, Vessel 7, 2): <gurobi.Var o[3,42,Vessel 7,2] (value 0.0)>,\n",
       " (3, 43, Vessel 7, 1): <gurobi.Var o[3,43,Vessel 7,1] (value 0.0)>,\n",
       " (3, 43, Vessel 7, 2): <gurobi.Var o[3,43,Vessel 7,2] (value 0.0)>,\n",
       " (3, 44, Vessel 7, 1): <gurobi.Var o[3,44,Vessel 7,1] (value 0.0)>,\n",
       " (3, 44, Vessel 7, 2): <gurobi.Var o[3,44,Vessel 7,2] (value 0.0)>,\n",
       " (3, 45, Vessel 7, 1): <gurobi.Var o[3,45,Vessel 7,1] (value 0.0)>,\n",
       " (3, 45, Vessel 7, 2): <gurobi.Var o[3,45,Vessel 7,2] (value 0.0)>}"
      ]
     },
     "execution_count": 105,
     "metadata": {},
     "output_type": "execute_result"
    }
   ],
   "source": [
    "# Print all o variables\n",
    "o\n"
   ]
  },
  {
   "cell_type": "code",
   "execution_count": 106,
   "metadata": {},
   "outputs": [],
   "source": [
    "# for v in vessels:\n",
    "#     visualize_solution_for_vessel(v, vessel_routes_incl_wa)\n",
    "    "
   ]
  },
  {
   "cell_type": "code",
   "execution_count": 107,
   "metadata": {},
   "outputs": [],
   "source": [
    "# for v in vessels:\n",
    "#     visualize_network_for_vessel(v, vessel_arcs, True)\n"
   ]
  },
  {
   "cell_type": "code",
   "execution_count": 108,
   "metadata": {},
   "outputs": [],
   "source": [
    "# Print all x-vars that are 1\n",
    "active_arcs = {}\n",
    "for v in vessels:\n",
    "    v_arcs_active = []\n",
    "    for arc in vessel_arcs[v]:\n",
    "        if x[arc.tuple, v].x > 0 + EBS:\n",
    "            v_arcs_active.append(arc)\n",
    "    active_arcs[v] = v_arcs_active"
   ]
  },
  {
   "cell_type": "markdown",
   "metadata": {},
   "source": [
    "# LOG"
   ]
  },
  {
   "cell_type": "code",
   "execution_count": 109,
   "metadata": {},
   "outputs": [],
   "source": [
    "def log(filepath):\n",
    "    # Open a file to write the results\n",
    "    with open(filepath, 'w') as file:\n",
    "        \n",
    "        file.write(\"Hyperparameters:\\n\")\n",
    "        file.write(f\"Number of Time Periods: {NUM_TIME_PERIODS}\\n\")\n",
    "        file.write(f\"Time Period Range: {TIME_PERIOD_RANGE}\\n\")\n",
    "        file.write(f\"Original Number of Vessels: {ORIGINAL_NUM_VESSELS}\\n\")\n",
    "        file.write(f\"Number of Vessels: {NUM_VESSELS}\\n\")\n",
    "        file.write(f\"Max Speed: {MAX_SPEED}\\n\")\n",
    "        file.write(f\"Min Speed: {MIN_SPEED}\\n\")\n",
    "        file.write(f\"Operating Speed: {OPERATING_SPEED}\\n\")\n",
    "        file.write(f\"Operating Cost: {OPERATING_COST}\\n\")\n",
    "        file.write(f\"Waiting Cost: {WAITING_COST}\\n\")\n",
    "        file.write(f\"Fuel Price (USD/ton): {FUEL_PRICE}\\n\\n\")\n",
    "        file.write(f\"Number of ports: {NUM_PORTS}\\n\\n\")\n",
    "        \n",
    "        file.write(\"\\nPorts:\\n\")\n",
    "        for port in ports:\n",
    "            file.write(f\"{port.__repr2__()}\\n\")\n",
    "            \n",
    "        file.write(\"\\nVessels:\\n\")\n",
    "        for vessel in vessels:\n",
    "            file.write(f\"{vessel.__repr2__()}\\n\")\n",
    "        \n",
    "        file.write(\"\\nFull distance matrix:\\n\")\n",
    "        for row in FULL_DISTANCE_MATRIX:\n",
    "            row_str = ', '.join([f\"{item:.4f}\" for item in row])  # Format each item in the row\n",
    "            file.write(f\"[{row_str}]\\n\")\n",
    "            \n",
    "        file.write(\"\\n Start times:\\n\")\n",
    "        for vessel in vessels:\n",
    "            file.write(f\"{vessel}: {start_times[vessel]}\\n\")\n",
    "        file.write(\"\\n\")\n",
    "        \n",
    "        file.write(\"----------------------------------------\\n\")\n",
    "        # Write the objective value\n",
    "        file.write(f\"Objective Value: {m.objVal}\\n\")    \n",
    "        file.write(\"----------------------------------------\\n\")\n",
    "        \n",
    "        # Log the GAP\n",
    "        file.write(\"\\nOptimality Gap:\\n\")\n",
    "        gap_percentage = m.MIPGap * 100  # Convert to percentage\n",
    "        file.write(f\"Current GAP: {gap_percentage:.2f}%\\n\")\n",
    "        \n",
    "        file.write(\"\\nVessel Routes:\\n\")\n",
    "        for vessel, route in vessel_routes_seq.items():\n",
    "            file.write(f\"{vessel}: {route}\\n\")\n",
    "            \n",
    "        # Write the active arcs to file\n",
    "        file.write(\"\\nActive Arcs:\\n\")\n",
    "        for vessel in vessels:\n",
    "            file.write(f\"{vessel}: {[arc for arc in active_arcs[vessel]]}\\n\")\n",
    "        file.write(\"\\n\")\n",
    "        \n",
    "        # Write the all arcs to file\n",
    "        file.write(\"\\nAll Arcs:\\n\")\n",
    "        for vessel in vessels:\n",
    "            file.write(f\"{vessel}: {[arc for arc in vessel_arcs[vessel]]}\\n\")\n",
    "        file.write(\"\\n\")\n",
    "\n",
    "        # Write the values of all variables\n",
    "        file.write(\"Variable Values:\\n\")\n",
    "        for var in m.getVars():\n",
    "            file.write(f\"{var.varName}: {var.x}\\n\")\n",
    "            \n",
    "        file.close()"
   ]
  },
  {
   "cell_type": "code",
   "execution_count": 110,
   "metadata": {},
   "outputs": [],
   "source": [
    "if LOG:\n",
    "    log(FILEPATH)"
   ]
  },
  {
   "cell_type": "code",
   "execution_count": 111,
   "metadata": {},
   "outputs": [
    {
     "data": {
      "text/plain": [
       "True"
      ]
     },
     "execution_count": 111,
     "metadata": {},
     "output_type": "execute_result"
    }
   ],
   "source": [
    "LOG"
   ]
  },
  {
   "cell_type": "code",
   "execution_count": 112,
   "metadata": {},
   "outputs": [
    {
     "data": {
      "text/plain": [
       "'new_official_solutions/LR1_1_DR1_3_VC1_V7a/MIRP_RF_SPEED_OPTI_results_LR1_1_DR1_3_VC1_V7a_45_FA.txt'"
      ]
     },
     "execution_count": 112,
     "metadata": {},
     "output_type": "execute_result"
    }
   ],
   "source": [
    "FILEPATH"
   ]
  },
  {
   "cell_type": "code",
   "execution_count": null,
   "metadata": {},
   "outputs": [],
   "source": []
  }
 ],
 "metadata": {
  "kernelspec": {
   "display_name": "env",
   "language": "python",
   "name": "python3"
  },
  "language_info": {
   "codemirror_mode": {
    "name": "ipython",
    "version": 3
   },
   "file_extension": ".py",
   "mimetype": "text/x-python",
   "name": "python",
   "nbconvert_exporter": "python",
   "pygments_lexer": "ipython3",
   "version": "3.10.4"
  }
 },
 "nbformat": 4,
 "nbformat_minor": 2
}

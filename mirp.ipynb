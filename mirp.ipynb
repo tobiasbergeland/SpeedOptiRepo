{
 "cells": [
  {
   "cell_type": "code",
   "execution_count": 22,
   "metadata": {},
   "outputs": [],
   "source": [
    "import pandas as pd\n",
    "import numpy as np\n",
    "import gurobipy as gp\n",
    "from gurobipy import GRB\n",
    "import csv"
   ]
  },
  {
   "cell_type": "code",
   "execution_count": 23,
   "metadata": {},
   "outputs": [],
   "source": [
    "m = gp.Model('Maritime Inventory Routing Problem')"
   ]
  },
  {
   "cell_type": "markdown",
   "metadata": {},
   "source": [
    "# Creating classes in order organize the code"
   ]
  },
  {
   "cell_type": "code",
   "execution_count": 24,
   "metadata": {},
   "outputs": [],
   "source": [
    "'''Simplifying by having inf max inventory for all ports.'''\n",
    "class Port:\n",
    "    def __init__(self, number, berths):\n",
    "        self.number = number\n",
    "        self.berths = berths\n",
    "        self.max_inventory = np.inf\n",
    "\n",
    "class Node:\n",
    "    def __init__(self, port, time):\n",
    "        self.port = port\n",
    "        self.time = time\n",
    "        self.tuple = (port.number, time)\n",
    "        self.incoming_arcs = set()\n",
    "        self.outgoing_arcs = set()\n",
    "        self.berths = port.berths\n",
    "    \n",
    "    def __repr__(self):\n",
    "        return str(self.tuple)\n",
    "\n",
    "\n",
    "class Arc:\n",
    "    '''Lack distance'''\n",
    "    '''Cost should be fixed to the arc for basic MIRP.\n",
    "    In MIRPSO, the cost is a function of speed and distance.'''\n",
    "    def __init__(self, origin_node, destination_node):\n",
    "        self.origin_node = origin_node\n",
    "        self.destination_node = destination_node\n",
    "        self.tuple = (origin_node, destination_node)\n",
    "        # self.cost = cost\n",
    "    \n",
    "    def __repr__(self):\n",
    "        return str(self.origin_node) + ' -> ' + str(self.destination_node)\n",
    "\n",
    "class Vessel:\n",
    "    def __init__(self, max_inventory, initial_inventory):\n",
    "        self.max_inventory = max_inventory\n",
    "        self.inventory = initial_inventory\n",
    "        "
   ]
  },
  {
   "cell_type": "markdown",
   "metadata": {},
   "source": [
    "# Initial Parameters\n",
    "\n",
    "All parameters should be set below"
   ]
  },
  {
   "cell_type": "code",
   "execution_count": 25,
   "metadata": {},
   "outputs": [],
   "source": [
    "# Time periods\n",
    "T = 3\n",
    "\n",
    "# Number of vessels\n",
    "V = 3\n",
    "\n",
    "# Number of ports\n",
    "P = 3"
   ]
  },
  {
   "cell_type": "markdown",
   "metadata": {},
   "source": [
    "# Sets\n",
    "\n",
    "Initializing sets"
   ]
  },
  {
   "cell_type": "code",
   "execution_count": 26,
   "metadata": {},
   "outputs": [],
   "source": [
    "# Create a set of time periods from 1 to T.\n",
    "time_period_range = set(range(1, T+1))\n",
    "\n",
    "# Create a set of vessels from 1 to V\n",
    "vessel_range = set(range(1, V+1))\n",
    "\n",
    "# Create a set of ports from 1 to P\n",
    "port_range = set(range(1, P+1))\n",
    "\n",
    "ports = []\n",
    "# Add source port\n",
    "ports.append(Port(number=0, berths=V))\n",
    "# For each port, create a Port object and add it to the set of ports\n",
    "for i in port_range:\n",
    "    ports.append(Port(number=i, berths=1))\n",
    "# Add sink port\n",
    "ports.append(Port(number=P+1, berths=V))\n",
    "\n",
    "nodes = []\n",
    "# Add source node\n",
    "nodes.append(Node(port=ports[0], time=0))\n",
    "# Create a set of regular nodes\n",
    "regualar_ports = ports[1:-1]\n",
    "nodes.extend(Node(port=j, time=t) for j in regualar_ports for t in time_period_range)\n",
    "# Add sink nodes\n",
    "nodes.append(Node(port=ports[P+1], time=T+1))\n",
    "\n",
    "\n",
    "# Create a set of all incoming arcs to node n associated with vessel v in a time-space model\n",
    "# There can only be an arc from a node to another node if the time period of the first node is less than the time period of the second node\n",
    "def incoming_arcs(node, nodes):\n",
    "    return {Arc(origin_node=i, destination_node=node) for i in nodes if i.time < node.time}\n",
    "\n",
    "# Create a set of all outgoing arcs from node n associated with vessel v in a time-space model\n",
    "# There can only be an arc from a node to another node if the time period of the first node is less than the time period of the second node\n",
    "def outgoing_arcs(node, nodes):\n",
    "    return {Arc(origin_node=node, destination_node=j) for j in nodes if node.time < j.time}\n",
    "\n",
    "# Create the set of arcs associated with vessel v in a time-space model\n",
    "# Note: The arcs need to be revised so that only feasible travels are included\n",
    "def generate_all_arcs(nodes):\n",
    "    arcs = set()\n",
    "    \n",
    "    # Arcs between all nodes\n",
    "    for n in nodes:\n",
    "        arcs.update(outgoing_arcs(n, nodes))\n",
    "    return arcs"
   ]
  },
  {
   "cell_type": "code",
   "execution_count": 27,
   "metadata": {},
   "outputs": [],
   "source": [
    "'''Need additional data to create the ports correctly in regards to the number of berths.\n",
    "For now, we will assume that each port has one berth.'''\n",
    "\n",
    "# Create the vessels. Homogenous fleet for now.\n",
    "vessels = []\n",
    "for v in vessel_range:\n",
    "    vessel = Vessel(max_inventory=10, initial_inventory=0)\n",
    "    vessels.append(vessel)\n",
    "    \n",
    "# Create the arcs\n",
    "all_arcs = generate_all_arcs(nodes)\n",
    "\n",
    "# Create the arcs for each node\n",
    "for n in nodes:\n",
    "    for a in all_arcs:\n",
    "        if a.origin_node.tuple == n.tuple:\n",
    "            n.outgoing_arcs.add(a)\n",
    "        if a.destination_node.tuple == n.tuple:\n",
    "            n.incoming_arcs.add(a)"
   ]
  },
  {
   "cell_type": "markdown",
   "metadata": {},
   "source": [
    "### All nodes and arcs have been created.\n",
    "### Starting with Gurobi"
   ]
  },
  {
   "cell_type": "code",
   "execution_count": 31,
   "metadata": {},
   "outputs": [],
   "source": [
    "'''Creating the variables'''\n",
    "'''Binary first'''\n",
    "# x is the binary variable that indicates whether a vessel travels on arc a, where and arc is a route frome one node to another node. \n",
    "x = m.addVars((arc.tuple for arc in all_arcs), vtype=GRB.BINARY, name=\"x\")\n",
    "\n",
    "# o is the binary variable that indicates whether vessel v is operating (loading/unloading) at port p at time t\n",
    "o = m.addVars(((port.number, t, vessel) for port in ports for t in time_period_range for vessel in vessels), vtype=GRB.BINARY, name=\"o\")\n",
    "\n",
    "'''Continuous varibles'''\n",
    "# q is the amount of product loaded or unloaded at port i by vessel v at time t\n",
    "q_bounds = {(port.number, t, vessel): min(vessel.max_inventory, port.max_inventory) for port in ports for t in time_period_range for vessel in vessels}\n",
    "q = m.addVars(q_bounds.keys(), lb=0, ub=q_bounds, vtype=GRB.CONTINUOUS, name=\"q\")\n",
    "\n",
    "# s is the amount of product at port i at the end of period t\n",
    "s_bounds = {(port.number, t): port.max_inventory for port in ports for t in time_period_range}\n",
    "s = m.addVars(s_bounds.keys(), lb=0, ub=s_bounds, vtype=GRB.CONTINUOUS, name=\"s\")\n",
    "\n",
    "# w is the amount of product on board of vessel v at the end of time period t\n",
    "w_bounds = {(t, vessel): vessel.max_inventory for vessel in vessels for t in time_period_range}\n",
    "w = m.addVars(w_bounds.keys(), lb=0, ub=w_bounds, vtype=GRB.CONTINUOUS, name=\"w\")"
   ]
  },
  {
   "cell_type": "markdown",
   "metadata": {},
   "source": [
    "# Model parameters"
   ]
  },
  {
   "cell_type": "markdown",
   "metadata": {},
   "source": []
  }
 ],
 "metadata": {
  "kernelspec": {
   "display_name": "env",
   "language": "python",
   "name": "python3"
  },
  "language_info": {
   "codemirror_mode": {
    "name": "ipython",
    "version": 3
   },
   "file_extension": ".py",
   "mimetype": "text/x-python",
   "name": "python",
   "nbconvert_exporter": "python",
   "pygments_lexer": "ipython3",
   "version": "3.10.4"
  },
  "orig_nbformat": 4
 },
 "nbformat": 4,
 "nbformat_minor": 2
}

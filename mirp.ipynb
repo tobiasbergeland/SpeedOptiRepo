{
 "cells": [
  {
   "cell_type": "code",
   "execution_count": 102,
   "metadata": {},
   "outputs": [],
   "source": [
    "import pandas as pd\n",
    "import numpy as np\n",
    "import gurobipy as gp\n",
    "from gurobipy import GRB\n",
    "import csv"
   ]
  },
  {
   "cell_type": "code",
   "execution_count": 103,
   "metadata": {},
   "outputs": [],
   "source": [
    "m = gp.Model('Maritime Inventory Routing Problem')"
   ]
  },
  {
   "cell_type": "markdown",
   "metadata": {},
   "source": [
    "# Creating classes in order organize the code"
   ]
  },
  {
   "cell_type": "code",
   "execution_count": 116,
   "metadata": {},
   "outputs": [],
   "source": [
    "'''Simplifying by having inf max inventory for all ports.'''\n",
    "class Port:\n",
    "    def __init__(self, number, berths, isLoadingPort):\n",
    "        self.number = number\n",
    "        self.berths = berths\n",
    "        self.max_inventory = np.inf\n",
    "        self.loadingPort = isLoadingPort\n",
    "        \n",
    "    def __repr__(self):\n",
    "        return f'Port {self.number}'\n",
    "\n",
    "\n",
    "class Node:\n",
    "    def __init__(self, port, time):\n",
    "        self.port = port\n",
    "        self.time = time\n",
    "        if port==None:\n",
    "            self.tuple = (None, time)\n",
    "        else:\n",
    "            self.tuple = (port.number, time)\n",
    "        self.incoming_arcs = set()\n",
    "        self.outgoing_arcs = set()\n",
    "        self.berths = port.berths\n",
    "    \n",
    "    def __repr__(self):\n",
    "        return str(self.tuple)\n",
    "\n",
    "\n",
    "class Arc:\n",
    "    '''Lack distance'''\n",
    "    '''Cost should be fixed to the arc for basic MIRP.\n",
    "    In MIRPSO, the cost is a function of speed and distance.'''\n",
    "    def __init__(self, origin_node, destination_node):\n",
    "        self.origin_node = origin_node\n",
    "        self.destination_node = destination_node\n",
    "        self.tuple = (origin_node, destination_node)\n",
    "        # self.cost = cost\n",
    "    \n",
    "    def __repr__(self):\n",
    "        return str(self.origin_node) + ' -> ' + str(self.destination_node)\n",
    "\n",
    "class Vessel:\n",
    "    def __init__(self, max_inventory, initial_inventory, max_operating_quantity):\n",
    "        self.max_inventory = max_inventory\n",
    "        self.inventory = initial_inventory\n",
    "        self.max_operating_quantity = max_operating_quantity\n",
    "        "
   ]
  },
  {
   "cell_type": "markdown",
   "metadata": {},
   "source": [
    "## Read in metadata"
   ]
  },
  {
   "cell_type": "code",
   "execution_count": 115,
   "metadata": {},
   "outputs": [],
   "source": [
    "# Function to parse the metadata from the file content\n",
    "def parse_metadata(content):\n",
    "    metadata = {}\n",
    "    \n",
    "    # Extract lines between \"----- MetaData -----\" and the next section separator (empty line)\n",
    "    metadata_section = content[content.index(\"----- MetaData -----\\n\")+1 : content.index(\"\\n\", content.index(\"----- MetaData -----\\n\"))]\n",
    "    \n",
    "    for line in metadata_section:\n",
    "        if \":\" in line:\n",
    "            # Split the line at \":\" to extract the key and value\n",
    "            key, value = line.split(\":\")\n",
    "            # Store the key-value pair in the dictionary\n",
    "            metadata[key.strip()] = value.strip()\n",
    "    \n",
    "    return metadata\n"
   ]
  },
  {
   "cell_type": "code",
   "execution_count": 106,
   "metadata": {},
   "outputs": [
    {
     "data": {
      "text/plain": [
       "{'numPeriods': 3,\n",
       " 'numCommodities': 1,\n",
       " 'numLoadingRegions': 1,\n",
       " 'numDischargingRegions': 1,\n",
       " 'numLoadingPortsInRegion': [3],\n",
       " 'numDischargingPortsInRegion': [3],\n",
       " 'numVesselClasses': 1,\n",
       " 'numTermVesselsInClass': [3],\n",
       " 'hoursPerPeriod': 24,\n",
       " 'spotMarketPricePerUnit': 1.0,\n",
       " 'spotMarketDiscountFactor': 0.999,\n",
       " 'perPeriodRewardForFinishingEarly': 0.01,\n",
       " 'attemptCost': 0.01,\n",
       " 'constantForSinglePeriodAlphaSlack': 0.5,\n",
       " 'constantForCumulativeAlphaSlack': 1.0}"
      ]
     },
     "execution_count": 106,
     "metadata": {},
     "output_type": "execute_result"
    }
   ],
   "source": [
    "def read_and_assign_metadata(file_path):\n",
    "    # Read the file content\n",
    "    with open(file_path, 'r') as file:\n",
    "        content = file.readlines()\n",
    "\n",
    "    # Parse the metadata\n",
    "    metadata = parse_metadata(content)\n",
    "    \n",
    "    # Assign the metadata values to variables\n",
    "    numPeriods = int(metadata['numPeriods'])\n",
    "    numCommodities = int(metadata['numCommodities'])\n",
    "    numLoadingRegions = int(metadata['numLoadingRegions'])\n",
    "    numDischargingRegions = int(metadata['numDischargingRegions'])\n",
    "    numLoadingPortsInRegion = [int(x) for x in metadata['numLoadingPortsInRegion'][1:-1].split()]\n",
    "    numDischargingPortsInRegion = [int(x) for x in metadata['numDischargingPortsInRegion'][1:-1].split()]\n",
    "    numVesselClasses = int(metadata['numVesselClasses'])\n",
    "    numTermVesselsInClass = [int(x) for x in metadata['numTermVesselsInClass'][1:-1].split()]\n",
    "    hoursPerPeriod = int(metadata['hoursPerPeriod'])\n",
    "    spotMarketPricePerUnit = float(metadata['spotMarketPricePerUnit'])\n",
    "    spotMarketDiscountFactor = float(metadata['spotMarketDiscountFactor'])\n",
    "    perPeriodRewardForFinishingEarly = float(metadata['perPeriodRewardForFinishingEarly'])\n",
    "    attemptCost = float(metadata['attemptCost'])\n",
    "    constantForSinglePeriodAlphaSlack = float(metadata['constantForSinglePeriodAlphaSlack'])\n",
    "    constantForCumulativeAlphaSlack = float(metadata['constantForCumulativeAlphaSlack'])\n",
    "    \n",
    "    # Return the assigned variables\n",
    "    return {\n",
    "        'numPeriods': numPeriods,\n",
    "        'numCommodities': numCommodities,\n",
    "        'numLoadingRegions': numLoadingRegions,\n",
    "        'numDischargingRegions': numDischargingRegions,\n",
    "        'numLoadingPortsInRegion': numLoadingPortsInRegion,\n",
    "        'numDischargingPortsInRegion': numDischargingPortsInRegion,\n",
    "        'numVesselClasses': numVesselClasses,\n",
    "        'numTermVesselsInClass': numTermVesselsInClass,\n",
    "        'hoursPerPeriod': hoursPerPeriod,\n",
    "        'spotMarketPricePerUnit': spotMarketPricePerUnit,\n",
    "        'spotMarketDiscountFactor': spotMarketDiscountFactor,\n",
    "        'perPeriodRewardForFinishingEarly': perPeriodRewardForFinishingEarly,\n",
    "        'attemptCost': attemptCost,\n",
    "        'constantForSinglePeriodAlphaSlack': constantForSinglePeriodAlphaSlack,\n",
    "        'constantForCumulativeAlphaSlack': constantForCumulativeAlphaSlack\n",
    "    }\n",
    "\n",
    "# Read the metadata from the dummy data file and assign to variables\n",
    "variables = read_and_assign_metadata('data/dummy_data.txt')\n",
    "\n",
    "variables\n"
   ]
  },
  {
   "cell_type": "markdown",
   "metadata": {},
   "source": [
    "Metadata loaded in. Use only the most important data in the beginning. \n",
    "\n",
    "- numPeriods\n",
    "- numTermVesselsInClass (If only 1 numVesselClasses we have homogenous fleet.)\n",
    "- Set of ports:\n",
    "    - numLoadingRegions x numLoadingPortsInRegion\n",
    "    - numDischargingPortsInRegion x numDischargingPortsInRegion\n",
    "- Set of regular nodes\n",
    "    - Needs to be created based on the timeperiods and ports.\n",
    "- Set of all nodes\n",
    "    - Add sink and source node to the set of regular nodes.\n",
    "\n",
    "- The arcs do also need to be included"
   ]
  },
  {
   "cell_type": "markdown",
   "metadata": {},
   "source": [
    "# Initial Parameters\n",
    "\n",
    "All parameters should be set below"
   ]
  },
  {
   "cell_type": "code",
   "execution_count": 107,
   "metadata": {},
   "outputs": [],
   "source": [
    "# Time periods\n",
    "numTimePeriods = variables['numPeriods']\n",
    "\n",
    "# Number of vessels\n",
    "numVessels = variables['numTermVesselsInClass'][0]\n",
    "\n",
    "# Number of ports\n",
    "numLoadingPorts = 0\n",
    "for i in range(variables['numLoadingRegions']):\n",
    "    numLoadingPorts += variables['numLoadingPortsInRegion'][i]\n",
    "\n",
    "numDischargingPorts = 0\n",
    "for i in range(variables['numDischargingRegions']):\n",
    "    numDischargingPorts += variables['numDischargingPortsInRegion'][i]\n"
   ]
  },
  {
   "cell_type": "code",
   "execution_count": 108,
   "metadata": {},
   "outputs": [
    {
     "name": "stdout",
     "output_type": "stream",
     "text": [
      "Port 1\n",
      "Port 2\n",
      "Port 3\n",
      "Port 4\n",
      "Port 5\n",
      "Port 6\n"
     ]
    }
   ],
   "source": [
    "# Create ports. Only 1 berth per port for now.\n",
    "ports = []\n",
    "for i in range(1,numLoadingPorts+1):\n",
    "    port = Port(number=i, berths=1, isLoadingPort=True)\n",
    "    ports.append(port)\n",
    "\n",
    "for i in range(1,numDischargingPorts+1):\n",
    "    port = Port(number=i+numLoadingPorts, berths=1, isLoadingPort=False)\n",
    "    ports.append(port)\n",
    "    \n",
    "for port in ports:\n",
    "    print(port)"
   ]
  },
  {
   "cell_type": "code",
   "execution_count": 109,
   "metadata": {},
   "outputs": [],
   "source": [
    "# Create the vessels. Fixed max inventory and max_operating_quantity for now.\n",
    "vessels = []\n",
    "for i in range(numVessels):\n",
    "    vessel = Vessel(max_inventory=300, initial_inventory=0, max_operating_quantity=300)\n",
    "    vessels.append(vessel)"
   ]
  },
  {
   "cell_type": "code",
   "execution_count": 110,
   "metadata": {},
   "outputs": [],
   "source": [
    "# Create the regular nodes\n",
    "regularNodes = []\n",
    "for t in range(1, numTimePeriods+1):\n",
    "    for port in ports:\n",
    "        node = Node(port=port, time=t)\n",
    "        regularNodes.append(node)\n",
    "    \n",
    "    \n",
    "# Create fictional source and sink port\n",
    "sourcePort = Port(number=0, berths=len(vessels), isLoadingPort=True)\n",
    "sinkPort = Port(number=len(ports)+1, berths=len(vessels), isLoadingPort=False)\n",
    "\n",
    "# Create source and sink node\n",
    "sourceNode = Node(port=sourcePort, time=0)\n",
    "sinkNode = Node(port=sinkPort, time=numTimePeriods+1)\n",
    "\n",
    "nodes = [sourceNode] + regularNodes + [sinkNode]"
   ]
  },
  {
   "cell_type": "markdown",
   "metadata": {},
   "source": [
    "# Sets\n",
    "\n",
    "Initializing sets"
   ]
  },
  {
   "cell_type": "code",
   "execution_count": 111,
   "metadata": {},
   "outputs": [],
   "source": [
    "'''Using the parsed data instead'''\n",
    "\n",
    "# Create a set of all incoming arcs to node n associated with vessel v in a time-space model\n",
    "# There can only be an arc from a node to another node if the time period of the first node is less than the time period of the second node\n",
    "def incoming_arcs(node, nodes):\n",
    "    return {Arc(origin_node=i, destination_node=node) for i in nodes if i.time < node.time}\n",
    "\n",
    "# Create a set of all outgoing arcs from node n associated with vessel v in a time-space model\n",
    "# There can only be an arc from a node to another node if the time period of the first node is less than the time period of the second node\n",
    "def outgoing_arcs(node, nodes):\n",
    "    return {Arc(origin_node=node, destination_node=j) for j in nodes if node.time < j.time}\n",
    "\n",
    "# Create the set of arcs associated with vessel v in a time-space model\n",
    "# Note: The arcs need to be revised so that only feasible travels are included\n",
    "def generate_all_arcs(nodes):\n",
    "    arcs = set()\n",
    "    \n",
    "    # Arcs between all nodes\n",
    "    for n in nodes:\n",
    "        arcs.update(outgoing_arcs(n, nodes))\n",
    "    return arcs"
   ]
  },
  {
   "cell_type": "code",
   "execution_count": 114,
   "metadata": {},
   "outputs": [],
   "source": [
    "# Create the arcs\n",
    "all_arcs = generate_all_arcs(nodes)\n",
    "\n",
    "# Create the arcs for each node\n",
    "for n in nodes:\n",
    "    for a in all_arcs:\n",
    "        if a.origin_node.tuple == n.tuple:\n",
    "            n.outgoing_arcs.add(a)\n",
    "        if a.destination_node.tuple == n.tuple:\n",
    "            n.incoming_arcs.add(a)"
   ]
  },
  {
   "cell_type": "markdown",
   "metadata": {},
   "source": [
    "All nodes and arcs have been created. However there are arcs between all nodes, even though it may be infeasible for a vessel to travel the distance in time. \n",
    "### Starting with Gurobi"
   ]
  },
  {
   "cell_type": "code",
   "execution_count": 113,
   "metadata": {},
   "outputs": [],
   "source": [
    "'''Creating the variables'''\n",
    "'''Binary first'''\n",
    "# x is the binary variable that indicates whether a vessel travels on arc a, where and arc is a route frome one node to another node. \n",
    "x = m.addVars((arc.tuple for arc in all_arcs), vtype=GRB.BINARY, name=\"x\")\n",
    "\n",
    "# o is the binary variable that indicates whether vessel v is operating (loading/unloading) at port p at time t\n",
    "o = m.addVars(((port.number, t, vessel) for port in ports for t in time_period_range for vessel in vessels), vtype=GRB.BINARY, name=\"o\")\n",
    "\n",
    "'''Continuous varibles'''\n",
    "# q is the amount of product loaded or unloaded at port i by vessel v at time t\n",
    "q_bounds = {(port.number, t, vessel): min(vessel.max_inventory, port.max_inventory) for port in ports for t in time_period_range for vessel in vessels}\n",
    "q = m.addVars(q_bounds.keys(), lb=0, ub=q_bounds, vtype=GRB.CONTINUOUS, name=\"q\")\n",
    "\n",
    "# s is the amount of product at port i at the end of period t\n",
    "s_bounds = {(port.number, t): port.max_inventory for port in ports for t in time_period_range}\n",
    "s = m.addVars(s_bounds.keys(), lb=0, ub=s_bounds, vtype=GRB.CONTINUOUS, name=\"s\")\n",
    "\n",
    "# w is the amount of product on board of vessel v at the end of time period t\n",
    "w_bounds = {(t, vessel): vessel.max_inventory for vessel in vessels for t in time_period_range}\n",
    "w = m.addVars(w_bounds.keys(), lb=0, ub=w_bounds, vtype=GRB.CONTINUOUS, name=\"w\")"
   ]
  },
  {
   "cell_type": "code",
   "execution_count": null,
   "metadata": {},
   "outputs": [],
   "source": []
  }
 ],
 "metadata": {
  "kernelspec": {
   "display_name": "env",
   "language": "python",
   "name": "python3"
  },
  "language_info": {
   "codemirror_mode": {
    "name": "ipython",
    "version": 3
   },
   "file_extension": ".py",
   "mimetype": "text/x-python",
   "name": "python",
   "nbconvert_exporter": "python",
   "pygments_lexer": "ipython3",
   "version": "3.10.4"
  },
  "orig_nbformat": 4
 },
 "nbformat": 4,
 "nbformat_minor": 2
}

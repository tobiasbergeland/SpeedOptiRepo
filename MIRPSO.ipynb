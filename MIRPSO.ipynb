{
 "cells": [
  {
   "cell_type": "code",
   "execution_count": 1,
   "metadata": {},
   "outputs": [],
   "source": [
    "import pandas as pd\n",
    "import numpy as np\n",
    "import gurobipy as gp\n",
    "from gurobipy import GRB\n",
    "import networkx as nx\n",
    "import matplotlib.pyplot as plt\n",
    "import math"
   ]
  },
  {
   "cell_type": "markdown",
   "metadata": {},
   "source": [
    "### INSTANCE"
   ]
  },
  {
   "cell_type": "code",
   "execution_count": 2,
   "metadata": {},
   "outputs": [],
   "source": [
    "# INSTANCE = 'LR1_1_DR1_3_VC1_V7a'\n",
    "# INSTANCE = 'LR1_1_DR1_4_VC3_V8a'\n",
    "# INSTANCE = 'LR1_1_DR1_4_VC3_V9a'\n",
    "# INSTANCE = 'LR1_1_DR1_4_VC3_V11a'\n",
    "INSTANCE = 'LR1_1_DR1_4_VC3_V12a'\n",
    "# INSTANCE = 'LR1_2_DR1_3_VC2_V6a'\n",
    "\n",
    "# INSTANCE = 'LR1_2_DR1_3_VC3_V8a'\n",
    "# INSTANCE = 'LR1_1_DR1_4_VC3_V12b'\n",
    "# INSTANCE = 'LR2_11_DR2_22_VC3_V6a'\n",
    "# INSTANCE = 'LR2_11_DR2_33_VC4_V11a'\n",
    "\n",
    "INSTANCE_PATH = INSTANCE+'/'+INSTANCE+'.txt'\n",
    "VESSELINFO_PATH = INSTANCE+'/vessel_data.txt'"
   ]
  },
  {
   "cell_type": "markdown",
   "metadata": {},
   "source": [
    "### GAP REDUCTION"
   ]
  },
  {
   "cell_type": "code",
   "execution_count": 3,
   "metadata": {},
   "outputs": [],
   "source": [
    "# GAP_REDUCTION = True\n",
    "GAP_REDUCTION = False\n",
    "\n",
    "# FILTER = True\n",
    "FILTER = False"
   ]
  },
  {
   "cell_type": "markdown",
   "metadata": {},
   "source": [
    "### LOGGING"
   ]
  },
  {
   "cell_type": "code",
   "execution_count": 4,
   "metadata": {},
   "outputs": [],
   "source": [
    "LOG = True\n",
    "# LOG = False\n",
    "\n",
    "if not GAP_REDUCTION:\n",
    "    if FILTER:\n",
    "        FILEPATH = f'solutions/mirpso_results_{INSTANCE}_45_noGR_FILTER.txt'\n",
    "    else:\n",
    "        # FILEPATH = f'solutions/mirpso_results_{INSTANCE}_45_noGR_noFILTER.txt'\n",
    "        FILEPATH = f'solutions/mirpso_results_{INSTANCE}_45_noGR_noFILTER_LOCAL.txt'\n",
    "else:\n",
    "    if FILTER:\n",
    "        FILEPATH = f'solutions/mirpso_results_{INSTANCE}_45.txt'\n",
    "    else:\n",
    "        FILEPATH = f'solutions/mirpso_results_{INSTANCE}_45_noFILTER.txt'\n",
    "\n",
    "# FILEPATH = 'solutions/mirpso_GARBAGE.txt'"
   ]
  },
  {
   "cell_type": "markdown",
   "metadata": {},
   "source": [
    "# Creating classes in order organize the code"
   ]
  },
  {
   "cell_type": "code",
   "execution_count": 5,
   "metadata": {},
   "outputs": [],
   "source": [
    "class Port:\n",
    "    def __init__(self, capacity, inventory, rate, price, berth_limit, port_fee, max_amount, min_amount, number, isLoadingPort):\n",
    "        self.capacity = capacity\n",
    "        self.inventory = inventory\n",
    "        self.rate = rate\n",
    "        self.price = price \n",
    "        self.berth_limit = berth_limit \n",
    "        self.port_fee = port_fee\n",
    "        self.max_amount = max_amount\n",
    "        self.min_amount = min_amount\n",
    "        self.number = number\n",
    "        self.isLoadingPort = isLoadingPort\n",
    "        \n",
    "    def __repr__(self):\n",
    "        return f'Port {self.number}'\n",
    "    \n",
    "    def __repr2__(self):\n",
    "        return f'Port {self.number}: Capacity = {self.capacity}, Inventory = {self.inventory}, Rate = {self.rate}, Price = {self.price}, Berth Limit = {self.berth_limit}, Port Fee = {self.port_fee}, Max Amount = {self.max_amount}, Min Amount = {self.min_amount}, is Loading Port = {self.isLoadingPort}'\n",
    "        \n",
    "class Node:\n",
    "    def __init__(self, port, time):\n",
    "        self.port = port\n",
    "        self.time = time\n",
    "        self.tuple = (port.number if port else None, time)\n",
    "        self.incoming_arcs = set()\n",
    "        self.outgoing_arcs = set()\n",
    "        self.berths = port.berth_limit if port else None\n",
    "    \n",
    "    def __repr__(self):\n",
    "        return str(self.tuple)\n",
    "\n",
    "\n",
    "class Arc:\n",
    "    def __init__(self, origin_node, destination_node, distance, cost, travel_time, speed, is_waiting_arc):\n",
    "        self.origin_node = origin_node\n",
    "        self.destination_node = destination_node\n",
    "        self.tuple = (origin_node, destination_node)\n",
    "        self.distance = distance\n",
    "        self.cost = cost\n",
    "        self.travel_time = travel_time\n",
    "        self.speed = speed\n",
    "        self.is_waiting_arc = is_waiting_arc\n",
    "            \n",
    "    def __repr__(self):\n",
    "        return f'{self.origin_node} -> {self.destination_node} --- Cost: {self.cost:.1f} --- Speed: {self.speed:.1f}'\n",
    "\n",
    "class Vessel:\n",
    "    def __init__(self, max_inventory, initial_inventory, max_operating_quantity, number):\n",
    "        self.max_inventory = int(max_inventory)\n",
    "        self.inventory = initial_inventory\n",
    "        self.max_operating_quantity = max_operating_quantity\n",
    "        self.number = number\n",
    "        self.arcs = set()\n",
    "        self.all_arcs_v = set()\n",
    "        \n",
    "    def __repr__(self):\n",
    "        return f'Vessel {self.number}'\n",
    "\n",
    "    def __repr2__(self):\n",
    "        return f'Vessel {self.number}: Max Inventory = {self.max_inventory}, Inventory = {self.inventory}, Max Operating Quantity = {self.max_operating_quantity}'\n",
    "        "
   ]
  },
  {
   "cell_type": "markdown",
   "metadata": {},
   "source": [
    "### Read in file"
   ]
  },
  {
   "cell_type": "code",
   "execution_count": 6,
   "metadata": {},
   "outputs": [],
   "source": [
    "# Read the content of the provided file\n",
    "with open(INSTANCE_PATH, 'r') as file:\n",
    "    content = file.read()"
   ]
  },
  {
   "cell_type": "markdown",
   "metadata": {},
   "source": [
    "## Read in metadata"
   ]
  },
  {
   "cell_type": "code",
   "execution_count": 7,
   "metadata": {},
   "outputs": [],
   "source": [
    "def parse_metadata(content):\n",
    "    metadata = {}\n",
    "    start_index = content.index(\"----- MetaData -----\") + len(\"----- MetaData -----\")\n",
    "    end_index = content.find(\"\\n\\n\", start_index) if \"\\n\\n\" in content[start_index:] else len(content)\n",
    "    metadata_section = content[start_index:end_index].strip().split(\"\\n\")\n",
    "    \n",
    "    for line in metadata_section:\n",
    "        if \":\" in line:\n",
    "            key, value = line.split(\":\", 1)\n",
    "            metadata[key.strip()] = value.strip()\n",
    "    \n",
    "    return metadata\n",
    "\n",
    "def safe_convert(value, data_type):\n",
    "    try:\n",
    "        if data_type == 'int':\n",
    "            return int(value)\n",
    "        elif data_type == 'float':\n",
    "            return float(value)\n",
    "        elif data_type == 'list':\n",
    "            # Handle different list formats\n",
    "            if value.startswith('[') and value.endswith(']'):\n",
    "                # Remove brackets, split by comma and strip spaces\n",
    "                return [int(x.strip()) for x in value[1:-1].split(',')]\n",
    "            else:\n",
    "                # Split by space or other delimiters if necessary\n",
    "                return [int(x.strip()) for x in value.split()]\n",
    "    except (ValueError, TypeError):\n",
    "        return None\n",
    "\n",
    "\n",
    "def read_and_assign_metadata_from_content(content):\n",
    "    metadata = parse_metadata(content)\n",
    "    \n",
    "    numPeriods = safe_convert(metadata.get('numPeriods', '').split()[-1], 'int')\n",
    "    numCommodities = safe_convert(metadata.get('numCommodities'), 'int')\n",
    "    numLoadingRegions = safe_convert(metadata.get('numLoadingRegions'), 'int')\n",
    "    numDischargingRegions = safe_convert(metadata.get('numDischargingRegions'), 'int')\n",
    "    numLoadingPortsInRegion = safe_convert(metadata.get('numLoadingPortsInRegion', '[]'), 'list')\n",
    "    numDischargingPortsInRegion = safe_convert(metadata.get('numDischargingPortsInRegion', '[]'), 'list')\n",
    "    numVesselClasses = safe_convert(metadata.get('numVesselClasses'), 'int')\n",
    "    numTermVesselsInClass = safe_convert(metadata.get('numTermVesselsInClass', '[]'), 'list')\n",
    "    hoursPerPeriod = safe_convert(metadata.get('hoursPerPeriod'), 'int')\n",
    "    spotMarketPricePerUnit = safe_convert(metadata.get('spotMarketPricePerUnit'), 'float')\n",
    "    spotMarketDiscountFactor = safe_convert(metadata.get('spotMarketDiscountFactor'), 'float')\n",
    "    perPeriodRewardForFinishingEarly = safe_convert(metadata.get('perPeriodRewardForFinishingEarly', '0'), 'float')\n",
    "    attemptCost = safe_convert(metadata.get('attemptCost', '0'), 'float')\n",
    "    constantForSinglePeriodAlphaSlack = safe_convert(metadata.get('constantForSinglePeriodAlphaSlack', '0'), 'float')\n",
    "    constantForCumulativeAlphaSlack = safe_convert(metadata.get('constantForCumulativeAlphaSlack', '0'), 'float')\n",
    "    \n",
    "    return {\n",
    "        'numPeriods': numPeriods,\n",
    "        'numCommodities': numCommodities,\n",
    "        'numLoadingRegions': numLoadingRegions,\n",
    "        'numDischargingRegions': numDischargingRegions,\n",
    "        'numLoadingPortsInRegion': numLoadingPortsInRegion,\n",
    "        'numDischargingPortsInRegion': numDischargingPortsInRegion,\n",
    "        'numVesselClasses': numVesselClasses,\n",
    "        'numTermVesselsInClass': numTermVesselsInClass,\n",
    "        'hoursPerPeriod': hoursPerPeriod,\n",
    "        'spotMarketPricePerUnit': spotMarketPricePerUnit,\n",
    "        'spotMarketDiscountFactor': spotMarketDiscountFactor,\n",
    "        'perPeriodRewardForFinishingEarly': perPeriodRewardForFinishingEarly,\n",
    "        'attemptCost': attemptCost,\n",
    "        'constantForSinglePeriodAlphaSlack': constantForSinglePeriodAlphaSlack,\n",
    "        'constantForCumulativeAlphaSlack': constantForCumulativeAlphaSlack\n",
    "    }\n",
    "\n",
    "# Using the refactored function with the already-read content\n",
    "metadata_from_content = read_and_assign_metadata_from_content(content)\n"
   ]
  },
  {
   "cell_type": "code",
   "execution_count": 8,
   "metadata": {},
   "outputs": [
    {
     "data": {
      "text/plain": [
       "{'numPeriods': 360,\n",
       " 'numCommodities': 1,\n",
       " 'numLoadingRegions': 1,\n",
       " 'numDischargingRegions': 1,\n",
       " 'numLoadingPortsInRegion': [1],\n",
       " 'numDischargingPortsInRegion': [4],\n",
       " 'numVesselClasses': 3,\n",
       " 'numTermVesselsInClass': [4, 4, 4],\n",
       " 'hoursPerPeriod': 24,\n",
       " 'spotMarketPricePerUnit': 1.0,\n",
       " 'spotMarketDiscountFactor': 0.999,\n",
       " 'perPeriodRewardForFinishingEarly': 0.01,\n",
       " 'attemptCost': 0.01,\n",
       " 'constantForSinglePeriodAlphaSlack': 0.5,\n",
       " 'constantForCumulativeAlphaSlack': 1.0}"
      ]
     },
     "execution_count": 8,
     "metadata": {},
     "output_type": "execute_result"
    }
   ],
   "source": [
    "metadata_from_content"
   ]
  },
  {
   "cell_type": "markdown",
   "metadata": {},
   "source": [
    "### Manual adjustments for the metadata"
   ]
  },
  {
   "cell_type": "code",
   "execution_count": 9,
   "metadata": {},
   "outputs": [],
   "source": [
    "'''We only handle one vesseltype for now'''\n",
    "metadata_from_content['numVesselClasses'] = 1\n",
    "# Therefore we set all of the vessels to be of the same type. Type 1\n",
    "vessels_in_classes = metadata_from_content['numTermVesselsInClass']\n",
    "metadata_from_content['numTermVesselsInClass'] = [sum(vessels_in_classes)]"
   ]
  },
  {
   "cell_type": "code",
   "execution_count": 10,
   "metadata": {},
   "outputs": [],
   "source": [
    "ORIGINAL_NUM_TIME_PERIODS = metadata_from_content['numPeriods']"
   ]
  },
  {
   "cell_type": "code",
   "execution_count": 11,
   "metadata": {},
   "outputs": [
    {
     "data": {
      "text/plain": [
       "{'numPeriods': 360,\n",
       " 'numCommodities': 1,\n",
       " 'numLoadingRegions': 1,\n",
       " 'numDischargingRegions': 1,\n",
       " 'numLoadingPortsInRegion': [1],\n",
       " 'numDischargingPortsInRegion': [4],\n",
       " 'numVesselClasses': 1,\n",
       " 'numTermVesselsInClass': [12],\n",
       " 'hoursPerPeriod': 24,\n",
       " 'spotMarketPricePerUnit': 1.0,\n",
       " 'spotMarketDiscountFactor': 0.999,\n",
       " 'perPeriodRewardForFinishingEarly': 0.01,\n",
       " 'attemptCost': 0.01,\n",
       " 'constantForSinglePeriodAlphaSlack': 0.5,\n",
       " 'constantForCumulativeAlphaSlack': 1.0}"
      ]
     },
     "execution_count": 11,
     "metadata": {},
     "output_type": "execute_result"
    }
   ],
   "source": [
    "metadata_from_content"
   ]
  },
  {
   "cell_type": "markdown",
   "metadata": {},
   "source": [
    "### Vessel info"
   ]
  },
  {
   "cell_type": "code",
   "execution_count": 12,
   "metadata": {},
   "outputs": [],
   "source": [
    "with open(VESSELINFO_PATH, 'r') as file:\n",
    "    file_content = file.read()"
   ]
  },
  {
   "cell_type": "code",
   "execution_count": 13,
   "metadata": {},
   "outputs": [
    {
     "data": {
      "text/plain": [
       "{'Vessel_0': {'Initial Inventory': 0,\n",
       "  'Initial Port': 'LoadingRegion_0_Port_0',\n",
       "  'First Time Available': 7},\n",
       " 'Vessel_1': {'Initial Inventory': 300,\n",
       "  'Initial Port': 'DischargeRegion_0_Port_0',\n",
       "  'First Time Available': 4},\n",
       " 'Vessel_2': {'Initial Inventory': 300,\n",
       "  'Initial Port': 'DischargeRegion_0_Port_0',\n",
       "  'First Time Available': 8},\n",
       " 'Vessel_3': {'Initial Inventory': 0,\n",
       "  'Initial Port': 'LoadingRegion_0_Port_0',\n",
       "  'First Time Available': 5},\n",
       " 'Vessel_4': {'Initial Inventory': 250,\n",
       "  'Initial Port': 'DischargeRegion_0_Port_3',\n",
       "  'First Time Available': 5},\n",
       " 'Vessel_5': {'Initial Inventory': 0,\n",
       "  'Initial Port': 'LoadingRegion_0_Port_0',\n",
       "  'First Time Available': 12},\n",
       " 'Vessel_6': {'Initial Inventory': 250,\n",
       "  'Initial Port': 'DischargeRegion_0_Port_2',\n",
       "  'First Time Available': 1},\n",
       " 'Vessel_7': {'Initial Inventory': 0,\n",
       "  'Initial Port': 'LoadingRegion_0_Port_0',\n",
       "  'First Time Available': 6},\n",
       " 'Vessel_8': {'Initial Inventory': 200,\n",
       "  'Initial Port': 'DischargeRegion_0_Port_1',\n",
       "  'First Time Available': 0},\n",
       " 'Vessel_9': {'Initial Inventory': 0,\n",
       "  'Initial Port': 'LoadingRegion_0_Port_0',\n",
       "  'First Time Available': 3},\n",
       " 'Vessel_10': {'Initial Inventory': 0,\n",
       "  'Initial Port': 'LoadingRegion_0_Port_0',\n",
       "  'First Time Available': 10},\n",
       " 'Vessel_11': {'Initial Inventory': 0,\n",
       "  'Initial Port': 'LoadingRegion_0_Port_0',\n",
       "  'First Time Available': 1}}"
      ]
     },
     "execution_count": 13,
     "metadata": {},
     "output_type": "execute_result"
    }
   ],
   "source": [
    "import re\n",
    "\n",
    "# Regular expression to extract vessel information including first time available\n",
    "pattern = r\"name\\s+Vessel_(\\d+)\\s+.*?initialInventory\\s+(\\d+)\\s+initialPort\\s+([\\w_]+)\\s+firstTimeAvailable\\s+(\\d+)\"\n",
    "\n",
    "# Finding all matches\n",
    "vessel_info = re.findall(pattern, file_content, re.DOTALL)\n",
    "\n",
    "# Creating a dictionary to store the information\n",
    "vessel_data = {}\n",
    "for vessel in vessel_info:\n",
    "    vessel_index = int(vessel[0])\n",
    "    initial_inventory = int(vessel[1])\n",
    "    initial_port = vessel[2]\n",
    "    first_time_available = int(vessel[3])\n",
    "\n",
    "    # Storing in dictionary\n",
    "    vessel_data[f\"Vessel_{vessel_index}\"] = {\n",
    "        \"Initial Inventory\": initial_inventory,\n",
    "        \"Initial Port\": initial_port,\n",
    "        \"First Time Available\": first_time_available\n",
    "    }\n",
    "\n",
    "vessel_data  # Displaying the dictionary\n"
   ]
  },
  {
   "cell_type": "markdown",
   "metadata": {},
   "source": [
    "### Read in port data"
   ]
  },
  {
   "cell_type": "code",
   "execution_count": 14,
   "metadata": {},
   "outputs": [],
   "source": [
    "def parse_region_table(content):\n",
    "    # Extract the region table section\n",
    "    start_index = content.index(\"----- Region Table ----\") + len(\"----- Region Table ----\")\n",
    "    end_index = content.find(\"-----\", start_index)  # Find the next section separator\n",
    "    region_section = content[start_index:end_index].strip().split(\"\\n\")[1:]  # Exclude the header line\n",
    "    regions = {}\n",
    "    for line in region_section:\n",
    "        if \"Note:\" not in line:  # Exclude the note lines\n",
    "            attribute, *values = line.split()\n",
    "            regions[attribute] = values\n",
    "    return regions\n",
    "\n",
    "\n",
    "def parse_port_table_for_region(content, region_index):\n",
    "    # Extract the port table section for the specified region\n",
    "    search_str = f\"----- Port Table For Region {region_index} ----\"\n",
    "    start_index = content.index(search_str) + len(search_str)\n",
    "    end_index = content.find(\"-----\", start_index)  # Find the next section separator\n",
    "    port_section = content[start_index:end_index].strip().split(\"\\n\")[1:]  # Exclude the header line\n",
    "    ports = {}\n",
    "    for line in port_section:\n",
    "        attribute, *values = line.split()\n",
    "        ports[attribute] = values\n",
    "    return ports\n"
   ]
  },
  {
   "cell_type": "code",
   "execution_count": 15,
   "metadata": {},
   "outputs": [
    {
     "data": {
      "text/plain": [
       "{'Region 0': {'Capacity': ['670'],\n",
       "  'Inventory': ['335'],\n",
       "  'Rate': ['134'],\n",
       "  'Price': [],\n",
       "  'BerthLimit': ['1'],\n",
       "  'PortFee': ['28'],\n",
       "  'maxAmt': ['300'],\n",
       "  'minAmt': ['100'],\n",
       "  'C2R': ['ratio', '5']},\n",
       " 'Region 1': {'Capacity': ['336', '396', '480', '336'],\n",
       "  'Inventory': ['168', '198', '240', '168'],\n",
       "  'Rate': ['-42', '-36', '-32', '-24'],\n",
       "  'Price': ['5', '5', '5', '5'],\n",
       "  'BerthLimit': ['1', '1', '1', '1'],\n",
       "  'PortFee': ['62', '59', '44', '55'],\n",
       "  'maxAmt': ['300', '300', '240', '300'],\n",
       "  'minAmt': ['95', '85', '90', '80'],\n",
       "  'C2R': ['ratio', '8', '11', '15', '14']}}"
      ]
     },
     "execution_count": 15,
     "metadata": {},
     "output_type": "execute_result"
    }
   ],
   "source": [
    "# Extract region and port information\n",
    "regions_info = parse_region_table(content)\n",
    "ports_info = {f\"Region {i}\": parse_port_table_for_region(content, i) for i in range(len(regions_info['NumPorts']))}\n",
    "ports_info"
   ]
  },
  {
   "cell_type": "markdown",
   "metadata": {},
   "source": [
    "### Create the ports"
   ]
  },
  {
   "cell_type": "code",
   "execution_count": 16,
   "metadata": {},
   "outputs": [],
   "source": [
    "def create_ports_from_info_with_loading(ports_info):\n",
    "    all_ports = {}\n",
    "    loading_regions = {}\n",
    "    discharging_regions = {}\n",
    "\n",
    "    tot_num = 1\n",
    "    \n",
    "    for region, port_attributes in ports_info.items():\n",
    "        region_ports = []\n",
    "        is_loading_region = all(int(rate) > 0 for rate in port_attributes['Rate'])\n",
    "        is_discharging_region = all(int(rate) < 0 for rate in port_attributes['Rate'])\n",
    "\n",
    "        for i in range(len(port_attributes['Capacity'])):  # Assuming 'Capacity' is always present\n",
    "            rate = int(port_attributes['Rate'][i]) if 'Rate' in port_attributes else 0\n",
    "            isLoading = 1 if rate > 0 else -1  # Loading port if rate is positive\n",
    "\n",
    "            port = Port(\n",
    "                capacity=int(port_attributes['Capacity'][i]),\n",
    "                inventory=int(port_attributes['Inventory'][i]) if 'Inventory' in port_attributes else None,\n",
    "                rate=abs(rate),\n",
    "                price=int(port_attributes['Price'][i]) if 'Price' in port_attributes and port_attributes['Price'] else None,\n",
    "                berth_limit=int(port_attributes['BerthLimit'][i]) if 'BerthLimit' in port_attributes else None,\n",
    "                port_fee=int(port_attributes['PortFee'][i]) if 'PortFee' in port_attributes else None,\n",
    "                max_amount=int(port_attributes['maxAmt'][i]) if 'maxAmt' in port_attributes else None,\n",
    "                min_amount=int(port_attributes['minAmt'][i]) if 'minAmt' in port_attributes else None,\n",
    "                number=tot_num,  # Using 1 to numports+1 as the port number\n",
    "                isLoadingPort=isLoading)  # Determine loading port based on Rate value\n",
    "            region_ports.append(port)\n",
    "            tot_num += 1\n",
    "\n",
    "        all_ports[region] = region_ports\n",
    "\n",
    "        # Assign region to correct dictionary\n",
    "        if is_loading_region:\n",
    "            loading_regions[region] = region_ports\n",
    "        elif is_discharging_region:\n",
    "            discharging_regions[region] = region_ports\n",
    "\n",
    "    return all_ports, loading_regions, discharging_regions"
   ]
  },
  {
   "cell_type": "code",
   "execution_count": 17,
   "metadata": {},
   "outputs": [],
   "source": [
    "all_ports, loading_regions, discharging_regions = create_ports_from_info_with_loading(ports_info)"
   ]
  },
  {
   "cell_type": "code",
   "execution_count": 18,
   "metadata": {},
   "outputs": [
    {
     "data": {
      "text/plain": [
       "[Port 1, Port 2, Port 3, Port 4, Port 5]"
      ]
     },
     "execution_count": 18,
     "metadata": {},
     "output_type": "execute_result"
    }
   ],
   "source": [
    "# Create a list of all ports\n",
    "ports = []\n",
    "for region, region_ports in all_ports.items():\n",
    "    ports.extend(region_ports)\n",
    "ports"
   ]
  },
  {
   "cell_type": "code",
   "execution_count": 19,
   "metadata": {},
   "outputs": [
    {
     "name": "stdout",
     "output_type": "stream",
     "text": [
      "Port 1: Capacity = 670, Inventory = 335, Rate = 134, Price = None, Berth Limit = 1, Port Fee = 28, Max Amount = 300, Min Amount = 100, is Loading Port = 1\n",
      "Port 2: Capacity = 336, Inventory = 168, Rate = 42, Price = 5, Berth Limit = 1, Port Fee = 62, Max Amount = 300, Min Amount = 95, is Loading Port = -1\n",
      "Port 3: Capacity = 396, Inventory = 198, Rate = 36, Price = 5, Berth Limit = 1, Port Fee = 59, Max Amount = 300, Min Amount = 85, is Loading Port = -1\n",
      "Port 4: Capacity = 480, Inventory = 240, Rate = 32, Price = 5, Berth Limit = 1, Port Fee = 44, Max Amount = 240, Min Amount = 90, is Loading Port = -1\n",
      "Port 5: Capacity = 336, Inventory = 168, Rate = 24, Price = 5, Berth Limit = 1, Port Fee = 55, Max Amount = 300, Min Amount = 80, is Loading Port = -1\n"
     ]
    }
   ],
   "source": [
    "for port in ports:\n",
    "    print(port.__repr2__())"
   ]
  },
  {
   "cell_type": "markdown",
   "metadata": {},
   "source": [
    "# Initial Parameters\n",
    "\n",
    "All parameters should be set below"
   ]
  },
  {
   "cell_type": "code",
   "execution_count": 20,
   "metadata": {},
   "outputs": [],
   "source": [
    "# Time periods\n",
    "NUM_TIME_PERIODS = 45\n",
    "metadata_from_content['numPeriods'] = NUM_TIME_PERIODS\n",
    "TIME_PERIOD_RANGE = list(range(1, NUM_TIME_PERIODS+1))\n",
    "\n",
    "# Number of vessels\n",
    "ORIGINAL_NUM_VESSELS = metadata_from_content['numTermVesselsInClass'][0]\n",
    "NUM_VESSELS = 5\n",
    "\n",
    "# Speed interval\n",
    "MAX_SPEED = 15\n",
    "MIN_SPEED = 8\n",
    "OPERATING_SPEED = 14\n",
    "\n",
    "# Operating cost\n",
    "OPERATING_COST = 200\n",
    "\n",
    "# Waiting cost\n",
    "WAITING_COST = 50\n",
    "\n",
    "# Fuel price in USD per ton\n",
    "FUEL_PRICE = 500\n",
    "\n",
    "#Numper of ports\n",
    "ORIGINAL_NUM_PORTS = len(ports)\n",
    "\n",
    "'''HUSK Å ENDE NUM LOADING PORTS FOR SISTE INSTANS'''\n",
    "NUM_LOADING_PORTS = 1\n",
    "NUM_PORTS = 3\n",
    "\n",
    "\n",
    "EBS = 0.01\n"
   ]
  },
  {
   "cell_type": "code",
   "execution_count": 21,
   "metadata": {},
   "outputs": [],
   "source": [
    "def parse_vessel_table(content):\n",
    "    # Extract the vessel table section\n",
    "    start_index = content.index(\"----- Vessel Table ----\") + len(\"----- Vessel Table ----\")\n",
    "    end_index = content.find(\"-----\", start_index)  # Find the next section separator\n",
    "    vessel_section = content[start_index:end_index].strip().split(\"\\n\")[1:]  # Exclude the header line\n",
    "\n",
    "    vessels = {}\n",
    "    class_0_capacity = None\n",
    "\n",
    "    # Extract vessel attributes\n",
    "    for line in vessel_section:\n",
    "        if \"Note:\" not in line:  # Exclude the note lines\n",
    "            attribute, *values = line.split()\n",
    "            vessels[attribute] = values\n",
    "\n",
    "    # Find indices of Class 0 vessels\n",
    "    class_0_indices = [i for i, v in enumerate(vessels.get(\"Class\", [])) if v == \"0\"]\n",
    "\n",
    "    # Extract the capacity for Class 0 vessels\n",
    "    if class_0_indices:\n",
    "        class_0_capacity_index = class_0_indices[0]\n",
    "        class_0_capacity = int(vessels.get(\"Capacity\", [])[class_0_capacity_index])\n",
    "\n",
    "    return vessels, class_0_capacity"
   ]
  },
  {
   "cell_type": "code",
   "execution_count": 22,
   "metadata": {},
   "outputs": [
    {
     "data": {
      "text/plain": [
       "({'Type': ['Term',\n",
       "   'Term',\n",
       "   'Term',\n",
       "   'Term',\n",
       "   'Term',\n",
       "   'Term',\n",
       "   'Term',\n",
       "   'Term',\n",
       "   'Term',\n",
       "   'Term',\n",
       "   'Term',\n",
       "   'Term'],\n",
       "  'Class': ['0', '0', '0', '0', '1', '1', '1', '1', '2', '2', '2', '2'],\n",
       "  'Capacity': ['300',\n",
       "   '300',\n",
       "   '300',\n",
       "   '300',\n",
       "   '250',\n",
       "   '250',\n",
       "   '250',\n",
       "   '250',\n",
       "   '200',\n",
       "   '200',\n",
       "   '200',\n",
       "   '200']},\n",
       " 300)"
      ]
     },
     "execution_count": 22,
     "metadata": {},
     "output_type": "execute_result"
    }
   ],
   "source": [
    "\n",
    "# Extracting the vessel dictionary and the capacity for Class 0 vessels\n",
    "vessels_info, VESSEL_CAP = parse_vessel_table(content)\n",
    "(vessels_info, VESSEL_CAP)\n"
   ]
  },
  {
   "cell_type": "code",
   "execution_count": 23,
   "metadata": {},
   "outputs": [],
   "source": [
    "# Create a dictionary with key = vessel class and value = vessel object\n",
    "vessels = {}\n",
    "tot = 1\n",
    "for vessel_class in range(metadata_from_content['numVesselClasses']):\n",
    "    vessel_list = []\n",
    "    vessels_in_class = metadata_from_content['numTermVesselsInClass'][vessel_class]\n",
    "    for i in range(vessels_in_class):\n",
    "        if int(vessel_data['Vessel_'+str(i)]['Initial Inventory'])>0:\n",
    "            init_inventory = VESSEL_CAP\n",
    "        else:\n",
    "            init_inventory = 0\n",
    "            \n",
    "        vessel_list.append(Vessel(\n",
    "            max_inventory= VESSEL_CAP,\n",
    "            initial_inventory= init_inventory,\n",
    "            max_operating_quantity=VESSEL_CAP,\n",
    "            number=tot\n",
    "        ))\n",
    "        tot += 1\n",
    "    vessels[vessel_class] = vessel_list\n",
    "\n",
    "# We only have one vessel class. Convert the dictionary to a list\n",
    "vessels = vessels[0]\n"
   ]
  },
  {
   "cell_type": "code",
   "execution_count": 24,
   "metadata": {},
   "outputs": [],
   "source": [
    "# # Manually set the number of vessels\n",
    "# vessels = vessels[:NUM_VESSELS]\n",
    "# vessels"
   ]
  },
  {
   "cell_type": "code",
   "execution_count": 25,
   "metadata": {},
   "outputs": [
    {
     "name": "stdout",
     "output_type": "stream",
     "text": [
      "Vessel 1: Max Inventory = 300, Inventory = 0, Max Operating Quantity = 300\n",
      "Vessel 2: Max Inventory = 300, Inventory = 300, Max Operating Quantity = 300\n",
      "Vessel 3: Max Inventory = 300, Inventory = 300, Max Operating Quantity = 300\n",
      "Vessel 4: Max Inventory = 300, Inventory = 0, Max Operating Quantity = 300\n",
      "Vessel 5: Max Inventory = 300, Inventory = 300, Max Operating Quantity = 300\n",
      "Vessel 6: Max Inventory = 300, Inventory = 0, Max Operating Quantity = 300\n",
      "Vessel 7: Max Inventory = 300, Inventory = 300, Max Operating Quantity = 300\n",
      "Vessel 8: Max Inventory = 300, Inventory = 0, Max Operating Quantity = 300\n",
      "Vessel 9: Max Inventory = 300, Inventory = 300, Max Operating Quantity = 300\n",
      "Vessel 10: Max Inventory = 300, Inventory = 0, Max Operating Quantity = 300\n",
      "Vessel 11: Max Inventory = 300, Inventory = 0, Max Operating Quantity = 300\n",
      "Vessel 12: Max Inventory = 300, Inventory = 0, Max Operating Quantity = 300\n"
     ]
    }
   ],
   "source": [
    "for v in vessels:\n",
    "    print(v.__repr2__())"
   ]
  },
  {
   "cell_type": "markdown",
   "metadata": {},
   "source": [
    "### Creating the nodes"
   ]
  },
  {
   "cell_type": "code",
   "execution_count": 26,
   "metadata": {},
   "outputs": [],
   "source": [
    "# Create the regular nodes\n",
    "regularNodes = []\n",
    "for t in range(1, NUM_TIME_PERIODS+1):\n",
    "    for port in ports:\n",
    "        node = Node(port=port, time=t)\n",
    "        regularNodes.append(node)\n",
    "    \n",
    "# Create fictional source and sink port\n",
    "sourcePort = Port(capacity=None, inventory=None, rate=None, price=None, berth_limit=len(vessels), port_fee=0, max_amount=None, min_amount=None, number=0, isLoadingPort=True)\n",
    "sinkPort = Port(capacity=None, inventory=None, rate=None, price=None, berth_limit=len(vessels), port_fee=0, max_amount=None, min_amount=None, number=len(ports)+1, isLoadingPort=False)\n",
    "\n",
    "# Create source and sink node\n",
    "sourceNode = Node(port=sourcePort, time=0)\n",
    "sinkNode = Node(port=sinkPort, time=NUM_TIME_PERIODS+1)\n",
    "\n",
    "NODES = [sourceNode] + regularNodes + [sinkNode]\n",
    "\n",
    "# Create a node dictionary with key = (port, time) tuple and value = node object\n",
    "NODE_DICT = {}\n",
    "for node in NODES:\n",
    "    NODE_DICT[node.tuple] = node"
   ]
  },
  {
   "cell_type": "markdown",
   "metadata": {},
   "source": [
    "### Read in arc data"
   ]
  },
  {
   "cell_type": "code",
   "execution_count": 27,
   "metadata": {},
   "outputs": [
    {
     "data": {
      "text/plain": [
       "[[0.0, 7083.82, 7725.2, 7446.65, 7571.48],\n",
       " [7083.82, 0.0, 750.08, 363.99, 504.05],\n",
       " [7725.2, 750.08, 0.0, 461.81, 309.79],\n",
       " [7446.65, 363.99, 461.81, 0.0, 160.33],\n",
       " [7571.48, 504.05, 309.79, 160.33, 0.0]]"
      ]
     },
     "execution_count": 27,
     "metadata": {},
     "output_type": "execute_result"
    }
   ],
   "source": [
    "def parse_full_distance_matrix(content):\n",
    "    # Extract the full distance matrix section\n",
    "    start_str = \"----- FullDistanceMatrix ----\"\n",
    "    start_index = content.index(start_str) + len(start_str)\n",
    "    end_index = content.find(\"-----\", start_index)  # Find the next section separator\n",
    "    matrix_section = content[start_index:end_index].strip().split(\"\\n\")[2:]  # Exclude the header lines\n",
    "    \n",
    "    # Convert the matrix section to a 2D list of distances\n",
    "    distances = []\n",
    "    for line in matrix_section:\n",
    "        try:\n",
    "            distance_row = list(map(float, line.split()[1:]))  # Excluding the leading port number\n",
    "            distances.append(distance_row)\n",
    "        except ValueError:\n",
    "            continue\n",
    "    \n",
    "    return distances\n",
    "\n",
    "# Extracting the full distance matrix from the file content\n",
    "full_distance_matrix = parse_full_distance_matrix(content)\n",
    "full_distance_matrix\n"
   ]
  },
  {
   "cell_type": "code",
   "execution_count": 28,
   "metadata": {},
   "outputs": [],
   "source": [
    "FULL_DISTANCE_MATRIX = full_distance_matrix"
   ]
  },
  {
   "cell_type": "code",
   "execution_count": 29,
   "metadata": {},
   "outputs": [],
   "source": [
    "# Convert full_distance_matrix from km to nautical miles\n",
    "# 1 nautical mile = 1.852 km\n",
    "def km_to_nautical_miles(km):\n",
    "    return km / 1.852"
   ]
  },
  {
   "cell_type": "code",
   "execution_count": 30,
   "metadata": {},
   "outputs": [],
   "source": [
    "def convert_matrix_to_nautical_miles(matrix):\n",
    "    return [[km_to_nautical_miles(distance) for distance in row] for row in matrix]"
   ]
  },
  {
   "cell_type": "code",
   "execution_count": 31,
   "metadata": {},
   "outputs": [
    {
     "data": {
      "text/plain": [
       "[[0.0,\n",
       "  3824.9568034557233,\n",
       "  4171.274298056155,\n",
       "  4020.869330453563,\n",
       "  4088.2721382289415],\n",
       " [3824.9568034557233,\n",
       "  0.0,\n",
       "  405.0107991360691,\n",
       "  196.5388768898488,\n",
       "  272.1652267818574],\n",
       " [4171.274298056155,\n",
       "  405.0107991360691,\n",
       "  0.0,\n",
       "  249.35745140388767,\n",
       "  167.2732181425486],\n",
       " [4020.869330453563,\n",
       "  196.5388768898488,\n",
       "  249.35745140388767,\n",
       "  0.0,\n",
       "  86.57127429805615],\n",
       " [4088.2721382289415,\n",
       "  272.1652267818574,\n",
       "  167.2732181425486,\n",
       "  86.57127429805615,\n",
       "  0.0]]"
      ]
     },
     "execution_count": 31,
     "metadata": {},
     "output_type": "execute_result"
    }
   ],
   "source": [
    "full_distance_matrix_nm = convert_matrix_to_nautical_miles(FULL_DISTANCE_MATRIX)\n",
    "full_distance_matrix_nm"
   ]
  },
  {
   "cell_type": "code",
   "execution_count": 32,
   "metadata": {},
   "outputs": [],
   "source": [
    "def fuel_consumption_speed_nm(speed, nautical_miles):\n",
    "    \"\"\"\n",
    "    Calculate the fuel consumption based on speed and nautical miles.\n",
    "\n",
    "    Args:\n",
    "    - speed (float): Speed of the vessel in knots.\n",
    "    - nautical miles (float): .\n",
    "\n",
    "    Returns:\n",
    "    - float: Fuel consumption in tons.\n",
    "    \"\"\"\n",
    "    return  (0.15*14 * (speed / 14) ** 3) * nautical_miles/speed\n",
    "    \n",
    "\n",
    "def calc_cost(fuel_consumption):\n",
    "    \"\"\"\n",
    "    Calculate the cost based on fuel consumption.\n",
    "\n",
    "    Args:\n",
    "    - fuel_consumption (float): Fuel consumption in tons.\n",
    "\n",
    "    Returns:\n",
    "    - float: Cost in USD.\n",
    "    \"\"\"\n",
    "    return fuel_consumption * FUEL_PRICE\n",
    "\n",
    "# Function to calculate discrete max speed based on distance and global max speed\n",
    "def calculate_minimum_timesteps_and_speed(distance_nm):\n",
    "    \"\"\"\n",
    "    Determine the minimum timesteps and speed based on distance and max speed.\n",
    "\n",
    "    Args:\n",
    "    - distance_nm (float): Distance in nautical miles.\n",
    "    - MAX_SPEED (float): Maximum speed in knots.\n",
    "    - MIN_SPEED (float): Minimum speed in knots.\n",
    "\n",
    "    Returns:\n",
    "    - tuple: Minimum timesteps and speed.\n",
    "    \"\"\"\n",
    "    hours = distance_nm / MAX_SPEED\n",
    "    minimum_timesteps = math.ceil(hours / 24)\n",
    "    speed = distance_nm / (minimum_timesteps * 24)\n",
    "    return minimum_timesteps, max(speed, MIN_SPEED)\n",
    "\n",
    "# Function to calculate discrete max speed based on distance and global max speed\n",
    "def calculate_minimum_timesteps_with_fixed_speed(distance_nm):\n",
    "    \"\"\"\n",
    "    Determine the minimum timesteps and speed based on distance and operating speed.\n",
    "\n",
    "    Args:\n",
    "    - distance_nm (float): Distance in nautical miles.\n",
    "    - operating_speed (float): Operating speed in knots.\n",
    "\n",
    "    Returns:\n",
    "    - tuple: Minimum timesteps and operating speed.\n",
    "    \"\"\"\n",
    "    hours = distance_nm / OPERATING_SPEED\n",
    "    minimum_timesteps = math.ceil(hours / 24)\n",
    "    # The speed will be operating speed no matter what, but we will round up the timesteps\n",
    "    return minimum_timesteps, OPERATING_SPEED\n",
    "    \n",
    "# Based on rounded_hours and speed calculate the next speeds\n",
    "# Creates a list with all the information needed to create the arc.\n",
    "def create_arc_info(speed, minimum_timesteps, departure, origin_port, destination_port, lowest_speed, distance_to_port, vessel, is_waiting_arc):\n",
    "    # Create a list of tuples with the speed and the time period\n",
    "    '''arc_info: (speed in knots, timesteps for sailing, time period of departure, time period of arrival, origin port, destination port, fuel_consumption)'''\n",
    "    \n",
    "    arrival_time = departure + minimum_timesteps\n",
    "    if arrival_time > NUM_TIME_PERIODS:\n",
    "        return None\n",
    "    if is_waiting_arc:\n",
    "        fuel_consumption = 0\n",
    "        arc_info = [(speed, 1, departure, departure + minimum_timesteps, origin_port, destination_port, fuel_consumption, distance_to_port, vessel, is_waiting_arc)]\n",
    "    else:\n",
    "        fuel_consumption = fuel_consumption_speed_nm(speed=speed, nautical_miles=distance_to_port)\n",
    "        arc_info = [(speed, minimum_timesteps, departure, departure + minimum_timesteps, origin_port, destination_port, fuel_consumption, distance_to_port, vessel, is_waiting_arc)]\n",
    "    \n",
    "        timesteps = minimum_timesteps+1\n",
    "        while True:\n",
    "            \n",
    "            # Calculate the next speed\n",
    "            speed = distance_to_port / ((timesteps)*24)\n",
    "            # If the speed is lower than the lowest speed, break the loop\n",
    "            if speed < lowest_speed:\n",
    "                break\n",
    "            fuel_consumption = fuel_consumption_speed_nm(speed=speed, nautical_miles=distance_to_port)\n",
    "            arrival_time = departure + timesteps\n",
    "            # Otherwise, add the speed to the list\n",
    "            arc_info.append((speed, timesteps, departure, arrival_time, origin_port, destination_port, fuel_consumption, distance_to_port, vessel, is_waiting_arc))\n",
    "            # Increment the time period\n",
    "            timesteps += 1\n",
    "            arrival_time = departure + timesteps\n",
    "            if arrival_time > NUM_TIME_PERIODS:\n",
    "                break\n",
    "       \n",
    "    return arc_info\n",
    "\n",
    "\n",
    "# Based on rounded_hours and speed calculate the next speeds\n",
    "# Creates a list with all the information needed to create the arc.\n",
    "def create_arc_info_fixed_speed(speed, minimum_timesteps, departure, arrival_time, origin_port, destination_port, distance_to_port, vessel, is_waiting_arc):\n",
    "    # Create a list of tuples with the speed and the time period\n",
    "    '''arc_info: (speed in knots, timesteps for sailing, time period of departure, time period of arrival, origin port, destination port, fuel_consumption)'''\n",
    "    \n",
    "    if arrival_time > NUM_TIME_PERIODS:\n",
    "        return None\n",
    "    if is_waiting_arc:\n",
    "        fuel_consumption = 0\n",
    "        arc_info = [(speed, 1, departure, departure + minimum_timesteps, origin_port, destination_port, fuel_consumption, distance_to_port, vessel, is_waiting_arc)]\n",
    "    else:\n",
    "        fuel_consumption = fuel_consumption_speed_nm(speed=speed, nautical_miles=distance_to_port)\n",
    "        arc_info = [(speed, minimum_timesteps, departure, arrival_time, origin_port, destination_port, fuel_consumption, distance_to_port, vessel, is_waiting_arc)]\n",
    "       \n",
    "    return arc_info\n",
    "        "
   ]
  },
  {
   "cell_type": "markdown",
   "metadata": {},
   "source": [
    "## Use vessel data to find starting positions for each vessel"
   ]
  },
  {
   "cell_type": "markdown",
   "metadata": {},
   "source": [
    "# Generate the arcs"
   ]
  },
  {
   "cell_type": "code",
   "execution_count": 33,
   "metadata": {},
   "outputs": [
    {
     "data": {
      "text/plain": [
       "{0: [Port 1]}"
      ]
     },
     "execution_count": 33,
     "metadata": {},
     "output_type": "execute_result"
    }
   ],
   "source": [
    "# For the keys in discharging_regions, change the key to index of the region starting with 0\n",
    "loading_regions_reidx = {}\n",
    "\n",
    "# Reassign keys\n",
    "for i, key in enumerate(loading_regions.keys()):\n",
    "    loading_regions_reidx[i] = loading_regions[key]\n",
    "    \n",
    "loading_regions_reidx"
   ]
  },
  {
   "cell_type": "code",
   "execution_count": 34,
   "metadata": {},
   "outputs": [
    {
     "data": {
      "text/plain": [
       "{0: [Port 2, Port 3, Port 4, Port 5]}"
      ]
     },
     "execution_count": 34,
     "metadata": {},
     "output_type": "execute_result"
    }
   ],
   "source": [
    "# For the keys in discharging_regions, change the key to index of the region starting with 0\n",
    "discharging_regions_reidx = {}\n",
    "\n",
    "# Reassign keys\n",
    "for i, key in enumerate(discharging_regions.keys()):\n",
    "    discharging_regions_reidx[i] = discharging_regions[key]\n",
    "    \n",
    "discharging_regions_reidx"
   ]
  },
  {
   "cell_type": "markdown",
   "metadata": {},
   "source": [
    "### Generate the information for the arcs from the source node to the ports.\n",
    "- We only get one arc for each vessel"
   ]
  },
  {
   "cell_type": "code",
   "execution_count": 35,
   "metadata": {},
   "outputs": [],
   "source": [
    "start_overview = {}\n",
    "\n",
    "for vessel in vessels:\n",
    "        \n",
    "    initial_port_str = vessel_data['Vessel_'+str(vessel.number-1)]['Initial Port']\n",
    "    region_index, port_index = int(initial_port_str.split('_')[1]), int(initial_port_str.split('_')[3])\n",
    "    \n",
    "    # Check whether the initial port is a loading port or a discharging port based on initial_port_str\n",
    "    if initial_port_str.startswith('Loading'):\n",
    "        continue\n",
    "    \n",
    "    else:\n",
    "        region_ports = discharging_regions_reidx[region_index]\n",
    "        initial_port = region_ports[int(port_index)]\n",
    "        \n",
    "        start_overview[initial_port] = start_overview[initial_port] + 1 if initial_port in start_overview else 1"
   ]
  },
  {
   "cell_type": "code",
   "execution_count": 36,
   "metadata": {},
   "outputs": [
    {
     "data": {
      "text/plain": [
       "{Port 2: 2, Port 5: 1, Port 4: 1, Port 3: 1}"
      ]
     },
     "execution_count": 36,
     "metadata": {},
     "output_type": "execute_result"
    }
   ],
   "source": [
    "for port in ports:\n",
    "    if port.isLoadingPort == 1:\n",
    "        continue\n",
    "    # if port not in start_overview:\n",
    "    #     start_overview[port] = 0\n",
    "        \n",
    "start_overview"
   ]
  },
  {
   "cell_type": "code",
   "execution_count": 37,
   "metadata": {},
   "outputs": [
    {
     "data": {
      "text/plain": [
       "{Port 5: 1, Port 4: 1}"
      ]
     },
     "execution_count": 37,
     "metadata": {},
     "output_type": "execute_result"
    }
   ],
   "source": [
    "# Remove all but the least busiest two ports, except if the number of starting vessels is 0\n",
    "\n",
    "\n",
    "start_overview = {k: v for k, v in sorted(start_overview.items(), key=lambda item: item[1])}\n",
    "start_overview = dict(list(start_overview.items())[:NUM_PORTS-NUM_LOADING_PORTS])\n",
    "start_overview"
   ]
  },
  {
   "cell_type": "code",
   "execution_count": 38,
   "metadata": {},
   "outputs": [
    {
     "data": {
      "text/plain": [
       "[Port 2, Port 3]"
      ]
     },
     "execution_count": 38,
     "metadata": {},
     "output_type": "execute_result"
    }
   ],
   "source": [
    "# ports to be removed are the ones that are not in start_overview and it is not a loading port\n",
    "ports_to_be_removed = [port for port in ports if port not in start_overview and port.isLoadingPort == -1]\n",
    "ports_to_be_removed"
   ]
  },
  {
   "cell_type": "code",
   "execution_count": 39,
   "metadata": {},
   "outputs": [],
   "source": [
    "# '''HARDCODE FOR INSTANCE 1\n",
    "# De to blokkene over er standard'''\n",
    "# start_overview = {ports[1]: 1, ports[2]: 1}\n",
    "# start_overview"
   ]
  },
  {
   "cell_type": "code",
   "execution_count": 40,
   "metadata": {},
   "outputs": [],
   "source": [
    "# ports_to_be_removed = [ports[3]]\n",
    "# ports_to_be_removed"
   ]
  },
  {
   "cell_type": "code",
   "execution_count": 41,
   "metadata": {},
   "outputs": [],
   "source": [
    "start_info = {}"
   ]
  },
  {
   "cell_type": "code",
   "execution_count": 42,
   "metadata": {},
   "outputs": [
    {
     "data": {
      "text/plain": [
       "Port 5"
      ]
     },
     "execution_count": 42,
     "metadata": {},
     "output_type": "execute_result"
    }
   ],
   "source": [
    "# Find the port with the most vessels starting there\n",
    "busiest_dis_port = max(start_overview, key=start_overview.get)\n",
    "busiest_dis_port"
   ]
  },
  {
   "cell_type": "code",
   "execution_count": 43,
   "metadata": {},
   "outputs": [],
   "source": [
    "def generate_source_arc_info(sourceNode):\n",
    "    \n",
    "    source_arcs_info = []\n",
    "    \n",
    "    vessels_to_be_removed = []\n",
    "        \n",
    "    \n",
    "    for vessel in vessels:\n",
    "        \n",
    "        initial_port_str = vessel_data['Vessel_'+str(vessel.number-1)]['Initial Port']\n",
    "        region_index, port_index = int(initial_port_str.split('_')[1]), int(initial_port_str.split('_')[3])\n",
    "        \n",
    "        # Check whether the initial port is a loading port or a discharging port based on initial_port_str\n",
    "        if initial_port_str.startswith('Loading'):\n",
    "            region_ports = loading_regions_reidx[region_index]\n",
    "            initial_port = region_ports[int(port_index)]\n",
    "        \n",
    "        else:\n",
    "            region_ports = discharging_regions_reidx[region_index]\n",
    "            initial_port = region_ports[int(port_index)]\n",
    "            \n",
    "        # If the initial port in in the ports_to_be_removed list, we will not create any arcs for this vessel\n",
    "        if initial_port in ports_to_be_removed:\n",
    "            # We will remove the vessel later, and we will not create any arcs for either the vessel or the port_to_be_removed\n",
    "            vessels_to_be_removed.append(vessel)\n",
    "                \n",
    "        first_time_available = int(vessel_data['Vessel_'+str(vessel.number-1)]['First Time Available']+1)\n",
    "       \n",
    "        # Add the port and first time available to the start_info dictionary\n",
    "        start_info[vessel] = NODE_DICT[(initial_port.number, first_time_available)]\n",
    "        \n",
    "        # Only create one arc from the source to the corresponding port and time pair\n",
    "        source_arcs_info_for_vessel = []\n",
    "        \n",
    "        speed = 0\n",
    "        \n",
    "        arc_info = [(speed, first_time_available, 0, first_time_available, sourceNode.port.number, initial_port.number, 0, 0, vessel, False)]\n",
    "        \n",
    "        source_arcs_info_for_vessel.append(arc_info)\n",
    "        \n",
    "        source_arcs_info.append(source_arcs_info_for_vessel)\n",
    "                \n",
    "    return source_arcs_info"
   ]
  },
  {
   "cell_type": "code",
   "execution_count": 44,
   "metadata": {},
   "outputs": [],
   "source": [
    "start_times = {vessel: vessel_data['Vessel_'+str(vessel.number-1)]['First Time Available']+1 for vessel in vessels}"
   ]
  },
  {
   "cell_type": "code",
   "execution_count": 45,
   "metadata": {},
   "outputs": [
    {
     "data": {
      "text/plain": [
       "{Vessel 1: 8,\n",
       " Vessel 2: 5,\n",
       " Vessel 3: 9,\n",
       " Vessel 4: 6,\n",
       " Vessel 5: 6,\n",
       " Vessel 6: 13,\n",
       " Vessel 7: 2,\n",
       " Vessel 8: 7,\n",
       " Vessel 9: 1,\n",
       " Vessel 10: 4,\n",
       " Vessel 11: 11,\n",
       " Vessel 12: 2}"
      ]
     },
     "execution_count": 45,
     "metadata": {},
     "output_type": "execute_result"
    }
   ],
   "source": [
    "start_times"
   ]
  },
  {
   "cell_type": "code",
   "execution_count": 46,
   "metadata": {},
   "outputs": [],
   "source": [
    "# Remove vessels so that we have the same number of vessels starting at the loading ports and discharging ports\n",
    "aomunt_starting_in_discharging = sum(start_overview.values())\n",
    "\n",
    "amount_starting_in_loading = len(vessels) - sum(start_overview.values())"
   ]
  },
  {
   "cell_type": "code",
   "execution_count": 47,
   "metadata": {},
   "outputs": [],
   "source": [
    "def create_arcs_for_node(node, vessels, all_port_numbers, source_times, full_distance_matrix_nm):\n",
    "    node_arcs = []\n",
    "    \n",
    "    for vessel in vessels:\n",
    "        if node.port.number in [0, len(ports) + 1]:\n",
    "            continue\n",
    "\n",
    "        start_time = source_times[vessel]\n",
    "        if node.time < start_time:\n",
    "            continue\n",
    "\n",
    "        for destination_port_number in all_port_numbers:\n",
    "            if destination_port_number == node.port.number:\n",
    "                # Create waiting_arc\n",
    "                arc_info_matrix = create_arc_info(speed=0, minimum_timesteps=1, departure=node.time, origin_port=node.port.number, destination_port=destination_port_number, lowest_speed=0, distance_to_port=0, vessel=vessel, is_waiting_arc=True)\n",
    "                node_arcs.append(arc_info_matrix)\n",
    "            else:\n",
    "                distance_nm = full_distance_matrix_nm[node.port.number - 1][destination_port_number - 1]\n",
    "                minimum_timesteps, speed = calculate_minimum_timesteps_and_speed(distance_nm=distance_nm)\n",
    "                arrival_time = node.time + minimum_timesteps\n",
    "                \n",
    "                if arrival_time < source_times[vessel] or arrival_time > NUM_TIME_PERIODS:\n",
    "                    continue\n",
    "\n",
    "                arc_info_matrix = create_arc_info(speed=speed, minimum_timesteps=minimum_timesteps, departure=node.time, origin_port=node.port.number, destination_port=destination_port_number, lowest_speed=MIN_SPEED, distance_to_port=distance_nm, vessel=vessel, is_waiting_arc=False)\n",
    "                node_arcs.append(arc_info_matrix)\n",
    "\n",
    "    return node_arcs"
   ]
  },
  {
   "cell_type": "code",
   "execution_count": 48,
   "metadata": {},
   "outputs": [],
   "source": [
    "def add_arcs_to_nodes(all_info):\n",
    "    arc_dict = {}\n",
    "    vessel_arcs = {}\n",
    "    waiting_arcs = {}\n",
    "\n",
    "    for sublist in all_info:\n",
    "        for subsublist in sublist:\n",
    "            if not subsublist:\n",
    "                continue\n",
    "                \n",
    "            for tuple_data in subsublist:\n",
    "                speed, timesteps, departure, arrival, origin_port_number, destination_port_number, fuel_consumption, distance_nm, vessel, is_waiting_arc = tuple_data\n",
    "                cost = calc_cost(fuel_consumption)\n",
    "                origin_node_obj = NODE_DICT.get((origin_port_number, departure))\n",
    "                destination_node_obj = NODE_DICT.get((destination_port_number, arrival))\n",
    "\n",
    "                if origin_node_obj and destination_node_obj and arrival <= NUM_TIME_PERIODS:\n",
    "                    arc = Arc(origin_node=origin_node_obj, destination_node=destination_node_obj, distance=distance_nm, cost=cost + WAITING_COST, travel_time=timesteps, speed=speed, is_waiting_arc=is_waiting_arc)\n",
    "                    origin_node_obj.outgoing_arcs.add(arc)\n",
    "                    destination_node_obj.incoming_arcs.add(arc)\n",
    "                    arc_dict[(origin_node_obj.tuple, destination_node_obj.tuple, vessel)] = arc\n",
    "                    \n",
    "                    if is_waiting_arc:\n",
    "                        waiting_arcs.setdefault(vessel, []).append(arc)\n",
    "                    vessel_arcs.setdefault(vessel, []).append(arc)\n",
    "\n",
    "    return arc_dict, vessel_arcs, waiting_arcs"
   ]
  },
  {
   "cell_type": "code",
   "execution_count": 49,
   "metadata": {},
   "outputs": [],
   "source": [
    "# Generate the information for the source arcs\n",
    "source_arcs_info = generate_source_arc_info(sourceNode)"
   ]
  },
  {
   "cell_type": "code",
   "execution_count": 50,
   "metadata": {},
   "outputs": [],
   "source": [
    "# Initialize the all_info list with the source arcs info\n",
    "all_info = source_arcs_info.copy()\n",
    "\n",
    "# Append the all_info list with the arcs for each node\n",
    "for vessel in vessels:\n",
    "    # For each node, create the outgoing arcs\n",
    "    arcs_for_current_vessel = [create_arcs_for_node(node, [vessel], [port.number for port in ports], start_times, full_distance_matrix_nm) for node in NODE_DICT.values()]\n",
    "    all_info.extend(arcs_for_current_vessel)\n",
    "    \n",
    "arc_dict, vessel_arcs, waiting_arcs = add_arcs_to_nodes(all_info)"
   ]
  },
  {
   "cell_type": "code",
   "execution_count": 51,
   "metadata": {},
   "outputs": [],
   "source": [
    "def add_arc_to_dict(origin, destination, vessel, arc_dict, vessel_arcs):\n",
    "    \"\"\"Helper function to add arc to dictionaries and nodes.\"\"\"\n",
    "    arc = Arc(origin_node=origin, destination_node=destination, distance=0, cost=0, travel_time=0, speed=0, is_waiting_arc=False)\n",
    "    origin.outgoing_arcs.add(arc)\n",
    "    destination.incoming_arcs.add(arc)\n",
    "    arc_dict[(origin.tuple, destination.tuple, vessel)] = arc\n",
    "    vessel_arcs.setdefault(vessel, []).append(arc)\n",
    "    return arc_dict, vessel_arcs"
   ]
  },
  {
   "cell_type": "code",
   "execution_count": 52,
   "metadata": {},
   "outputs": [],
   "source": [
    "def create_sink_arcs(vessels, sinkNode, source_times, arc_dict, vessel_arcs):\n",
    "    for vessel in vessels:\n",
    "        # Arc from source node to sink node\n",
    "        arc_dict, vessel_arcs = add_arc_to_dict(sourceNode, sinkNode, vessel, arc_dict, vessel_arcs)\n",
    "        \n",
    "        # Arcs from other nodes to sink node\n",
    "        for node in NODE_DICT.values():\n",
    "            if node.port.number not in [0, len(ports) + 1] and node.time >= source_times[vessel]:\n",
    "                arc_dict, vessel_arcs = add_arc_to_dict(node, sinkNode, vessel, arc_dict, vessel_arcs)\n",
    "    \n",
    "    return arc_dict, vessel_arcs"
   ]
  },
  {
   "cell_type": "code",
   "execution_count": 53,
   "metadata": {},
   "outputs": [],
   "source": [
    "# After calling add_arcs_to_nodes:\n",
    "arc_dict, vessel_arcs, waiting_arcs = add_arcs_to_nodes(all_info)\n",
    "\n",
    "# Then call create_sink_arcs with the returned arc_dict and vessel_arcs:\n",
    "arc_dict, vessel_arcs = create_sink_arcs(vessels, sinkNode, start_times, arc_dict, vessel_arcs)"
   ]
  },
  {
   "cell_type": "markdown",
   "metadata": {},
   "source": [
    "### FIXATE NUMBER OF VESSELS AND PORTS"
   ]
  },
  {
   "cell_type": "markdown",
   "metadata": {},
   "source": [
    "### Find vessels we can remove"
   ]
  },
  {
   "cell_type": "code",
   "execution_count": 54,
   "metadata": {},
   "outputs": [
    {
     "data": {
      "text/plain": [
       "[Vessel 2, Vessel 3, Vessel 9]"
      ]
     },
     "execution_count": 54,
     "metadata": {},
     "output_type": "execute_result"
    }
   ],
   "source": [
    "# Loop through all the ports and vessels and keep one vessel for each of the ports depending on whether the vessel starts in that port\n",
    "vessels_to_remove = []\n",
    "\n",
    "for vessel in vessels:\n",
    "    if start_info[vessel].port in ports_to_be_removed:\n",
    "        vessels_to_remove.append(vessel)\n",
    "        \n",
    "vessels_to_remove"
   ]
  },
  {
   "cell_type": "code",
   "execution_count": 55,
   "metadata": {},
   "outputs": [],
   "source": [
    "# vessels_to_remove = [vessels[0], vessels[1], vessels[2], vessels[3], vessels[5], vessels[7], vessels[8]]\n",
    "# vessels_to_remove"
   ]
  },
  {
   "cell_type": "code",
   "execution_count": 56,
   "metadata": {},
   "outputs": [],
   "source": [
    "# Create a list of all vessels starting in a loading port\n",
    "vessels_starting_in_loading = [vessel for vessel in vessels if start_info[vessel].port.isLoadingPort == 1]"
   ]
  },
  {
   "cell_type": "code",
   "execution_count": 57,
   "metadata": {},
   "outputs": [
    {
     "data": {
      "text/plain": [
       "5"
      ]
     },
     "execution_count": 57,
     "metadata": {},
     "output_type": "execute_result"
    }
   ],
   "source": [
    "NUM_VESSELS"
   ]
  },
  {
   "cell_type": "code",
   "execution_count": 58,
   "metadata": {},
   "outputs": [
    {
     "data": {
      "text/plain": [
       "[Vessel 1,\n",
       " Vessel 2,\n",
       " Vessel 3,\n",
       " Vessel 4,\n",
       " Vessel 5,\n",
       " Vessel 6,\n",
       " Vessel 7,\n",
       " Vessel 8,\n",
       " Vessel 9,\n",
       " Vessel 10,\n",
       " Vessel 11,\n",
       " Vessel 12]"
      ]
     },
     "execution_count": 58,
     "metadata": {},
     "output_type": "execute_result"
    }
   ],
   "source": [
    "vessels"
   ]
  },
  {
   "cell_type": "code",
   "execution_count": 59,
   "metadata": {},
   "outputs": [],
   "source": [
    "# num_vessels_kept = len(vessels)-len(vessels_to_remove)\n",
    "# while num_vessels_kept > NUM_VESSELS:\n",
    "#     # Remove one vessel from the loading ports. Starting with the one with latest start time\n",
    "#     latest_start_time = max([start_times[vessel] for vessel in vessels_starting_in_loading])\n",
    "#     vessel_to_remove = [vessel for vessel in vessels_starting_in_loading if start_times[vessel] == latest_start_time][0]\n",
    "#     vessels_to_remove.append(vessel_to_remove)\n",
    "#     vessels_starting_in_loading.remove(vessel_to_remove)\n",
    "#     num_vessels_kept = len(vessels)-len(vessels_to_remove)\n",
    "\n",
    "# vessels_to_remove"
   ]
  },
  {
   "cell_type": "code",
   "execution_count": 60,
   "metadata": {},
   "outputs": [
    {
     "data": {
      "text/plain": [
       "[Vessel 1, Vessel 2, Vessel 3, Vessel 4, Vessel 6, Vessel 8, Vessel 9]"
      ]
     },
     "execution_count": 60,
     "metadata": {},
     "output_type": "execute_result"
    }
   ],
   "source": [
    "vessels_to_remove = [vessels[0], vessels[1], vessels[2], vessels[3], vessels[5], vessels[7], vessels[8]]\n",
    "vessels_to_remove"
   ]
  },
  {
   "cell_type": "code",
   "execution_count": 61,
   "metadata": {},
   "outputs": [
    {
     "data": {
      "text/plain": [
       "[('0', '0', 'LoadingRegion_0_Port_0', '7'),\n",
       " ('1', '300', 'DischargeRegion_0_Port_0', '4'),\n",
       " ('2', '300', 'DischargeRegion_0_Port_0', '8'),\n",
       " ('3', '0', 'LoadingRegion_0_Port_0', '5'),\n",
       " ('4', '250', 'DischargeRegion_0_Port_3', '5'),\n",
       " ('5', '0', 'LoadingRegion_0_Port_0', '12'),\n",
       " ('6', '250', 'DischargeRegion_0_Port_2', '1'),\n",
       " ('7', '0', 'LoadingRegion_0_Port_0', '6'),\n",
       " ('8', '200', 'DischargeRegion_0_Port_1', '0'),\n",
       " ('9', '0', 'LoadingRegion_0_Port_0', '3'),\n",
       " ('10', '0', 'LoadingRegion_0_Port_0', '10'),\n",
       " ('11', '0', 'LoadingRegion_0_Port_0', '1')]"
      ]
     },
     "execution_count": 61,
     "metadata": {},
     "output_type": "execute_result"
    }
   ],
   "source": [
    "vessel_info"
   ]
  },
  {
   "cell_type": "code",
   "execution_count": 62,
   "metadata": {},
   "outputs": [
    {
     "data": {
      "text/plain": [
       "{Vessel 1: (1, 8),\n",
       " Vessel 2: (2, 5),\n",
       " Vessel 3: (2, 9),\n",
       " Vessel 4: (1, 6),\n",
       " Vessel 5: (5, 6),\n",
       " Vessel 6: (1, 13),\n",
       " Vessel 7: (4, 2),\n",
       " Vessel 8: (1, 7),\n",
       " Vessel 9: (3, 1),\n",
       " Vessel 10: (1, 4),\n",
       " Vessel 11: (1, 11),\n",
       " Vessel 12: (1, 2)}"
      ]
     },
     "execution_count": 62,
     "metadata": {},
     "output_type": "execute_result"
    }
   ],
   "source": [
    "start_info"
   ]
  },
  {
   "cell_type": "code",
   "execution_count": 63,
   "metadata": {},
   "outputs": [],
   "source": [
    "# loading_ports = [port for port in ports if port.isLoadingPort==1]\n",
    "# discharging_ports = [port for port in ports if port.isLoadingPort==-1]\n",
    "\n",
    "# print(f'Loading = {len(loading_ports)}')\n",
    "# print(f'Discharging = {len(discharging_ports)}')\n",
    "\n",
    "# vessels_starting_in_loading = [vessel for vessel in vessels if start_info[vessel].port in loading_ports]\n",
    "# print(vessels_starting_in_loading)\n",
    "\n",
    "# print(len(vessels_starting_in_loading))\n",
    "# print(len(discharging_ports) - len(ports_to_be_removed))\n",
    "\n",
    "# if len(vessels_starting_in_loading) > len(discharging_ports) - len(ports_to_be_removed):\n",
    "#     num_to_remove = len(vessels_starting_in_loading) - (len(discharging_ports) - len(ports_to_be_removed)) - 1\n",
    "#     print(num_to_remove)\n",
    "#     vessels_to_remove.extend(vessels_starting_in_loading[:num_to_remove])\n",
    "\n",
    "\n",
    "# vessels_to_remove"
   ]
  },
  {
   "cell_type": "markdown",
   "metadata": {},
   "source": [
    "### Adjust the arcs accordingly"
   ]
  },
  {
   "cell_type": "code",
   "execution_count": 64,
   "metadata": {},
   "outputs": [],
   "source": [
    "\n",
    "# Remove all arcs from vessel_arcs that have destination port or origin port as the port to be removed\n",
    "for vessel in vessels:\n",
    "    for arc in vessel_arcs[vessel]:\n",
    "        if arc.origin_node.port in ports_to_be_removed or arc.destination_node.port in ports_to_be_removed:\n",
    "            arc.origin_node.outgoing_arcs.remove(arc)\n",
    "            arc.destination_node.incoming_arcs.remove(arc)\n",
    "            del arc_dict[(arc.origin_node.tuple, arc.destination_node.tuple, vessel)]\n",
    "    vessel_arcs[vessel] = [arc for arc in vessel_arcs[vessel] if arc.origin_node.port not in ports_to_be_removed and arc.destination_node.port not in ports_to_be_removed]\n",
    "    \n",
    "    \n",
    "# Remove all arcs that have the vessel that we want to remove\n",
    "for vessel in vessels_to_remove:\n",
    "    for arc in vessel_arcs[vessel]:\n",
    "        arc.origin_node.outgoing_arcs.remove(arc)\n",
    "        arc.destination_node.incoming_arcs.remove(arc)\n",
    "        del arc_dict[(arc.origin_node.tuple, arc.destination_node.tuple, vessel)]\n",
    "    del vessel_arcs[vessel]\n"
   ]
  },
  {
   "cell_type": "markdown",
   "metadata": {},
   "source": [
    "### Adjust the vessels"
   ]
  },
  {
   "cell_type": "code",
   "execution_count": 65,
   "metadata": {},
   "outputs": [],
   "source": [
    "vessels = [vessel for vessel in vessels if vessel not in vessels_to_remove]"
   ]
  },
  {
   "cell_type": "code",
   "execution_count": 66,
   "metadata": {},
   "outputs": [
    {
     "data": {
      "text/plain": [
       "[Vessel 5, Vessel 7, Vessel 10, Vessel 11, Vessel 12]"
      ]
     },
     "execution_count": 66,
     "metadata": {},
     "output_type": "execute_result"
    }
   ],
   "source": [
    "vessels"
   ]
  },
  {
   "cell_type": "markdown",
   "metadata": {},
   "source": [
    "### Adjust the ports"
   ]
  },
  {
   "cell_type": "code",
   "execution_count": 67,
   "metadata": {},
   "outputs": [
    {
     "data": {
      "text/plain": [
       "[Port 1, Port 4, Port 5]"
      ]
     },
     "execution_count": 67,
     "metadata": {},
     "output_type": "execute_result"
    }
   ],
   "source": [
    "loading_ports = [port for port in ports if port.isLoadingPort==1]\n",
    "\n",
    "\n",
    "# Remove ports_to_be_removed from ports\n",
    "ports = [port for port in ports if port not in ports_to_be_removed]\n",
    "\n",
    "# Sum the rate for the ports that are removed\n",
    "lost_consumption = sum([port.rate for port in ports_to_be_removed])\n",
    "\n",
    "\n",
    "# Substract the lost consumption from the loading ports\n",
    "for port in loading_ports:\n",
    "    port.rate -= lost_consumption/len(loading_ports)\n",
    "    \n",
    "ports\n",
    "\n"
   ]
  },
  {
   "cell_type": "markdown",
   "metadata": {},
   "source": [
    "# CHECK INSTANCE (PORTS AND VESSELS)"
   ]
  },
  {
   "cell_type": "code",
   "execution_count": 68,
   "metadata": {},
   "outputs": [],
   "source": [
    "#Test"
   ]
  },
  {
   "cell_type": "markdown",
   "metadata": {},
   "source": [
    "### Adjust the nodes"
   ]
  },
  {
   "cell_type": "code",
   "execution_count": 69,
   "metadata": {},
   "outputs": [],
   "source": [
    "# Remove all the nodes for the port to be removed\n",
    "nodes_to_remove = []\n",
    "\n",
    "for node in NODES:\n",
    "    if node.port in ports_to_be_removed:\n",
    "        del NODE_DICT[node.tuple]\n",
    "        nodes_to_remove.append(node)\n",
    "        \n",
    "NODES = [node for node in NODES if node not in nodes_to_remove]\n",
    "regularNodes = [node for node in regularNodes if node not in nodes_to_remove]\n"
   ]
  },
  {
   "cell_type": "markdown",
   "metadata": {},
   "source": [
    "## Visualize the network for a given vessel"
   ]
  },
  {
   "cell_type": "code",
   "execution_count": 70,
   "metadata": {},
   "outputs": [],
   "source": [
    "def visualize_network_for_vessel(vessel, vessel_arcs, drop_sink_arcs):\n",
    "    # Create a directed graph\n",
    "    G = nx.DiGraph()\n",
    "\n",
    "    # Add nodes to the graph\n",
    "    for node in NODES:\n",
    "        G.add_node(str(node.tuple))\n",
    "\n",
    "    # Add edges (arcs) to the graph\n",
    "    for arc in vessel_arcs[vessel]:\n",
    "        # If the arc goes to the sink node, skip it\n",
    "        if drop_sink_arcs and arc.destination_node == sinkNode:\n",
    "            continue\n",
    "        G.add_edge(str(arc.origin_node.tuple), str(arc.destination_node.tuple))\n",
    "\n",
    "    # Determine NODES with incoming and outgoing arcs\n",
    "    nodes_with_incoming_arcs = [node for node, degree in G.in_degree() if degree > 0]\n",
    "    nodes_with_outgoing_arcs = [node for node, degree in G.out_degree() if degree > 0]\n",
    "\n",
    "    # Create a list to hold node colors\n",
    "    node_colors = []\n",
    "    for node in G.nodes():\n",
    "        if node in nodes_with_incoming_arcs or node in nodes_with_outgoing_arcs:\n",
    "            node_colors.append('green')  # Color for nodes with arcs\n",
    "        else:\n",
    "            node_colors.append('skyblue')  # Default color\n",
    "\n",
    "    # Resetting the y_offset and y_spacing\n",
    "    y_offset = 10\n",
    "    y_spacing = -30  # Increase vertical spacing for better clarity\n",
    "\n",
    "    # Manually specify the positions for each node\n",
    "    pos = {}\n",
    "\n",
    "    # Manually set the position for the source and sink nodes\n",
    "    # pos[\"(0, 0)\"] = (0, 0)  # Positioning source node at leftmost, middle height\n",
    "    # pos[\"(5, 5)\"] = (5 * 10, 0)  # Positioning sink node at rightmost, middle height\n",
    "\n",
    "    for node in NODES:\n",
    "        # Skip setting position for source and sink nodes\n",
    "        # if str(node.tuple) in [\"(0, 0)\", \"(5, 5)\"]:\n",
    "        #     continue\n",
    "        port_index = node.port.number  # Get port number to determine y-coordinate\n",
    "        # The x-coordinate is based on time, the y-coordinate is fixed for nodes with the same port\n",
    "        pos[str(node.tuple)] = (node.time * 10, port_index * y_spacing)  # Multiplying time by 10 for better horizontal spacing\n",
    "\n",
    "    # Drawing the graph using the adjusted positions\n",
    "    plt.figure(figsize=(15, 10))\n",
    "    nx.draw(G, pos, with_labels=True, node_size=2000, node_color=node_colors, font_size=10)\n",
    "    labels = nx.get_edge_attributes(G, 'weight')\n",
    "    nx.draw_networkx_edge_labels(G, pos, edge_labels=labels)\n",
    "    plt.title(\"Nodes and Arcs Graph\\nVessel \" + str(vessel.number))\n",
    "    plt.show()"
   ]
  },
  {
   "cell_type": "code",
   "execution_count": 71,
   "metadata": {},
   "outputs": [],
   "source": [
    "# for vessel in vessels:\n",
    "#     visualize_network_for_vessel(vessel, vessel_arcs, drop_sink_arcs=True)"
   ]
  },
  {
   "cell_type": "code",
   "execution_count": 72,
   "metadata": {},
   "outputs": [],
   "source": [
    "from collections import defaultdict\n",
    "\n",
    "def filter_arcs_for_equal_speed_spread(arcs):\n",
    "    if len(arcs) <= 4:\n",
    "        return arcs\n",
    "\n",
    "    # Sort arcs by speed\n",
    "    sorted_arcs = sorted(arcs, key=lambda arc: arc.speed)\n",
    "\n",
    "    slowest_arc = sorted_arcs[0]\n",
    "    fastest_arc = sorted_arcs[-1]\n",
    "\n",
    "    # To equally spread the speeds, we'll try to minimize the variance of the differences in speeds\n",
    "    # between consecutive selected arcs.\n",
    "    min_variance = float('inf')\n",
    "    selected_arcs = [slowest_arc, fastest_arc]\n",
    "\n",
    "    for i in range(1, len(sorted_arcs) - 2):\n",
    "        for j in range(i + 1, len(sorted_arcs) - 1):\n",
    "            speeds = [slowest_arc.speed, sorted_arcs[i].speed, sorted_arcs[j].speed, fastest_arc.speed]\n",
    "            intervals = [speeds[k + 1] - speeds[k] for k in range(len(speeds) - 1)]\n",
    "            variance = sum((x - sum(intervals) / len(intervals)) ** 2 for x in intervals) / len(intervals)\n",
    "\n",
    "            if variance < min_variance:\n",
    "                min_variance = variance\n",
    "                selected_arcs = [slowest_arc, sorted_arcs[i], sorted_arcs[j], fastest_arc]\n",
    "\n",
    "    return selected_arcs"
   ]
  },
  {
   "cell_type": "code",
   "execution_count": 73,
   "metadata": {},
   "outputs": [],
   "source": [
    "if FILTER:    \n",
    "    print('Filtering arcs')\n",
    "    filtered_arcs = {}\n",
    "    for vessel in vessels:\n",
    "        arcs = vessel_arcs[vessel]\n",
    "\n",
    "        # Group arcs by (origin node, destination port)\n",
    "        grouped_arcs = defaultdict(list)\n",
    "        for arc in arcs:\n",
    "            origin_node = arc.origin_node\n",
    "            destination_port = arc.destination_node.port\n",
    "            grouped_arcs[(origin_node, destination_port)].append(arc)\n",
    "\n",
    "        # Filter arcs in each group\n",
    "        filtered_arcs_for_v = []\n",
    "\n",
    "        # print(grouped_arcs[NODE_DICT[(3, 5)], ports[0]])\n",
    "        for group in grouped_arcs:\n",
    "            filtered_arcs_for_v.extend(filter_arcs_for_equal_speed_spread(grouped_arcs[group]))\n",
    "        \n",
    "        filtered_arcs[vessel] = filtered_arcs_for_v\n",
    "        \n",
    "else:\n",
    "    filtered_arcs = vessel_arcs.copy()\n",
    "        \n",
    "        \n"
   ]
  },
  {
   "cell_type": "code",
   "execution_count": 74,
   "metadata": {},
   "outputs": [],
   "source": [
    "# for vessel in vessels:\n",
    "#     visualize_network_for_vessel(vessel, filtered_arcs, drop_sink_arcs=True)"
   ]
  },
  {
   "cell_type": "code",
   "execution_count": 75,
   "metadata": {},
   "outputs": [],
   "source": [
    "def find_earliest_visits_from_start(filtered_arcs, start_node):\n",
    "    # Dictionary to store the earliest visit time for each port\n",
    "    earliest_visits = {}\n",
    "\n",
    "    # Filter arcs to include only those originating from the start node\n",
    "    outgoing_arcs = [arc for arc in filtered_arcs if arc.origin_node == start_node]\n",
    "\n",
    "    # Iterate through the outgoing arcs\n",
    "    for arc in outgoing_arcs:\n",
    "        dest_port = arc.destination_node.port\n",
    "        dest_time = arc.destination_node.time\n",
    "\n",
    "        # Update the earliest visit time for each destination port\n",
    "        if dest_port not in earliest_visits or dest_time < earliest_visits[dest_port]:\n",
    "            earliest_visits[dest_port] = dest_time\n",
    "\n",
    "    return earliest_visits"
   ]
  },
  {
   "cell_type": "code",
   "execution_count": 76,
   "metadata": {},
   "outputs": [],
   "source": [
    "earliest_visits = {}\n",
    "for vessel in vessels:\n",
    "    earliest_visits[vessel] = find_earliest_visits_from_start(filtered_arcs[vessel], start_info[vessel])"
   ]
  },
  {
   "cell_type": "code",
   "execution_count": 77,
   "metadata": {},
   "outputs": [],
   "source": [
    "mega_filtered = filtered_arcs.copy()\n",
    "\n",
    "for v in vessels:\n",
    "    # Create a new list for storing filtered arcs\n",
    "    new_filtered_arcs = []\n",
    "\n",
    "    for arc in mega_filtered[v]:\n",
    "        # Skip the source and sink nodes\n",
    "        # if arc.origin_node == sourceNode or arc.destination_node == sinkNode:\n",
    "        if arc.origin_node == sourceNode:\n",
    "            new_filtered_arcs.append(arc)\n",
    "            continue\n",
    "        \n",
    "        if arc.origin_node == start_info[v]:\n",
    "            new_filtered_arcs.append(arc)\n",
    "            continue\n",
    "\n",
    "        # Check the earliest visit time constraints\n",
    "        if arc.origin_node.time >= earliest_visits[v][arc.origin_node.port] \\\n",
    "           and arc.destination_node.time >= earliest_visits[v][arc.destination_node.port]:\n",
    "            new_filtered_arcs.append(arc)\n",
    "\n",
    "    # Replace the original list with the new filtered list\n",
    "    mega_filtered[v] = new_filtered_arcs\n"
   ]
  },
  {
   "cell_type": "code",
   "execution_count": 78,
   "metadata": {},
   "outputs": [
    {
     "name": "stdout",
     "output_type": "stream",
     "text": [
      "Total number of arcs before filtering: 6325\n",
      "Total number of arcs after filtering: 6325\n",
      "Total number of arcs after mega filtering: 4896\n"
     ]
    }
   ],
   "source": [
    "total_vessel_arcs = sum(len(vessel_arcs[v]) for v in vessels)\n",
    "total_filtered_arcs = sum(len(filtered_arcs[v]) for v in vessels)\n",
    "total_mega_filtered_arcs = sum(len(mega_filtered[v]) for v in vessels)\n",
    "\n",
    "# Print the total number of arcs for each vessel before and after filtering\n",
    "print(f\"Total number of arcs before filtering: {total_vessel_arcs}\")\n",
    "print(f\"Total number of arcs after filtering: {total_filtered_arcs}\")\n",
    "print(f\"Total number of arcs after mega filtering: {total_mega_filtered_arcs}\")"
   ]
  },
  {
   "cell_type": "code",
   "execution_count": 79,
   "metadata": {},
   "outputs": [],
   "source": [
    "# for vessel in vessels:\n",
    "#     visualize_network_for_vessel(vessel, mega_filtered, drop_sink_arcs=True)"
   ]
  },
  {
   "cell_type": "code",
   "execution_count": 80,
   "metadata": {},
   "outputs": [],
   "source": [
    "vessel_arcs = mega_filtered.copy()"
   ]
  },
  {
   "cell_type": "code",
   "execution_count": 81,
   "metadata": {},
   "outputs": [],
   "source": [
    "o_dict = {}\n",
    "for v in vessels:\n",
    "    for arc in vessel_arcs[v]:\n",
    "        o_node = arc.origin_node\n",
    "        #set v to key and o_node to value, if o_node in o_dict, do not add and do not include sourceNode and sinkNode\n",
    "        if v not in o_dict.keys():\n",
    "            if o_node != sourceNode:\n",
    "                o_dict[v] = [o_node]\n",
    "        else:\n",
    "            if o_node not in o_dict[v] and o_node != sourceNode:\n",
    "                o_dict[v].append(o_node)"
   ]
  },
  {
   "cell_type": "code",
   "execution_count": 82,
   "metadata": {},
   "outputs": [],
   "source": [
    "# For each node that are in NODES, but not in o_dict, add node to a dictionary with key = vessel and value = node\n",
    "non_operational = {}\n",
    "for v in vessels:\n",
    "    for node in NODES:\n",
    "        if node not in o_dict[v] and node != sourceNode and node != sinkNode:\n",
    "            non_operational.setdefault(v, []).append(node)"
   ]
  },
  {
   "cell_type": "code",
   "execution_count": 83,
   "metadata": {},
   "outputs": [],
   "source": [
    "# Find all sink arcs for each vessel\n",
    "sink_arcs = {}\n",
    "for v in vessels:\n",
    "    sink_arcs[v] = [arc for arc in vessel_arcs[v] if arc.destination_node == sinkNode]"
   ]
  },
  {
   "cell_type": "code",
   "execution_count": 84,
   "metadata": {},
   "outputs": [],
   "source": [
    "# Initialize a list to store the history\n",
    "bounds_history = []\n",
    "\n",
    "def callback(model, where):\n",
    "    if where == gp.GRB.Callback.MIP:\n",
    "        time = model.cbGet(gp.GRB.Callback.RUNTIME)\n",
    "        ub = model.cbGet(gp.GRB.Callback.MIP_OBJBST)\n",
    "        lb = model.cbGet(gp.GRB.Callback.MIP_OBJBND)\n",
    "        # print(f\"Callback triggered at time {time}: UB = {ub}, LB = {lb}\")  # Debug print\n",
    "        if ub < gp.GRB.INFINITY:  # Ensure that the upper bound is finite\n",
    "            gap = 100.0 * (ub - lb) / max(1e-10, abs(ub))\n",
    "            bounds_history.append((time, ub, lb, gap))\n",
    "            # print(f\"Recorded: Time = {time}, UB = {ub}, LB = {lb}, Gap = {gap}%\")  # Debug print\n",
    "\n"
   ]
  },
  {
   "cell_type": "markdown",
   "metadata": {},
   "source": [
    "# Starting with Gurobi"
   ]
  },
  {
   "cell_type": "code",
   "execution_count": 85,
   "metadata": {},
   "outputs": [
    {
     "name": "stdout",
     "output_type": "stream",
     "text": [
      "Set parameter Username\n",
      "Academic license - for non-commercial use only - expires 2024-01-18\n"
     ]
    }
   ],
   "source": [
    "m = gp.Model('Maritime Inventory Routing Problem Speed Optimization')\n"
   ]
  },
  {
   "cell_type": "code",
   "execution_count": 86,
   "metadata": {},
   "outputs": [],
   "source": [
    "'''Creating the variables'''\n",
    "'''Binary first'''\n",
    "# x is the binary variable that indicates whether a vessel travels on arc a, where an arc is a route frome one node to another node.\n",
    "x = m.addVars(((arc.tuple, vessel) for vessel in vessels for arc in vessel_arcs[vessel]) , vtype=gp.GRB.BINARY, name=\"x\")\n",
    "\n",
    "# o is the binary variable that indicates whether vessel v is operating (loading/unloading) at node n\n",
    "o = m.addVars(((node.port.number, node.time, vessel) for node in regularNodes for vessel in vessels), vtype=gp.GRB.BINARY, name=\"o\")\n",
    "\n",
    "'''Continuous varibles'''\n",
    "# q is the amount of product loaded or unloaded at port i by vessel v at time t\n",
    "q_bounds = {(node.port.number, node.time, vessel): min(vessel.max_inventory, node.port.capacity) for node in regularNodes for vessel in vessels}\n",
    "q = m.addVars(q_bounds.keys(), lb=0, ub=q_bounds, vtype=gp.GRB.CONTINUOUS, name=\"q\")\n",
    "\n",
    "# s is the amount of product at port i at the end of period t\n",
    "s_bounds = {(node.port.number, node.time): node.port.capacity for node in regularNodes}\n",
    "s = m.addVars(s_bounds.keys(), lb=0, ub=s_bounds, vtype=gp.GRB.CONTINUOUS, name=\"s\")\n",
    "\n",
    "# Create s vars for each port in time period 0\n",
    "s_bounds_source = {(port.number, 0): port.capacity for port in ports}\n",
    "s_source = m.addVars(s_bounds_source.keys(), lb=0, ub=s_bounds, vtype=gp.GRB.CONTINUOUS, name=\"s\")\n",
    "s.update(s_source)\n",
    "\n",
    "# w is the amount of product on board of vessel v at the end of time period t\n",
    "w_bounds = {(t, vessel): vessel.max_inventory for vessel in vessels for t in TIME_PERIOD_RANGE}\n",
    "w = m.addVars(w_bounds.keys(), lb=0, ub=w_bounds, vtype=gp.GRB.CONTINUOUS, name=\"w\")\n",
    "\n",
    "w_bounds_source = {(0, vessel): vessel.max_inventory for vessel in vessels}\n",
    "w_source = m.addVars(w_bounds_source.keys(), lb=0, ub=w_bounds, vtype=gp.GRB.CONTINUOUS, name=\"w\")\n",
    "w.update(w_source)\n",
    "\n",
    "m.update()"
   ]
  },
  {
   "cell_type": "code",
   "execution_count": 87,
   "metadata": {},
   "outputs": [
    {
     "data": {
      "text/plain": [
       "(4896, 675, 675, 138, 230)"
      ]
     },
     "execution_count": 87,
     "metadata": {},
     "output_type": "execute_result"
    }
   ],
   "source": [
    "len(x), len(o), len(q), len(s), len(w)"
   ]
  },
  {
   "cell_type": "code",
   "execution_count": 88,
   "metadata": {},
   "outputs": [],
   "source": [
    "# Create a dict where the arc.tuple is the key and arc.cost is the value\n",
    "costs = {(arc.tuple, vessel): arc.cost for vessel in vessels for arc in vessel_arcs[vessel] }\n",
    "m.update()"
   ]
  },
  {
   "cell_type": "markdown",
   "metadata": {},
   "source": [
    "### Objective Function"
   ]
  },
  {
   "cell_type": "code",
   "execution_count": 89,
   "metadata": {},
   "outputs": [],
   "source": [
    "obj = gp.quicksum(costs[key]*x[key] for key in costs) + gp.quicksum(o[node.port.number, node.time, vessel] * OPERATING_COST for node in regularNodes for vessel in vessels)\n",
    "#Minimize the costs\n",
    "m.setObjective(obj, GRB.MINIMIZE)\n",
    "m.update()"
   ]
  },
  {
   "cell_type": "markdown",
   "metadata": {},
   "source": [
    "### Constraints"
   ]
  },
  {
   "cell_type": "code",
   "execution_count": 90,
   "metadata": {},
   "outputs": [],
   "source": [
    "# Can fix some variables, to reduce the complexity of the model\n",
    "for v in vessels:\n",
    "    for node in non_operational[v]:   \n",
    "        port_number = node.port.number\n",
    "        time = node.time\n",
    "        o[port_number, time, v] = 0\n",
    "        q[port_number, time, v] = 0\n",
    "m.update()\n"
   ]
  },
  {
   "cell_type": "code",
   "execution_count": 91,
   "metadata": {},
   "outputs": [],
   "source": [
    "# Constraint (2)\n",
    "'''Must leave the source node'''\n",
    "for v in vessels:\n",
    "    outgoing_from_source = [arc for arc in vessel_arcs[v] if arc.origin_node == sourceNode]\n",
    "    m.addConstr(gp.quicksum((x[arc.tuple, v]) for arc in outgoing_from_source) == 1, name = 'SourceFlow')\n",
    "m.update()"
   ]
  },
  {
   "cell_type": "code",
   "execution_count": 92,
   "metadata": {},
   "outputs": [],
   "source": [
    "# Constraint (3)\n",
    "'''Must enter the sink node'''\n",
    "for v in vessels:\n",
    "    incoming_to_sink = [arc for arc in vessel_arcs[v] if arc.destination_node == sinkNode]\n",
    "    m.addConstr(gp.quicksum((x[arc.tuple, v]) for arc in incoming_to_sink) == 1, name = 'SinkFlow')\n",
    "m.update()"
   ]
  },
  {
   "cell_type": "code",
   "execution_count": 93,
   "metadata": {},
   "outputs": [],
   "source": [
    "# Constraint (4)\n",
    "'''For each node we enter, we must leave'''\n",
    "for v in vessels:\n",
    "    for node in regularNodes:\n",
    "        outgoing_from_node = [arc for arc in vessel_arcs[v] if arc.origin_node == node]\n",
    "        incoming_to_node = [arc for arc in vessel_arcs[v] if arc.destination_node == node]\n",
    "        m.addConstr(gp.quicksum((x[in_arc.tuple, v]) for in_arc in incoming_to_node) - gp.quicksum((x[out_arc.tuple, v]) for out_arc in outgoing_from_node) == 0, name = \"FlowBalance\")\n",
    "m.update()"
   ]
  },
  {
   "cell_type": "code",
   "execution_count": 94,
   "metadata": {},
   "outputs": [],
   "source": [
    "# Constraint (5)\n",
    "'''Set correct initial inventory at each port'''\n",
    "for port in ports:\n",
    "    m.addConstr(s_source[port.number, 0] == port.inventory, name = 'InitialInventoryPort')\n",
    "m.update()"
   ]
  },
  {
   "cell_type": "code",
   "execution_count": 95,
   "metadata": {},
   "outputs": [],
   "source": [
    "# Constraint (6)\n",
    "'''Inventory balance at ports'''\n",
    "# Inventory balance for ports at the end of each time period t\n",
    "for port in ports:\n",
    "    for t in TIME_PERIOD_RANGE:\n",
    "        m.addConstr(s[port.number, t] == (s[port.number, t-1] + (port.isLoadingPort * port.rate) - gp.quicksum(port.isLoadingPort * q[port.number, t, v] for v in vessels)) , name = 'PortBalance')\n",
    "m.update()"
   ]
  },
  {
   "cell_type": "code",
   "execution_count": 96,
   "metadata": {},
   "outputs": [],
   "source": [
    "# Constraint (7)\n",
    "'''Set correct initial inventory at each vessel'''\n",
    "for v in vessels:\n",
    "    m.addConstr(w_source[0, v] == v.inventory, name = 'InitialInventoryVessel')\n",
    "m.update()"
   ]
  },
  {
   "cell_type": "code",
   "execution_count": 97,
   "metadata": {},
   "outputs": [],
   "source": [
    "# Constraint (8)\n",
    "'''Inventory balance at vessel'''\n",
    "# for each vessel, the inventory at the end of the time period is equal to the inventory at the beginning of the time period + the amount of product loaded/unloaded at the ports\n",
    "for t in TIME_PERIOD_RANGE:\n",
    "    for v in vessels:\n",
    "        m.addConstr(w[t, v] == gp.quicksum(port.isLoadingPort * q[port.number, t, v] for port in ports) + w[t-1,v], name = 'VesselBalance')\n",
    "m.update()"
   ]
  },
  {
   "cell_type": "code",
   "execution_count": 98,
   "metadata": {},
   "outputs": [],
   "source": [
    "# Constraint (9)\n",
    "'''Berth limit'''\n",
    "for node in regularNodes:\n",
    "    m.addConstr((gp.quicksum((o[node.port.number, node.time, v]) for v in vessels) <= node.port.berth_limit), name = 'Birth_limit_in_time_t')\n",
    "m.update()"
   ]
  },
  {
   "cell_type": "code",
   "execution_count": 99,
   "metadata": {},
   "outputs": [],
   "source": [
    "#Constraint (10)\n",
    "'''Must be physically present to operate'''\n",
    "for v in vessels:\n",
    "    for node in regularNodes:\n",
    "        incoming_to_node = [arc for arc in vessel_arcs[v] if arc.destination_node == node]\n",
    "        m.addConstr(o[node.port.number, node.time, v] <= gp.quicksum((x[in_arc.tuple, v]) for in_arc in incoming_to_node), name = 'Cannot operate unless vessel is at node')\n",
    "m.update()"
   ]
  },
  {
   "cell_type": "code",
   "execution_count": 100,
   "metadata": {},
   "outputs": [],
   "source": [
    "# Constraint (11)\n",
    "'''After an operation, we must either continue operating or move to another port'''\n",
    "\n",
    "all_waiting_arcs = {}\n",
    "for v in vessels:\n",
    "    for arc in waiting_arcs[v]:\n",
    "        origin_node = arc.origin_node\n",
    "        destination_node = arc.destination_node\n",
    "        all_waiting_arcs[((origin_node.port.number, origin_node.time),(destination_node.port.number, destination_node.time) , v)] = arc\n",
    "                \n",
    "for node in regularNodes:\n",
    "    for v in vessels:\n",
    "        if (node.port.number, node.time + 1, v) in o.keys():  # check if o for the next period exists\n",
    "            \n",
    "            waiting_arc_key = ((node.port.number, node.time), (node.port.number, node.time + 1), v)\n",
    "            if waiting_arc_key in all_waiting_arcs.keys():\n",
    "                waiting_arc = all_waiting_arcs[waiting_arc_key]\n",
    "            else:\n",
    "                continue\n",
    "            \n",
    "            actual_key = (waiting_arc.tuple, v)\n",
    "            \n",
    "            if actual_key in x.keys():  # check if the waiting arc exists\n",
    "                m.addConstr(o[node.port.number, node.time, v] <= \n",
    "                            o[node.port.number, node.time + 1, v] + \n",
    "                            (1 - x[actual_key]),\n",
    "                            name=f\"Operate_or_Move_{node.port.number}_{node.time}_{v}\")\n",
    "m.update()"
   ]
  },
  {
   "cell_type": "code",
   "execution_count": 101,
   "metadata": {},
   "outputs": [],
   "source": [
    "# #Constraint (12)\n",
    "'''Cannot load/unload more than the maximum operating quantity'''\n",
    "for v in vessels:\n",
    "    for node in regularNodes:\n",
    "        m.addConstr(q[node.port.number, node.time, v] <= o[node.port.number, node.time, v]*v.max_operating_quantity, name = 'Max_operating_quantity')\n",
    "m.update()"
   ]
  },
  {
   "cell_type": "code",
   "execution_count": 102,
   "metadata": {},
   "outputs": [],
   "source": [
    "# Contraint (13)\n",
    "'''Must operate in every port we visit.'''\n",
    "# O_itv <= o_i(t+1)v + sum of x_ijv for all j except waiting arc\n",
    "for v in vessels:\n",
    "    for node in regularNodes:\n",
    "        outgoing_from_node = [arc for arc in vessel_arcs[v] if arc.origin_node == node]\n",
    "        # Remove the waiting arc from the list\n",
    "        for a in outgoing_from_node:\n",
    "            if a.is_waiting_arc:\n",
    "                outgoing_from_node.remove(a)\n",
    "        m.addConstr(o[node.port.number, node.time, v] >= gp.quicksum((x[out_arc.tuple, v]) for out_arc in outgoing_from_node), name = 'Must_operate_in_every_port')\n",
    "m.update()"
   ]
  },
  {
   "cell_type": "code",
   "execution_count": 103,
   "metadata": {},
   "outputs": [],
   "source": [
    "\n",
    "# Constraint (14) modification\n",
    "# Ensure that q is at least 1/4 of the vessel's capacity if o is 1\n",
    "for v in vessels:\n",
    "    for node in regularNodes:\n",
    "        m.addConstr(q[node.port.number, node.time, v] >= 1/4 * vessel.max_inventory * o[node.port.number, node.time, v], \n",
    "                    name=f'q_{node.port.number}_{node.time}_{v}')\n",
    "m.update()\n"
   ]
  },
  {
   "cell_type": "code",
   "execution_count": 104,
   "metadata": {},
   "outputs": [],
   "source": [
    "if GAP_REDUCTION:\n",
    "    print('Using gap reduction constraints')\n",
    "    # Constraint (15)\n",
    "    for v in vessels:\n",
    "        for t in TIME_PERIOD_RANGE:\n",
    "            \n",
    "            M = len(TIME_PERIOD_RANGE) - t\n",
    "            # sum of x[a,v] for all arcs 'a' that are sink arcs at time 't' for vessel 'v'\n",
    "            sum_sink_arcs_at_t = gp.quicksum(x[a.tuple, v] for a in sink_arcs[v] if a.origin_node.time == t)\n",
    "            \n",
    "            sum_future_operations = 0\n",
    "            for o_var in o_dict[v]:\n",
    "                if o_var.time > t:\n",
    "                    sum_future_operations += o[o_var.port.number, o_var.time, v]\n",
    "\n",
    "            # Add the constraint for the model 'm'\n",
    "            m.addConstr(sum_future_operations <= M * (1 - sum_sink_arcs_at_t), \n",
    "                        name=f'NoOperationAfterSink_{v}_{t}')\n",
    "    m.update()"
   ]
  },
  {
   "cell_type": "markdown",
   "metadata": {},
   "source": [
    "# RUN MODEL"
   ]
  },
  {
   "cell_type": "code",
   "execution_count": 105,
   "metadata": {},
   "outputs": [
    {
     "name": "stdout",
     "output_type": "stream",
     "text": [
      "Set parameter TimeLimit to value 10800\n",
      "Gurobi Optimizer version 10.0.3 build v10.0.3rc0 (mac64[x86])\n",
      "\n",
      "CPU model: Intel(R) Core(TM) i5-8257U CPU @ 1.40GHz\n",
      "Thread count: 4 physical cores, 8 logical processors, using up to 8 threads\n",
      "\n",
      "Optimize a model with 4390 rows, 6614 columns and 25437 nonzeros\n",
      "Model fingerprint: 0xf62977f2\n",
      "Variable types: 1043 continuous, 5571 integer (5571 binary)\n",
      "Coefficient statistics:\n",
      "  Matrix range     [1e+00, 3e+02]\n",
      "  Objective range  [5e+01, 3e+05]\n",
      "  Bounds range     [1e+00, 7e+02]\n",
      "  RHS range        [1e+00, 3e+02]\n",
      "Presolve removed 951 rows and 434 columns\n",
      "Presolve time: 0.08s\n",
      "Presolved: 3439 rows, 6180 columns, 26864 nonzeros\n",
      "Variable types: 788 continuous, 5392 integer (5392 binary)\n",
      "\n",
      "Root relaxation: objective 3.171096e+04, 2866 iterations, 0.14 seconds (0.14 work units)\n",
      "\n",
      "    Nodes    |    Current Node    |     Objective Bounds      |     Work\n",
      " Expl Unexpl |  Obj  Depth IntInf | Incumbent    BestBd   Gap | It/Node Time\n",
      "\n",
      "     0     0 31710.9582    0  385          - 31710.9582      -     -    0s\n",
      "     0     0 35252.4722    0  429          - 35252.4722      -     -    0s\n",
      "     0     0 35258.2075    0  427          - 35258.2075      -     -    0s\n",
      "     0     0 35258.6731    0  428          - 35258.6731      -     -    0s\n",
      "     0     0 39419.4005    0  284          - 39419.4005      -     -    1s\n",
      "     0     0 39792.2643    0  319          - 39792.2643      -     -    1s\n",
      "     0     0 39805.6519    0  374          - 39805.6519      -     -    1s\n",
      "     0     0 39808.7263    0  376          - 39808.7263      -     -    1s\n",
      "     0     0 39809.9376    0  314          - 39809.9376      -     -    1s\n",
      "     0     0 40389.6247    0  306          - 40389.6247      -     -    1s\n",
      "     0     0 40698.3977    0  425          - 40698.3977      -     -    2s\n",
      "     0     0 40796.2246    0  381          - 40796.2246      -     -    2s\n",
      "     0     0 40820.7826    0  429          - 40820.7826      -     -    2s\n",
      "     0     0 40836.9094    0  382          - 40836.9094      -     -    2s\n",
      "     0     0 40838.3367    0  429          - 40838.3367      -     -    2s\n",
      "     0     0 41220.5441    0  427          - 41220.5441      -     -    2s\n",
      "     0     0 41246.2035    0  445          - 41246.2035      -     -    2s\n",
      "     0     0 41269.3725    0  385          - 41269.3725      -     -    2s\n",
      "     0     0 41271.9030    0  384          - 41271.9030      -     -    2s\n",
      "     0     0 41325.4704    0  381          - 41325.4704      -     -    2s\n",
      "     0     0 41341.8868    0  407          - 41341.8868      -     -    2s\n",
      "     0     0 41345.9566    0  403          - 41345.9566      -     -    2s\n",
      "     0     0 41346.5687    0  381          - 41346.5687      -     -    2s\n",
      "     0     0 41386.2856    0  251          - 41386.2856      -     -    2s\n",
      "     0     0 41398.3292    0  251          - 41398.3292      -     -    2s\n",
      "     0     0 41401.7400    0  327          - 41401.7400      -     -    3s\n",
      "     0     0 41401.7400    0  327          - 41401.7400      -     -    3s\n",
      "     0     0 41451.2616    0  244          - 41451.2616      -     -    3s\n",
      "     0     0 41465.6340    0  252          - 41465.6340      -     -    3s\n",
      "     0     0 41465.9573    0  253          - 41465.9573      -     -    3s\n",
      "     0     0 41474.4020    0  250          - 41474.4020      -     -    3s\n",
      "     0     0 41479.5614    0  252          - 41479.5614      -     -    3s\n",
      "     0     0 41488.1234    0  250          - 41488.1234      -     -    3s\n",
      "     0     0 41490.0067    0  250          - 41490.0067      -     -    3s\n",
      "     0     0 41500.4676    0  250          - 41500.4676      -     -    3s\n",
      "     0     0 41500.4676    0  246          - 41500.4676      -     -    3s\n",
      "     0     2 41700.4675    0  242          - 41700.4675      -     -    4s\n",
      "     3     8 47536.5718    2  543          - 46653.5726      -  1671    5s\n",
      "   263   281 78038.8248   49  510          - 47563.2402      -   213   10s\n",
      "   830   859 139869.666  133  401          - 47563.2402      -   142   15s\n",
      "  1774  1848 276385.889  331  401          - 47563.2402      -   113   20s\n",
      "  2354  2256 475777.903  143  246          - 48444.2939      -   114   25s\n",
      "  2368  2265 260415.352  138  254          - 48444.2939      -   113   30s\n",
      "  2370  2270 48553.6593   11  451          - 48553.6593      -   3.7   36s\n",
      "  2405  2296 287483.622   16  561          - 50208.9383      -  23.9   40s\n",
      "  2464  2340 53408.1135   22  434          - 53408.1135      -  46.1   45s\n",
      "  2506  2364 59559.1160   25  644          - 59559.1160      -  55.2   51s\n",
      "  2562  2401 60533.7103   29  584          - 60533.7103      -  69.5   55s\n",
      "  2662  2466 70320.2232   37  404          - 61012.9344      -  90.1   60s\n",
      "  2792  2518 76891.5221   46  320          - 61012.9344      -   106   65s\n",
      "  2898  2550 344822.558   53  366          - 61012.9344      -   116   70s\n",
      "  3004  2590 168153.421   61  420          - 61012.9344      -   129   75s\n",
      "  3087  2633 196396.286   69  323          - 61012.9344      -   139   82s\n",
      "H 3094  2516                    3020832.7121 61012.9344  98.0%   140   82s\n",
      "H 3105  2433                    3020232.7121 61012.9344  98.0%   141   84s\n",
      "H 3105  2331                    2818779.9069 61012.9344  97.8%   141   84s\n",
      "H 3120  2228                    2788037.5625 61012.9344  97.8%   143   84s\n",
      "  3141  2258 398328.895   74  395 2788037.56 61012.9344  97.8%   146   85s\n",
      "H 3183  2184                    2764745.1183 61012.9344  97.8%   149   87s\n",
      "H 3189  2094                    2674863.1752 61012.9344  97.7%   151   87s\n",
      "H 3202  2005                    2610803.9972 61012.9344  97.7%   152   87s\n",
      "H 3245  1946                    2596290.9015 61012.9344  97.6%   157   89s\n",
      "H 3246  1871                    2580902.8169 61012.9344  97.6%   157   89s\n",
      "H 3258  1795                    2490269.6987 61012.9344  97.5%   158   89s\n",
      "  3269  1837 248339.677   83  421 2490269.70 61012.9344  97.5%   160   91s\n",
      "H 3290  1761                    2102522.3495 61012.9344  97.1%   163   91s\n",
      "H 3315  1737                    2088934.7865 61012.9344  97.1%   165   94s\n",
      "H 3322  1672                    2057847.0233 61012.9344  97.0%   167   94s\n",
      "  3363  1717 260447.947   89  387 2057847.02 61012.9344  97.0%   170   97s\n",
      "H 3381  1653                    2044259.4603 61012.9344  97.0%   172   97s\n",
      "H 3398  1592                    2034923.2982 61012.9344  97.0%   174   97s\n",
      "H 3409  1535                    2031143.6231 61012.9344  97.0%   174   97s\n",
      "  3426  1565 270581.663   93  398 2031143.62 61012.9344  97.0%   174  100s\n",
      "H 3442  1509                    2010178.6048 61012.9344  97.0%   176  100s\n",
      "H 3462  1456                    2007651.1788 61012.9344  97.0%   179  100s\n",
      "  3469  1512 454500.613   96  444 2007651.18 61025.8697  97.0%   179  105s\n",
      "H 3488  1460                    2006198.9297 61025.8697  97.0%   179  105s\n",
      "H 3545  1399                    1970793.7726 61025.8697  96.9%   182  105s\n",
      "H 3585  1390                    1970743.4612 61025.8697  96.9%   183  109s\n",
      "H 3611  1342                    1963528.5831 61025.8697  96.9%   186  109s\n",
      "  3612  1424 132963.311   57  367 1963528.58 61025.8697  96.9%   186  114s\n",
      "H 3615  1387                    1963478.5831 61025.8697  96.9%   186  114s\n",
      "H 3637  1344                    1961233.6826 61025.8697  96.9%   185  114s\n",
      "  3703  1449 295555.299   83  393 1961233.68 61025.8697  96.9%   189  117s\n",
      "  3949  1543 1492551.03  165  170 1961233.68 63826.7282  96.7%   191  123s\n",
      "H 3951  1509                    1961183.6826 63826.7282  96.7%   191  123s\n",
      "  4074  1511 97472.6276   32  305 1961183.68 65352.5160  96.7%   190  128s\n",
      "  4128  1557 169832.869   43  269 1961183.68 65352.5160  96.7%   193  132s\n",
      "  4194  1680 288354.429   67  335 1961183.68 65352.5160  96.7%   196  135s\n",
      "  4404  1735 336194.626  103  295 1961183.68 65352.5160  96.7%   197  141s\n",
      "  4727  2162 389827.122  168  334 1961183.68 65352.5160  96.7%   197  146s\n",
      "  4974  2329 449350.219  225  298 1961183.68 65352.5160  96.7%   195  150s\n",
      "  5485  2904 682017.712  317  371 1961183.68 66304.3748  96.6%   191  155s\n",
      "  6174  3447 222005.907   36  460 1961183.68 72304.3854  96.3%   186  162s\n",
      "  6393  3607 307920.690   47  325 1961183.68 72304.3854  96.3%   187  165s\n",
      "  6750  3945 483299.393  112  414 1961183.68 72304.3854  96.3%   188  175s\n",
      "  7185  4285 270223.506   41  450 1961183.68 81171.0089  95.9%   188  183s\n",
      "  7385  4603 439306.085   60  287 1961183.68 81171.0089  95.9%   188  188s\n",
      "  7739  4797 1167483.50  154  209 1961183.68 87140.1416  95.6%   188  192s\n",
      "  7963  4978 505721.947   72  210 1961183.68 87140.1416  95.6%   190  196s\n",
      "  8144  5261 585066.322  130  291 1961183.68 89063.5234  95.5%   190  200s\n",
      "  8463  5488 338092.758   47  309 1961183.68 89063.5234  95.5%   192  207s\n",
      "  8696  5775 624584.544  106  346 1961183.68 90184.9533  95.4%   191  212s\n",
      "  9021  6005 403935.555   36  416 1961183.68 90951.2645  95.4%   192  216s\n",
      "  9309  6142 358062.537   42  399 1961183.68 94241.3052  95.2%   194  225s\n",
      "  9499  6412 583936.349   46  514 1961183.68 94339.5186  95.2%   196  230s\n",
      "  9779  6811 1005888.62  147  224 1961183.68 94339.5186  95.2%   198  236s\n",
      " 10219  7128 1184227.50  289  219 1961183.68 98155.7713  95.0%   196  244s\n",
      " 10564  7634 447225.757  105  510 1961183.68 98155.7713  95.0%   196  251s\n",
      " 11145  7817 583813.741  260  343 1961183.68 99252.9689  94.9%   196  256s\n",
      " 11414  8239 346699.283   49  502 1961183.68 101275.169  94.8%   199  262s\n",
      " 11873  8492 957104.764  133  245 1961183.68 101284.141  94.8%   200  268s\n",
      " 12205  8845 499257.454   73  303 1961183.68 103551.386  94.7%   200  274s\n",
      " 12667  9049 infeasible  219      1961183.68 105495.426  94.6%   200  280s\n",
      " 12912  9452 511503.325   76  399 1961183.68 109216.690  94.4%   204  286s\n",
      " 13404  9969 348685.144   41  598 1961183.68 110322.851  94.4%   203  292s\n",
      " 14000 10034 155461.084   35  501 1961183.68 110878.444  94.3%   202  298s\n",
      " 14109 10117 infeasible   42      1961183.68 110878.444  94.3%   205  306s\n",
      " 14194 10255 512444.533   44  267 1961183.68 111276.617  94.3%   205  312s\n",
      " 14415 10479 344968.526   51  475 1961183.68 112670.722  94.3%   208  318s\n",
      " 14696 10687 345834.468   62  279 1961183.68 113638.383  94.2%   208  328s\n",
      " 14944 10861 464019.532  121  326 1961183.68 113638.383  94.2%   210  335s\n",
      " 15157 11273 579768.481  187  362 1961183.68 115066.249  94.1%   211  343s\n",
      " 15653 11555 337264.253   55  318 1961183.68 115066.249  94.1%   211  353s\n",
      " 15987 11996 505185.053  140  449 1961183.68 116585.283  94.1%   212  360s\n",
      " 16519 12493 346848.537   54  321 1961183.68 117613.026  94.0%   210  367s\n",
      " 17093 12501 1049518.32  212  340 1961183.68 117613.026  94.0%   210  377s\n",
      " 17101 12635 1059705.48  213  340 1961183.68 117613.026  94.0%   210  384s\n",
      " 17283 12901 1120036.00  238  303 1961183.68 120823.176  93.8%   212  389s\n",
      " 17620 13198 268446.664   69  414 1961183.68 120823.176  93.8%   213  401s\n",
      " 17951 13651 379690.733  153  329 1961183.68 120823.176  93.8%   214  408s\n",
      " 18497 13900 1378444.41  351  195 1961183.68 120823.176  93.8%   214  416s\n",
      " 18809 14353 1385744.22  358  177 1961183.68 125008.195  93.6%   215  423s\n",
      " 19339 14873 699785.355   99  290 1961183.68 126146.186  93.6%   214  430s\n",
      " 19960 15058 infeasible   73      1961183.68 127790.857  93.5%   213  437s\n",
      " 20242 15584 379744.500   45  296 1961183.68 130658.257  93.3%   215  444s\n",
      " 20803 15585 871145.361  303  246 1961183.68 130658.257  93.3%   215  492s\n",
      " 20806 15587 1678993.70  188  530 1961183.68 130658.257  93.3%   215  495s\n",
      " 20813 15592 859762.736  117  642 1961183.68 130658.257  93.3%   215  500s\n",
      " 20816 15594 1476280.42  117  662 1961183.68 130658.257  93.3%   215  505s\n",
      " 20819 15596 536350.549  122  644 1961183.68 130658.257  93.3%   214  510s\n",
      " 20822 15598 774614.387  106  659 1961183.68 130658.257  93.3%   214  515s\n",
      " 20825 15600 315988.765   66  647 1961183.68 130658.257  93.3%   214  520s\n",
      " 20828 15602 478846.484   63  679 1961183.68 130658.257  93.3%   214  526s\n",
      " 20831 15604 475779.050  105  666 1961183.68 130658.257  93.3%   214  531s\n",
      " 20834 15606 978921.241  142  659 1961183.68 130658.257  93.3%   214  536s\n",
      " 20836 15607 1160338.98  397  656 1961183.68 130658.257  93.3%   214  540s\n",
      " 20839 15609 249931.720   65  658 1961183.68 130658.257  93.3%   214  545s\n",
      " 20842 15611 620712.518  127  484 1961183.68 130658.257  93.3%   214  552s\n",
      " 20847 15614 271179.371   48  239 1961183.68 130658.257  93.3%   214  555s\n",
      " 20852 15618 418582.490   84  482 1961183.68 130658.257  93.3%   214  560s\n",
      " 20858 15622 459198.529   95  308 1961183.68 130658.257  93.3%   214  565s\n",
      " 20865 15626 559417.516  172  317 1961183.68 139626.399  92.9%   214  570s\n",
      " 20870 15630 441547.950   90  310 1961183.68 148117.353  92.4%   214  575s\n",
      " 20879 15636 848967.425   61  433 1961183.68 156179.484  92.0%   214  580s\n",
      " 20883 15638 947815.252   97  650 1961183.68 156422.840  92.0%   214  585s\n",
      " 20887 15641 1117585.43   71  730 1961183.68 156659.334  92.0%   214  591s\n",
      " 20889 15642 270605.272   66  733 1961183.68 156785.611  92.0%   214  596s\n",
      " 20891 15644 341493.658   56  518 1961183.68 157708.532  92.0%   214  600s\n",
      " 20896 15647 532160.048   95  713 1961183.68 159095.475  91.9%   214  605s\n",
      " 20900 15650 1541835.96  310  788 1961183.68 166880.540  91.5%   214  610s\n",
      " 20904 15652 1331028.88  144  777 1961183.68 175262.005  91.1%   214  617s\n",
      " 20906 15654 1678993.70  188  785 1961183.68 189840.347  90.3%   214  620s\n",
      " 20908 15655 1309653.23  295  763 1961183.68 200834.436  89.8%   214  625s\n",
      " 20910 15656 604825.215  121  763 1961183.68 202612.573  89.7%   214  630s\n",
      " 20912 15658 791713.719  117  795 1961183.68 203720.163  89.6%   214  635s\n",
      " 20914 15659 867688.767  155  776 1961183.68 204290.902  89.6%   214  640s\n",
      "H20914 14874                    1961183.5158 204710.447  89.6%   214  642s\n",
      " 20917 14876 1105271.97  272  782 1961183.52 205501.326  89.5%   213  646s\n",
      " 20919 14877 536350.549  122  784 1961183.52 205756.927  89.5%   213  651s\n",
      " 20921 14879 829265.208   87  739 1961183.52 205850.075  89.5%   213  656s\n",
      " 20924 14881 308451.075  109  683 1961183.52 205930.632  89.5%   213  661s\n",
      " 20926 14882 343230.546   66  694 1961183.52 206110.076  89.5%   213  666s\n",
      " 20929 14884 667478.050  124  715 1961183.52 206165.574  89.5%   213  671s\n",
      " 20931 14885 475779.050  105  698 1961183.52 206239.179  89.5%   213  676s\n",
      " 20934 14887 978921.241  142  705 1961183.52 206327.972  89.5%   213  681s\n",
      " 20937 14889 951525.679   59  747 1961183.52 206518.910  89.5%   213  686s\n",
      " 20940 14891 576698.014  107  736 1961183.52 206550.593  89.5%   213  690s\n",
      " 20944 14894 335622.697  102  794 1961183.52 206578.348  89.5%   213  695s\n",
      " 20947 14896 271179.371   48  790 1961183.52 206750.469  89.5%   213  702s\n",
      " 20949 14897 652233.517   63  785 1961183.52 206756.109  89.5%   213  706s\n",
      " 20953 14900 474665.361  239  703 1961183.52 206851.632  89.5%   213  712s\n",
      " 20956 14902 1018047.98  269  716 1961183.52 206856.744  89.5%   213  716s\n",
      " 20963 14907 957840.842  248  757 1961183.52 206926.430  89.4%   213  722s\n",
      " 20965 14908 559417.516  172  739 1961183.52 206983.557  89.4%   213  726s\n",
      " 20968 14910 641419.412   84  798 1961183.52 207056.213  89.4%   213  731s\n",
      " 20970 14911 441547.950   90  804 1961183.52 207095.050  89.4%   213  735s\n",
      " 20972 14913 727407.656   90  793 1961183.52 207127.857  89.4%   213  741s\n",
      " 20974 14914 407705.358   78  810 1961183.52 207313.577  89.4%   213  745s\n",
      " 20976 14915 699315.938   82  802 1961183.52 207379.621  89.4%   213  750s\n",
      " 20979 14917 848967.425   61  823 1961183.52 207442.073  89.4%   213  756s\n",
      " 20981 14919 274631.747   53  779 1961183.52 207463.338  89.4%   213  761s\n",
      " 20983 14920 947815.252   97  798 1961183.52 207546.073  89.4%   213  765s\n",
      " 20986 14922 621941.480   43  791 1961183.52 207621.861  89.4%   213  770s\n",
      " 20992 14926 207681.526   39  759 1961183.52 207681.526  89.4%   213  775s\n",
      " 20994 14927 1635461.77   70  774 1961183.52 207773.126  89.4%   213  780s\n",
      " 20997 14929 666715.995  100  813 1961183.52 207856.556  89.4%   213  789s\n",
      " 20998 14930 1572044.90  206  808 1961183.52 207871.244  89.4%   213  791s\n",
      " 21000 14931 1541835.96  310  823 1961183.52 207908.431  89.4%   213  796s\n",
      " 21002 14933 690016.581  241  790 1961183.52 208010.855  89.4%   213  801s\n",
      " 21004 14934 1331028.88  144  795 1961183.52 208034.129  89.4%   213  806s\n",
      " 21005 14935 469026.568   83  777 1961183.52 208055.798  89.4%   213  810s\n",
      " 21007 14936 1682075.29  197  768 1961183.52 208069.391  89.4%   213  815s\n",
      " 21009 14937 1274037.05  336  784 1961183.52 208094.428  89.4%   213  820s\n",
      " 21011 14939 315053.757   54  803 1961183.52 208100.737  89.4%   213  825s\n",
      " 21013 14940 859762.736  117  799 1961183.52 208100.737  89.4%   213  830s\n",
      " 21016 14942 1476280.42  117  812 1961183.52 208215.608  89.4%   212  836s\n",
      " 21017 14943 1105271.97  272  803 1961183.52 208250.729  89.4%   212  841s\n",
      " 21019 14944 536350.549  122  794 1961183.52 208324.774  89.4%   212  845s\n",
      " 21022 14946 774614.387  106  814 1961183.52 208493.219  89.4%   212  851s\n",
      " 21024 14947 308451.075  109  808 1961183.52 208544.055  89.4%   212  856s\n",
      " 21026 14949 343230.546   66  816 1961183.52 208565.814  89.4%   212  860s\n",
      " 21029 14951 667478.050  124  811 1961183.52 208651.864  89.4%   212  866s\n",
      " 21031 14952 475779.050  105  816 1961183.52 208707.117  89.4%   212  871s\n",
      " 21033 14953 361698.603   83  825 1961183.52 208707.117  89.4%   212  875s\n",
      " 21036 14955 1160338.98  397  819 1961183.52 208747.573  89.4%   212  881s\n",
      " 21038 14957 577974.900   72  807 1961183.52 208786.064  89.4%   212  886s\n",
      " 21040 14958 576698.014  107  816 1961183.52 208828.024  89.4%   212  890s\n",
      " 21042 14959 620712.518  127  820 1961183.52 208849.701  89.4%   212  895s\n",
      " 21045 14961 357667.563   31  814 1961183.52 208924.753  89.3%   212  901s\n",
      "H21046 14210                    1961183.4288 208943.065  89.3%   212  905s\n",
      " 21049 14212 652233.517   63  822 1961183.43 209000.368  89.3%   212  910s\n",
      " 21052 14214 418582.490   84  821 1961183.43 209055.504  89.3%   212  916s\n",
      " 21054 14215 723116.419   58  826 1961183.43 209116.151  89.3%   212  920s\n",
      " 21057 14217 976861.971  117  812 1961183.43 209162.126  89.3%   212  926s\n",
      " 21059 14219 544820.799   95  822 1961183.43 209198.505  89.3%   212  931s\n",
      " 21060 14219 533661.460  212  822 1961183.43 209198.505  89.3%   212  944s\n",
      " 21061 14223 209198.505   23  748 1961183.43 209198.505  89.3%   217  948s\n",
      " 21063 14226 209198.505   24  673 1961183.43 209198.505  89.3%   217  950s\n",
      " 21087 14240 512884.433   27  328 1961183.43 209198.505  89.3%   218  955s\n",
      " 21122 14258 261239.559   32  352 1961183.43 209198.505  89.3%   220  960s\n",
      "H21123 13541                    1961183.4118 209198.505  89.3%   220  960s\n",
      " 21156 13559 313189.503   35  316 1961183.41 209198.505  89.3%   221  965s\n",
      " 21195 13587 321127.882   38  295 1961183.41 209198.505  89.3%   222  970s\n",
      " 21243 13604 480320.357   42  318 1961183.41 209198.505  89.3%   223  975s\n",
      " 21291 13611 696488.808   46  338 1961183.41 209198.505  89.3%   224  981s\n",
      " 21331 13624 333908.827   30  357 1961183.41 209198.505  89.3%   225  987s\n",
      " 21363 13645 369982.305   38  415 1961183.41 209198.505  89.3%   226  991s\n",
      " 21417 13679 737381.148   57  366 1961183.41 209198.505  89.3%   227  996s\n",
      " 21502 13719 761653.107   88  294 1961183.41 209198.505  89.3%   227 1001s\n",
      " 21587 13741 959299.055  110  246 1961183.41 209198.505  89.3%   227 1007s\n",
      " 21656 13801 969720.962  138  281 1961183.41 209198.505  89.3%   227 1010s\n",
      " 21765 13835 1248814.31  170  190 1961183.41 209198.505  89.3%   228 1015s\n",
      " 21906 13901 infeasible  219      1961183.41 209198.505  89.3%   228 1022s\n",
      " 21989 13919 209198.505   31  476 1961183.41 209198.505  89.3%   228 1027s\n",
      " 22045 13969 467572.693   36  206 1961183.41 209198.505  89.3%   230 1033s\n",
      " 22091 13982 infeasible   41      1961183.41 209198.505  89.3%   231 1035s\n",
      " 22197 14025 infeasible   54      1961183.41 209198.505  89.3%   232 1042s\n",
      " 22276 14043 452407.702   31  442 1961183.41 209198.505  89.3%   232 1045s\n",
      " 22332 14058 510807.086   38  402 1961183.41 209198.505  89.3%   232 1050s\n",
      " 22472 14109 1193049.24   66  306 1961183.41 209198.505  89.3%   233 1057s\n",
      " 22529 14127 1456923.31   86  340 1961183.41 209198.505  89.3%   234 1061s\n",
      " 22626 14181 379902.951   38  466 1961183.41 209198.505  89.3%   235 1068s\n",
      " 22673 14203 444447.725   48  476 1961183.41 209198.505  89.3%   236 1073s\n",
      " 22712 14236 528061.215   58  450 1961183.41 209198.505  89.3%   237 1077s\n",
      " 22778 14274 638219.990   79  377 1961183.41 209198.505  89.3%   238 1081s\n",
      " 22848 14331 1247026.48  101  275 1961183.41 209198.505  89.3%   239 1086s\n",
      " 22955 14351 209198.505   29  392 1961183.41 209198.505  89.3%   239 1091s\n",
      " 23010 14382 226830.413   45  442 1961183.41 209198.505  89.3%   240 1100s\n",
      " 23075 14415 infeasible   51      1961183.41 209198.505  89.3%   241 1105s\n",
      " 23167 14490 913705.231   49  300 1961183.41 209198.505  89.3%   242 1110s\n",
      " 23309 14526 439527.945   42  333 1961183.41 209198.505  89.3%   243 1116s\n",
      " 23419 14576 562182.301   69  312 1961183.41 209198.505  89.3%   243 1122s\n",
      " 23542 14644 230803.135   45  332 1961183.41 209198.505  89.3%   244 1130s\n",
      " 23708 14669 1152829.35   74  271 1961183.41 209198.505  89.3%   245 1137s\n",
      " 23849 14701 1848508.08  133  205 1961183.41 209198.505  89.3%   246 1143s\n",
      " 23978 14703 383010.156   37  312 1961183.41 209198.505  89.3%   247 1150s\n",
      " 24061 14739 998900.669   44  364 1961183.41 209198.505  89.3%   249 1157s\n",
      "H24069 14057                    1961183.2621 209198.505  89.3%   249 1157s\n",
      " 24154 14133 606684.024   42  334 1961183.26 209198.505  89.3%   250 1164s\n",
      " 24280 14209 975404.731   68  344 1961183.26 209198.505  89.3%   251 1177s\n",
      " 24473 14354 230684.289   38  359 1961183.26 209198.505  89.3%   252 1184s\n",
      " 24743 14380 1671296.03  125  227 1961183.26 209198.505  89.3%   253 1191s\n",
      " 24927 14409 269697.687   48  356 1961183.26 209198.505  89.3%   255 1200s\n",
      " 25096 14550 287982.829   40  325 1961183.26 209198.505  89.3%   257 1209s\n",
      " 25384 14616 519391.747   40  295 1961183.26 209198.505  89.3%   258 1218s\n",
      " 25649 14757 infeasible   40      1961183.26 209198.505  89.3%   259 1227s\n",
      " 25943 14707 infeasible   54      1961183.26 209198.505  89.3%   261 1237s\n",
      " 26055 14762 430794.194   58  465 1961183.26 209198.505  89.3%   264 1247s\n",
      " 26200 14798 1015922.16   80  260 1961183.26 209198.505  89.3%   267 1264s\n",
      " 26331 15040 1047057.59   80  271 1961183.26 209198.505  89.3%   268 1273s\n",
      " 26703 15145 340939.301   61  390 1961183.26 209198.505  89.3%   271 1283s\n",
      " 27071 15181 393968.232   41  393 1961183.26 209198.505  89.3%   273 1294s\n",
      " 27326 15237 216657.363   40  351 1961183.26 209198.505  89.3%   277 1307s\n",
      " 27604 15357 infeasible   39      1961183.26 209198.505  89.3%   280 1319s\n",
      " 27895 15534 1355839.50  102  217 1961183.26 209198.505  89.3%   283 1332s\n",
      " 28282 15674 633187.126   94  458 1961183.26 209198.505  89.3%   285 1345s\n",
      " 28708 15840 390588.672   37  292 1961183.26 209198.505  89.3%   287 1358s\n",
      " 29097 15987 367643.257   53  275 1961183.26 209198.505  89.3%   289 1372s\n",
      " 29496 16018 475885.974   59  404 1961183.26 209198.505  89.3%   291 1388s\n",
      " 29799 16177 1101435.74   88  296 1961183.26 209198.505  89.3%   295 1403s\n",
      " 30173 16575 1663471.08   66  234 1961183.26 209198.505  89.3%   298 1419s\n",
      " 30341 16519 944285.452   51  347 1961183.26 209198.505  89.3%   298 1420s\n",
      " 30867 16730 1012706.74   68  228 1961183.26 209371.329  89.3%   299 1441s\n",
      " 31390 16774 530922.079   71  376 1961183.26 210260.057  89.3%   301 1461s\n",
      " 31804 17056 262256.639   46  329 1961183.26 211811.975  89.2%   304 1480s\n",
      " 32404 17210 220785.337   52  497 1961183.26 212708.011  89.2%   306 1496s\n",
      " 32854 17349 641582.192   38  289 1961183.26 213159.132  89.1%   308 1511s\n",
      " 33263 17473 1671702.11   72  243 1961183.26 213465.384  89.1%   309 1526s\n",
      " 33628 17692 300567.519   45  306 1961183.26 214048.977  89.1%   311 1541s\n",
      " 34078 17787 627485.881   41  429 1961183.26 214282.828  89.1%   313 1556s\n",
      " 34469 17826 1191275.25   60  306 1961183.26 214523.046  89.1%   316 1572s\n",
      " 34957 17980 infeasible   46      1961183.26 215456.913  89.0%   318 1586s\n",
      " 35463 18107 1745394.25   75  213 1961183.26 216069.936  89.0%   319 1601s\n",
      " 35900 18130 258210.567   34  257 1961183.26 217429.625  88.9%   321 1616s\n",
      " 36168 18194 772469.841   53  311 1961183.26 218415.699  88.9%   324 1631s\n",
      " 36429 18391 284387.651   54  325 1961183.26 218931.190  88.8%   328 1646s\n",
      " 36827 18397 658328.667   53  306 1961183.26 219238.273  88.8%   330 1665s\n",
      " 37005 18563 399027.756   57  439 1961183.26 219392.272  88.8%   330 1680s\n",
      " 37383 18578 405169.885   59  287 1961183.26 220554.026  88.8%   332 1697s\n",
      " 37656 18894 338695.265   32  319 1961183.26 221017.876  88.7%   335 1713s\n",
      " 38233 19048 432064.884   48  228 1961183.26 221797.632  88.7%   335 1729s\n",
      " 38682 19137 329216.875   51  239 1961183.26 222237.242  88.7%   337 1750s\n",
      " 39034 19316 359495.887   40  300 1961183.26 222718.488  88.6%   340 1767s\n",
      " 39534 19331 996230.395   82  333 1961183.26 223071.799  88.6%   342 1783s\n",
      " 39851 19651 802147.928   47  340 1961183.26 223563.335  88.6%   344 1801s\n",
      " 40458 19749 562474.833  100  463 1961183.26 223948.678  88.6%   344 1819s\n",
      " 40886 19782 988638.204   74  223 1961183.26 225095.712  88.5%   345 1837s\n",
      " 41198 19933 745964.604   74  338 1961183.26 226583.499  88.4%   347 1852s\n",
      " 41571 20049 1510830.92   49  212 1961183.26 226789.672  88.4%   349 1869s\n",
      " 41969 20248 929136.408   77  230 1961183.26 227886.444  88.4%   350 1889s\n",
      " 42430 20370 876981.695   70  322 1961183.26 228241.081  88.4%   351 1905s\n",
      " 42799 20492 293508.469   48  363 1961183.26 228708.374  88.3%   352 1921s\n",
      " 43117 20649 751972.603   77  344 1961183.26 229013.128  88.3%   354 1941s\n",
      " 43538 20949 1153963.02   55  238 1961183.26 229851.757  88.3%   356 1960s\n",
      " 44125 21034 308402.495   50  283 1961183.26 230620.495  88.2%   356 1983s\n",
      " 44526 21265 infeasible   52      1961183.26 231020.409  88.2%   357 2000s\n",
      " 45029 21361 829746.727   49  321 1961183.26 231213.703  88.2%   357 2016s\n",
      " 45421 21439 325420.684   46  212 1961183.26 231767.954  88.2%   358 2032s\n",
      " 45738 21566 364881.146   56  513 1961183.26 231971.087  88.2%   360 2049s\n",
      " 46030 21750 959975.196   91  339 1961183.26 232052.560  88.2%   363 2064s\n",
      " 46407 21969 337366.018   35  315 1961183.26 232092.428  88.2%   364 2081s\n",
      " 46873 22166 359610.479   52  293 1961183.26 232733.230  88.1%   365 2098s\n",
      " 47378 22265 661659.650   31  189 1961183.26 233223.121  88.1%   366 2113s\n",
      " 47790 22368 351516.197   56  493 1961183.26 233574.637  88.1%   367 2130s\n",
      " 48104 22622 294230.990   40  292 1961183.26 233835.964  88.1%   366 2146s\n",
      " 48565 22594 1009849.65   91  336 1961183.26 234173.778  88.1%   367 2163s\n",
      " 48700 22796 583557.647   42  372 1961183.26 234188.756  88.1%   368 2180s\n",
      " 49054 23020 268912.095   45  416 1961183.26 234442.778  88.0%   370 2200s\n",
      " 49564 23231 1192565.27  120  305 1961183.26 234955.114  88.0%   370 2217s\n",
      " 50132 23271     cutoff   70      1961183.26 235560.330  88.0%   370 2238s\n",
      " 50502 23352 518137.052   54  336 1961183.26 235842.938  88.0%   372 2255s\n",
      " 50832 23414 infeasible   57      1961183.26 236209.330  88.0%   373 2270s\n",
      " 51122 23656 244739.160   49  429 1961183.26 237381.063  87.9%   375 2287s\n",
      " 51566 23827 893896.924   43  301 1961183.26 237767.240  87.9%   376 2305s\n",
      " 52072 23804 1378341.69   47  312 1961183.26 238345.645  87.8%   376 2323s\n",
      " 52351 23925 400864.608   58  458 1961183.26 239126.132  87.8%   378 2340s\n",
      " 52708 24115 736058.522   55  292 1961183.26 239448.394  87.8%   381 2358s\n",
      " 53169 24261 905636.596   58  261 1961183.26 240724.009  87.7%   382 2377s\n",
      " 53598 24420 685104.088   55  305 1961183.26 242034.580  87.7%   383 2393s\n",
      " 54046 24547 442464.719   40  432 1961183.26 242524.438  87.6%   384 2410s\n",
      " 54409 24672 1714788.00   89  229 1961183.26 243059.994  87.6%   385 2429s\n",
      " 54885 24763 649805.760   53  349 1961183.26 243596.430  87.6%   387 2448s\n",
      " 55231 24917 990083.240  109  325 1961183.26 244012.328  87.6%   387 2469s\n",
      " 55670 25085 732303.381  110  369 1961183.26 244845.418  87.5%   389 2489s\n",
      " 56117 25378 843915.667   80  329 1961183.26 245119.447  87.5%   388 2508s\n",
      " 56744 25415 1372603.23   79  141 1961183.26 245665.578  87.5%   388 2525s\n",
      " 57129 25564 382809.050   52  501 1961183.26 246027.669  87.5%   389 2542s\n",
      " 57529 25636 1055303.44   72  218 1961183.26 246576.910  87.4%   391 2559s\n",
      " 57912 25726 infeasible   47      1961183.26 247189.206  87.4%   392 2577s\n",
      " 58224 25870 787602.614   49  255 1961183.26 247916.440  87.4%   393 2597s\n",
      " 58632 26072 331807.079   58  416 1961183.26 248487.375  87.3%   394 2615s\n",
      " 59138 26136 infeasible   47      1961183.26 249320.018  87.3%   394 2630s\n",
      " 59492 26286 673827.903   42  303 1961183.26 250521.040  87.2%   395 2648s\n",
      " 59927 26442 431349.975   56  462 1961183.26 251842.830  87.2%   396 2669s\n",
      " 60235 26661 544658.675   36  347 1961183.26 252657.044  87.1%   398 2686s\n",
      " 60539 27066 736350.934   60  340 1961183.26 253575.325  87.1%   399 2703s\n",
      " 61082 27338 796114.268   61  400 1961183.26 254899.181  87.0%   399 2720s\n",
      " 61473 27705 314949.452   48  415 1961183.26 256093.748  86.9%   400 2737s\n",
      " 61998 27978 1014697.28   91  364 1961183.26 256985.598  86.9%   400 2753s\n",
      " 62446 28338 651973.688   33  296 1961183.26 258275.785  86.8%   401 2769s\n",
      " 62980 28607 411043.647   49  287 1961183.26 259575.809  86.8%   401 2789s\n",
      " 63385 28762 1699581.02   69  151 1961183.26 260474.052  86.7%   401 2806s\n",
      " 63691 29134 469731.058   47  398 1961183.26 262089.817  86.6%   402 2826s\n",
      " 64219 29576 687914.355   50  328 1961183.26 263253.688  86.6%   403 2844s\n",
      " 64835 29659 449315.837   49  469 1961183.26 264892.803  86.5%   403 2873s\n",
      " 64983 29971 842118.551   73  403 1961183.26 265010.958  86.5%   404 2889s\n",
      " 65490 30142 842828.105   45  276 1961183.26 265881.910  86.4%   404 2907s\n",
      " 65766 30419 851670.067   46  318 1961183.26 265991.844  86.4%   405 2927s\n",
      " 66175 30526 950254.617   64  376 1961183.26 266961.132  86.4%   405 2947s\n",
      " 66376 30869 473235.857   54  423 1961183.26 267152.190  86.4%   406 2964s\n",
      " 66900 31123 467668.135   57  385 1961183.26 267825.000  86.3%   406 2983s\n",
      " 67354 31514 infeasible   60      1961183.26 269179.862  86.3%   407 3001s\n",
      " 67936 31773 infeasible   35      1961183.26 269977.963  86.2%   407 3019s\n",
      " 68323 32053 566488.497   40  389 1961183.26 270755.981  86.2%   408 3037s\n",
      " 68720 32321 591574.583   66  432 1961183.26 272359.743  86.1%   409 3069s\n",
      " 69136 32675 982670.477   88  292 1961183.26 272734.552  86.1%   410 3086s\n",
      " 69639 32949 infeasible   50      1961183.26 273151.440  86.1%   410 3105s\n",
      " 70148 33287 659528.943   38  360 1961183.26 274395.146  86.0%   411 3122s\n",
      " 70619 33441 402234.023   57  460 1961183.26 274930.940  86.0%   411 3140s\n",
      " 70991 33751 390252.038   58  420 1961183.26 276840.458  85.9%   413 3159s\n",
      " 71533 34194 infeasible   58      1961183.26 278388.330  85.8%   413 3176s\n",
      " 72155 34498 565629.913   81  398 1961183.26 278935.395  85.8%   413 3192s\n",
      " 72620 34571 478390.615   55  233 1961183.26 280556.367  85.7%   413 3207s\n",
      " 72713 34781 486583.447   56  273 1961183.26 280698.741  85.7%   413 3223s\n",
      " 73027 35131 441591.166   40  464 1961183.26 281181.728  85.7%   413 3240s\n",
      " 73532 35470 604492.047   97  335 1961183.26 281647.106  85.6%   414 3258s\n",
      " 74016 35888 977824.473   44  217 1961183.26 282439.780  85.6%   414 3272s\n",
      " 74545 36176 1412621.49   73  247 1961183.26 282856.744  85.6%   414 3284s\n",
      " 74950 36425 479880.592   54  416 1961183.26 283362.202  85.6%   414 3296s\n",
      " 75373 36692 infeasible   40      1961183.26 283986.836  85.5%   413 3307s\n",
      " 75725 36939 304530.774   38  382 1961183.26 284419.107  85.5%   414 3319s\n",
      " 76093 37165 305709.569   39  331 1961183.26 285278.705  85.5%   414 3333s\n",
      " 76408 37461 853343.642   53  311 1961183.26 285489.886  85.4%   415 3346s\n",
      " 76871 37691 629673.435   34  374 1961183.26 285898.101  85.4%   415 3360s\n",
      " 77238 37857 640913.808   53  388 1961183.26 286362.174  85.4%   415 3375s\n",
      " 77534 38227 539265.677   60  449 1961183.26 286865.100  85.4%   416 3390s\n",
      " 78036 38497 361884.769   55  434 1961183.26 287324.172  85.3%   416 3406s\n",
      " 78422 38784 301599.219   38  362 1961183.26 288053.199  85.3%   416 3419s\n",
      " 78840 39061 655264.578  101  408 1961183.26 288524.496  85.3%   416 3432s\n",
      " 79208 39297 445431.367   44  383 1961183.26 288986.675  85.3%   417 3445s\n",
      " 79591 39478 475812.036   65  417 1961183.26 289254.338  85.3%   417 3461s\n",
      " 79904 39709 infeasible   39      1961183.26 289709.060  85.2%   417 3477s\n",
      " 80265 40017 849213.751   37  312 1961183.26 290291.263  85.2%   418 3493s\n",
      " 80723 40227 486973.589   50  440 1961183.26 290818.924  85.2%   418 3508s\n",
      " 81096 40497 infeasible   65      1961183.26 291247.142  85.1%   418 3521s\n",
      " 81513 40778 901969.016   71  263 1961183.26 291801.197  85.1%   419 3536s\n",
      " 81895 41021 765018.647   70  357 1961183.26 292290.888  85.1%   419 3550s\n",
      " 82298 41268 842063.993   55  409 1961183.26 292776.210  85.1%   419 3565s\n",
      " 82662 41498 infeasible   64      1961183.26 293060.973  85.1%   420 3580s\n",
      " 83035 41812 570871.928   50  345 1961183.26 293494.256  85.0%   420 3594s\n",
      " 83487 42019 486558.685   73  470 1961183.26 294172.111  85.0%   420 3609s\n",
      " 83823 42444 461028.888   61  440 1961183.26 294799.143  85.0%   420 3627s\n",
      " 84449 42687 infeasible   62      1961183.26 295135.190  85.0%   420 3639s\n",
      " 84783 42926 540818.892   86  375 1961183.26 295430.130  84.9%   420 3650s\n",
      " 85111 43171 734215.924   78  344 1961183.26 295625.588  84.9%   420 3663s\n",
      " 85452 43439 577193.567   96  397 1961183.26 295817.517  84.9%   420 3677s\n",
      " 85836 43652 349159.533   48  540 1961183.26 296464.683  84.9%   420 3691s\n",
      " 86176 43910 490561.660   50  446 1961183.26 296843.145  84.9%   421 3705s\n",
      " 86573 44227 685739.919   76  285 1961183.26 297362.447  84.8%   421 3722s\n",
      " 87123 44483 691465.654   60  273 1961183.26 297872.321  84.8%   421 3734s\n",
      " 87480 44664 infeasible   79      1961183.26 298221.792  84.8%   421 3755s\n",
      " 87726 44890 658350.509   76  318 1961183.26 298282.386  84.8%   421 3769s\n",
      " 88131 45180 753326.721   65  358 1961183.26 298742.163  84.8%   421 3783s\n",
      " 88582 45491 infeasible  107      1961183.26 299124.627  84.7%   421 3798s\n",
      " 89013 45734 1172154.06  109  316 1961183.26 299622.676  84.7%   421 3813s\n",
      " 89431 45977 696080.467   85  361 1961183.26 299993.503  84.7%   422 3829s\n",
      " 89810 46157 1592938.57  101  246 1961183.26 300252.507  84.7%   422 3842s\n",
      " 90109 46432 544920.498   47  305 1961183.26 300252.507  84.7%   422 3856s\n",
      " 90517 46746 462000.634   49  517 1961183.26 300323.181  84.7%   423 3870s\n",
      " 90946 47023 1395526.31   64  146 1961183.26 300601.367  84.7%   423 3886s\n",
      " 91325 47322 1817864.98  151  246 1961183.26 300902.017  84.7%   424 3914s\n",
      " 91822 47667 443275.556   65  427 1961183.26 301587.275  84.6%   424 3928s\n",
      " 92271 47984 1028564.02   63  220 1961183.26 301737.746  84.6%   424 3943s\n",
      " 92710 48185 1316108.06   55  225 1961183.26 302197.938  84.6%   424 3957s\n",
      " 93026 48466 968636.654   64  270 1961183.26 302691.750  84.6%   424 3972s\n",
      " 93431 48751 472703.548   46  513 1961183.26 303068.735  84.5%   424 3989s\n",
      " 93870 49019 913399.257   78  391 1961183.26 303793.053  84.5%   424 4006s\n",
      " 94297 49321 821492.638   65  315 1961183.26 304182.986  84.5%   425 4025s\n",
      " 94719 49553 519558.908   46  406 1961183.26 304465.325  84.5%   425 4042s\n",
      " 95082 49812 491589.279   50  398 1961183.26 304622.387  84.5%   426 4060s\n",
      " 95594 50096 502858.950   53  469 1961183.26 305044.981  84.4%   426 4075s\n",
      " 96026 50454 456497.352   53  445 1961183.26 305427.038  84.4%   427 4091s\n",
      " 96532 50713 819828.252   81  323 1961183.26 305640.056  84.4%   426 4107s\n",
      " 96955 51021 544660.162   64  386 1961183.26 306136.501  84.4%   427 4123s\n",
      " 97409 51264 427127.777   48  357 1961183.26 306462.526  84.4%   427 4140s\n",
      " 97762 51531 infeasible   64      1961183.26 306724.709  84.4%   428 4154s\n",
      " 98164 51890 391389.801   55  403 1961183.26 307166.363  84.3%   428 4170s\n",
      " 98659 52117 477376.407   58  341 1961183.26 307608.839  84.3%   428 4186s\n",
      " 99029 52381 806104.906   62  375 1961183.26 307933.333  84.3%   428 4201s\n",
      " 99478 52639 infeasible   55      1961183.26 308255.904  84.3%   428 4218s\n",
      " 99962 52857 991849.664   58  274 1961183.26 308730.667  84.3%   429 4232s\n",
      " 100320 53125 1079418.67   58  292 1961183.26 309193.090  84.2%   429 4247s\n",
      " 100752 53405 1025351.11   43  263 1961183.26 309570.000  84.2%   429 4261s\n",
      " 101216 53638 582608.141   51  443 1961183.26 310158.148  84.2%   429 4278s\n",
      " 101558 53961 612295.479   55  344 1961183.26 310627.178  84.2%   429 4295s\n",
      " 102053 54300 378314.508   59  421 1961183.26 311036.609  84.1%   429 4312s\n",
      " 102506 54590 507670.397   64  407 1961183.26 311340.464  84.1%   430 4328s\n",
      " 102940 54878 447071.812   66  452 1961183.26 311647.952  84.1%   430 4343s\n",
      " 103339 55117 infeasible   52      1961183.26 312072.128  84.1%   430 4357s\n",
      " 103775 55365 infeasible   53      1961183.26 312478.935  84.1%   430 4372s\n",
      " 104182 55691 1049816.98   76  360 1961183.26 312811.818  84.0%   431 4389s\n",
      " 104628 55955 760023.860   61  278 1961183.26 313052.844  84.0%   430 4406s\n",
      " 105007 56276 594728.998   56  383 1961183.26 313338.242  84.0%   431 4424s\n",
      " 105481 56595 1069690.73   55  215 1961183.26 313563.993  84.0%   431 4440s\n",
      " 105929 56931 540207.386   57  381 1961183.26 314356.079  84.0%   431 4456s\n",
      " 106433 57247 584094.220   79  388 1961183.26 314726.993  84.0%   431 4471s\n",
      " 106901 57526 1119175.50   88  340 1961183.26 314923.263  83.9%   431 4485s\n",
      " 107307 57801 888651.149   72  304 1961183.26 315261.189  83.9%   431 4500s\n",
      " 107715 58099 886470.384   83  392 1961183.26 315343.525  83.9%   432 4515s\n",
      " 108172 58330 550704.416   30  282 1961183.26 315588.758  83.9%   432 4530s\n",
      " 108603 58678     cutoff   80      1961183.26 315588.758  83.9%   432 4545s\n",
      " 109089 58801 infeasible   49      1961183.26 315630.443  83.9%   432 4559s\n",
      " 109297 59091 443001.064   42  444 1961183.26 315809.408  83.9%   432 4575s\n",
      " 109737 59379 1004339.95   57  249 1961183.26 316412.484  83.9%   432 4589s\n",
      " 110176 59625 649949.091   78  386 1961183.26 316883.661  83.8%   432 4606s\n",
      " 110592 59986 508012.192   50  321 1961183.26 317161.159  83.8%   432 4621s\n",
      " 111102 60291 1523147.12   89  239 1961183.26 317401.070  83.8%   432 4635s\n",
      " 111549 60591 426127.196   59  436 1961183.26 317832.359  83.8%   432 4649s\n",
      " 111977 60897 648081.577   69  370 1961183.26 317975.040  83.8%   432 4665s\n",
      " 112414 61116 1741362.61   96  121 1961183.26 318213.504  83.8%   432 4680s\n",
      " 112793 61462 605173.473   73  320 1961183.26 318619.074  83.8%   432 4696s\n",
      " 113283 61693 521823.727   62  437 1961183.26 318971.084  83.7%   432 4714s\n",
      " 113659 61961 794389.209   49  340 1961183.26 319305.654  83.7%   432 4730s\n",
      " 114075 62131 1006192.28   51  241 1961183.26 319666.628  83.7%   432 4744s\n",
      " 114365 62464 501850.465   70  403 1961183.26 320039.781  83.7%   432 4758s\n",
      " 114919 62731 1022856.81   49  276 1961183.26 320438.526  83.7%   432 4778s\n",
      " 115402 63000 1213175.46   55  342 1961183.26 320977.220  83.6%   432 4792s\n",
      " 115777 63351 infeasible   57      1961183.26 321383.542  83.6%   432 4807s\n",
      " 116272 63599 infeasible   53      1961183.26 321647.642  83.6%   432 4823s\n",
      " 116697 63857 810617.302   56  318 1961183.26 321794.704  83.6%   432 4837s\n",
      " 117077 64077 498135.713   45  421 1961183.26 322443.722  83.6%   432 4852s\n",
      " 117414 64316 918578.431   77  302 1961183.26 322579.001  83.6%   433 4866s\n",
      " 117828 64501 521374.249   50  463 1961183.26 322895.343  83.5%   433 4882s\n",
      " 118173 64823 558832.927   65  431 1961183.26 323386.433  83.5%   434 4897s\n",
      " 118614 65084 infeasible   79      1961183.26 323487.813  83.5%   434 4911s\n",
      " 118999 65368 1246917.38   56  191 1961183.26 323661.766  83.5%   434 4930s\n",
      " 119506 65663 495541.503   58  365 1961183.26 324115.945  83.5%   434 4945s\n",
      " 120011 65889 1315911.31   61  213 1961183.26 324475.071  83.5%   434 4962s\n",
      " 120381 66134 765921.982   44  378 1961183.26 325020.763  83.4%   434 4977s\n",
      " 120801 66386 398885.085   61  415 1961183.26 325455.315  83.4%   434 4994s\n",
      " 121217 66622 1309947.41   89  188 1961183.26 325785.932  83.4%   435 5009s\n",
      " 121613 66894 488012.625   45  397 1961183.26 326019.903  83.4%   435 5024s\n",
      " 122018 67335 341146.561   44  348 1961183.26 326310.163  83.4%   435 5038s\n",
      " 122569 67601 1443274.05   69  228 1961183.26 326608.307  83.3%   435 5053s\n",
      " 122945 67857 731854.123   43  311 1961183.26 326857.890  83.3%   435 5069s\n",
      " 123315 68106 810555.887   51  256 1961183.26 327129.453  83.3%   434 5084s\n",
      " 123665 68338 888107.028  129  426 1961183.26 327267.245  83.3%   435 5098s\n",
      " 124109 68619 1480741.60   52  171 1961183.26 327503.220  83.3%   435 5112s\n",
      " 124593 68913 421100.925   54  341 1961183.26 327727.407  83.3%   435 5127s\n",
      " 125053 69126 892783.709   65  330 1961183.26 327945.238  83.3%   435 5144s\n",
      " 125425 69298 755956.540   53  248 1961183.26 328630.895  83.2%   435 5162s\n",
      " 125728 69686 577354.691   46  463 1961183.26 329154.464  83.2%   435 5185s\n",
      " 126288 69985 538810.756   60  392 1961183.26 329557.463  83.2%   435 5209s\n",
      " 126844 70309 740884.934   63  271 1961183.26 329772.620  83.2%   435 5225s\n",
      " 127347 70534 infeasible   57      1961183.26 330494.170  83.1%   435 5241s\n",
      " 127787 70746 481588.617   53  417 1961183.26 330760.049  83.1%   436 5261s\n",
      " 128272 71051 1780313.47   97  197 1961183.26 330910.855  83.1%   436 5277s\n",
      " 128726 71300 725006.946   53  386 1961183.26 331163.335  83.1%   436 5294s\n",
      " 129113 71596 646041.228   57  453 1961183.26 331621.016  83.1%   436 5309s\n",
      " 129561 71883 569699.722   63  403 1961183.26 331836.517  83.1%   436 5325s\n",
      " 130010 72067 953549.150   64  236 1961183.26 332004.064  83.1%   436 5343s\n",
      " 130352 72476 1080834.55   90  335 1961183.26 332168.251  83.1%   436 5359s\n",
      " 130913 72790 485922.414   53  446 1961183.26 332820.066  83.0%   436 5376s\n",
      " 131424 73120 781089.914   59  361 1961183.26 333146.898  83.0%   436 5393s\n",
      " 131882 73312 451877.607   56  384 1961183.26 333349.169  83.0%   436 5410s\n",
      " 132237 73527 infeasible   42      1961183.26 333673.126  83.0%   437 5424s\n",
      "H132368 73527                    1961183.2616 333692.388  83.0%   437 5424s\n",
      " 132605 73822 497683.314   54  382 1961183.26 333915.057  83.0%   437 5440s\n",
      " 133030 74038 492726.702   53  432 1961183.26 334132.943  83.0%   437 5457s\n",
      " 133384 74365 502628.910   68  402 1961183.26 334438.027  82.9%   437 5474s\n",
      " 133894 74745 358873.062   49  344 1961183.26 334649.501  82.9%   436 5489s\n",
      " 134415 74958 528558.437   55  414 1961183.26 334997.846  82.9%   436 5505s\n",
      " 134723 75213 1094538.58   58  273 1961183.26 335295.457  82.9%   436 5521s\n",
      " 135101 75562 509451.937   73  372 1961183.26 335737.029  82.9%   437 5535s\n",
      " 135608 75791 infeasible   84      1961183.26 336071.842  82.9%   436 5552s\n",
      " 135934 76143 756062.022   61  311 1961183.26 336430.648  82.8%   437 5569s\n",
      " 136460 76414 610958.934   85  419 1961183.26 336631.742  82.8%   436 5583s\n",
      " 136866 76589 478848.607   53  431 1961183.26 336913.122  82.8%   436 5597s\n",
      " 137143 76921 521665.517   38  336 1961183.26 337020.756  82.8%   437 5613s\n",
      " 137624 77074 556670.579   51  427 1961183.26 337252.599  82.8%   437 5628s\n",
      " 137878 77297 524698.343   42  399 1961183.26 337581.491  82.8%   437 5642s\n",
      " 138279 77557 950347.860   58  201 1961183.26 338017.393  82.8%   437 5656s\n",
      " 138696 77803 502938.527   51  428 1961183.26 338559.464  82.7%   437 5670s\n",
      " 139069 78038 1217681.45   54  279 1961183.26 338857.544  82.7%   437 5686s\n",
      " 139479 78310 815386.043   63  263 1961183.26 339167.322  82.7%   437 5702s\n",
      " 139885 78390 1639909.37   56  189 1961183.26 339418.615  82.7%   437 5716s\n",
      " 140016 78678 infeasible   57      1961183.26 339559.257  82.7%   437 5731s\n",
      " 140494 78930 912888.136   54  287 1961183.26 339815.550  82.7%   437 5748s\n",
      " 140832 79218 infeasible   55      1961183.26 340056.896  82.7%   437 5762s\n",
      " 141247 79432 716303.474   45  354 1961183.26 340202.003  82.7%   437 5776s\n",
      " 141609 79692 1321200.04   93  360 1961183.26 340485.159  82.6%   437 5792s\n",
      " 142011 80031 579878.919   61  355 1961183.26 340829.132  82.6%   438 5808s\n",
      " 142499 80293 1057085.96   73  267 1961183.26 341021.571  82.6%   438 5824s\n",
      " 142877 80612 infeasible   60      1961183.26 341217.587  82.6%   438 5840s\n",
      " 143334 81003 614278.742   59  441 1961183.26 341494.873  82.6%   438 5855s\n",
      " 143853 81326 510525.985   48  421 1961183.26 341682.566  82.6%   437 5870s\n",
      " 144309 81623 639471.495   55  409 1961183.26 342008.981  82.6%   437 5885s\n",
      " 144726 81940 471656.580   57  429 1961183.26 342167.198  82.6%   437 5899s\n",
      " 145209 82226 838994.042   90  385 1961183.26 342342.193  82.5%   437 5915s\n",
      " 145615 82500 550426.892   54  409 1961183.26 342487.382  82.5%   437 5930s\n",
      " 146023 82823 infeasible   56      1961183.26 342738.980  82.5%   437 5944s\n",
      " 146472 83106 641570.225   75  411 1961183.26 342936.138  82.5%   437 5962s\n",
      " 146842 83473 480367.590   60  363 1961183.26 343093.002  82.5%   437 5982s\n",
      " 147403 83736 906968.971   71  305 1961183.26 343696.344  82.5%   437 5998s\n",
      " 147762 83914 516806.105   58  386 1961183.26 343879.390  82.5%   437 6012s\n",
      " 148053 84320 624124.042   53  435 1961183.26 344176.237  82.5%   438 6028s\n",
      " 148654 84712 989341.113   74  291 1961183.26 344359.433  82.4%   437 6043s\n",
      " 149170 84986 1447974.14  108  251 1961183.26 344496.025  82.4%   437 6058s\n",
      " 149584 85248     cutoff   38      1961183.26 344862.579  82.4%   437 6072s\n",
      " 149974 85645 996122.933   48  254 1961183.26 345200.627  82.4%   437 6087s\n",
      " 150516 85828 infeasible   59      1961183.26 345632.342  82.4%   437 6101s\n",
      " 150836 86082 894365.372   34  241 1961183.26 345895.469  82.4%   437 6116s\n",
      " 151243 86361 362165.527   30  353 1961183.26 346094.412  82.4%   437 6130s\n",
      " 151623 86665 514624.829   60  408 1961183.26 346212.410  82.3%   437 6144s\n",
      " 152086 86928 1325943.41   69  220 1961183.26 346485.027  82.3%   437 6161s\n",
      " 152488 87231 590235.789   58  495 1961183.26 346773.029  82.3%   437 6175s\n",
      " 152899 87608 1224781.25   67  248 1961183.26 346916.543  82.3%   437 6190s\n",
      " 153405 87894 1079722.13   53  251 1961183.26 347348.999  82.3%   437 6204s\n",
      " 153822 88184 686757.539   68  300 1961183.26 347566.411  82.3%   437 6219s\n",
      " 154280 88332 693204.875   42  307 1961183.26 348125.874  82.2%   436 6262s\n",
      " 154524 88563 1196230.27   58  262 1961183.26 348355.823  82.2%   436 6278s\n",
      " 154892 88847 1781891.72   61  230 1961183.26 348500.067  82.2%   436 6295s\n",
      " 155309 89187 562350.487   53  419 1961183.26 348825.729  82.2%   436 6309s\n",
      " 155805 89548 1130154.08   56  298 1961183.26 349072.821  82.2%   436 6325s\n",
      " 156319 89893 601034.307   59  402 1961183.26 349257.938  82.2%   436 6341s\n",
      " 156816 90204 666545.855   68  370 1961183.26 349422.543  82.2%   436 6360s\n",
      " 157389 90433 1901748.46   73  163 1961183.26 349685.266  82.2%   436 6372s\n",
      " 157730 90643 560926.989   99  501 1961183.26 349833.729  82.2%   436 6386s\n",
      " 158051 90846 1100679.14   61  314 1961183.26 350148.319  82.1%   436 6399s\n",
      " 158411 91112 656933.270   51  391 1961183.26 350384.559  82.1%   436 6414s\n",
      " 158826 91310 480720.134   53  404 1961183.26 350726.540  82.1%   436 6428s\n",
      " 159115 91615 563462.629   54  370 1961183.26 350898.120  82.1%   436 6443s\n",
      " 159558 91816     cutoff   69      1961183.26 351016.764  82.1%   436 6457s\n",
      " 159917 92101 1367555.94  136  322 1961183.26 351211.292  82.1%   436 6472s\n",
      " 160343 92411 542497.549   50  368 1961183.26 351538.456  82.1%   436 6488s\n",
      " 160812 92726 551584.522   63  402 1961183.26 351854.622  82.1%   436 6503s\n",
      " 161291 92948 926035.495   55  332 1961183.26 351936.259  82.1%   436 6518s\n",
      " 161682 93301 450149.938   56  226 1961183.26 352180.360  82.0%   436 6532s\n",
      " 162184 93513     cutoff   70      1961183.26 352395.757  82.0%   436 6547s\n",
      " 162474 93701 979942.588   76  276 1961183.26 352463.894  82.0%   436 6561s\n",
      " 162795 93932 401167.991   45  350 1961183.26 352594.492  82.0%   436 6579s\n",
      " 163080 94209 595208.511   52  423 1961183.26 352677.919  82.0%   436 6617s\n",
      " 163451 94436 645857.682   57  434 1961183.26 352932.363  82.0%   436 6630s\n",
      " 163861 94751 554156.946   81  478 1961183.26 353369.331  82.0%   436 6646s\n",
      " 164312 95083 679879.024   71  382 1961183.26 353700.147  82.0%   436 6661s\n",
      " 164766 95353 1263037.86   50  291 1961183.26 353943.788  82.0%   436 6676s\n",
      " 165192 95688 626739.207   48  312 1961183.26 354123.317  81.9%   436 6691s\n",
      " 165681 96051 638159.224   98  455 1961183.26 354411.949  81.9%   436 6707s\n",
      " 166223 96296 792841.087   52  295 1961183.26 354604.429  81.9%   436 6725s\n",
      " 166607 96612 1613390.10   79  177 1961183.26 354792.553  81.9%   436 6740s\n",
      " 167051 96924 541937.113   53  457 1961183.26 355122.838  81.9%   436 6759s\n",
      " 167497 97270 1741175.55   74  177 1961183.26 355212.777  81.9%   436 6777s\n",
      " 167978 97580 1349380.40   59  202 1961183.26 355480.155  81.9%   436 6797s\n",
      " 168428 97836 601571.882   55  404 1961183.26 355543.825  81.9%   436 6811s\n",
      " 168819 97943 805859.347   50  329 1961183.26 355727.907  81.9%   436 6824s\n",
      " 169039 98292 1348388.30   72  325 1961183.26 355868.850  81.9%   437 6841s\n",
      " 169502 98616 1645087.91  116  336 1961183.26 356127.239  81.8%   437 6856s\n",
      " 169972 98904 514430.604   56  377 1961183.26 356355.299  81.8%   437 6871s\n",
      " 170418 99189 532961.616   54  520 1961183.26 356585.502  81.8%   437 6886s\n",
      " 170868 99499 397110.560   59  549 1961183.26 356776.029  81.8%   437 6900s\n",
      " 171306 99850 1527967.76   90  228 1961183.26 356951.475  81.8%   437 6916s\n",
      " 171853 100151 486586.051   62  386 1961183.26 357441.338  81.8%   437 6931s\n",
      " 172297 100413 562628.816   50  455 1961183.26 357727.431  81.8%   437 6946s\n",
      " 172719 100614 infeasible   78      1961183.26 357832.039  81.8%   437 6959s\n",
      " 173094 100902 948411.343   75  391 1961183.26 357976.754  81.7%   437 6973s\n",
      " 173526 101191 1540133.45   96  236 1961183.26 358135.456  81.7%   437 6990s\n",
      " 173990 101473 455146.567   50  466 1961183.26 358458.485  81.7%   437 7004s\n",
      " 174396 101726 1102365.17   85  273 1961183.26 358672.581  81.7%   437 7018s\n",
      " 174769 101977 1642265.55   82  176 1961183.26 358853.146  81.7%   437 7032s\n",
      " 175173 102267 1048170.42   49  255 1961183.26 359343.864  81.7%   437 7045s\n",
      " 175609 102570 487985.501   43  370 1961183.26 359528.581  81.7%   437 7060s\n",
      " 176072 102842 521231.216   52  397 1961183.26 359817.314  81.7%   437 7074s\n",
      " 176479 103055 1163436.30   75  320 1961183.26 360018.122  81.6%   437 7088s\n",
      " 176818 103417 735395.334   62  391 1961183.26 360372.656  81.6%   437 7103s\n",
      " 177283 103710 449758.588   35  332 1961183.26 360496.192  81.6%   438 7120s\n",
      " 177718 104069 692041.330   51  444 1961183.26 360832.457  81.6%   438 7136s\n",
      " 178253 104417 495187.545   58  381 1961183.26 361039.400  81.6%   438 7149s\n",
      " 178754 104630 1841825.79   84  191 1961183.26 361193.527  81.6%   437 7162s\n",
      " 179158 104795 infeasible   69      1961183.26 361546.729  81.6%   437 7174s\n",
      " 179456 105103 infeasible   42      1961183.26 361883.729  81.5%   438 7188s\n",
      " 179871 105324 388527.186   56  420 1961183.26 361980.409  81.5%   438 7202s\n",
      " 180195 105643 502849.105   50  358 1961183.26 362215.580  81.5%   438 7216s\n",
      " 180693 105950 498333.793   55  421 1961183.26 362620.274  81.5%   438 7231s\n",
      " 181095 106342 505247.755   46  455 1961183.26 362704.567  81.5%   438 7245s\n",
      " 181659 106611 450964.821   35  362 1961183.26 362923.424  81.5%   438 7259s\n",
      " 182107 106924 899906.973   66  368 1961183.26 363102.378  81.5%   437 7272s\n",
      " 182605 107143 1344471.06   50  293 1961183.26 363374.590  81.5%   437 7285s\n",
      " 182932 107343 1351798.54   55  214 1961183.26 363490.317  81.5%   437 7298s\n",
      " 183255 107557 929729.303   67  265 1961183.26 363673.527  81.5%   438 7310s\n",
      " 183607 107747 880489.855   76  371 1961183.26 363915.263  81.4%   438 7322s\n",
      " 183928 107917 831954.325   70  356 1961183.26 364387.207  81.4%   438 7336s\n",
      " 184281 108193 787435.363   66  370 1961183.26 364640.061  81.4%   438 7351s\n",
      " 184690 108456 1023762.23   52  362 1961183.26 364915.189  81.4%   438 7365s\n",
      " 185135 108752 492824.036   58  398 1961183.26 365090.402  81.4%   438 7378s\n",
      " 185568 109057 460377.665   57  375 1961183.26 365213.467  81.4%   438 7395s\n",
      " 186005 109382 1703229.76   83  191 1961183.26 365401.884  81.4%   438 7408s\n",
      " 186495 109552 503354.822   66  327 1961183.26 365798.866  81.3%   438 7424s\n",
      " 186796 109819 746445.494   40  346 1961183.26 365894.228  81.3%   438 7439s\n",
      " 187204 110165 629010.944   58  399 1961183.26 366139.572  81.3%   438 7455s\n",
      " 187681 110515 768949.913  106  329 1961183.26 366451.722  81.3%   438 7472s\n",
      " 188259 110772 547998.535   60  380 1961183.26 366722.970  81.3%   438 7484s\n",
      " 188635 111105 443152.053   37  297 1961183.26 366840.508  81.3%   438 7496s\n",
      " 189096 111324 733562.234   69  393 1961183.26 367057.550  81.3%   438 7507s\n",
      " 189440 111495 845973.344   66  263 1961183.26 367341.102  81.3%   438 7521s\n",
      " 189702 111699 763713.039   48  282 1961183.26 367511.173  81.3%   438 7534s\n",
      " 190061 112003 777414.762   44  389 1961183.26 367607.068  81.3%   438 7549s\n",
      " 190566 112176 574753.076   68  377 1961183.26 367898.133  81.2%   438 7562s\n",
      " 190918 112441 1145299.43   60  268 1961183.26 368133.212  81.2%   438 7575s\n",
      " 191359 112810 973285.537   61  253 1961183.26 368276.551  81.2%   438 7588s\n",
      " 191853 113045 1011150.31   75  295 1961183.26 368455.246  81.2%   438 7601s\n",
      " 192203 113366 853853.238   52  342 1961183.26 368607.633  81.2%   438 7614s\n",
      " 192682 113714 infeasible   72      1961183.26 368667.258  81.2%   438 7627s\n",
      " 193153 114039 580095.788   55  515 1961183.26 368793.697  81.2%   438 7641s\n",
      " 193601 114176 491699.486   63  441 1961183.26 368902.713  81.2%   438 7653s\n",
      " 193907 114456 561247.945   57  364 1961183.26 369032.117  81.2%   438 7667s\n",
      " 194321 114697 493605.762   58  408 1961183.26 369239.111  81.2%   438 7679s\n",
      " 194681 114908 577767.542   62  384 1961183.26 369437.006  81.2%   438 7692s\n",
      " 195053 115127 1040311.78   46  328 1961183.26 369585.507  81.2%   438 7705s\n",
      " 195406 115280 1039572.18   61  266 1961183.26 369709.822  81.1%   438 7719s\n",
      " 195737 115563 775722.682   49  212 1961183.26 370007.961  81.1%   438 7732s\n",
      " 196223 115921 1469728.59   85  273 1961183.26 370216.212  81.1%   438 7746s\n",
      " 196749 116116 1346468.09   65  235 1961183.26 370444.852  81.1%   438 7759s\n",
      " 197086 116413 837672.660   57  217 1961183.26 370682.162  81.1%   438 7771s\n",
      " 197528 116713 768832.340  100  385 1961183.26 370854.787  81.1%   438 7784s\n",
      " 197982 116985 838119.876   69  412 1961183.26 371032.510  81.1%   438 7802s\n",
      " 198446 117305 430001.733   36  380 1961183.26 371330.291  81.1%   438 7817s\n",
      " 198999 117531 636658.084   74  368 1961183.26 371489.027  81.1%   438 7833s\n",
      " 199364 117766 656422.597   54  418 1961183.26 371622.651  81.1%   438 7846s\n",
      " 199764 117969 630260.643   56  392 1961183.26 371875.096  81.0%   438 7860s\n",
      " 200177 118229 452639.133   55  504 1961183.26 371961.673  81.0%   438 7873s\n",
      " 200612 118548 1181165.36   60  336 1961183.26 372242.239  81.0%   438 7886s\n",
      " 201062 118820 585718.065   60  343 1961183.26 372510.583  81.0%   438 7899s\n",
      " 201504 118987 infeasible   58      1961183.26 372731.553  81.0%   438 7913s\n",
      " 201885 119278 infeasible   60      1961183.26 372848.243  81.0%   438 7927s\n",
      " 202316 119578 1024416.16   46  281 1961183.26 373125.511  81.0%   438 7940s\n",
      " 202739 119852 667793.778   51  447 1961183.26 373276.133  81.0%   438 7953s\n",
      " 203179 120130 915355.955   78  360 1961183.26 373398.511  81.0%   438 7965s\n",
      " 203587 120431 1131605.52   76  245 1961183.26 373599.843  81.0%   437 7978s\n",
      " 204043 120706 560409.730   58  357 1961183.26 373766.366  80.9%   437 7991s\n",
      " 204415 120934 1248353.66   76  273 1961183.26 373947.804  80.9%   437 8004s\n",
      " 204804 121185 818381.494   58  402 1961183.26 374121.363  80.9%   437 8018s\n",
      " 205213 121433 720711.783   55  344 1961183.26 374294.985  80.9%   437 8031s\n",
      " 205649 121742 531629.572   62  299 1961183.26 374519.528  80.9%   437 8044s\n",
      " 206135 122099 737063.045   71  412 1961183.26 374650.845  80.9%   437 8057s\n",
      " 206683 122286 1295148.12   73  186 1961183.26 374982.859  80.9%   437 8071s\n",
      " 207006 122568 989704.296   55  294 1961183.26 375150.380  80.9%   437 8084s\n",
      " 207398 122744 749742.214   38  267 1961183.26 375385.031  80.9%   437 8096s\n",
      " 207698 123003 549089.060   59  395 1961183.26 375559.256  80.9%   438 8110s\n",
      " 208119 123255 1358012.66   51  239 1961183.26 375674.509  80.8%   438 8123s\n",
      " 208560 123599 580929.235   49  435 1961183.26 375886.087  80.8%   438 8141s\n",
      " 209087 123747 infeasible   72      1961183.26 375979.508  80.8%   437 8152s\n",
      " 209360 124049 871358.642   52  393 1961183.26 376280.415  80.8%   438 8167s\n",
      " 209803 124311 774690.462   48  317 1961183.26 376426.114  80.8%   438 8182s\n",
      " 210220 124521 1846456.04   88  107 1961183.26 376558.963  80.8%   438 8194s\n",
      " 210575 124783 932808.929   76  289 1961183.26 376770.852  80.8%   438 8208s\n",
      " 210963 124891 1394494.31   80  246 1961183.26 376929.623  80.8%   438 8223s\n",
      " 211312 125126 1445984.06   71  248 1961183.26 377198.288  80.8%   438 8237s\n",
      " 211665 125353 1167979.42   84  303 1961183.26 377439.784  80.8%   438 8252s\n",
      " 212022 125574 1109756.54   46  299 1961183.26 377595.525  80.7%   438 8267s\n",
      " 212499 125863 412616.365   56  508 1961183.26 377872.071  80.7%   438 8282s\n",
      " 212979 126175 838856.723   53  366 1961183.26 378060.261  80.7%   438 8299s\n",
      " 213453 126420 941548.374   72  305 1961183.26 378230.412  80.7%   438 8314s\n",
      " 213893 126741 647442.089   62  397 1961183.26 378524.737  80.7%   438 8328s\n",
      " 214341 127140 443426.707   56  353 1961183.26 378707.562  80.7%   438 8342s\n",
      " 214943 127502 924730.484   46  317 1961183.26 378938.107  80.7%   438 8357s\n",
      " 215455 127793 820219.981   66  342 1961183.26 379154.813  80.7%   438 8370s\n",
      " 215865 128066 426437.453   54  370 1961183.26 379354.153  80.7%   438 8384s\n",
      " 216320 128328 1565847.90   71  290 1961183.26 379499.641  80.6%   438 8397s\n",
      " 216740 128639 700688.136   59  286 1961183.26 379776.820  80.6%   438 8410s\n",
      " 217195 128897 641080.288   73  410 1961183.26 379936.111  80.6%   438 8423s\n",
      " 217579 129252 1066333.95   54  267 1961183.26 380020.683  80.6%   438 8438s\n",
      " 218056 129530 1051831.13   80  296 1961183.26 380140.027  80.6%   438 8451s\n",
      " 218473 129823 infeasible   78      1961183.26 380341.730  80.6%   438 8464s\n",
      " 218954 130182 1032917.28   57  307 1961183.26 380555.172  80.6%   438 8481s\n",
      " 219482 130451 727103.443   63  338 1961183.26 380725.379  80.6%   438 8493s\n",
      " 219864 130721 1230478.79   61  221 1961183.26 380892.257  80.6%   437 8508s\n",
      " 220258 131037 529652.461   65  433 1961183.26 381175.230  80.6%   437 8521s\n",
      " 220708 131366 872132.105   44  300 1961183.26 381392.968  80.6%   437 8534s\n",
      " 221143 131680 872315.668   54  318 1961183.26 381498.674  80.5%   437 8545s\n",
      " 221552 131926 667674.956   85  375 1961183.26 381661.890  80.5%   437 8557s\n",
      " 221954 132118 610416.897   63  387 1961183.26 381873.307  80.5%   437 8570s\n",
      " 222365 132382 397851.478   42  438 1961183.26 382064.907  80.5%   437 8581s\n",
      " 222715 132615 1470097.46  111  313 1961183.26 382139.438  80.5%   437 8594s\n",
      " 223091 132817 1032596.63   52  274 1961183.26 382282.568  80.5%   437 8607s\n",
      " 223448 133076 515178.983   68  387 1961183.26 382495.326  80.5%   437 8620s\n",
      " 223845 133300 550235.201   67  361 1961183.26 382711.495  80.5%   437 8633s\n",
      " 224175 133600 460905.100   64  336 1961183.26 382955.075  80.5%   437 8646s\n",
      " 224627 133875 1062081.05   62  230 1961183.26 383179.739  80.5%   437 8659s\n",
      " 225101 134098 623323.681   57  400 1961183.26 383337.097  80.5%   437 8672s\n",
      " 225527 134317 658319.572   69  427 1961183.26 383491.979  80.4%   437 8686s\n",
      " 225926 134588 492479.848   41  396 1961183.26 383638.965  80.4%   437 8700s\n",
      " 226325 134763 1003976.74   93  386 1961183.26 383821.882  80.4%   437 8712s\n",
      " 226716 134964 infeasible   81      1961183.26 384229.502  80.4%   437 8725s\n",
      " 227032 135269 975180.092   61  396 1961183.26 384366.867  80.4%   437 8738s\n",
      " 227469 135542 743890.361   67  281 1961183.26 384605.047  80.4%   438 8751s\n",
      " 227830 135785 973230.019   59  317 1961183.26 384808.046  80.4%   438 8767s\n",
      " 228191 136048 684053.509   62  368 1961183.26 384911.771  80.4%   438 8781s\n",
      " 228678 136300 717645.133   80  302 1961183.26 385011.843  80.4%   438 8795s\n",
      " 229055 136544 481136.606   48  496 1961183.26 385376.632  80.3%   438 8810s\n",
      " 229404 136817 1510672.35   85  275 1961183.26 385566.465  80.3%   438 8826s\n",
      " 229851 137155 infeasible  102      1961183.26 385697.518  80.3%   438 8840s\n",
      " 230313 137452 1213732.72   62  225 1961183.26 385949.243  80.3%   438 8854s\n",
      " 230812 137707 1230092.43   78  310 1961183.26 386109.473  80.3%   438 8866s\n",
      " 231213 137982 infeasible   68      1961183.26 386365.741  80.3%   438 8879s\n",
      " 231623 138317 1750532.90  103  174 1961183.26 386528.593  80.3%   438 8891s\n",
      " 232126 138589 864022.324   65  353 1961183.26 386850.351  80.3%   438 8903s\n",
      " 232539 138766 589003.785   59  329 1961183.26 386919.087  80.3%   437 8916s\n",
      " 232834 139113 infeasible   57      1961183.26 387083.380  80.3%   438 8928s\n",
      " 233331 139332 1718834.25   89  237 1961183.26 387376.550  80.2%   437 8941s\n",
      " 233652 139563 898570.128   84  380 1961183.26 387528.512  80.2%   437 8954s\n",
      " 234052 139766 520023.775   55  374 1961183.26 387596.057  80.2%   437 8967s\n",
      " 234399 140029 527395.970   53  391 1961183.26 387686.128  80.2%   438 8981s\n",
      " 234822 140292 905552.263   43  326 1961183.26 387959.664  80.2%   438 8995s\n",
      " 235182 140556 885053.381   67  295 1961183.26 388103.866  80.2%   438 9008s\n",
      " 235586 140922 1432515.76   72  210 1961183.26 388221.203  80.2%   438 9022s\n",
      " 236126 141238 532497.260   64  414 1961183.26 388474.601  80.2%   437 9034s\n",
      " 236544 141599 962049.108   58  491 1961183.26 388716.746  80.2%   437 9048s\n",
      " 237052 141760 1062239.01   52  303 1961183.26 388809.782  80.2%   437 9060s\n",
      " 237332 142053 1068766.68   81  248 1961183.26 389113.682  80.2%   437 9072s\n",
      " 237765 142342 infeasible   82      1961183.26 389287.238  80.2%   437 9084s\n",
      " 238191 142561 1133961.15   42  305 1961183.26 389432.823  80.1%   437 9096s\n",
      " 238516 142859 709644.324   74  408 1961183.26 389662.919  80.1%   437 9109s\n",
      " 238991 143230 1009523.48   61  283 1961183.26 389890.127  80.1%   437 9123s\n",
      " 239475 143444 infeasible   80      1961183.26 389954.841  80.1%   437 9135s\n",
      " 239784 143781 802648.636   64  324 1961183.26 390076.160  80.1%   437 9151s\n",
      " 240256 143999     cutoff   78      1961183.26 390297.956  80.1%   437 9166s\n",
      " 240659 144221 668686.677   41  353 1961183.26 390557.626  80.1%   437 9179s\n",
      " 241089 144451 1571338.92   61  144 1961183.26 390659.942  80.1%   437 9193s\n",
      " 241490 144709 673213.906   60  419 1961183.26 390778.337  80.1%   437 9208s\n",
      " 241868 144991 629857.213   44  364 1961183.26 390926.702  80.1%   437 9221s\n",
      " 242305 145152 infeasible   51      1961183.26 391155.360  80.1%   437 9236s\n",
      " 242627 145431 587441.193   61  433 1961183.26 391303.177  80.0%   438 9253s\n",
      " 243021 145707 infeasible   71      1961183.26 391493.748  80.0%   438 9268s\n",
      " 243461 145990 1071176.03   70  333 1961183.26 391679.939  80.0%   438 9285s\n",
      " 243960 146299 infeasible   57      1961183.26 391851.256  80.0%   438 9299s\n",
      " 244453 146523 1906386.55   66  116 1961183.26 391998.211  80.0%   438 9313s\n",
      " 244830 146759 1184789.84   51  309 1961183.26 392128.073  80.0%   438 9328s\n",
      " 245174 147101 986821.333   65  342 1961183.26 392261.115  80.0%   438 9343s\n",
      " 245668 147438 951105.484   58  398 1961183.26 392580.962  80.0%   438 9356s\n",
      " 246137 147722 641601.269   38  349 1961183.26 392721.028  80.0%   438 9370s\n",
      " 246591 148020     cutoff   77      1961183.26 392850.096  80.0%   438 9383s\n",
      " 247042 148368 488947.041   58  384 1961183.26 393191.428  80.0%   438 9396s\n",
      " 247544 148757 820615.634   71  455 1961183.26 393386.221  79.9%   438 9410s\n",
      " 248061 149022 725697.967   55  380 1961183.26 393686.747  79.9%   437 9423s\n",
      " 248486 149314 969894.645   56  284 1961183.26 393849.169  79.9%   437 9436s\n",
      " 248945 149563 414642.216   58  484 1961183.26 394030.325  79.9%   437 9449s\n",
      " 249322 149817 1268700.93   50  227 1961183.26 394144.902  79.9%   437 9463s\n",
      " 249778 150124 810849.086   61  267 1961183.26 394432.317  79.9%   437 9477s\n",
      " 250237 150516 574039.444   44  355 1961183.26 394665.604  79.9%   437 9493s\n",
      " 250754 150703 infeasible   94      1961183.26 394720.827  79.9%   437 9505s\n",
      " 251043 150967 887326.842   82  284 1961183.26 394903.809  79.9%   437 9519s\n",
      " 251453 151197 583738.902   63  403 1961183.26 395135.754  79.9%   437 9533s\n",
      " 251840 151418 1595982.19   54  273 1961183.26 395402.211  79.8%   437 9547s\n",
      " 252225 151713 1561465.42   38  205 1961183.26 395660.959  79.8%   437 9561s\n",
      " 252636 151993 459677.680   54  459 1961183.26 395790.218  79.8%   438 9574s\n",
      " 253071 152253 1007209.99   59  297 1961183.26 396008.508  79.8%   438 9588s\n",
      " 253471 152485 1795168.68   66  146 1961183.26 396255.909  79.8%   438 9605s\n",
      " 253907 152705 infeasible   53      1961183.26 396418.836  79.8%   438 9621s\n",
      " 254318 153018 1023136.13   69  369 1961183.26 396635.998  79.8%   438 9635s\n",
      " 254775 153319 1311627.70   58  269 1961183.26 396876.744  79.8%   438 9649s\n",
      " 255251 153595 679354.093   60  357 1961183.26 397025.286  79.8%   438 9663s\n",
      " 255763 153925 701866.346   53  301 1961183.26 397233.389  79.7%   438 9676s\n",
      " 256248 154165 440549.498   42  434 1961183.26 397372.896  79.7%   438 9690s\n",
      " 256631 154471 1507700.41   67  213 1961183.26 397552.047  79.7%   438 9704s\n",
      " 257127 154698 infeasible   96      1961183.26 397650.424  79.7%   438 9718s\n",
      " 257580 154952 720924.984   54  375 1961183.26 397789.116  79.7%   438 9731s\n",
      " 258020 155261 700768.212   50  253 1961183.26 397897.676  79.7%   438 9744s\n",
      " 258469 155504 1196474.16   96  349 1961183.26 398176.533  79.7%   438 9757s\n",
      " 258806 155787 540880.249   59  398 1961183.26 398390.598  79.7%   438 9771s\n",
      " 259259 156069 788550.906   79  354 1961183.26 398636.609  79.7%   438 9785s\n",
      " 259636 156359 703802.607   65  431 1961183.26 398775.145  79.7%   438 9800s\n",
      " 260067 156652 1316868.18   96  267 1961183.26 398891.740  79.7%   438 9813s\n",
      " 260506 156970 684091.817  104  324 1961183.26 399042.109  79.7%   438 9828s\n",
      " 260989 157289 643991.200   40  288 1961183.26 399183.568  79.6%   438 9843s\n",
      " 261385 157486 1505716.03   86  232 1961183.26 399333.007  79.6%   438 9856s\n",
      " 261671 157847 1147444.63   68  319 1961183.26 399604.309  79.6%   438 9873s\n",
      " 262179 158110 1163395.50   90  228 1961183.26 399917.238  79.6%   438 9887s\n",
      " 262586 158311 707591.993   42  409 1961183.26 400150.479  79.6%   438 9901s\n",
      " 262899 158560 962708.515   73  463 1961183.26 400307.571  79.6%   438 9916s\n",
      " 263310 158810 843204.693   40  329 1961183.26 400547.353  79.6%   438 9931s\n",
      " 263680 159178     cutoff   87      1961183.26 400602.726  79.6%   438 9946s\n",
      " 264241 159464 780785.354   58  395 1961183.26 400756.731  79.6%   438 9959s\n",
      " 264693 159772 966375.381   42  323 1961183.26 401058.645  79.6%   438 9973s\n",
      " 265187 160035 595438.032   47  428 1961183.26 401292.177  79.5%   438 9986s\n",
      " 265599 160262 972958.848   68  389 1961183.26 401442.261  79.5%   438 10001s\n",
      " 266140 160577 704537.009   41  380 1961183.26 401545.562  79.5%   438 10015s\n",
      " 266637 160840 1029876.92   73  300 1961183.26 401862.580  79.5%   438 10029s\n",
      " 267078 161072 638979.344   49  405 1961183.26 401937.381  79.5%   438 10042s\n",
      " 267447 161299 1273827.27   59  273 1961183.26 402124.332  79.5%   438 10056s\n",
      " 267840 161552 776177.253   66  315 1961183.26 402423.445  79.5%   438 10069s\n",
      " 268205 161894 658903.379  105  357 1961183.26 402537.114  79.5%   438 10083s\n",
      " 268716 162189 671066.550   65  270 1961183.26 402721.630  79.5%   438 10097s\n",
      " 269151 162469 805405.923   55  398 1961183.26 402983.004  79.5%   438 10112s\n",
      " 269634 162720 683481.075   67  465 1961183.26 403228.314  79.4%   438 10126s\n",
      " 269995 163091 627186.178   59  383 1961183.26 403314.515  79.4%   438 10139s\n",
      " 270540 163348 730399.127   31  235 1961183.26 403503.047  79.4%   438 10151s\n",
      " 270933 163604 1443833.18   88  155 1961183.26 403783.417  79.4%   438 10167s\n",
      " 271400 163856 infeasible   54      1961183.26 404049.754  79.4%   438 10179s\n",
      " 271775 164150 infeasible   95      1961183.26 404294.342  79.4%   438 10194s\n",
      " 272215 164370 infeasible   66      1961183.26 404450.360  79.4%   438 10208s\n",
      " 272525 164695 1011847.50   45  331 1961183.26 404562.058  79.4%   438 10222s\n",
      " 272979 164997 1371190.37   66  246 1961183.26 404735.184  79.4%   438 10235s\n",
      " 273436 165188 685102.765   53  289 1961183.26 404907.592  79.4%   438 10248s\n",
      " 273763 165535     cutoff   87      1961183.26 405065.499  79.3%   438 10263s\n",
      " 274249 165765 970698.056   63  276 1961183.26 405308.575  79.3%   438 10277s\n",
      " 274688 166070 infeasible   49      1961183.26 405526.026  79.3%   438 10290s\n",
      " 275111 166400 1062695.02   88  313 1961183.26 405710.946  79.3%   438 10303s\n",
      " 275581 166659 790606.398   59  399 1961183.26 405796.687  79.3%   438 10317s\n",
      " 275956 166915 727928.227   67  384 1961183.26 405944.832  79.3%   438 10330s\n",
      " 276361 167204 821137.680   84  336 1961183.26 406158.450  79.3%   438 10345s\n",
      " 276791 167551 731062.628   63  394 1961183.26 406354.589  79.3%   438 10357s\n",
      " 277283 167749 964253.241   64  334 1961183.26 406491.442  79.3%   438 10369s\n",
      " 277597 167983 1060601.39   43  250 1961183.26 406815.408  79.3%   438 10383s\n",
      " 277976 168277 710117.173   67  427 1961183.26 407071.429  79.2%   438 10396s\n",
      " 278403 168452 infeasible   90      1961183.26 407274.622  79.2%   438 10410s\n",
      " 278721 168676 757395.732   48  272 1961183.26 407447.135  79.2%   438 10423s\n",
      " 279108 168970 486944.911   42  415 1961183.26 407774.209  79.2%   438 10436s\n",
      " 279530 169298 1073391.51   63  319 1961183.26 407943.175  79.2%   438 10452s\n",
      " 280022 169573 1190557.46   55  180 1961183.26 408133.763  79.2%   438 10465s\n",
      " 280459 169818 851696.914   77  312 1961183.26 408421.763  79.2%   438 10479s\n",
      " 280861 170076 1083190.59   77  258 1961183.26 408629.967  79.2%   438 10493s\n",
      " 281281 170403 734571.703   61  396 1961183.26 408838.905  79.2%   438 10510s\n",
      " 281802 170701 685595.375   71  373 1961183.26 409058.309  79.1%   438 10522s\n",
      " 282238 170991 1735217.75   79  175 1961183.26 409150.658  79.1%   438 10535s\n",
      " 282651 171271 1376330.75   66  281 1961183.26 409353.880  79.1%   438 10547s\n",
      " 283130 171542 1555503.67  100  199 1961183.26 409519.284  79.1%   438 10559s\n",
      " 283520 171782 467631.813   56  433 1961183.26 409647.164  79.1%   438 10571s\n",
      " 283954 172137 infeasible   57      1961183.26 409782.151  79.1%   437 10583s\n",
      " 284384 172375 1099487.10  101  331 1961183.26 409865.733  79.1%   437 10595s\n",
      " 284773 172623 618011.605   45  472 1961183.26 409994.088  79.1%   437 10607s\n",
      " 285143 172816 655378.023   61  347 1961183.26 410221.612  79.1%   437 10618s\n",
      " 285481 173088 802349.100   72  245 1961183.26 410307.142  79.1%   437 10631s\n",
      " 285965 173227     cutoff   79      1961183.26 410378.799  79.1%   437 10643s\n",
      " 286209 173455 724331.893   47  308 1961183.26 410539.298  79.1%   438 10657s\n",
      " 286556 173699 569376.498   73  418 1961183.26 410639.686  79.1%   438 10669s\n",
      " 286947 173849 1783777.47  110  194 1961183.26 410958.674  79.0%   438 10682s\n",
      " 287290 174021 981275.783   54  190 1961183.26 411182.510  79.0%   438 10696s\n",
      " 287569 174274 1083597.71   67  264 1961183.26 411203.006  79.0%   438 10709s\n",
      " 287988 174605 574126.279   62  395 1961183.26 411392.699  79.0%   438 10721s\n",
      " 288439 174850 839323.077   77  320 1961183.26 411453.507  79.0%   438 10734s\n",
      " 288881 175140 infeasible   42      1961183.26 411584.274  79.0%   438 10747s\n",
      " 289258 175374 619168.415   67  364 1961183.26 411687.031  79.0%   438 10760s\n",
      " 289633 175672 611756.649   53  348 1961183.26 411913.061  79.0%   438 10776s\n",
      " 290089 175910 708049.195   43  454 1961183.26 412060.841  79.0%   438 10790s\n",
      " 290439 176089 823846.074   54  275 1961183.26 412246.322  79.0%   438 10800s\n",
      "\n",
      "Cutting planes:\n",
      "  Gomory: 30\n",
      "  Cover: 185\n",
      "  Implied bound: 612\n",
      "  Projected implied bound: 5\n",
      "  MIR: 232\n",
      "  StrongCG: 1\n",
      "  Flow cover: 350\n",
      "  Flow path: 1019\n",
      "  Inf proof: 18\n",
      "  Zero half: 179\n",
      "  Network: 2\n",
      "  RLT: 8\n",
      "  Relax-and-lift: 52\n",
      "\n",
      "Explored 290702 nodes (127595647 simplex iterations) in 10800.11 seconds (18474.94 work units)\n",
      "Thread count was 8 (of 8 available processors)\n",
      "\n",
      "Solution count 10: 1.96118e+06 1.96118e+06 1.96123e+06 ... 2.01018e+06\n",
      "\n",
      "Time limit reached\n",
      "Best objective 1.961183261683e+06, best bound 4.122463219214e+05, gap 78.9797%\n",
      "\n",
      "User-callback calls 1588719, time in user-callback 16.12 sec\n"
     ]
    }
   ],
   "source": [
    "H = 3600\n",
    "\n",
    "m.setParam(gp.GRB.Param.TimeLimit, 3*H)\n",
    "\n",
    "# Set the callback function\n",
    "m._callback = callback\n",
    "\n",
    "m.optimize(callback=callback)\n",
    "\n",
    "# Check the status of the optimization\n",
    "if m.status == gp.GRB.OPTIMAL:\n",
    "    print(\"Optimal solution found!\")\n",
    "    \n",
    "if m.status == gp.GRB.INFEASIBLE:\n",
    "    m.computeIIS()\n",
    "    # Write the IIS to a .ilp file\n",
    "    m.write(\"MIRPSO.ilp\")\n",
    "    print(\"Model is infeasible\")"
   ]
  },
  {
   "cell_type": "code",
   "execution_count": 106,
   "metadata": {},
   "outputs": [
    {
     "name": "stdout",
     "output_type": "stream",
     "text": [
      "Objective value: 1961183.2616827982\n"
     ]
    }
   ],
   "source": [
    "print(f'Objective value: {m.objVal}')"
   ]
  },
  {
   "cell_type": "code",
   "execution_count": 107,
   "metadata": {},
   "outputs": [
    {
     "data": {
      "image/png": "[encoded data removed]",
      "text/plain": [
       "<Figure size 1000x600 with 1 Axes>"
      ]
     },
     "metadata": {},
     "output_type": "display_data"
    }
   ],
   "source": [
    "import pandas as pd\n",
    "import seaborn as sns\n",
    "import matplotlib.pyplot as plt\n",
    "from matplotlib.ticker import FuncFormatter\n",
    "\n",
    "# Function to format the y-axis labels\n",
    "def millions_formatter(x, pos):\n",
    "    return f'{x / 1e6:.1f}M'\n",
    "\n",
    "# Convert the data to a DataFrame\n",
    "df = pd.DataFrame(bounds_history, columns=['Time', 'Upper Bound', 'Lower Bound', 'Gap'])\n",
    "\n",
    "# Create a figure and a set of subplots\n",
    "fig, ax = plt.subplots(figsize=(10, 6))\n",
    "\n",
    "# Plot the upper and lower bounds\n",
    "sns.lineplot(x='Time', y='Upper Bound', data=df, ax=ax, color='blue', label='Upper Bound')\n",
    "sns.lineplot(x='Time', y='Lower Bound', data=df, ax=ax, color='green', label='Lower Bound')\n",
    "\n",
    "# Set the title and labels\n",
    "plt.title('Evolution of Upper and Lower Bounds Over Time for MIRPSO')\n",
    "ax.set_ylabel('Bounds')\n",
    "ax.set_xlabel('Time (seconds)')\n",
    "\n",
    "# Add a grid\n",
    "ax.grid(True, linestyle='--', linewidth=0.5, color='gray', alpha=0.5)\n",
    "\n",
    "# Set the y-axis label formatter\n",
    "ax.yaxis.set_major_formatter(FuncFormatter(millions_formatter))\n",
    "\n",
    "# # Annotate the final gap\n",
    "final_gap = df['Gap'].iloc[-1]  # Get the last gap value\n",
    "# plt.annotate(f'Final Gap: {final_gap:.2f}%', \n",
    "#              xy=(1, 0), xycoords='axes fraction', \n",
    "#              xytext=(-10, 10), textcoords='offset points',\n",
    "#              horizontalalignment='right',\n",
    "#              verticalalignment='bottom',\n",
    "#              fontsize=10, color='red')\n",
    "\n",
    "# Annotate the final gap\n",
    "plt.annotate(f'Final Gap: {final_gap:.2f}%', \n",
    "             xy=(0.5, -0.1), xycoords='axes fraction', \n",
    "             xytext=(0, -10), textcoords='offset points',\n",
    "             horizontalalignment='center',\n",
    "             verticalalignment='top',\n",
    "             fontsize=10, color='red')\n",
    "\n",
    "# Adjust the legend to be outside the plot\n",
    "ax.legend(loc='upper left', bbox_to_anchor=(1.05, 1), borderaxespad=0)\n",
    "\n",
    "plt.tight_layout()\n",
    "plt.show()\n"
   ]
  },
  {
   "cell_type": "code",
   "execution_count": 108,
   "metadata": {},
   "outputs": [
    {
     "data": {
      "image/png": "[encoded data removed]",
      "text/plain": [
       "<Figure size 1000x600 with 1 Axes>"
      ]
     },
     "metadata": {},
     "output_type": "display_data"
    }
   ],
   "source": [
    "# import pandas as pd\n",
    "# import seaborn as sns\n",
    "# import matplotlib.pyplot as plt\n",
    "\n",
    "# # Convert the data to a DataFrame\n",
    "# df = pd.DataFrame(bounds_history, columns=['Time', 'Upper Bound', 'Lower Bound', 'Gap'])\n",
    "\n",
    "# # Create a figure and a set of subplots\n",
    "# fig, ax = plt.subplots(figsize=(10, 6))\n",
    "\n",
    "# # Plot the gap percentage over time\n",
    "# sns.lineplot(x='Time', y='Gap', data=df, ax=ax, color='red', label='Gap %')\n",
    "\n",
    "# # Set the title and labels\n",
    "# plt.title('Evolution of the Optimality Gap Percentage Over Time for MIRPSO')\n",
    "# ax.set_ylabel('Gap Percentage (%)')\n",
    "# ax.set_xlabel('Time (seconds)')\n",
    "\n",
    "# # Set y-axis limits from 0 to 100\n",
    "# ax.set_ylim(0, 100)\n",
    "\n",
    "# # Add a grid\n",
    "# ax.grid(True, linestyle='--', linewidth=0.5, color='gray', alpha=0.5)\n",
    "\n",
    "# # Adjust the legend\n",
    "# ax.legend(loc='upper right')\n",
    "\n",
    "# plt.tight_layout()\n",
    "# plt.show()\n"
   ]
  },
  {
   "cell_type": "code",
   "execution_count": 109,
   "metadata": {},
   "outputs": [],
   "source": [
    "# For each vessel, save the route\n",
    "vessel_routes_incl_wa = {}\n",
    "for vessel in vessels:\n",
    "    vessel_routes_incl_wa[vessel] = []\n",
    "    for arc in vessel_arcs[vessel]:\n",
    "        if x[arc.tuple, vessel].x > 0 + EBS:\n",
    "            vessel_routes_incl_wa[vessel].append(arc)\n"
   ]
  },
  {
   "cell_type": "code",
   "execution_count": 110,
   "metadata": {},
   "outputs": [],
   "source": [
    "vessel_routes = {}\n",
    "for v in vessels:\n",
    "    vessel_routes[v] = []\n",
    "    for node in o_dict[v]:\n",
    "        if node==sourceNode or node==sinkNode:\n",
    "            continue\n",
    "        if o[node.port.number, node.time, v].x > 0 + EBS:\n",
    "            vessel_routes[v].append(node)"
   ]
  },
  {
   "cell_type": "code",
   "execution_count": 111,
   "metadata": {},
   "outputs": [],
   "source": [
    "# Sort the arcs in each route by time\n",
    "sequences = {}\n",
    "for v in vessels:\n",
    "    vessel_routes[v] = sorted(vessel_routes[v], key=lambda node: node.time)\n",
    "    sequences[v] = [node.port.number for node in vessel_routes[v]]"
   ]
  },
  {
   "cell_type": "code",
   "execution_count": 112,
   "metadata": {},
   "outputs": [
    {
     "data": {
      "text/plain": [
       "{Vessel 5: [5, 1, 4, 5],\n",
       " Vessel 7: [4, 1, 4, 5],\n",
       " Vessel 10: [1, 5, 1],\n",
       " Vessel 11: [1, 4, 5, 1],\n",
       " Vessel 12: [1, 4, 1, 4]}"
      ]
     },
     "execution_count": 112,
     "metadata": {},
     "output_type": "execute_result"
    }
   ],
   "source": [
    "sequences"
   ]
  },
  {
   "cell_type": "code",
   "execution_count": 113,
   "metadata": {},
   "outputs": [],
   "source": [
    "# Sort the arcs in each route by time\n",
    "for vessel in vessels:\n",
    "    vessel_routes_incl_wa[vessel] = sorted(vessel_routes_incl_wa[vessel], key=lambda x: x.origin_node.time)"
   ]
  },
  {
   "cell_type": "code",
   "execution_count": 114,
   "metadata": {},
   "outputs": [
    {
     "data": {
      "text/plain": [
       "{Vessel 5: [5, 1, 4, 5, 6],\n",
       " Vessel 7: [4, 1, 4, 5, 6],\n",
       " Vessel 10: [1, 5, 1, 6],\n",
       " Vessel 11: [1, 4, 5, 1, 6],\n",
       " Vessel 12: [1, 4, 1, 4, 6]}"
      ]
     },
     "execution_count": 114,
     "metadata": {},
     "output_type": "execute_result"
    }
   ],
   "source": [
    "# For each vessel, save the route, but only the port-sequence\n",
    "vessel_routes_seq = {}\n",
    "for vessel in vessels:\n",
    "    vessel_routes_seq[vessel] = []\n",
    "    for arc in vessel_arcs[vessel]:\n",
    "        if arc in waiting_arcs[vessel]:\n",
    "            continue\n",
    "        if x[arc.tuple, vessel].x > 0 + EBS:\n",
    "            vessel_routes_seq[vessel].append(arc.destination_node.port.number)\n",
    "vessel_routes_seq"
   ]
  },
  {
   "cell_type": "code",
   "execution_count": 115,
   "metadata": {},
   "outputs": [],
   "source": [
    "# def visualize_solution_for_vessel(vessel, vessel_arcs):\n",
    "#     # Create a directed graph\n",
    "#     G = nx.DiGraph()\n",
    "\n",
    "#     # Add nodes to the graph\n",
    "#     for node in NODES:\n",
    "#         G.add_node(str(node.tuple))\n",
    "\n",
    "#     # Add edges (arcs) to the graph\n",
    "#     for arc in vessel_arcs[vessel]:\n",
    "#         G.add_edge(str(arc.origin_node.tuple), str(arc.destination_node.tuple))\n",
    "\n",
    "#     # Determine nodes with incoming and outgoing arcs\n",
    "#     nodes_with_incoming_arcs = [node for node, degree in G.in_degree() if degree > 0]\n",
    "#     nodes_with_outgoing_arcs = [node for node, degree in G.out_degree() if degree > 0]\n",
    "\n",
    "#    # Create a list to hold node colors\n",
    "#     node_colors = []\n",
    "#     for node_str in G.nodes():\n",
    "#         port_number, time = eval(node_str)  # Extract port number and time from the node label\n",
    "#         o_value = o.get((port_number, time, vessel))  # Use .get() to safely access the dictionary\n",
    "#         if o_value and o_value.x > 0 + EBS:\n",
    "#             node_colors.append('brown')  # Color for nodes with non-zero q values\n",
    "#         elif node_str in nodes_with_incoming_arcs or node_str in nodes_with_outgoing_arcs:\n",
    "#             node_colors.append('green')  # Color for nodes with arcs\n",
    "        \n",
    "#         else:\n",
    "#             node_colors.append('skyblue')  # Default color for nodes without arcs or q values\n",
    "\n",
    "\n",
    "#     # Resetting the y_offset and y_spacing\n",
    "#     y_offset = 10\n",
    "#     y_spacing = -30  # Increase vertical spacing for better clarity\n",
    "\n",
    "#     # Manually specify the positions for each node\n",
    "#     pos = {}\n",
    "#     for node_str in G.nodes():\n",
    "#         port_number, time = eval(node_str)  # Extract port number and time from the node label\n",
    "#         # The x-coordinate is based on time, the y-coordinate is fixed for nodes with the same port\n",
    "#         pos[node_str] = (time * 10, port_number * y_spacing)  # Multiplying time by 10 for better horizontal spacing\n",
    "\n",
    "#     # Drawing the graph using the adjusted positions\n",
    "#     plt.figure(figsize=(15, 10))\n",
    "#     nx.draw(G, pos, with_labels=True, node_size=2000, node_color=node_colors, font_size=10)\n",
    "#     labels = nx.get_edge_attributes(G, 'weight')\n",
    "#     nx.draw_networkx_edge_labels(G, pos, edge_labels=labels)\n",
    "#     plt.title(f\"Nodes and Arcs Graph for {vessel}\")\n",
    "#     plt.show()"
   ]
  },
  {
   "cell_type": "markdown",
   "metadata": {},
   "source": [
    "### VISUALIZE SOLUTION"
   ]
  },
  {
   "cell_type": "code",
   "execution_count": 116,
   "metadata": {},
   "outputs": [],
   "source": [
    "# for v in vessels:\n",
    "#     visualize_solution_for_vessel(v, vessel_routes_incl_wa)"
   ]
  },
  {
   "cell_type": "code",
   "execution_count": 117,
   "metadata": {},
   "outputs": [
    {
     "name": "stdout",
     "output_type": "stream",
     "text": [
      "o[5,6,Vessel 5] 1.0\n",
      "o[1,23,Vessel 5] 1.0\n",
      "o[4,40,Vessel 5] 1.0\n",
      "o[5,41,Vessel 5] 1.0\n",
      "o[4,2,Vessel 7] 1.0\n",
      "o[1,18,Vessel 7] 1.0\n",
      "o[4,34,Vessel 7] 1.0\n",
      "o[5,35,Vessel 7] 1.0\n",
      "o[1,5,Vessel 10] 1.0\n",
      "o[5,20,Vessel 10] 1.0\n",
      "o[1,39,Vessel 10] 1.0\n",
      "o[1,11,Vessel 11] 0.9999994194102811\n",
      "o[4,27,Vessel 11] 1.0\n",
      "o[5,28,Vessel 11] 1.0\n",
      "o[1,44,Vessel 11] 0.9999992201156479\n",
      "o[1,2,Vessel 12] 1.0\n",
      "o[4,16,Vessel 12] 1.0\n",
      "o[1,31,Vessel 12] 1.0\n",
      "o[4,45,Vessel 12] 1.0\n"
     ]
    }
   ],
   "source": [
    "# Print the o vars\n",
    "for v in vessels:\n",
    "    for node in o_dict[v]:\n",
    "        if o[node.port.number, node.time, v].x > 0 + EBS:\n",
    "            print(o[node.port.number, node.time, v].varName, o[node.port.number, node.time, v].x)"
   ]
  },
  {
   "cell_type": "code",
   "execution_count": 118,
   "metadata": {},
   "outputs": [
    {
     "name": "stdout",
     "output_type": "stream",
     "text": [
      "q[5,6,Vessel 5] 300.0\n",
      "q[1,23,Vessel 5] 300.0\n",
      "q[4,40,Vessel 5] 180.0\n",
      "q[5,41,Vessel 5] 120.0\n",
      "q[4,2,Vessel 7] 300.0\n",
      "q[1,18,Vessel 7] 300.0\n",
      "q[4,34,Vessel 7] 191.99993654891304\n",
      "q[5,35,Vessel 7] 108.00006345108693\n",
      "q[1,5,Vessel 10] 299.9999999999996\n",
      "q[5,20,Vessel 10] 299.9999999999996\n",
      "q[1,39,Vessel 10] 300.0\n",
      "q[1,11,Vessel 11] 299.9997461956524\n",
      "q[4,27,Vessel 11] 215.99999999999966\n",
      "q[5,28,Vessel 11] 83.99993654891347\n",
      "q[1,44,Vessel 11] 85.00000000000045\n",
      "q[1,2,Vessel 12] 300.0\n",
      "q[4,16,Vessel 12] 300.0\n",
      "q[1,31,Vessel 12] 300.0\n",
      "q[4,45,Vessel 12] 75.0\n"
     ]
    }
   ],
   "source": [
    "# Print the q vars\n",
    "for v in vessels:\n",
    "    for node in o_dict[v]:\n",
    "        if q[node.port.number, node.time, v].x > 0 + EBS:\n",
    "            print(q[node.port.number, node.time, v].varName, q[node.port.number, node.time, v].x)"
   ]
  },
  {
   "cell_type": "code",
   "execution_count": 119,
   "metadata": {},
   "outputs": [],
   "source": [
    "# Print all x-vars that are 1\n",
    "active_arcs = {}\n",
    "for v in vessels:\n",
    "    v_arcs_active = []\n",
    "    for arc in vessel_arcs[v]:\n",
    "        if x[arc.tuple, v].x > 0 + EBS:\n",
    "            v_arcs_active.append(arc)\n",
    "    active_arcs[v] = v_arcs_active"
   ]
  },
  {
   "cell_type": "markdown",
   "metadata": {},
   "source": [
    "# LOG"
   ]
  },
  {
   "cell_type": "code",
   "execution_count": 120,
   "metadata": {},
   "outputs": [],
   "source": [
    "\n",
    "def log(FILEPATH):\n",
    "    # Open a file to write the results\n",
    "    with open(FILEPATH, 'w') as file:\n",
    "        file.write(\"INSTANCE\\n\")\n",
    "        file.write(INSTANCE_PATH)\n",
    "        file.write(\"\\n\\n\")\n",
    "        \n",
    "        \n",
    "        file.write(\"Hyperparameters:\\n\")\n",
    "        file.write(f\"Number of Time Periods: {NUM_TIME_PERIODS}\\n\")\n",
    "        file.write(f\"Time Period Range: {TIME_PERIOD_RANGE}\\n\")\n",
    "        file.write(f\"Original Number of Vessels: {ORIGINAL_NUM_VESSELS}\\n\")\n",
    "        file.write(f\"Number of Vessels: {NUM_VESSELS}\\n\")\n",
    "        file.write(f\"Max Speed: {MAX_SPEED}\\n\")\n",
    "        file.write(f\"Min Speed: {MIN_SPEED}\\n\")\n",
    "        file.write(f\"Operating Speed: {OPERATING_SPEED}\\n\")\n",
    "        file.write(f\"Operating Cost: {OPERATING_COST}\\n\")\n",
    "        file.write(f\"Waiting Cost: {WAITING_COST}\\n\")\n",
    "        file.write(f\"Fuel Price (USD/ton): {FUEL_PRICE}\\n\\n\")\n",
    "        file.write(f\"Original number of ports: {ORIGINAL_NUM_PORTS}\\n\\n\")\n",
    "        file.write(f\"Number of ports: {NUM_PORTS}\\n\\n\")\n",
    "        \n",
    "        file.write(\"\\nPorts:\\n\")\n",
    "        for port in ports:\n",
    "            file.write(f\"{port.__repr2__()}\\n\")\n",
    "            \n",
    "        file.write(\"\\nVessels:\\n\")\n",
    "        for vessel in vessels:\n",
    "            file.write(f\"{vessel.__repr2__()}\\n\")\n",
    "        \n",
    "        file.write(\"\\nFull distance matrix:\\n\")\n",
    "        for row in FULL_DISTANCE_MATRIX:\n",
    "            row_str = ', '.join([f\"{item:.4f}\" for item in row])  # Format each item in the row\n",
    "            file.write(f\"[{row_str}]\\n\")\n",
    "            \n",
    "        file.write(\"\\n Start times:\\n\")\n",
    "        for vessel in vessels:\n",
    "            file.write(f\"{vessel}: {start_times[vessel]}\\n\")\n",
    "        file.write(\"\\n\")\n",
    "        \n",
    "        file.write(\"----------------------------------------\\n\")\n",
    "        # Write the objective value\n",
    "        file.write(f\"Objective Value: {m.objVal}\\n\")    \n",
    "        file.write(\"----------------------------------------\\n\")\n",
    "        \n",
    "        # Log the GAP\n",
    "        file.write(\"\\nOptimality Gap:\\n\")\n",
    "        gap_percentage = m.MIPGap * 100  # Convert to percentage\n",
    "        file.write(f\"Current GAP: {gap_percentage:.2f}%\\n\")\n",
    "        \n",
    "        # Write the active arcs to file\n",
    "        file.write(\"\\nActive Arcs:\\n\")\n",
    "        for vessel in vessels:\n",
    "            file.write(f\"{vessel}: {[arc for arc in active_arcs[vessel]]}\\n\")\n",
    "        file.write(\"\\n\")\n",
    "        \n",
    "        # Write all arcs to the file\n",
    "        file.write(\"\\nAll Arcs:\\n\")\n",
    "        for vessel in vessels:\n",
    "            file.write(f\"{vessel}: {[arc for arc in vessel_arcs[vessel]]}\\n\")\n",
    "        file.write(\"\\n\")\n",
    "\n",
    "        # Write the values of all variables\n",
    "        file.write(\"Variable Values:\\n\")\n",
    "        for var in m.getVars():\n",
    "            file.write(f\"{var.varName}: {var.x}\\n\")\n",
    "            \n",
    "            \n",
    "        file.write(\"\\n\")\n",
    "        file.write(\"\\n\")\n",
    "        \n",
    "        # Write the bounds history\n",
    "        file.write(\"\\nBounds History:\\n\")\n",
    "        for time, ub, lb, gap in bounds_history:\n",
    "            file.write(f\"{time}: {ub}, {lb}, {gap}\\n\")\n",
    "            \n",
    "            \n",
    "        file.close()\n"
   ]
  },
  {
   "cell_type": "code",
   "execution_count": 121,
   "metadata": {},
   "outputs": [],
   "source": [
    "if LOG:\n",
    "   log(FILEPATH)"
   ]
  }
 ],
 "metadata": {
  "kernelspec": {
   "display_name": "env",
   "language": "python",
   "name": "python3"
  },
  "language_info": {
   "codemirror_mode": {
    "name": "ipython",
    "version": 3
   },
   "file_extension": ".py",
   "mimetype": "text/x-python",
   "name": "python",
   "nbconvert_exporter": "python",
   "pygments_lexer": "ipython3",
   "version": "3.10.4"
  },
  "orig_nbformat": 4
 },
 "nbformat": 4,
 "nbformat_minor": 2
}

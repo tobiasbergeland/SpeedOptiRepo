{
 "cells": [
  {
   "cell_type": "code",
   "execution_count": 1,
   "metadata": {},
   "outputs": [],
   "source": [
    "import pandas as pd\n",
    "import numpy as np\n",
    "import gurobipy as gp\n",
    "from gurobipy import GRB\n",
    "import csv\n",
    "import networkx as nx\n",
    "import matplotlib.pyplot as plt\n",
    "import math\n"
   ]
  },
  {
   "cell_type": "code",
   "execution_count": 2,
   "metadata": {},
   "outputs": [
    {
     "name": "stdout",
     "output_type": "stream",
     "text": [
      "Set parameter Username\n",
      "Academic license - for non-commercial use only - expires 2024-01-18\n"
     ]
    }
   ],
   "source": [
    "m = gp.Model('Maritime Inventory Routing Problem')"
   ]
  },
  {
   "cell_type": "markdown",
   "metadata": {},
   "source": [
    "# Creating classes in order organize the code"
   ]
  },
  {
   "cell_type": "code",
   "execution_count": 3,
   "metadata": {},
   "outputs": [],
   "source": [
    "class Port:\n",
    "    def __init__(self, capacity, inventory, rate, price, berth_limit, port_fee, max_amount, min_amount, number, isLoadingPort):\n",
    "        self.capacity = capacity\n",
    "        self.inventory = inventory\n",
    "        self.rate = rate\n",
    "        self.price = price \n",
    "        self.berth_limit = berth_limit \n",
    "        self.port_fee = port_fee\n",
    "        self.max_amount = max_amount\n",
    "        self.min_amount = min_amount\n",
    "        self.number = number\n",
    "        self.isLoadingPort = isLoadingPort\n",
    "        \n",
    "    def __repr__(self):\n",
    "        return f'Port {self.number}'\n",
    "    \n",
    "\n",
    "class Node:\n",
    "    def __init__(self, port, time):\n",
    "        self.port = port\n",
    "        self.time = time\n",
    "        self.tuple = (port.number if port else None, time)\n",
    "        self.incoming_arcs = set()\n",
    "        self.outgoing_arcs = set()\n",
    "        self.berths = port.berth_limit if port else None\n",
    "    \n",
    "    def __repr__(self):\n",
    "        return str(self.tuple)\n",
    "\n",
    "\n",
    "class Arc:\n",
    "    def __init__(self, origin_node, destination_node, distance, cost, travel_time, speed, is_waiting_arc):\n",
    "        self.origin_node = origin_node\n",
    "        self.destination_node = destination_node\n",
    "        self.tuple = (origin_node, destination_node)\n",
    "        self.distance = distance\n",
    "        self.cost = cost\n",
    "        self.travel_time = travel_time\n",
    "        self.speed = speed\n",
    "        self.is_waiting_arc = is_waiting_arc\n",
    "            \n",
    "    def __repr__(self):\n",
    "        return f'{self.origin_node} -> {self.destination_node} --- Cost: {self.cost} --- Speed: {self.speed}'\n",
    "\n",
    "class Vessel:\n",
    "    def __init__(self, max_inventory, initial_inventory, max_operating_quantity, number):\n",
    "        self.max_inventory = int(max_inventory)\n",
    "        self.inventory = initial_inventory\n",
    "        self.max_operating_quantity = max_operating_quantity\n",
    "        self.number = number\n",
    "        self.arcs = set()\n",
    "        self.all_arcs_v = set()\n",
    "        \n",
    "    def __repr__(self):\n",
    "        return f'Vessel {self.number}'\n",
    "        "
   ]
  },
  {
   "cell_type": "markdown",
   "metadata": {},
   "source": [
    "### Read in file"
   ]
  },
  {
   "cell_type": "code",
   "execution_count": 4,
   "metadata": {},
   "outputs": [],
   "source": [
    "# Read the content of the provided file\n",
    "with open(\"data/LR1_1_DR1_3_VC1_V7a.txt\", 'r') as file:\n",
    "    content = file.read()"
   ]
  },
  {
   "cell_type": "code",
   "execution_count": 5,
   "metadata": {},
   "outputs": [],
   "source": [
    "def parse_metadata(content):\n",
    "    metadata = {}\n",
    "    \n",
    "    # Extract lines between \"----- MetaData -----\" and the next section separator (empty line or end of file)\n",
    "    start_index = content.index(\"----- MetaData -----\") + len(\"----- MetaData -----\")\n",
    "    end_index = content.find(\"\\n\\n\", start_index) if \"\\n\\n\" in content[start_index:] else len(content)\n",
    "    metadata_section = content[start_index:end_index].strip().split(\"\\n\")\n",
    "    \n",
    "    for line in metadata_section:\n",
    "        if \":\" in line:\n",
    "            # Split the line at \":\" to extract the key and value\n",
    "            key, value = line.split(\":\")\n",
    "            # Store the key-value pair in the dictionary\n",
    "            metadata[key.strip()] = value.strip()\n",
    "    \n",
    "    return metadata"
   ]
  },
  {
   "cell_type": "markdown",
   "metadata": {},
   "source": [
    "## Read in metadata"
   ]
  },
  {
   "cell_type": "code",
   "execution_count": 6,
   "metadata": {},
   "outputs": [],
   "source": [
    "'''Are not using these values:\n",
    "    spotMarketPricePerUnit = float(metadata['spotMarketPricePerUnit'])\n",
    "    spotMarketDiscountFactor = float(metadata['spotMarketDiscountFactor'])\n",
    "    perPeriodRewardForFinishingEarly = float(metadata.get('perPeriodRewardForFinishingEarly', 0))\n",
    "    attemptCost = float(metadata.get('attemptCost', 0))\n",
    "    constantForSinglePeriodAlphaSlack = float(metadata.get('constantForSinglePeriodAlphaSlack', 0))\n",
    "    constantForCumulativeAlphaSlack = float(metadata.get('constantForCumulativeAlphaSlack', 0))'''\n",
    "\n",
    "def read_and_assign_metadata_from_content(content):\n",
    "    # Parse the metadata\n",
    "    metadata = parse_metadata(content)\n",
    "    \n",
    "    # Assign the metadata values to variables\n",
    "    numPeriods = int(metadata['numPeriods'].split()[-1])  # Extract the last word (number) from the string\n",
    "    numCommodities = int(metadata['numCommodities'])\n",
    "    numLoadingRegions = int(metadata['numLoadingRegions'])\n",
    "    numDischargingRegions = int(metadata['numDischargingRegions'])\n",
    "    numLoadingPortsInRegion = [int(x) for x in metadata['numLoadingPortsInRegion'][1:-1].split()]\n",
    "    numDischargingPortsInRegion = [int(x) for x in metadata['numDischargingPortsInRegion'][1:-1].split()]\n",
    "    numVesselClasses = int(metadata['numVesselClasses'])\n",
    "    numTermVesselsInClass = [int(x) for x in metadata['numTermVesselsInClass'][1:-1].split()]\n",
    "    hoursPerPeriod = int(metadata['hoursPerPeriod'])\n",
    "    spotMarketPricePerUnit = float(metadata['spotMarketPricePerUnit'])\n",
    "    spotMarketDiscountFactor = float(metadata['spotMarketDiscountFactor'])\n",
    "    perPeriodRewardForFinishingEarly = float(metadata.get('perPeriodRewardForFinishingEarly', 0))\n",
    "    attemptCost = float(metadata.get('attemptCost', 0))\n",
    "    constantForSinglePeriodAlphaSlack = float(metadata.get('constantForSinglePeriodAlphaSlack', 0))\n",
    "    constantForCumulativeAlphaSlack = float(metadata.get('constantForCumulativeAlphaSlack', 0))\n",
    "    \n",
    "    # Return the assigned variables\n",
    "    return {\n",
    "        'numPeriods': numPeriods,\n",
    "        'numCommodities': numCommodities,\n",
    "        'numLoadingRegions': numLoadingRegions,\n",
    "        'numDischargingRegions': numDischargingRegions,\n",
    "        'numLoadingPortsInRegion': numLoadingPortsInRegion,\n",
    "        'numDischargingPortsInRegion': numDischargingPortsInRegion,\n",
    "        'numVesselClasses': numVesselClasses,\n",
    "        'numTermVesselsInClass': numTermVesselsInClass,\n",
    "        'hoursPerPeriod': hoursPerPeriod,\n",
    "        'spotMarketPricePerUnit': spotMarketPricePerUnit,\n",
    "        'spotMarketDiscountFactor': spotMarketDiscountFactor,\n",
    "        'perPeriodRewardForFinishingEarly': perPeriodRewardForFinishingEarly,\n",
    "        'attemptCost': attemptCost,\n",
    "        'constantForSinglePeriodAlphaSlack': constantForSinglePeriodAlphaSlack,\n",
    "        'constantForCumulativeAlphaSlack': constantForCumulativeAlphaSlack}"
   ]
  },
  {
   "cell_type": "code",
   "execution_count": 7,
   "metadata": {},
   "outputs": [],
   "source": [
    "\n",
    "# Using the refactored function with the already-read content\n",
    "metadata_from_content = read_and_assign_metadata_from_content(content)\n",
    "# Change the numPeriods manually.\n",
    "\n",
    "ORIGINAL_NUM_TIME_PERIODS = metadata_from_content['numPeriods']"
   ]
  },
  {
   "cell_type": "markdown",
   "metadata": {},
   "source": [
    "### Read in port data"
   ]
  },
  {
   "cell_type": "code",
   "execution_count": 8,
   "metadata": {},
   "outputs": [],
   "source": [
    "def parse_region_table(content):\n",
    "    # Extract the region table section\n",
    "    start_index = content.index(\"----- Region Table ----\") + len(\"----- Region Table ----\")\n",
    "    end_index = content.find(\"-----\", start_index)  # Find the next section separator\n",
    "    region_section = content[start_index:end_index].strip().split(\"\\n\")[1:]  # Exclude the header line\n",
    "    regions = {}\n",
    "    for line in region_section:\n",
    "        if \"Note:\" not in line:  # Exclude the note lines\n",
    "            attribute, *values = line.split()\n",
    "            regions[attribute] = values\n",
    "    return regions\n",
    "\n",
    "\n",
    "def parse_port_table_for_region(content, region_index):\n",
    "    # Extract the port table section for the specified region\n",
    "    search_str = f\"----- Port Table For Region {region_index} ----\"\n",
    "    start_index = content.index(search_str) + len(search_str)\n",
    "    end_index = content.find(\"-----\", start_index)  # Find the next section separator\n",
    "    port_section = content[start_index:end_index].strip().split(\"\\n\")[1:]  # Exclude the header line\n",
    "    ports = {}\n",
    "    for line in port_section:\n",
    "        attribute, *values = line.split()\n",
    "        ports[attribute] = values\n",
    "    return ports\n"
   ]
  },
  {
   "cell_type": "code",
   "execution_count": 9,
   "metadata": {},
   "outputs": [
    {
     "data": {
      "text/plain": [
       "{'Region 0': {'Capacity': ['594'],\n",
       "  'Inventory': ['297'],\n",
       "  'Rate': ['99'],\n",
       "  'Price': [],\n",
       "  'BerthLimit': ['1'],\n",
       "  'PortFee': ['38'],\n",
       "  'maxAmt': ['300'],\n",
       "  'minAmt': ['35'],\n",
       "  'C2R': ['ratio', '6']},\n",
       " 'Region 1': {'Capacity': ['351', '510', '312'],\n",
       "  'Inventory': ['168', '255', '156'],\n",
       "  'Rate': ['-39', '-34', '-26'],\n",
       "  'Price': ['5', '5', '5'],\n",
       "  'BerthLimit': ['1', '1', '1'],\n",
       "  'PortFee': ['57', '58', '66'],\n",
       "  'maxAmt': ['300', '300', '259'],\n",
       "  'minAmt': ['50', '35', '20'],\n",
       "  'C2R': ['ratio', '9', '15', '12']}}"
      ]
     },
     "execution_count": 9,
     "metadata": {},
     "output_type": "execute_result"
    }
   ],
   "source": [
    "# Extract region and port information\n",
    "regions_info = parse_region_table(content)\n",
    "ports_info = {f\"Region {i}\": parse_port_table_for_region(content, i) for i in range(len(regions_info['NumPorts']))}\n",
    "ports_info"
   ]
  },
  {
   "cell_type": "markdown",
   "metadata": {},
   "source": [
    "### Create the ports"
   ]
  },
  {
   "cell_type": "code",
   "execution_count": 10,
   "metadata": {},
   "outputs": [],
   "source": [
    "def create_ports_from_info_with_loading(ports_info):\n",
    "    all_ports = {}\n",
    "    tot_num = 1\n",
    "    \n",
    "    for region_idx, (region, port_attributes) in enumerate(ports_info.items()):\n",
    "        region_ports = []\n",
    "        for i in range(len(port_attributes['Capacity'])):\n",
    "            port = Port(\n",
    "                capacity=int(port_attributes['Capacity'][i]) if 'Capacity' in port_attributes else None,\n",
    "                inventory=int(port_attributes['Inventory'][i]) if 'Inventory' in port_attributes else None,\n",
    "                rate=abs(int(port_attributes['Rate'][i])) if 'Rate' in port_attributes else None,\n",
    "                price=int(port_attributes['Price'][i]) if 'Price' in port_attributes and port_attributes['Price'] else None,\n",
    "                berth_limit=int(port_attributes['BerthLimit'][i]) if 'BerthLimit' in port_attributes else None,\n",
    "                port_fee=int(port_attributes['PortFee'][i]) if 'PortFee' in port_attributes else None,\n",
    "                max_amount=int(port_attributes['maxAmt'][i]) if 'maxAmt' in port_attributes else None,\n",
    "                min_amount=int(port_attributes['minAmt'][i]) if 'minAmt' in port_attributes else None,\n",
    "                number=int(tot_num),  # Using 1 to numports+1 as the port number\n",
    "                isLoadingPort=1 if region_idx == 0 else -1)  # Set loadingPort to True if the region is the first one\n",
    "            region_ports.append(port)\n",
    "            tot_num += 1\n",
    "        all_ports[region] = region_ports\n",
    "    return all_ports"
   ]
  },
  {
   "cell_type": "code",
   "execution_count": 11,
   "metadata": {},
   "outputs": [],
   "source": [
    "all_ports = create_ports_from_info_with_loading(ports_info)"
   ]
  },
  {
   "cell_type": "code",
   "execution_count": 12,
   "metadata": {},
   "outputs": [
    {
     "data": {
      "text/plain": [
       "[Port 1, Port 2, Port 3, Port 4]"
      ]
     },
     "execution_count": 12,
     "metadata": {},
     "output_type": "execute_result"
    }
   ],
   "source": [
    "# Create a list of all ports\n",
    "ports = []\n",
    "for region, region_ports in all_ports.items():\n",
    "    ports.extend(region_ports)\n",
    "ports"
   ]
  },
  {
   "cell_type": "markdown",
   "metadata": {},
   "source": [
    "# Initial Parameters\n",
    "\n",
    "All parameters should be set below"
   ]
  },
  {
   "cell_type": "code",
   "execution_count": 13,
   "metadata": {},
   "outputs": [],
   "source": [
    "# Time periods\n",
    "NUM_TIME_PERIODS = 21\n",
    "metadata_from_content['numPeriods'] = NUM_TIME_PERIODS\n",
    "TIME_PERIOD_RANGE = list(range(1, NUM_TIME_PERIODS+1))\n",
    "\n",
    "# Number of vessels\n",
    "ORIGINAL_NUM_VESSELS = metadata_from_content['numTermVesselsInClass'][0]\n",
    "NUM_VESSELS = 2\n",
    "\n",
    "# Speed interval\n",
    "MAX_SPEED = 15\n",
    "MIN_SPEED = 8\n",
    "OPERATING_SPEED = 14\n",
    "\n",
    "# Operating cost\n",
    "OPERATING_COST = 50\n",
    "\n",
    "# Waiting cost\n",
    "WAITING_COST = 100\n",
    "\n",
    "# Fuel price in USD per ton\n",
    "FUEL_PRICE = 500\n"
   ]
  },
  {
   "cell_type": "code",
   "execution_count": 14,
   "metadata": {},
   "outputs": [],
   "source": [
    "def parse_vessel_table(content):\n",
    "    # Extract the vessel table section\n",
    "    start_index = content.index(\"----- Vessel Table ----\") + len(\"----- Vessel Table ----\")\n",
    "    end_index = content.find(\"-----\", start_index)  # Find the next section separator\n",
    "    vessel_section = content[start_index:end_index].strip().split(\"\\n\")[1:]  # Exclude the header line\n",
    "    \n",
    "    vessels = {}\n",
    "    for line in vessel_section:\n",
    "        if \"Note:\" not in line:  # Exclude the note lines\n",
    "            attribute, *values = line.split()\n",
    "            vessels[attribute] = values\n",
    "    return vessels"
   ]
  },
  {
   "cell_type": "code",
   "execution_count": 15,
   "metadata": {},
   "outputs": [
    {
     "data": {
      "text/plain": [
       "{'Type': ['Term', 'Term', 'Term', 'Term', 'Term', 'Term', 'Term'],\n",
       " 'Class': ['0', '0', '0', '0', '0', '0', '0'],\n",
       " 'Capacity': ['300', '300', '300', '300', '300', '300', '300']}"
      ]
     },
     "execution_count": 15,
     "metadata": {},
     "output_type": "execute_result"
    }
   ],
   "source": [
    "# Extract vessel information\n",
    "vessels_info = parse_vessel_table(content)\n",
    "vessels_info"
   ]
  },
  {
   "cell_type": "code",
   "execution_count": 16,
   "metadata": {},
   "outputs": [
    {
     "data": {
      "text/plain": [
       "[Vessel 1, Vessel 2, Vessel 3, Vessel 4, Vessel 5, Vessel 6, Vessel 7]"
      ]
     },
     "execution_count": 16,
     "metadata": {},
     "output_type": "execute_result"
    }
   ],
   "source": [
    "# Create a dictionary with key = vessel class and value = vessel object\n",
    "vessels = {}\n",
    "tot = 1\n",
    "for vessel_class in range(metadata_from_content['numVesselClasses']):\n",
    "    vessel_list = []\n",
    "    vessels_in_class = metadata_from_content['numTermVesselsInClass'][vessel_class]\n",
    "    for i in range(vessels_in_class):\n",
    "        vessel_list.append(Vessel(\n",
    "            max_inventory=int(vessels_info['Capacity'][i]),\n",
    "            initial_inventory=int(0),\n",
    "            max_operating_quantity=int(vessels_info['Capacity'][i]),\n",
    "            number=tot\n",
    "        ))\n",
    "        tot += 1\n",
    "    vessels[vessel_class] = vessel_list\n",
    "\n",
    "# We only have one vessel class. Convert the dictionary to a list\n",
    "vessels = vessels[0]\n",
    "vessels\n"
   ]
  },
  {
   "cell_type": "code",
   "execution_count": 17,
   "metadata": {},
   "outputs": [
    {
     "data": {
      "text/plain": [
       "[Vessel 1, Vessel 2]"
      ]
     },
     "execution_count": 17,
     "metadata": {},
     "output_type": "execute_result"
    }
   ],
   "source": [
    "# Manually set the number of vessels\n",
    "vessels = vessels[:NUM_VESSELS]\n",
    "vessels"
   ]
  },
  {
   "cell_type": "markdown",
   "metadata": {},
   "source": [
    "### Creating the nodes"
   ]
  },
  {
   "cell_type": "code",
   "execution_count": 18,
   "metadata": {},
   "outputs": [],
   "source": [
    "# Create the regular nodes\n",
    "regularNodes = []\n",
    "for t in range(1, NUM_TIME_PERIODS+1):\n",
    "    for port in ports:\n",
    "        node = Node(port=port, time=t)\n",
    "        regularNodes.append(node)\n",
    "    \n",
    "# Create fictional source and sink port\n",
    "sourcePort = Port(capacity=None, inventory=None, rate=None, price=None, berth_limit=len(vessels), port_fee=0, max_amount=None, min_amount=None, number=0, isLoadingPort=True)\n",
    "sinkPort = Port(capacity=None, inventory=None, rate=None, price=None, berth_limit=len(vessels), port_fee=0, max_amount=None, min_amount=None, number=len(ports)+1, isLoadingPort=False)\n",
    "\n",
    "# Create source and sink node\n",
    "sourceNode = Node(port=sourcePort, time=0)\n",
    "sinkNode = Node(port=sinkPort, time=NUM_TIME_PERIODS+1)\n",
    "\n",
    "NODES = [sourceNode] + regularNodes + [sinkNode]\n",
    "\n",
    "# Create a node dictionary with key = (port, time) tuple and value = node object\n",
    "NODE_DICT = {}\n",
    "for node in NODES:\n",
    "    NODE_DICT[node.tuple] = node"
   ]
  },
  {
   "cell_type": "markdown",
   "metadata": {},
   "source": [
    "### Read in arc data"
   ]
  },
  {
   "cell_type": "code",
   "execution_count": 19,
   "metadata": {},
   "outputs": [
    {
     "data": {
      "text/plain": [
       "[[0.0, 5792.83, 5730.94, 5663.71],\n",
       " [5792.83, 0.0, 326.1, 338.92],\n",
       " [5730.94, 326.1, 0.0, 67.42],\n",
       " [5663.71, 338.92, 67.42, 0.0]]"
      ]
     },
     "execution_count": 19,
     "metadata": {},
     "output_type": "execute_result"
    }
   ],
   "source": [
    "def parse_full_distance_matrix(content):\n",
    "    # Extract the full distance matrix section\n",
    "    start_str = \"----- FullDistanceMatrix ----\"\n",
    "    start_index = content.index(start_str) + len(start_str)\n",
    "    end_index = content.find(\"-----\", start_index)  # Find the next section separator\n",
    "    matrix_section = content[start_index:end_index].strip().split(\"\\n\")[2:]  # Exclude the header lines\n",
    "    \n",
    "    # Convert the matrix section to a 2D list of distances\n",
    "    distances = []\n",
    "    for line in matrix_section:\n",
    "        try:\n",
    "            distance_row = list(map(float, line.split()[1:]))  # Excluding the leading port number\n",
    "            distances.append(distance_row)\n",
    "        except ValueError:\n",
    "            continue\n",
    "    \n",
    "    return distances\n",
    "\n",
    "# Extracting the full distance matrix from the file content\n",
    "full_distance_matrix = parse_full_distance_matrix(content)\n",
    "full_distance_matrix\n"
   ]
  },
  {
   "cell_type": "code",
   "execution_count": 20,
   "metadata": {},
   "outputs": [
    {
     "data": {
      "text/plain": [
       "[[0.0, 57.9283, 57.3094, 56.637100000000004],\n",
       " [57.9283, 0.0, 3.261, 3.3892],\n",
       " [57.3094, 3.261, 0.0, 0.6742],\n",
       " [56.637100000000004, 3.3892, 0.6742, 0.0]]"
      ]
     },
     "execution_count": 20,
     "metadata": {},
     "output_type": "execute_result"
    }
   ],
   "source": [
    "# Scale the full distance matrix by 1/100\n",
    "full_distance_matrix = [[x/100 for x in row] for row in full_distance_matrix]\n",
    "full_distance_matrix"
   ]
  },
  {
   "cell_type": "code",
   "execution_count": 21,
   "metadata": {},
   "outputs": [],
   "source": [
    "# full_distance_matrix =[[0.0, 500, 750, 800],\n",
    "#  [500, 0.0, 326.1, 338.92],\n",
    "#  [750, 326.1, 0.0, 67.42],\n",
    "#  [800, 338.92, 67.42, 0.0]]\n",
    "\n"
   ]
  },
  {
   "cell_type": "code",
   "execution_count": 22,
   "metadata": {},
   "outputs": [],
   "source": [
    "# Convert full_distance_matrix from km to nautical miles\n",
    "# 1 nautical mile = 1.852 km\n",
    "def km_to_nautical_miles(km):\n",
    "    return km / 1.852"
   ]
  },
  {
   "cell_type": "code",
   "execution_count": 23,
   "metadata": {},
   "outputs": [],
   "source": [
    "def convert_matrix_to_nautical_miles(matrix):\n",
    "    return [[km_to_nautical_miles(distance) for distance in row] for row in matrix]"
   ]
  },
  {
   "cell_type": "code",
   "execution_count": 24,
   "metadata": {},
   "outputs": [
    {
     "data": {
      "text/plain": [
       "[[0.0, 31.278779697624188, 30.94460043196544, 30.58158747300216],\n",
       " [31.278779697624188, 0.0, 1.7607991360691144, 1.8300215982721382],\n",
       " [30.94460043196544, 1.7607991360691144, 0.0, 0.3640388768898488],\n",
       " [30.58158747300216, 1.8300215982721382, 0.3640388768898488, 0.0]]"
      ]
     },
     "execution_count": 24,
     "metadata": {},
     "output_type": "execute_result"
    }
   ],
   "source": [
    "full_distance_matrix_nm = convert_matrix_to_nautical_miles(full_distance_matrix)\n",
    "full_distance_matrix_nm"
   ]
  },
  {
   "cell_type": "code",
   "execution_count": 25,
   "metadata": {},
   "outputs": [],
   "source": [
    "def fuel_consumption_speed_nm(speed, nautical_miles):\n",
    "    \"\"\"\n",
    "    Calculate the fuel consumption based on speed and nautical miles.\n",
    "\n",
    "    Args:\n",
    "    - speed (float): Speed of the vessel in knots.\n",
    "    - nautical miles (float): .\n",
    "\n",
    "    Returns:\n",
    "    - float: Fuel consumption in tons.\n",
    "    \"\"\"\n",
    "    return  (0.15*14 * (speed / 14) ** 3) * nautical_miles/speed\n",
    "    \n",
    "\n",
    "def calc_cost(fuel_consumption):\n",
    "    \"\"\"\n",
    "    Calculate the cost based on fuel consumption.\n",
    "\n",
    "    Args:\n",
    "    - fuel_consumption (float): Fuel consumption in tons.\n",
    "\n",
    "    Returns:\n",
    "    - float: Cost in USD.\n",
    "    \"\"\"\n",
    "    return fuel_consumption * FUEL_PRICE\n",
    "\n",
    "# Function to calculate discrete max speed based on distance and global max speed\n",
    "def calculate_minimum_timesteps_and_speed(distance_nm):\n",
    "    \"\"\"\n",
    "    Determine the minimum timesteps and speed based on distance and max speed.\n",
    "\n",
    "    Args:\n",
    "    - distance_nm (float): Distance in nautical miles.\n",
    "    - MAX_SPEED (float): Maximum speed in knots.\n",
    "    - MIN_SPEED (float): Minimum speed in knots.\n",
    "\n",
    "    Returns:\n",
    "    - tuple: Minimum timesteps and speed.\n",
    "    \"\"\"\n",
    "    hours = distance_nm / MAX_SPEED\n",
    "    minimum_timesteps = math.ceil(hours / 24)\n",
    "    speed = distance_nm / (minimum_timesteps * 24)\n",
    "    return minimum_timesteps, max(speed, MIN_SPEED)\n",
    "\n",
    "# Function to calculate discrete max speed based on distance and global max speed\n",
    "def calculate_minimum_timesteps_with_fixed_speed(distance_nm):\n",
    "    \"\"\"\n",
    "    Determine the minimum timesteps and speed based on distance and operating speed.\n",
    "\n",
    "    Args:\n",
    "    - distance_nm (float): Distance in nautical miles.\n",
    "    - operating_speed (float): Operating speed in knots.\n",
    "\n",
    "    Returns:\n",
    "    - tuple: Minimum timesteps and operating speed.\n",
    "    \"\"\"\n",
    "    hours = distance_nm / OPERATING_SPEED\n",
    "    minimum_timesteps = math.ceil(hours / 24)\n",
    "    # The speed will be operating speed no matter what, but we will round up the timesteps\n",
    "    return minimum_timesteps, OPERATING_SPEED\n",
    "    \n",
    "# Based on rounded_hours and speed calculate the next speeds\n",
    "# Creates a list with all the information needed to create the arc.\n",
    "def create_arc_info(speed, minimum_timesteps, departure, origin_port, destination_port, lowest_speed, distance_to_port, vessel, is_waiting_arc):\n",
    "    # Create a list of tuples with the speed and the time period\n",
    "    '''arc_info: (speed in knots, timesteps for sailing, time period of departure, time period of arrival, origin port, destination port, fuel_consumption)'''\n",
    "    \n",
    "    arrival_time = departure + minimum_timesteps\n",
    "    if arrival_time > NUM_TIME_PERIODS:\n",
    "        return None\n",
    "    if is_waiting_arc:\n",
    "        fuel_consumption = 0\n",
    "        arc_info = [(speed, 1, departure, departure + minimum_timesteps, origin_port, destination_port, fuel_consumption, distance_to_port, vessel, is_waiting_arc)]\n",
    "    else:\n",
    "        fuel_consumption = fuel_consumption_speed_nm(speed=speed, nautical_miles=distance_to_port)\n",
    "        arc_info = [(speed, minimum_timesteps, departure, departure + minimum_timesteps, origin_port, destination_port, fuel_consumption, distance_to_port, vessel, is_waiting_arc)]\n",
    "    \n",
    "        timesteps = minimum_timesteps+1\n",
    "        while True:\n",
    "            \n",
    "            # Calculate the next speed\n",
    "            speed = distance_to_port / ((timesteps)*24)\n",
    "            # If the speed is lower than the lowest speed, break the loop\n",
    "            if speed < lowest_speed:\n",
    "                break\n",
    "            fuel_consumption = fuel_consumption_speed_nm(speed=speed, nautical_miles=distance_to_port)\n",
    "            arrival_time = departure + timesteps\n",
    "            # Otherwise, add the speed to the list\n",
    "            arc_info.append((speed, timesteps, departure, arrival_time, origin_port, destination_port, fuel_consumption, distance_to_port, vessel, is_waiting_arc))\n",
    "            # Increment the time period\n",
    "            timesteps += 1\n",
    "            arrival_time = departure + timesteps\n",
    "            if arrival_time > NUM_TIME_PERIODS:\n",
    "                break\n",
    "       \n",
    "    return arc_info\n",
    "\n",
    "\n",
    "# Based on rounded_hours and speed calculate the next speeds\n",
    "# Creates a list with all the information needed to create the arc.\n",
    "def create_arc_info_fixed_speed(speed, minimum_timesteps, departure, arrival_time, origin_port, destination_port, distance_to_port, vessel, is_waiting_arc):\n",
    "    # Create a list of tuples with the speed and the time period\n",
    "    '''arc_info: (speed in knots, timesteps for sailing, time period of departure, time period of arrival, origin port, destination port, fuel_consumption)'''\n",
    "    \n",
    "    if arrival_time > NUM_TIME_PERIODS:\n",
    "        return None\n",
    "    if is_waiting_arc:\n",
    "        fuel_consumption = 0\n",
    "        arc_info = [(speed, 1, departure, departure + minimum_timesteps, origin_port, destination_port, fuel_consumption, distance_to_port, vessel, is_waiting_arc)]\n",
    "    else:\n",
    "        fuel_consumption = fuel_consumption_speed_nm(speed=speed, nautical_miles=distance_to_port)\n",
    "        arc_info = [(speed, minimum_timesteps, departure, arrival_time, origin_port, destination_port, fuel_consumption, distance_to_port, vessel, is_waiting_arc)]\n",
    "       \n",
    "    return arc_info\n",
    "        "
   ]
  },
  {
   "cell_type": "markdown",
   "metadata": {},
   "source": [
    "### Need to have starting positions for each vessel. \n",
    "### That way we can find the earliest time a vessel can be at each port.\n",
    "\n",
    "For now we just randomly generate distances to each of the ports, without thinking about whether it is practically possible to have these distances. "
   ]
  },
  {
   "cell_type": "code",
   "execution_count": 26,
   "metadata": {},
   "outputs": [],
   "source": [
    "# Ensure reproducibility of the random numbers\n",
    "np.random.seed(0)\n",
    "\n",
    "source_distances = {}\n",
    "# Creating manual starting positions for the vessels\n",
    "for vessel in vessels:\n",
    "    # Create a list of the distance from the source node to each of the ports\n",
    "    '''\n",
    "        0.00  5792.83  5730.94  5663.71 \n",
    "    1  5792.83     0.00   326.10   338.92 \n",
    "    2  5730.94   326.10     0.00    67.42 \n",
    "    3  5663.71   338.92    67.42     0.00 \n",
    "    '''\n",
    "    # Randomly generate 4 distances for each vessel\n",
    "    distances = np.random.randint(0, 40, size=len(ports))\n",
    "    source_distances[vessel] = distances"
   ]
  },
  {
   "cell_type": "code",
   "execution_count": 27,
   "metadata": {},
   "outputs": [],
   "source": [
    "# Use the source_distances to create a source_times dictionary\n",
    "source_times = {}\n",
    "for vessel, distances in source_distances.items():\n",
    "    source_times[vessel] = [math.ceil((distance / MAX_SPEED)/24) for distance in distances]"
   ]
  },
  {
   "cell_type": "code",
   "execution_count": 28,
   "metadata": {},
   "outputs": [],
   "source": [
    "# Create a source_fuel_consumption as well\n",
    "source_fc = {}\n",
    "for vessel, distances in source_distances.items():\n",
    "    source_fc[vessel] = [fuel_consumption_speed_nm(speed=MAX_SPEED, nautical_miles=distance)for distance in distances]"
   ]
  },
  {
   "cell_type": "markdown",
   "metadata": {},
   "source": [
    "# Generate the arcs"
   ]
  },
  {
   "cell_type": "markdown",
   "metadata": {},
   "source": [
    "### Generate the information for the arcs from the source node to the ports."
   ]
  },
  {
   "cell_type": "code",
   "execution_count": 29,
   "metadata": {},
   "outputs": [],
   "source": [
    "\n",
    "def generate_source_arc_info(vessel, ports, source_distances, sourceNode):\n",
    "    source_arcs_info = []\n",
    "    \n",
    "    for destination_port_number in ports:\n",
    "        distance_nm = source_distances[vessel][destination_port_number - 1]\n",
    "        minimum_timesteps, speed = calculate_minimum_timesteps_and_speed(distance_nm=distance_nm)\n",
    "        \n",
    "        if minimum_timesteps > NUM_TIME_PERIODS or speed > MAX_SPEED:\n",
    "            continue\n",
    "        \n",
    "        arc_info_matrix = create_arc_info(speed=speed, minimum_timesteps=minimum_timesteps, departure=0, origin_port=sourceNode.port.number, destination_port=destination_port_number, lowest_speed=MIN_SPEED, distance_to_port=distance_nm, vessel=vessel, is_waiting_arc=False)\n",
    "        source_arcs_info.append(arc_info_matrix)\n",
    "        \n",
    "        current_timesteps = minimum_timesteps + 1\n",
    "        nodes_with_port = [node for node in NODES if node.port.number == destination_port_number]\n",
    "        nodes_with_port_and_time = [node for node in nodes_with_port if node.time > minimum_timesteps]\n",
    "        \n",
    "        for node in sorted(nodes_with_port_and_time, key=lambda x: x.time):\n",
    "            speed = distance_nm / (current_timesteps * 24)\n",
    "            if speed < MIN_SPEED:\n",
    "                break\n",
    "                \n",
    "            arc_info_matrix = create_arc_info(speed=speed, minimum_timesteps=current_timesteps, departure=0, origin_port=sourceNode.port.number, destination_port=node.port.number, lowest_speed=MIN_SPEED, distance_to_port=distance_nm, vessel=vessel, is_waiting_arc=False)\n",
    "            source_arcs_info.append(arc_info_matrix)\n",
    "            current_timesteps += 1\n",
    "            \n",
    "    return source_arcs_info"
   ]
  },
  {
   "cell_type": "markdown",
   "metadata": {},
   "source": []
  },
  {
   "cell_type": "code",
   "execution_count": 30,
   "metadata": {},
   "outputs": [],
   "source": [
    "def create_arcs_for_node(node, vessels, all_port_numbers, source_times, full_distance_matrix_nm):\n",
    "    node_arcs = []\n",
    "    \n",
    "    for vessel in vessels:\n",
    "        if node.port.number in [0, len(ports) + 1]:\n",
    "            continue\n",
    "\n",
    "        start_time = source_times[vessel][node.port.number - 1]\n",
    "        if node.time < start_time:\n",
    "            continue\n",
    "\n",
    "        for destination_port_number in all_port_numbers:\n",
    "            if destination_port_number == node.port.number:\n",
    "                arc_info_matrix = create_arc_info(speed=0, minimum_timesteps=1, departure=node.time, origin_port=node.port.number, destination_port=destination_port_number, lowest_speed=0, distance_to_port=0, vessel=vessel, is_waiting_arc=True)\n",
    "                node_arcs.append(arc_info_matrix)\n",
    "            else:\n",
    "                distance_nm = full_distance_matrix_nm[node.port.number - 1][destination_port_number - 1]\n",
    "                minimum_timesteps, speed = calculate_minimum_timesteps_and_speed(distance_nm=distance_nm)\n",
    "                arrival_time = node.time + minimum_timesteps\n",
    "                \n",
    "                if arrival_time < source_times[vessel][destination_port_number - 1] or arrival_time > NUM_TIME_PERIODS:\n",
    "                    continue\n",
    "\n",
    "                arc_info_matrix = create_arc_info(speed=speed, minimum_timesteps=minimum_timesteps, departure=node.time, origin_port=node.port.number, destination_port=destination_port_number, lowest_speed=MIN_SPEED, distance_to_port=distance_nm, vessel=vessel, is_waiting_arc=False)\n",
    "                node_arcs.append(arc_info_matrix)\n",
    "\n",
    "    return node_arcs"
   ]
  },
  {
   "cell_type": "code",
   "execution_count": 31,
   "metadata": {},
   "outputs": [],
   "source": [
    "def add_arcs_to_nodes(all_info):\n",
    "    arc_dict = {}\n",
    "    vessel_arcs = {}\n",
    "    waiting_arcs = {}\n",
    "\n",
    "    for sublist in all_info:\n",
    "        for subsublist in sublist:\n",
    "            if not subsublist:\n",
    "                continue\n",
    "                \n",
    "            for tuple_data in subsublist:\n",
    "                speed, timesteps, departure, arrival, origin_port_number, destination_port_number, fuel_consumption, distance_nm, vessel, is_waiting_arc = tuple_data\n",
    "                cost = calc_cost(fuel_consumption)\n",
    "                origin_node_obj = NODE_DICT.get((origin_port_number, departure))\n",
    "                destination_node_obj = NODE_DICT.get((destination_port_number, arrival))\n",
    "\n",
    "                if origin_node_obj and destination_node_obj and arrival <= NUM_TIME_PERIODS:\n",
    "                    arc = Arc(origin_node=origin_node_obj, destination_node=destination_node_obj, distance=distance_nm, cost=cost + WAITING_COST, travel_time=timesteps, speed=speed, is_waiting_arc=is_waiting_arc)\n",
    "                    origin_node_obj.outgoing_arcs.add(arc)\n",
    "                    destination_node_obj.incoming_arcs.add(arc)\n",
    "                    arc_dict[(origin_node_obj.tuple, destination_node_obj.tuple, vessel)] = arc\n",
    "                    \n",
    "                    if is_waiting_arc:\n",
    "                        waiting_arcs.setdefault(vessel, []).append(arc)\n",
    "                    vessel_arcs.setdefault(vessel, []).append(arc)\n",
    "\n",
    "    return arc_dict, vessel_arcs, waiting_arcs"
   ]
  },
  {
   "cell_type": "code",
   "execution_count": 32,
   "metadata": {},
   "outputs": [
    {
     "name": "stderr",
     "output_type": "stream",
     "text": [
      "/var/folders/xm/q3_q5h513txc8nt668l08j6c0000gn/T/ipykernel_7132/3713944750.py:42: RuntimeWarning: invalid value encountered in scalar divide\n",
      "  speed = distance_nm / (minimum_timesteps * 24)\n"
     ]
    }
   ],
   "source": [
    "# Generate the information for the source arcs\n",
    "source_arcs_info = [generate_source_arc_info(vessel, [port.number for port in ports], source_distances, sourceNode) for vessel in vessels]\n",
    "\n",
    "# Initialize the all_info list with the source arcs info\n",
    "all_info = source_arcs_info.copy()\n",
    "\n",
    "# Append the all_info list with the arcs for each node\n",
    "for vessel in vessels:\n",
    "    # For each node, create the outgoing arcs\n",
    "    arcs_for_current_vessel = [create_arcs_for_node(node, [vessel], [port.number for port in ports], source_times, full_distance_matrix_nm) for node in NODE_DICT.values()]\n",
    "    all_info.extend(arcs_for_current_vessel)\n",
    "    \n",
    "arc_dict, vessel_arcs, waiting_arcs = add_arcs_to_nodes(all_info)"
   ]
  },
  {
   "cell_type": "code",
   "execution_count": 33,
   "metadata": {},
   "outputs": [],
   "source": [
    "def add_arc_to_dict(origin, destination, vessel, arc_dict, vessel_arcs):\n",
    "    \"\"\"Helper function to add arc to dictionaries and nodes.\"\"\"\n",
    "    arc = Arc(origin_node=origin, destination_node=destination, distance=0, cost=0, travel_time=0, speed=0, is_waiting_arc=False)\n",
    "    origin.outgoing_arcs.add(arc)\n",
    "    destination.incoming_arcs.add(arc)\n",
    "    arc_dict[(origin.tuple, destination.tuple, vessel)] = arc\n",
    "    vessel_arcs.setdefault(vessel, []).append(arc)\n",
    "    return arc_dict, vessel_arcs"
   ]
  },
  {
   "cell_type": "code",
   "execution_count": 34,
   "metadata": {},
   "outputs": [],
   "source": [
    "def create_sink_arcs(vessels, sinkNode, source_times, arc_dict, vessel_arcs):\n",
    "    for vessel in vessels:\n",
    "        # Arc from source node to sink node\n",
    "        arc_dict, vessel_arcs = add_arc_to_dict(sourceNode, sinkNode, vessel, arc_dict, vessel_arcs)\n",
    "        \n",
    "        # Arcs from other nodes to sink node\n",
    "        for node in NODE_DICT.values():\n",
    "            if node.port.number not in [0, len(ports) + 1] and node.time >= source_times[vessel][node.port.number - 1]:\n",
    "                arc_dict, vessel_arcs = add_arc_to_dict(node, sinkNode, vessel, arc_dict, vessel_arcs)\n",
    "    \n",
    "    return arc_dict, vessel_arcs"
   ]
  },
  {
   "cell_type": "code",
   "execution_count": 35,
   "metadata": {},
   "outputs": [],
   "source": [
    "# After calling add_arcs_to_nodes:\n",
    "arc_dict, vessel_arcs, waiting_arcs = add_arcs_to_nodes(all_info)\n",
    "\n",
    "# Then call create_sink_arcs with the returned arc_dict and vessel_arcs:\n",
    "arc_dict, vessel_arcs = create_sink_arcs(vessels, sinkNode, source_times, arc_dict, vessel_arcs)"
   ]
  },
  {
   "cell_type": "markdown",
   "metadata": {},
   "source": [
    "## Visualize the network for a given vessel"
   ]
  },
  {
   "cell_type": "code",
   "execution_count": 36,
   "metadata": {},
   "outputs": [],
   "source": [
    "def visualize_network_for_vessel(vessel, vessel_arcs, drop_sink_arcs):\n",
    "    # Create a directed graph\n",
    "    G = nx.DiGraph()\n",
    "\n",
    "    # Add nodes to the graph\n",
    "    for node in NODES:\n",
    "        G.add_node(str(node.tuple))\n",
    "\n",
    "    # Add edges (arcs) to the graph\n",
    "    for arc in vessel_arcs[vessel]:\n",
    "        # If the arc goes to the sink node, skip it\n",
    "        if drop_sink_arcs and arc.destination_node == sinkNode:\n",
    "            continue\n",
    "        G.add_edge(str(arc.origin_node.tuple), str(arc.destination_node.tuple))\n",
    "\n",
    "    # Determine NODES with incoming and outgoing arcs\n",
    "    nodes_with_incoming_arcs = [node for node, degree in G.in_degree() if degree > 0]\n",
    "    nodes_with_outgoing_arcs = [node for node, degree in G.out_degree() if degree > 0]\n",
    "\n",
    "    # Create a list to hold node colors\n",
    "    node_colors = []\n",
    "    for node in G.nodes():\n",
    "        if node in nodes_with_incoming_arcs or node in nodes_with_outgoing_arcs:\n",
    "            node_colors.append('green')  # Color for nodes with arcs\n",
    "        else:\n",
    "            node_colors.append('skyblue')  # Default color\n",
    "\n",
    "    # Resetting the y_offset and y_spacing\n",
    "    y_offset = 10\n",
    "    y_spacing = -30  # Increase vertical spacing for better clarity\n",
    "\n",
    "    # Manually specify the positions for each node\n",
    "    pos = {}\n",
    "\n",
    "    # Manually set the position for the source and sink nodes\n",
    "    # pos[\"(0, 0)\"] = (0, 0)  # Positioning source node at leftmost, middle height\n",
    "    # pos[\"(5, 5)\"] = (5 * 10, 0)  # Positioning sink node at rightmost, middle height\n",
    "\n",
    "    for node in NODES:\n",
    "        # Skip setting position for source and sink nodes\n",
    "        # if str(node.tuple) in [\"(0, 0)\", \"(5, 5)\"]:\n",
    "        #     continue\n",
    "        port_index = node.port.number  # Get port number to determine y-coordinate\n",
    "        # The x-coordinate is based on time, the y-coordinate is fixed for nodes with the same port\n",
    "        pos[str(node.tuple)] = (node.time * 10, port_index * y_spacing)  # Multiplying time by 10 for better horizontal spacing\n",
    "\n",
    "    # Drawing the graph using the adjusted positions\n",
    "    plt.figure(figsize=(15, 10))\n",
    "    nx.draw(G, pos, with_labels=True, node_size=2000, node_color=node_colors, font_size=10)\n",
    "    labels = nx.get_edge_attributes(G, 'weight')\n",
    "    nx.draw_networkx_edge_labels(G, pos, edge_labels=labels)\n",
    "    plt.title(\"Nodes and Arcs Graph\")\n",
    "    plt.show()"
   ]
  },
  {
   "cell_type": "code",
   "execution_count": 37,
   "metadata": {},
   "outputs": [],
   "source": [
    "# visualize_network_for_vessel(vessels[0], vessel_arcs, True)"
   ]
  },
  {
   "cell_type": "markdown",
   "metadata": {},
   "source": [
    "# Starting with Gurobi"
   ]
  },
  {
   "cell_type": "code",
   "execution_count": 38,
   "metadata": {},
   "outputs": [],
   "source": [
    "'''Creating the variables'''\n",
    "'''Binary first'''\n",
    "# x is the binary variable that indicates whether a vessel travels on arc a, where and arc is a route frome one node to another node.\n",
    "x = m.addVars(((arc.tuple, vessel) for vessel in vessels for arc in vessel_arcs[vessel]) , vtype=gp.GRB.BINARY, name=\"x\")\n",
    "\n",
    "# o is the binary variable that indicates whether vessel v is operating (loading/unloading) at node n\n",
    "o = m.addVars(((node.port.number, node.time, vessel) for node in regularNodes for vessel in vessels), vtype=gp.GRB.BINARY, name=\"o\")\n",
    "\n",
    "'''Continuous varibles'''\n",
    "# q is the amount of product loaded or unloaded at port i by vessel v at time t\n",
    "q_bounds = {(node.port.number, node.time, vessel): min(vessel.max_inventory, node.port.capacity) for node in regularNodes for vessel in vessels}\n",
    "q = m.addVars(q_bounds.keys(), lb=0, ub=q_bounds, vtype=gp.GRB.CONTINUOUS, name=\"q\")\n",
    "\n",
    "# s is the amount of product at port i at the end of period t\n",
    "s_bounds = {(node.port.number, node.time): node.port.capacity for node in regularNodes}\n",
    "s = m.addVars(s_bounds.keys(), lb=0, ub=s_bounds, vtype=gp.GRB.CONTINUOUS, name=\"s\")\n",
    "\n",
    "# Create s vars for each port in time period 0\n",
    "s_bounds_source = {(port.number, 0): port.capacity for port in ports}\n",
    "s_source = m.addVars(s_bounds_source.keys(), lb=0, ub=s_bounds, vtype=gp.GRB.CONTINUOUS, name=\"s\")\n",
    "s.update(s_source)\n",
    "\n",
    "# w is the amount of product on board of vessel v at the end of time period t\n",
    "w_bounds = {(t, vessel): vessel.max_inventory for vessel in vessels for t in TIME_PERIOD_RANGE}\n",
    "w = m.addVars(w_bounds.keys(), lb=0, ub=w_bounds, vtype=gp.GRB.CONTINUOUS, name=\"w\")\n",
    "w_bounds_source = {(0, vessel): vessel.max_inventory for vessel in vessels}\n",
    "w_source = m.addVars(w_bounds_source.keys(), lb=0, ub=w_bounds, vtype=gp.GRB.CONTINUOUS, name=\"w\")\n",
    "w.update(w_source)\n",
    "\n",
    "m.update()"
   ]
  },
  {
   "cell_type": "code",
   "execution_count": 39,
   "metadata": {},
   "outputs": [
    {
     "data": {
      "text/plain": [
       "(817, 168, 168, 88, 44)"
      ]
     },
     "execution_count": 39,
     "metadata": {},
     "output_type": "execute_result"
    }
   ],
   "source": [
    "len(x), len(o), len(q), len(s), len(w)"
   ]
  },
  {
   "cell_type": "code",
   "execution_count": 40,
   "metadata": {},
   "outputs": [],
   "source": [
    "# Create a dict where the arc.tuple is the key and arc.cost is the value\n",
    "\n",
    "costs = {(arc.tuple, vessel): arc.cost for vessel in vessels for arc in vessel_arcs[vessel] }\n",
    "m.update()"
   ]
  },
  {
   "cell_type": "markdown",
   "metadata": {},
   "source": [
    "### Objective Function"
   ]
  },
  {
   "cell_type": "code",
   "execution_count": 41,
   "metadata": {},
   "outputs": [],
   "source": [
    "obj = gp.quicksum(costs[key]*x[key] for key in costs) + gp.quicksum(o[node.port.number, node.time, vessel] * OPERATING_COST for node in regularNodes for vessel in vessels)\n",
    "\n",
    "#Minimize the costs\n",
    "m.setObjective(obj, GRB.MINIMIZE)\n",
    "\n",
    "m.update()"
   ]
  },
  {
   "cell_type": "markdown",
   "metadata": {},
   "source": [
    "### Constraints"
   ]
  },
  {
   "cell_type": "code",
   "execution_count": 42,
   "metadata": {},
   "outputs": [],
   "source": [
    "# Constraint (2)\n",
    "for v in vessels:\n",
    "    outgoing_from_source = [arc for arc in vessel_arcs[v] if arc.origin_node == sourceNode]\n",
    "    m.addConstr(gp.quicksum((x[arc.tuple, v]) for arc in outgoing_from_source) == 1, name = 'SourceFlow')\n",
    "    #m.addConstr((gp.quicksum(x[arc.tuple]) for arc in outgoing_from_source) == 1, name = 'SourceFlow')\n",
    "m.update()"
   ]
  },
  {
   "cell_type": "code",
   "execution_count": 43,
   "metadata": {},
   "outputs": [],
   "source": [
    "# Constraint (3)\n",
    "for v in vessels:\n",
    "    incoming_to_sink = [arc for arc in vessel_arcs[v] if arc.destination_node == sinkNode]\n",
    "    m.addConstr(gp.quicksum((x[arc.tuple, v]) for arc in incoming_to_sink) == 1, name = 'SinkFlow')\n",
    "    #m.addConstr((gp.quicksum(x[arc.tuple]) for arc in incoming_to_sink) == 1, name = 'SinkFlow')\n",
    "m.update()"
   ]
  },
  {
   "cell_type": "code",
   "execution_count": 44,
   "metadata": {},
   "outputs": [],
   "source": [
    "# Constraint (4)\n",
    "# Creating a flow balance constraint for each node\n",
    "\n",
    "for v in vessels:\n",
    "    for node in regularNodes:\n",
    "        outgoing_from_node = [arc for arc in vessel_arcs[v] if arc.origin_node == node]\n",
    "        incoming_to_node = [arc for arc in vessel_arcs[v] if arc.destination_node == node]\n",
    "        m.addConstr(gp.quicksum((x[in_arc.tuple, v]) for in_arc in incoming_to_node) - gp.quicksum((x[out_arc.tuple, v]) for out_arc in outgoing_from_node) == 0, name = \"FlowBalance\")\n",
    "        #m.addConstr(((gp.quicksum(x[in_arc.tuple]) for in_arc in incoming_to_node) - gp.quicksum(x[out_arc.tuple]) for out_arc in outgoing_from_node) == 0, name = \"FlowBalance\")"
   ]
  },
  {
   "cell_type": "code",
   "execution_count": 45,
   "metadata": {},
   "outputs": [],
   "source": [
    "# Constraint (5)\n",
    "for port in ports:\n",
    "    m.addConstr(s_source[port.number, 0] == port.inventory, name = 'InitialInventoryPort')"
   ]
  },
  {
   "cell_type": "code",
   "execution_count": 46,
   "metadata": {},
   "outputs": [],
   "source": [
    "# Constraint (6)\n",
    "'''Rate is static for now'''\n",
    "# Inventory balance for ports at the end of each time period t\n",
    "for port in ports:\n",
    "    for t in TIME_PERIOD_RANGE:\n",
    "        m.addConstr(s[port.number, t] == (s[port.number, t-1] + (port.isLoadingPort * port.rate) - gp.quicksum(port.isLoadingPort * q[port.number, t, v] for v in vessels)) , name = 'InventoryBalance')\n",
    "m.update()"
   ]
  },
  {
   "cell_type": "code",
   "execution_count": 47,
   "metadata": {},
   "outputs": [],
   "source": [
    "# Constraint (7)\n",
    "\n",
    "for v in vessels:\n",
    "    m.addConstr(w_source[0, v] == v.inventory, name = 'InitialInventoryVessel')"
   ]
  },
  {
   "cell_type": "code",
   "execution_count": 48,
   "metadata": {},
   "outputs": [],
   "source": [
    "# Constraint (8)\n",
    "\n",
    "# for each vessel, the inventory at the end of the time period is equal to the inventory at the beginning of the time period + the amount of product loaded/unloaded at the ports\n",
    "for t in TIME_PERIOD_RANGE:\n",
    "    for v in vessels:\n",
    "        m.addConstr(w[t, v] == gp.quicksum(port.isLoadingPort * q[port.number, t, v] for port in ports) + w[t-1,v], name = 'VesselBalance')\n",
    "m.update()"
   ]
  },
  {
   "cell_type": "code",
   "execution_count": 49,
   "metadata": {},
   "outputs": [],
   "source": [
    "# Constraint (9)\n",
    "\n",
    "for node in regularNodes:\n",
    "    m.addConstr((gp.quicksum((o[node.port.number, node.time, v]) for v in vessels) <= node.port.berth_limit), name = 'Birth_limit_in_time_t')\n",
    "m.update()"
   ]
  },
  {
   "cell_type": "code",
   "execution_count": 50,
   "metadata": {},
   "outputs": [],
   "source": [
    "#Constraint (10)\n",
    "\n",
    "for v in vessels:\n",
    "    for node in regularNodes:\n",
    "        incoming_to_node = [arc for arc in vessel_arcs[v] if arc.destination_node == node]\n",
    "        m.addConstr(o[node.port.number, node.time, v] <= gp.quicksum((x[in_arc.tuple, v]) for in_arc in incoming_to_node), name = 'Cannot operate unless vessel is at node')"
   ]
  },
  {
   "cell_type": "code",
   "execution_count": 51,
   "metadata": {},
   "outputs": [],
   "source": [
    "# Create a dict with all waiting arcs with key = (arc.tuple, v)\n",
    "# (node.port.number, node.time), (node.port.number, node.time + 1)\n",
    "all_waiting_arcs = {}\n",
    "for v in vessels:\n",
    "    for arc in waiting_arcs[v]:\n",
    "        origin_node = arc.origin_node\n",
    "        destination_node = arc.destination_node\n",
    "        all_waiting_arcs[((origin_node.port.number, origin_node.time),(destination_node.port.number, destination_node.time) , v)] = arc"
   ]
  },
  {
   "cell_type": "code",
   "execution_count": 52,
   "metadata": {},
   "outputs": [],
   "source": [
    "# # Constraint (11)\n",
    "                \n",
    "for node in regularNodes:\n",
    "    for v in vessels:\n",
    "        if (node.port.number, node.time + 1, v) in o.keys():  # check if o for the next period exists\n",
    "            \n",
    "            waiting_arc_key = ((node.port.number, node.time), (node.port.number, node.time + 1), v)\n",
    "            if waiting_arc_key in all_waiting_arcs.keys():\n",
    "                waiting_arc = all_waiting_arcs[waiting_arc_key]\n",
    "            else:\n",
    "                continue\n",
    "            \n",
    "            actual_key = (waiting_arc.tuple, v)\n",
    "            \n",
    "            if actual_key in x.keys():  # check if the waiting arc exists\n",
    "                m.addConstr(o[node.port.number, node.time, v] <= \n",
    "                            o[node.port.number, node.time + 1, v] + \n",
    "                            (1 - x[actual_key]),\n",
    "                            name=f\"Operate_or_Move_{node.port.number}_{node.time}_{v}\")\n",
    "m.update()\n",
    "\n"
   ]
  },
  {
   "cell_type": "code",
   "execution_count": 53,
   "metadata": {},
   "outputs": [],
   "source": [
    "# #Constraint (12)\n",
    "for v in vessels:\n",
    "    for node in regularNodes:\n",
    "        m.addConstr(q[node.port.number, node.time, v] <= o[node.port.number, node.time, v]*v.max_operating_quantity, name = 'Max_operating_quantity')\n",
    "m.update()"
   ]
  },
  {
   "cell_type": "code",
   "execution_count": 54,
   "metadata": {},
   "outputs": [
    {
     "name": "stdout",
     "output_type": "stream",
     "text": [
      "Gurobi Optimizer version 10.0.3 build v10.0.3rc0 (mac64[x86])\n",
      "\n",
      "CPU model: Intel(R) Core(TM) i5-8257U CPU @ 1.40GHz\n",
      "Thread count: 4 physical cores, 8 logical processors, using up to 8 threads\n",
      "\n",
      "Optimize a model with 884 rows, 1285 columns and 4027 nonzeros\n",
      "Model fingerprint: 0x2d1c8aa7\n",
      "Variable types: 300 continuous, 985 integer (985 binary)\n",
      "Coefficient statistics:\n",
      "  Matrix range     [1e+00, 3e+02]\n",
      "  Objective range  [5e+01, 1e+03]\n",
      "  Bounds range     [1e+00, 6e+02]\n",
      "  RHS range        [1e+00, 3e+02]\n",
      "Presolve removed 42 rows and 46 columns\n",
      "Presolve time: 0.03s\n",
      "Presolved: 842 rows, 1239 columns, 7661 nonzeros\n",
      "Variable types: 280 continuous, 959 integer (959 binary)\n",
      "Found heuristic solution: objective 31242.927668\n",
      "\n",
      "Root relaxation: objective 1.829389e+03, 904 iterations, 0.02 seconds (0.02 work units)\n",
      "\n",
      "    Nodes    |    Current Node    |     Objective Bounds      |     Work\n",
      " Expl Unexpl |  Obj  Depth IntInf | Incumbent    BestBd   Gap | It/Node Time\n",
      "\n",
      "     0     0 1829.38908    0  163 31242.9277 1829.38908  94.1%     -    0s\n",
      "H    0     0                    28242.378895 1829.38908  93.5%     -    0s\n",
      "H    0     0                    26754.326266 1844.60583  93.1%     -    0s\n",
      "     0     0 2007.12892    0  176 26754.3263 2007.12892  92.5%     -    0s\n",
      "H    0     0                    26654.326266 2007.12892  92.5%     -    0s\n",
      "     0     0 2017.70324    0  162 26654.3263 2017.70324  92.4%     -    0s\n",
      "     0     0 2017.74390    0  165 26654.3263 2017.74390  92.4%     -    0s\n",
      "     0     0 2034.61510    0  173 26654.3263 2034.61510  92.4%     -    0s\n",
      "H    0     0                    26620.178076 2034.61510  92.4%     -    0s\n",
      "     0     0 2045.99250    0  164 26620.1781 2045.99250  92.3%     -    0s\n",
      "     0     0 2050.13196    0  166 26620.1781 2050.13196  92.3%     -    0s\n",
      "     0     0 2053.01389    0  175 26620.1781 2053.01389  92.3%     -    0s\n",
      "     0     0 2053.01389    0  176 26620.1781 2053.01389  92.3%     -    0s\n",
      "     0     0 2486.00962    0  168 26620.1781 2486.00962  90.7%     -    0s\n",
      "     0     0 2488.30352    0  176 26620.1781 2488.30352  90.7%     -    0s\n",
      "H    0     0                    24959.984573 2488.30352  90.0%     -    0s\n",
      "H    0     0                    23427.962710 2488.30352  89.4%     -    0s\n",
      "     0     0 2565.71751    0  185 23427.9627 2565.71751  89.0%     -    0s\n",
      "     0     0 2565.71751    0  181 23427.9627 2565.71751  89.0%     -    0s\n",
      "H    0     0                    15502.026711 2565.71751  83.4%     -    0s\n",
      "H    0     2                    15440.110636 2565.71751  83.4%     -    0s\n",
      "     0     2 2565.71751    0  181 15440.1106 2565.71751  83.4%     -    0s\n",
      "H   30    37                    15396.025036 2565.71751  83.3%   258    0s\n",
      "H   35    37                    13908.088773 2565.71751  81.6%   241    0s\n",
      "H   63    68                    13796.197823 2565.71751  81.4%   175    0s\n",
      "H   67    75                    13746.197823 2565.71751  81.3%   175    0s\n",
      "H   71    75                    13741.501741 2565.71751  81.3%   170    0s\n",
      "H   95   103                    13641.476617 2565.71751  81.2%   158    1s\n",
      "H  108   112                    13641.451492 2565.71751  81.2%   152    1s\n",
      "H  138   141                    13623.646141 2565.71751  81.2%   138    1s\n",
      "H  243   233                    13595.903381 2565.71751  81.1%   124    1s\n",
      "H  494   474                    13538.733636 2565.71751  81.0%   111    2s\n",
      "H  595   556                    13451.414466 2565.71751  80.9%   105    2s\n",
      "H  614   569                    13444.194473 2565.71751  80.9%   108    3s\n",
      "H  654   615                    13409.256843 2565.71751  80.9%   109    3s\n",
      "H  838   791                    12451.404769 2565.71751  79.4%   104    3s\n",
      "  1103   915 3516.35435   13  197 12451.4048 2601.75154  79.1%   103    5s\n",
      "H 1151   901                    12433.599418 2810.99398  77.4%   109    5s\n",
      "H 1201   888                    12414.855203 3136.08806  74.7%   115    5s\n",
      "H 1219   869                    12414.830079 3264.42009  73.7%   115    5s\n",
      "H 1220   830                    12379.917574 3264.42009  73.6%   115    5s\n",
      "H 1235   802                    12379.892449 3359.14974  72.9%   116    5s\n",
      "H 1237   766                    12279.917574 3359.14974  72.6%   116    5s\n",
      "H 1293   763                    11765.212236 3457.90418  70.6%   118    6s\n",
      "H 1318   741                    11592.291621 3457.90418  70.2%   117    6s\n",
      "H 1320   718                    11492.291621 3457.90418  69.9%   117    6s\n",
      "H 2070  1029                    11383.376383 3513.53224  69.1%   117    8s\n",
      "  2538  1238 10528.3563   43   85 11383.3764 3661.67964  67.8%   116   10s\n",
      "H 2560  1183                    11133.376383 3661.67964  67.1%   115   10s\n",
      "\n",
      "Interrupt request received\n",
      "\n",
      "Cutting planes:\n",
      "  Gomory: 3\n",
      "  Cover: 1\n",
      "  Implied bound: 5\n",
      "  MIR: 34\n",
      "  Flow cover: 49\n",
      "  Flow path: 43\n",
      "  Inf proof: 1\n",
      "  Zero half: 20\n",
      "  Relax-and-lift: 4\n",
      "\n",
      "Explored 2933 nodes (335608 simplex iterations) in 11.13 seconds (9.67 work units)\n",
      "Thread count was 8 (of 8 available processors)\n",
      "\n",
      "Solution count 10: 11133.4 11383.4 11492.3 ... 12414.9\n",
      "\n",
      "Solve interrupted\n",
      "Best objective 1.113337638295e+04, best bound 3.790542657959e+03, gap 65.9533%\n",
      "x[((0, 0), (5, 22)),Vessel 1] 1.0\n",
      "x[((0, 0), (1, 1)),Vessel 2] 1.0\n",
      "x[((1, 1), (3, 2)),Vessel 2] 1.0\n",
      "x[((3, 2), (3, 3)),Vessel 2] 1.0\n",
      "x[((3, 3), (1, 4)),Vessel 2] 1.0\n",
      "x[((1, 4), (2, 5)),Vessel 2] 1.0\n",
      "x[((2, 5), (4, 6)),Vessel 2] 1.0\n",
      "x[((4, 6), (1, 7)),Vessel 2] 1.0\n",
      "x[((1, 7), (2, 8)),Vessel 2] 1.0\n",
      "x[((2, 8), (2, 9)),Vessel 2] 1.0\n",
      "x[((2, 9), (1, 10)),Vessel 2] 1.0\n",
      "x[((1, 10), (4, 11)),Vessel 2] 1.0\n",
      "x[((4, 11), (3, 12)),Vessel 2] 1.0\n",
      "x[((3, 12), (1, 13)),Vessel 2] 1.0\n",
      "x[((1, 13), (1, 14)),Vessel 2] 1.0\n",
      "x[((1, 14), (2, 15)),Vessel 2] 1.0\n",
      "x[((2, 15), (2, 16)),Vessel 2] 1.0\n",
      "x[((2, 16), (1, 17)),Vessel 2] 1.0\n",
      "x[((1, 17), (3, 18)),Vessel 2] 1.0\n",
      "x[((3, 18), (5, 22)),Vessel 2] 1.0\n",
      "o[1,1,Vessel 2] 1.0\n",
      "o[3,3,Vessel 2] 1.0\n",
      "o[1,4,Vessel 2] 1.0\n",
      "o[2,5,Vessel 2] 1.0\n",
      "o[4,6,Vessel 2] 1.0\n",
      "o[1,7,Vessel 2] 1.0\n",
      "o[2,9,Vessel 2] 1.0\n",
      "o[1,10,Vessel 2] 1.0\n",
      "o[4,11,Vessel 2] 1.0\n",
      "o[3,12,Vessel 2] 1.0\n",
      "o[1,14,Vessel 2] 1.0\n",
      "o[2,16,Vessel 2] 1.0\n",
      "o[1,17,Vessel 2] 1.0\n",
      "o[3,18,Vessel 2] 1.0\n",
      "q[1,1,Vessel 2] 300.0\n",
      "q[3,3,Vessel 2] 291.0000000000003\n",
      "q[1,4,Vessel 2] 290.99999999999955\n",
      "q[2,5,Vessel 2] 143.99999999999994\n",
      "q[4,6,Vessel 2] 156.00000000000014\n",
      "q[1,7,Vessel 2] 300.0\n",
      "q[2,9,Vessel 2] 291.0000000000011\n",
      "q[1,10,Vessel 2] 290.99999999999886\n",
      "q[4,11,Vessel 2] 234.0\n",
      "q[3,12,Vessel 2] 66.00000000000102\n",
      "q[1,14,Vessel 2] 300.0\n",
      "q[2,16,Vessel 2] 300.0\n",
      "q[1,17,Vessel 2] 299.99999999999795\n",
      "q[3,18,Vessel 2] 101.99999999999932\n",
      "q[4,21,Vessel 2] 7.105427357601002e-15\n",
      "s[1,1] 95.99999999999989\n",
      "s[2,1] 129.0\n",
      "s[3,1] 221.0\n",
      "s[4,1] 130.0\n",
      "s[1,2] 194.9999999999999\n",
      "s[2,2] 90.0\n",
      "s[3,2] 187.0\n",
      "s[4,2] 104.0\n",
      "s[1,3] 293.9999999999999\n",
      "s[2,3] 51.0\n",
      "s[3,3] 444.00000000000017\n",
      "s[4,3] 78.0\n",
      "s[1,4] 101.99999999999977\n",
      "s[2,4] 12.0\n",
      "s[3,4] 409.999999999999\n",
      "s[4,4] 52.0\n",
      "s[1,5] 200.99999999999977\n",
      "s[2,5] 117.0\n",
      "s[3,5] 375.999999999999\n",
      "s[4,5] 26.0\n",
      "s[1,6] 299.9999999999998\n",
      "s[2,6] 78.0\n",
      "s[3,6] 341.999999999999\n",
      "s[4,6] 156.00000000000045\n",
      "s[1,7] 98.9999999999975\n",
      "s[2,7] 39.0\n",
      "s[3,7] 307.999999999999\n",
      "s[4,7] 130.00000000000045\n",
      "s[1,8] 197.9999999999975\n",
      "s[3,8] 273.999999999999\n",
      "s[4,8] 104.00000000000085\n",
      "s[1,9] 296.9999999999975\n",
      "s[2,9] 252.00000000000102\n",
      "s[3,9] 239.99999999999898\n",
      "s[4,9] 78.00000000000105\n",
      "s[1,10] 104.99999999999864\n",
      "s[2,10] 213.00000000000102\n",
      "s[3,10] 205.99999999999898\n",
      "s[4,10] 52.00000000000105\n",
      "s[1,11] 203.99999999999864\n",
      "s[2,11] 174.00000000000102\n",
      "s[3,11] 171.99999999999898\n",
      "s[4,11] 260.0000000000001\n",
      "s[1,12] 302.99999999999864\n",
      "s[2,12] 135.0\n",
      "s[3,12] 204.0\n",
      "s[4,12] 234.0000000000001\n",
      "s[1,13] 401.99999999999864\n",
      "s[2,13] 95.99999999999983\n",
      "s[3,13] 170.0\n",
      "s[4,13] 208.0000000000001\n",
      "s[1,14] 200.99999999999864\n",
      "s[2,14] 56.99999999999983\n",
      "s[3,14] 136.0\n",
      "s[4,14] 182.00000000000003\n",
      "s[1,15] 299.99999999999864\n",
      "s[2,15] 17.99999999999983\n",
      "s[3,15] 102.0\n",
      "s[4,15] 156.00000000000003\n",
      "s[1,16] 398.99999999999864\n",
      "s[2,16] 278.99999999999983\n",
      "s[3,16] 68.0\n",
      "s[4,16] 130.0\n",
      "s[1,17] 198.00000000000065\n",
      "s[2,17] 239.99999999999983\n",
      "s[3,17] 34.0\n",
      "s[4,17] 104.0\n",
      "s[1,18] 297.00000000000034\n",
      "s[2,18] 200.99999999999983\n",
      "s[3,18] 101.99999999999932\n",
      "s[4,18] 78.0\n",
      "s[1,19] 396.00000000000034\n",
      "s[2,19] 161.99999999999983\n",
      "s[3,19] 67.99999999999932\n",
      "s[4,19] 52.0\n",
      "s[1,20] 495.0000000000002\n",
      "s[2,20] 122.99999999999983\n",
      "s[3,20] 33.99999999999932\n",
      "s[4,20] 26.0\n",
      "s[1,21] 594.0\n",
      "s[2,21] 83.99999999999983\n",
      "s[4,21] 7.105427357601002e-15\n",
      "s[1,0] 297.0\n",
      "s[2,0] 168.0\n",
      "s[3,0] 255.0\n",
      "s[4,0] 156.0\n",
      "w[1,Vessel 2] 300.0\n",
      "w[2,Vessel 2] 300.0\n",
      "w[3,Vessel 2] 9.0\n",
      "w[4,Vessel 2] 300.0\n",
      "w[5,Vessel 2] 156.00000000000014\n",
      "w[7,Vessel 2] 300.0\n",
      "w[8,Vessel 2] 300.0\n",
      "w[9,Vessel 2] 9.0\n",
      "w[10,Vessel 2] 300.0\n",
      "w[11,Vessel 2] 66.00000000000102\n",
      "w[14,Vessel 2] 300.0\n",
      "w[15,Vessel 2] 300.0\n",
      "w[17,Vessel 2] 299.9999999999992\n",
      "w[18,Vessel 2] 197.99999999999991\n",
      "w[19,Vessel 2] 198.0\n",
      "w[20,Vessel 2] 198.00000000000068\n",
      "w[21,Vessel 2] 198.00000000000068\n"
     ]
    }
   ],
   "source": [
    "# Possibility of setting a time limit\n",
    "# m.setParam(gp.GRB.Param.TimeLimit, 3)\n",
    "\n",
    "# Optimize the model\n",
    "m.optimize()\n",
    "\n",
    "# Check the status of the optimization\n",
    "if m.status == gp.GRB.OPTIMAL:\n",
    "    print(\"Optimal solution found!\")\n",
    "\n",
    "#Access the x variables in order to see which arcs are used in the optimal solution\n",
    "for v in m.getVars():\n",
    "    if v.x > 0:\n",
    "        # print the value of the variable\n",
    "       print(v.varName, v.x)\n",
    "        "
   ]
  },
  {
   "cell_type": "code",
   "execution_count": 55,
   "metadata": {},
   "outputs": [],
   "source": [
    "# For each vessel, save the route\n",
    "vessel_routes_incl_wa = {}\n",
    "for vessel in vessels:\n",
    "    vessel_routes_incl_wa[vessel] = []\n",
    "    for arc in vessel_arcs[vessel]:\n",
    "        if x[arc.tuple, vessel].x > 0:\n",
    "            vessel_routes_incl_wa[vessel].append(arc)\n"
   ]
  },
  {
   "cell_type": "code",
   "execution_count": 56,
   "metadata": {},
   "outputs": [],
   "source": [
    "vessel_routes = {}\n",
    "for v in vessels:\n",
    "    vessel_routes[v] = []\n",
    "    for node in NODES:\n",
    "        if node==sourceNode or node==sinkNode:\n",
    "            continue\n",
    "        if o[node.port.number, node.time, v].x > 0:\n",
    "            vessel_routes[v].append(node)"
   ]
  },
  {
   "cell_type": "code",
   "execution_count": 57,
   "metadata": {},
   "outputs": [],
   "source": [
    "# Sort the arcs in each route by time\n",
    "sequences = {}\n",
    "for v in vessels:\n",
    "    vessel_routes[v] = sorted(vessel_routes[v], key=lambda node: node.time)\n",
    "    sequences[v] = [node.port.number for node in vessel_routes[v]]"
   ]
  },
  {
   "cell_type": "code",
   "execution_count": 58,
   "metadata": {},
   "outputs": [
    {
     "data": {
      "text/plain": [
       "{Vessel 1: [], Vessel 2: [1, 3, 1, 2, 4, 1, 2, 1, 4, 3, 1, 2, 1, 3]}"
      ]
     },
     "execution_count": 58,
     "metadata": {},
     "output_type": "execute_result"
    }
   ],
   "source": [
    "sequences"
   ]
  },
  {
   "cell_type": "code",
   "execution_count": 59,
   "metadata": {},
   "outputs": [],
   "source": [
    "# Sort the arcs in each route by time\n",
    "for vessel in vessels:\n",
    "    vessel_routes_incl_wa[vessel] = sorted(vessel_routes_incl_wa[vessel], key=lambda x: x.origin_node.time)"
   ]
  },
  {
   "cell_type": "code",
   "execution_count": 60,
   "metadata": {},
   "outputs": [
    {
     "data": {
      "text/plain": [
       "{Vessel 1: [5], Vessel 2: [1, 3, 1, 2, 4, 1, 2, 1, 4, 3, 1, 2, 1, 3, 5]}"
      ]
     },
     "execution_count": 60,
     "metadata": {},
     "output_type": "execute_result"
    }
   ],
   "source": [
    "# For each vessel, save the route, but only the port-sequence\n",
    "vessel_routes_seq = {}\n",
    "for vessel in vessels:\n",
    "    vessel_routes_seq[vessel] = []\n",
    "    for arc in vessel_arcs[vessel]:\n",
    "        if arc in waiting_arcs[vessel]:\n",
    "            continue\n",
    "        if x[arc.tuple, vessel].x > 0:\n",
    "            vessel_routes_seq[vessel].append(arc.destination_node.port.number)\n",
    "vessel_routes_seq"
   ]
  },
  {
   "cell_type": "code",
   "execution_count": 61,
   "metadata": {},
   "outputs": [],
   "source": [
    "def visualize_solution_for_vessel(vessel, vessel_arcs):\n",
    "    # Create a directed graph\n",
    "    G = nx.DiGraph()\n",
    "\n",
    "    # Add nodes to the graph\n",
    "    for node in NODES:\n",
    "        G.add_node(str(node.tuple))\n",
    "\n",
    "    # Add edges (arcs) to the graph\n",
    "    for arc in vessel_arcs[vessel]:\n",
    "        G.add_edge(str(arc.origin_node.tuple), str(arc.destination_node.tuple))\n",
    "\n",
    "    # Determine nodes with incoming and outgoing arcs\n",
    "    nodes_with_incoming_arcs = [node for node, degree in G.in_degree() if degree > 0]\n",
    "    nodes_with_outgoing_arcs = [node for node, degree in G.out_degree() if degree > 0]\n",
    "\n",
    "   # Create a list to hold node colors\n",
    "    node_colors = []\n",
    "    for node_str in G.nodes():\n",
    "        port_number, time = eval(node_str)  # Extract port number and time from the node label\n",
    "        o_value = o.get((port_number, time, vessel))  # Use .get() to safely access the dictionary\n",
    "        if o_value and o_value.x > 0:\n",
    "            node_colors.append('brown')  # Color for nodes with non-zero q values\n",
    "        elif node_str in nodes_with_incoming_arcs or node_str in nodes_with_outgoing_arcs:\n",
    "            node_colors.append('green')  # Color for nodes with arcs\n",
    "        \n",
    "        else:\n",
    "            node_colors.append('skyblue')  # Default color for nodes without arcs or q values\n",
    "\n",
    "\n",
    "    # Resetting the y_offset and y_spacing\n",
    "    y_offset = 10\n",
    "    y_spacing = -30  # Increase vertical spacing for better clarity\n",
    "\n",
    "    # Manually specify the positions for each node\n",
    "    pos = {}\n",
    "    for node_str in G.nodes():\n",
    "        port_number, time = eval(node_str)  # Extract port number and time from the node label\n",
    "        # The x-coordinate is based on time, the y-coordinate is fixed for nodes with the same port\n",
    "        pos[node_str] = (time * 10, port_number * y_spacing)  # Multiplying time by 10 for better horizontal spacing\n",
    "\n",
    "    # Drawing the graph using the adjusted positions\n",
    "    plt.figure(figsize=(15, 10))\n",
    "    nx.draw(G, pos, with_labels=True, node_size=2000, node_color=node_colors, font_size=10)\n",
    "    labels = nx.get_edge_attributes(G, 'weight')\n",
    "    nx.draw_networkx_edge_labels(G, pos, edge_labels=labels)\n",
    "    plt.title(f\"Nodes and Arcs Graph for {vessel}\")\n",
    "    plt.show()"
   ]
  },
  {
   "cell_type": "code",
   "execution_count": 62,
   "metadata": {},
   "outputs": [
    {
     "data": {
      "image/png": "[encoded data removed]",
      "text/plain": [
       "<Figure size 1500x1000 with 1 Axes>"
      ]
     },
     "metadata": {},
     "output_type": "display_data"
    },
    {
     "data": {
      "image/png": "[encoded data removed]",
      "text/plain": [
       "<Figure size 1500x1000 with 1 Axes>"
      ]
     },
     "metadata": {},
     "output_type": "display_data"
    }
   ],
   "source": [
    "for v in vessels:\n",
    "    visualize_solution_for_vessel(v, vessel_routes_incl_wa)"
   ]
  },
  {
   "cell_type": "code",
   "execution_count": null,
   "metadata": {},
   "outputs": [
    {
     "name": "stdout",
     "output_type": "stream",
     "text": [
      "o[1,1,Vessel 2] 1.0\n",
      "o[2,3,Vessel 2] 1.0\n",
      "o[1,4,Vessel 2] 1.0674538302888505e-06\n",
      "o[2,4,Vessel 2] 6.299833088158906e-07\n",
      "o[1,5,Vessel 2] 1.0\n",
      "o[4,6,Vessel 2] 1.0\n",
      "o[3,7,Vessel 2] 1.0\n",
      "o[1,8,Vessel 2] 1.0\n",
      "o[4,9,Vessel 2] 1.0\n",
      "o[1,10,Vessel 2] 0.9999993757576298\n",
      "o[2,11,Vessel 2] 1.0\n",
      "o[3,12,Vessel 2] 1.0\n",
      "o[1,13,Vessel 2] 1.0\n",
      "o[2,14,Vessel 2] 1.0\n",
      "o[1,15,Vessel 2] 1.0\n"
     ]
    }
   ],
   "source": [
    "# Print the o vars\n",
    "for v in vessels:\n",
    "    for node in regularNodes:\n",
    "        if o[node.port.number, node.time, v].x > 0:\n",
    "            print(o[node.port.number, node.time, v].varName, o[node.port.number, node.time, v].x)"
   ]
  },
  {
   "cell_type": "code",
   "execution_count": null,
   "metadata": {},
   "outputs": [
    {
     "data": {
      "text/plain": [
       "[(0, 0) -> (1, 1) --- Cost: 4212.244897959183 --- Speed: 8,\n",
       " (0, 0) -> (2, 1) --- Cost: 1151.020408163265 --- Speed: 8,\n",
       " (0, 0) -> (3, 1) --- Cost: 2865.306122448979 --- Speed: 8,\n",
       " (0, 0) -> (4, 1) --- Cost: 4702.04081632653 --- Speed: 8.0,\n",
       " (1, 1) -> (1, 2) --- Cost: 0 --- Speed: 0,\n",
       " (1, 1) -> (2, 2) --- Cost: 13072.834845162648 --- Speed: 11.24910007199424,\n",
       " (1, 1) -> (3, 3) --- Cost: 11030.204400605982 --- Speed: 8.43682505399568,\n",
       " (1, 1) -> (4, 3) --- Cost: 13386.582881446551 --- Speed: 8.999280057595392,\n",
       " (2, 1) -> (1, 2) --- Cost: 13072.834845162648 --- Speed: 11.24910007199424,\n",
       " (2, 1) -> (2, 2) --- Cost: 0 --- Speed: 0,\n",
       " (2, 1) -> (3, 2) --- Cost: 4312.161149557014 --- Speed: 8,\n",
       " (2, 1) -> (4, 2) --- Cost: 4481.685546788909 --- Speed: 8,\n",
       " (3, 1) -> (1, 3) --- Cost: 11030.204400605982 --- Speed: 8.43682505399568,\n",
       " (3, 1) -> (2, 2) --- Cost: 4312.161149557014 --- Speed: 8,\n",
       " (3, 1) -> (3, 2) --- Cost: 0 --- Speed: 0,\n",
       " (3, 1) -> (4, 2) --- Cost: 891.5237801384051 --- Speed: 8,\n",
       " (4, 1) -> (1, 3) --- Cost: 13386.582881446551 --- Speed: 8.999280057595392,\n",
       " (4, 1) -> (2, 2) --- Cost: 4481.685546788909 --- Speed: 8,\n",
       " (4, 1) -> (3, 2) --- Cost: 891.5237801384051 --- Speed: 8,\n",
       " (4, 1) -> (4, 2) --- Cost: 0 --- Speed: 0,\n",
       " (1, 2) -> (1, 3) --- Cost: 0 --- Speed: 0,\n",
       " (1, 2) -> (2, 3) --- Cost: 13072.834845162648 --- Speed: 11.24910007199424,\n",
       " (1, 2) -> (3, 4) --- Cost: 11030.204400605982 --- Speed: 8.43682505399568,\n",
       " (1, 2) -> (4, 4) --- Cost: 13386.582881446551 --- Speed: 8.999280057595392,\n",
       " (2, 2) -> (1, 3) --- Cost: 13072.834845162648 --- Speed: 11.24910007199424,\n",
       " (2, 2) -> (2, 3) --- Cost: 0 --- Speed: 0,\n",
       " (2, 2) -> (3, 3) --- Cost: 4312.161149557014 --- Speed: 8,\n",
       " (2, 2) -> (4, 3) --- Cost: 4481.685546788909 --- Speed: 8,\n",
       " (3, 2) -> (1, 4) --- Cost: 11030.204400605982 --- Speed: 8.43682505399568,\n",
       " (3, 2) -> (2, 3) --- Cost: 4312.161149557014 --- Speed: 8,\n",
       " (3, 2) -> (3, 3) --- Cost: 0 --- Speed: 0,\n",
       " (3, 2) -> (4, 3) --- Cost: 891.5237801384051 --- Speed: 8,\n",
       " (4, 2) -> (1, 4) --- Cost: 13386.582881446551 --- Speed: 8.999280057595392,\n",
       " (4, 2) -> (2, 3) --- Cost: 4481.685546788909 --- Speed: 8,\n",
       " (4, 2) -> (3, 3) --- Cost: 891.5237801384051 --- Speed: 8,\n",
       " (4, 2) -> (4, 3) --- Cost: 0 --- Speed: 0,\n",
       " (1, 3) -> (1, 4) --- Cost: 0 --- Speed: 0,\n",
       " (1, 3) -> (2, 4) --- Cost: 13072.834845162648 --- Speed: 11.24910007199424,\n",
       " (1, 3) -> (3, 5) --- Cost: 11030.204400605982 --- Speed: 8.43682505399568,\n",
       " (1, 3) -> (4, 5) --- Cost: 13386.582881446551 --- Speed: 8.999280057595392,\n",
       " (2, 3) -> (1, 4) --- Cost: 13072.834845162648 --- Speed: 11.24910007199424,\n",
       " (2, 3) -> (2, 4) --- Cost: 0 --- Speed: 0,\n",
       " (2, 3) -> (3, 4) --- Cost: 4312.161149557014 --- Speed: 8,\n",
       " (2, 3) -> (4, 4) --- Cost: 4481.685546788909 --- Speed: 8,\n",
       " (3, 3) -> (1, 5) --- Cost: 11030.204400605982 --- Speed: 8.43682505399568,\n",
       " (3, 3) -> (2, 4) --- Cost: 4312.161149557014 --- Speed: 8,\n",
       " (3, 3) -> (3, 4) --- Cost: 0 --- Speed: 0,\n",
       " (3, 3) -> (4, 4) --- Cost: 891.5237801384051 --- Speed: 8,\n",
       " (4, 3) -> (1, 5) --- Cost: 13386.582881446551 --- Speed: 8.999280057595392,\n",
       " (4, 3) -> (2, 4) --- Cost: 4481.685546788909 --- Speed: 8,\n",
       " (4, 3) -> (3, 4) --- Cost: 891.5237801384051 --- Speed: 8,\n",
       " (4, 3) -> (4, 4) --- Cost: 0 --- Speed: 0,\n",
       " (1, 4) -> (1, 5) --- Cost: 0 --- Speed: 0,\n",
       " (1, 4) -> (2, 5) --- Cost: 13072.834845162648 --- Speed: 11.24910007199424,\n",
       " (1, 4) -> (3, 6) --- Cost: 11030.204400605982 --- Speed: 8.43682505399568,\n",
       " (1, 4) -> (4, 6) --- Cost: 13386.582881446551 --- Speed: 8.999280057595392,\n",
       " (2, 4) -> (1, 5) --- Cost: 13072.834845162648 --- Speed: 11.24910007199424,\n",
       " (2, 4) -> (2, 5) --- Cost: 0 --- Speed: 0,\n",
       " (2, 4) -> (3, 5) --- Cost: 4312.161149557014 --- Speed: 8,\n",
       " (2, 4) -> (4, 5) --- Cost: 4481.685546788909 --- Speed: 8,\n",
       " (3, 4) -> (1, 6) --- Cost: 11030.204400605982 --- Speed: 8.43682505399568,\n",
       " (3, 4) -> (2, 5) --- Cost: 4312.161149557014 --- Speed: 8,\n",
       " (3, 4) -> (3, 5) --- Cost: 0 --- Speed: 0,\n",
       " (3, 4) -> (4, 5) --- Cost: 891.5237801384051 --- Speed: 8,\n",
       " (4, 4) -> (1, 6) --- Cost: 13386.582881446551 --- Speed: 8.999280057595392,\n",
       " (4, 4) -> (2, 5) --- Cost: 4481.685546788909 --- Speed: 8,\n",
       " (4, 4) -> (3, 5) --- Cost: 891.5237801384051 --- Speed: 8,\n",
       " (4, 4) -> (4, 5) --- Cost: 0 --- Speed: 0,\n",
       " (1, 5) -> (1, 6) --- Cost: 0 --- Speed: 0,\n",
       " (1, 5) -> (2, 6) --- Cost: 13072.834845162648 --- Speed: 11.24910007199424,\n",
       " (1, 5) -> (3, 7) --- Cost: 11030.204400605982 --- Speed: 8.43682505399568,\n",
       " (1, 5) -> (4, 7) --- Cost: 13386.582881446551 --- Speed: 8.999280057595392,\n",
       " (2, 5) -> (1, 6) --- Cost: 13072.834845162648 --- Speed: 11.24910007199424,\n",
       " (2, 5) -> (2, 6) --- Cost: 0 --- Speed: 0,\n",
       " (2, 5) -> (3, 6) --- Cost: 4312.161149557014 --- Speed: 8,\n",
       " (2, 5) -> (4, 6) --- Cost: 4481.685546788909 --- Speed: 8,\n",
       " (3, 5) -> (1, 7) --- Cost: 11030.204400605982 --- Speed: 8.43682505399568,\n",
       " (3, 5) -> (2, 6) --- Cost: 4312.161149557014 --- Speed: 8,\n",
       " (3, 5) -> (3, 6) --- Cost: 0 --- Speed: 0,\n",
       " (3, 5) -> (4, 6) --- Cost: 891.5237801384051 --- Speed: 8,\n",
       " (4, 5) -> (1, 7) --- Cost: 13386.582881446551 --- Speed: 8.999280057595392,\n",
       " (4, 5) -> (2, 6) --- Cost: 4481.685546788909 --- Speed: 8,\n",
       " (4, 5) -> (3, 6) --- Cost: 891.5237801384051 --- Speed: 8,\n",
       " (4, 5) -> (4, 6) --- Cost: 0 --- Speed: 0,\n",
       " (1, 6) -> (1, 7) --- Cost: 0 --- Speed: 0,\n",
       " (1, 6) -> (2, 7) --- Cost: 13072.834845162648 --- Speed: 11.24910007199424,\n",
       " (1, 6) -> (3, 8) --- Cost: 11030.204400605982 --- Speed: 8.43682505399568,\n",
       " (1, 6) -> (4, 8) --- Cost: 13386.582881446551 --- Speed: 8.999280057595392,\n",
       " (2, 6) -> (1, 7) --- Cost: 13072.834845162648 --- Speed: 11.24910007199424,\n",
       " (2, 6) -> (2, 7) --- Cost: 0 --- Speed: 0,\n",
       " (2, 6) -> (3, 7) --- Cost: 4312.161149557014 --- Speed: 8,\n",
       " (2, 6) -> (4, 7) --- Cost: 4481.685546788909 --- Speed: 8,\n",
       " (3, 6) -> (1, 8) --- Cost: 11030.204400605982 --- Speed: 8.43682505399568,\n",
       " (3, 6) -> (2, 7) --- Cost: 4312.161149557014 --- Speed: 8,\n",
       " (3, 6) -> (3, 7) --- Cost: 0 --- Speed: 0,\n",
       " (3, 6) -> (4, 7) --- Cost: 891.5237801384051 --- Speed: 8,\n",
       " (4, 6) -> (1, 8) --- Cost: 13386.582881446551 --- Speed: 8.999280057595392,\n",
       " (4, 6) -> (2, 7) --- Cost: 4481.685546788909 --- Speed: 8,\n",
       " (4, 6) -> (3, 7) --- Cost: 891.5237801384051 --- Speed: 8,\n",
       " (4, 6) -> (4, 7) --- Cost: 0 --- Speed: 0,\n",
       " (1, 7) -> (1, 8) --- Cost: 0 --- Speed: 0,\n",
       " (1, 7) -> (2, 8) --- Cost: 13072.834845162648 --- Speed: 11.24910007199424,\n",
       " (1, 7) -> (3, 9) --- Cost: 11030.204400605982 --- Speed: 8.43682505399568,\n",
       " (1, 7) -> (4, 9) --- Cost: 13386.582881446551 --- Speed: 8.999280057595392,\n",
       " (2, 7) -> (1, 8) --- Cost: 13072.834845162648 --- Speed: 11.24910007199424,\n",
       " (2, 7) -> (2, 8) --- Cost: 0 --- Speed: 0,\n",
       " (2, 7) -> (3, 8) --- Cost: 4312.161149557014 --- Speed: 8,\n",
       " (2, 7) -> (4, 8) --- Cost: 4481.685546788909 --- Speed: 8,\n",
       " (3, 7) -> (1, 9) --- Cost: 11030.204400605982 --- Speed: 8.43682505399568,\n",
       " (3, 7) -> (2, 8) --- Cost: 4312.161149557014 --- Speed: 8,\n",
       " (3, 7) -> (3, 8) --- Cost: 0 --- Speed: 0,\n",
       " (3, 7) -> (4, 8) --- Cost: 891.5237801384051 --- Speed: 8,\n",
       " (4, 7) -> (1, 9) --- Cost: 13386.582881446551 --- Speed: 8.999280057595392,\n",
       " (4, 7) -> (2, 8) --- Cost: 4481.685546788909 --- Speed: 8,\n",
       " (4, 7) -> (3, 8) --- Cost: 891.5237801384051 --- Speed: 8,\n",
       " (4, 7) -> (4, 8) --- Cost: 0 --- Speed: 0,\n",
       " (1, 8) -> (1, 9) --- Cost: 0 --- Speed: 0,\n",
       " (1, 8) -> (2, 9) --- Cost: 13072.834845162648 --- Speed: 11.24910007199424,\n",
       " (1, 8) -> (3, 10) --- Cost: 11030.204400605982 --- Speed: 8.43682505399568,\n",
       " (1, 8) -> (4, 10) --- Cost: 13386.582881446551 --- Speed: 8.999280057595392,\n",
       " (2, 8) -> (1, 9) --- Cost: 13072.834845162648 --- Speed: 11.24910007199424,\n",
       " (2, 8) -> (2, 9) --- Cost: 0 --- Speed: 0,\n",
       " (2, 8) -> (3, 9) --- Cost: 4312.161149557014 --- Speed: 8,\n",
       " (2, 8) -> (4, 9) --- Cost: 4481.685546788909 --- Speed: 8,\n",
       " (3, 8) -> (1, 10) --- Cost: 11030.204400605982 --- Speed: 8.43682505399568,\n",
       " (3, 8) -> (2, 9) --- Cost: 4312.161149557014 --- Speed: 8,\n",
       " (3, 8) -> (3, 9) --- Cost: 0 --- Speed: 0,\n",
       " (3, 8) -> (4, 9) --- Cost: 891.5237801384051 --- Speed: 8,\n",
       " (4, 8) -> (1, 10) --- Cost: 13386.582881446551 --- Speed: 8.999280057595392,\n",
       " (4, 8) -> (2, 9) --- Cost: 4481.685546788909 --- Speed: 8,\n",
       " (4, 8) -> (3, 9) --- Cost: 891.5237801384051 --- Speed: 8,\n",
       " (4, 8) -> (4, 9) --- Cost: 0 --- Speed: 0,\n",
       " (1, 9) -> (1, 10) --- Cost: 0 --- Speed: 0,\n",
       " (1, 9) -> (2, 10) --- Cost: 13072.834845162648 --- Speed: 11.24910007199424,\n",
       " (1, 9) -> (3, 11) --- Cost: 11030.204400605982 --- Speed: 8.43682505399568,\n",
       " (1, 9) -> (4, 11) --- Cost: 13386.582881446551 --- Speed: 8.999280057595392,\n",
       " (2, 9) -> (1, 10) --- Cost: 13072.834845162648 --- Speed: 11.24910007199424,\n",
       " (2, 9) -> (2, 10) --- Cost: 0 --- Speed: 0,\n",
       " (2, 9) -> (3, 10) --- Cost: 4312.161149557014 --- Speed: 8,\n",
       " (2, 9) -> (4, 10) --- Cost: 4481.685546788909 --- Speed: 8,\n",
       " (3, 9) -> (1, 11) --- Cost: 11030.204400605982 --- Speed: 8.43682505399568,\n",
       " (3, 9) -> (2, 10) --- Cost: 4312.161149557014 --- Speed: 8,\n",
       " (3, 9) -> (3, 10) --- Cost: 0 --- Speed: 0,\n",
       " (3, 9) -> (4, 10) --- Cost: 891.5237801384051 --- Speed: 8,\n",
       " (4, 9) -> (1, 11) --- Cost: 13386.582881446551 --- Speed: 8.999280057595392,\n",
       " (4, 9) -> (2, 10) --- Cost: 4481.685546788909 --- Speed: 8,\n",
       " (4, 9) -> (3, 10) --- Cost: 891.5237801384051 --- Speed: 8,\n",
       " (4, 9) -> (4, 10) --- Cost: 0 --- Speed: 0,\n",
       " (1, 10) -> (1, 11) --- Cost: 0 --- Speed: 0,\n",
       " (1, 10) -> (2, 11) --- Cost: 13072.834845162648 --- Speed: 11.24910007199424,\n",
       " (1, 10) -> (3, 12) --- Cost: 11030.204400605982 --- Speed: 8.43682505399568,\n",
       " (1, 10) -> (4, 12) --- Cost: 13386.582881446551 --- Speed: 8.999280057595392,\n",
       " (2, 10) -> (1, 11) --- Cost: 13072.834845162648 --- Speed: 11.24910007199424,\n",
       " (2, 10) -> (2, 11) --- Cost: 0 --- Speed: 0,\n",
       " (2, 10) -> (3, 11) --- Cost: 4312.161149557014 --- Speed: 8,\n",
       " (2, 10) -> (4, 11) --- Cost: 4481.685546788909 --- Speed: 8,\n",
       " (3, 10) -> (1, 12) --- Cost: 11030.204400605982 --- Speed: 8.43682505399568,\n",
       " (3, 10) -> (2, 11) --- Cost: 4312.161149557014 --- Speed: 8,\n",
       " (3, 10) -> (3, 11) --- Cost: 0 --- Speed: 0,\n",
       " (3, 10) -> (4, 11) --- Cost: 891.5237801384051 --- Speed: 8,\n",
       " (4, 10) -> (1, 12) --- Cost: 13386.582881446551 --- Speed: 8.999280057595392,\n",
       " (4, 10) -> (2, 11) --- Cost: 4481.685546788909 --- Speed: 8,\n",
       " (4, 10) -> (3, 11) --- Cost: 891.5237801384051 --- Speed: 8,\n",
       " (4, 10) -> (4, 11) --- Cost: 0 --- Speed: 0,\n",
       " (1, 11) -> (1, 12) --- Cost: 0 --- Speed: 0,\n",
       " (1, 11) -> (2, 12) --- Cost: 13072.834845162648 --- Speed: 11.24910007199424,\n",
       " (1, 11) -> (3, 13) --- Cost: 11030.204400605982 --- Speed: 8.43682505399568,\n",
       " (1, 11) -> (4, 13) --- Cost: 13386.582881446551 --- Speed: 8.999280057595392,\n",
       " (2, 11) -> (1, 12) --- Cost: 13072.834845162648 --- Speed: 11.24910007199424,\n",
       " (2, 11) -> (2, 12) --- Cost: 0 --- Speed: 0,\n",
       " (2, 11) -> (3, 12) --- Cost: 4312.161149557014 --- Speed: 8,\n",
       " (2, 11) -> (4, 12) --- Cost: 4481.685546788909 --- Speed: 8,\n",
       " (3, 11) -> (1, 13) --- Cost: 11030.204400605982 --- Speed: 8.43682505399568,\n",
       " (3, 11) -> (2, 12) --- Cost: 4312.161149557014 --- Speed: 8,\n",
       " (3, 11) -> (3, 12) --- Cost: 0 --- Speed: 0,\n",
       " (3, 11) -> (4, 12) --- Cost: 891.5237801384051 --- Speed: 8,\n",
       " (4, 11) -> (1, 13) --- Cost: 13386.582881446551 --- Speed: 8.999280057595392,\n",
       " (4, 11) -> (2, 12) --- Cost: 4481.685546788909 --- Speed: 8,\n",
       " (4, 11) -> (3, 12) --- Cost: 891.5237801384051 --- Speed: 8,\n",
       " (4, 11) -> (4, 12) --- Cost: 0 --- Speed: 0,\n",
       " (1, 12) -> (1, 13) --- Cost: 0 --- Speed: 0,\n",
       " (1, 12) -> (2, 13) --- Cost: 13072.834845162648 --- Speed: 11.24910007199424,\n",
       " (2, 12) -> (1, 13) --- Cost: 13072.834845162648 --- Speed: 11.24910007199424,\n",
       " (2, 12) -> (2, 13) --- Cost: 0 --- Speed: 0,\n",
       " (2, 12) -> (3, 13) --- Cost: 4312.161149557014 --- Speed: 8,\n",
       " (2, 12) -> (4, 13) --- Cost: 4481.685546788909 --- Speed: 8,\n",
       " (3, 12) -> (2, 13) --- Cost: 4312.161149557014 --- Speed: 8,\n",
       " (3, 12) -> (3, 13) --- Cost: 0 --- Speed: 0,\n",
       " (3, 12) -> (4, 13) --- Cost: 891.5237801384051 --- Speed: 8,\n",
       " (4, 12) -> (2, 13) --- Cost: 4481.685546788909 --- Speed: 8,\n",
       " (4, 12) -> (3, 13) --- Cost: 891.5237801384051 --- Speed: 8,\n",
       " (4, 12) -> (4, 13) --- Cost: 0 --- Speed: 0,\n",
       " (0, 0) -> (5, 14) --- Cost: 0 --- Speed: 0,\n",
       " (1, 1) -> (5, 14) --- Cost: 0 --- Speed: 0,\n",
       " (2, 1) -> (5, 14) --- Cost: 0 --- Speed: 0,\n",
       " (3, 1) -> (5, 14) --- Cost: 0 --- Speed: 0,\n",
       " (4, 1) -> (5, 14) --- Cost: 0 --- Speed: 0,\n",
       " (1, 2) -> (5, 14) --- Cost: 0 --- Speed: 0,\n",
       " (2, 2) -> (5, 14) --- Cost: 0 --- Speed: 0,\n",
       " (3, 2) -> (5, 14) --- Cost: 0 --- Speed: 0,\n",
       " (4, 2) -> (5, 14) --- Cost: 0 --- Speed: 0,\n",
       " (1, 3) -> (5, 14) --- Cost: 0 --- Speed: 0,\n",
       " (2, 3) -> (5, 14) --- Cost: 0 --- Speed: 0,\n",
       " (3, 3) -> (5, 14) --- Cost: 0 --- Speed: 0,\n",
       " (4, 3) -> (5, 14) --- Cost: 0 --- Speed: 0,\n",
       " (1, 4) -> (5, 14) --- Cost: 0 --- Speed: 0,\n",
       " (2, 4) -> (5, 14) --- Cost: 0 --- Speed: 0,\n",
       " (3, 4) -> (5, 14) --- Cost: 0 --- Speed: 0,\n",
       " (4, 4) -> (5, 14) --- Cost: 0 --- Speed: 0,\n",
       " (1, 5) -> (5, 14) --- Cost: 0 --- Speed: 0,\n",
       " (2, 5) -> (5, 14) --- Cost: 0 --- Speed: 0,\n",
       " (3, 5) -> (5, 14) --- Cost: 0 --- Speed: 0,\n",
       " (4, 5) -> (5, 14) --- Cost: 0 --- Speed: 0,\n",
       " (1, 6) -> (5, 14) --- Cost: 0 --- Speed: 0,\n",
       " (2, 6) -> (5, 14) --- Cost: 0 --- Speed: 0,\n",
       " (3, 6) -> (5, 14) --- Cost: 0 --- Speed: 0,\n",
       " (4, 6) -> (5, 14) --- Cost: 0 --- Speed: 0,\n",
       " (1, 7) -> (5, 14) --- Cost: 0 --- Speed: 0,\n",
       " (2, 7) -> (5, 14) --- Cost: 0 --- Speed: 0,\n",
       " (3, 7) -> (5, 14) --- Cost: 0 --- Speed: 0,\n",
       " (4, 7) -> (5, 14) --- Cost: 0 --- Speed: 0,\n",
       " (1, 8) -> (5, 14) --- Cost: 0 --- Speed: 0,\n",
       " (2, 8) -> (5, 14) --- Cost: 0 --- Speed: 0,\n",
       " (3, 8) -> (5, 14) --- Cost: 0 --- Speed: 0,\n",
       " (4, 8) -> (5, 14) --- Cost: 0 --- Speed: 0,\n",
       " (1, 9) -> (5, 14) --- Cost: 0 --- Speed: 0,\n",
       " (2, 9) -> (5, 14) --- Cost: 0 --- Speed: 0,\n",
       " (3, 9) -> (5, 14) --- Cost: 0 --- Speed: 0,\n",
       " (4, 9) -> (5, 14) --- Cost: 0 --- Speed: 0,\n",
       " (1, 10) -> (5, 14) --- Cost: 0 --- Speed: 0,\n",
       " (2, 10) -> (5, 14) --- Cost: 0 --- Speed: 0,\n",
       " (3, 10) -> (5, 14) --- Cost: 0 --- Speed: 0,\n",
       " (4, 10) -> (5, 14) --- Cost: 0 --- Speed: 0,\n",
       " (1, 11) -> (5, 14) --- Cost: 0 --- Speed: 0,\n",
       " (2, 11) -> (5, 14) --- Cost: 0 --- Speed: 0,\n",
       " (3, 11) -> (5, 14) --- Cost: 0 --- Speed: 0,\n",
       " (4, 11) -> (5, 14) --- Cost: 0 --- Speed: 0,\n",
       " (1, 12) -> (5, 14) --- Cost: 0 --- Speed: 0,\n",
       " (2, 12) -> (5, 14) --- Cost: 0 --- Speed: 0,\n",
       " (3, 12) -> (5, 14) --- Cost: 0 --- Speed: 0,\n",
       " (4, 12) -> (5, 14) --- Cost: 0 --- Speed: 0,\n",
       " (1, 13) -> (5, 14) --- Cost: 0 --- Speed: 0,\n",
       " (2, 13) -> (5, 14) --- Cost: 0 --- Speed: 0,\n",
       " (3, 13) -> (5, 14) --- Cost: 0 --- Speed: 0,\n",
       " (4, 13) -> (5, 14) --- Cost: 0 --- Speed: 0]"
      ]
     },
     "execution_count": 65,
     "metadata": {},
     "output_type": "execute_result"
    }
   ],
   "source": [
    "vessel_arcs[vessel_to_check]"
   ]
  },
  {
   "cell_type": "code",
   "execution_count": null,
   "metadata": {},
   "outputs": [
    {
     "name": "stdout",
     "output_type": "stream",
     "text": [
      "(1, 1, Vessel 1) 300.0\n",
      "(2, 2, Vessel 1) 66.0\n",
      "(4, 3, Vessel 1) 183.0\n",
      "(3, 4, Vessel 1) 51.0\n",
      "(1, 6, Vessel 1) 300.0\n",
      "(2, 7, Vessel 1) 300.0\n",
      "(1, 8, Vessel 1) 300.0\n",
      "(3, 10, Vessel 1) 300.0\n",
      "(1, 12, Vessel 1) 90.0\n"
     ]
    }
   ],
   "source": [
    "# Print all the q values for vessel[2]\n",
    "for key in q.keys():\n",
    "    if key[2] == vessel_to_check:\n",
    "        if q[key].x > 0:\n",
    "            print(key, q[key].x)"
   ]
  },
  {
   "cell_type": "code",
   "execution_count": null,
   "metadata": {},
   "outputs": [
    {
     "name": "stdout",
     "output_type": "stream",
     "text": [
      "(1, 1, Vessel 1) 1.0\n",
      "(2, 2, Vessel 1) 1.0\n",
      "(4, 3, Vessel 1) 1.0\n",
      "(3, 4, Vessel 1) 1.0\n",
      "(1, 6, Vessel 1) 1.0\n",
      "(2, 7, Vessel 1) 1.0\n",
      "(1, 8, Vessel 1) 1.0\n",
      "(3, 10, Vessel 1) 1.0\n",
      "(1, 12, Vessel 1) 1.0\n"
     ]
    }
   ],
   "source": [
    "# Print all the q values for vessel[2]\n",
    "for key in o.keys():\n",
    "    if key[2] == vessel_to_check:\n",
    "        if o[key].x > 0:\n",
    "            print(key, o[key].x)"
   ]
  },
  {
   "cell_type": "code",
   "execution_count": null,
   "metadata": {},
   "outputs": [
    {
     "name": "stdout",
     "output_type": "stream",
     "text": [
      "(0, 0) -> (1, 1) --- Cost: 4212.244897959183 --- Speed: 8\n",
      "(1, 1) -> (2, 2) --- Cost: 13072.834845162648 --- Speed: 11.24910007199424\n",
      "(2, 2) -> (4, 3) --- Cost: 4481.685546788909 --- Speed: 8\n",
      "(4, 3) -> (3, 4) --- Cost: 891.5237801384051 --- Speed: 8\n",
      "(3, 4) -> (1, 6) --- Cost: 11030.204400605982 --- Speed: 8.43682505399568\n",
      "(1, 6) -> (2, 7) --- Cost: 13072.834845162648 --- Speed: 11.24910007199424\n",
      "(2, 7) -> (1, 8) --- Cost: 13072.834845162648 --- Speed: 11.24910007199424\n",
      "(1, 8) -> (3, 10) --- Cost: 11030.204400605982 --- Speed: 8.43682505399568\n",
      "(3, 10) -> (1, 12) --- Cost: 11030.204400605982 --- Speed: 8.43682505399568\n",
      "(1, 12) -> (5, 14) --- Cost: 0 --- Speed: 0\n"
     ]
    }
   ],
   "source": [
    "# Print the arcs for the vessel_to_check\n",
    "for arc in vessel_routes_incl_wa[vessel_to_check]:\n",
    "    print(arc)"
   ]
  },
  {
   "cell_type": "code",
   "execution_count": null,
   "metadata": {},
   "outputs": [
    {
     "name": "stdout",
     "output_type": "stream",
     "text": [
      "(((0, 0), (1, 1)), Vessel 1) 1.0\n",
      "(((1, 1), (2, 2)), Vessel 1) 1.0\n",
      "(((2, 2), (4, 3)), Vessel 1) 1.0\n",
      "(((4, 3), (3, 4)), Vessel 1) 1.0\n",
      "(((3, 4), (1, 6)), Vessel 1) 1.0\n",
      "(((1, 6), (2, 7)), Vessel 1) 1.0\n",
      "(((2, 7), (1, 8)), Vessel 1) 1.0\n",
      "(((1, 8), (3, 10)), Vessel 1) 1.0\n",
      "(((3, 10), (1, 12)), Vessel 1) 1.0\n",
      "(((1, 12), (5, 14)), Vessel 1) 1.0\n"
     ]
    }
   ],
   "source": [
    "# Print the values of x variables for vessel_to_check\n",
    "for key in x.keys():\n",
    "    if key[1] == vessel_to_check:\n",
    "        if x[key].x > 0:\n",
    "            print(key, x[key].x)"
   ]
  }
 ],
 "metadata": {
  "kernelspec": {
   "display_name": "env",
   "language": "python",
   "name": "python3"
  },
  "language_info": {
   "codemirror_mode": {
    "name": "ipython",
    "version": 3
   },
   "file_extension": ".py",
   "mimetype": "text/x-python",
   "name": "python",
   "nbconvert_exporter": "python",
   "pygments_lexer": "ipython3",
   "version": "3.10.4"
  },
  "orig_nbformat": 4
 },
 "nbformat": 4,
 "nbformat_minor": 2
}

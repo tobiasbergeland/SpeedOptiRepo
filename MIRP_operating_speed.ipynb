{
 "cells": [
  {
   "cell_type": "markdown",
   "metadata": {},
   "source": [
    "# Maritime Inventory Routing Problem (Two-Stage)\n",
    "### Speed is fixed to operating speed\n"
   ]
  },
  {
   "cell_type": "code",
   "execution_count": 1,
   "metadata": {},
   "outputs": [],
   "source": [
    "import pandas as pd\n",
    "import numpy as np\n",
    "import gurobipy as gp\n",
    "from gurobipy import GRB\n",
    "import networkx as nx\n",
    "import matplotlib.pyplot as plt\n",
    "import math"
   ]
  },
  {
   "cell_type": "markdown",
   "metadata": {},
   "source": [
    "# INSTANCE"
   ]
  },
  {
   "cell_type": "code",
   "execution_count": 2,
   "metadata": {},
   "outputs": [],
   "source": [
    "# INSTANCE = 'LR1_1_DR1_3_VC1_V7a'\n",
    "# INSTANCE = 'LR1_1_DR1_4_VC3_V8a'\n",
    "# INSTANCE = 'LR1_1_DR1_4_VC3_V9a'\n",
    "# INSTANCE = 'LR1_1_DR1_4_VC3_V11a'\n",
    "INSTANCE = 'LR1_1_DR1_4_VC3_V12a'\n",
    "# INSTANCE = 'LR1_2_DR1_3_VC2_V6a'\n",
    "\n",
    "# INSTANCE = 'LR1_1_DR1_4_VC3_V12b'\n",
    "# INSTANCE = 'LR1_2_DR1_3_VC3_V8a'\n",
    "# INSTANCE = 'LR2_11_DR2_22_VC3_V6a'\n",
    "# INSTANCE = 'LR2_11_DR2_33_VC4_V11a'\n",
    "\n",
    "INSTANCE_PATH = INSTANCE+'/'+INSTANCE+'.txt'\n",
    "VESSELINFO_PATH = INSTANCE+'/vessel_data.txt'"
   ]
  },
  {
   "cell_type": "markdown",
   "metadata": {},
   "source": [
    "### GAP REDUCTION"
   ]
  },
  {
   "cell_type": "code",
   "execution_count": 3,
   "metadata": {},
   "outputs": [],
   "source": [
    "# GAP_REDUCTION = True\n",
    "GAP_REDUCTION = False"
   ]
  },
  {
   "cell_type": "markdown",
   "metadata": {},
   "source": [
    "# LOGGING"
   ]
  },
  {
   "cell_type": "code",
   "execution_count": 4,
   "metadata": {},
   "outputs": [],
   "source": [
    "# LOG = True\n",
    "LOG = False\n",
    "\n",
    "if not GAP_REDUCTION:\n",
    "    FILEPATH = f'solutions/MIRP_operating_speed_results_{INSTANCE}_45_noGR.txt'\n",
    "else:\n",
    "    FILEPATH = f'solutions/MIRP_operating_speed_results_{INSTANCE}_45.txt'\n",
    "    \n",
    "# FILEPATH = 'solutions/MIRP_operating_speed_GARBAGE.txt'"
   ]
  },
  {
   "cell_type": "markdown",
   "metadata": {},
   "source": [
    "# Creating classes in order organize the code"
   ]
  },
  {
   "cell_type": "code",
   "execution_count": 5,
   "metadata": {},
   "outputs": [],
   "source": [
    "class Port:\n",
    "    def __init__(self, capacity, inventory, rate, price, berth_limit, port_fee, max_amount, min_amount, number, isLoadingPort):\n",
    "        self.capacity = capacity\n",
    "        self.inventory = inventory\n",
    "        self.rate = rate\n",
    "        self.price = price \n",
    "        self.berth_limit = berth_limit \n",
    "        self.port_fee = port_fee\n",
    "        self.max_amount = max_amount\n",
    "        self.min_amount = min_amount\n",
    "        self.number = number\n",
    "        self.isLoadingPort = isLoadingPort\n",
    "        \n",
    "    def __repr__(self):\n",
    "        return f'Port {self.number}'\n",
    "    \n",
    "    def __repr2__(self):\n",
    "        return f'Port {self.number}: Capacity = {self.capacity}, Inventory = {self.inventory}, Rate = {self.rate}, Price = {self.price}, Berth Limit = {self.berth_limit}, Port Fee = {self.port_fee}, Max Amount = {self.max_amount}, Min Amount = {self.min_amount}, is Loading Port = {self.isLoadingPort}'\n",
    "        \n",
    "class Node:\n",
    "    def __init__(self, port, time):\n",
    "        self.port = port\n",
    "        self.time = time\n",
    "        self.tuple = (port.number if port else None, time)\n",
    "        self.incoming_arcs = set()\n",
    "        self.outgoing_arcs = set()\n",
    "        self.berths = port.berth_limit if port else None\n",
    "    \n",
    "    def __repr__(self):\n",
    "        return str(self.tuple)\n",
    "\n",
    "class Arc:\n",
    "    def __init__(self, origin_node, destination_node, distance, cost, travel_time, speed, is_waiting_arc):\n",
    "        self.origin_node = origin_node\n",
    "        self.destination_node = destination_node\n",
    "        self.tuple = (origin_node, destination_node)\n",
    "        self.distance = distance\n",
    "        self.cost = cost\n",
    "        self.travel_time = travel_time\n",
    "        self.speed = speed\n",
    "        self.is_waiting_arc = is_waiting_arc\n",
    "            \n",
    "    def __repr__(self):\n",
    "        # Only have 1 decimal for cost and speed\n",
    "        return f'{self.origin_node} -> {self.destination_node} --- Cost: {self.cost:.1f} --- Speed: {self.speed:.1f}'\n",
    "\n",
    "class Vessel:\n",
    "    def __init__(self, max_inventory, initial_inventory, max_operating_quantity, number):\n",
    "        self.max_inventory = int(max_inventory)\n",
    "        self.inventory = initial_inventory\n",
    "        self.max_operating_quantity = max_operating_quantity\n",
    "        self.number = number\n",
    "        self.arcs = set()\n",
    "        self.all_arcs_v = set()\n",
    "        \n",
    "    def __repr__(self):\n",
    "        return f'Vessel {self.number}'\n",
    "\n",
    "    def __repr2__(self):\n",
    "        return f'Vessel {self.number}: Max Inventory = {self.max_inventory}, Inventory = {self.inventory}, Max Operating Quantity = {self.max_operating_quantity}'"
   ]
  },
  {
   "cell_type": "markdown",
   "metadata": {},
   "source": [
    "### Read in file"
   ]
  },
  {
   "cell_type": "code",
   "execution_count": 6,
   "metadata": {},
   "outputs": [],
   "source": [
    "# Read the content of the provided file\n",
    "with open(INSTANCE_PATH, 'r') as file:\n",
    "    content = file.read()"
   ]
  },
  {
   "cell_type": "markdown",
   "metadata": {},
   "source": [
    "## Read in metadata"
   ]
  },
  {
   "cell_type": "code",
   "execution_count": 7,
   "metadata": {},
   "outputs": [],
   "source": [
    "def parse_metadata(content):\n",
    "    metadata = {}\n",
    "    start_index = content.index(\"----- MetaData -----\") + len(\"----- MetaData -----\")\n",
    "    end_index = content.find(\"\\n\\n\", start_index) if \"\\n\\n\" in content[start_index:] else len(content)\n",
    "    metadata_section = content[start_index:end_index].strip().split(\"\\n\")\n",
    "    \n",
    "    for line in metadata_section:\n",
    "        if \":\" in line:\n",
    "            key, value = line.split(\":\", 1)\n",
    "            metadata[key.strip()] = value.strip()\n",
    "    \n",
    "    return metadata\n",
    "\n",
    "def safe_convert(value, data_type):\n",
    "    try:\n",
    "        if data_type == 'int':\n",
    "            return int(value)\n",
    "        elif data_type == 'float':\n",
    "            return float(value)\n",
    "        elif data_type == 'list':\n",
    "            # Handle different list formats\n",
    "            if value.startswith('[') and value.endswith(']'):\n",
    "                # Remove brackets, split by comma and strip spaces\n",
    "                return [int(x.strip()) for x in value[1:-1].split(',')]\n",
    "            else:\n",
    "                # Split by space or other delimiters if necessary\n",
    "                return [int(x.strip()) for x in value.split()]\n",
    "    except (ValueError, TypeError):\n",
    "        return None\n",
    "\n",
    "\n",
    "def read_and_assign_metadata_from_content(content):\n",
    "    metadata = parse_metadata(content)\n",
    "    \n",
    "    numPeriods = safe_convert(metadata.get('numPeriods', '').split()[-1], 'int')\n",
    "    numCommodities = safe_convert(metadata.get('numCommodities'), 'int')\n",
    "    numLoadingRegions = safe_convert(metadata.get('numLoadingRegions'), 'int')\n",
    "    numDischargingRegions = safe_convert(metadata.get('numDischargingRegions'), 'int')\n",
    "    numLoadingPortsInRegion = safe_convert(metadata.get('numLoadingPortsInRegion', '[]'), 'list')\n",
    "    numDischargingPortsInRegion = safe_convert(metadata.get('numDischargingPortsInRegion', '[]'), 'list')\n",
    "    numVesselClasses = safe_convert(metadata.get('numVesselClasses'), 'int')\n",
    "    numTermVesselsInClass = safe_convert(metadata.get('numTermVesselsInClass', '[]'), 'list')\n",
    "    hoursPerPeriod = safe_convert(metadata.get('hoursPerPeriod'), 'int')\n",
    "    spotMarketPricePerUnit = safe_convert(metadata.get('spotMarketPricePerUnit'), 'float')\n",
    "    spotMarketDiscountFactor = safe_convert(metadata.get('spotMarketDiscountFactor'), 'float')\n",
    "    perPeriodRewardForFinishingEarly = safe_convert(metadata.get('perPeriodRewardForFinishingEarly', '0'), 'float')\n",
    "    attemptCost = safe_convert(metadata.get('attemptCost', '0'), 'float')\n",
    "    constantForSinglePeriodAlphaSlack = safe_convert(metadata.get('constantForSinglePeriodAlphaSlack', '0'), 'float')\n",
    "    constantForCumulativeAlphaSlack = safe_convert(metadata.get('constantForCumulativeAlphaSlack', '0'), 'float')\n",
    "    \n",
    "    return {\n",
    "        'numPeriods': numPeriods,\n",
    "        'numCommodities': numCommodities,\n",
    "        'numLoadingRegions': numLoadingRegions,\n",
    "        'numDischargingRegions': numDischargingRegions,\n",
    "        'numLoadingPortsInRegion': numLoadingPortsInRegion,\n",
    "        'numDischargingPortsInRegion': numDischargingPortsInRegion,\n",
    "        'numVesselClasses': numVesselClasses,\n",
    "        'numTermVesselsInClass': numTermVesselsInClass,\n",
    "        'hoursPerPeriod': hoursPerPeriod,\n",
    "        'spotMarketPricePerUnit': spotMarketPricePerUnit,\n",
    "        'spotMarketDiscountFactor': spotMarketDiscountFactor,\n",
    "        'perPeriodRewardForFinishingEarly': perPeriodRewardForFinishingEarly,\n",
    "        'attemptCost': attemptCost,\n",
    "        'constantForSinglePeriodAlphaSlack': constantForSinglePeriodAlphaSlack,\n",
    "        'constantForCumulativeAlphaSlack': constantForCumulativeAlphaSlack\n",
    "    }\n",
    "\n",
    "# Using the refactored function with the already-read content\n",
    "metadata_from_content = read_and_assign_metadata_from_content(content)\n"
   ]
  },
  {
   "cell_type": "markdown",
   "metadata": {},
   "source": [
    "### Manual adjustments for the metadata"
   ]
  },
  {
   "cell_type": "code",
   "execution_count": 8,
   "metadata": {},
   "outputs": [],
   "source": [
    "'''We only handle one vesseltype for now'''\n",
    "metadata_from_content['numVesselClasses'] = 1\n",
    "# Therefore we set all of the vessels to be of the same type. Type 1\n",
    "vessels_in_classes = metadata_from_content['numTermVesselsInClass']\n",
    "metadata_from_content['numTermVesselsInClass'] = [sum(vessels_in_classes)]"
   ]
  },
  {
   "cell_type": "code",
   "execution_count": 9,
   "metadata": {},
   "outputs": [],
   "source": [
    "ORIGINAL_NUM_TIME_PERIODS = metadata_from_content['numPeriods']"
   ]
  },
  {
   "cell_type": "markdown",
   "metadata": {},
   "source": [
    "### Vessel info"
   ]
  },
  {
   "cell_type": "code",
   "execution_count": 10,
   "metadata": {},
   "outputs": [],
   "source": [
    "with open(VESSELINFO_PATH, 'r') as file:\n",
    "    file_content = file.read()"
   ]
  },
  {
   "cell_type": "code",
   "execution_count": 11,
   "metadata": {},
   "outputs": [
    {
     "data": {
      "text/plain": [
       "{'Vessel_0': {'Initial Inventory': 0,\n",
       "  'Initial Port': 'LoadingRegion_0_Port_0',\n",
       "  'First Time Available': 7},\n",
       " 'Vessel_1': {'Initial Inventory': 300,\n",
       "  'Initial Port': 'DischargeRegion_0_Port_0',\n",
       "  'First Time Available': 4},\n",
       " 'Vessel_2': {'Initial Inventory': 300,\n",
       "  'Initial Port': 'DischargeRegion_0_Port_0',\n",
       "  'First Time Available': 8},\n",
       " 'Vessel_3': {'Initial Inventory': 0,\n",
       "  'Initial Port': 'LoadingRegion_0_Port_0',\n",
       "  'First Time Available': 5},\n",
       " 'Vessel_4': {'Initial Inventory': 250,\n",
       "  'Initial Port': 'DischargeRegion_0_Port_3',\n",
       "  'First Time Available': 5},\n",
       " 'Vessel_5': {'Initial Inventory': 0,\n",
       "  'Initial Port': 'LoadingRegion_0_Port_0',\n",
       "  'First Time Available': 12},\n",
       " 'Vessel_6': {'Initial Inventory': 250,\n",
       "  'Initial Port': 'DischargeRegion_0_Port_2',\n",
       "  'First Time Available': 1},\n",
       " 'Vessel_7': {'Initial Inventory': 0,\n",
       "  'Initial Port': 'LoadingRegion_0_Port_0',\n",
       "  'First Time Available': 6},\n",
       " 'Vessel_8': {'Initial Inventory': 200,\n",
       "  'Initial Port': 'DischargeRegion_0_Port_1',\n",
       "  'First Time Available': 0},\n",
       " 'Vessel_9': {'Initial Inventory': 0,\n",
       "  'Initial Port': 'LoadingRegion_0_Port_0',\n",
       "  'First Time Available': 3},\n",
       " 'Vessel_10': {'Initial Inventory': 0,\n",
       "  'Initial Port': 'LoadingRegion_0_Port_0',\n",
       "  'First Time Available': 10},\n",
       " 'Vessel_11': {'Initial Inventory': 0,\n",
       "  'Initial Port': 'LoadingRegion_0_Port_0',\n",
       "  'First Time Available': 1}}"
      ]
     },
     "execution_count": 11,
     "metadata": {},
     "output_type": "execute_result"
    }
   ],
   "source": [
    "import re\n",
    "\n",
    "# Regular expression to extract vessel information including first time available\n",
    "pattern = r\"name\\s+Vessel_(\\d+)\\s+.*?initialInventory\\s+(\\d+)\\s+initialPort\\s+([\\w_]+)\\s+firstTimeAvailable\\s+(\\d+)\"\n",
    "\n",
    "# Finding all matches\n",
    "vessel_info = re.findall(pattern, file_content, re.DOTALL)\n",
    "\n",
    "# Creating a dictionary to store the information\n",
    "vessel_data = {}\n",
    "for vessel in vessel_info:\n",
    "    vessel_index = int(vessel[0])\n",
    "    initial_inventory = int(vessel[1])\n",
    "    initial_port = vessel[2]\n",
    "    first_time_available = int(vessel[3])\n",
    "\n",
    "    # Storing in dictionary\n",
    "    vessel_data[f\"Vessel_{vessel_index}\"] = {\n",
    "        \"Initial Inventory\": initial_inventory,\n",
    "        \"Initial Port\": initial_port,\n",
    "        \"First Time Available\": first_time_available\n",
    "    }\n",
    "\n",
    "vessel_data  # Displaying the dictionary"
   ]
  },
  {
   "cell_type": "markdown",
   "metadata": {},
   "source": [
    "### Read in port data"
   ]
  },
  {
   "cell_type": "code",
   "execution_count": 12,
   "metadata": {},
   "outputs": [],
   "source": [
    "def parse_region_table(content):\n",
    "    # Extract the region table section\n",
    "    start_index = content.index(\"----- Region Table ----\") + len(\"----- Region Table ----\")\n",
    "    end_index = content.find(\"-----\", start_index)  # Find the next section separator\n",
    "    region_section = content[start_index:end_index].strip().split(\"\\n\")[1:]  # Exclude the header line\n",
    "    regions = {}\n",
    "    for line in region_section:\n",
    "        if \"Note:\" not in line:  # Exclude the note lines\n",
    "            attribute, *values = line.split()\n",
    "            regions[attribute] = values\n",
    "    return regions\n",
    "\n",
    "\n",
    "def parse_port_table_for_region(content, region_index):\n",
    "    # Extract the port table section for the specified region\n",
    "    search_str = f\"----- Port Table For Region {region_index} ----\"\n",
    "    start_index = content.index(search_str) + len(search_str)\n",
    "    end_index = content.find(\"-----\", start_index)  # Find the next section separator\n",
    "    port_section = content[start_index:end_index].strip().split(\"\\n\")[1:]  # Exclude the header line\n",
    "    ports = {}\n",
    "    for line in port_section:\n",
    "        attribute, *values = line.split()\n",
    "        ports[attribute] = values\n",
    "    return ports\n"
   ]
  },
  {
   "cell_type": "code",
   "execution_count": 13,
   "metadata": {},
   "outputs": [
    {
     "data": {
      "text/plain": [
       "{'Region 0': {'Capacity': ['670'],\n",
       "  'Inventory': ['335'],\n",
       "  'Rate': ['134'],\n",
       "  'Price': [],\n",
       "  'BerthLimit': ['1'],\n",
       "  'PortFee': ['28'],\n",
       "  'maxAmt': ['300'],\n",
       "  'minAmt': ['100'],\n",
       "  'C2R': ['ratio', '5']},\n",
       " 'Region 1': {'Capacity': ['336', '396', '480', '336'],\n",
       "  'Inventory': ['168', '198', '240', '168'],\n",
       "  'Rate': ['-42', '-36', '-32', '-24'],\n",
       "  'Price': ['5', '5', '5', '5'],\n",
       "  'BerthLimit': ['1', '1', '1', '1'],\n",
       "  'PortFee': ['62', '59', '44', '55'],\n",
       "  'maxAmt': ['300', '300', '240', '300'],\n",
       "  'minAmt': ['95', '85', '90', '80'],\n",
       "  'C2R': ['ratio', '8', '11', '15', '14']}}"
      ]
     },
     "execution_count": 13,
     "metadata": {},
     "output_type": "execute_result"
    }
   ],
   "source": [
    "# Extract region and port information\n",
    "regions_info = parse_region_table(content)\n",
    "ports_info = {f\"Region {i}\": parse_port_table_for_region(content, i) for i in range(len(regions_info['NumPorts']))}\n",
    "ports_info"
   ]
  },
  {
   "cell_type": "markdown",
   "metadata": {},
   "source": [
    "### Create the ports"
   ]
  },
  {
   "cell_type": "code",
   "execution_count": 14,
   "metadata": {},
   "outputs": [],
   "source": [
    "def create_ports_from_info_with_loading(ports_info):\n",
    "    all_ports = {}\n",
    "    loading_regions = {}\n",
    "    discharging_regions = {}\n",
    "\n",
    "    tot_num = 1\n",
    "    \n",
    "    for region, port_attributes in ports_info.items():\n",
    "        region_ports = []\n",
    "        is_loading_region = all(int(rate) > 0 for rate in port_attributes['Rate'])\n",
    "        is_discharging_region = all(int(rate) < 0 for rate in port_attributes['Rate'])\n",
    "\n",
    "        for i in range(len(port_attributes['Capacity'])):  # Assuming 'Capacity' is always present\n",
    "            rate = int(port_attributes['Rate'][i]) if 'Rate' in port_attributes else 0\n",
    "            isLoading = 1 if rate > 0 else -1  # Loading port if rate is positive\n",
    "\n",
    "            port = Port(\n",
    "                capacity=int(port_attributes['Capacity'][i]),\n",
    "                inventory=int(port_attributes['Inventory'][i]) if 'Inventory' in port_attributes else None,\n",
    "                rate=abs(rate),\n",
    "                price=int(port_attributes['Price'][i]) if 'Price' in port_attributes and port_attributes['Price'] else None,\n",
    "                berth_limit=int(port_attributes['BerthLimit'][i]) if 'BerthLimit' in port_attributes else None,\n",
    "                port_fee=int(port_attributes['PortFee'][i]) if 'PortFee' in port_attributes else None,\n",
    "                max_amount=int(port_attributes['maxAmt'][i]) if 'maxAmt' in port_attributes else None,\n",
    "                min_amount=int(port_attributes['minAmt'][i]) if 'minAmt' in port_attributes else None,\n",
    "                number=tot_num,  # Using 1 to numports+1 as the port number\n",
    "                isLoadingPort=isLoading)  # Determine loading port based on Rate value\n",
    "            region_ports.append(port)\n",
    "            tot_num += 1\n",
    "\n",
    "        all_ports[region] = region_ports\n",
    "\n",
    "        # Assign region to correct dictionary\n",
    "        if is_loading_region:\n",
    "            loading_regions[region] = region_ports\n",
    "        elif is_discharging_region:\n",
    "            discharging_regions[region] = region_ports\n",
    "\n",
    "    return all_ports, loading_regions, discharging_regions"
   ]
  },
  {
   "cell_type": "code",
   "execution_count": 15,
   "metadata": {},
   "outputs": [],
   "source": [
    "all_ports, loading_regions, discharging_regions = create_ports_from_info_with_loading(ports_info)"
   ]
  },
  {
   "cell_type": "code",
   "execution_count": null,
   "metadata": {},
   "outputs": [],
   "source": []
  },
  {
   "cell_type": "code",
   "execution_count": 16,
   "metadata": {},
   "outputs": [
    {
     "data": {
      "text/plain": [
       "[Port 1, Port 2, Port 3, Port 4, Port 5]"
      ]
     },
     "execution_count": 16,
     "metadata": {},
     "output_type": "execute_result"
    }
   ],
   "source": [
    "# Create a list of all ports\n",
    "ports = []\n",
    "for region, region_ports in all_ports.items():\n",
    "    ports.extend(region_ports)\n",
    "ports"
   ]
  },
  {
   "cell_type": "code",
   "execution_count": 17,
   "metadata": {},
   "outputs": [
    {
     "data": {
      "text/plain": [
       "[12]"
      ]
     },
     "execution_count": 17,
     "metadata": {},
     "output_type": "execute_result"
    }
   ],
   "source": [
    "metadata_from_content['numTermVesselsInClass']"
   ]
  },
  {
   "cell_type": "markdown",
   "metadata": {},
   "source": [
    "# INITIAL PARAMETERS\n",
    "\n",
    "All parameters should be set below"
   ]
  },
  {
   "cell_type": "code",
   "execution_count": 18,
   "metadata": {},
   "outputs": [],
   "source": [
    "\n",
    "# Time periods\n",
    "NUM_TIME_PERIODS = 45\n",
    "metadata_from_content['numPeriods'] = NUM_TIME_PERIODS\n",
    "TIME_PERIOD_RANGE = list(range(1, NUM_TIME_PERIODS+1))\n",
    "\n",
    "# Number of vessels\n",
    "ORIGINAL_NUM_VESSELS = metadata_from_content['numTermVesselsInClass'][0]\n",
    "NUM_VESSELS = 5\n",
    "\n",
    "# Speed interval\n",
    "MAX_SPEED = 15\n",
    "MIN_SPEED = 8\n",
    "OPERATING_SPEED = 14\n",
    "\n",
    "# Operating cost\n",
    "OPERATING_COST = 200\n",
    "\n",
    "# Waiting cost\n",
    "WAITING_COST = 50\n",
    "\n",
    "# Fuel price in USD per ton\n",
    "FUEL_PRICE = 500\n",
    "\n",
    "#Numper of ports\n",
    "ORIGINAL_NUM_PORTS = len(ports)\n",
    "\n",
    "'''HUSK Å ENDE NUM LOADING PORTS FOR SISTE INSTANS'''\n",
    "NUM_LOADING_PORTS = 1\n",
    "NUM_PORTS = 3\n",
    "\n",
    "EBS = 0.01\n"
   ]
  },
  {
   "cell_type": "code",
   "execution_count": 19,
   "metadata": {},
   "outputs": [],
   "source": [
    "def parse_vessel_table(content):\n",
    "    # Extract the vessel table section\n",
    "    start_index = content.index(\"----- Vessel Table ----\") + len(\"----- Vessel Table ----\")\n",
    "    end_index = content.find(\"-----\", start_index)  # Find the next section separator\n",
    "    vessel_section = content[start_index:end_index].strip().split(\"\\n\")[1:]  # Exclude the header line\n",
    "\n",
    "    vessels = {}\n",
    "    class_0_capacity = None\n",
    "\n",
    "    # Extract vessel attributes\n",
    "    for line in vessel_section:\n",
    "        if \"Note:\" not in line:  # Exclude the note lines\n",
    "            attribute, *values = line.split()\n",
    "            vessels[attribute] = values\n",
    "\n",
    "    # Find indices of Class 0 vessels\n",
    "    class_0_indices = [i for i, v in enumerate(vessels.get(\"Class\", [])) if v == \"0\"]\n",
    "\n",
    "    # Extract the capacity for Class 0 vessels\n",
    "    if class_0_indices:\n",
    "        class_0_capacity_index = class_0_indices[0]\n",
    "        class_0_capacity = int(vessels.get(\"Capacity\", [])[class_0_capacity_index])\n",
    "\n",
    "    return vessels, class_0_capacity"
   ]
  },
  {
   "cell_type": "code",
   "execution_count": 20,
   "metadata": {},
   "outputs": [
    {
     "data": {
      "text/plain": [
       "({'Type': ['Term',\n",
       "   'Term',\n",
       "   'Term',\n",
       "   'Term',\n",
       "   'Term',\n",
       "   'Term',\n",
       "   'Term',\n",
       "   'Term',\n",
       "   'Term',\n",
       "   'Term',\n",
       "   'Term',\n",
       "   'Term'],\n",
       "  'Class': ['0', '0', '0', '0', '1', '1', '1', '1', '2', '2', '2', '2'],\n",
       "  'Capacity': ['300',\n",
       "   '300',\n",
       "   '300',\n",
       "   '300',\n",
       "   '250',\n",
       "   '250',\n",
       "   '250',\n",
       "   '250',\n",
       "   '200',\n",
       "   '200',\n",
       "   '200',\n",
       "   '200']},\n",
       " 300)"
      ]
     },
     "execution_count": 20,
     "metadata": {},
     "output_type": "execute_result"
    }
   ],
   "source": [
    "\n",
    "# Extracting the vessel dictionary and the capacity for Class 0 vessels\n",
    "vessels_info, VESSEL_CAP = parse_vessel_table(content)\n",
    "(vessels_info, VESSEL_CAP)\n"
   ]
  },
  {
   "cell_type": "code",
   "execution_count": 21,
   "metadata": {},
   "outputs": [],
   "source": [
    "# Create a dictionary with key = vessel class and value = vessel object\n",
    "vessels = {}\n",
    "tot = 1\n",
    "for vessel_class in range(metadata_from_content['numVesselClasses']):\n",
    "    vessel_list = []\n",
    "    vessels_in_class = metadata_from_content['numTermVesselsInClass'][vessel_class]\n",
    "    for i in range(vessels_in_class):\n",
    "        if int(vessel_data['Vessel_'+str(i)]['Initial Inventory'])>0:\n",
    "            init_inventory = VESSEL_CAP\n",
    "        else:\n",
    "            init_inventory = 0\n",
    "            \n",
    "        vessel_list.append(Vessel(\n",
    "            max_inventory= VESSEL_CAP,\n",
    "            initial_inventory= init_inventory,\n",
    "            max_operating_quantity=VESSEL_CAP,\n",
    "            number=tot\n",
    "        ))\n",
    "        tot += 1\n",
    "    vessels[vessel_class] = vessel_list\n",
    "\n",
    "# We only have one vessel class. Convert the dictionary to a list\n",
    "vessels = vessels[0]\n"
   ]
  },
  {
   "cell_type": "code",
   "execution_count": 22,
   "metadata": {},
   "outputs": [
    {
     "name": "stdout",
     "output_type": "stream",
     "text": [
      "Vessel 1: Max Inventory = 300, Inventory = 0, Max Operating Quantity = 300\n",
      "Vessel 2: Max Inventory = 300, Inventory = 300, Max Operating Quantity = 300\n",
      "Vessel 3: Max Inventory = 300, Inventory = 300, Max Operating Quantity = 300\n",
      "Vessel 4: Max Inventory = 300, Inventory = 0, Max Operating Quantity = 300\n",
      "Vessel 5: Max Inventory = 300, Inventory = 300, Max Operating Quantity = 300\n",
      "Vessel 6: Max Inventory = 300, Inventory = 0, Max Operating Quantity = 300\n",
      "Vessel 7: Max Inventory = 300, Inventory = 300, Max Operating Quantity = 300\n",
      "Vessel 8: Max Inventory = 300, Inventory = 0, Max Operating Quantity = 300\n",
      "Vessel 9: Max Inventory = 300, Inventory = 300, Max Operating Quantity = 300\n",
      "Vessel 10: Max Inventory = 300, Inventory = 0, Max Operating Quantity = 300\n",
      "Vessel 11: Max Inventory = 300, Inventory = 0, Max Operating Quantity = 300\n",
      "Vessel 12: Max Inventory = 300, Inventory = 0, Max Operating Quantity = 300\n"
     ]
    }
   ],
   "source": [
    "for v in vessels:\n",
    "    print(v.__repr2__())"
   ]
  },
  {
   "cell_type": "markdown",
   "metadata": {},
   "source": [
    "### Creating the nodes"
   ]
  },
  {
   "cell_type": "code",
   "execution_count": 23,
   "metadata": {},
   "outputs": [],
   "source": [
    "# Create the regular nodes\n",
    "regularNodes = []\n",
    "for t in range(1, NUM_TIME_PERIODS+1):\n",
    "    for port in ports:\n",
    "        node = Node(port=port, time=t)\n",
    "        regularNodes.append(node)\n",
    "    \n",
    "# Create fictional source and sink port\n",
    "sourcePort = Port(capacity=None, inventory=None, rate=None, price=None, berth_limit=len(vessels), port_fee=0, max_amount=None, min_amount=None, number=0, isLoadingPort=True)\n",
    "sinkPort = Port(capacity=None, inventory=None, rate=None, price=None, berth_limit=len(vessels), port_fee=0, max_amount=None, min_amount=None, number=len(ports)+1, isLoadingPort=False)\n",
    "\n",
    "# Create source and sink node\n",
    "sourceNode = Node(port=sourcePort, time=0)\n",
    "sinkNode = Node(port=sinkPort, time=NUM_TIME_PERIODS+1)\n",
    "\n",
    "NODES = [sourceNode] + regularNodes + [sinkNode]\n",
    "\n",
    "# Create a node dictionary with key = (port, time) tuple and value = node object\n",
    "NODE_DICT = {}\n",
    "for node in NODES:\n",
    "    NODE_DICT[node.tuple] = node"
   ]
  },
  {
   "cell_type": "markdown",
   "metadata": {},
   "source": [
    "### Read in arc data"
   ]
  },
  {
   "cell_type": "code",
   "execution_count": 24,
   "metadata": {},
   "outputs": [
    {
     "data": {
      "text/plain": [
       "[[0.0, 7083.82, 7725.2, 7446.65, 7571.48],\n",
       " [7083.82, 0.0, 750.08, 363.99, 504.05],\n",
       " [7725.2, 750.08, 0.0, 461.81, 309.79],\n",
       " [7446.65, 363.99, 461.81, 0.0, 160.33],\n",
       " [7571.48, 504.05, 309.79, 160.33, 0.0]]"
      ]
     },
     "execution_count": 24,
     "metadata": {},
     "output_type": "execute_result"
    }
   ],
   "source": [
    "def parse_full_distance_matrix(content):\n",
    "    # Extract the full distance matrix section\n",
    "    start_str = \"----- FullDistanceMatrix ----\"\n",
    "    start_index = content.index(start_str) + len(start_str)\n",
    "    end_index = content.find(\"-----\", start_index)  # Find the next section separator\n",
    "    matrix_section = content[start_index:end_index].strip().split(\"\\n\")[2:]  # Exclude the header lines\n",
    "    \n",
    "    # Convert the matrix section to a 2D list of distances\n",
    "    distances = []\n",
    "    for line in matrix_section:\n",
    "        try:\n",
    "            distance_row = list(map(float, line.split()[1:]))  # Excluding the leading port number\n",
    "            distances.append(distance_row)\n",
    "        except ValueError:\n",
    "            continue\n",
    "    \n",
    "    return distances\n",
    "\n",
    "# Extracting the full distance matrix from the file content\n",
    "full_distance_matrix = parse_full_distance_matrix(content)\n",
    "full_distance_matrix"
   ]
  },
  {
   "cell_type": "code",
   "execution_count": 25,
   "metadata": {},
   "outputs": [],
   "source": [
    "FULL_DISTANCE_MATRIX = full_distance_matrix"
   ]
  },
  {
   "cell_type": "code",
   "execution_count": 26,
   "metadata": {},
   "outputs": [],
   "source": [
    "# Convert full_distance_matrix from km to nautical miles\n",
    "def km_to_nautical_miles(km):\n",
    "    return km / 1.852"
   ]
  },
  {
   "cell_type": "code",
   "execution_count": 27,
   "metadata": {},
   "outputs": [],
   "source": [
    "def convert_matrix_to_nautical_miles(matrix):\n",
    "    return [[km_to_nautical_miles(distance) for distance in row] for row in matrix]"
   ]
  },
  {
   "cell_type": "code",
   "execution_count": 28,
   "metadata": {},
   "outputs": [
    {
     "data": {
      "text/plain": [
       "[[0.0,\n",
       "  3824.9568034557233,\n",
       "  4171.274298056155,\n",
       "  4020.869330453563,\n",
       "  4088.2721382289415],\n",
       " [3824.9568034557233,\n",
       "  0.0,\n",
       "  405.0107991360691,\n",
       "  196.5388768898488,\n",
       "  272.1652267818574],\n",
       " [4171.274298056155,\n",
       "  405.0107991360691,\n",
       "  0.0,\n",
       "  249.35745140388767,\n",
       "  167.2732181425486],\n",
       " [4020.869330453563,\n",
       "  196.5388768898488,\n",
       "  249.35745140388767,\n",
       "  0.0,\n",
       "  86.57127429805615],\n",
       " [4088.2721382289415,\n",
       "  272.1652267818574,\n",
       "  167.2732181425486,\n",
       "  86.57127429805615,\n",
       "  0.0]]"
      ]
     },
     "execution_count": 28,
     "metadata": {},
     "output_type": "execute_result"
    }
   ],
   "source": [
    "full_distance_matrix_nm = convert_matrix_to_nautical_miles(FULL_DISTANCE_MATRIX)\n",
    "full_distance_matrix_nm"
   ]
  },
  {
   "cell_type": "code",
   "execution_count": 29,
   "metadata": {},
   "outputs": [],
   "source": [
    "def fuel_consumption_speed_nm(speed, nautical_miles):\n",
    "    \"\"\"\n",
    "    Calculate the fuel consumption based on speed and nautical miles.\n",
    "\n",
    "    Args:\n",
    "    - speed (float): Speed of the vessel in knots.\n",
    "    - nautical miles (float): .\n",
    "\n",
    "    Returns:\n",
    "    - float: Fuel consumption in tons.\n",
    "    \"\"\"\n",
    "    return  (0.15*14 * (speed / 14) ** 3) * nautical_miles/speed\n",
    "    \n",
    "\n",
    "def calc_cost(fuel_consumption):\n",
    "    \"\"\"\n",
    "    Calculate the cost based on fuel consumption.\n",
    "\n",
    "    Args:\n",
    "    - fuel_consumption (float): Fuel consumption in tons.\n",
    "\n",
    "    Returns:\n",
    "    - float: Cost in USD.\n",
    "    \"\"\"\n",
    "    return fuel_consumption * FUEL_PRICE\n",
    "\n",
    "# Function to calculate discrete max speed based on distance and global max speed\n",
    "def calculate_minimum_timesteps_and_speed(distance_nm):\n",
    "    \"\"\"\n",
    "    Determine the minimum timesteps and speed based on distance and max speed.\n",
    "\n",
    "    Args:\n",
    "    - distance_nm (float): Distance in nautical miles.\n",
    "    - MAX_SPEED (float): Maximum speed in knots.\n",
    "    - MIN_SPEED (float): Minimum speed in knots.\n",
    "\n",
    "    Returns:\n",
    "    - tuple: Minimum timesteps and speed.\n",
    "    \"\"\"\n",
    "    hours = distance_nm / MAX_SPEED\n",
    "    minimum_timesteps = math.ceil(hours / 24)\n",
    "    speed = distance_nm / (minimum_timesteps * 24)\n",
    "    return minimum_timesteps, max(speed, MIN_SPEED)\n",
    "\n",
    "# Function to calculate discrete max speed based on distance and global max speed\n",
    "def calculate_minimum_timesteps_with_fixed_speed(distance_nm):\n",
    "    \"\"\"\n",
    "    Determine the minimum timesteps and speed based on distance and operating speed.\n",
    "\n",
    "    Args:\n",
    "    - distance_nm (float): Distance in nautical miles.\n",
    "    - operating_speed (float): Operating speed in knots.\n",
    "\n",
    "    Returns:\n",
    "    - tuple: Minimum timesteps and operating speed.\n",
    "    \"\"\"\n",
    "    hours = distance_nm / OPERATING_SPEED\n",
    "    minimum_timesteps = math.ceil(hours / 24)\n",
    "    # The speed will be operating speed no matter what, but we will round up the timesteps\n",
    "    return minimum_timesteps, OPERATING_SPEED\n",
    "    \n",
    "# Based on rounded_hours and speed calculate the next speeds\n",
    "# Creates a list with all the information needed to create the arc.\n",
    "def create_arc_info(speed, minimum_timesteps, departure, origin_port, destination_port, lowest_speed, distance_to_port, vessel, is_waiting_arc):\n",
    "    # Create a list of tuples with the speed and the time period\n",
    "    '''arc_info: (speed in knots, timesteps for sailing, time period of departure, time period of arrival, origin port, destination port, fuel_consumption)'''\n",
    "    \n",
    "    arrival_time = departure + minimum_timesteps\n",
    "    if arrival_time > NUM_TIME_PERIODS:\n",
    "        return None\n",
    "    if is_waiting_arc:\n",
    "        fuel_consumption = 0\n",
    "        arc_info = [(speed, 1, departure, departure + minimum_timesteps, origin_port, destination_port, fuel_consumption, distance_to_port, vessel, is_waiting_arc)]\n",
    "    else:\n",
    "        fuel_consumption = fuel_consumption_speed_nm(speed=speed, nautical_miles=distance_to_port)\n",
    "        arc_info = [(speed, minimum_timesteps, departure, departure + minimum_timesteps, origin_port, destination_port, fuel_consumption, distance_to_port, vessel, is_waiting_arc)]\n",
    "    \n",
    "        timesteps = minimum_timesteps+1\n",
    "        while True:\n",
    "            \n",
    "            # Calculate the next speed\n",
    "            speed = distance_to_port / ((timesteps)*24)\n",
    "            # If the speed is lower than the lowest speed, break the loop\n",
    "            if speed < lowest_speed:\n",
    "                break\n",
    "            fuel_consumption = fuel_consumption_speed_nm(speed=speed, nautical_miles=distance_to_port)\n",
    "            arrival_time = departure + timesteps\n",
    "            # Otherwise, add the speed to the list\n",
    "            arc_info.append((speed, timesteps, departure, arrival_time, origin_port, destination_port, fuel_consumption, distance_to_port, vessel, is_waiting_arc))\n",
    "            # Increment the time period\n",
    "            timesteps += 1\n",
    "            arrival_time = departure + timesteps\n",
    "            if arrival_time > NUM_TIME_PERIODS:\n",
    "                break\n",
    "       \n",
    "    return arc_info\n",
    "\n",
    "\n",
    "# Based on rounded_hours and speed calculate the next speeds\n",
    "# Creates a list with all the information needed to create the arc.\n",
    "def create_arc_info_fixed_speed(speed, minimum_timesteps, departure, arrival_time, origin_port, destination_port, distance_to_port, vessel, is_waiting_arc):\n",
    "    # Create a list of tuples with the speed and the time period\n",
    "    '''arc_info: (speed in knots, timesteps for sailing, time period of departure, time period of arrival, origin port, destination port, fuel_consumption)'''\n",
    "    \n",
    "    if arrival_time > NUM_TIME_PERIODS:\n",
    "        return None\n",
    "    if is_waiting_arc:\n",
    "        fuel_consumption = 0\n",
    "        arc_info = [(speed, 1, departure, departure + minimum_timesteps, origin_port, destination_port, fuel_consumption, distance_to_port, vessel, is_waiting_arc)]\n",
    "    else:\n",
    "        fuel_consumption = fuel_consumption_speed_nm(speed=speed, nautical_miles=distance_to_port)\n",
    "        arc_info = [(speed, minimum_timesteps, departure, arrival_time, origin_port, destination_port, fuel_consumption, distance_to_port, vessel, is_waiting_arc)]\n",
    "       \n",
    "    return arc_info\n",
    "        "
   ]
  },
  {
   "cell_type": "markdown",
   "metadata": {},
   "source": [
    "## Use vessel data to find starting positions for each vessel"
   ]
  },
  {
   "cell_type": "code",
   "execution_count": 30,
   "metadata": {},
   "outputs": [
    {
     "data": {
      "text/plain": [
       "{0: [Port 1]}"
      ]
     },
     "execution_count": 30,
     "metadata": {},
     "output_type": "execute_result"
    }
   ],
   "source": [
    "# For the keys in discharging_regions, change the key to index of the region starting with 0\n",
    "loading_regions_reidx = {}\n",
    "\n",
    "# Reassign keys\n",
    "for i, key in enumerate(loading_regions.keys()):\n",
    "    loading_regions_reidx[i] = loading_regions[key]\n",
    "    \n",
    "loading_regions_reidx"
   ]
  },
  {
   "cell_type": "code",
   "execution_count": 31,
   "metadata": {},
   "outputs": [
    {
     "data": {
      "text/plain": [
       "{0: [Port 2, Port 3, Port 4, Port 5]}"
      ]
     },
     "execution_count": 31,
     "metadata": {},
     "output_type": "execute_result"
    }
   ],
   "source": [
    "# For the keys in discharging_regions, change the key to index of the region starting with 0\n",
    "discharging_regions_reidx = {}\n",
    "\n",
    "# Reassign keys\n",
    "for i, key in enumerate(discharging_regions.keys()):\n",
    "    discharging_regions_reidx[i] = discharging_regions[key]\n",
    "    \n",
    "discharging_regions_reidx"
   ]
  },
  {
   "cell_type": "markdown",
   "metadata": {},
   "source": [
    "### Generate the information for the arcs from the source node to the ports.\n",
    "- We only get one arc for each vessel"
   ]
  },
  {
   "cell_type": "code",
   "execution_count": 32,
   "metadata": {},
   "outputs": [],
   "source": [
    "start_overview = {}\n",
    "\n",
    "for vessel in vessels:\n",
    "        \n",
    "    initial_port_str = vessel_data['Vessel_'+str(vessel.number-1)]['Initial Port']\n",
    "    region_index, port_index = int(initial_port_str.split('_')[1]), int(initial_port_str.split('_')[3])\n",
    "    \n",
    "    # Check whether the initial port is a loading port or a discharging port based on initial_port_str\n",
    "    if initial_port_str.startswith('Loading'):\n",
    "        continue\n",
    "    \n",
    "    else:\n",
    "        region_ports = discharging_regions_reidx[region_index]\n",
    "        initial_port = region_ports[int(port_index)]\n",
    "        \n",
    "        start_overview[initial_port] = start_overview[initial_port] + 1 if initial_port in start_overview else 1"
   ]
  },
  {
   "cell_type": "code",
   "execution_count": 33,
   "metadata": {},
   "outputs": [
    {
     "data": {
      "text/plain": [
       "{Port 2: 2, Port 5: 1, Port 4: 1, Port 3: 1}"
      ]
     },
     "execution_count": 33,
     "metadata": {},
     "output_type": "execute_result"
    }
   ],
   "source": [
    "for port in ports:\n",
    "    if port.isLoadingPort == 1:\n",
    "        continue\n",
    "    # if port not in start_overview:\n",
    "    #     start_overview[port] = 0\n",
    "        \n",
    "start_overview"
   ]
  },
  {
   "cell_type": "code",
   "execution_count": 34,
   "metadata": {},
   "outputs": [
    {
     "data": {
      "text/plain": [
       "{Port 5: 1, Port 4: 1}"
      ]
     },
     "execution_count": 34,
     "metadata": {},
     "output_type": "execute_result"
    }
   ],
   "source": [
    "# Remove all but the least busiest two ports, except if the number of starting vessels is 0\n",
    "\n",
    "\n",
    "start_overview = {k: v for k, v in sorted(start_overview.items(), key=lambda item: item[1])}\n",
    "start_overview = dict(list(start_overview.items())[:NUM_PORTS-NUM_LOADING_PORTS])\n",
    "start_overview"
   ]
  },
  {
   "cell_type": "code",
   "execution_count": 35,
   "metadata": {},
   "outputs": [
    {
     "data": {
      "text/plain": [
       "[Port 2, Port 3]"
      ]
     },
     "execution_count": 35,
     "metadata": {},
     "output_type": "execute_result"
    }
   ],
   "source": [
    "# ports to be removed are the ones that are not in start_overview and it is not a loading port\n",
    "ports_to_be_removed = [port for port in ports if port not in start_overview and port.isLoadingPort == -1]\n",
    "ports_to_be_removed"
   ]
  },
  {
   "cell_type": "code",
   "execution_count": 36,
   "metadata": {},
   "outputs": [],
   "source": [
    "# '''HARDCODING instead of the block above'''\n",
    "\n",
    "# ports_to_be_removed = [ports[3]]\n",
    "# ports_to_be_removed"
   ]
  },
  {
   "cell_type": "code",
   "execution_count": 37,
   "metadata": {},
   "outputs": [],
   "source": [
    "# # Find the port with the most vessels starting there\n",
    "# busiest_dis_port = max(start_overview, key=start_overview.get)"
   ]
  },
  {
   "cell_type": "code",
   "execution_count": 38,
   "metadata": {},
   "outputs": [],
   "source": [
    "start_info={}"
   ]
  },
  {
   "cell_type": "code",
   "execution_count": 39,
   "metadata": {},
   "outputs": [],
   "source": [
    "# ports_to_be_removed = []\n",
    "# # Remove the last discharging port\n",
    "# ports_to_be_removed.append(busiest_dis_port)\n",
    "\n",
    "# ports_to_be_removed"
   ]
  },
  {
   "cell_type": "code",
   "execution_count": 40,
   "metadata": {},
   "outputs": [],
   "source": [
    "\n",
    "def generate_source_arc_info(sourceNode):\n",
    "    \n",
    "    source_arcs_info = []\n",
    "    \n",
    "    vessels_to_be_removed = []\n",
    "        \n",
    "    \n",
    "    for vessel in vessels:\n",
    "        \n",
    "        initial_port_str = vessel_data['Vessel_'+str(vessel.number-1)]['Initial Port']\n",
    "        region_index, port_index = int(initial_port_str.split('_')[1]), int(initial_port_str.split('_')[3])\n",
    "        \n",
    "        # Check whether the initial port is a loading port or a discharging port based on initial_port_str\n",
    "        if initial_port_str.startswith('Loading'):\n",
    "            region_ports = loading_regions_reidx[region_index]\n",
    "            initial_port = region_ports[int(port_index)]\n",
    "        \n",
    "        else:\n",
    "            region_ports = discharging_regions_reidx[region_index]\n",
    "            initial_port = region_ports[int(port_index)]\n",
    "            \n",
    "        # If the initial port in in the ports_to_be_removed list, we will not create any arcs for this vessel\n",
    "        if initial_port in ports_to_be_removed:\n",
    "            # We will remove the vessel later, and we will not create any arcs for either the vessel or the port_to_be_removed\n",
    "            vessels_to_be_removed.append(vessel)\n",
    "          \n",
    "        first_time_available = int(vessel_data['Vessel_'+str(vessel.number-1)]['First Time Available']+1)\n",
    "        \n",
    "        start_info[vessel] = NODE_DICT[(initial_port.number, first_time_available)]\n",
    "        \n",
    "        # Only create one arc from the source to the corresponding port and time pair\n",
    "        source_arcs_info_for_vessel = []\n",
    "        \n",
    "        speed = 0\n",
    "        \n",
    "        arc_info = [(speed, first_time_available, 0, first_time_available, sourceNode.port.number, initial_port.number, 0, 0, vessel, False)]\n",
    "        \n",
    "        source_arcs_info_for_vessel.append(arc_info)\n",
    "        \n",
    "        source_arcs_info.append(source_arcs_info_for_vessel)\n",
    "                \n",
    "    return source_arcs_info"
   ]
  },
  {
   "cell_type": "code",
   "execution_count": 41,
   "metadata": {},
   "outputs": [],
   "source": [
    "start_times = {vessel: vessel_data['Vessel_'+str(vessel.number-1)]['First Time Available']+1 for vessel in vessels}"
   ]
  },
  {
   "cell_type": "code",
   "execution_count": 42,
   "metadata": {},
   "outputs": [],
   "source": [
    "# Remove vessels so that we have the same number of vessels starting at the loading ports and discharging ports\n",
    "aomunt_starting_in_discharging = sum(start_overview.values())\n",
    "\n",
    "amount_starting_in_loading = len(vessels) - sum(start_overview.values())"
   ]
  },
  {
   "cell_type": "markdown",
   "metadata": {},
   "source": [
    "# Stage 1. OPERATING SPEED"
   ]
  },
  {
   "cell_type": "markdown",
   "metadata": {},
   "source": [
    "# Generate the arcs\n",
    "## Creating all source_arcs that uses operating speed\n",
    "\n",
    "* Need one arc from the source and to each node after the first one is reached."
   ]
  },
  {
   "cell_type": "code",
   "execution_count": 43,
   "metadata": {},
   "outputs": [],
   "source": [
    "def create_arcs_for_node(node, vessels, all_port_numbers, source_times, full_distance_matrix_nm):\n",
    "    node_arcs = []\n",
    "    \n",
    "    for vessel in vessels:\n",
    "        if node.port.number in [0, len(ports) + 1]:\n",
    "            continue\n",
    "\n",
    "        start_time = source_times[vessel]\n",
    "        if node.time < start_time:\n",
    "            continue\n",
    "\n",
    "        for destination_port_number in all_port_numbers:\n",
    "            if destination_port_number == node.port.number:\n",
    "                # Create waiting_arc\n",
    "                arc_info_matrix = create_arc_info(speed=0, minimum_timesteps=1, departure=node.time, origin_port=node.port.number, destination_port=destination_port_number, lowest_speed=0, distance_to_port=0, vessel=vessel, is_waiting_arc=True)\n",
    "                node_arcs.append(arc_info_matrix)\n",
    "            else:\n",
    "                distance_nm = full_distance_matrix_nm[node.port.number - 1][destination_port_number - 1]\n",
    "                minimum_timesteps, speed = calculate_minimum_timesteps_with_fixed_speed(distance_nm=distance_nm) #**\n",
    "                arrival_time = node.time + minimum_timesteps\n",
    "                \n",
    "                if arrival_time < source_times[vessel] or arrival_time > NUM_TIME_PERIODS:\n",
    "                    continue\n",
    "\n",
    "                arc_info_matrix = create_arc_info_fixed_speed(speed=speed, minimum_timesteps=minimum_timesteps, departure=node.time, arrival_time=arrival_time, origin_port=node.port.number, destination_port=destination_port_number, distance_to_port=distance_nm, vessel=vessel, is_waiting_arc=False)\n",
    "                node_arcs.append(arc_info_matrix)\n",
    "\n",
    "    return node_arcs"
   ]
  },
  {
   "cell_type": "code",
   "execution_count": 44,
   "metadata": {},
   "outputs": [],
   "source": [
    "def add_arcs_to_nodes(all_info):\n",
    "    arc_dict = {}\n",
    "    vessel_arcs = {}\n",
    "    waiting_arcs = {}\n",
    "\n",
    "    for sublist in all_info:\n",
    "        for subsublist in sublist:\n",
    "            if not subsublist:\n",
    "                continue\n",
    "                \n",
    "            for tuple_data in subsublist:\n",
    "                speed, timesteps, departure, arrival, origin_port_number, destination_port_number, fuel_consumption, distance_nm, vessel, is_waiting_arc = tuple_data\n",
    "                cost = calc_cost(fuel_consumption)\n",
    "                origin_node_obj = NODE_DICT.get((origin_port_number, departure))\n",
    "                destination_node_obj = NODE_DICT.get((destination_port_number, arrival))\n",
    "\n",
    "                if origin_node_obj and destination_node_obj and arrival <= NUM_TIME_PERIODS:\n",
    "                    arc = Arc(origin_node=origin_node_obj, destination_node=destination_node_obj, distance=distance_nm, cost=cost + WAITING_COST, travel_time=timesteps, speed=speed, is_waiting_arc=is_waiting_arc)\n",
    "                    origin_node_obj.outgoing_arcs.add(arc)\n",
    "                    destination_node_obj.incoming_arcs.add(arc)\n",
    "                    arc_dict[(origin_node_obj.tuple, destination_node_obj.tuple, vessel)] = arc\n",
    "                    \n",
    "                    if is_waiting_arc:\n",
    "                        waiting_arcs.setdefault(vessel, []).append(arc)\n",
    "                    vessel_arcs.setdefault(vessel, []).append(arc)\n",
    "\n",
    "    return arc_dict, vessel_arcs, waiting_arcs"
   ]
  },
  {
   "cell_type": "code",
   "execution_count": 45,
   "metadata": {},
   "outputs": [],
   "source": [
    "# Generate the information for the source arcs\n",
    "source_arcs_info = generate_source_arc_info(sourceNode)"
   ]
  },
  {
   "cell_type": "code",
   "execution_count": 46,
   "metadata": {},
   "outputs": [],
   "source": [
    "all_info = source_arcs_info.copy()\n",
    "\n",
    "for vessel in vessels:\n",
    "    arcs_for_current_vessel = [create_arcs_for_node(node, [vessel], [port.number for port in ports], start_times, full_distance_matrix_nm) for node in NODE_DICT.values()]\n",
    "    all_info.extend(arcs_for_current_vessel)\n",
    "    \n",
    "arc_dict, vessel_arcs, waiting_arcs = add_arcs_to_nodes(all_info)"
   ]
  },
  {
   "cell_type": "code",
   "execution_count": 47,
   "metadata": {},
   "outputs": [],
   "source": [
    "def add_arc_to_dict(origin, destination, vessel, arc_dict, vessel_arcs):\n",
    "    \"\"\"Helper function to add arc to dictionaries and nodes.\"\"\"\n",
    "    arc = Arc(origin_node=origin, destination_node=destination, distance=0, cost=0, travel_time=0, speed=0, is_waiting_arc=False)\n",
    "    origin.outgoing_arcs.add(arc)\n",
    "    destination.incoming_arcs.add(arc)\n",
    "    arc_dict[(origin.tuple, destination.tuple, vessel)] = arc\n",
    "    vessel_arcs.setdefault(vessel, []).append(arc)\n",
    "    return arc_dict, vessel_arcs"
   ]
  },
  {
   "cell_type": "code",
   "execution_count": 48,
   "metadata": {},
   "outputs": [],
   "source": [
    "def create_sink_arcs(vessels, sinkNode, source_times, arc_dict, vessel_arcs):\n",
    "    for vessel in vessels:\n",
    "        # Arc from source node to sink node\n",
    "        arc_dict, vessel_arcs = add_arc_to_dict(sourceNode, sinkNode, vessel, arc_dict, vessel_arcs)\n",
    "        \n",
    "        # Arcs from other nodes to sink node\n",
    "        for node in NODE_DICT.values():\n",
    "            if node.port.number not in [0, len(ports) + 1] and node.time >= source_times[vessel]:\n",
    "                arc_dict, vessel_arcs = add_arc_to_dict(node, sinkNode, vessel, arc_dict, vessel_arcs)\n",
    "    \n",
    "    return arc_dict, vessel_arcs"
   ]
  },
  {
   "cell_type": "code",
   "execution_count": 49,
   "metadata": {},
   "outputs": [],
   "source": [
    "# After calling add_arcs_to_nodes:\n",
    "arc_dict, vessel_arcs, waiting_arcs = add_arcs_to_nodes(all_info)\n",
    "\n",
    "# Then call create_sink_arcs with the returned arc_dict and vessel_arcs:\n",
    "arc_dict, vessel_arcs = create_sink_arcs(vessels, sinkNode, start_times, arc_dict, vessel_arcs)"
   ]
  },
  {
   "cell_type": "markdown",
   "metadata": {},
   "source": [
    "### FIXATE NUMBER OF VESSELS AND PORTS"
   ]
  },
  {
   "cell_type": "code",
   "execution_count": 50,
   "metadata": {},
   "outputs": [
    {
     "data": {
      "text/plain": [
       "{Vessel 1: (1, 8),\n",
       " Vessel 2: (2, 5),\n",
       " Vessel 3: (2, 9),\n",
       " Vessel 4: (1, 6),\n",
       " Vessel 5: (5, 6),\n",
       " Vessel 6: (1, 13),\n",
       " Vessel 7: (4, 2),\n",
       " Vessel 8: (1, 7),\n",
       " Vessel 9: (3, 1),\n",
       " Vessel 10: (1, 4),\n",
       " Vessel 11: (1, 11),\n",
       " Vessel 12: (1, 2)}"
      ]
     },
     "execution_count": 50,
     "metadata": {},
     "output_type": "execute_result"
    }
   ],
   "source": [
    "start_info"
   ]
  },
  {
   "cell_type": "markdown",
   "metadata": {},
   "source": [
    "### Find vessels we can remove"
   ]
  },
  {
   "cell_type": "code",
   "execution_count": 51,
   "metadata": {},
   "outputs": [
    {
     "data": {
      "text/plain": [
       "5"
      ]
     },
     "execution_count": 51,
     "metadata": {},
     "output_type": "execute_result"
    }
   ],
   "source": [
    "NUM_VESSELS\n"
   ]
  },
  {
   "cell_type": "code",
   "execution_count": 52,
   "metadata": {},
   "outputs": [],
   "source": [
    "# Loop through all the ports and vessels and keep one vessel for each of the ports depending on whether the vessel starts in that port\n",
    "vessels_to_remove = []\n",
    "\n",
    "for vessel in vessels:\n",
    "    if start_info[vessel].port in ports_to_be_removed:\n",
    "        vessels_to_remove.append(vessel)"
   ]
  },
  {
   "cell_type": "code",
   "execution_count": 53,
   "metadata": {},
   "outputs": [
    {
     "data": {
      "text/plain": [
       "[Vessel 2, Vessel 3, Vessel 9]"
      ]
     },
     "execution_count": 53,
     "metadata": {},
     "output_type": "execute_result"
    }
   ],
   "source": [
    "vessels_to_remove"
   ]
  },
  {
   "cell_type": "code",
   "execution_count": 54,
   "metadata": {},
   "outputs": [],
   "source": [
    "# Create a list of all vessels starting in a loading port\n",
    "vessels_starting_in_loading = [vessel for vessel in vessels if start_info[vessel].port.isLoadingPort == 1]"
   ]
  },
  {
   "cell_type": "code",
   "execution_count": 55,
   "metadata": {},
   "outputs": [
    {
     "data": {
      "text/plain": [
       "[Vessel 2, Vessel 3, Vessel 9, Vessel 6, Vessel 11, Vessel 1, Vessel 8]"
      ]
     },
     "execution_count": 55,
     "metadata": {},
     "output_type": "execute_result"
    }
   ],
   "source": [
    "num_vessels_kept = len(vessels)-len(vessels_to_remove)\n",
    "while num_vessels_kept > NUM_VESSELS:\n",
    "    # Remove one vessel from the loading ports. Starting with the one with latest start time\n",
    "    latest_start_time = max([start_times[vessel] for vessel in vessels_starting_in_loading])\n",
    "    vessel_to_remove = [vessel for vessel in vessels_starting_in_loading if start_times[vessel] == latest_start_time][0]\n",
    "    vessels_to_remove.append(vessel_to_remove)\n",
    "    vessels_starting_in_loading.remove(vessel_to_remove)\n",
    "    num_vessels_kept = len(vessels)-len(vessels_to_remove)\n",
    "\n",
    "vessels_to_remove"
   ]
  },
  {
   "cell_type": "code",
   "execution_count": 56,
   "metadata": {},
   "outputs": [
    {
     "data": {
      "text/plain": [
       "[Vessel 1, Vessel 2, Vessel 3, Vessel 4, Vessel 6, Vessel 8, Vessel 9]"
      ]
     },
     "execution_count": 56,
     "metadata": {},
     "output_type": "execute_result"
    }
   ],
   "source": [
    "vessels_to_remove = [vessels[0], vessels[1], vessels[2], vessels[3], vessels[5], vessels[7], vessels[8]]\n",
    "vessels_to_remove"
   ]
  },
  {
   "cell_type": "code",
   "execution_count": 57,
   "metadata": {},
   "outputs": [],
   "source": [
    "# loading_ports = [port for port in ports if port.isLoadingPort==1]\n",
    "# discharging_ports = [port for port in ports if port.isLoadingPort==-1]\n",
    "\n",
    "# vessels_starting_in_loading = [vessel for vessel in vessels if start_info[vessel].port in loading_ports]\n",
    "\n",
    "# if len(vessels_starting_in_loading) > len(discharging_ports) - len(ports_to_be_removed):\n",
    "#     # Should ensure that we have NUM_VESSELS in the remaning vessels\n",
    "#     num_to_remove = len(vessels_starting_in_loading) - (len(discharging_ports) - len(ports_to_be_removed)) - 1\n",
    "#     vessels_to_remove.extend(vessels_starting_in_loading[:max(num_to_remove)])"
   ]
  },
  {
   "cell_type": "markdown",
   "metadata": {},
   "source": [
    "### Adjust the arcs accordingly"
   ]
  },
  {
   "cell_type": "code",
   "execution_count": 58,
   "metadata": {},
   "outputs": [],
   "source": [
    "\n",
    "# Remove all arcs from vessel_arcs that have destination port or origin port as the port to be removed\n",
    "for vessel in vessels:\n",
    "    for arc in vessel_arcs[vessel]:\n",
    "        if arc.origin_node.port in ports_to_be_removed or arc.destination_node.port in ports_to_be_removed:\n",
    "            arc.origin_node.outgoing_arcs.remove(arc)\n",
    "            arc.destination_node.incoming_arcs.remove(arc)\n",
    "            del arc_dict[(arc.origin_node.tuple, arc.destination_node.tuple, vessel)]\n",
    "    vessel_arcs[vessel] = [arc for arc in vessel_arcs[vessel] if arc.origin_node.port not in ports_to_be_removed and arc.destination_node.port not in ports_to_be_removed]\n",
    "    \n",
    "    \n",
    "# Remove all arcs that have the vessel that we want to remove\n",
    "for vessel in vessels_to_remove:\n",
    "    for arc in vessel_arcs[vessel]:\n",
    "        arc.origin_node.outgoing_arcs.remove(arc)\n",
    "        arc.destination_node.incoming_arcs.remove(arc)\n",
    "        del arc_dict[(arc.origin_node.tuple, arc.destination_node.tuple, vessel)]\n",
    "    del vessel_arcs[vessel]\n"
   ]
  },
  {
   "cell_type": "markdown",
   "metadata": {},
   "source": [
    "### Adjust the vessels"
   ]
  },
  {
   "cell_type": "code",
   "execution_count": 59,
   "metadata": {},
   "outputs": [],
   "source": [
    "vessels = [vessel for vessel in vessels if vessel not in vessels_to_remove]"
   ]
  },
  {
   "cell_type": "code",
   "execution_count": 60,
   "metadata": {},
   "outputs": [
    {
     "data": {
      "text/plain": [
       "[Vessel 5, Vessel 7, Vessel 10, Vessel 11, Vessel 12]"
      ]
     },
     "execution_count": 60,
     "metadata": {},
     "output_type": "execute_result"
    }
   ],
   "source": [
    "vessels"
   ]
  },
  {
   "cell_type": "markdown",
   "metadata": {},
   "source": [
    "### Adjust the ports"
   ]
  },
  {
   "cell_type": "code",
   "execution_count": 61,
   "metadata": {},
   "outputs": [
    {
     "data": {
      "text/plain": [
       "[Port 1, Port 4, Port 5]"
      ]
     },
     "execution_count": 61,
     "metadata": {},
     "output_type": "execute_result"
    }
   ],
   "source": [
    "loading_ports = [port for port in ports if port.isLoadingPort==1]\n",
    "\n",
    "# Remove ports_to_be_removed from ports\n",
    "ports = [port for port in ports if port not in ports_to_be_removed]\n",
    "\n",
    "# Sum the rate for the ports that are removed\n",
    "lost_consumption = sum([port.rate for port in ports_to_be_removed])\n",
    "\n",
    "\n",
    "# Substract the lost consumption from the loading ports\n",
    "for port in loading_ports:\n",
    "    port.rate -= lost_consumption/len(loading_ports)\n",
    "    \n",
    "ports"
   ]
  },
  {
   "cell_type": "markdown",
   "metadata": {},
   "source": [
    "# CHECK INSTANCE (PORTS AND VESSELS)\n"
   ]
  },
  {
   "cell_type": "code",
   "execution_count": 62,
   "metadata": {},
   "outputs": [],
   "source": [
    "#Check"
   ]
  },
  {
   "cell_type": "markdown",
   "metadata": {},
   "source": [
    "### Adjust the nodes"
   ]
  },
  {
   "cell_type": "code",
   "execution_count": 63,
   "metadata": {},
   "outputs": [],
   "source": [
    "# Remove all the nodes for the port to be removed\n",
    "nodes_to_remove = []\n",
    "\n",
    "for node in NODES:\n",
    "    if node.port in ports_to_be_removed:\n",
    "        del NODE_DICT[node.tuple]\n",
    "        nodes_to_remove.append(node)\n",
    "        \n",
    "NODES = [node for node in NODES if node not in nodes_to_remove]\n",
    "regularNodes = [node for node in regularNodes if node not in nodes_to_remove]\n"
   ]
  },
  {
   "cell_type": "markdown",
   "metadata": {},
   "source": [
    "## Visualize the network for a given vessel"
   ]
  },
  {
   "cell_type": "code",
   "execution_count": 64,
   "metadata": {},
   "outputs": [],
   "source": [
    "def visualize_network_for_vessel(vessel, vessel_arcs, drop_sink_arcs):\n",
    "    # Create a directed graph\n",
    "    G = nx.DiGraph()\n",
    "\n",
    "    # Add nodes to the graph\n",
    "    for node in NODES:\n",
    "        G.add_node(str(node.tuple))\n",
    "\n",
    "    # Add edges (arcs) to the graph\n",
    "    for arc in vessel_arcs[vessel]:\n",
    "        # If the arc goes to the sink node, skip it\n",
    "        if drop_sink_arcs and arc.destination_node == sinkNode:\n",
    "            continue\n",
    "        G.add_edge(str(arc.origin_node.tuple), str(arc.destination_node.tuple))\n",
    "\n",
    "    # Determine NODES with incoming and outgoing arcs\n",
    "    nodes_with_incoming_arcs = [node for node, degree in G.in_degree() if degree > 0]\n",
    "    nodes_with_outgoing_arcs = [node for node, degree in G.out_degree() if degree > 0]\n",
    "\n",
    "    # Create a list to hold node colors\n",
    "    node_colors = []\n",
    "    for node in G.nodes():\n",
    "        if node in nodes_with_incoming_arcs or node in nodes_with_outgoing_arcs:\n",
    "            node_colors.append('green')  # Color for nodes with arcs\n",
    "        else:\n",
    "            node_colors.append('skyblue')  # Default color\n",
    "\n",
    "    # Resetting the y_offset and y_spacing\n",
    "    y_offset = 10\n",
    "    y_spacing = -30  # Increase vertical spacing for better clarity\n",
    "\n",
    "    # Manually specify the positions for each node\n",
    "    pos = {}\n",
    "\n",
    "    # Manually set the position for the source and sink nodes\n",
    "    # pos[\"(0, 0)\"] = (0, 0)  # Positioning source node at leftmost, middle height\n",
    "    # pos[\"(5, 5)\"] = (5 * 10, 0)  # Positioning sink node at rightmost, middle height\n",
    "\n",
    "    for node in NODES:\n",
    "        # Skip setting position for source and sink nodes\n",
    "        # if str(node.tuple) in [\"(0, 0)\", \"(5, 5)\"]:\n",
    "        #     continue\n",
    "        port_index = node.port.number  # Get port number to determine y-coordinate\n",
    "        # The x-coordinate is based on time, the y-coordinate is fixed for nodes with the same port\n",
    "        pos[str(node.tuple)] = (node.time * 10, port_index * y_spacing)  # Multiplying time by 10 for better horizontal spacing\n",
    "\n",
    "    # Drawing the graph using the adjusted positions\n",
    "    plt.figure(figsize=(15, 10))\n",
    "    nx.draw(G, pos, with_labels=True, node_size=2000, node_color=node_colors, font_size=10)\n",
    "    labels = nx.get_edge_attributes(G, 'weight')\n",
    "    nx.draw_networkx_edge_labels(G, pos, edge_labels=labels)\n",
    "    plt.title(\"Nodes and Arcs Graph\")\n",
    "    plt.show()"
   ]
  },
  {
   "cell_type": "code",
   "execution_count": 65,
   "metadata": {},
   "outputs": [],
   "source": [
    "# for v in vessels:\n",
    "#     visualize_network_for_vessel(v, vessel_arcs, True)"
   ]
  },
  {
   "cell_type": "code",
   "execution_count": 66,
   "metadata": {},
   "outputs": [],
   "source": [
    "def find_earliest_visits_from_start(filtered_arcs, start_node):\n",
    "    # Dictionary to store the earliest visit time for each port\n",
    "    earliest_visits = {}\n",
    "\n",
    "    # Filter arcs to include only those originating from the start node\n",
    "    outgoing_arcs = [arc for arc in filtered_arcs if arc.origin_node == start_node]\n",
    "\n",
    "    # Iterate through the outgoing arcs\n",
    "    for arc in outgoing_arcs:\n",
    "        dest_port = arc.destination_node.port\n",
    "        dest_time = arc.destination_node.time\n",
    "\n",
    "        # Update the earliest visit time for each destination port\n",
    "        if dest_port not in earliest_visits or dest_time < earliest_visits[dest_port]:\n",
    "            earliest_visits[dest_port] = dest_time\n",
    "\n",
    "    return earliest_visits"
   ]
  },
  {
   "cell_type": "code",
   "execution_count": 67,
   "metadata": {},
   "outputs": [],
   "source": [
    "earliest_visits = {}\n",
    "for vessel in vessels:\n",
    "    earliest_visits[vessel] = find_earliest_visits_from_start(vessel_arcs[vessel], start_info[vessel])"
   ]
  },
  {
   "cell_type": "code",
   "execution_count": 68,
   "metadata": {},
   "outputs": [],
   "source": [
    "filtered = vessel_arcs.copy()\n",
    "\n",
    "for v in vessels:\n",
    "    # Create a new list for storing filtered arcs\n",
    "    new_filtered_arcs = []\n",
    "\n",
    "    for arc in filtered[v]:\n",
    "        # Skip the source and sink nodes\n",
    "        # if arc.origin_node == sourceNode or arc.destination_node == sinkNode:\n",
    "        if arc.origin_node == sourceNode:\n",
    "            new_filtered_arcs.append(arc)\n",
    "            continue\n",
    "        \n",
    "        if arc.origin_node == start_info[v]:\n",
    "            new_filtered_arcs.append(arc)\n",
    "            continue\n",
    "\n",
    "        # Check the earliest visit time constraints\n",
    "        if arc.origin_node.time >= earliest_visits[v][arc.origin_node.port] \\\n",
    "           and arc.destination_node.time >= earliest_visits[v][arc.destination_node.port]:\n",
    "            new_filtered_arcs.append(arc)\n",
    "    filtered[v] = new_filtered_arcs"
   ]
  },
  {
   "cell_type": "code",
   "execution_count": 69,
   "metadata": {},
   "outputs": [
    {
     "name": "stdout",
     "output_type": "stream",
     "text": [
      "Total number of arcs before filtering: 2195\n",
      "Total number of arcs after filtering: 1787\n"
     ]
    }
   ],
   "source": [
    "total_vessel_arcs = sum(len(vessel_arcs[v]) for v in vessels)\n",
    "total_filtered_arcs = sum(len(filtered[v]) for v in vessels)\n",
    "\n",
    "# Print the total number of arcs for each vessel before and after filtering\n",
    "print(f\"Total number of arcs before filtering: {total_vessel_arcs}\")\n",
    "print(f\"Total number of arcs after filtering: {total_filtered_arcs}\")"
   ]
  },
  {
   "cell_type": "code",
   "execution_count": 70,
   "metadata": {},
   "outputs": [],
   "source": [
    "# for v in vessels:\n",
    "#     visualize_network_for_vessel(v, filtered, True)"
   ]
  },
  {
   "cell_type": "code",
   "execution_count": 71,
   "metadata": {},
   "outputs": [],
   "source": [
    "vessel_arcs = filtered.copy()"
   ]
  },
  {
   "cell_type": "code",
   "execution_count": 72,
   "metadata": {},
   "outputs": [],
   "source": [
    "o_dict = {}\n",
    "for v in vessels:\n",
    "    for arc in vessel_arcs[v]:\n",
    "        o_node = arc.origin_node\n",
    "        #set v to key and o_node to value, if o_node in o_dict, do not add and do not include sourceNode and sinkNode\n",
    "        if v not in o_dict:\n",
    "            if o_node != sourceNode:\n",
    "                o_dict[v] = [o_node]\n",
    "        else:\n",
    "            if o_node not in o_dict[v] and o_node != sourceNode:\n",
    "                o_dict[v].append(o_node)\n"
   ]
  },
  {
   "cell_type": "code",
   "execution_count": 73,
   "metadata": {},
   "outputs": [],
   "source": [
    "# For each node that are in NODES, but not in o_dict, add node to a dictionary with key = vessel and value = node\n",
    "\n",
    "non_operational = {}\n",
    "for v in vessels:\n",
    "    for node in NODES:\n",
    "        if node not in o_dict[v] and node != sourceNode and node != sinkNode:\n",
    "            non_operational.setdefault(v, []).append(node)"
   ]
  },
  {
   "cell_type": "code",
   "execution_count": 74,
   "metadata": {},
   "outputs": [],
   "source": [
    "# starting time for each vessel\n",
    "start_times = {vessel: vessel_data['Vessel_'+str(vessel.number-1)]['First Time Available']+1 for vessel in vessels}"
   ]
  },
  {
   "cell_type": "code",
   "execution_count": 75,
   "metadata": {},
   "outputs": [],
   "source": [
    "# Find all sink arcs for each vessel\n",
    "sink_arcs = {}\n",
    "for v in vessels:\n",
    "    sink_arcs[v] = [arc for arc in vessel_arcs[v] if arc.destination_node == sinkNode]"
   ]
  },
  {
   "cell_type": "code",
   "execution_count": 76,
   "metadata": {},
   "outputs": [],
   "source": [
    "# Initialize a list to store the history\n",
    "bounds_history = []\n",
    "\n",
    "def callback(model, where):\n",
    "    if where == gp.GRB.Callback.MIP:\n",
    "        time = model.cbGet(gp.GRB.Callback.RUNTIME)\n",
    "        ub = model.cbGet(gp.GRB.Callback.MIP_OBJBST)\n",
    "        lb = model.cbGet(gp.GRB.Callback.MIP_OBJBND)\n",
    "        if ub < gp.GRB.INFINITY:  # Ensure that the upper bound is finite\n",
    "            gap = 100.0 * (ub - lb) / max(1e-10, abs(ub))\n",
    "            bounds_history.append((time, ub, lb, gap))\n",
    "\n"
   ]
  },
  {
   "cell_type": "markdown",
   "metadata": {},
   "source": [
    "# Starting with Gurobi"
   ]
  },
  {
   "cell_type": "code",
   "execution_count": 77,
   "metadata": {},
   "outputs": [
    {
     "name": "stdout",
     "output_type": "stream",
     "text": [
      "Set parameter Username\n",
      "Academic license - for non-commercial use only - expires 2024-01-18\n"
     ]
    }
   ],
   "source": [
    "m = gp.Model('Maritime Inventory Routing Problem, operating speed')"
   ]
  },
  {
   "cell_type": "code",
   "execution_count": 78,
   "metadata": {},
   "outputs": [],
   "source": [
    "'''Creating the variables'''\n",
    "'''Binary first'''\n",
    "# x is the binary variable that indicates whether a vessel travels on arc a, where and arc is a route frome one node to another node.\n",
    "x = m.addVars(((arc.tuple, vessel) for vessel in vessels for arc in vessel_arcs[vessel]) , vtype=gp.GRB.BINARY, name=\"x\")\n",
    "\n",
    "# o is the binary variable that indicates whether vessel v is operating (loading/unloading) at node n\n",
    "o = m.addVars(((node.port.number, node.time, vessel) for node in regularNodes for vessel in vessels), vtype=gp.GRB.BINARY, name=\"o\")\n",
    "\n",
    "# o is the binary variable that indicates whether vessel v is operating (loading/unloading) at node n\n",
    "# o = m.addVars(((node.port.number, node.time, v) for v in vessels for node in o_dict[v]), vtype=gp.GRB.BINARY, name=\"o\")\n",
    "\n",
    "'''Continuous varibles'''\n",
    "# q is the amount of product loaded or unloaded at port i by vessel v at time t\n",
    "q_bounds = {(node.port.number, node.time, vessel): min(vessel.max_inventory, node.port.capacity) for node in regularNodes for vessel in vessels}\n",
    "# q_bounds = {(node.port.number, node.time, v): min(v.max_inventory, node.port.capacity) for v in vessels for node in o_dict[v]}\n",
    "q = m.addVars(q_bounds.keys(), lb=0, ub=q_bounds, vtype=gp.GRB.CONTINUOUS, name=\"q\")\n",
    "\n",
    "# s is the amount of product at port i at the end of period t\n",
    "s_bounds = {(node.port.number, node.time): node.port.capacity for node in regularNodes}\n",
    "s = m.addVars(s_bounds.keys(), lb=0, ub=s_bounds, vtype=gp.GRB.CONTINUOUS, name=\"s\")\n",
    "\n",
    "# Create s vars for each port in time period 0\n",
    "s_bounds_source = {(port.number, 0): port.capacity for port in ports}\n",
    "s_source = m.addVars(s_bounds_source.keys(), lb=0, ub=s_bounds, vtype=gp.GRB.CONTINUOUS, name=\"s\")\n",
    "s.update(s_source)\n",
    "\n",
    "# w is the amount of product on board of vessel v at the end of time period t\n",
    "w_bounds = {(t, vessel): vessel.max_inventory for vessel in vessels for t in TIME_PERIOD_RANGE}\n",
    "# for each vessel, the time t should go from the first time the vessel is available to TIME_PERIOD_RANGE\n",
    "\n",
    "# w_bounds = {(t, vessel): vessel.max_inventory for vessel in vessels for t in TIME_PERIOD_RANGE if t >= start_times[vessel]}\n",
    "w = m.addVars(w_bounds.keys(), lb=0, ub=w_bounds, vtype=gp.GRB.CONTINUOUS, name=\"w\")\n",
    "w_bounds_source = {(0, vessel): vessel.max_inventory for vessel in vessels}\n",
    "w_source = m.addVars(w_bounds_source.keys(), lb=0, ub=w_bounds, vtype=gp.GRB.CONTINUOUS, name=\"w\")\n",
    "w.update(w_source)\n",
    "\n",
    "m.update()"
   ]
  },
  {
   "cell_type": "code",
   "execution_count": 79,
   "metadata": {},
   "outputs": [
    {
     "data": {
      "text/plain": [
       "(1787, 675, 675, 138, 230)"
      ]
     },
     "execution_count": 79,
     "metadata": {},
     "output_type": "execute_result"
    }
   ],
   "source": [
    "len(x), len(o), len(q), len(s), len(w)"
   ]
  },
  {
   "cell_type": "code",
   "execution_count": 80,
   "metadata": {},
   "outputs": [],
   "source": [
    "# Create a dict where the arc.tuple is the key and arc.cost is the value\n",
    "costs = {(arc.tuple, vessel): arc.cost for vessel in vessels for arc in vessel_arcs[vessel] }\n",
    "m.update()"
   ]
  },
  {
   "cell_type": "markdown",
   "metadata": {},
   "source": [
    "### Objective Function"
   ]
  },
  {
   "cell_type": "code",
   "execution_count": 81,
   "metadata": {},
   "outputs": [],
   "source": [
    "obj = gp.quicksum(costs[key]*x[key] for key in costs) + gp.quicksum(o[node.port.number, node.time, vessel] * OPERATING_COST for vessel in vessels for node in o_dict[vessel])\n",
    "\n",
    "#Minimize the costs\n",
    "m.setObjective(obj, GRB.MINIMIZE)\n",
    "\n",
    "m.update()"
   ]
  },
  {
   "cell_type": "markdown",
   "metadata": {},
   "source": [
    "## Constraints"
   ]
  },
  {
   "cell_type": "code",
   "execution_count": 82,
   "metadata": {},
   "outputs": [],
   "source": [
    "# Can fix some variables, to reduce the complexity of the model\n",
    "for v in vessels:\n",
    "    for node in non_operational[v]:   \n",
    "        port_number = node.port.number\n",
    "        time = node.time\n",
    "        o[port_number, time, v] = 0\n",
    "        q[port_number, time, v] = 0\n",
    "m.update()\n"
   ]
  },
  {
   "cell_type": "code",
   "execution_count": 83,
   "metadata": {},
   "outputs": [
    {
     "name": "stdout",
     "output_type": "stream",
     "text": [
      "Not using GAP_REDUCTION\n",
      "Not using GAP_REDUCTION\n"
     ]
    }
   ],
   "source": [
    "\n",
    "# Constraint (2)\n",
    "'''Must leave the source node'''\n",
    "for v in vessels:\n",
    "    outgoing_from_source = [arc for arc in vessel_arcs[v] if arc.origin_node == sourceNode]\n",
    "    m.addConstr(gp.quicksum((x[arc.tuple, v]) for arc in outgoing_from_source) == 1, name = 'SourceFlow')\n",
    "m.update()\n",
    "\n",
    "# Constraint (3)\n",
    "'''Must enter the sink node'''\n",
    "for v in vessels:\n",
    "    incoming_to_sink = [arc for arc in vessel_arcs[v] if arc.destination_node == sinkNode]\n",
    "    m.addConstr(gp.quicksum((x[arc.tuple, v]) for arc in incoming_to_sink) == 1, name = 'SinkFlow')\n",
    "m.update()\n",
    "\n",
    "# Constraint (4)\n",
    "'''For each node we enter, we must leave'''\n",
    "for v in vessels:\n",
    "    for node in regularNodes:\n",
    "        outgoing_from_node = [arc for arc in vessel_arcs[v] if arc.origin_node == node]\n",
    "        incoming_to_node = [arc for arc in vessel_arcs[v] if arc.destination_node == node]\n",
    "        m.addConstr(gp.quicksum((x[in_arc.tuple, v]) for in_arc in incoming_to_node) - gp.quicksum((x[out_arc.tuple, v]) for out_arc in outgoing_from_node) == 0, name = \"FlowBalance\")\n",
    "m.update()\n",
    "        \n",
    "# Constraint (5)\n",
    "'''Set correct initial inventory at each port'''\n",
    "for port in ports:\n",
    "    m.addConstr(s_source[port.number, 0] == port.inventory, name = 'InitialInventoryPort')\n",
    "m.update()\n",
    "    \n",
    "# Constraint (6)\n",
    "'''Inventory balance at ports'''\n",
    "# Inventory balance for ports at the end of each time period t\n",
    "for port in ports:\n",
    "    for t in TIME_PERIOD_RANGE:\n",
    "        m.addConstr(s[port.number, t] == (s[port.number, t-1] + (port.isLoadingPort * port.rate) - gp.quicksum(port.isLoadingPort * q[port.number, t, v] for v in vessels)) , name = 'PortBalance')\n",
    "m.update()\n",
    "\n",
    "# Constraint (7)\n",
    "'''Set correct initial inventory at each vessel'''\n",
    "for v in vessels:\n",
    "    m.addConstr(w_source[0, v] == v.inventory, name = 'InitialInventoryVessel')\n",
    "m.update()\n",
    "\n",
    "# Constraint (8)\n",
    "'''Inventory balance at vessel'''\n",
    "# for each vessel, the inventory at the end of the time period is equal to the inventory at the beginning of the time period + the amount of product loaded/unloaded at the ports\n",
    "for t in TIME_PERIOD_RANGE:\n",
    "    for v in vessels:\n",
    "        m.addConstr(w[t, v] == gp.quicksum(port.isLoadingPort * q[port.number, t, v] for port in ports) + w[t-1,v], name = 'VesselBalance')\n",
    "m.update()\n",
    "\n",
    "# Constraint (9)\n",
    "'''Berth limit'''\n",
    "for node in regularNodes:\n",
    "    berth_constraint = m.addConstr((gp.quicksum((o[node.port.number, node.time, v]) for v in vessels) <= node.port.berth_limit), name = 'Birth_limit_in_time_t')\n",
    "    berth_constraint.setAttr('Lazy', 1)\n",
    "    \n",
    "m.update()\n",
    "\n",
    "#Constraint (10)\n",
    "'''Must be physically present to operate'''\n",
    "for v in vessels:\n",
    "    for node in regularNodes:\n",
    "        incoming_to_node = [arc for arc in vessel_arcs[v] if arc.destination_node == node]\n",
    "        m.addConstr(o[node.port.number, node.time, v] <= gp.quicksum((x[in_arc.tuple, v]) for in_arc in incoming_to_node))\n",
    "m.update()\n",
    "\n",
    "\n",
    "# Constraint (11)\n",
    "'''After an operation, we must either continue operating or move to another port'''\n",
    "all_waiting_arcs = {}\n",
    "for v in vessels:\n",
    "    for arc in waiting_arcs[v]:\n",
    "        origin_node = arc.origin_node\n",
    "        destination_node = arc.destination_node\n",
    "        all_waiting_arcs[((origin_node.port.number, origin_node.time),(destination_node.port.number, destination_node.time) , v)] = arc   \n",
    "for node in regularNodes:\n",
    "    for v in vessels:\n",
    "        if (node.port.number, node.time + 1, v) in o.keys():  # check if o for the next period exists\n",
    "            \n",
    "            waiting_arc_key = ((node.port.number, node.time), (node.port.number, node.time + 1), v)\n",
    "            if waiting_arc_key in all_waiting_arcs.keys():\n",
    "                waiting_arc = all_waiting_arcs[waiting_arc_key]\n",
    "            else:\n",
    "                continue\n",
    "            \n",
    "            actual_key = (waiting_arc.tuple, v)\n",
    "            \n",
    "            if actual_key in x.keys():  # check if the waiting arc exists\n",
    "                m.addConstr(o[node.port.number, node.time, v] <= \n",
    "                            o[node.port.number, node.time + 1, v] + \n",
    "                            (1 - x[actual_key]),\n",
    "                            name=f\"Operate_or_Move_{node.port.number}_{node.time}_{v}\")\n",
    "m.update()\n",
    "\n",
    "\n",
    "# #Constraint (12)\n",
    "'''Cannot load/unload more than the maximum operating quantity'''\n",
    "for v in vessels:\n",
    "    for node in regularNodes:\n",
    "        m.addConstr(q[node.port.number, node.time, v] <= o[node.port.number, node.time, v]*v.max_operating_quantity, name = 'Max_operating_quantity')\n",
    "m.update()\n",
    "\n",
    "# Contraint (13)\n",
    "'''Must operate in every port we visit.'''\n",
    "# O_itv <= o_i(t+1)v + sum of x_ijv for all j except waiting arc\n",
    "for v in vessels:\n",
    "    for node in regularNodes:\n",
    "        outgoing_from_node = [arc for arc in vessel_arcs[v] if arc.origin_node == node]\n",
    "        # Remove the waiting arc from the list\n",
    "        for a in outgoing_from_node:\n",
    "            if a.is_waiting_arc:\n",
    "                outgoing_from_node.remove(a)\n",
    "        m.addConstr(o[node.port.number, node.time, v] >= gp.quicksum((x[out_arc.tuple, v]) for out_arc in outgoing_from_node), name = 'Must_operate_in_every_port')\n",
    "m.update()\n",
    "\n",
    "\n",
    "# Constraint (14) modification\n",
    "# Ensure that q is at least 1/4 of the vessel's capacity if o is 1\n",
    "for v in vessels:\n",
    "    for node in regularNodes:\n",
    "        m.addConstr(q[node.port.number, node.time, v] >= 1/4 * vessel.max_inventory * o[node.port.number, node.time, v], \n",
    "                    name=f'q_{node.port.number}_{node.time}_{v}')\n",
    "m.update()\n",
    "\n",
    "\n",
    "if GAP_REDUCTION:\n",
    "    print('Using GAP_REDUCTION')\n",
    "    # Constraint (15)\n",
    "    for v in vessels:\n",
    "        for t in TIME_PERIOD_RANGE:\n",
    "            \n",
    "            M = len(TIME_PERIOD_RANGE) - t\n",
    "            # sum of x[a,v] for all arcs 'a' that are sink arcs at time 't' for vessel 'v'\n",
    "            sum_sink_arcs_at_t = gp.quicksum(x[a.tuple, v] for a in sink_arcs[v] if a.origin_node.time == t)\n",
    "            \n",
    "            sum_future_operations = 0\n",
    "            for o_var in o_dict[v]:\n",
    "                if o_var.time > t:\n",
    "                    sum_future_operations += o[o_var.port.number, o_var.time, v]\n",
    "\n",
    "            # Add the constraint for the model 'm'\n",
    "            m.addConstr(sum_future_operations <= M * (1 - sum_sink_arcs_at_t), \n",
    "                        name=f'NoOperationAfterSink_{v}_{t}')\n",
    "    m.update()\n",
    "else:\n",
    "    print('Not using GAP_REDUCTION')\n",
    "    \n",
    "    \n",
    "if GAP_REDUCTION:\n",
    "    print('Using GAP_REDUCTION')\n",
    "    # Constraint (16)\n",
    "    for v in vessels:\n",
    "        for t in TIME_PERIOD_RANGE:\n",
    "            \n",
    "            M = len(TIME_PERIOD_RANGE) - t\n",
    "            # sum of x[a,v] for all arcs 'a' that are sink arcs at time 't' for vessel 'v'\n",
    "            sum_sink_arcs_at_t = gp.quicksum(x[a.tuple, v] for a in sink_arcs[v] if a.origin_node.time == t)\n",
    "            \n",
    "            # find all nodes after time t\n",
    "            later_nodes = [node for node in regularNodes if node.time > t]\n",
    "            \n",
    "            sum_future_arcs = 0\n",
    "            for v_var in o_dict[v]:\n",
    "                if o_var.time > t:\n",
    "                    sum_future_operations += o[o_var.port.number, o_var.time, v]\n",
    "\n",
    "            # Add the constraint for the model 'm'\n",
    "            m.addConstr(sum_future_operations <= M * (1 - sum_sink_arcs_at_t), \n",
    "                        name=f'NoOperationAfterSink_{v}_{t}')\n",
    "    m.update()\n",
    "else:\n",
    "    print('Not using GAP_REDUCTION')"
   ]
  },
  {
   "cell_type": "markdown",
   "metadata": {},
   "source": [
    "# RUN MODEL"
   ]
  },
  {
   "cell_type": "code",
   "execution_count": 84,
   "metadata": {},
   "outputs": [
    {
     "name": "stdout",
     "output_type": "stream",
     "text": [
      "Set parameter TimeLimit to value 10800\n",
      "Gurobi Optimizer version 10.0.3 build v10.0.3rc0 (mac64[x86])\n",
      "\n",
      "CPU model: Intel(R) Core(TM) i5-8257U CPU @ 1.40GHz\n",
      "Thread count: 4 physical cores, 8 logical processors, using up to 8 threads\n",
      "\n",
      "Optimize a model with 4386 rows, 3505 columns and 12961 nonzeros\n",
      "Model fingerprint: 0xe3bca902\n",
      "Variable types: 1043 continuous, 2462 integer (2462 binary)\n",
      "Coefficient statistics:\n",
      "  Matrix range     [1e+00, 3e+02]\n",
      "  Objective range  [5e+01, 3e+05]\n",
      "  Bounds range     [1e+00, 7e+02]\n",
      "  RHS range        [1e+00, 3e+02]\n",
      "Presolve removed 972 rows and 443 columns\n",
      "Presolve time: 0.06s\n",
      "Presolved: 3414 rows, 3062 columns, 20328 nonzeros\n",
      "Extracted 121 lazy constraints\n",
      "Variable types: 783 continuous, 2279 integer (2279 binary)\n",
      "\n",
      "Root relaxation: objective 5.141335e+04, 2992 iterations, 0.13 seconds (0.15 work units)\n",
      "\n",
      "    Nodes    |    Current Node    |     Objective Bounds      |     Work\n",
      " Expl Unexpl |  Obj  Depth IntInf | Incumbent    BestBd   Gap | It/Node Time\n",
      "\n",
      "     0     0 51413.3497    0  473          - 51413.3497      -     -    0s\n",
      "     0     0 54333.9702    0  507          - 54333.9702      -     -    0s\n",
      "     0     0 54994.2396    0  439          - 54994.2396      -     -    0s\n",
      "     0     0 55026.0640    0  453          - 55026.0640      -     -    0s\n",
      "     0     0 55026.2933    0  453          - 55026.2933      -     -    0s\n",
      "     0     0 57406.5306    0  551          - 57406.5306      -     -    0s\n",
      "     0     0 57611.0909    0  493          - 57611.0909      -     -    0s\n",
      "     0     0 57632.5285    0  494          - 57632.5285      -     -    0s\n",
      "     0     0 57656.7677    0  497          - 57656.7677      -     -    0s\n",
      "     0     0 57657.8427    0  497          - 57657.8427      -     -    0s\n",
      "     0     0 58063.3440    0  354          - 58063.3440      -     -    1s\n",
      "     0     0 58149.0358    0  473          - 58149.0358      -     -    1s\n",
      "     0     0 58184.6337    0  455          - 58184.6337      -     -    1s\n",
      "     0     0 58207.1593    0  531          - 58207.1593      -     -    1s\n",
      "     0     0 58217.8710    0  529          - 58217.8710      -     -    1s\n",
      "     0     0 58222.8545    0  516          - 58222.8545      -     -    1s\n",
      "     0     0 58230.0684    0  517          - 58230.0684      -     -    1s\n",
      "     0     0 58230.0684    0  530          - 58230.0684      -     -    1s\n",
      "     0     0 58385.8277    0  417          - 58385.8277      -     -    1s\n",
      "     0     0 58403.9787    0  417          - 58403.9787      -     -    1s\n",
      "     0     0 58421.1437    0  356          - 58421.1437      -     -    1s\n",
      "     0     0 58423.0547    0  418          - 58423.0547      -     -    1s\n",
      "     0     0 58449.4722    0  285          - 58449.4722      -     -    1s\n",
      "     0     0 58468.2691    0  465          - 58468.2691      -     -    1s\n",
      "     0     0 58479.7759    0  287          - 58479.7759      -     -    1s\n",
      "     0     0 58480.1558    0  531          - 58480.1558      -     -    1s\n",
      "     0     0 58503.3562    0  282          - 58503.3562      -     -    1s\n",
      "     0     0 58511.1656    0  283          - 58511.1656      -     -    1s\n",
      "     0     0 58514.1662    0  283          - 58514.1662      -     -    1s\n",
      "     0     0 58514.4992    0  284          - 58514.4992      -     -    1s\n",
      "     0     0 58523.1752    0  288          - 58523.1752      -     -    2s\n",
      "     0     0 58525.0197    0  302          - 58525.0197      -     -    2s\n",
      "     0     0 58529.1833    0  301          - 58529.1833      -     -    2s\n",
      "     0     0 58529.1833    0  286          - 58529.1833      -     -    2s\n",
      "     0     2 58529.4075    0  284          - 58529.4075      -     -    2s\n",
      "    44    51 64357.3646   10  613          - 62717.2089      -   682    5s\n",
      "   377   372 151557.315   62  610          - 62717.2089      -   289   10s\n",
      "   582   588 486881.878   99  460          - 63589.6843      -   296   15s\n",
      "   972   933 679854.014   37  455          - 63589.6843      -   267   20s\n",
      "  1068   943 672609.090   34  558          - 63589.6843      -   255   25s\n",
      "  1075   948 415989.652   46  550          - 63589.6843      -   254   30s\n",
      "  1111   978 367043.397   20  385          - 64638.9713      -   295   35s\n",
      "  1166  1016 66623.3359   26  586          - 65417.7651      -   331   41s\n",
      "  1233  1065 68590.7779   32  550          - 65417.7651      -   363   45s\n",
      "  1328  1122 72665.9278   39  523          - 65417.7651      -   396   50s\n",
      "  1455  1187 106823.389   47  533          - 65417.7651      -   437   55s\n",
      "  1578  1263 121656.842   56  529          - 65417.7651      -   452   60s\n",
      "  1740  1333 145270.393   66  531          - 65417.7651      -   453   65s\n",
      "  1895  1383 174290.981   77  443          - 65417.7651      -   457   71s\n",
      "  2000  1447 191687.288   83  584          - 65417.7651      -   457   76s\n",
      "  2182  1524 262280.600   92  462          - 65417.7651      -   452   80s\n",
      "  2373  1589 385627.513  101  489          - 65417.7651      -   449   86s\n",
      "  2480  1649 1068826.93  110  264          - 65417.7651      -   451   90s\n",
      "  2716  1713 2186672.92  133  134          - 69283.6071      -   448   98s\n",
      "H 2717  1665                    3378002.2678 69283.6071  97.9%   448   98s\n",
      "H 2757  1605                    3377952.2678 69405.0470  97.9%   447   98s\n",
      "H 2785  1622                    3377752.2678 69405.0470  97.9%   446  101s\n",
      "H 2785  1581                    3376064.6328 69405.0470  97.9%   446  101s\n",
      "H 2814  1532                    3375964.6328 69405.0470  97.9%   444  101s\n",
      "H 2844  1486                    3371209.4222 69405.0470  97.9%   442  101s\n",
      "H 2884  1462                    3369521.7873 82607.6898  97.5%   441  104s\n",
      "H 2885  1429                    3369321.7873 82607.6898  97.5%   441  104s\n",
      "H 2933  1406                    3368921.7873 102581.131  97.0%   441  104s\n",
      "  2977  1483 194042.913   31  272 3368921.79 115042.479  96.6%   441  107s\n",
      "H 3055  1483                    3368171.7873 119368.780  96.5%   438  107s\n",
      "  3108  1579 828805.504   34  185 3368171.79 129111.145  96.2%   436  111s\n",
      "H 3265  1656                    3368071.7873 132183.038  96.1%   428  114s\n",
      "  3393  1723 805044.679   60  363 3368071.79 134668.525  96.0%   423  118s\n",
      "H 3499  1742                    3356123.7311 137293.382  95.9%   421  122s\n",
      "H 3604  1841                    3354336.0961 145647.893  95.7%   425  126s\n",
      "H 3696  1841                    3349480.8855 151937.759  95.5%   422  126s\n",
      "  3760  1945 1095316.16   55  242 3349480.89 158033.872  95.3%   421  130s\n",
      "H 3762  1945                    3349430.8855 158033.872  95.3%   421  130s\n",
      "H 3799  1945                    3349030.6210 158667.346  95.3%   420  130s\n",
      "H 3904  1977                    3349030.4741 160177.519  95.2%   418  134s\n",
      "H 3922  1977                    3348980.8855 160177.519  95.2%   419  134s\n",
      "  3977  2047 927268.781   85  398 3348980.89 164200.745  95.1%   421  138s\n",
      "H 3999  2047                    3348830.8855 164200.745  95.1%   421  138s\n",
      "  4073  2143 473682.170   56  417 3348830.89 166049.953  95.0%   419  143s\n",
      "H 4220  2143                    3348830.2946 170162.742  94.9%   414  143s\n",
      "  4221  2191 458808.917   47  437 3348830.29 171294.962  94.9%   415  147s\n",
      "  4332  2318 496783.608   50  414 3348830.29 177842.521  94.7%   418  152s\n",
      "H 4416  2318                    3348530.8855 177842.521  94.7%   417  152s\n",
      "  4537  2384 762249.384   62  491 3348530.89 184320.442  94.5%   414  157s\n",
      "  4690  2448 455331.406   64  356 3348530.89 189836.393  94.3%   417  163s\n",
      "  4847  2513 705032.923   55  425 3348530.89 199877.524  94.0%   421  170s\n",
      "H 4924  2513                    3348480.8855 199877.524  94.0%   418  170s\n",
      "  4994  2547 1965802.71   77  175 3348480.89 211847.917  93.7%   426  175s\n",
      "H 5218  2654                    3348380.8855 250333.185  92.5%   426  179s\n",
      "  5358  2768 898015.974   74  442 3348380.89 284448.490  91.5%   427  184s\n",
      "H 5601  2865                    3348280.8855 325565.278  90.3%   422  190s\n",
      "  5808  3038 818222.315   85  358 3348280.89 335458.802  90.0%   421  195s\n",
      "  6078  3232 812761.540   61  285 3348280.89 343066.624  89.8%   419  201s\n",
      "  6371  3434 717949.407   42  422 3348280.89 343553.516  89.7%   418  206s\n",
      "  6634  3571 764672.826   49  311 3348280.89 354040.897  89.4%   415  213s\n",
      "H 6678  3571                    3346593.2505 354040.897  89.4%   416  213s\n",
      "  6828  3772 518839.982   44  323 3346593.25 354886.080  89.4%   415  224s\n",
      "H 6890  3772                    3346543.2505 354886.080  89.4%   415  224s\n",
      "  7080  4090 1224682.05   70  284 3346543.25 356178.165  89.4%   411  230s\n",
      "  7470  4404 457404.568   46  401 3346543.25 356694.455  89.3%   406  237s\n",
      "  7877  4595 400870.451   43  432 3346543.25 357129.244  89.3%   399  244s\n",
      "  8171  4647 998755.149   38  265 3346543.25 357415.245  89.3%   399  252s\n",
      "  8286  4862 666038.843   23  228 3346543.25 357461.503  89.3%   401  260s\n",
      "  8626  5171 516019.777   58  476 3346543.25 358277.452  89.3%   400  268s\n",
      "  9008  5504 893839.318   74  384 3346543.25 358402.802  89.3%   397  277s\n",
      "  9459  5868 infeasible   50      3346543.25 358766.525  89.3%   392  285s\n",
      "  9947  6158 681177.996   51  335 3346543.25 359691.323  89.3%   390  294s\n",
      " 10363  6541 470789.451   42  528 3346543.25 360390.220  89.2%   392  304s\n",
      " 10885  6790 infeasible   62      3346543.25 360739.779  89.2%   387  315s\n",
      "H10886  6790                    3346542.9994 360739.779  89.2%   387  315s\n",
      " 11210  7411 813357.669   64  417 3346543.00 361149.811  89.2%   387  325s\n",
      " 12010  7700 1076165.99   53  357 3346543.00 361480.846  89.2%   379  337s\n",
      " 12385  8016 765822.140   48  544 3346543.00 361805.553  89.2%   375  348s\n",
      " 12838  8437 1181040.05   43  364 3346543.00 362271.186  89.2%   373  358s\n",
      " 13432  8716 472092.016   34  259 3346543.00 362466.550  89.2%   370  368s\n",
      " 13889  9112 1224113.44   50  357 3346543.00 362897.104  89.2%   372  377s\n",
      " 14468  9373 410652.102   36  449 3346543.00 363430.895  89.1%   368  387s\n",
      " 14831  9776 705457.858   36  302 3346543.00 363801.242  89.1%   369  396s\n",
      " 15402 10022 814282.654   60  318 3346543.00 364577.016  89.1%   368  406s\n",
      " 15769 10498 747913.552   50  284 3346543.00 365899.328  89.1%   369  417s\n",
      " 16421 10806 733137.648   33  520 3346543.00 366983.713  89.0%   365  427s\n",
      " 16832 11112 1713854.79   87  262 3346543.00 367550.813  89.0%   365  438s\n",
      " 17262 11359 747673.445   35  361 3346543.00 367978.122  89.0%   366  450s\n",
      " 17600 11667 2506518.79   70  175 3346543.00 368523.526  89.0%   365  461s\n",
      " 18060 12100 724953.669   36  451 3346543.00 368887.411  89.0%   365  471s\n",
      " 18597 12482 404153.037   36  508 3346543.00 370037.967  88.9%   363  482s\n",
      " 19081 12732 779369.297   46  440 3346543.00 370394.760  88.9%   362  494s\n",
      " 19462 13078 1578485.01   79  365 3346543.00 371390.111  88.9%   363  505s\n",
      " 19959 13456 1005181.01   67  462 3346543.00 371963.893  88.9%   361  517s\n",
      " 20564 13734 769432.238   41  444 3346543.00 372593.224  88.9%   359  528s\n",
      "H20906 13734                    3346493.2505 372736.328  88.9%   359  528s\n",
      " 20979 13976 723161.776   36  242 3346493.25 372878.211  88.9%   359  539s\n",
      " 21389 14357 783643.855   55  429 3346493.25 373395.870  88.8%   360  550s\n",
      " 21942 14454 709228.315   43  353 3346493.25 373884.772  88.8%   359  560s\n",
      " 22061 14735 878871.246   67  453 3346493.25 373916.654  88.8%   360  569s\n",
      " 22441 14967 1107937.15   48  395 3346493.25 374330.747  88.8%   361  586s\n",
      " 22776 15194 466314.148   40  360 3346493.25 374330.747  88.8%   361  595s\n",
      " 23060 15395 1043641.76   71  234 3346493.25 374886.657  88.8%   365  604s\n",
      " 23479 15741 499026.632   49  374 3346493.25 375482.098  88.8%   366  613s\n",
      " 23985 16096 1086889.64   40  354 3346493.25 376086.489  88.8%   366  622s\n",
      " 24471 16319 738643.723   40  343 3346493.25 376796.836  88.7%   365  632s\n",
      " 24874 16577 786689.476   56  366 3346493.25 377441.390  88.7%   367  641s\n",
      " 25267 16917 1382921.29   61  368 3346493.25 378703.530  88.7%   366  650s\n",
      " 25744 17338 1162810.80   65  363 3346493.25 379292.800  88.7%   366  660s\n",
      " 26338 17817 691681.188   32  503 3346493.25 380524.681  88.6%   365  669s\n",
      " 26936 18177 1337431.09   36  326 3346493.25 381266.100  88.6%   363  678s\n",
      " 27483 18588 388237.484   35  409 3346493.25 382334.147  88.6%   361  687s\n",
      " 28048 18953 747627.994   39  370 3346493.25 383351.872  88.5%   360  697s\n",
      " 28561 19208 infeasible   30      3346493.25 384498.709  88.5%   359  705s\n",
      " 29011 19622 476597.817   54  385 3346493.25 385424.086  88.5%   359  714s\n",
      " 29599 19925 719925.822   39  375 3346493.25 386314.397  88.5%   358  723s\n",
      " 30004 19989 2004625.25   70  207 3346493.25 386426.425  88.5%   358  734s\n",
      " 30114 20197 2225772.60   70  161 3346493.25 386573.720  88.4%   360  745s\n",
      " 30457 20427 infeasible   47      3346493.25 386926.986  88.4%   361  757s\n",
      " 30816 20827 1342054.37   44  365 3346493.25 387541.637  88.4%   362  767s\n",
      " 31319 21197 2154547.70   88  198 3346493.25 387915.815  88.4%   361  776s\n",
      " 31831 21560 1970352.06   95  214 3346493.25 388406.643  88.4%   361  785s\n",
      " 32313 21964 681101.407   36  366 3346493.25 389486.079  88.4%   360  794s\n",
      " 32859 22251 405343.724   43  379 3346493.25 389726.062  88.4%   359  803s\n",
      " 33328 22655 406015.273   37  283 3346493.25 390354.526  88.3%   359  812s\n",
      " 33875 22662 1572160.03   92  304 3346493.25 391381.937  88.3%   358  825s\n",
      " 33884 22971 1574609.36   94  256 3346493.25 391625.146  88.3%   358  834s\n",
      " 34313 23341 967200.493   46  218 3346493.25 392075.964  88.3%   358  843s\n",
      " 34838 23650 infeasible   59      3346493.25 392682.338  88.3%   357  851s\n",
      " 35293 24055 875541.141   50  258 3346493.25 393355.687  88.2%   357  860s\n",
      " 35856 24413 755286.887   57  393 3346493.25 394547.566  88.2%   356  870s\n",
      " 36351 24731 414119.880   46  454 3346493.25 394784.039  88.2%   355  878s\n",
      " 36811 25045 1006499.45   50  318 3346493.25 395550.271  88.2%   355  887s\n",
      " 37268 25373 1939844.34   55  225 3346493.25 395850.018  88.2%   355  896s\n",
      " 37802 25742 848244.285   71  391 3346493.25 396473.285  88.2%   354  904s\n",
      " 38341 26042 723785.467   69  416 3346493.25 397482.194  88.1%   353  912s\n",
      " 38776 26413 933005.409   54  373 3346493.25 398382.986  88.1%   353  921s\n",
      " 39327 26661 1053998.08   55  330 3346493.25 399355.950  88.1%   352  929s\n",
      " 39723 26873 1081373.97   47  386 3346493.25 399689.851  88.1%   352  938s\n",
      " 40128 27065 689996.294   30  431 3346493.25 400204.562  88.0%   353  948s\n",
      " 40495 27373 infeasible   55      3346493.25 401061.725  88.0%   354  957s\n",
      " 40936 27630 infeasible   51      3346493.25 401340.403  88.0%   354  966s\n",
      " 41338 27834 779553.209   78  386 3346493.25 402136.461  88.0%   355  975s\n",
      " 41670 28101 1020259.81  115  377 3346493.25 402201.844  88.0%   357  984s\n",
      " 42085 28382 1275914.33   62  335 3346493.25 402773.893  88.0%   357  992s\n",
      " 42479 28558 731212.941   47  348 3346493.25 403104.037  88.0%   357 1001s\n",
      " 42851 28800 717239.284   39  411 3346493.25 404086.052  87.9%   358 1009s\n",
      " 43197 29142 761325.017   49  389 3346493.25 404739.239  87.9%   358 1018s\n",
      " 43755 29428 694129.979   39  197 3346493.25 405032.484  87.9%   357 1026s\n",
      " 44294 29632 infeasible   79      3346493.25 405671.522  87.9%   357 1036s\n",
      " 44625 29895 752031.893   50  406 3346493.25 406230.405  87.9%   357 1045s\n",
      " 45019 30345 1162191.61   48  340 3346493.25 407013.990  87.8%   358 1055s\n",
      " 45636 30536 861572.141   66  304 3346493.25 407656.441  87.8%   356 1065s\n",
      " 45972 30793 536250.654   64  451 3346493.25 408252.795  87.8%   357 1076s\n",
      " 46442 31023 461682.271   37  346 3346493.25 408770.789  87.8%   357 1087s\n",
      " 46805 31332 694733.122   55  310 3346493.25 408983.300  87.8%   358 1095s\n",
      " 47209 31597 728942.205   45  418 3346493.25 409671.867  87.8%   357 1104s\n",
      " 47626 31791 712689.262   49  371 3346493.25 409938.370  87.8%   358 1114s\n",
      "\n",
      "Interrupt request received\n",
      " 47953 32149 469602.981   58  312 3346493.25 410348.338  87.7%   359 1122s\n",
      "\n",
      "Cutting planes:\n",
      "  Gomory: 13\n",
      "  Cover: 80\n",
      "  Implied bound: 424\n",
      "  Projected implied bound: 9\n",
      "  MIR: 95\n",
      "  Flow cover: 192\n",
      "  Flow path: 518\n",
      "  Inf proof: 25\n",
      "  Zero half: 70\n",
      "  RLT: 45\n",
      "  Relax-and-lift: 49\n",
      "  Lazy constraints: 3\n",
      "\n",
      "Explored 48419 nodes (17364896 simplex iterations) in 1122.05 seconds (1680.64 work units)\n",
      "Thread count was 8 (of 8 available processors)\n",
      "\n",
      "Solution count 10: 3.34649e+06 3.34654e+06 3.34659e+06 ... 3.34898e+06\n",
      "\n",
      "Solve interrupted\n",
      "Best objective 3.346493250540e+06, best bound 4.108421088087e+05, gap 87.7232%\n",
      "\n",
      "User-callback calls 258069, time in user-callback 3.38 sec\n"
     ]
    }
   ],
   "source": [
    "\n",
    "H = 3600\n",
    "S = 30\n",
    "\n",
    "m.setParam(gp.GRB.Param.TimeLimit, 3*H)\n",
    "\n",
    "# Set the callback function\n",
    "m._callback = callback\n",
    "\n",
    "m.optimize(callback=callback)\n",
    "\n",
    "# Check the status of the optimization\n",
    "if m.status == gp.GRB.OPTIMAL:\n",
    "    print(\"Optimal solution found!\")\n",
    "    \n",
    "if m.status == gp.GRB.INFEASIBLE:\n",
    "    m.computeIIS()\n",
    "    # Write the IIS to a .ilp file\n",
    "    m.write(\"MIRP.ilp\")\n",
    "    print(\"Model is infeasible\")\n",
    "        "
   ]
  },
  {
   "cell_type": "markdown",
   "metadata": {},
   "source": [
    "### With constraint:\n",
    "4307594 1226417     cutoff   69      1402876.05 1203697.27  14.2%  29.0 3590s\n",
    " 4313731 1226738 1209965.48   59   86 1402876.05 1203744.20  14.2%  29.0 3595s\n",
    " 4318859 1226837     cutoff   58      1402876.05 1203784.74  14.2%  29.0 3600s\n",
    "\n",
    "Cutting planes:\n",
    "  Gomory: 57\n",
    "  Cover: 1\n",
    "  Implied bound: 59\n",
    "  Projected implied bound: 3\n",
    "  MIR: 8\n",
    "  Flow cover: 40\n",
    "  Flow path: 11\n",
    "  Zero half: 14\n",
    "  RLT: 7\n",
    "  Relax-and-lift: 13\n",
    "\n",
    "Explored 4318982 nodes (125073755 simplex iterations) in 3600.07 seconds (3872.74 work units)\n",
    "Thread count was 8 (of 8 available processors)\n",
    "\n",
    "Solution count 10: 1.40288e+06 1.40293e+06 1.40543e+06 ... 1.43279e+06\n",
    "\n",
    "Time limit reached\n",
    "Best objective 1.402876052916e+06, best bound 1.203786867143e+06, gap 14.1915%\n",
    "\n",
    "\n",
    "\n",
    "\n",
    "### Without constraint:\n",
    "\n",
    "1185096 427041 887719.197   36   94 1402876.05 757609.736  46.0%   115 3585s\n",
    " 1186711 427552 1096562.00   53   48 1402876.05 757906.270  46.0%   115 3590s\n",
    " 1189002 428133 infeasible   59      1402876.05 758213.690  46.0%   115 3597s\n",
    " 1190467 428428 1025675.85   54   89 1402876.05 758478.002  45.9%   115 3600s\n",
    "\n",
    "Cutting planes:\n",
    "  Gomory: 10\n",
    "  Cover: 627\n",
    "  Implied bound: 508\n",
    "  Projected implied bound: 7\n",
    "  MIR: 96\n",
    "  StrongCG: 1\n",
    "  Flow cover: 173\n",
    "  Flow path: 291\n",
    "  Inf proof: 82\n",
    "  Zero half: 29\n",
    "  RLT: 23\n",
    "  Relax-and-lift: 54\n",
    "  Lazy constraints: 1\n",
    "\n",
    "Explored 1190723 nodes (137220334 simplex iterations) in 3600.09 seconds (2499.55 work units)\n",
    "Thread count was 8 (of 8 available processors)\n",
    "\n",
    "Solution count 10: 1.40288e+06 1.40293e+06 1.40303e+06 ... 1.43274e+06\n",
    "\n",
    "Time limit reached\n",
    "Best objective 1.402876052916e+06, best bound 7.585183571685e+05, gap 45.9312%"
   ]
  },
  {
   "cell_type": "code",
   "execution_count": 85,
   "metadata": {},
   "outputs": [
    {
     "name": "stdout",
     "output_type": "stream",
     "text": [
      "Objective value: 3346493.2505399566\n"
     ]
    }
   ],
   "source": [
    "print(f'Objective value: {m.objVal}')"
   ]
  },
  {
   "cell_type": "markdown",
   "metadata": {},
   "source": [
    "# After optimization\n",
    "\n",
    "## Need to extract the routes for the vessels"
   ]
  },
  {
   "cell_type": "code",
   "execution_count": 89,
   "metadata": {},
   "outputs": [
    {
     "data": {
      "image/png": "[encoded data removed]",
      "text/plain": [
       "<Figure size 1000x600 with 1 Axes>"
      ]
     },
     "metadata": {},
     "output_type": "display_data"
    }
   ],
   "source": [
    "import pandas as pd\n",
    "import seaborn as sns\n",
    "import matplotlib.pyplot as plt\n",
    "from matplotlib.ticker import FuncFormatter\n",
    "\n",
    "# Function to format the y-axis labels\n",
    "def millions_formatter(x, pos):\n",
    "    return f'{x / 1e6:.1f}M'\n",
    "\n",
    "# Convert the data to a DataFrame\n",
    "df = pd.DataFrame(bounds_history, columns=['Time', 'Upper Bound', 'Lower Bound', 'Gap'])\n",
    "\n",
    "# Create a figure and a set of subplots\n",
    "fig, ax = plt.subplots(figsize=(10, 6))\n",
    "\n",
    "# Plot the upper and lower bounds\n",
    "sns.lineplot(x='Time', y='Upper Bound', data=df, ax=ax, color='blue', label='Upper Bound')\n",
    "sns.lineplot(x='Time', y='Lower Bound', data=df, ax=ax, color='green', label='Lower Bound')\n",
    "\n",
    "# Set the title and labels\n",
    "plt.title('Evolution of Upper and Lower Bounds Over Time for MIRP')\n",
    "ax.set_ylabel('Bounds')\n",
    "ax.set_xlabel('Time (seconds)')\n",
    "\n",
    "# Add a grid\n",
    "ax.grid(True, linestyle='--', linewidth=0.5, color='gray', alpha=0.5)\n",
    "\n",
    "# Set the y-axis label formatter\n",
    "ax.yaxis.set_major_formatter(FuncFormatter(millions_formatter))\n",
    "\n",
    "# # Annotate the final gap\n",
    "final_gap = df['Gap'].iloc[-1]  # Get the last gap value\n",
    "# plt.annotate(f'Final Gap: {final_gap:.2f}%', \n",
    "#              xy=(1, 0), xycoords='axes fraction', \n",
    "#              xytext=(-10, 10), textcoords='offset points',\n",
    "#              horizontalalignment='right',\n",
    "#              verticalalignment='bottom',\n",
    "#              fontsize=10, color='red')\n",
    "\n",
    "# Annotate the final gap\n",
    "plt.annotate(f'Final Gap: {final_gap:.2f}%', \n",
    "             xy=(0.5, -0.1), xycoords='axes fraction', \n",
    "             xytext=(0, -10), textcoords='offset points',\n",
    "             horizontalalignment='center',\n",
    "             verticalalignment='top',\n",
    "             fontsize=10, color='red')\n",
    "\n",
    "# Adjust the legend to be outside the plot\n",
    "ax.legend(loc='upper left', bbox_to_anchor=(1.05, 1), borderaxespad=0)\n",
    "\n",
    "plt.tight_layout()\n",
    "plt.show()\n"
   ]
  },
  {
   "cell_type": "code",
   "execution_count": 90,
   "metadata": {},
   "outputs": [
    {
     "data": {
      "image/png": "[encoded data removed]",
      "text/plain": [
       "<Figure size 1000x600 with 1 Axes>"
      ]
     },
     "metadata": {},
     "output_type": "display_data"
    }
   ],
   "source": [
    "import pandas as pd\n",
    "import seaborn as sns\n",
    "import matplotlib.pyplot as plt\n",
    "\n",
    "# Convert the data to a DataFrame\n",
    "df = pd.DataFrame(bounds_history, columns=['Time', 'Upper Bound', 'Lower Bound', 'Gap'])\n",
    "\n",
    "# Create a figure and a set of subplots\n",
    "fig, ax = plt.subplots(figsize=(10, 6))\n",
    "\n",
    "# Plot the gap percentage over time\n",
    "sns.lineplot(x='Time', y='Gap', data=df, ax=ax, color='red', label='Gap %')\n",
    "\n",
    "# Set the title and labels\n",
    "plt.title('Evolution of the Optimality Gap Percentage Over Time for MIRP')\n",
    "ax.set_ylabel('Gap Percentage (%)')\n",
    "ax.set_xlabel('Time (seconds)')\n",
    "\n",
    "# Set y-axis limits from 0 to 100\n",
    "ax.set_ylim(0, 100)\n",
    "\n",
    "# Add a grid\n",
    "ax.grid(True, linestyle='--', linewidth=0.5, color='gray', alpha=0.5)\n",
    "\n",
    "# Adjust the legend\n",
    "ax.legend(loc='upper right')\n",
    "\n",
    "plt.tight_layout()\n",
    "plt.show()\n"
   ]
  },
  {
   "cell_type": "code",
   "execution_count": null,
   "metadata": {},
   "outputs": [],
   "source": [
    "# For each vessel, save the route\n",
    "vessel_routes_incl_wa = {}\n",
    "for vessel in vessels:\n",
    "    vessel_routes_incl_wa[vessel] = []\n",
    "    for arc in vessel_arcs[vessel]:\n",
    "        \n",
    "        if x[arc.tuple, vessel].x > 0 + EBS:\n",
    "            vessel_routes_incl_wa[vessel].append(arc)"
   ]
  },
  {
   "cell_type": "code",
   "execution_count": null,
   "metadata": {},
   "outputs": [
    {
     "data": {
      "text/plain": [
       "[(0, 0) -> (5, 6) --- Cost: 50.0 --- Speed: 0.0,\n",
       " (5, 6) -> (6, 26) --- Cost: 0.0 --- Speed: 0.0]"
      ]
     },
     "execution_count": 85,
     "metadata": {},
     "output_type": "execute_result"
    }
   ],
   "source": [
    "# Sort the arcs in each route by time\n",
    "for vessel in vessels:\n",
    "    vessel_routes_incl_wa[vessel] = sorted(vessel_routes_incl_wa[vessel], key=lambda x: x.origin_node.time)\n",
    "    \n",
    "vessel_routes_incl_wa[vessels[0]]"
   ]
  },
  {
   "cell_type": "code",
   "execution_count": null,
   "metadata": {},
   "outputs": [],
   "source": [
    "# For each vessel, save the route, but only the port-sequence\n",
    "vessel_routes_seq = {}\n",
    "for vessel in vessels:\n",
    "    vessel_routes_seq[vessel] = []\n",
    "    for arc in vessel_arcs[vessel]:\n",
    "        if arc in waiting_arcs[vessel]:\n",
    "            continue\n",
    "        if x[arc.tuple, vessel].x > 0 + EBS :\n",
    "            vessel_routes_seq[vessel].append(arc.destination_node.port.number)\n",
    "            \n",
    "# Drop the last element in each list\n",
    "for vessel in vessels:\n",
    "    vessel_routes_seq[vessel] = vessel_routes_seq[vessel][:-1]\n",
    "    \n",
    "    \n",
    "'''VI MÅ BRUKE O-VARIABLENE FOR Å LAGE RUTEN, ELLERS VIL VI IKKE HA MULIGHET TIL FLERE OPERASJONER ETTER HVERANDRE I EN PORT'''\n",
    "'''SIDEN VI UANSETT KAN LASTE UNLIMITED PÅ EN DAG, VIL IKKE DETTE PÅVIRKE OSS, ETTERSOM DET ALLTID ER BEDRE Å LASTE ALT PÅ EN DAG ISTEDET FOR Å DELE DET OPP'''\n",
    "    "
   ]
  },
  {
   "cell_type": "code",
   "execution_count": null,
   "metadata": {},
   "outputs": [],
   "source": [
    "def visualize_solution_for_vessel(vessel, nodes, vessel_arcs):\n",
    "    # Create a directed graph\n",
    "    G = nx.DiGraph()\n",
    "\n",
    "    # Add nodes to the graph\n",
    "    for node in nodes:\n",
    "        G.add_node(str(node.tuple))\n",
    "\n",
    "    # Add edges (arcs) to the graph\n",
    "    for arc in vessel_arcs[vessel]:\n",
    "        G.add_edge(str(arc.origin_node.tuple), str(arc.destination_node.tuple))\n",
    "\n",
    "    # Determine nodes with incoming and outgoing arcs\n",
    "    nodes_with_incoming_arcs = [node for node, degree in G.in_degree() if degree > 0]\n",
    "    nodes_with_outgoing_arcs = [node for node, degree in G.out_degree() if degree > 0]\n",
    "\n",
    "   # Create a list to hold node colors\n",
    "    node_colors = []\n",
    "    for node_str in G.nodes():\n",
    "        port_number, time = eval(node_str)  # Extract port number and time from the node label\n",
    "        o_value = o.get((port_number, time, vessel))  # Use .get() to safely access the dictionary\n",
    "        if o_value and o_value.x > 0 + EBS:\n",
    "        # if o_value and o_value > 0 + ebs:\n",
    "            \n",
    "            node_colors.append('brown')  # Color for nodes with non-zero q values\n",
    "        elif node_str in nodes_with_incoming_arcs or node_str in nodes_with_outgoing_arcs:\n",
    "            node_colors.append('green')  # Color for nodes with arcs\n",
    "        \n",
    "        else:\n",
    "            node_colors.append('skyblue')  # Default color for nodes without arcs or q values\n",
    "\n",
    "    # Resetting the y_offset and y_spacing\n",
    "    y_offset = 10\n",
    "    y_spacing = -30  # Increase vertical spacing for better clarity\n",
    "\n",
    "    # Manually specify the positions for each node\n",
    "    pos = {}\n",
    "    for node_str in G.nodes():\n",
    "        port_number, time = eval(node_str)  # Extract port number and time from the node label\n",
    "        # The x-coordinate is based on time, the y-coordinate is fixed for nodes with the same port\n",
    "        pos[node_str] = (time * 10, port_number * y_spacing)  # Multiplying time by 10 for better horizontal spacing\n",
    "\n",
    "    # Drawing the graph using the adjusted positions\n",
    "    plt.figure(figsize=(15, 10))\n",
    "    nx.draw(G, pos, with_labels=True, node_size=2000, node_color=node_colors, font_size=10)\n",
    "    labels = nx.get_edge_attributes(G, 'weight')\n",
    "    nx.draw_networkx_edge_labels(G, pos, edge_labels=labels)\n",
    "    plt.title(f\"Nodes and Arcs Graph for {vessel}\")\n",
    "    plt.show()"
   ]
  },
  {
   "cell_type": "code",
   "execution_count": null,
   "metadata": {},
   "outputs": [
    {
     "name": "stdout",
     "output_type": "stream",
     "text": [
      "x[((0, 0), (5, 6)), Vessel 5] = 1.0\n",
      "x[((5, 6), (4, 7)), Vessel 5] = 2.3546653785112022e-06\n",
      "x[((4, 7), (4, 8)), Vessel 5] = 2.3546653785112022e-06\n",
      "x[((4, 8), (4, 9)), Vessel 5] = 2.354998711844536e-06\n",
      "x[((4, 9), (4, 10)), Vessel 5] = 2.35466537846225e-06\n",
      "x[((4, 10), (5, 11)), Vessel 5] = 2.3549987117955837e-06\n",
      "x[((5, 11), (5, 12)), Vessel 5] = 2.3549987117955837e-06\n",
      "x[((5, 12), (5, 13)), Vessel 5] = 2.35466537846225e-06\n",
      "x[((5, 13), (5, 14)), Vessel 5] = 2.35466537846225e-06\n",
      "x[((5, 14), (5, 15)), Vessel 5] = 2.35466537846225e-06\n",
      "x[((5, 15), (5, 16)), Vessel 5] = 2.35466537846225e-06\n",
      "x[((5, 16), (5, 17)), Vessel 5] = 2.35466537846225e-06\n",
      "x[((5, 17), (5, 18)), Vessel 5] = 2.35466537846225e-06\n",
      "x[((5, 18), (5, 19)), Vessel 5] = 2.35466537846225e-06\n",
      "x[((5, 19), (5, 20)), Vessel 5] = 2.35466537846225e-06\n",
      "x[((5, 20), (5, 21)), Vessel 5] = 2.35466537846225e-06\n",
      "x[((5, 21), (5, 22)), Vessel 5] = 2.35466537846225e-06\n",
      "x[((5, 22), (5, 23)), Vessel 5] = 2.35466537846225e-06\n",
      "x[((5, 23), (5, 24)), Vessel 5] = 2.353332045128917e-06\n",
      "x[((5, 24), (5, 25)), Vessel 5] = 2.353332045128917e-06\n",
      "x[((5, 6), (6, 26)), Vessel 5] = 0.9999976435568437\n",
      "x[((5, 25), (6, 26)), Vessel 5] = 2.353332045128917e-06\n",
      "x[((0, 0), (4, 2)), Vessel 7] = 1.0\n",
      "x[((4, 2), (1, 14)), Vessel 7] = 1.0\n",
      "x[((1, 14), (6, 26)), Vessel 7] = 1.0\n",
      "x[((0, 0), (1, 4)), Vessel 10] = 1.0\n",
      "x[((1, 4), (4, 16)), Vessel 10] = 1.0\n",
      "x[((4, 16), (6, 26)), Vessel 10] = 1.0\n",
      "x[((0, 0), (1, 11)), Vessel 11] = 1.0\n",
      "x[((1, 11), (6, 26)), Vessel 11] = 1.0\n",
      "x[((0, 0), (1, 2)), Vessel 12] = 1.0\n",
      "x[((1, 2), (5, 15)), Vessel 12] = 0.9999981193704384\n",
      "x[((1, 2), (6, 26)), Vessel 12] = 1.880238570872506e-06\n",
      "x[((5, 15), (6, 26)), Vessel 12] = 0.9999981197900005\n"
     ]
    }
   ],
   "source": [
    "# Print x vars that are greater than 0\n",
    "for v in vessels:\n",
    "    for arc in vessel_arcs[v]:\n",
    "        if x[arc.tuple, v].x > 0:\n",
    "            print(f'x[{arc.tuple}, {v}] = {x[arc.tuple, v].x}')"
   ]
  },
  {
   "cell_type": "code",
   "execution_count": null,
   "metadata": {},
   "outputs": [],
   "source": [
    "# for v in vessels:\n",
    "#     visualize_solution_for_vessel(v, NODES, vessel_routes_incl_wa)"
   ]
  },
  {
   "cell_type": "code",
   "execution_count": null,
   "metadata": {},
   "outputs": [
    {
     "name": "stdout",
     "output_type": "stream",
     "text": [
      "o[5,6,Vessel 5] 1.0\n",
      "o[4,2,Vessel 7] 1.0\n",
      "o[1,14,Vessel 7] 1.0\n",
      "o[1,4,Vessel 10] 1.0\n",
      "o[4,16,Vessel 10] 1.0\n",
      "o[1,11,Vessel 11] 1.0\n",
      "o[1,2,Vessel 12] 1.0\n",
      "o[5,15,Vessel 12] 0.9999981197614289\n"
     ]
    }
   ],
   "source": [
    "# Print the o vars\n",
    "for v in vessels:\n",
    "    for node in o_dict[v]:\n",
    "        if o[node.port.number, node.time, v].x > 0 + EBS:\n",
    "            print(o[node.port.number, node.time, v].varName, o[node.port.number, node.time, v].x)"
   ]
  },
  {
   "cell_type": "code",
   "execution_count": null,
   "metadata": {},
   "outputs": [
    {
     "name": "stdout",
     "output_type": "stream",
     "text": [
      "q[5,6,Vessel 5] 299.99964650019194\n",
      "q[4,2,Vessel 7] 300.0\n",
      "q[1,14,Vessel 7] 300.0\n",
      "q[1,4,Vessel 10] 300.0\n",
      "q[4,16,Vessel 10] 300.0\n",
      "q[1,11,Vessel 11] 300.0\n",
      "q[1,2,Vessel 12] 165.0\n",
      "q[5,15,Vessel 12] 164.99968969463578\n"
     ]
    }
   ],
   "source": [
    "# Do the same for q-vars\n",
    "for v in vessels:\n",
    "    for node in o_dict[v]:\n",
    "        if q[node.port.number, node.time, v].x > 0 + EBS:\n",
    "            print(q[node.port.number, node.time, v].varName, q[node.port.number, node.time, v].x)"
   ]
  },
  {
   "cell_type": "code",
   "execution_count": null,
   "metadata": {},
   "outputs": [],
   "source": [
    "# Print all x-vars that are 1\n",
    "active_arcs = {}\n",
    "for v in vessels:\n",
    "    v_arcs_active = []\n",
    "    for arc in vessel_arcs[v]:\n",
    "        if x[arc.tuple, v].x > 0 + EBS:\n",
    "            v_arcs_active.append(arc)\n",
    "    active_arcs[v] = v_arcs_active"
   ]
  },
  {
   "cell_type": "markdown",
   "metadata": {},
   "source": [
    "# LOG"
   ]
  },
  {
   "cell_type": "code",
   "execution_count": null,
   "metadata": {},
   "outputs": [],
   "source": [
    "def log(filepath):\n",
    "    # Open a file to write the results\n",
    "    with open(filepath, 'w') as file:\n",
    "        \n",
    "        file.write(\"Hyperparameters:\\n\")\n",
    "        file.write(f\"Number of Time Periods: {NUM_TIME_PERIODS}\\n\")\n",
    "        file.write(f\"Time Period Range: {TIME_PERIOD_RANGE}\\n\")\n",
    "        file.write(f\"Original Number of Vessels: {ORIGINAL_NUM_VESSELS}\\n\")\n",
    "        file.write(f\"Number of Vessels: {NUM_VESSELS}\\n\")\n",
    "        file.write(f\"Max Speed: {MAX_SPEED}\\n\")\n",
    "        file.write(f\"Min Speed: {MIN_SPEED}\\n\")\n",
    "        file.write(f\"Operating Speed: {OPERATING_SPEED}\\n\")\n",
    "        file.write(f\"Operating Cost: {OPERATING_COST}\\n\")\n",
    "        file.write(f\"Waiting Cost: {WAITING_COST}\\n\")\n",
    "        file.write(f\"Fuel Price (USD/ton): {FUEL_PRICE}\\n\\n\")\n",
    "        file.write(f\"Original number of ports: {ORIGINAL_NUM_PORTS}\\n\\n\")\n",
    "        file.write(f\"Number of ports: {NUM_PORTS}\\n\\n\")\n",
    "        \n",
    "        file.write(\"\\nPorts:\\n\")\n",
    "        for port in ports:\n",
    "            file.write(f\"{port.__repr2__()}\\n\")\n",
    "            \n",
    "        file.write(\"\\nVessels:\\n\")\n",
    "        for vessel in vessels:\n",
    "            file.write(f\"{vessel.__repr2__()}\\n\")\n",
    "        \n",
    "        file.write(\"\\nFull distance matrix:\\n\")\n",
    "        for row in FULL_DISTANCE_MATRIX:\n",
    "            row_str = ', '.join([f\"{item:.4f}\" for item in row])  # Format each item in the row\n",
    "            file.write(f\"[{row_str}]\\n\")\n",
    "            \n",
    "        file.write(\"\\n Start times:\\n\")\n",
    "        for vessel in vessels:\n",
    "            file.write(f\"{vessel}: {start_times[vessel]}\\n\")\n",
    "        file.write(\"\\n\")\n",
    "        \n",
    "        file.write(\"----------------------------------------\\n\")\n",
    "        # Write the objective value\n",
    "        file.write(f\"Objective Value: {m.objVal}\\n\")    \n",
    "        file.write(\"----------------------------------------\\n\")\n",
    "        \n",
    "        \n",
    "        # Log the GAP\n",
    "        file.write(\"\\nOptimality Gap:\\n\")\n",
    "        gap_percentage = m.MIPGap * 100  # Convert to percentage\n",
    "        file.write(f\"Current GAP: {gap_percentage:.2f}%\\n\")\n",
    "\n",
    "        \n",
    "        file.write(\"\\nVessel Routes:\\n\")\n",
    "        for vessel, route in vessel_routes_seq.items():\n",
    "            file.write(f\"{vessel}: {route}\\n\")\n",
    "            \n",
    "        # Write the active arcs to file\n",
    "        file.write(\"\\nActive Arcs:\\n\")\n",
    "        for vessel in vessels:\n",
    "            file.write(f\"{vessel}: {[arc for arc in active_arcs[vessel]]}\\n\")\n",
    "        file.write(\"\\n\")\n",
    "        \n",
    "        # Write all arcs to the file\n",
    "        file.write(\"\\nAll Arcs:\\n\")\n",
    "        for vessel in vessels:\n",
    "            file.write(f\"{vessel}: {[arc for arc in vessel_arcs[vessel]]}\\n\")\n",
    "        file.write(\"\\n\")\n",
    "    \n",
    "\n",
    "        # Write the values of all variables\n",
    "        file.write(\"Variable Values:\\n\")\n",
    "        for var in m.getVars():\n",
    "            file.write(f\"{var.varName}: {var.x}\\n\")\n",
    "            \n",
    "        file.close()"
   ]
  },
  {
   "cell_type": "code",
   "execution_count": null,
   "metadata": {},
   "outputs": [],
   "source": [
    "if LOG:\n",
    "    log(FILEPATH)"
   ]
  }
 ],
 "metadata": {
  "kernelspec": {
   "display_name": "env",
   "language": "python",
   "name": "python3"
  },
  "language_info": {
   "codemirror_mode": {
    "name": "ipython",
    "version": 3
   },
   "file_extension": ".py",
   "mimetype": "text/x-python",
   "name": "python",
   "nbconvert_exporter": "python",
   "pygments_lexer": "ipython3",
   "version": "3.10.4"
  },
  "orig_nbformat": 4
 },
 "nbformat": 4,
 "nbformat_minor": 2
}

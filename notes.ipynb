{
 "cells": [
  {
   "cell_type": "code",
   "execution_count": null,
   "metadata": {},
   "outputs": [],
   "source": []
  },
  {
   "cell_type": "markdown",
   "metadata": {},
   "source": [
    "# KJØREPLAN"
   ]
  },
  {
   "cell_type": "markdown",
   "metadata": {},
   "source": [
    "1. Sikre at alle instanser kjører for alle metoder (120 i horisont)\n",
    "    * MIRP først\n",
    "        - Solver\n",
    "        - Normal PS\n",
    "        - Weighted PS\n",
    "        - Rolling Horizon with solver\n",
    "        - Rolling Horizon with normal PS\n",
    "        - Rolling Horizon with WPS\n",
    "    * Deretter alt med MIRPSO\n",
    "        - Solver  \n",
    "        - Normal PS\n",
    "        - Weighted PS\n",
    "        - Rolling Horizon with solver\n",
    "        - Rolling Horizon with normal PS\n",
    "        - Rolling Horizon with WPS\n",
    "\n",
    "2. Velge 3 instanser, RL-agent må trenes på disse.\n",
    "3. Parameter-tuning\n",
    "    * Enkel instans på 120,\n",
    "        - LR1_DR02_VC03_V8a\n",
    "    * Medium enkel  på 180\n",
    "        - LR1_DR05_VC05_V25a\n",
    "    * Vanskelig instans på 360\n",
    "        - LR1_DR08_VC10_V40a\n",
    "4. \n",
    "\n"
   ]
  },
  {
   "cell_type": "markdown",
   "metadata": {},
   "source": []
  }
 ],
 "metadata": {
  "language_info": {
   "name": "python"
  }
 },
 "nbformat": 4,
 "nbformat_minor": 2
}
